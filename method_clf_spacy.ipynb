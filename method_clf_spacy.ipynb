{
  "nbformat": 4,
  "nbformat_minor": 0,
  "metadata": {
    "colab": {
      "name": "method_clf_spacy.ipynb",
      "provenance": [],
      "collapsed_sections": [],
      "mount_file_id": "1g3p2BOjOlIF1djvCCkLok7OzPEVnAR19",
      "authorship_tag": "ABX9TyOMCGP0eXzMLwWeryoNo7Tp",
      "include_colab_link": true
    },
    "kernelspec": {
      "display_name": "Python 3",
      "name": "python3"
    },
    "widgets": {
      "application/vnd.jupyter.widget-state+json": {
        "1f6f3f153a8348c181dce4b9316863e6": {
          "model_module": "@jupyter-widgets/controls",
          "model_name": "HBoxModel",
          "state": {
            "_view_name": "HBoxView",
            "_dom_classes": [],
            "_model_name": "HBoxModel",
            "_view_module": "@jupyter-widgets/controls",
            "_model_module_version": "1.5.0",
            "_view_count": null,
            "_view_module_version": "1.5.0",
            "box_style": "",
            "layout": "IPY_MODEL_897aca3dc0c54ec6b95c82b6e7b6798e",
            "_model_module": "@jupyter-widgets/controls",
            "children": [
              "IPY_MODEL_e7516351daab4fb0b9949163a0913eb7",
              "IPY_MODEL_40fbab16cc7d41d1b2d7486a6d8b629b"
            ]
          }
        },
        "897aca3dc0c54ec6b95c82b6e7b6798e": {
          "model_module": "@jupyter-widgets/base",
          "model_name": "LayoutModel",
          "state": {
            "_view_name": "LayoutView",
            "grid_template_rows": null,
            "right": null,
            "justify_content": null,
            "_view_module": "@jupyter-widgets/base",
            "overflow": null,
            "_model_module_version": "1.2.0",
            "_view_count": null,
            "flex_flow": null,
            "width": null,
            "min_width": null,
            "border": null,
            "align_items": null,
            "bottom": null,
            "_model_module": "@jupyter-widgets/base",
            "top": null,
            "grid_column": null,
            "overflow_y": null,
            "overflow_x": null,
            "grid_auto_flow": null,
            "grid_area": null,
            "grid_template_columns": null,
            "flex": null,
            "_model_name": "LayoutModel",
            "justify_items": null,
            "grid_row": null,
            "max_height": null,
            "align_content": null,
            "visibility": null,
            "align_self": null,
            "height": null,
            "min_height": null,
            "padding": null,
            "grid_auto_rows": null,
            "grid_gap": null,
            "max_width": null,
            "order": null,
            "_view_module_version": "1.2.0",
            "grid_template_areas": null,
            "object_position": null,
            "object_fit": null,
            "grid_auto_columns": null,
            "margin": null,
            "display": null,
            "left": null
          }
        },
        "e7516351daab4fb0b9949163a0913eb7": {
          "model_module": "@jupyter-widgets/controls",
          "model_name": "FloatProgressModel",
          "state": {
            "_view_name": "ProgressView",
            "style": "IPY_MODEL_38efc455983641ab9d35ead30c4cff95",
            "_dom_classes": [],
            "description": "100%",
            "_model_name": "FloatProgressModel",
            "bar_style": "success",
            "max": 2131,
            "_view_module": "@jupyter-widgets/controls",
            "_model_module_version": "1.5.0",
            "value": 2131,
            "_view_count": null,
            "_view_module_version": "1.5.0",
            "orientation": "horizontal",
            "min": 0,
            "description_tooltip": null,
            "_model_module": "@jupyter-widgets/controls",
            "layout": "IPY_MODEL_4e64a556fef84628a0d05c8c1775a37f"
          }
        },
        "40fbab16cc7d41d1b2d7486a6d8b629b": {
          "model_module": "@jupyter-widgets/controls",
          "model_name": "HTMLModel",
          "state": {
            "_view_name": "HTMLView",
            "style": "IPY_MODEL_fb18b873c74043049114b5c92eaa915f",
            "_dom_classes": [],
            "description": "",
            "_model_name": "HTMLModel",
            "placeholder": "​",
            "_view_module": "@jupyter-widgets/controls",
            "_model_module_version": "1.5.0",
            "value": " 2131/2131 [04:43&lt;00:00,  7.51it/s]",
            "_view_count": null,
            "_view_module_version": "1.5.0",
            "description_tooltip": null,
            "_model_module": "@jupyter-widgets/controls",
            "layout": "IPY_MODEL_abe3e30d67df45878d4321e4e796ac3c"
          }
        },
        "38efc455983641ab9d35ead30c4cff95": {
          "model_module": "@jupyter-widgets/controls",
          "model_name": "ProgressStyleModel",
          "state": {
            "_view_name": "StyleView",
            "_model_name": "ProgressStyleModel",
            "description_width": "initial",
            "_view_module": "@jupyter-widgets/base",
            "_model_module_version": "1.5.0",
            "_view_count": null,
            "_view_module_version": "1.2.0",
            "bar_color": null,
            "_model_module": "@jupyter-widgets/controls"
          }
        },
        "4e64a556fef84628a0d05c8c1775a37f": {
          "model_module": "@jupyter-widgets/base",
          "model_name": "LayoutModel",
          "state": {
            "_view_name": "LayoutView",
            "grid_template_rows": null,
            "right": null,
            "justify_content": null,
            "_view_module": "@jupyter-widgets/base",
            "overflow": null,
            "_model_module_version": "1.2.0",
            "_view_count": null,
            "flex_flow": null,
            "width": null,
            "min_width": null,
            "border": null,
            "align_items": null,
            "bottom": null,
            "_model_module": "@jupyter-widgets/base",
            "top": null,
            "grid_column": null,
            "overflow_y": null,
            "overflow_x": null,
            "grid_auto_flow": null,
            "grid_area": null,
            "grid_template_columns": null,
            "flex": null,
            "_model_name": "LayoutModel",
            "justify_items": null,
            "grid_row": null,
            "max_height": null,
            "align_content": null,
            "visibility": null,
            "align_self": null,
            "height": null,
            "min_height": null,
            "padding": null,
            "grid_auto_rows": null,
            "grid_gap": null,
            "max_width": null,
            "order": null,
            "_view_module_version": "1.2.0",
            "grid_template_areas": null,
            "object_position": null,
            "object_fit": null,
            "grid_auto_columns": null,
            "margin": null,
            "display": null,
            "left": null
          }
        },
        "fb18b873c74043049114b5c92eaa915f": {
          "model_module": "@jupyter-widgets/controls",
          "model_name": "DescriptionStyleModel",
          "state": {
            "_view_name": "StyleView",
            "_model_name": "DescriptionStyleModel",
            "description_width": "",
            "_view_module": "@jupyter-widgets/base",
            "_model_module_version": "1.5.0",
            "_view_count": null,
            "_view_module_version": "1.2.0",
            "_model_module": "@jupyter-widgets/controls"
          }
        },
        "abe3e30d67df45878d4321e4e796ac3c": {
          "model_module": "@jupyter-widgets/base",
          "model_name": "LayoutModel",
          "state": {
            "_view_name": "LayoutView",
            "grid_template_rows": null,
            "right": null,
            "justify_content": null,
            "_view_module": "@jupyter-widgets/base",
            "overflow": null,
            "_model_module_version": "1.2.0",
            "_view_count": null,
            "flex_flow": null,
            "width": null,
            "min_width": null,
            "border": null,
            "align_items": null,
            "bottom": null,
            "_model_module": "@jupyter-widgets/base",
            "top": null,
            "grid_column": null,
            "overflow_y": null,
            "overflow_x": null,
            "grid_auto_flow": null,
            "grid_area": null,
            "grid_template_columns": null,
            "flex": null,
            "_model_name": "LayoutModel",
            "justify_items": null,
            "grid_row": null,
            "max_height": null,
            "align_content": null,
            "visibility": null,
            "align_self": null,
            "height": null,
            "min_height": null,
            "padding": null,
            "grid_auto_rows": null,
            "grid_gap": null,
            "max_width": null,
            "order": null,
            "_view_module_version": "1.2.0",
            "grid_template_areas": null,
            "object_position": null,
            "object_fit": null,
            "grid_auto_columns": null,
            "margin": null,
            "display": null,
            "left": null
          }
        },
        "ff8a9c93988e4dec916a475942c72589": {
          "model_module": "@jupyter-widgets/controls",
          "model_name": "HBoxModel",
          "state": {
            "_view_name": "HBoxView",
            "_dom_classes": [],
            "_model_name": "HBoxModel",
            "_view_module": "@jupyter-widgets/controls",
            "_model_module_version": "1.5.0",
            "_view_count": null,
            "_view_module_version": "1.5.0",
            "box_style": "",
            "layout": "IPY_MODEL_f6d13a73bea74db9859cd835398c015d",
            "_model_module": "@jupyter-widgets/controls",
            "children": [
              "IPY_MODEL_d8643e1170254eae8e25bc150be23250",
              "IPY_MODEL_20e7218c0e6b424f802265090e7093c3"
            ]
          }
        },
        "f6d13a73bea74db9859cd835398c015d": {
          "model_module": "@jupyter-widgets/base",
          "model_name": "LayoutModel",
          "state": {
            "_view_name": "LayoutView",
            "grid_template_rows": null,
            "right": null,
            "justify_content": null,
            "_view_module": "@jupyter-widgets/base",
            "overflow": null,
            "_model_module_version": "1.2.0",
            "_view_count": null,
            "flex_flow": null,
            "width": null,
            "min_width": null,
            "border": null,
            "align_items": null,
            "bottom": null,
            "_model_module": "@jupyter-widgets/base",
            "top": null,
            "grid_column": null,
            "overflow_y": null,
            "overflow_x": null,
            "grid_auto_flow": null,
            "grid_area": null,
            "grid_template_columns": null,
            "flex": null,
            "_model_name": "LayoutModel",
            "justify_items": null,
            "grid_row": null,
            "max_height": null,
            "align_content": null,
            "visibility": null,
            "align_self": null,
            "height": null,
            "min_height": null,
            "padding": null,
            "grid_auto_rows": null,
            "grid_gap": null,
            "max_width": null,
            "order": null,
            "_view_module_version": "1.2.0",
            "grid_template_areas": null,
            "object_position": null,
            "object_fit": null,
            "grid_auto_columns": null,
            "margin": null,
            "display": null,
            "left": null
          }
        },
        "d8643e1170254eae8e25bc150be23250": {
          "model_module": "@jupyter-widgets/controls",
          "model_name": "FloatProgressModel",
          "state": {
            "_view_name": "ProgressView",
            "style": "IPY_MODEL_6a2352b9cd7a45fba2a0f5bb79f36809",
            "_dom_classes": [],
            "description": "100%",
            "_model_name": "FloatProgressModel",
            "bar_style": "success",
            "max": 532,
            "_view_module": "@jupyter-widgets/controls",
            "_model_module_version": "1.5.0",
            "value": 532,
            "_view_count": null,
            "_view_module_version": "1.5.0",
            "orientation": "horizontal",
            "min": 0,
            "description_tooltip": null,
            "_model_module": "@jupyter-widgets/controls",
            "layout": "IPY_MODEL_c1fd56e417e540ceb6ed3816a4a357a9"
          }
        },
        "20e7218c0e6b424f802265090e7093c3": {
          "model_module": "@jupyter-widgets/controls",
          "model_name": "HTMLModel",
          "state": {
            "_view_name": "HTMLView",
            "style": "IPY_MODEL_1f5acf9041034c0788252dd550c81c71",
            "_dom_classes": [],
            "description": "",
            "_model_name": "HTMLModel",
            "placeholder": "​",
            "_view_module": "@jupyter-widgets/controls",
            "_model_module_version": "1.5.0",
            "value": " 532/532 [01:12&lt;00:00,  7.31it/s]",
            "_view_count": null,
            "_view_module_version": "1.5.0",
            "description_tooltip": null,
            "_model_module": "@jupyter-widgets/controls",
            "layout": "IPY_MODEL_10c1bf8752cb48589aa9b39f0651a6a0"
          }
        },
        "6a2352b9cd7a45fba2a0f5bb79f36809": {
          "model_module": "@jupyter-widgets/controls",
          "model_name": "ProgressStyleModel",
          "state": {
            "_view_name": "StyleView",
            "_model_name": "ProgressStyleModel",
            "description_width": "initial",
            "_view_module": "@jupyter-widgets/base",
            "_model_module_version": "1.5.0",
            "_view_count": null,
            "_view_module_version": "1.2.0",
            "bar_color": null,
            "_model_module": "@jupyter-widgets/controls"
          }
        },
        "c1fd56e417e540ceb6ed3816a4a357a9": {
          "model_module": "@jupyter-widgets/base",
          "model_name": "LayoutModel",
          "state": {
            "_view_name": "LayoutView",
            "grid_template_rows": null,
            "right": null,
            "justify_content": null,
            "_view_module": "@jupyter-widgets/base",
            "overflow": null,
            "_model_module_version": "1.2.0",
            "_view_count": null,
            "flex_flow": null,
            "width": null,
            "min_width": null,
            "border": null,
            "align_items": null,
            "bottom": null,
            "_model_module": "@jupyter-widgets/base",
            "top": null,
            "grid_column": null,
            "overflow_y": null,
            "overflow_x": null,
            "grid_auto_flow": null,
            "grid_area": null,
            "grid_template_columns": null,
            "flex": null,
            "_model_name": "LayoutModel",
            "justify_items": null,
            "grid_row": null,
            "max_height": null,
            "align_content": null,
            "visibility": null,
            "align_self": null,
            "height": null,
            "min_height": null,
            "padding": null,
            "grid_auto_rows": null,
            "grid_gap": null,
            "max_width": null,
            "order": null,
            "_view_module_version": "1.2.0",
            "grid_template_areas": null,
            "object_position": null,
            "object_fit": null,
            "grid_auto_columns": null,
            "margin": null,
            "display": null,
            "left": null
          }
        },
        "1f5acf9041034c0788252dd550c81c71": {
          "model_module": "@jupyter-widgets/controls",
          "model_name": "DescriptionStyleModel",
          "state": {
            "_view_name": "StyleView",
            "_model_name": "DescriptionStyleModel",
            "description_width": "",
            "_view_module": "@jupyter-widgets/base",
            "_model_module_version": "1.5.0",
            "_view_count": null,
            "_view_module_version": "1.2.0",
            "_model_module": "@jupyter-widgets/controls"
          }
        },
        "10c1bf8752cb48589aa9b39f0651a6a0": {
          "model_module": "@jupyter-widgets/base",
          "model_name": "LayoutModel",
          "state": {
            "_view_name": "LayoutView",
            "grid_template_rows": null,
            "right": null,
            "justify_content": null,
            "_view_module": "@jupyter-widgets/base",
            "overflow": null,
            "_model_module_version": "1.2.0",
            "_view_count": null,
            "flex_flow": null,
            "width": null,
            "min_width": null,
            "border": null,
            "align_items": null,
            "bottom": null,
            "_model_module": "@jupyter-widgets/base",
            "top": null,
            "grid_column": null,
            "overflow_y": null,
            "overflow_x": null,
            "grid_auto_flow": null,
            "grid_area": null,
            "grid_template_columns": null,
            "flex": null,
            "_model_name": "LayoutModel",
            "justify_items": null,
            "grid_row": null,
            "max_height": null,
            "align_content": null,
            "visibility": null,
            "align_self": null,
            "height": null,
            "min_height": null,
            "padding": null,
            "grid_auto_rows": null,
            "grid_gap": null,
            "max_width": null,
            "order": null,
            "_view_module_version": "1.2.0",
            "grid_template_areas": null,
            "object_position": null,
            "object_fit": null,
            "grid_auto_columns": null,
            "margin": null,
            "display": null,
            "left": null
          }
        }
      }
    },
    "accelerator": "GPU"
  },
  "cells": [
    {
      "cell_type": "markdown",
      "metadata": {
        "id": "view-in-github",
        "colab_type": "text"
      },
      "source": [
        "<a href=\"https://colab.research.google.com/github/kurtsenol/Text-Classification/blob/main/method_clf_spacy.ipynb\" target=\"_parent\"><img src=\"https://colab.research.google.com/assets/colab-badge.svg\" alt=\"Open In Colab\"/></a>"
      ]
    },
    {
      "cell_type": "code",
      "metadata": {
        "colab": {
          "base_uri": "https://localhost:8080/"
        },
        "id": "EtlVcAvoXgbs",
        "outputId": "e1d119ce-fe9e-481d-9b7e-cead8d51c74c"
      },
      "source": [
        "!python -m spacy download en_core_web_md"
      ],
      "execution_count": null,
      "outputs": [
        {
          "output_type": "stream",
          "text": [
            "2021-06-13 19:26:07.932704: I tensorflow/stream_executor/platform/default/dso_loader.cc:53] Successfully opened dynamic library libcudart.so.11.0\n",
            "Collecting en_core_web_md==3.0.0\n",
            "\u001b[?25l  Downloading https://github.com/explosion/spacy-models/releases/download/en_core_web_md-3.0.0/en_core_web_md-3.0.0.tar.gz (47.0MB)\n",
            "\u001b[K     |████████████████████████████████| 47.0MB 1.4MB/s \n",
            "\u001b[?25hRequirement already satisfied: spacy<3.1.0,>=3.0.0 in /usr/local/lib/python3.7/dist-packages (from en_core_web_md==3.0.0) (3.0.6)\n",
            "Requirement already satisfied: requests<3.0.0,>=2.13.0 in /usr/local/lib/python3.7/dist-packages (from spacy<3.1.0,>=3.0.0->en_core_web_md==3.0.0) (2.23.0)\n",
            "Requirement already satisfied: thinc<8.1.0,>=8.0.3 in /usr/local/lib/python3.7/dist-packages (from spacy<3.1.0,>=3.0.0->en_core_web_md==3.0.0) (8.0.4)\n",
            "Requirement already satisfied: pydantic<1.8.0,>=1.7.1 in /usr/local/lib/python3.7/dist-packages (from spacy<3.1.0,>=3.0.0->en_core_web_md==3.0.0) (1.7.4)\n",
            "Requirement already satisfied: typer<0.4.0,>=0.3.0 in /usr/local/lib/python3.7/dist-packages (from spacy<3.1.0,>=3.0.0->en_core_web_md==3.0.0) (0.3.2)\n",
            "Requirement already satisfied: murmurhash<1.1.0,>=0.28.0 in /usr/local/lib/python3.7/dist-packages (from spacy<3.1.0,>=3.0.0->en_core_web_md==3.0.0) (1.0.5)\n",
            "Requirement already satisfied: typing-extensions<4.0.0.0,>=3.7.4; python_version < \"3.8\" in /usr/local/lib/python3.7/dist-packages (from spacy<3.1.0,>=3.0.0->en_core_web_md==3.0.0) (3.7.4.3)\n",
            "Requirement already satisfied: packaging>=20.0 in /usr/local/lib/python3.7/dist-packages (from spacy<3.1.0,>=3.0.0->en_core_web_md==3.0.0) (20.9)\n",
            "Requirement already satisfied: catalogue<2.1.0,>=2.0.3 in /usr/local/lib/python3.7/dist-packages (from spacy<3.1.0,>=3.0.0->en_core_web_md==3.0.0) (2.0.4)\n",
            "Requirement already satisfied: setuptools in /usr/local/lib/python3.7/dist-packages (from spacy<3.1.0,>=3.0.0->en_core_web_md==3.0.0) (57.0.0)\n",
            "Requirement already satisfied: blis<0.8.0,>=0.4.0 in /usr/local/lib/python3.7/dist-packages (from spacy<3.1.0,>=3.0.0->en_core_web_md==3.0.0) (0.4.1)\n",
            "Requirement already satisfied: cymem<2.1.0,>=2.0.2 in /usr/local/lib/python3.7/dist-packages (from spacy<3.1.0,>=3.0.0->en_core_web_md==3.0.0) (2.0.5)\n",
            "Requirement already satisfied: tqdm<5.0.0,>=4.38.0 in /usr/local/lib/python3.7/dist-packages (from spacy<3.1.0,>=3.0.0->en_core_web_md==3.0.0) (4.41.1)\n",
            "Requirement already satisfied: preshed<3.1.0,>=3.0.2 in /usr/local/lib/python3.7/dist-packages (from spacy<3.1.0,>=3.0.0->en_core_web_md==3.0.0) (3.0.5)\n",
            "Requirement already satisfied: pathy>=0.3.5 in /usr/local/lib/python3.7/dist-packages (from spacy<3.1.0,>=3.0.0->en_core_web_md==3.0.0) (0.5.2)\n",
            "Requirement already satisfied: srsly<3.0.0,>=2.4.1 in /usr/local/lib/python3.7/dist-packages (from spacy<3.1.0,>=3.0.0->en_core_web_md==3.0.0) (2.4.1)\n",
            "Requirement already satisfied: spacy-legacy<3.1.0,>=3.0.4 in /usr/local/lib/python3.7/dist-packages (from spacy<3.1.0,>=3.0.0->en_core_web_md==3.0.0) (3.0.5)\n",
            "Requirement already satisfied: numpy>=1.15.0 in /usr/local/lib/python3.7/dist-packages (from spacy<3.1.0,>=3.0.0->en_core_web_md==3.0.0) (1.19.5)\n",
            "Requirement already satisfied: jinja2 in /usr/local/lib/python3.7/dist-packages (from spacy<3.1.0,>=3.0.0->en_core_web_md==3.0.0) (2.11.3)\n",
            "Requirement already satisfied: wasabi<1.1.0,>=0.8.1 in /usr/local/lib/python3.7/dist-packages (from spacy<3.1.0,>=3.0.0->en_core_web_md==3.0.0) (0.8.2)\n",
            "Requirement already satisfied: urllib3!=1.25.0,!=1.25.1,<1.26,>=1.21.1 in /usr/local/lib/python3.7/dist-packages (from requests<3.0.0,>=2.13.0->spacy<3.1.0,>=3.0.0->en_core_web_md==3.0.0) (1.24.3)\n",
            "Requirement already satisfied: certifi>=2017.4.17 in /usr/local/lib/python3.7/dist-packages (from requests<3.0.0,>=2.13.0->spacy<3.1.0,>=3.0.0->en_core_web_md==3.0.0) (2020.12.5)\n",
            "Requirement already satisfied: chardet<4,>=3.0.2 in /usr/local/lib/python3.7/dist-packages (from requests<3.0.0,>=2.13.0->spacy<3.1.0,>=3.0.0->en_core_web_md==3.0.0) (3.0.4)\n",
            "Requirement already satisfied: idna<3,>=2.5 in /usr/local/lib/python3.7/dist-packages (from requests<3.0.0,>=2.13.0->spacy<3.1.0,>=3.0.0->en_core_web_md==3.0.0) (2.10)\n",
            "Requirement already satisfied: click<7.2.0,>=7.1.1 in /usr/local/lib/python3.7/dist-packages (from typer<0.4.0,>=0.3.0->spacy<3.1.0,>=3.0.0->en_core_web_md==3.0.0) (7.1.2)\n",
            "Requirement already satisfied: pyparsing>=2.0.2 in /usr/local/lib/python3.7/dist-packages (from packaging>=20.0->spacy<3.1.0,>=3.0.0->en_core_web_md==3.0.0) (2.4.7)\n",
            "Requirement already satisfied: zipp>=0.5; python_version < \"3.8\" in /usr/local/lib/python3.7/dist-packages (from catalogue<2.1.0,>=2.0.3->spacy<3.1.0,>=3.0.0->en_core_web_md==3.0.0) (3.4.1)\n",
            "Requirement already satisfied: smart-open<4.0.0,>=2.2.0 in /usr/local/lib/python3.7/dist-packages (from pathy>=0.3.5->spacy<3.1.0,>=3.0.0->en_core_web_md==3.0.0) (3.0.0)\n",
            "Requirement already satisfied: MarkupSafe>=0.23 in /usr/local/lib/python3.7/dist-packages (from jinja2->spacy<3.1.0,>=3.0.0->en_core_web_md==3.0.0) (2.0.1)\n",
            "Building wheels for collected packages: en-core-web-md\n",
            "  Building wheel for en-core-web-md (setup.py) ... \u001b[?25l\u001b[?25hdone\n",
            "  Created wheel for en-core-web-md: filename=en_core_web_md-3.0.0-cp37-none-any.whl size=47053328 sha256=525de39083776c6f1547ebbd6655dbc676d23ddd4b4ec700173a5df3734ef6a4\n",
            "  Stored in directory: /tmp/pip-ephem-wheel-cache-3ko6r0qz/wheels/cb/6f/06/9906cf4354d5f0531970b1e8006212894afe8f551d673e6d87\n",
            "Successfully built en-core-web-md\n",
            "Installing collected packages: en-core-web-md\n",
            "  Found existing installation: en-core-web-md 2.2.5\n",
            "    Uninstalling en-core-web-md-2.2.5:\n",
            "      Successfully uninstalled en-core-web-md-2.2.5\n",
            "Successfully installed en-core-web-md-3.0.0\n",
            "\u001b[38;5;2m✔ Download and installation successful\u001b[0m\n",
            "You can now load the package via spacy.load('en_core_web_md')\n"
          ],
          "name": "stdout"
        }
      ]
    },
    {
      "cell_type": "code",
      "metadata": {
        "id": "Kbf5SBqJNVg2",
        "colab": {
          "base_uri": "https://localhost:8080/"
        },
        "outputId": "19ada17b-2abc-482c-a1d4-fbbe192b9083"
      },
      "source": [
        "pip install spacy-transformers"
      ],
      "execution_count": null,
      "outputs": [
        {
          "output_type": "stream",
          "text": [
            "Requirement already satisfied: spacy-transformers in /usr/local/lib/python3.7/dist-packages (1.0.2)\n",
            "Requirement already satisfied: torch>=1.5.0 in /usr/local/lib/python3.7/dist-packages (from spacy-transformers) (1.8.1+cu101)\n",
            "Requirement already satisfied: spacy-alignments<1.0.0,>=0.7.2 in /usr/local/lib/python3.7/dist-packages (from spacy-transformers) (0.8.3)\n",
            "Requirement already satisfied: srsly<3.0.0,>=2.4.0 in /usr/local/lib/python3.7/dist-packages (from spacy-transformers) (2.4.1)\n",
            "Requirement already satisfied: spacy<3.1.0,>=3.0.0 in /usr/local/lib/python3.7/dist-packages (from spacy-transformers) (3.0.6)\n",
            "Requirement already satisfied: transformers<4.6.0,>=3.4.0 in /usr/local/lib/python3.7/dist-packages (from spacy-transformers) (4.5.1)\n",
            "Requirement already satisfied: numpy in /usr/local/lib/python3.7/dist-packages (from torch>=1.5.0->spacy-transformers) (1.19.5)\n",
            "Requirement already satisfied: typing-extensions in /usr/local/lib/python3.7/dist-packages (from torch>=1.5.0->spacy-transformers) (3.7.4.3)\n",
            "Requirement already satisfied: catalogue<2.1.0,>=2.0.1 in /usr/local/lib/python3.7/dist-packages (from srsly<3.0.0,>=2.4.0->spacy-transformers) (2.0.4)\n",
            "Requirement already satisfied: jinja2 in /usr/local/lib/python3.7/dist-packages (from spacy<3.1.0,>=3.0.0->spacy-transformers) (2.11.3)\n",
            "Requirement already satisfied: requests<3.0.0,>=2.13.0 in /usr/local/lib/python3.7/dist-packages (from spacy<3.1.0,>=3.0.0->spacy-transformers) (2.23.0)\n",
            "Requirement already satisfied: cymem<2.1.0,>=2.0.2 in /usr/local/lib/python3.7/dist-packages (from spacy<3.1.0,>=3.0.0->spacy-transformers) (2.0.5)\n",
            "Requirement already satisfied: tqdm<5.0.0,>=4.38.0 in /usr/local/lib/python3.7/dist-packages (from spacy<3.1.0,>=3.0.0->spacy-transformers) (4.41.1)\n",
            "Requirement already satisfied: pathy>=0.3.5 in /usr/local/lib/python3.7/dist-packages (from spacy<3.1.0,>=3.0.0->spacy-transformers) (0.5.2)\n",
            "Requirement already satisfied: packaging>=20.0 in /usr/local/lib/python3.7/dist-packages (from spacy<3.1.0,>=3.0.0->spacy-transformers) (20.9)\n",
            "Requirement already satisfied: typer<0.4.0,>=0.3.0 in /usr/local/lib/python3.7/dist-packages (from spacy<3.1.0,>=3.0.0->spacy-transformers) (0.3.2)\n",
            "Requirement already satisfied: wasabi<1.1.0,>=0.8.1 in /usr/local/lib/python3.7/dist-packages (from spacy<3.1.0,>=3.0.0->spacy-transformers) (0.8.2)\n",
            "Requirement already satisfied: spacy-legacy<3.1.0,>=3.0.4 in /usr/local/lib/python3.7/dist-packages (from spacy<3.1.0,>=3.0.0->spacy-transformers) (3.0.5)\n",
            "Requirement already satisfied: setuptools in /usr/local/lib/python3.7/dist-packages (from spacy<3.1.0,>=3.0.0->spacy-transformers) (57.0.0)\n",
            "Requirement already satisfied: murmurhash<1.1.0,>=0.28.0 in /usr/local/lib/python3.7/dist-packages (from spacy<3.1.0,>=3.0.0->spacy-transformers) (1.0.5)\n",
            "Requirement already satisfied: thinc<8.1.0,>=8.0.3 in /usr/local/lib/python3.7/dist-packages (from spacy<3.1.0,>=3.0.0->spacy-transformers) (8.0.4)\n",
            "Requirement already satisfied: pydantic<1.8.0,>=1.7.1 in /usr/local/lib/python3.7/dist-packages (from spacy<3.1.0,>=3.0.0->spacy-transformers) (1.7.4)\n",
            "Requirement already satisfied: blis<0.8.0,>=0.4.0 in /usr/local/lib/python3.7/dist-packages (from spacy<3.1.0,>=3.0.0->spacy-transformers) (0.4.1)\n",
            "Requirement already satisfied: preshed<3.1.0,>=3.0.2 in /usr/local/lib/python3.7/dist-packages (from spacy<3.1.0,>=3.0.0->spacy-transformers) (3.0.5)\n",
            "Requirement already satisfied: tokenizers<0.11,>=0.10.1 in /usr/local/lib/python3.7/dist-packages (from transformers<4.6.0,>=3.4.0->spacy-transformers) (0.10.3)\n",
            "Requirement already satisfied: regex!=2019.12.17 in /usr/local/lib/python3.7/dist-packages (from transformers<4.6.0,>=3.4.0->spacy-transformers) (2019.12.20)\n",
            "Requirement already satisfied: sacremoses in /usr/local/lib/python3.7/dist-packages (from transformers<4.6.0,>=3.4.0->spacy-transformers) (0.0.45)\n",
            "Requirement already satisfied: importlib-metadata; python_version < \"3.8\" in /usr/local/lib/python3.7/dist-packages (from transformers<4.6.0,>=3.4.0->spacy-transformers) (4.0.1)\n",
            "Requirement already satisfied: filelock in /usr/local/lib/python3.7/dist-packages (from transformers<4.6.0,>=3.4.0->spacy-transformers) (3.0.12)\n",
            "Requirement already satisfied: zipp>=0.5; python_version < \"3.8\" in /usr/local/lib/python3.7/dist-packages (from catalogue<2.1.0,>=2.0.1->srsly<3.0.0,>=2.4.0->spacy-transformers) (3.4.1)\n",
            "Requirement already satisfied: MarkupSafe>=0.23 in /usr/local/lib/python3.7/dist-packages (from jinja2->spacy<3.1.0,>=3.0.0->spacy-transformers) (2.0.1)\n",
            "Requirement already satisfied: certifi>=2017.4.17 in /usr/local/lib/python3.7/dist-packages (from requests<3.0.0,>=2.13.0->spacy<3.1.0,>=3.0.0->spacy-transformers) (2020.12.5)\n",
            "Requirement already satisfied: idna<3,>=2.5 in /usr/local/lib/python3.7/dist-packages (from requests<3.0.0,>=2.13.0->spacy<3.1.0,>=3.0.0->spacy-transformers) (2.10)\n",
            "Requirement already satisfied: urllib3!=1.25.0,!=1.25.1,<1.26,>=1.21.1 in /usr/local/lib/python3.7/dist-packages (from requests<3.0.0,>=2.13.0->spacy<3.1.0,>=3.0.0->spacy-transformers) (1.24.3)\n",
            "Requirement already satisfied: chardet<4,>=3.0.2 in /usr/local/lib/python3.7/dist-packages (from requests<3.0.0,>=2.13.0->spacy<3.1.0,>=3.0.0->spacy-transformers) (3.0.4)\n",
            "Requirement already satisfied: smart-open<4.0.0,>=2.2.0 in /usr/local/lib/python3.7/dist-packages (from pathy>=0.3.5->spacy<3.1.0,>=3.0.0->spacy-transformers) (3.0.0)\n",
            "Requirement already satisfied: pyparsing>=2.0.2 in /usr/local/lib/python3.7/dist-packages (from packaging>=20.0->spacy<3.1.0,>=3.0.0->spacy-transformers) (2.4.7)\n",
            "Requirement already satisfied: click<7.2.0,>=7.1.1 in /usr/local/lib/python3.7/dist-packages (from typer<0.4.0,>=0.3.0->spacy<3.1.0,>=3.0.0->spacy-transformers) (7.1.2)\n",
            "Requirement already satisfied: six in /usr/local/lib/python3.7/dist-packages (from sacremoses->transformers<4.6.0,>=3.4.0->spacy-transformers) (1.15.0)\n",
            "Requirement already satisfied: joblib in /usr/local/lib/python3.7/dist-packages (from sacremoses->transformers<4.6.0,>=3.4.0->spacy-transformers) (1.0.1)\n"
          ],
          "name": "stdout"
        }
      ]
    },
    {
      "cell_type": "code",
      "metadata": {
        "colab": {
          "base_uri": "https://localhost:8080/"
        },
        "id": "BxbFjBsRXccs",
        "outputId": "e7acc385-c909-4e03-c7bb-19b65cb18772"
      },
      "source": [
        "pip install spacy-nightly"
      ],
      "execution_count": null,
      "outputs": [
        {
          "output_type": "stream",
          "text": [
            "Requirement already satisfied: spacy-nightly in /usr/local/lib/python3.7/dist-packages (3.0.0rc5)\n",
            "Requirement already satisfied: packaging>=20.0 in /usr/local/lib/python3.7/dist-packages (from spacy-nightly) (20.9)\n",
            "Requirement already satisfied: catalogue<2.1.0,>=2.0.1 in /usr/local/lib/python3.7/dist-packages (from spacy-nightly) (2.0.4)\n",
            "Requirement already satisfied: preshed<3.1.0,>=3.0.2 in /usr/local/lib/python3.7/dist-packages (from spacy-nightly) (3.0.5)\n",
            "Requirement already satisfied: requests<3.0.0,>=2.13.0 in /usr/local/lib/python3.7/dist-packages (from spacy-nightly) (2.23.0)\n",
            "Requirement already satisfied: pydantic<1.8.0,>=1.7.1 in /usr/local/lib/python3.7/dist-packages (from spacy-nightly) (1.7.4)\n",
            "Requirement already satisfied: importlib-metadata>=0.20; python_version < \"3.8\" in /usr/local/lib/python3.7/dist-packages (from spacy-nightly) (4.0.1)\n",
            "Requirement already satisfied: tqdm<5.0.0,>=4.38.0 in /usr/local/lib/python3.7/dist-packages (from spacy-nightly) (4.41.1)\n",
            "Requirement already satisfied: spacy-legacy<3.1.0,>=3.0.0.dev0 in /usr/local/lib/python3.7/dist-packages (from spacy-nightly) (3.0.5)\n",
            "Requirement already satisfied: murmurhash<1.1.0,>=0.28.0 in /usr/local/lib/python3.7/dist-packages (from spacy-nightly) (1.0.5)\n",
            "Requirement already satisfied: cymem<2.1.0,>=2.0.2 in /usr/local/lib/python3.7/dist-packages (from spacy-nightly) (2.0.5)\n",
            "Requirement already satisfied: wasabi<1.1.0,>=0.8.1 in /usr/local/lib/python3.7/dist-packages (from spacy-nightly) (0.8.2)\n",
            "Requirement already satisfied: numpy>=1.15.0 in /usr/local/lib/python3.7/dist-packages (from spacy-nightly) (1.19.5)\n",
            "Requirement already satisfied: thinc<8.1.0,>=8.0.0 in /usr/local/lib/python3.7/dist-packages (from spacy-nightly) (8.0.4)\n",
            "Requirement already satisfied: spacy-nightly in /usr/local/lib/python3.7/dist-packages (3.0.0rc5)\n",
            "Requirement already satisfied: packaging>=20.0 in /usr/local/lib/python3.7/dist-packages (from spacy-nightly) (20.9)\n",
            "Requirement already satisfied: catalogue<2.1.0,>=2.0.1 in /usr/local/lib/python3.7/dist-packages (from spacy-nightly) (2.0.4)\n",
            "Requirement already satisfied: preshed<3.1.0,>=3.0.2 in /usr/local/lib/python3.7/dist-packages (from spacy-nightly) (3.0.5)\n",
            "Requirement already satisfied: requests<3.0.0,>=2.13.0 in /usr/local/lib/python3.7/dist-packages (from spacy-nightly) (2.23.0)\n",
            "Requirement already satisfied: pydantic<1.8.0,>=1.7.1 in /usr/local/lib/python3.7/dist-packages (from spacy-nightly) (1.7.4)\n",
            "Requirement already satisfied: importlib-metadata>=0.20; python_version < \"3.8\" in /usr/local/lib/python3.7/dist-packages (from spacy-nightly) (4.0.1)\n",
            "Requirement already satisfied: tqdm<5.0.0,>=4.38.0 in /usr/local/lib/python3.7/dist-packages (from spacy-nightly) (4.41.1)\n",
            "Requirement already satisfied: spacy-legacy<3.1.0,>=3.0.0.dev0 in /usr/local/lib/python3.7/dist-packages (from spacy-nightly) (3.0.5)\n",
            "Requirement already satisfied: murmurhash<1.1.0,>=0.28.0 in /usr/local/lib/python3.7/dist-packages (from spacy-nightly) (1.0.5)\n",
            "Requirement already satisfied: cymem<2.1.0,>=2.0.2 in /usr/local/lib/python3.7/dist-packages (from spacy-nightly) (2.0.5)\n",
            "Requirement already satisfied: wasabi<1.1.0,>=0.8.1 in /usr/local/lib/python3.7/dist-packages (from spacy-nightly) (0.8.2)\n",
            "Requirement already satisfied: numpy>=1.15.0 in /usr/local/lib/python3.7/dist-packages (from spacy-nightly) (1.19.5)\n",
            "Requirement already satisfied: thinc<8.1.0,>=8.0.0 in /usr/local/lib/python3.7/dist-packages (from spacy-nightly) (8.0.4)\n",
            "Requirement already satisfied: srsly<3.0.0,>=2.3.0 in /usr/local/lib/python3.7/dist-packages (from spacy-nightly) (2.4.1)\n",
            "Requirement already satisfied: pathy in /usr/local/lib/python3.7/dist-packages (from spacy-nightly) (0.5.2)\n",
            "Requirement already satisfied: typer<0.4.0,>=0.3.0 in /usr/local/lib/python3.7/dist-packages (from spacy-nightly) (0.3.2)\n",
            "Requirement already satisfied: blis<0.8.0,>=0.4.0 in /usr/local/lib/python3.7/dist-packages (from spacy-nightly) (0.4.1)\n",
            "Requirement already satisfied: setuptools in /usr/local/lib/python3.7/dist-packages (from spacy-nightly) (57.0.0)\n",
            "Requirement already satisfied: typing-extensions>=3.7.4; python_version < \"3.8\" in /usr/local/lib/python3.7/dist-packages (from spacy-nightly) (3.7.4.3)\n",
            "Requirement already satisfied: jinja2 in /usr/local/lib/python3.7/dist-packages (from spacy-nightly) (2.11.3)\n",
            "Requirement already satisfied: pyparsing>=2.0.2 in /usr/local/lib/python3.7/dist-packages (from packaging>=20.0->spacy-nightly) (2.4.7)\n",
            "Requirement already satisfied: zipp>=0.5; python_version < \"3.8\" in /usr/local/lib/python3.7/dist-packages (from catalogue<2.1.0,>=2.0.1->spacy-nightly) (3.4.1)\n",
            "Requirement already satisfied: urllib3!=1.25.0,!=1.25.1,<1.26,>=1.21.1 in /usr/local/lib/python3.7/dist-packages (from requests<3.0.0,>=2.13.0->spacy-nightly) (1.24.3)\n",
            "Requirement already satisfied: idna<3,>=2.5 in /usr/local/lib/python3.7/dist-packages (from requests<3.0.0,>=2.13.0->spacy-nightly) (2.10)\n",
            "Requirement already satisfied: chardet<4,>=3.0.2 in /usr/local/lib/python3.7/dist-packages (from requests<3.0.0,>=2.13.0->spacy-nightly) (3.0.4)\n",
            "Requirement already satisfied: certifi>=2017.4.17 in /usr/local/lib/python3.7/dist-packages (from requests<3.0.0,>=2.13.0->spacy-nightly) (2020.12.5)\n",
            "Requirement already satisfied: smart-open<4.0.0,>=2.2.0 in /usr/local/lib/python3.7/dist-packages (from pathy->spacy-nightly) (3.0.0)\n",
            "Requirement already satisfied: click<7.2.0,>=7.1.1 in /usr/local/lib/python3.7/dist-packages (from typer<0.4.0,>=0.3.0->spacy-nightly) (7.1.2)\n",
            "Requirement already satisfied: MarkupSafe>=0.23 in /usr/local/lib/python3.7/dist-packages (from jinja2->spacy-nightly) (2.0.1)\n",
            "Requirement already satisfied: srsly<3.0.0,>=2.3.0 in /usr/local/lib/python3.7/dist-packages (from spacy-nightly) (2.4.1)\n",
            "Requirement already satisfied: pathy in /usr/local/lib/python3.7/dist-packages (from spacy-nightly) (0.5.2)\n",
            "Requirement already satisfied: typer<0.4.0,>=0.3.0 in /usr/local/lib/python3.7/dist-packages (from spacy-nightly) (0.3.2)\n",
            "Requirement already satisfied: blis<0.8.0,>=0.4.0 in /usr/local/lib/python3.7/dist-packages (from spacy-nightly) (0.4.1)\n",
            "Requirement already satisfied: setuptools in /usr/local/lib/python3.7/dist-packages (from spacy-nightly) (57.0.0)\n",
            "Requirement already satisfied: typing-extensions>=3.7.4; python_version < \"3.8\" in /usr/local/lib/python3.7/dist-packages (from spacy-nightly) (3.7.4.3)\n",
            "Requirement already satisfied: jinja2 in /usr/local/lib/python3.7/dist-packages (from spacy-nightly) (2.11.3)\n",
            "Requirement already satisfied: pyparsing>=2.0.2 in /usr/local/lib/python3.7/dist-packages (from packaging>=20.0->spacy-nightly) (2.4.7)\n",
            "Requirement already satisfied: zipp>=0.5; python_version < \"3.8\" in /usr/local/lib/python3.7/dist-packages (from catalogue<2.1.0,>=2.0.1->spacy-nightly) (3.4.1)\n",
            "Requirement already satisfied: urllib3!=1.25.0,!=1.25.1,<1.26,>=1.21.1 in /usr/local/lib/python3.7/dist-packages (from requests<3.0.0,>=2.13.0->spacy-nightly) (1.24.3)\n",
            "Requirement already satisfied: idna<3,>=2.5 in /usr/local/lib/python3.7/dist-packages (from requests<3.0.0,>=2.13.0->spacy-nightly) (2.10)\n",
            "Requirement already satisfied: chardet<4,>=3.0.2 in /usr/local/lib/python3.7/dist-packages (from requests<3.0.0,>=2.13.0->spacy-nightly) (3.0.4)\n",
            "Requirement already satisfied: certifi>=2017.4.17 in /usr/local/lib/python3.7/dist-packages (from requests<3.0.0,>=2.13.0->spacy-nightly) (2020.12.5)\n",
            "Requirement already satisfied: smart-open<4.0.0,>=2.2.0 in /usr/local/lib/python3.7/dist-packages (from pathy->spacy-nightly) (3.0.0)\n",
            "Requirement already satisfied: click<7.2.0,>=7.1.1 in /usr/local/lib/python3.7/dist-packages (from typer<0.4.0,>=0.3.0->spacy-nightly) (7.1.2)\n",
            "Requirement already satisfied: MarkupSafe>=0.23 in /usr/local/lib/python3.7/dist-packages (from jinja2->spacy-nightly) (2.0.1)\n"
          ],
          "name": "stdout"
        }
      ]
    },
    {
      "cell_type": "code",
      "metadata": {
        "id": "6vE0dWdsDuZp"
      },
      "source": [
        ""
      ],
      "execution_count": null,
      "outputs": []
    },
    {
      "cell_type": "code",
      "metadata": {
        "id": "EMc8rSoMX-4A",
        "colab": {
          "base_uri": "https://localhost:8080/"
        },
        "outputId": "dd36fd53-4ce3-45a8-d4a8-c7f59904e6f8"
      },
      "source": [
        "# spaCy\n",
        "import spacy\n",
        "nlp = spacy.load('en_core_web_md')\n",
        "# nlp = spacy.load('en_core_web_sm')"
      ],
      "execution_count": null,
      "outputs": [
        {
          "output_type": "stream",
          "text": [
            "/usr/local/lib/python3.7/dist-packages/spacy/util.py:693: UserWarning: [W095] Model 'en_core_web_md' (3.0.0) requires spaCy >=3.0.0,<3.1.0 and is incompatible with the current version (3.0.0rc5). This may lead to unexpected results or runtime errors. To resolve this, download a newer compatible model or retrain your custom model with the current spaCy version. For more details and available updates, run: python -m spacy validate\n",
            "  warnings.warn(warn_msg)\n",
            "/usr/local/lib/python3.7/dist-packages/spacy/util.py:693: UserWarning: [W095] Model 'en_core_web_md' (3.0.0) requires spaCy >=3.0.0,<3.1.0 and is incompatible with the current version (3.0.0rc5). This may lead to unexpected results or runtime errors. To resolve this, download a newer compatible model or retrain your custom model with the current spaCy version. For more details and available updates, run: python -m spacy validate\n",
            "  warnings.warn(warn_msg)\n"
          ],
          "name": "stderr"
        }
      ]
    },
    {
      "cell_type": "code",
      "metadata": {
        "colab": {
          "base_uri": "https://localhost:8080/"
        },
        "id": "kszMxFkRQq9J",
        "outputId": "8ab02cb9-1155-4764-bb8f-face3158ba6a"
      },
      "source": [
        "!pip3 install pickle5"
      ],
      "execution_count": null,
      "outputs": [
        {
          "output_type": "stream",
          "text": [
            "Collecting pickle5\n",
            "\u001b[?25l  Downloading https://files.pythonhosted.org/packages/f7/4c/5c4dd0462c8d3a6bc4af500a6af240763c2ebd1efdc736fc2c946d44b70a/pickle5-0.0.11.tar.gz (132kB)\n",
            "\u001b[K     |████████████████████████████████| 133kB 32.1MB/s \n",
            "Collecting pickle5\n",
            "\u001b[?25l  Downloading https://files.pythonhosted.org/packages/f7/4c/5c4dd0462c8d3a6bc4af500a6af240763c2ebd1efdc736fc2c946d44b70a/pickle5-0.0.11.tar.gz (132kB)\n",
            "\u001b[K     |████████████████████████████████| 133kB 32.1MB/s \n",
            "\u001b[?25hBuilding wheels for collected packages: pickle5\n",
            "\u001b[?25hBuilding wheels for collected packages: pickle5\n",
            "  Building wheel for pickle5 (setup.py) ... \u001b[?25l\u001b[?25hdone\n",
            "  Created wheel for pickle5: filename=pickle5-0.0.11-cp37-cp37m-linux_x86_64.whl size=219265 sha256=5f4fb55189c776063130c34d0bd71f91844e96d43d32d315b2ccbacc1ba6199d\n",
            "  Stored in directory: /root/.cache/pip/wheels/a6/90/95/f889ca4aa8b0e0c7f21c8470b6f5d6032f0390a3a141a9a3bd\n",
            "Successfully built pickle5\n",
            "  Building wheel for pickle5 (setup.py) ... \u001b[?25l\u001b[?25hdone\n",
            "  Created wheel for pickle5: filename=pickle5-0.0.11-cp37-cp37m-linux_x86_64.whl size=219265 sha256=5f4fb55189c776063130c34d0bd71f91844e96d43d32d315b2ccbacc1ba6199d\n",
            "  Stored in directory: /root/.cache/pip/wheels/a6/90/95/f889ca4aa8b0e0c7f21c8470b6f5d6032f0390a3a141a9a3bd\n",
            "Successfully built pickle5\n",
            "Installing collected packages: pickle5\n",
            "Successfully installed pickle5-0.0.11\n",
            "Installing collected packages: pickle5\n",
            "Successfully installed pickle5-0.0.11\n"
          ],
          "name": "stdout"
        }
      ]
    },
    {
      "cell_type": "code",
      "metadata": {
        "id": "jjTJvW85QuGy"
      },
      "source": [
        "import os\n",
        "import numpy as np\n",
        "import pandas as pd\n",
        "import pickle5 as pickle\n",
        "import re\n",
        "import random"
      ],
      "execution_count": null,
      "outputs": []
    },
    {
      "cell_type": "code",
      "metadata": {
        "colab": {
          "base_uri": "https://localhost:8080/",
          "height": 874
        },
        "id": "WA3pN0_TR1h9",
        "outputId": "68f55d2a-8239-4d89-d778-d1bd96783c66"
      },
      "source": [
        "df_method =pd.read_pickle(\"/content/drive/MyDrive/Colab Notebooks/TopicModeling/Methodology/df_method.pkl\")\n",
        "df_method"
      ],
      "execution_count": null,
      "outputs": [
        {
          "output_type": "execute_result",
          "data": {
            "text/html": [
              "<div>\n",
              "<style scoped>\n",
              "    .dataframe tbody tr th:only-of-type {\n",
              "        vertical-align: middle;\n",
              "    }\n",
              "\n",
              "    .dataframe tbody tr th {\n",
              "        vertical-align: top;\n",
              "    }\n",
              "\n",
              "    .dataframe thead th {\n",
              "        text-align: right;\n",
              "    }\n",
              "</style>\n",
              "<table border=\"1\" class=\"dataframe\">\n",
              "  <thead>\n",
              "    <tr style=\"text-align: right;\">\n",
              "      <th></th>\n",
              "      <th>JO</th>\n",
              "      <th>AU</th>\n",
              "      <th>TI</th>\n",
              "      <th>PY</th>\n",
              "      <th>DI</th>\n",
              "      <th>QUANTITATIVE</th>\n",
              "      <th>Method</th>\n",
              "      <th>category</th>\n",
              "      <th>CMB</th>\n",
              "      <th>CMV</th>\n",
              "      <th>MB</th>\n",
              "      <th>MV</th>\n",
              "      <th>MSD</th>\n",
              "      <th>MR</th>\n",
              "      <th>SR</th>\n",
              "      <th>SED</th>\n",
              "      <th>MED</th>\n",
              "      <th>TSM</th>\n",
              "      <th>TLD</th>\n",
              "      <th>PSM</th>\n",
              "      <th>MSM</th>\n",
              "      <th>A</th>\n",
              "      <th>C</th>\n",
              "      <th>CBQO</th>\n",
              "      <th>DBQ</th>\n",
              "      <th>UEB</th>\n",
              "      <th>HSF</th>\n",
              "      <th>PSD</th>\n",
              "      <th>MV.1</th>\n",
              "      <th>GFS</th>\n",
              "      <th>DMLMF</th>\n",
              "      <th>SULMF</th>\n",
              "    </tr>\n",
              "  </thead>\n",
              "  <tbody>\n",
              "    <tr>\n",
              "      <th>0</th>\n",
              "      <td>IJCHM</td>\n",
              "      <td>Ineson, EM; Comic, D; Kalmic, L</td>\n",
              "      <td>Towards a hierarchy of hotel guests' in-room n...</td>\n",
              "      <td>2019.0</td>\n",
              "      <td>10.1108/IJCHM-01-2019-0061</td>\n",
              "      <td>0</td>\n",
              "      <td>phenomenology</td>\n",
              "      <td>CMB-free</td>\n",
              "      <td>0</td>\n",
              "      <td>0</td>\n",
              "      <td>0.0</td>\n",
              "      <td>0.0</td>\n",
              "      <td>0.0</td>\n",
              "      <td>0.0</td>\n",
              "      <td>0.0</td>\n",
              "      <td>0.0</td>\n",
              "      <td>0.0</td>\n",
              "      <td>0.0</td>\n",
              "      <td>0.0</td>\n",
              "      <td>0.0</td>\n",
              "      <td>0.0</td>\n",
              "      <td>0.0</td>\n",
              "      <td>0.0</td>\n",
              "      <td>0.0</td>\n",
              "      <td>0.0</td>\n",
              "      <td>0.0</td>\n",
              "      <td>0.0</td>\n",
              "      <td>0.0</td>\n",
              "      <td>0.0</td>\n",
              "      <td>0.0</td>\n",
              "      <td>0.0</td>\n",
              "      <td>0.0</td>\n",
              "    </tr>\n",
              "    <tr>\n",
              "      <th>1</th>\n",
              "      <td>IJCHM</td>\n",
              "      <td>Benitez-Aurioles, B</td>\n",
              "      <td>Barcelona's peer-to-peer tourist accommodation...</td>\n",
              "      <td>2019.0</td>\n",
              "      <td>10.1108/IJCHM-01-2019-0090</td>\n",
              "      <td>1</td>\n",
              "      <td>secondary data</td>\n",
              "      <td>CMB-free</td>\n",
              "      <td>1</td>\n",
              "      <td>0</td>\n",
              "      <td>0.0</td>\n",
              "      <td>0.0</td>\n",
              "      <td>1.0</td>\n",
              "      <td>0.0</td>\n",
              "      <td>0.0</td>\n",
              "      <td>0.0</td>\n",
              "      <td>0.0</td>\n",
              "      <td>0.0</td>\n",
              "      <td>0.0</td>\n",
              "      <td>0.0</td>\n",
              "      <td>0.0</td>\n",
              "      <td>1.0</td>\n",
              "      <td>0.0</td>\n",
              "      <td>0.0</td>\n",
              "      <td>0.0</td>\n",
              "      <td>0.0</td>\n",
              "      <td>0.0</td>\n",
              "      <td>0.0</td>\n",
              "      <td>0.0</td>\n",
              "      <td>0.0</td>\n",
              "      <td>0.0</td>\n",
              "      <td>0.0</td>\n",
              "    </tr>\n",
              "    <tr>\n",
              "      <th>2</th>\n",
              "      <td>IJCHM</td>\n",
              "      <td>Hu, XB; Yang, Y; Park, S</td>\n",
              "      <td>A meta-regression on the effect of online rati...</td>\n",
              "      <td>2019.0</td>\n",
              "      <td>10.1108/IJCHM-10-2018-0835</td>\n",
              "      <td>0</td>\n",
              "      <td>review</td>\n",
              "      <td>CMB-free</td>\n",
              "      <td>0</td>\n",
              "      <td>0</td>\n",
              "      <td>0.0</td>\n",
              "      <td>0.0</td>\n",
              "      <td>1.0</td>\n",
              "      <td>0.0</td>\n",
              "      <td>0.0</td>\n",
              "      <td>0.0</td>\n",
              "      <td>0.0</td>\n",
              "      <td>0.0</td>\n",
              "      <td>1.0</td>\n",
              "      <td>0.0</td>\n",
              "      <td>0.0</td>\n",
              "      <td>0.0</td>\n",
              "      <td>0.0</td>\n",
              "      <td>0.0</td>\n",
              "      <td>0.0</td>\n",
              "      <td>0.0</td>\n",
              "      <td>0.0</td>\n",
              "      <td>0.0</td>\n",
              "      <td>0.0</td>\n",
              "      <td>0.0</td>\n",
              "      <td>0.0</td>\n",
              "      <td>0.0</td>\n",
              "    </tr>\n",
              "    <tr>\n",
              "      <th>3</th>\n",
              "      <td>IJCHM</td>\n",
              "      <td>Ahmat, NHC; Arendt, SW; Russell, DW</td>\n",
              "      <td>Examining work factors after Malaysia's minimu...</td>\n",
              "      <td>2019.0</td>\n",
              "      <td>10.1108/IJCHM-10-2018-0827</td>\n",
              "      <td>1</td>\n",
              "      <td>survey</td>\n",
              "      <td>CMB-risk</td>\n",
              "      <td>0</td>\n",
              "      <td>0</td>\n",
              "      <td>0.0</td>\n",
              "      <td>0.0</td>\n",
              "      <td>0.0</td>\n",
              "      <td>0.0</td>\n",
              "      <td>0.0</td>\n",
              "      <td>0.0</td>\n",
              "      <td>0.0</td>\n",
              "      <td>0.0</td>\n",
              "      <td>0.0</td>\n",
              "      <td>0.0</td>\n",
              "      <td>0.0</td>\n",
              "      <td>0.0</td>\n",
              "      <td>0.0</td>\n",
              "      <td>0.0</td>\n",
              "      <td>0.0</td>\n",
              "      <td>0.0</td>\n",
              "      <td>0.0</td>\n",
              "      <td>0.0</td>\n",
              "      <td>0.0</td>\n",
              "      <td>0.0</td>\n",
              "      <td>1.0</td>\n",
              "      <td>0.0</td>\n",
              "    </tr>\n",
              "    <tr>\n",
              "      <th>4</th>\n",
              "      <td>IJCHM</td>\n",
              "      <td>Kim, EL; Tanford, S</td>\n",
              "      <td>Seeking reward or avoiding risk from restauran...</td>\n",
              "      <td>2019.0</td>\n",
              "      <td>10.1108/IJCHM-03-2018-0235</td>\n",
              "      <td>1</td>\n",
              "      <td>experimental</td>\n",
              "      <td>CMB-free</td>\n",
              "      <td>0</td>\n",
              "      <td>0</td>\n",
              "      <td>0.0</td>\n",
              "      <td>0.0</td>\n",
              "      <td>0.0</td>\n",
              "      <td>0.0</td>\n",
              "      <td>0.0</td>\n",
              "      <td>0.0</td>\n",
              "      <td>0.0</td>\n",
              "      <td>0.0</td>\n",
              "      <td>0.0</td>\n",
              "      <td>0.0</td>\n",
              "      <td>0.0</td>\n",
              "      <td>0.0</td>\n",
              "      <td>0.0</td>\n",
              "      <td>0.0</td>\n",
              "      <td>0.0</td>\n",
              "      <td>0.0</td>\n",
              "      <td>0.0</td>\n",
              "      <td>0.0</td>\n",
              "      <td>0.0</td>\n",
              "      <td>0.0</td>\n",
              "      <td>0.0</td>\n",
              "      <td>0.0</td>\n",
              "    </tr>\n",
              "    <tr>\n",
              "      <th>...</th>\n",
              "      <td>...</td>\n",
              "      <td>...</td>\n",
              "      <td>...</td>\n",
              "      <td>...</td>\n",
              "      <td>...</td>\n",
              "      <td>...</td>\n",
              "      <td>...</td>\n",
              "      <td>...</td>\n",
              "      <td>...</td>\n",
              "      <td>...</td>\n",
              "      <td>...</td>\n",
              "      <td>...</td>\n",
              "      <td>...</td>\n",
              "      <td>...</td>\n",
              "      <td>...</td>\n",
              "      <td>...</td>\n",
              "      <td>...</td>\n",
              "      <td>...</td>\n",
              "      <td>...</td>\n",
              "      <td>...</td>\n",
              "      <td>...</td>\n",
              "      <td>...</td>\n",
              "      <td>...</td>\n",
              "      <td>...</td>\n",
              "      <td>...</td>\n",
              "      <td>...</td>\n",
              "      <td>...</td>\n",
              "      <td>...</td>\n",
              "      <td>...</td>\n",
              "      <td>...</td>\n",
              "      <td>...</td>\n",
              "      <td>...</td>\n",
              "    </tr>\n",
              "    <tr>\n",
              "      <th>3264</th>\n",
              "      <td>JHMM</td>\n",
              "      <td>de Leaniz, PMG; Rodriguez, IRD</td>\n",
              "      <td>Exploring the Antecedents of Hotel Customer Lo...</td>\n",
              "      <td>2015.0</td>\n",
              "      <td>10.1080/19368623.2014.891961</td>\n",
              "      <td>1</td>\n",
              "      <td>survey</td>\n",
              "      <td>CMB-risk</td>\n",
              "      <td>0</td>\n",
              "      <td>0</td>\n",
              "      <td>0.0</td>\n",
              "      <td>0.0</td>\n",
              "      <td>0.0</td>\n",
              "      <td>0.0</td>\n",
              "      <td>0.0</td>\n",
              "      <td>0.0</td>\n",
              "      <td>0.0</td>\n",
              "      <td>0.0</td>\n",
              "      <td>0.0</td>\n",
              "      <td>0.0</td>\n",
              "      <td>0.0</td>\n",
              "      <td>0.0</td>\n",
              "      <td>0.0</td>\n",
              "      <td>0.0</td>\n",
              "      <td>0.0</td>\n",
              "      <td>0.0</td>\n",
              "      <td>0.0</td>\n",
              "      <td>0.0</td>\n",
              "      <td>0.0</td>\n",
              "      <td>0.0</td>\n",
              "      <td>0.0</td>\n",
              "      <td>0.0</td>\n",
              "    </tr>\n",
              "    <tr>\n",
              "      <th>3265</th>\n",
              "      <td>JHMM</td>\n",
              "      <td>Prayag, G; Khoo-Lattimore, C; Sitruk, J</td>\n",
              "      <td>Casual Dining on the French Riviera: Examining...</td>\n",
              "      <td>2015.0</td>\n",
              "      <td>10.1080/19368623.2014.859114</td>\n",
              "      <td>1</td>\n",
              "      <td>survey</td>\n",
              "      <td>CMB-risk</td>\n",
              "      <td>0</td>\n",
              "      <td>0</td>\n",
              "      <td>0.0</td>\n",
              "      <td>0.0</td>\n",
              "      <td>0.0</td>\n",
              "      <td>0.0</td>\n",
              "      <td>0.0</td>\n",
              "      <td>0.0</td>\n",
              "      <td>0.0</td>\n",
              "      <td>0.0</td>\n",
              "      <td>0.0</td>\n",
              "      <td>0.0</td>\n",
              "      <td>0.0</td>\n",
              "      <td>0.0</td>\n",
              "      <td>0.0</td>\n",
              "      <td>0.0</td>\n",
              "      <td>0.0</td>\n",
              "      <td>0.0</td>\n",
              "      <td>0.0</td>\n",
              "      <td>0.0</td>\n",
              "      <td>0.0</td>\n",
              "      <td>0.0</td>\n",
              "      <td>0.0</td>\n",
              "      <td>0.0</td>\n",
              "    </tr>\n",
              "    <tr>\n",
              "      <th>3266</th>\n",
              "      <td>JHMM</td>\n",
              "      <td>Morosan, C</td>\n",
              "      <td>The Influence of DMO Advertising on Specific D...</td>\n",
              "      <td>2015.0</td>\n",
              "      <td>10.1080/19368623.2014.891962</td>\n",
              "      <td>1</td>\n",
              "      <td>survey</td>\n",
              "      <td>CMB-risk</td>\n",
              "      <td>0</td>\n",
              "      <td>0</td>\n",
              "      <td>0.0</td>\n",
              "      <td>0.0</td>\n",
              "      <td>0.0</td>\n",
              "      <td>0.0</td>\n",
              "      <td>0.0</td>\n",
              "      <td>0.0</td>\n",
              "      <td>0.0</td>\n",
              "      <td>0.0</td>\n",
              "      <td>0.0</td>\n",
              "      <td>0.0</td>\n",
              "      <td>0.0</td>\n",
              "      <td>0.0</td>\n",
              "      <td>0.0</td>\n",
              "      <td>0.0</td>\n",
              "      <td>0.0</td>\n",
              "      <td>0.0</td>\n",
              "      <td>0.0</td>\n",
              "      <td>0.0</td>\n",
              "      <td>0.0</td>\n",
              "      <td>0.0</td>\n",
              "      <td>0.0</td>\n",
              "      <td>0.0</td>\n",
              "    </tr>\n",
              "    <tr>\n",
              "      <th>3267</th>\n",
              "      <td>JHMM</td>\n",
              "      <td>Memarzadeh, F; Chang, HJ</td>\n",
              "      <td>Online Consumer Complaints About Southeast Asi...</td>\n",
              "      <td>2015.0</td>\n",
              "      <td>10.1080/19368623.2014.893222</td>\n",
              "      <td>0</td>\n",
              "      <td>content analysis</td>\n",
              "      <td>CMB-free</td>\n",
              "      <td>NaN</td>\n",
              "      <td>NaN</td>\n",
              "      <td>NaN</td>\n",
              "      <td>NaN</td>\n",
              "      <td>NaN</td>\n",
              "      <td>NaN</td>\n",
              "      <td>NaN</td>\n",
              "      <td>NaN</td>\n",
              "      <td>NaN</td>\n",
              "      <td>NaN</td>\n",
              "      <td>NaN</td>\n",
              "      <td>NaN</td>\n",
              "      <td>NaN</td>\n",
              "      <td>NaN</td>\n",
              "      <td>NaN</td>\n",
              "      <td>NaN</td>\n",
              "      <td>NaN</td>\n",
              "      <td>NaN</td>\n",
              "      <td>NaN</td>\n",
              "      <td>NaN</td>\n",
              "      <td>NaN</td>\n",
              "      <td>NaN</td>\n",
              "      <td>NaN</td>\n",
              "      <td>NaN</td>\n",
              "    </tr>\n",
              "    <tr>\n",
              "      <th>3268</th>\n",
              "      <td>JHMM</td>\n",
              "      <td>Cao, Y; Kim, K</td>\n",
              "      <td>How Do Customers Perceive Service Quality in D...</td>\n",
              "      <td>2015.0</td>\n",
              "      <td>10.1080/19368623.2014.903817</td>\n",
              "      <td>1</td>\n",
              "      <td>survey</td>\n",
              "      <td>CMB-risk</td>\n",
              "      <td>0</td>\n",
              "      <td>0</td>\n",
              "      <td>0.0</td>\n",
              "      <td>0.0</td>\n",
              "      <td>0.0</td>\n",
              "      <td>0.0</td>\n",
              "      <td>0.0</td>\n",
              "      <td>0.0</td>\n",
              "      <td>0.0</td>\n",
              "      <td>0.0</td>\n",
              "      <td>0.0</td>\n",
              "      <td>0.0</td>\n",
              "      <td>0.0</td>\n",
              "      <td>0.0</td>\n",
              "      <td>0.0</td>\n",
              "      <td>0.0</td>\n",
              "      <td>0.0</td>\n",
              "      <td>0.0</td>\n",
              "      <td>0.0</td>\n",
              "      <td>0.0</td>\n",
              "      <td>0.0</td>\n",
              "      <td>0.0</td>\n",
              "      <td>0.0</td>\n",
              "      <td>0.0</td>\n",
              "    </tr>\n",
              "  </tbody>\n",
              "</table>\n",
              "<p>3269 rows × 32 columns</p>\n",
              "</div>"
            ],
            "text/plain": [
              "         JO                                       AU  ... DMLMF  SULMF\n",
              "0     IJCHM          Ineson, EM; Comic, D; Kalmic, L  ...   0.0    0.0\n",
              "1     IJCHM                      Benitez-Aurioles, B  ...   0.0    0.0\n",
              "2     IJCHM                 Hu, XB; Yang, Y; Park, S  ...   0.0    0.0\n",
              "3     IJCHM      Ahmat, NHC; Arendt, SW; Russell, DW  ...   1.0    0.0\n",
              "4     IJCHM                      Kim, EL; Tanford, S  ...   0.0    0.0\n",
              "...     ...                                      ...  ...   ...    ...\n",
              "3264   JHMM           de Leaniz, PMG; Rodriguez, IRD  ...   0.0    0.0\n",
              "3265   JHMM  Prayag, G; Khoo-Lattimore, C; Sitruk, J  ...   0.0    0.0\n",
              "3266   JHMM                               Morosan, C  ...   0.0    0.0\n",
              "3267   JHMM                 Memarzadeh, F; Chang, HJ  ...   NaN    NaN\n",
              "3268   JHMM                           Cao, Y; Kim, K  ...   0.0    0.0\n",
              "\n",
              "[3269 rows x 32 columns]"
            ]
          },
          "metadata": {
            "tags": []
          },
          "execution_count": 7
        }
      ]
    },
    {
      "cell_type": "code",
      "metadata": {
        "id": "ginSQBRq9epM"
      },
      "source": [
        "with open(\"/content/drive/MyDrive/Colab Notebooks/TopicModeling/Methodology/df_all_final.pkl\", \"rb\") as fh:\n",
        "  df = pickle.load(fh)"
      ],
      "execution_count": null,
      "outputs": []
    },
    {
      "cell_type": "code",
      "metadata": {
        "colab": {
          "base_uri": "https://localhost:8080/",
          "height": 602
        },
        "id": "HI4Q2gb79taN",
        "outputId": "6c40cf7c-7f1f-4e09-fcad-bd01c9f45a23"
      },
      "source": [
        "df"
      ],
      "execution_count": null,
      "outputs": [
        {
          "output_type": "execute_result",
          "data": {
            "text/html": [
              "<div>\n",
              "<style scoped>\n",
              "    .dataframe tbody tr th:only-of-type {\n",
              "        vertical-align: middle;\n",
              "    }\n",
              "\n",
              "    .dataframe tbody tr th {\n",
              "        vertical-align: top;\n",
              "    }\n",
              "\n",
              "    .dataframe thead th {\n",
              "        text-align: right;\n",
              "    }\n",
              "</style>\n",
              "<table border=\"1\" class=\"dataframe\">\n",
              "  <thead>\n",
              "    <tr style=\"text-align: right;\">\n",
              "      <th></th>\n",
              "      <th>JO</th>\n",
              "      <th>AU</th>\n",
              "      <th>TI</th>\n",
              "      <th>PY</th>\n",
              "      <th>DI</th>\n",
              "      <th>urls</th>\n",
              "      <th>filename</th>\n",
              "      <th>methodology</th>\n",
              "    </tr>\n",
              "  </thead>\n",
              "  <tbody>\n",
              "    <tr>\n",
              "      <th>0</th>\n",
              "      <td>IJCHM</td>\n",
              "      <td>Ineson, EM; Comic, D; Kalmic, L</td>\n",
              "      <td>Towards a hierarchy of hotel guests' in-room n...</td>\n",
              "      <td>2019.0</td>\n",
              "      <td>10.1108/IJCHM-01-2019-0061</td>\n",
              "      <td>https://www.emerald.com/insight/content/doi/10...</td>\n",
              "      <td>IJCHM_0.txt</td>\n",
              "      <td>Methodology\\nThe design is qualitative and exp...</td>\n",
              "    </tr>\n",
              "    <tr>\n",
              "      <th>1</th>\n",
              "      <td>IJCHM</td>\n",
              "      <td>Benitez-Aurioles, B</td>\n",
              "      <td>Barcelona's peer-to-peer tourist accommodation...</td>\n",
              "      <td>2019.0</td>\n",
              "      <td>10.1108/IJCHM-01-2019-0090</td>\n",
              "      <td>https://www.emerald.com/insight/content/doi/10...</td>\n",
              "      <td>IJCHM_1.txt</td>\n",
              "      <td>Data\\nThere are no official statistics on the ...</td>\n",
              "    </tr>\n",
              "    <tr>\n",
              "      <th>2</th>\n",
              "      <td>IJCHM</td>\n",
              "      <td>Hu, XB; Yang, Y; Park, S</td>\n",
              "      <td>A meta-regression on the effect of online rati...</td>\n",
              "      <td>2019.0</td>\n",
              "      <td>10.1108/IJCHM-10-2018-0835</td>\n",
              "      <td>https://www.emerald.com/insight/content/doi/10...</td>\n",
              "      <td>IJCHM_2.txt</td>\n",
              "      <td>3. Research method\\nWe searched the empirical ...</td>\n",
              "    </tr>\n",
              "    <tr>\n",
              "      <th>3</th>\n",
              "      <td>IJCHM</td>\n",
              "      <td>Ahmat, NHC; Arendt, SW; Russell, DW</td>\n",
              "      <td>Examining work factors after Malaysia's minimu...</td>\n",
              "      <td>2019.0</td>\n",
              "      <td>10.1108/IJCHM-10-2018-0827</td>\n",
              "      <td>https://www.emerald.com/insight/content/doi/10...</td>\n",
              "      <td>IJCHM_3.txt</td>\n",
              "      <td>Methods\\nParticipants\\nEmployees from operatio...</td>\n",
              "    </tr>\n",
              "    <tr>\n",
              "      <th>4</th>\n",
              "      <td>IJCHM</td>\n",
              "      <td>Kim, EL; Tanford, S</td>\n",
              "      <td>Seeking reward or avoiding risk from restauran...</td>\n",
              "      <td>2019.0</td>\n",
              "      <td>10.1108/IJCHM-03-2018-0235</td>\n",
              "      <td>https://www.emerald.com/insight/content/doi/10...</td>\n",
              "      <td>IJCHM_4.txt</td>\n",
              "      <td>Method\\nDesign\\nParticipants made dining decis...</td>\n",
              "    </tr>\n",
              "    <tr>\n",
              "      <th>...</th>\n",
              "      <td>...</td>\n",
              "      <td>...</td>\n",
              "      <td>...</td>\n",
              "      <td>...</td>\n",
              "      <td>...</td>\n",
              "      <td>...</td>\n",
              "      <td>...</td>\n",
              "      <td>...</td>\n",
              "    </tr>\n",
              "    <tr>\n",
              "      <th>3264</th>\n",
              "      <td>JHTR</td>\n",
              "      <td>Kim, W; Ok, C</td>\n",
              "      <td>CUSTOMER ORIENTATION OF SERVICE EMPLOYEES AND ...</td>\n",
              "      <td>2010.0</td>\n",
              "      <td>10.1177/1096348009344234</td>\n",
              "      <td>NaN</td>\n",
              "      <td>NaN</td>\n",
              "      <td>\\nMETHOD\\nMeasures\\nSignificant discrepant res...</td>\n",
              "    </tr>\n",
              "    <tr>\n",
              "      <th>3265</th>\n",
              "      <td>JHTR</td>\n",
              "      <td>Gazzoli, G; Hancer, M; Park, Y</td>\n",
              "      <td>THE ROLE AND EFFECT OF JOB SATISFACTION AND EM...</td>\n",
              "      <td>2010.0</td>\n",
              "      <td>10.1177/1096348009344235</td>\n",
              "      <td>NaN</td>\n",
              "      <td>NaN</td>\n",
              "      <td>\\nMETHOD\\nSample and Data Collection\\nBecause ...</td>\n",
              "    </tr>\n",
              "    <tr>\n",
              "      <th>3266</th>\n",
              "      <td>JHTR</td>\n",
              "      <td>Young, CA; Corsun, DL</td>\n",
              "      <td>BURNED! THE IMPACT OF WORK ASPECTS, INJURY, AN...</td>\n",
              "      <td>2010.0</td>\n",
              "      <td>10.1177/1096348009349816</td>\n",
              "      <td>NaN</td>\n",
              "      <td>NaN</td>\n",
              "      <td>\\nMETHOD\\nData Collection\\nManagement from 13 ...</td>\n",
              "    </tr>\n",
              "    <tr>\n",
              "      <th>3267</th>\n",
              "      <td>JHTR</td>\n",
              "      <td>Kim, DY; Wen, L; Doh, K</td>\n",
              "      <td>DOES CULTURAL DIFFERENCE AFFECT CUSTOMER'S RES...</td>\n",
              "      <td>2010.0</td>\n",
              "      <td>10.1177/1096348009349817</td>\n",
              "      <td>NaN</td>\n",
              "      <td>NaN</td>\n",
              "      <td>\\nMETHOD\\nSample\\nAn experimental design was e...</td>\n",
              "    </tr>\n",
              "    <tr>\n",
              "      <th>3268</th>\n",
              "      <td>JHTR</td>\n",
              "      <td>Pike, S</td>\n",
              "      <td>DESTINATION BRANDING CASE STUDY: TRACKING BRAN...</td>\n",
              "      <td>2010.0</td>\n",
              "      <td>10.1177/1096348009349820</td>\n",
              "      <td>NaN</td>\n",
              "      <td>NaN</td>\n",
              "      <td>\\nMETHOD\\nThe 2003 longitudinal study took pla...</td>\n",
              "    </tr>\n",
              "  </tbody>\n",
              "</table>\n",
              "<p>3269 rows × 8 columns</p>\n",
              "</div>"
            ],
            "text/plain": [
              "         JO  ...                                        methodology\n",
              "0     IJCHM  ...  Methodology\\nThe design is qualitative and exp...\n",
              "1     IJCHM  ...  Data\\nThere are no official statistics on the ...\n",
              "2     IJCHM  ...  3. Research method\\nWe searched the empirical ...\n",
              "3     IJCHM  ...  Methods\\nParticipants\\nEmployees from operatio...\n",
              "4     IJCHM  ...  Method\\nDesign\\nParticipants made dining decis...\n",
              "...     ...  ...                                                ...\n",
              "3264   JHTR  ...  \\nMETHOD\\nMeasures\\nSignificant discrepant res...\n",
              "3265   JHTR  ...  \\nMETHOD\\nSample and Data Collection\\nBecause ...\n",
              "3266   JHTR  ...  \\nMETHOD\\nData Collection\\nManagement from 13 ...\n",
              "3267   JHTR  ...  \\nMETHOD\\nSample\\nAn experimental design was e...\n",
              "3268   JHTR  ...  \\nMETHOD\\nThe 2003 longitudinal study took pla...\n",
              "\n",
              "[3269 rows x 8 columns]"
            ]
          },
          "metadata": {
            "tags": []
          },
          "execution_count": 9
        }
      ]
    },
    {
      "cell_type": "code",
      "metadata": {
        "id": "nEgKSjdKG8i-"
      },
      "source": [
        "df.dropna(subset=[\"methodology\"], inplace=True)"
      ],
      "execution_count": null,
      "outputs": []
    },
    {
      "cell_type": "code",
      "metadata": {
        "colab": {
          "base_uri": "https://localhost:8080/",
          "height": 602
        },
        "id": "kh-AExFSHm16",
        "outputId": "8982b57a-2a94-4692-9071-f8895521a9c8"
      },
      "source": [
        "df"
      ],
      "execution_count": null,
      "outputs": [
        {
          "output_type": "execute_result",
          "data": {
            "text/html": [
              "<div>\n",
              "<style scoped>\n",
              "    .dataframe tbody tr th:only-of-type {\n",
              "        vertical-align: middle;\n",
              "    }\n",
              "\n",
              "    .dataframe tbody tr th {\n",
              "        vertical-align: top;\n",
              "    }\n",
              "\n",
              "    .dataframe thead th {\n",
              "        text-align: right;\n",
              "    }\n",
              "</style>\n",
              "<table border=\"1\" class=\"dataframe\">\n",
              "  <thead>\n",
              "    <tr style=\"text-align: right;\">\n",
              "      <th></th>\n",
              "      <th>JO</th>\n",
              "      <th>AU</th>\n",
              "      <th>TI</th>\n",
              "      <th>PY</th>\n",
              "      <th>DI</th>\n",
              "      <th>urls</th>\n",
              "      <th>filename</th>\n",
              "      <th>methodology</th>\n",
              "    </tr>\n",
              "  </thead>\n",
              "  <tbody>\n",
              "    <tr>\n",
              "      <th>0</th>\n",
              "      <td>IJCHM</td>\n",
              "      <td>Ineson, EM; Comic, D; Kalmic, L</td>\n",
              "      <td>Towards a hierarchy of hotel guests' in-room n...</td>\n",
              "      <td>2019.0</td>\n",
              "      <td>10.1108/IJCHM-01-2019-0061</td>\n",
              "      <td>https://www.emerald.com/insight/content/doi/10...</td>\n",
              "      <td>IJCHM_0.txt</td>\n",
              "      <td>Methodology\\nThe design is qualitative and exp...</td>\n",
              "    </tr>\n",
              "    <tr>\n",
              "      <th>1</th>\n",
              "      <td>IJCHM</td>\n",
              "      <td>Benitez-Aurioles, B</td>\n",
              "      <td>Barcelona's peer-to-peer tourist accommodation...</td>\n",
              "      <td>2019.0</td>\n",
              "      <td>10.1108/IJCHM-01-2019-0090</td>\n",
              "      <td>https://www.emerald.com/insight/content/doi/10...</td>\n",
              "      <td>IJCHM_1.txt</td>\n",
              "      <td>Data\\nThere are no official statistics on the ...</td>\n",
              "    </tr>\n",
              "    <tr>\n",
              "      <th>2</th>\n",
              "      <td>IJCHM</td>\n",
              "      <td>Hu, XB; Yang, Y; Park, S</td>\n",
              "      <td>A meta-regression on the effect of online rati...</td>\n",
              "      <td>2019.0</td>\n",
              "      <td>10.1108/IJCHM-10-2018-0835</td>\n",
              "      <td>https://www.emerald.com/insight/content/doi/10...</td>\n",
              "      <td>IJCHM_2.txt</td>\n",
              "      <td>3. Research method\\nWe searched the empirical ...</td>\n",
              "    </tr>\n",
              "    <tr>\n",
              "      <th>3</th>\n",
              "      <td>IJCHM</td>\n",
              "      <td>Ahmat, NHC; Arendt, SW; Russell, DW</td>\n",
              "      <td>Examining work factors after Malaysia's minimu...</td>\n",
              "      <td>2019.0</td>\n",
              "      <td>10.1108/IJCHM-10-2018-0827</td>\n",
              "      <td>https://www.emerald.com/insight/content/doi/10...</td>\n",
              "      <td>IJCHM_3.txt</td>\n",
              "      <td>Methods\\nParticipants\\nEmployees from operatio...</td>\n",
              "    </tr>\n",
              "    <tr>\n",
              "      <th>4</th>\n",
              "      <td>IJCHM</td>\n",
              "      <td>Kim, EL; Tanford, S</td>\n",
              "      <td>Seeking reward or avoiding risk from restauran...</td>\n",
              "      <td>2019.0</td>\n",
              "      <td>10.1108/IJCHM-03-2018-0235</td>\n",
              "      <td>https://www.emerald.com/insight/content/doi/10...</td>\n",
              "      <td>IJCHM_4.txt</td>\n",
              "      <td>Method\\nDesign\\nParticipants made dining decis...</td>\n",
              "    </tr>\n",
              "    <tr>\n",
              "      <th>...</th>\n",
              "      <td>...</td>\n",
              "      <td>...</td>\n",
              "      <td>...</td>\n",
              "      <td>...</td>\n",
              "      <td>...</td>\n",
              "      <td>...</td>\n",
              "      <td>...</td>\n",
              "      <td>...</td>\n",
              "    </tr>\n",
              "    <tr>\n",
              "      <th>3264</th>\n",
              "      <td>JHTR</td>\n",
              "      <td>Kim, W; Ok, C</td>\n",
              "      <td>CUSTOMER ORIENTATION OF SERVICE EMPLOYEES AND ...</td>\n",
              "      <td>2010.0</td>\n",
              "      <td>10.1177/1096348009344234</td>\n",
              "      <td>NaN</td>\n",
              "      <td>NaN</td>\n",
              "      <td>\\nMETHOD\\nMeasures\\nSignificant discrepant res...</td>\n",
              "    </tr>\n",
              "    <tr>\n",
              "      <th>3265</th>\n",
              "      <td>JHTR</td>\n",
              "      <td>Gazzoli, G; Hancer, M; Park, Y</td>\n",
              "      <td>THE ROLE AND EFFECT OF JOB SATISFACTION AND EM...</td>\n",
              "      <td>2010.0</td>\n",
              "      <td>10.1177/1096348009344235</td>\n",
              "      <td>NaN</td>\n",
              "      <td>NaN</td>\n",
              "      <td>\\nMETHOD\\nSample and Data Collection\\nBecause ...</td>\n",
              "    </tr>\n",
              "    <tr>\n",
              "      <th>3266</th>\n",
              "      <td>JHTR</td>\n",
              "      <td>Young, CA; Corsun, DL</td>\n",
              "      <td>BURNED! THE IMPACT OF WORK ASPECTS, INJURY, AN...</td>\n",
              "      <td>2010.0</td>\n",
              "      <td>10.1177/1096348009349816</td>\n",
              "      <td>NaN</td>\n",
              "      <td>NaN</td>\n",
              "      <td>\\nMETHOD\\nData Collection\\nManagement from 13 ...</td>\n",
              "    </tr>\n",
              "    <tr>\n",
              "      <th>3267</th>\n",
              "      <td>JHTR</td>\n",
              "      <td>Kim, DY; Wen, L; Doh, K</td>\n",
              "      <td>DOES CULTURAL DIFFERENCE AFFECT CUSTOMER'S RES...</td>\n",
              "      <td>2010.0</td>\n",
              "      <td>10.1177/1096348009349817</td>\n",
              "      <td>NaN</td>\n",
              "      <td>NaN</td>\n",
              "      <td>\\nMETHOD\\nSample\\nAn experimental design was e...</td>\n",
              "    </tr>\n",
              "    <tr>\n",
              "      <th>3268</th>\n",
              "      <td>JHTR</td>\n",
              "      <td>Pike, S</td>\n",
              "      <td>DESTINATION BRANDING CASE STUDY: TRACKING BRAN...</td>\n",
              "      <td>2010.0</td>\n",
              "      <td>10.1177/1096348009349820</td>\n",
              "      <td>NaN</td>\n",
              "      <td>NaN</td>\n",
              "      <td>\\nMETHOD\\nThe 2003 longitudinal study took pla...</td>\n",
              "    </tr>\n",
              "  </tbody>\n",
              "</table>\n",
              "<p>3076 rows × 8 columns</p>\n",
              "</div>"
            ],
            "text/plain": [
              "         JO  ...                                        methodology\n",
              "0     IJCHM  ...  Methodology\\nThe design is qualitative and exp...\n",
              "1     IJCHM  ...  Data\\nThere are no official statistics on the ...\n",
              "2     IJCHM  ...  3. Research method\\nWe searched the empirical ...\n",
              "3     IJCHM  ...  Methods\\nParticipants\\nEmployees from operatio...\n",
              "4     IJCHM  ...  Method\\nDesign\\nParticipants made dining decis...\n",
              "...     ...  ...                                                ...\n",
              "3264   JHTR  ...  \\nMETHOD\\nMeasures\\nSignificant discrepant res...\n",
              "3265   JHTR  ...  \\nMETHOD\\nSample and Data Collection\\nBecause ...\n",
              "3266   JHTR  ...  \\nMETHOD\\nData Collection\\nManagement from 13 ...\n",
              "3267   JHTR  ...  \\nMETHOD\\nSample\\nAn experimental design was e...\n",
              "3268   JHTR  ...  \\nMETHOD\\nThe 2003 longitudinal study took pla...\n",
              "\n",
              "[3076 rows x 8 columns]"
            ]
          },
          "metadata": {
            "tags": []
          },
          "execution_count": 11
        }
      ]
    },
    {
      "cell_type": "code",
      "metadata": {
        "id": "ulJaluBFQ7Og"
      },
      "source": [
        "df.reset_index(drop=True, inplace=True)"
      ],
      "execution_count": null,
      "outputs": []
    },
    {
      "cell_type": "code",
      "metadata": {
        "id": "560b49h-TaAl"
      },
      "source": [
        "df[\"PY\"].fillna(2010, inplace=True)"
      ],
      "execution_count": null,
      "outputs": []
    },
    {
      "cell_type": "code",
      "metadata": {
        "id": "adX2VjXTTS1P"
      },
      "source": [
        "df[\"PY\"] = df.PY.astype(\"int\")"
      ],
      "execution_count": null,
      "outputs": []
    },
    {
      "cell_type": "code",
      "metadata": {
        "colab": {
          "base_uri": "https://localhost:8080/"
        },
        "id": "SmAzzm0tTNR5",
        "outputId": "f7ba812d-e506-4f1f-a338-9c8565f1f0d5"
      },
      "source": [
        "df.isnull().sum()"
      ],
      "execution_count": null,
      "outputs": [
        {
          "output_type": "execute_result",
          "data": {
            "text/plain": [
              "JO              0\n",
              "AU              0\n",
              "TI              0\n",
              "PY              0\n",
              "DI              1\n",
              "urls           83\n",
              "filename       84\n",
              "methodology     0\n",
              "dtype: int64"
            ]
          },
          "metadata": {
            "tags": []
          },
          "execution_count": 15
        }
      ]
    },
    {
      "cell_type": "code",
      "metadata": {
        "colab": {
          "base_uri": "https://localhost:8080/",
          "height": 602
        },
        "id": "PcV95NYtYYgb",
        "outputId": "c8bbf466-d189-4a2b-ae89-741fef028806"
      },
      "source": [
        "df.drop_duplicates(subset=\"TI\")"
      ],
      "execution_count": null,
      "outputs": [
        {
          "output_type": "execute_result",
          "data": {
            "text/html": [
              "<div>\n",
              "<style scoped>\n",
              "    .dataframe tbody tr th:only-of-type {\n",
              "        vertical-align: middle;\n",
              "    }\n",
              "\n",
              "    .dataframe tbody tr th {\n",
              "        vertical-align: top;\n",
              "    }\n",
              "\n",
              "    .dataframe thead th {\n",
              "        text-align: right;\n",
              "    }\n",
              "</style>\n",
              "<table border=\"1\" class=\"dataframe\">\n",
              "  <thead>\n",
              "    <tr style=\"text-align: right;\">\n",
              "      <th></th>\n",
              "      <th>JO</th>\n",
              "      <th>AU</th>\n",
              "      <th>TI</th>\n",
              "      <th>PY</th>\n",
              "      <th>DI</th>\n",
              "      <th>urls</th>\n",
              "      <th>filename</th>\n",
              "      <th>methodology</th>\n",
              "    </tr>\n",
              "  </thead>\n",
              "  <tbody>\n",
              "    <tr>\n",
              "      <th>0</th>\n",
              "      <td>IJCHM</td>\n",
              "      <td>Ineson, EM; Comic, D; Kalmic, L</td>\n",
              "      <td>Towards a hierarchy of hotel guests' in-room n...</td>\n",
              "      <td>2019</td>\n",
              "      <td>10.1108/IJCHM-01-2019-0061</td>\n",
              "      <td>https://www.emerald.com/insight/content/doi/10...</td>\n",
              "      <td>IJCHM_0.txt</td>\n",
              "      <td>Methodology\\nThe design is qualitative and exp...</td>\n",
              "    </tr>\n",
              "    <tr>\n",
              "      <th>1</th>\n",
              "      <td>IJCHM</td>\n",
              "      <td>Benitez-Aurioles, B</td>\n",
              "      <td>Barcelona's peer-to-peer tourist accommodation...</td>\n",
              "      <td>2019</td>\n",
              "      <td>10.1108/IJCHM-01-2019-0090</td>\n",
              "      <td>https://www.emerald.com/insight/content/doi/10...</td>\n",
              "      <td>IJCHM_1.txt</td>\n",
              "      <td>Data\\nThere are no official statistics on the ...</td>\n",
              "    </tr>\n",
              "    <tr>\n",
              "      <th>2</th>\n",
              "      <td>IJCHM</td>\n",
              "      <td>Hu, XB; Yang, Y; Park, S</td>\n",
              "      <td>A meta-regression on the effect of online rati...</td>\n",
              "      <td>2019</td>\n",
              "      <td>10.1108/IJCHM-10-2018-0835</td>\n",
              "      <td>https://www.emerald.com/insight/content/doi/10...</td>\n",
              "      <td>IJCHM_2.txt</td>\n",
              "      <td>3. Research method\\nWe searched the empirical ...</td>\n",
              "    </tr>\n",
              "    <tr>\n",
              "      <th>3</th>\n",
              "      <td>IJCHM</td>\n",
              "      <td>Ahmat, NHC; Arendt, SW; Russell, DW</td>\n",
              "      <td>Examining work factors after Malaysia's minimu...</td>\n",
              "      <td>2019</td>\n",
              "      <td>10.1108/IJCHM-10-2018-0827</td>\n",
              "      <td>https://www.emerald.com/insight/content/doi/10...</td>\n",
              "      <td>IJCHM_3.txt</td>\n",
              "      <td>Methods\\nParticipants\\nEmployees from operatio...</td>\n",
              "    </tr>\n",
              "    <tr>\n",
              "      <th>4</th>\n",
              "      <td>IJCHM</td>\n",
              "      <td>Kim, EL; Tanford, S</td>\n",
              "      <td>Seeking reward or avoiding risk from restauran...</td>\n",
              "      <td>2019</td>\n",
              "      <td>10.1108/IJCHM-03-2018-0235</td>\n",
              "      <td>https://www.emerald.com/insight/content/doi/10...</td>\n",
              "      <td>IJCHM_4.txt</td>\n",
              "      <td>Method\\nDesign\\nParticipants made dining decis...</td>\n",
              "    </tr>\n",
              "    <tr>\n",
              "      <th>...</th>\n",
              "      <td>...</td>\n",
              "      <td>...</td>\n",
              "      <td>...</td>\n",
              "      <td>...</td>\n",
              "      <td>...</td>\n",
              "      <td>...</td>\n",
              "      <td>...</td>\n",
              "      <td>...</td>\n",
              "    </tr>\n",
              "    <tr>\n",
              "      <th>3071</th>\n",
              "      <td>JHTR</td>\n",
              "      <td>Kim, W; Ok, C</td>\n",
              "      <td>CUSTOMER ORIENTATION OF SERVICE EMPLOYEES AND ...</td>\n",
              "      <td>2010</td>\n",
              "      <td>10.1177/1096348009344234</td>\n",
              "      <td>NaN</td>\n",
              "      <td>NaN</td>\n",
              "      <td>\\nMETHOD\\nMeasures\\nSignificant discrepant res...</td>\n",
              "    </tr>\n",
              "    <tr>\n",
              "      <th>3072</th>\n",
              "      <td>JHTR</td>\n",
              "      <td>Gazzoli, G; Hancer, M; Park, Y</td>\n",
              "      <td>THE ROLE AND EFFECT OF JOB SATISFACTION AND EM...</td>\n",
              "      <td>2010</td>\n",
              "      <td>10.1177/1096348009344235</td>\n",
              "      <td>NaN</td>\n",
              "      <td>NaN</td>\n",
              "      <td>\\nMETHOD\\nSample and Data Collection\\nBecause ...</td>\n",
              "    </tr>\n",
              "    <tr>\n",
              "      <th>3073</th>\n",
              "      <td>JHTR</td>\n",
              "      <td>Young, CA; Corsun, DL</td>\n",
              "      <td>BURNED! THE IMPACT OF WORK ASPECTS, INJURY, AN...</td>\n",
              "      <td>2010</td>\n",
              "      <td>10.1177/1096348009349816</td>\n",
              "      <td>NaN</td>\n",
              "      <td>NaN</td>\n",
              "      <td>\\nMETHOD\\nData Collection\\nManagement from 13 ...</td>\n",
              "    </tr>\n",
              "    <tr>\n",
              "      <th>3074</th>\n",
              "      <td>JHTR</td>\n",
              "      <td>Kim, DY; Wen, L; Doh, K</td>\n",
              "      <td>DOES CULTURAL DIFFERENCE AFFECT CUSTOMER'S RES...</td>\n",
              "      <td>2010</td>\n",
              "      <td>10.1177/1096348009349817</td>\n",
              "      <td>NaN</td>\n",
              "      <td>NaN</td>\n",
              "      <td>\\nMETHOD\\nSample\\nAn experimental design was e...</td>\n",
              "    </tr>\n",
              "    <tr>\n",
              "      <th>3075</th>\n",
              "      <td>JHTR</td>\n",
              "      <td>Pike, S</td>\n",
              "      <td>DESTINATION BRANDING CASE STUDY: TRACKING BRAN...</td>\n",
              "      <td>2010</td>\n",
              "      <td>10.1177/1096348009349820</td>\n",
              "      <td>NaN</td>\n",
              "      <td>NaN</td>\n",
              "      <td>\\nMETHOD\\nThe 2003 longitudinal study took pla...</td>\n",
              "    </tr>\n",
              "  </tbody>\n",
              "</table>\n",
              "<p>3076 rows × 8 columns</p>\n",
              "</div>"
            ],
            "text/plain": [
              "         JO  ...                                        methodology\n",
              "0     IJCHM  ...  Methodology\\nThe design is qualitative and exp...\n",
              "1     IJCHM  ...  Data\\nThere are no official statistics on the ...\n",
              "2     IJCHM  ...  3. Research method\\nWe searched the empirical ...\n",
              "3     IJCHM  ...  Methods\\nParticipants\\nEmployees from operatio...\n",
              "4     IJCHM  ...  Method\\nDesign\\nParticipants made dining decis...\n",
              "...     ...  ...                                                ...\n",
              "3071   JHTR  ...  \\nMETHOD\\nMeasures\\nSignificant discrepant res...\n",
              "3072   JHTR  ...  \\nMETHOD\\nSample and Data Collection\\nBecause ...\n",
              "3073   JHTR  ...  \\nMETHOD\\nData Collection\\nManagement from 13 ...\n",
              "3074   JHTR  ...  \\nMETHOD\\nSample\\nAn experimental design was e...\n",
              "3075   JHTR  ...  \\nMETHOD\\nThe 2003 longitudinal study took pla...\n",
              "\n",
              "[3076 rows x 8 columns]"
            ]
          },
          "metadata": {
            "tags": []
          },
          "execution_count": 16
        }
      ]
    },
    {
      "cell_type": "code",
      "metadata": {
        "colab": {
          "base_uri": "https://localhost:8080/",
          "height": 941
        },
        "id": "AARpH_MtSadM",
        "outputId": "89d92091-104c-485d-c16f-89b048a0c6be"
      },
      "source": [
        "df_merged = pd.merge(df_method[[\"TI\", \"QUANTITATIVE\", \"Method\"]], df, left_on=\"TI\", right_on=\"TI\")\n",
        "df_merged"
      ],
      "execution_count": null,
      "outputs": [
        {
          "output_type": "execute_result",
          "data": {
            "text/html": [
              "<div>\n",
              "<style scoped>\n",
              "    .dataframe tbody tr th:only-of-type {\n",
              "        vertical-align: middle;\n",
              "    }\n",
              "\n",
              "    .dataframe tbody tr th {\n",
              "        vertical-align: top;\n",
              "    }\n",
              "\n",
              "    .dataframe thead th {\n",
              "        text-align: right;\n",
              "    }\n",
              "</style>\n",
              "<table border=\"1\" class=\"dataframe\">\n",
              "  <thead>\n",
              "    <tr style=\"text-align: right;\">\n",
              "      <th></th>\n",
              "      <th>TI</th>\n",
              "      <th>QUANTITATIVE</th>\n",
              "      <th>Method</th>\n",
              "      <th>JO</th>\n",
              "      <th>AU</th>\n",
              "      <th>PY</th>\n",
              "      <th>DI</th>\n",
              "      <th>urls</th>\n",
              "      <th>filename</th>\n",
              "      <th>methodology</th>\n",
              "    </tr>\n",
              "  </thead>\n",
              "  <tbody>\n",
              "    <tr>\n",
              "      <th>0</th>\n",
              "      <td>Towards a hierarchy of hotel guests' in-room n...</td>\n",
              "      <td>0</td>\n",
              "      <td>phenomenology</td>\n",
              "      <td>IJCHM</td>\n",
              "      <td>Ineson, EM; Comic, D; Kalmic, L</td>\n",
              "      <td>2019</td>\n",
              "      <td>10.1108/IJCHM-01-2019-0061</td>\n",
              "      <td>https://www.emerald.com/insight/content/doi/10...</td>\n",
              "      <td>IJCHM_0.txt</td>\n",
              "      <td>Methodology\\nThe design is qualitative and exp...</td>\n",
              "    </tr>\n",
              "    <tr>\n",
              "      <th>1</th>\n",
              "      <td>Barcelona's peer-to-peer tourist accommodation...</td>\n",
              "      <td>1</td>\n",
              "      <td>secondary data</td>\n",
              "      <td>IJCHM</td>\n",
              "      <td>Benitez-Aurioles, B</td>\n",
              "      <td>2019</td>\n",
              "      <td>10.1108/IJCHM-01-2019-0090</td>\n",
              "      <td>https://www.emerald.com/insight/content/doi/10...</td>\n",
              "      <td>IJCHM_1.txt</td>\n",
              "      <td>Data\\nThere are no official statistics on the ...</td>\n",
              "    </tr>\n",
              "    <tr>\n",
              "      <th>2</th>\n",
              "      <td>A meta-regression on the effect of online rati...</td>\n",
              "      <td>0</td>\n",
              "      <td>review</td>\n",
              "      <td>IJCHM</td>\n",
              "      <td>Hu, XB; Yang, Y; Park, S</td>\n",
              "      <td>2019</td>\n",
              "      <td>10.1108/IJCHM-10-2018-0835</td>\n",
              "      <td>https://www.emerald.com/insight/content/doi/10...</td>\n",
              "      <td>IJCHM_2.txt</td>\n",
              "      <td>3. Research method\\nWe searched the empirical ...</td>\n",
              "    </tr>\n",
              "    <tr>\n",
              "      <th>3</th>\n",
              "      <td>Examining work factors after Malaysia's minimu...</td>\n",
              "      <td>1</td>\n",
              "      <td>survey</td>\n",
              "      <td>IJCHM</td>\n",
              "      <td>Ahmat, NHC; Arendt, SW; Russell, DW</td>\n",
              "      <td>2019</td>\n",
              "      <td>10.1108/IJCHM-10-2018-0827</td>\n",
              "      <td>https://www.emerald.com/insight/content/doi/10...</td>\n",
              "      <td>IJCHM_3.txt</td>\n",
              "      <td>Methods\\nParticipants\\nEmployees from operatio...</td>\n",
              "    </tr>\n",
              "    <tr>\n",
              "      <th>4</th>\n",
              "      <td>Seeking reward or avoiding risk from restauran...</td>\n",
              "      <td>1</td>\n",
              "      <td>experimental</td>\n",
              "      <td>IJCHM</td>\n",
              "      <td>Kim, EL; Tanford, S</td>\n",
              "      <td>2019</td>\n",
              "      <td>10.1108/IJCHM-03-2018-0235</td>\n",
              "      <td>https://www.emerald.com/insight/content/doi/10...</td>\n",
              "      <td>IJCHM_4.txt</td>\n",
              "      <td>Method\\nDesign\\nParticipants made dining decis...</td>\n",
              "    </tr>\n",
              "    <tr>\n",
              "      <th>...</th>\n",
              "      <td>...</td>\n",
              "      <td>...</td>\n",
              "      <td>...</td>\n",
              "      <td>...</td>\n",
              "      <td>...</td>\n",
              "      <td>...</td>\n",
              "      <td>...</td>\n",
              "      <td>...</td>\n",
              "      <td>...</td>\n",
              "      <td>...</td>\n",
              "    </tr>\n",
              "    <tr>\n",
              "      <th>3071</th>\n",
              "      <td>Attitudes, Perceptions, and Responses of Purch...</td>\n",
              "      <td>1</td>\n",
              "      <td>survey</td>\n",
              "      <td>JHMM</td>\n",
              "      <td>Ong, BS</td>\n",
              "      <td>2015</td>\n",
              "      <td>10.1080/19368623.2014.901201</td>\n",
              "      <td>https://www.tandfonline.com/doi/full/10.1080/1...</td>\n",
              "      <td>JHMM_223.txt</td>\n",
              "      <td>\\nMETHODOLOGY\\nGiven that daily deals are Inte...</td>\n",
              "    </tr>\n",
              "    <tr>\n",
              "      <th>3072</th>\n",
              "      <td>Exploring the Antecedents of Hotel Customer Lo...</td>\n",
              "      <td>1</td>\n",
              "      <td>survey</td>\n",
              "      <td>JHMM</td>\n",
              "      <td>de Leaniz, PMG; Rodriguez, IRD</td>\n",
              "      <td>2015</td>\n",
              "      <td>10.1080/19368623.2014.891961</td>\n",
              "      <td>https://www.tandfonline.com/doi/full/10.1080/1...</td>\n",
              "      <td>JHMM_224.txt</td>\n",
              "      <td>\\nMETHOD OF ANALYSIS\\nData Collection and Samp...</td>\n",
              "    </tr>\n",
              "    <tr>\n",
              "      <th>3073</th>\n",
              "      <td>Casual Dining on the French Riviera: Examining...</td>\n",
              "      <td>1</td>\n",
              "      <td>survey</td>\n",
              "      <td>JHMM</td>\n",
              "      <td>Prayag, G; Khoo-Lattimore, C; Sitruk, J</td>\n",
              "      <td>2015</td>\n",
              "      <td>10.1080/19368623.2014.859114</td>\n",
              "      <td>https://www.tandfonline.com/doi/full/10.1080/1...</td>\n",
              "      <td>JHMM_225.txt</td>\n",
              "      <td>\\nMETHODOLOGY\\nThe Study Site\\nThe French Rivi...</td>\n",
              "    </tr>\n",
              "    <tr>\n",
              "      <th>3074</th>\n",
              "      <td>The Influence of DMO Advertising on Specific D...</td>\n",
              "      <td>1</td>\n",
              "      <td>survey</td>\n",
              "      <td>JHMM</td>\n",
              "      <td>Morosan, C</td>\n",
              "      <td>2015</td>\n",
              "      <td>10.1080/19368623.2014.891962</td>\n",
              "      <td>https://www.tandfonline.com/doi/full/10.1080/1...</td>\n",
              "      <td>JHMM_226.txt</td>\n",
              "      <td>\\nMETHODOLOGY\\nInstrument Development\\nThe res...</td>\n",
              "    </tr>\n",
              "    <tr>\n",
              "      <th>3075</th>\n",
              "      <td>How Do Customers Perceive Service Quality in D...</td>\n",
              "      <td>1</td>\n",
              "      <td>survey</td>\n",
              "      <td>JHMM</td>\n",
              "      <td>Cao, Y; Kim, K</td>\n",
              "      <td>2015</td>\n",
              "      <td>10.1080/19368623.2014.903817</td>\n",
              "      <td>https://www.tandfonline.com/doi/full/10.1080/1...</td>\n",
              "      <td>JHMM_228.txt</td>\n",
              "      <td>\\nMETHOD\\nInstrument Development\\nThe survey q...</td>\n",
              "    </tr>\n",
              "  </tbody>\n",
              "</table>\n",
              "<p>3076 rows × 10 columns</p>\n",
              "</div>"
            ],
            "text/plain": [
              "                                                     TI  ...                                        methodology\n",
              "0     Towards a hierarchy of hotel guests' in-room n...  ...  Methodology\\nThe design is qualitative and exp...\n",
              "1     Barcelona's peer-to-peer tourist accommodation...  ...  Data\\nThere are no official statistics on the ...\n",
              "2     A meta-regression on the effect of online rati...  ...  3. Research method\\nWe searched the empirical ...\n",
              "3     Examining work factors after Malaysia's minimu...  ...  Methods\\nParticipants\\nEmployees from operatio...\n",
              "4     Seeking reward or avoiding risk from restauran...  ...  Method\\nDesign\\nParticipants made dining decis...\n",
              "...                                                 ...  ...                                                ...\n",
              "3071  Attitudes, Perceptions, and Responses of Purch...  ...  \\nMETHODOLOGY\\nGiven that daily deals are Inte...\n",
              "3072  Exploring the Antecedents of Hotel Customer Lo...  ...  \\nMETHOD OF ANALYSIS\\nData Collection and Samp...\n",
              "3073  Casual Dining on the French Riviera: Examining...  ...  \\nMETHODOLOGY\\nThe Study Site\\nThe French Rivi...\n",
              "3074  The Influence of DMO Advertising on Specific D...  ...  \\nMETHODOLOGY\\nInstrument Development\\nThe res...\n",
              "3075  How Do Customers Perceive Service Quality in D...  ...  \\nMETHOD\\nInstrument Development\\nThe survey q...\n",
              "\n",
              "[3076 rows x 10 columns]"
            ]
          },
          "metadata": {
            "tags": []
          },
          "execution_count": 17
        }
      ]
    },
    {
      "cell_type": "code",
      "metadata": {
        "colab": {
          "base_uri": "https://localhost:8080/"
        },
        "id": "mdH2moq8SaZi",
        "outputId": "51df7440-d8dc-4313-d57b-da16a8c4d184"
      },
      "source": [
        "df_merged.isnull().sum()"
      ],
      "execution_count": null,
      "outputs": [
        {
          "output_type": "execute_result",
          "data": {
            "text/plain": [
              "TI               0\n",
              "QUANTITATIVE     0\n",
              "Method           0\n",
              "JO               0\n",
              "AU               0\n",
              "PY               0\n",
              "DI               1\n",
              "urls            83\n",
              "filename        84\n",
              "methodology      0\n",
              "dtype: int64"
            ]
          },
          "metadata": {
            "tags": []
          },
          "execution_count": 18
        }
      ]
    },
    {
      "cell_type": "code",
      "metadata": {
        "colab": {
          "base_uri": "https://localhost:8080/"
        },
        "id": "4OC6W2T3SaXM",
        "outputId": "e85806b4-b39a-4791-d93f-21a7cdfc9afc"
      },
      "source": [
        "df_merged.Method.value_counts()"
      ],
      "execution_count": null,
      "outputs": [
        {
          "output_type": "execute_result",
          "data": {
            "text/plain": [
              "survey               1511\n",
              "secondary data        525\n",
              "experimental          346\n",
              "qualitative           177\n",
              "mixed                 112\n",
              "content analysis      104\n",
              "case study             99\n",
              "review                 76\n",
              "scale development      38\n",
              "bibliometric           18\n",
              "grounded theory        16\n",
              "phenomenology          15\n",
              "theoretical            11\n",
              "meta-analysis           7\n",
              "ethnography             6\n",
              "sna                     5\n",
              "textual analysis        4\n",
              "delphi                  3\n",
              "interview               1\n",
              "field study             1\n",
              "research note           1\n",
              "Name: Method, dtype: int64"
            ]
          },
          "metadata": {
            "tags": []
          },
          "execution_count": 19
        }
      ]
    },
    {
      "cell_type": "code",
      "metadata": {
        "colab": {
          "base_uri": "https://localhost:8080/",
          "height": 890
        },
        "id": "mh2hmLE6SaUB",
        "outputId": "956119fa-0c37-40f9-e7d0-6b45ad4b6f3f"
      },
      "source": [
        "df_filtered = df_merged.groupby(\"Method\").filter(lambda x: len(x)>100)\n",
        "df_filtered"
      ],
      "execution_count": null,
      "outputs": [
        {
          "output_type": "execute_result",
          "data": {
            "text/html": [
              "<div>\n",
              "<style scoped>\n",
              "    .dataframe tbody tr th:only-of-type {\n",
              "        vertical-align: middle;\n",
              "    }\n",
              "\n",
              "    .dataframe tbody tr th {\n",
              "        vertical-align: top;\n",
              "    }\n",
              "\n",
              "    .dataframe thead th {\n",
              "        text-align: right;\n",
              "    }\n",
              "</style>\n",
              "<table border=\"1\" class=\"dataframe\">\n",
              "  <thead>\n",
              "    <tr style=\"text-align: right;\">\n",
              "      <th></th>\n",
              "      <th>TI</th>\n",
              "      <th>QUANTITATIVE</th>\n",
              "      <th>Method</th>\n",
              "      <th>JO</th>\n",
              "      <th>AU</th>\n",
              "      <th>PY</th>\n",
              "      <th>DI</th>\n",
              "      <th>urls</th>\n",
              "      <th>filename</th>\n",
              "      <th>methodology</th>\n",
              "    </tr>\n",
              "  </thead>\n",
              "  <tbody>\n",
              "    <tr>\n",
              "      <th>1</th>\n",
              "      <td>Barcelona's peer-to-peer tourist accommodation...</td>\n",
              "      <td>1</td>\n",
              "      <td>secondary data</td>\n",
              "      <td>IJCHM</td>\n",
              "      <td>Benitez-Aurioles, B</td>\n",
              "      <td>2019</td>\n",
              "      <td>10.1108/IJCHM-01-2019-0090</td>\n",
              "      <td>https://www.emerald.com/insight/content/doi/10...</td>\n",
              "      <td>IJCHM_1.txt</td>\n",
              "      <td>Data\\nThere are no official statistics on the ...</td>\n",
              "    </tr>\n",
              "    <tr>\n",
              "      <th>3</th>\n",
              "      <td>Examining work factors after Malaysia's minimu...</td>\n",
              "      <td>1</td>\n",
              "      <td>survey</td>\n",
              "      <td>IJCHM</td>\n",
              "      <td>Ahmat, NHC; Arendt, SW; Russell, DW</td>\n",
              "      <td>2019</td>\n",
              "      <td>10.1108/IJCHM-10-2018-0827</td>\n",
              "      <td>https://www.emerald.com/insight/content/doi/10...</td>\n",
              "      <td>IJCHM_3.txt</td>\n",
              "      <td>Methods\\nParticipants\\nEmployees from operatio...</td>\n",
              "    </tr>\n",
              "    <tr>\n",
              "      <th>4</th>\n",
              "      <td>Seeking reward or avoiding risk from restauran...</td>\n",
              "      <td>1</td>\n",
              "      <td>experimental</td>\n",
              "      <td>IJCHM</td>\n",
              "      <td>Kim, EL; Tanford, S</td>\n",
              "      <td>2019</td>\n",
              "      <td>10.1108/IJCHM-03-2018-0235</td>\n",
              "      <td>https://www.emerald.com/insight/content/doi/10...</td>\n",
              "      <td>IJCHM_4.txt</td>\n",
              "      <td>Method\\nDesign\\nParticipants made dining decis...</td>\n",
              "    </tr>\n",
              "    <tr>\n",
              "      <th>5</th>\n",
              "      <td>Prices of short-stay accommodation: time serie...</td>\n",
              "      <td>1</td>\n",
              "      <td>secondary data</td>\n",
              "      <td>IJCHM</td>\n",
              "      <td>Gricar, S; Bojnec, S</td>\n",
              "      <td>2019</td>\n",
              "      <td>10.1108/IJCHM-01-2019-0091</td>\n",
              "      <td>https://www.emerald.com/insight/content/doi/10...</td>\n",
              "      <td>IJCHM_5.txt</td>\n",
              "      <td>Empirical setting\\nIn terms of relevant econom...</td>\n",
              "    </tr>\n",
              "    <tr>\n",
              "      <th>6</th>\n",
              "      <td>How do online reviewers' cultural traits and p...</td>\n",
              "      <td>1</td>\n",
              "      <td>content analysis</td>\n",
              "      <td>IJCHM</td>\n",
              "      <td>Mariani, M; Predvoditeleva, M</td>\n",
              "      <td>2019</td>\n",
              "      <td>10.1108/IJCHM-11-2018-0927</td>\n",
              "      <td>https://www.emerald.com/insight/content/doi/10...</td>\n",
              "      <td>IJCHM_7.txt</td>\n",
              "      <td>3. Research setting, design and methodology\\n3...</td>\n",
              "    </tr>\n",
              "    <tr>\n",
              "      <th>...</th>\n",
              "      <td>...</td>\n",
              "      <td>...</td>\n",
              "      <td>...</td>\n",
              "      <td>...</td>\n",
              "      <td>...</td>\n",
              "      <td>...</td>\n",
              "      <td>...</td>\n",
              "      <td>...</td>\n",
              "      <td>...</td>\n",
              "      <td>...</td>\n",
              "    </tr>\n",
              "    <tr>\n",
              "      <th>3071</th>\n",
              "      <td>Attitudes, Perceptions, and Responses of Purch...</td>\n",
              "      <td>1</td>\n",
              "      <td>survey</td>\n",
              "      <td>JHMM</td>\n",
              "      <td>Ong, BS</td>\n",
              "      <td>2015</td>\n",
              "      <td>10.1080/19368623.2014.901201</td>\n",
              "      <td>https://www.tandfonline.com/doi/full/10.1080/1...</td>\n",
              "      <td>JHMM_223.txt</td>\n",
              "      <td>\\nMETHODOLOGY\\nGiven that daily deals are Inte...</td>\n",
              "    </tr>\n",
              "    <tr>\n",
              "      <th>3072</th>\n",
              "      <td>Exploring the Antecedents of Hotel Customer Lo...</td>\n",
              "      <td>1</td>\n",
              "      <td>survey</td>\n",
              "      <td>JHMM</td>\n",
              "      <td>de Leaniz, PMG; Rodriguez, IRD</td>\n",
              "      <td>2015</td>\n",
              "      <td>10.1080/19368623.2014.891961</td>\n",
              "      <td>https://www.tandfonline.com/doi/full/10.1080/1...</td>\n",
              "      <td>JHMM_224.txt</td>\n",
              "      <td>\\nMETHOD OF ANALYSIS\\nData Collection and Samp...</td>\n",
              "    </tr>\n",
              "    <tr>\n",
              "      <th>3073</th>\n",
              "      <td>Casual Dining on the French Riviera: Examining...</td>\n",
              "      <td>1</td>\n",
              "      <td>survey</td>\n",
              "      <td>JHMM</td>\n",
              "      <td>Prayag, G; Khoo-Lattimore, C; Sitruk, J</td>\n",
              "      <td>2015</td>\n",
              "      <td>10.1080/19368623.2014.859114</td>\n",
              "      <td>https://www.tandfonline.com/doi/full/10.1080/1...</td>\n",
              "      <td>JHMM_225.txt</td>\n",
              "      <td>\\nMETHODOLOGY\\nThe Study Site\\nThe French Rivi...</td>\n",
              "    </tr>\n",
              "    <tr>\n",
              "      <th>3074</th>\n",
              "      <td>The Influence of DMO Advertising on Specific D...</td>\n",
              "      <td>1</td>\n",
              "      <td>survey</td>\n",
              "      <td>JHMM</td>\n",
              "      <td>Morosan, C</td>\n",
              "      <td>2015</td>\n",
              "      <td>10.1080/19368623.2014.891962</td>\n",
              "      <td>https://www.tandfonline.com/doi/full/10.1080/1...</td>\n",
              "      <td>JHMM_226.txt</td>\n",
              "      <td>\\nMETHODOLOGY\\nInstrument Development\\nThe res...</td>\n",
              "    </tr>\n",
              "    <tr>\n",
              "      <th>3075</th>\n",
              "      <td>How Do Customers Perceive Service Quality in D...</td>\n",
              "      <td>1</td>\n",
              "      <td>survey</td>\n",
              "      <td>JHMM</td>\n",
              "      <td>Cao, Y; Kim, K</td>\n",
              "      <td>2015</td>\n",
              "      <td>10.1080/19368623.2014.903817</td>\n",
              "      <td>https://www.tandfonline.com/doi/full/10.1080/1...</td>\n",
              "      <td>JHMM_228.txt</td>\n",
              "      <td>\\nMETHOD\\nInstrument Development\\nThe survey q...</td>\n",
              "    </tr>\n",
              "  </tbody>\n",
              "</table>\n",
              "<p>2775 rows × 10 columns</p>\n",
              "</div>"
            ],
            "text/plain": [
              "                                                     TI  ...                                        methodology\n",
              "1     Barcelona's peer-to-peer tourist accommodation...  ...  Data\\nThere are no official statistics on the ...\n",
              "3     Examining work factors after Malaysia's minimu...  ...  Methods\\nParticipants\\nEmployees from operatio...\n",
              "4     Seeking reward or avoiding risk from restauran...  ...  Method\\nDesign\\nParticipants made dining decis...\n",
              "5     Prices of short-stay accommodation: time serie...  ...  Empirical setting\\nIn terms of relevant econom...\n",
              "6     How do online reviewers' cultural traits and p...  ...  3. Research setting, design and methodology\\n3...\n",
              "...                                                 ...  ...                                                ...\n",
              "3071  Attitudes, Perceptions, and Responses of Purch...  ...  \\nMETHODOLOGY\\nGiven that daily deals are Inte...\n",
              "3072  Exploring the Antecedents of Hotel Customer Lo...  ...  \\nMETHOD OF ANALYSIS\\nData Collection and Samp...\n",
              "3073  Casual Dining on the French Riviera: Examining...  ...  \\nMETHODOLOGY\\nThe Study Site\\nThe French Rivi...\n",
              "3074  The Influence of DMO Advertising on Specific D...  ...  \\nMETHODOLOGY\\nInstrument Development\\nThe res...\n",
              "3075  How Do Customers Perceive Service Quality in D...  ...  \\nMETHOD\\nInstrument Development\\nThe survey q...\n",
              "\n",
              "[2775 rows x 10 columns]"
            ]
          },
          "metadata": {
            "tags": []
          },
          "execution_count": 20
        }
      ]
    },
    {
      "cell_type": "code",
      "metadata": {
        "id": "eGwNj5CRVn59"
      },
      "source": [
        "df_filtered = df_filtered[df_filtered.Method!=\"mixed\"]"
      ],
      "execution_count": null,
      "outputs": []
    },
    {
      "cell_type": "code",
      "metadata": {
        "colab": {
          "base_uri": "https://localhost:8080/"
        },
        "id": "0HIMvGdyQAvl",
        "outputId": "8a815736-f0cb-44db-e6dc-0cab696f6fdb"
      },
      "source": [
        "len(df_filtered)"
      ],
      "execution_count": null,
      "outputs": [
        {
          "output_type": "execute_result",
          "data": {
            "text/plain": [
              "2663"
            ]
          },
          "metadata": {
            "tags": []
          },
          "execution_count": 22
        }
      ]
    },
    {
      "cell_type": "code",
      "metadata": {
        "colab": {
          "base_uri": "https://localhost:8080/"
        },
        "id": "geMUgmQwSaQ-",
        "outputId": "b915cbba-009f-48a3-bf0b-78104f6f10b1"
      },
      "source": [
        "df_filtered.Method.value_counts()"
      ],
      "execution_count": null,
      "outputs": [
        {
          "output_type": "execute_result",
          "data": {
            "text/plain": [
              "survey              1511\n",
              "secondary data       525\n",
              "experimental         346\n",
              "qualitative          177\n",
              "content analysis     104\n",
              "Name: Method, dtype: int64"
            ]
          },
          "metadata": {
            "tags": []
          },
          "execution_count": 23
        }
      ]
    },
    {
      "cell_type": "code",
      "metadata": {
        "colab": {
          "base_uri": "https://localhost:8080/"
        },
        "id": "uOZFuzraVnzO",
        "outputId": "b32c7765-9fe7-4038-90fb-c476e00c09ea"
      },
      "source": [
        "df_filtered.Method.value_counts(normalize=True)"
      ],
      "execution_count": null,
      "outputs": [
        {
          "output_type": "execute_result",
          "data": {
            "text/plain": [
              "survey              0.567405\n",
              "secondary data      0.197146\n",
              "experimental        0.129929\n",
              "qualitative         0.066466\n",
              "content analysis    0.039054\n",
              "Name: Method, dtype: float64"
            ]
          },
          "metadata": {
            "tags": []
          },
          "execution_count": 24
        }
      ]
    },
    {
      "cell_type": "code",
      "metadata": {
        "id": "qbjB3DrLY5nc"
      },
      "source": [
        "# tqdm is a great progress bar for python\n",
        "# tqdm.auto automatically selects a text based progress \n",
        "# for the console \n",
        "# and html based output in jupyter notebooks\n",
        "from tqdm.auto import tqdm\n",
        "\n",
        "# DocBin is spacys new way to store Docs in a \n",
        "# binary format for training later\n",
        "from spacy.tokens import DocBin\n"
      ],
      "execution_count": null,
      "outputs": []
    },
    {
      "cell_type": "code",
      "metadata": {
        "colab": {
          "base_uri": "https://localhost:8080/"
        },
        "id": "vuOhsAWSag0k",
        "outputId": "39d57d49-0c66-43ee-c004-2309d0d6c217"
      },
      "source": [
        "N= int(len(df_filtered) * 0.8)\n",
        "N"
      ],
      "execution_count": null,
      "outputs": [
        {
          "output_type": "execute_result",
          "data": {
            "text/plain": [
              "2130"
            ]
          },
          "metadata": {
            "tags": []
          },
          "execution_count": 26
        }
      ]
    },
    {
      "cell_type": "code",
      "metadata": {
        "colab": {
          "base_uri": "https://localhost:8080/",
          "height": 1000
        },
        "id": "7ppo_1OdODbw",
        "outputId": "0e5d6013-1f7e-446b-a6a1-30094098b4d1"
      },
      "source": [
        "df_train = df_filtered.groupby('Method', group_keys=False).apply(lambda x: x.sample(int(np.rint(N*len(x)/len(df_filtered))))).sample(frac=1).reset_index(drop=True)\n",
        "df_train"
      ],
      "execution_count": null,
      "outputs": [
        {
          "output_type": "execute_result",
          "data": {
            "text/html": [
              "<div>\n",
              "<style scoped>\n",
              "    .dataframe tbody tr th:only-of-type {\n",
              "        vertical-align: middle;\n",
              "    }\n",
              "\n",
              "    .dataframe tbody tr th {\n",
              "        vertical-align: top;\n",
              "    }\n",
              "\n",
              "    .dataframe thead th {\n",
              "        text-align: right;\n",
              "    }\n",
              "</style>\n",
              "<table border=\"1\" class=\"dataframe\">\n",
              "  <thead>\n",
              "    <tr style=\"text-align: right;\">\n",
              "      <th></th>\n",
              "      <th>TI</th>\n",
              "      <th>QUANTITATIVE</th>\n",
              "      <th>Method</th>\n",
              "      <th>JO</th>\n",
              "      <th>AU</th>\n",
              "      <th>PY</th>\n",
              "      <th>DI</th>\n",
              "      <th>urls</th>\n",
              "      <th>filename</th>\n",
              "      <th>methodology</th>\n",
              "    </tr>\n",
              "  </thead>\n",
              "  <tbody>\n",
              "    <tr>\n",
              "      <th>0</th>\n",
              "      <td>Spend less and experience more: Understanding ...</td>\n",
              "      <td>0</td>\n",
              "      <td>qualitative</td>\n",
              "      <td>IJHM</td>\n",
              "      <td>Lin, PMC; Fan, DXF; Zhang, HQQ; Lau, C</td>\n",
              "      <td>2019</td>\n",
              "      <td>10.1016/j.ijhm.2019.04.007</td>\n",
              "      <td>https://www.sciencedirect.com/science/article/...</td>\n",
              "      <td>IJHM_1465.txt</td>\n",
              "      <td>3. Methodology\\nThe current study followed an ...</td>\n",
              "    </tr>\n",
              "    <tr>\n",
              "      <th>1</th>\n",
              "      <td>TOURISTS' PERCEIVED RISKS TOWARD OVERT SAFETY ...</td>\n",
              "      <td>1</td>\n",
              "      <td>survey</td>\n",
              "      <td>JHTR</td>\n",
              "      <td>Rittichainuwat, BN</td>\n",
              "      <td>2013</td>\n",
              "      <td>10.1177/1096348011425494</td>\n",
              "      <td>https://journals.sagepub.com/doi/full/10.1177/...</td>\n",
              "      <td>JHTR_38.txt</td>\n",
              "      <td>Method\\nInstrument\\nConsolidation of safety it...</td>\n",
              "    </tr>\n",
              "    <tr>\n",
              "      <th>2</th>\n",
              "      <td>Foodservice hygiene factors-The consumer persp...</td>\n",
              "      <td>1</td>\n",
              "      <td>survey</td>\n",
              "      <td>IJHM</td>\n",
              "      <td>Fatimah, UZAU; Boo, HC; Sambasivan, M; Salleh, R</td>\n",
              "      <td>2011</td>\n",
              "      <td>10.1016/j.ijhm.2010.04.001</td>\n",
              "      <td>https://www.sciencedirect.com/science/article/...</td>\n",
              "      <td>IJHM_102.txt</td>\n",
              "      <td>3. Methodology\\n3.1. Preliminary study\\nAcadem...</td>\n",
              "    </tr>\n",
              "    <tr>\n",
              "      <th>3</th>\n",
              "      <td>The Uniqueness of Revenue Management Approache...</td>\n",
              "      <td>1</td>\n",
              "      <td>secondary data</td>\n",
              "      <td>JHTR</td>\n",
              "      <td>Noone, BM; Enz, CA; Canina, L</td>\n",
              "      <td>2019</td>\n",
              "      <td>10.1177/1096348019828094</td>\n",
              "      <td>https://journals.sagepub.com/doi/full/10.1177/...</td>\n",
              "      <td>JHTR_268.txt</td>\n",
              "      <td>Method\\nSample\\nThis study is based on reserva...</td>\n",
              "    </tr>\n",
              "    <tr>\n",
              "      <th>4</th>\n",
              "      <td>Effects of nature-based solutions (NBS) on eco...</td>\n",
              "      <td>1</td>\n",
              "      <td>survey</td>\n",
              "      <td>JHMM</td>\n",
              "      <td>Han, H; Yu, J; Hyun, SS</td>\n",
              "      <td>2010</td>\n",
              "      <td>10.1080/19368623.2019.1660751</td>\n",
              "      <td>https://www.tandfonline.com/doi/full/10.1080/1...</td>\n",
              "      <td>JHMM_21.txt</td>\n",
              "      <td>Methods\\nMeasures and survey questionnaire\\nTh...</td>\n",
              "    </tr>\n",
              "    <tr>\n",
              "      <th>...</th>\n",
              "      <td>...</td>\n",
              "      <td>...</td>\n",
              "      <td>...</td>\n",
              "      <td>...</td>\n",
              "      <td>...</td>\n",
              "      <td>...</td>\n",
              "      <td>...</td>\n",
              "      <td>...</td>\n",
              "      <td>...</td>\n",
              "      <td>...</td>\n",
              "    </tr>\n",
              "    <tr>\n",
              "      <th>2126</th>\n",
              "      <td>Empowerment, Organizational Commitment, and Vo...</td>\n",
              "      <td>1</td>\n",
              "      <td>survey</td>\n",
              "      <td>CHQ</td>\n",
              "      <td>Raub, S; Robert, C</td>\n",
              "      <td>2013</td>\n",
              "      <td>10.1177/1938965512457240</td>\n",
              "      <td>https://journals.sagepub.com/doi/full/10.1177/...</td>\n",
              "      <td>CHQ_73.txt</td>\n",
              "      <td>Method\\nSample\\nWe obtained survey data from f...</td>\n",
              "    </tr>\n",
              "    <tr>\n",
              "      <th>2127</th>\n",
              "      <td>Racial and Ethnic Differences in Tipping: The ...</td>\n",
              "      <td>1</td>\n",
              "      <td>survey</td>\n",
              "      <td>CHQ</td>\n",
              "      <td>Lynn, M; Brewster, ZW</td>\n",
              "      <td>2015</td>\n",
              "      <td>10.1177/1938965514553466</td>\n",
              "      <td>https://journals.sagepub.com/doi/full/10.1177/...</td>\n",
              "      <td>CHQ_148.txt</td>\n",
              "      <td>Method\\nSample\\nMembers of Survey Sampling Int...</td>\n",
              "    </tr>\n",
              "    <tr>\n",
              "      <th>2128</th>\n",
              "      <td>Contingency variables for customer share of vi...</td>\n",
              "      <td>1</td>\n",
              "      <td>survey</td>\n",
              "      <td>IJHM</td>\n",
              "      <td>Kim, W; Ok, C; Canter, DD</td>\n",
              "      <td>2010</td>\n",
              "      <td>10.1016/j.ijhm.2009.07.003</td>\n",
              "      <td>https://www.sciencedirect.com/science/article/...</td>\n",
              "      <td>IJHM_16.txt</td>\n",
              "      <td>4. Methodology\\n4.1. Measures\\nThe conceptual ...</td>\n",
              "    </tr>\n",
              "    <tr>\n",
              "      <th>2129</th>\n",
              "      <td>Opportunism in Brand Partnerships: Effects of ...</td>\n",
              "      <td>1</td>\n",
              "      <td>survey</td>\n",
              "      <td>CHQ</td>\n",
              "      <td>Dev, CS; Grzeskowiak, S; Brown, JR</td>\n",
              "      <td>2011</td>\n",
              "      <td>10.1177/1938965510397656</td>\n",
              "      <td>https://journals.sagepub.com/doi/full/10.1177/...</td>\n",
              "      <td>CHQ_4.txt</td>\n",
              "      <td>Case Study 1\\nWhen Scott Robinson “did the mat...</td>\n",
              "    </tr>\n",
              "    <tr>\n",
              "      <th>2130</th>\n",
              "      <td>Spa market segmentation according to customer ...</td>\n",
              "      <td>1</td>\n",
              "      <td>survey</td>\n",
              "      <td>IJCHM</td>\n",
              "      <td>Guillet, BD; Kucukusta, D</td>\n",
              "      <td>2016</td>\n",
              "      <td>10.1108/IJCHM-07-2014-0374</td>\n",
              "      <td>https://www.emerald.com/insight/content/doi/10...</td>\n",
              "      <td>IJCHM_586.txt</td>\n",
              "      <td>3. Methodology\\n3.1 The conjoint analysis appr...</td>\n",
              "    </tr>\n",
              "  </tbody>\n",
              "</table>\n",
              "<p>2131 rows × 10 columns</p>\n",
              "</div>"
            ],
            "text/plain": [
              "                                                     TI  ...                                        methodology\n",
              "0     Spend less and experience more: Understanding ...  ...  3. Methodology\\nThe current study followed an ...\n",
              "1     TOURISTS' PERCEIVED RISKS TOWARD OVERT SAFETY ...  ...  Method\\nInstrument\\nConsolidation of safety it...\n",
              "2     Foodservice hygiene factors-The consumer persp...  ...  3. Methodology\\n3.1. Preliminary study\\nAcadem...\n",
              "3     The Uniqueness of Revenue Management Approache...  ...  Method\\nSample\\nThis study is based on reserva...\n",
              "4     Effects of nature-based solutions (NBS) on eco...  ...  Methods\\nMeasures and survey questionnaire\\nTh...\n",
              "...                                                 ...  ...                                                ...\n",
              "2126  Empowerment, Organizational Commitment, and Vo...  ...  Method\\nSample\\nWe obtained survey data from f...\n",
              "2127  Racial and Ethnic Differences in Tipping: The ...  ...  Method\\nSample\\nMembers of Survey Sampling Int...\n",
              "2128  Contingency variables for customer share of vi...  ...  4. Methodology\\n4.1. Measures\\nThe conceptual ...\n",
              "2129  Opportunism in Brand Partnerships: Effects of ...  ...  Case Study 1\\nWhen Scott Robinson “did the mat...\n",
              "2130  Spa market segmentation according to customer ...  ...  3. Methodology\\n3.1 The conjoint analysis appr...\n",
              "\n",
              "[2131 rows x 10 columns]"
            ]
          },
          "metadata": {
            "tags": []
          },
          "execution_count": 27
        }
      ]
    },
    {
      "cell_type": "code",
      "metadata": {
        "colab": {
          "base_uri": "https://localhost:8080/",
          "height": 974
        },
        "id": "yd7Pdh3UNVuv",
        "outputId": "15236c0f-1470-4fc7-a667-b1ff4eb48bac"
      },
      "source": [
        "df_valid = df_filtered[~df_filtered.TI.isin(df_train.TI)]\n",
        "df_valid"
      ],
      "execution_count": null,
      "outputs": [
        {
          "output_type": "execute_result",
          "data": {
            "text/html": [
              "<div>\n",
              "<style scoped>\n",
              "    .dataframe tbody tr th:only-of-type {\n",
              "        vertical-align: middle;\n",
              "    }\n",
              "\n",
              "    .dataframe tbody tr th {\n",
              "        vertical-align: top;\n",
              "    }\n",
              "\n",
              "    .dataframe thead th {\n",
              "        text-align: right;\n",
              "    }\n",
              "</style>\n",
              "<table border=\"1\" class=\"dataframe\">\n",
              "  <thead>\n",
              "    <tr style=\"text-align: right;\">\n",
              "      <th></th>\n",
              "      <th>TI</th>\n",
              "      <th>QUANTITATIVE</th>\n",
              "      <th>Method</th>\n",
              "      <th>JO</th>\n",
              "      <th>AU</th>\n",
              "      <th>PY</th>\n",
              "      <th>DI</th>\n",
              "      <th>urls</th>\n",
              "      <th>filename</th>\n",
              "      <th>methodology</th>\n",
              "    </tr>\n",
              "  </thead>\n",
              "  <tbody>\n",
              "    <tr>\n",
              "      <th>5</th>\n",
              "      <td>Prices of short-stay accommodation: time serie...</td>\n",
              "      <td>1</td>\n",
              "      <td>secondary data</td>\n",
              "      <td>IJCHM</td>\n",
              "      <td>Gricar, S; Bojnec, S</td>\n",
              "      <td>2019</td>\n",
              "      <td>10.1108/IJCHM-01-2019-0091</td>\n",
              "      <td>https://www.emerald.com/insight/content/doi/10...</td>\n",
              "      <td>IJCHM_5.txt</td>\n",
              "      <td>Empirical setting\\nIn terms of relevant econom...</td>\n",
              "    </tr>\n",
              "    <tr>\n",
              "      <th>6</th>\n",
              "      <td>How do online reviewers' cultural traits and p...</td>\n",
              "      <td>1</td>\n",
              "      <td>content analysis</td>\n",
              "      <td>IJCHM</td>\n",
              "      <td>Mariani, M; Predvoditeleva, M</td>\n",
              "      <td>2019</td>\n",
              "      <td>10.1108/IJCHM-11-2018-0927</td>\n",
              "      <td>https://www.emerald.com/insight/content/doi/10...</td>\n",
              "      <td>IJCHM_7.txt</td>\n",
              "      <td>3. Research setting, design and methodology\\n3...</td>\n",
              "    </tr>\n",
              "    <tr>\n",
              "      <th>9</th>\n",
              "      <td>Sexual harassment and customer-oriented bounda...</td>\n",
              "      <td>1</td>\n",
              "      <td>survey</td>\n",
              "      <td>IJCHM</td>\n",
              "      <td>Jung, HS; Yoon, HH</td>\n",
              "      <td>2020</td>\n",
              "      <td>10.1108/IJCHM-10-2018-0790</td>\n",
              "      <td>https://www.emerald.com/insight/content/doi/10...</td>\n",
              "      <td>IJCHM_10.txt</td>\n",
              "      <td>Research methodology\\nData collection and proc...</td>\n",
              "    </tr>\n",
              "    <tr>\n",
              "      <th>14</th>\n",
              "      <td>Understanding emotional customer experience an...</td>\n",
              "      <td>0</td>\n",
              "      <td>content analysis</td>\n",
              "      <td>IJCHM</td>\n",
              "      <td>Wu, SH; Gao, YH</td>\n",
              "      <td>2019</td>\n",
              "      <td>10.1108/IJCHM-04-2018-0302</td>\n",
              "      <td>https://www.emerald.com/insight/content/doi/10...</td>\n",
              "      <td>IJCHM_15.txt</td>\n",
              "      <td>3. Methodology\\n3.1 Research design and data c...</td>\n",
              "    </tr>\n",
              "    <tr>\n",
              "      <th>22</th>\n",
              "      <td>Conceptualising talent in multinational hotel ...</td>\n",
              "      <td>0</td>\n",
              "      <td>qualitative</td>\n",
              "      <td>IJCHM</td>\n",
              "      <td>Jooss, S; McDonnell, A; Burbach, R; Vaiman, V</td>\n",
              "      <td>2019</td>\n",
              "      <td>10.1108/IJCHM-10-2018-0849</td>\n",
              "      <td>https://www.emerald.com/insight/content/doi/10...</td>\n",
              "      <td>IJCHM_26.txt</td>\n",
              "      <td>Methodology\\nThe paper adapts a qualitative re...</td>\n",
              "    </tr>\n",
              "    <tr>\n",
              "      <th>...</th>\n",
              "      <td>...</td>\n",
              "      <td>...</td>\n",
              "      <td>...</td>\n",
              "      <td>...</td>\n",
              "      <td>...</td>\n",
              "      <td>...</td>\n",
              "      <td>...</td>\n",
              "      <td>...</td>\n",
              "      <td>...</td>\n",
              "      <td>...</td>\n",
              "    </tr>\n",
              "    <tr>\n",
              "      <th>3038</th>\n",
              "      <td>The Impact of Self-Service Technology and the ...</td>\n",
              "      <td>1</td>\n",
              "      <td>secondary data</td>\n",
              "      <td>JHMM</td>\n",
              "      <td>Hanks, L; Line, ND; Mattila, AS</td>\n",
              "      <td>2016</td>\n",
              "      <td>10.1080/19368623.2015.1046536</td>\n",
              "      <td>https://www.tandfonline.com/doi/full/10.1080/1...</td>\n",
              "      <td>JHMM_188.txt</td>\n",
              "      <td>1\\nMETHODS\\nExperiment Design and Participants...</td>\n",
              "    </tr>\n",
              "    <tr>\n",
              "      <th>3043</th>\n",
              "      <td>Managers' Perceptions of Delivered Value in th...</td>\n",
              "      <td>1</td>\n",
              "      <td>survey</td>\n",
              "      <td>JHMM</td>\n",
              "      <td>Gallarza, MG; Arteaga, F; Gil-Saura, I</td>\n",
              "      <td>2015</td>\n",
              "      <td>10.1080/19368623.2015.964898</td>\n",
              "      <td>https://www.tandfonline.com/doi/full/10.1080/1...</td>\n",
              "      <td>JHMM_194.txt</td>\n",
              "      <td>1\\nMethodology\\nThis study takes a quantitativ...</td>\n",
              "    </tr>\n",
              "    <tr>\n",
              "      <th>3050</th>\n",
              "      <td>It's Time to Celebrate: How Can Restaurateurs ...</td>\n",
              "      <td>1</td>\n",
              "      <td>survey</td>\n",
              "      <td>JHMM</td>\n",
              "      <td>Lim, WM</td>\n",
              "      <td>2015</td>\n",
              "      <td>10.1080/19368623.2014.914863</td>\n",
              "      <td>https://www.tandfonline.com/doi/full/10.1080/1...</td>\n",
              "      <td>JHMM_202.txt</td>\n",
              "      <td>\\nMETHODOLOGY\\nMeasurement\\nThis study employs...</td>\n",
              "    </tr>\n",
              "    <tr>\n",
              "      <th>3052</th>\n",
              "      <td>Online Reviews: The Impact of Power and Incide...</td>\n",
              "      <td>1</td>\n",
              "      <td>experimental</td>\n",
              "      <td>JHMM</td>\n",
              "      <td>Zhang, L</td>\n",
              "      <td>2015</td>\n",
              "      <td>10.1080/19368623.2014.929550</td>\n",
              "      <td>https://www.tandfonline.com/doi/full/10.1080/1...</td>\n",
              "      <td>JHMM_204.txt</td>\n",
              "      <td>\\nMETHODS\\nParticipants and Design\\nTo test th...</td>\n",
              "    </tr>\n",
              "    <tr>\n",
              "      <th>3062</th>\n",
              "      <td>Pay More for McLocal? Examining Motivators for...</td>\n",
              "      <td>1</td>\n",
              "      <td>survey</td>\n",
              "      <td>JHMM</td>\n",
              "      <td>Frash, RE; Dipietro, R; Smith, W</td>\n",
              "      <td>2015</td>\n",
              "      <td>10.1080/19368623.2014.911715</td>\n",
              "      <td>https://www.tandfonline.com/doi/full/10.1080/1...</td>\n",
              "      <td>JHMM_214.txt</td>\n",
              "      <td>\\nMETHODS\\nTo gain an overarching understandin...</td>\n",
              "    </tr>\n",
              "  </tbody>\n",
              "</table>\n",
              "<p>532 rows × 10 columns</p>\n",
              "</div>"
            ],
            "text/plain": [
              "                                                     TI  ...                                        methodology\n",
              "5     Prices of short-stay accommodation: time serie...  ...  Empirical setting\\nIn terms of relevant econom...\n",
              "6     How do online reviewers' cultural traits and p...  ...  3. Research setting, design and methodology\\n3...\n",
              "9     Sexual harassment and customer-oriented bounda...  ...  Research methodology\\nData collection and proc...\n",
              "14    Understanding emotional customer experience an...  ...  3. Methodology\\n3.1 Research design and data c...\n",
              "22    Conceptualising talent in multinational hotel ...  ...  Methodology\\nThe paper adapts a qualitative re...\n",
              "...                                                 ...  ...                                                ...\n",
              "3038  The Impact of Self-Service Technology and the ...  ...  1\\nMETHODS\\nExperiment Design and Participants...\n",
              "3043  Managers' Perceptions of Delivered Value in th...  ...  1\\nMethodology\\nThis study takes a quantitativ...\n",
              "3050  It's Time to Celebrate: How Can Restaurateurs ...  ...  \\nMETHODOLOGY\\nMeasurement\\nThis study employs...\n",
              "3052  Online Reviews: The Impact of Power and Incide...  ...  \\nMETHODS\\nParticipants and Design\\nTo test th...\n",
              "3062  Pay More for McLocal? Examining Motivators for...  ...  \\nMETHODS\\nTo gain an overarching understandin...\n",
              "\n",
              "[532 rows x 10 columns]"
            ]
          },
          "metadata": {
            "tags": []
          },
          "execution_count": 28
        }
      ]
    },
    {
      "cell_type": "code",
      "metadata": {
        "colab": {
          "base_uri": "https://localhost:8080/"
        },
        "id": "asGPKhk7QG65",
        "outputId": "93ee858e-3570-4693-bcc8-2747b9ab600f"
      },
      "source": [
        "df_valid.Method.value_counts(normalize=True)"
      ],
      "execution_count": null,
      "outputs": [
        {
          "output_type": "execute_result",
          "data": {
            "text/plain": [
              "survey              0.567669\n",
              "secondary data      0.197368\n",
              "experimental        0.129699\n",
              "qualitative         0.065789\n",
              "content analysis    0.039474\n",
              "Name: Method, dtype: float64"
            ]
          },
          "metadata": {
            "tags": []
          },
          "execution_count": 29
        }
      ]
    },
    {
      "cell_type": "code",
      "metadata": {
        "id": "aSqiXr_mQOt6"
      },
      "source": [
        ""
      ],
      "execution_count": null,
      "outputs": []
    },
    {
      "cell_type": "code",
      "metadata": {
        "colab": {
          "base_uri": "https://localhost:8080/"
        },
        "id": "ykcUPRAtQOq0",
        "outputId": "b1b83740-eac5-40b7-f7c0-40ea31a453a1"
      },
      "source": [
        "train_list = list(df_train.methodology + \"!!,!!\" + df_train.Method)\n",
        "valid_list = list(df_valid.methodology + \"!!,!!\" + df_valid.Method)\n",
        "\n",
        "train_list[:5]"
      ],
      "execution_count": null,
      "outputs": [
        {
          "output_type": "execute_result",
          "data": {
            "text/plain": [
              "['3. Methodology\\nThe current study followed an interpretivism paradigm, which seeks to explore reality by interpreting the truth from individuals(Veal, 2011). This research paradigm holds great merits especially when the research purpose is to explore a phenomenon during its early stage (Flick (2014)). Methodologically, a qualitative research approach was adopted to examine the rich content of tourists’ social contacts during their Airbnb accommodation, as well as its antecedents and consequences in the Airbnb context. Individuals who acquired accommodation experiences through the Airbnb platform in the last two years were regarded as qualified informants. To ensure the overall trustworthiness of this study, method triangulation, data triangulation, and investigator triangulation were considered throughout the research process to secure creditability (Lincoln and Guba, 1985; Denzin, 1989). For method triangulation, in-depth interviews and focus group discussions were employed to obtain data with diverse approaches. Focus groups depend on the participants’ interaction to bring out similarities and differences of views, whereas individual interview is facilitated by the interviewer to compare all data result. Furthermore, by using a quantitative approach, (Kaplowitz and Hoehn, 2001 p. 245) identified that “focus groups and individual interviews are not substitutes. The information from each method was complimentary, with each yielding somewhat different perspectives on the range of resource services, values, and issues.” Data triangulation was also applied by introducing different sampling methods. First, purposive sampling was used to determine eligible respondents according to the expertise and professional judgment of researchers. Second, by following snowball sampling, respondents were asked to invite people they know who qualified for this research. The interviewers stopped to invite new informants when information saturation was reached. In this study, the data analysis indicated that dimensions and patterns became stable at the 30th informant and the last 9 informants did not provide any substantive changes. As a result, 2 focus groups and 25 in-depth interviews were conducted, involving a total of 39 individuals.\\nThe interviews and focus group discussions have three parts. First, respondents were asked about their recent accommodation experiences with Airbnb to get informants familiar with the topic. Second, after the warm-up, informants were asked to recall their experiences about their contacts with others during their Airbnb stay. Finally, informants were required to share their perceived antecedents and consequences of those contacts. According to Fan et al. (2017a), social contact can be described by contact activities and intensity. Antecedents can be represented by the determinants and purposes of contact. Consequences can be captured by impacts and attitudes toward contacts. The research team stopped to invite new informants when information saturation was reached. Audio files of interviews and focus group discussions were transcribed into text. Transcripts were then interpreted and analyzed using thematic analysis via the qualitative analytical software Nvivo 11. All co-authors conducted intra-team communication regularly during the entire research process to ensure an accurate and objective coding process. Therefore, investigator triangulation was established.!!,!!qualitative',\n",
              " 'Method\\nInstrument\\nConsolidation of safety items from the literature review (Feickert et al., 2006; Groeneboom & Jones, 2003) allowed development of a self-administered questionnaire. Operationalization of overt safety concepts was tested by two questions: (a) “How would you feel if there were stringent safety measures (metal detectors and luggage check) at your hotel?” and (b) “Would the presence of overt safety measures such as metal detectors and luggage checks deter you from staying in the hotel?” The respondents were asked to indicate their perceptions toward the first question on a 5-point semantic differential scale that ranged from 1 (very worried) to 5 (very safe). A 5-point Likert-type scale ranging from 1 (strongly disagree) to 5 (strongly agree) was used for the second question. Five hotel security managers and faculty members in the field of hospitality management checked the content validity of the instrument. The questionnaire contained three sections: travel behaviors (purpose of trip and type of accommodation chosen), guests’ perceptions toward overt safety measures, and demographic profiles.\\nData Collection\\nThe target population was inbound international tourists who were waiting for departure flights at Bangkok International Airport. Thailand was used as a research setting because it experienced a series of bomb blasts in Bangkok on December 31, 2006, during the New Year countdown and has encountered terrorism in its three southern-most provinces since 2004. A single-stage cluster sampling was used to randomly select three departure flights at Bangkok International Airport, Thailand, from January 15 to January 31, 2007, soon after the bomb blasts. To collect data, seven research assistants were employed. The persons handing out questionnaires were in the departure area for 45 minutes to 2 hours prior to flight. In this way, 500 passengers who were checking in for selected flights were asked to participate in the survey. When a person agreed to fill out a questionnaire, research assistants asked him/her to complete the entire questionnaire.\\nData Analysis\\nAccording to Hair, Black, Babin, Anderson, and Tatham (2010), cluster analysis is an appropriate tool to classify respondents into groups with large enough sample size to include the true representative of the population and when the selection of variables is based on conceptual foundation. To meet the cluster analysis assumption, the number of clusters was determined based on the conceptual framework (the literature and interviews with hotel security managers). Additionally, a sample of 467 respondents and a single-stage cluster sampling was used to ensure the representation of small groups within the population.\\nFurthermore, the variable selection in the cluster analysis is guided by the literature suggesting that perceptions toward overt safety vary between leisure and business travelers (Feickert et al., 2006) as well as between type of accommodation and variables such as size, age, and location (Enz, 2009; Enz & Taylor, 2002; Hilliard & Baloglu, 2008). Hence, this study segments tourists based on tourists’ perceptions toward overt safety (continuous variables), purpose of visit, and type of accommodation chosen (categorical variables). Because of a combination of continuous variables and categorical variables, neither the hierarchical clustering nor the K-means clustering can perform this task (Norušis, 2006). Hence, the SPSS two-step cluster analysis procedure, which has been designed to handle a mixture of continuous and categorical variables (Norušis, 2006), was used in this study. In the two-step cluster analysis, cases were first assigned to preclusters; then, the preclusters were clustered using the hierarchical clustering algorithm (Norušis, 2006). Moreover, clustering variables were standardized with the use of Z scores to eliminate the bias introduced by the differences in the scales of the measured variables (Hair et al., 2010).\\nBecause of a combination of categorical and continuous variables, only the log-likelihood criterion can be used (Norušis, 2006), as “the distance between two clusters depends on the decrease in the log-likelihood when they are combined into a single cluster” (Norušis 2006, p. 375). Then, the number of clusters was determined based on the number of clusters at which the Schwarz Bayesian information criterion (BIC) becomes small and the percentage changes in BIC between adjacent numbers of clusters is markedly larger than those occurring at other steps (Hair et al., 2010; Norušis, 2006). Then, ANOVA was used to assess any differences among the derived clusters across demographic profiles (not included in the cluster solution) to ensure criterion validity and practical significance and also to describe cluster profile after they have been identified (Hair et al., 2010).!!,!!survey',\n",
              " '3. Methodology\\n3.1. Preliminary study\\nAcademic professors in the discipline of food hygiene and sanitation and foodservice management were asked to evaluate the 32 food hygiene items developed by Leach et al. (2001) for their applicability to the context of the current study. Four questions related to food temperature (hot and cold food temperature served and on display) were combined into “Food is served/displayed at the right temperature”. Staff coughing/sneezing and blowing nose were included in the statement “The work staff demonstrate high standard of personal hygiene.” Three questions (salad bars and cold meats are kept refrigerated, pre-packed food is within used-by and best-before date, and correct separation between food types on display) were omitted as they are not applicable to the operations in the local full service restaurants (FSRs). Finally, food contamination was eliminated as it was judged as an outcome of personal hygiene, flies being kept away, cleanliness of tableware and service area which were already taken into account in the study.\\nFifty-six sets of questionnaire containing the 24 items were distributed to staff and students of a university in central Malaysia. Subjects were asked to indicate if those items were relevant and to generate some other food hygiene aspects that they were concerned about when eating in FSRs. The purpose of this listing was to prompt the thought of other hygiene aspects that are unique to the Malaysian context. It is important to note that no item from the recommendation and advertisement aspect was included. This is because the FSRs of interest in Malaysia do not advertise. Furthermore, the restaurant businesses are only required to publish their business licenses from the state government. Display of certification from the MOH is not mandatory. Indeed, this thought listing procedure did not yield any factors related to recommendation and advertisement. Two additional items – location of establishment and no foreign object found in food or drink served – were, however, generated and included in the final foodservice hygiene measurement.\\n3.2. Selection of restaurant sites and subjects\\nAccording to Euromonitor International (2004), foodservice establishments in Malaysia have their own characteristics. The FSR sector can be classified into low, medium and high scale (Anon., 2004). The present study only focused on the low scale FSR by which the minimum menu price for one full meal is approximately RM 5 (USD 1.40). This meal price is consistent with the reported USD 400 per capital expenditure on food in Malaysia (Euromonitor International, 2007). Data were collected from December 2006 to April 2007 at 20 FSR sites in Klang Valley, a metropolitan area in Malaysia that has a rapid expansion of the foodservice industry (Euromonitor International, 2004).\\nIn Malaysia, the Malays account for 60% of the population, about 30% are Chinese and Indians form the remaining 10% of the population (Anon., 2004). As the Malaysians tend to dine in the foodservice establishments operated by their own ethnic groups, to reflect this consumer profile, the types of FSR selected for this study included the Malay, Chinese and Indian restaurants. Subjects who were 18 years or older and patronized the selected FSRs were recruited. At average, 15–25 subjects were selected from each of the FSR sites.\\n3.3. Survey procedures and instrument\\nQuestionnaires comprising the five foodservice hygiene factors (i.e., food and drink, staff working, immediate environment, interior of premise, and exterior of premise) were distributed to every third customer who walked into the selected FSR sites. They were asked to complete the questionnaire while they were dining in the restaurant and return it to the researcher before leaving the premise.\\nThe questionnaire consisted of three sections. The first section required subjects to rate the importance of various factors in their selection of a FSR. In the second section, subjects were asked to evaluate the hygiene level of the foodservice establishment they had just patronized. Subjects needed to indicate their agreement/disagreement (1 = strongly disagree, 7 = strongly agree) with the 26 statements describing the hygiene standard of the establishment pertaining to food and drink, staff working, immediate environment, interior if premise and exterior of premise. The foodservice items are shown in Table 3. Finally, subjects had to complete some socio-demographic questions. Subject received a token of appreciation upon completion.!!,!!survey',\n",
              " 'Method\\nSample\\nThis study is based on reservations data for all public golf courses, 80 in total, at a popular U.S. golf destination over a 2-year period. Private country clubs were excluded from the study as their pricing is based on initiation fees and dues, not rounds of golf played. The reservations data set consisted of 5,175,790 rounds of booked golf for the 80 courses under investigation over the period 2013-2014.\\nReservations data were obtained from the destination’s shared tee time reservation system with the permission of the course owners, and in cooperation with the local golf course owners’ association. Because the focus of this study was daily gross revenue performance, we excluded complimentary rounds, and replay rounds of golf (i.e., playing the course again on the same day) for all courses. The individual reservation data included (1) the date a reservation was made, and cancelled, no-show, or played; (2) the reserved tee time; and (3) the total price paid by the golfer.\\nIn addition to reservation data, data relating to each golf course’s competitive set classification were collected. The competitive sets, known as tiers, were established by the golf course owners’ association in cooperation with all of the course owners in the market as well as experts in the golf industry. Golf course characteristics including the quality of the course, unique features and design of the course, and the slope and length of the course were used to segment the courses into four competitive tiers, from high-end Tier 4 courses to economy Tier 1 courses, with an approximately equal distribution of golf courses in each tier. This classification system is analogous to the classification system for hotels (i.e., luxury, upscale, midscale, and economy), and given that it was endorsed by all of the golf courses in the market, it was used to determine relative competitive price positioning in this study.\\nThe golf owners’ association also provided the research team with three weather-related indicator variables by date of play; frost, hot, and rain days.1\\nMeasures\\nDaily gross revenue for each golf course was calculated as the sum of the total fees paid by golfers for a round of golf at the course on a given date. The total fee included both greens and cart fees because these two elements of a round of golf were often packaged together making it difficult to examine the two fee types separately.\\nBooking window was measured by computing the proportion of bookings made at different points in booking horizon. We selected the booking window intervals, 7 in total, to enable us to hone in on the booking behavior of two key types of golf players, time-of-play–sensitive players and price-sensitive players, when probing the revenue–booking window relationship. First, to reflect the high volume of bookings from price-sensitive players near to the time of play, we identified 5 booking window intervals: 0 days before play (i.e., same day as play; 7% of bookings), 1 day before play (18% of bookings), 2 days before play (14% of bookings), 3 to 7 days before play (17% of bookings), and 8 to 14 days before play (5% of bookings). We then created the two remaining booking window intervals to reflect the booking behavior of more time-of-play–sensitive players: 15 to 90 days before play (17% of bookings), and 91+ days before play (22% of bookings).2\\nRelative price position was measured for both peak and off-peak times of each day, based on the price difference between a given course and the other courses in its tier. Demand trends in the market, based on the more than 5 million rounds of golf played in the golf destination for the 2013-2014 time period under investigation, were analyzed to identify within-day peak and off-peak tee times. Within-day peak demand periods were found to historically occur between the hours of 7.30 a.m. and 9.30 a.m. and between 12 p.m. and 2 p.m.; and off-peak hours represented all other times of the day. In a similar manner, day of week (Monday through Sunday) was distinguished, and seasons were classified as peak (March, April, May, and October) or off-peak (all other months). The seasonality of golf in this destination is well known by golf players. Golf course owners were consulted to assure that the within-day peak demand periods and seasons that were derived from the data were consistent with local industry leaders’ deep knowledge of historical demand.\\nRelative price position was then determined by time of day, day of week, and season as represented in the following equation:\\n%Pricedifferencefromcompetitors=\\n[\\nAveragepriceperround(i,d,h,s)\\n−Averagepriceperround(c,d,h,s)\\n]*100.00\\nAveragepriceperround(c,d,h,s)\\nwhere i represents the golf course, c represents the competitive tier that the golf course belongs to, d represents the day of the week (Sunday, Monday, Tuesday, etc.), h represents the time of the day (peak or off-peak hour), and s represents the season (peak or off-peak season).\\nFor example, to calculate the relative price position of a golf course for peak hours (time of day) on Mondays (day of week) during the peak season, the average price per round for the golf course and the other golf courses in its tier were calculated using data from 7.30 to 9.30 a.m. and 12.00 p.m. to 2.00 p.m. on Mondays in March, April, May, and October.\\nConversion rate captures the ability to convert reserved tee times to played rounds of golf. In this study, we distinguish conversion during peak times of the day and off-peak times of the day. The two measures of conversion rate were determined by calculating actualized reservations as a percentage of total reservations for the given peak and off-peak times of the day.\\nAnalysis\\nThe data sample consisted of both cross-sectional and time series data, suggesting the need to use a two-way fixed effects model in the analysis (Greene, 1990). The application of a two-way fixed effects methodology enabled us to capture numerous golf course attributes that are constant across time (e.g., quality of the course), in addition to time-related characteristics that are constant across courses and are not captured by the independent variables included in the model (e.g., economic conditions and the weather). Failure to capture these effects could lead to model misspecification and biased model coefficients resulting in errors in understanding course performance.\\nDaily gross revenue was entered as the dependent variable in our model, with the independent variables of booking window (91+ days before play as the reference group), two relative price position measures (one for peak and one for off-peak times of the day), and two conversion rate measures (one for peak and one for off-peak times of the day).!!,!!secondary data',\n",
              " 'Methods\\nMeasures and survey questionnaire\\nThe measures of study constructs were adopted from existing environmental behavior and consumer behavior studies (Ajzen, 1991\\n; Bitner, 1992\\n; Gascon et al., 2017\\n; Han & Hwang, 2017\\n; Han et al., 2018\\n; Han et al., 2018\\n; Hennig-Thurau, 2004\\n; Kim et al., 2016\\n; Oliver, 1980\\n, 2010\\n; Pietilä et al., 2015\\n; Vujcic et al., 2017\\n). The study constructs were evaluated with multiple items using a 7-point scale from strongly disagree (1) to strongly agree (7). Specifically, eight items were used to measure NBS, which included two items for green spaces, two items for green surfaces, two items for green items, and two items for the natural environment. A total of seven items were utilized to evaluate mental health perception. Satisfaction was measured with three items. Two items for switching costs and two items for the lack of alternative attractiveness were used. In addition, revisit intention was evaluated with three items. The survey questionnaire containing these measures, a research description, and inquiries for demographic information was pre-tested. A slight improvement was then made based on the participants’, which included hospitality academics and practitioners, comments and suggestions. The questionnaire was further improved by three experts in hospitality academia. The measures used in this research are shown in the Appendix.\\nData collection and samples\\nAn online survey methodology was used, and an internet research firm’s survey system was utilized. The survey was conducted for approximately two weeks, which was from May 1 to May 13, 2018. A survey invitation with a research description was delivered to potential participants who are general hotel customers in South Korea by e-mail. These potential respondents were chosen from the database of the research company in a random manner. More specific and specialized results concerning a region’s culture and customer characteristics can be derived from a survey conducted in a certain region, which includes this survey. Because of our study objectives, hotel customers who had experienced an eco-friendly hotel and its services within the last 12 months were only requested to participate in the survey. These eligible participants were only used as the samples of this research. A total of 375 people completed the survey through this procedure. After removing unusable responses, our final sample size that was used for the data analysis was 367 cases.\\nAmong the respondents, a total of 199 participants were females (54.2%). In addition, 168 participants were males (45.8%). All participants’ average age was 35.7 years old. When the participants’ most recent eco-friendly hotel stay was asked, 79.8% reported within 4 months, 90.5% indicated within 8 months, and 100% reported within 12 months. Regarding the survey participants’ frequency of hotel stay, 49.3% indicated 3–5 times per year, followed by 2 times or less (26.7%), 6–9 times per year (14.2%), 10–15 times per year (6.0%), and 16 times or more (3.8%). The participants’ annual income was also asked. Approximately 36.7% indicated that their annual income is between $40,000 and $69,999, followed by less than $39,999 (32.7%), between $70,000 and $99,999 (20.7%), and over $100,000 (9.8%). Most participants’ education level was high. About 76.3% of the participants were college graduates and 20.4% had a graduate degree. Only 3.0% were high school graduates or less. Most participants were pleasure travelers (81.2%) whereas only 18.8% were business travelers or other travelers.!!,!!survey']"
            ]
          },
          "metadata": {
            "tags": []
          },
          "execution_count": 30
        }
      ]
    },
    {
      "cell_type": "code",
      "metadata": {
        "colab": {
          "base_uri": "https://localhost:8080/"
        },
        "id": "bLLZJzywRLVr",
        "outputId": "91ef7e90-73a3-454f-c0a8-b0923f2c6ca0"
      },
      "source": [
        "train_data = [tuple(t.split(\"!!,!!\")) for t in train_list]\n",
        "valid_data = [tuple(t.split(\"!!,!!\")) for t in valid_list]\n",
        "\n",
        "train_data[:5]"
      ],
      "execution_count": null,
      "outputs": [
        {
          "output_type": "execute_result",
          "data": {
            "text/plain": [
              "[('3. Methodology\\nThe current study followed an interpretivism paradigm, which seeks to explore reality by interpreting the truth from individuals(Veal, 2011). This research paradigm holds great merits especially when the research purpose is to explore a phenomenon during its early stage (Flick (2014)). Methodologically, a qualitative research approach was adopted to examine the rich content of tourists’ social contacts during their Airbnb accommodation, as well as its antecedents and consequences in the Airbnb context. Individuals who acquired accommodation experiences through the Airbnb platform in the last two years were regarded as qualified informants. To ensure the overall trustworthiness of this study, method triangulation, data triangulation, and investigator triangulation were considered throughout the research process to secure creditability (Lincoln and Guba, 1985; Denzin, 1989). For method triangulation, in-depth interviews and focus group discussions were employed to obtain data with diverse approaches. Focus groups depend on the participants’ interaction to bring out similarities and differences of views, whereas individual interview is facilitated by the interviewer to compare all data result. Furthermore, by using a quantitative approach, (Kaplowitz and Hoehn, 2001 p. 245) identified that “focus groups and individual interviews are not substitutes. The information from each method was complimentary, with each yielding somewhat different perspectives on the range of resource services, values, and issues.” Data triangulation was also applied by introducing different sampling methods. First, purposive sampling was used to determine eligible respondents according to the expertise and professional judgment of researchers. Second, by following snowball sampling, respondents were asked to invite people they know who qualified for this research. The interviewers stopped to invite new informants when information saturation was reached. In this study, the data analysis indicated that dimensions and patterns became stable at the 30th informant and the last 9 informants did not provide any substantive changes. As a result, 2 focus groups and 25 in-depth interviews were conducted, involving a total of 39 individuals.\\nThe interviews and focus group discussions have three parts. First, respondents were asked about their recent accommodation experiences with Airbnb to get informants familiar with the topic. Second, after the warm-up, informants were asked to recall their experiences about their contacts with others during their Airbnb stay. Finally, informants were required to share their perceived antecedents and consequences of those contacts. According to Fan et al. (2017a), social contact can be described by contact activities and intensity. Antecedents can be represented by the determinants and purposes of contact. Consequences can be captured by impacts and attitudes toward contacts. The research team stopped to invite new informants when information saturation was reached. Audio files of interviews and focus group discussions were transcribed into text. Transcripts were then interpreted and analyzed using thematic analysis via the qualitative analytical software Nvivo 11. All co-authors conducted intra-team communication regularly during the entire research process to ensure an accurate and objective coding process. Therefore, investigator triangulation was established.',\n",
              "  'qualitative'),\n",
              " ('Method\\nInstrument\\nConsolidation of safety items from the literature review (Feickert et al., 2006; Groeneboom & Jones, 2003) allowed development of a self-administered questionnaire. Operationalization of overt safety concepts was tested by two questions: (a) “How would you feel if there were stringent safety measures (metal detectors and luggage check) at your hotel?” and (b) “Would the presence of overt safety measures such as metal detectors and luggage checks deter you from staying in the hotel?” The respondents were asked to indicate their perceptions toward the first question on a 5-point semantic differential scale that ranged from 1 (very worried) to 5 (very safe). A 5-point Likert-type scale ranging from 1 (strongly disagree) to 5 (strongly agree) was used for the second question. Five hotel security managers and faculty members in the field of hospitality management checked the content validity of the instrument. The questionnaire contained three sections: travel behaviors (purpose of trip and type of accommodation chosen), guests’ perceptions toward overt safety measures, and demographic profiles.\\nData Collection\\nThe target population was inbound international tourists who were waiting for departure flights at Bangkok International Airport. Thailand was used as a research setting because it experienced a series of bomb blasts in Bangkok on December 31, 2006, during the New Year countdown and has encountered terrorism in its three southern-most provinces since 2004. A single-stage cluster sampling was used to randomly select three departure flights at Bangkok International Airport, Thailand, from January 15 to January 31, 2007, soon after the bomb blasts. To collect data, seven research assistants were employed. The persons handing out questionnaires were in the departure area for 45 minutes to 2 hours prior to flight. In this way, 500 passengers who were checking in for selected flights were asked to participate in the survey. When a person agreed to fill out a questionnaire, research assistants asked him/her to complete the entire questionnaire.\\nData Analysis\\nAccording to Hair, Black, Babin, Anderson, and Tatham (2010), cluster analysis is an appropriate tool to classify respondents into groups with large enough sample size to include the true representative of the population and when the selection of variables is based on conceptual foundation. To meet the cluster analysis assumption, the number of clusters was determined based on the conceptual framework (the literature and interviews with hotel security managers). Additionally, a sample of 467 respondents and a single-stage cluster sampling was used to ensure the representation of small groups within the population.\\nFurthermore, the variable selection in the cluster analysis is guided by the literature suggesting that perceptions toward overt safety vary between leisure and business travelers (Feickert et al., 2006) as well as between type of accommodation and variables such as size, age, and location (Enz, 2009; Enz & Taylor, 2002; Hilliard & Baloglu, 2008). Hence, this study segments tourists based on tourists’ perceptions toward overt safety (continuous variables), purpose of visit, and type of accommodation chosen (categorical variables). Because of a combination of continuous variables and categorical variables, neither the hierarchical clustering nor the K-means clustering can perform this task (Norušis, 2006). Hence, the SPSS two-step cluster analysis procedure, which has been designed to handle a mixture of continuous and categorical variables (Norušis, 2006), was used in this study. In the two-step cluster analysis, cases were first assigned to preclusters; then, the preclusters were clustered using the hierarchical clustering algorithm (Norušis, 2006). Moreover, clustering variables were standardized with the use of Z scores to eliminate the bias introduced by the differences in the scales of the measured variables (Hair et al., 2010).\\nBecause of a combination of categorical and continuous variables, only the log-likelihood criterion can be used (Norušis, 2006), as “the distance between two clusters depends on the decrease in the log-likelihood when they are combined into a single cluster” (Norušis 2006, p. 375). Then, the number of clusters was determined based on the number of clusters at which the Schwarz Bayesian information criterion (BIC) becomes small and the percentage changes in BIC between adjacent numbers of clusters is markedly larger than those occurring at other steps (Hair et al., 2010; Norušis, 2006). Then, ANOVA was used to assess any differences among the derived clusters across demographic profiles (not included in the cluster solution) to ensure criterion validity and practical significance and also to describe cluster profile after they have been identified (Hair et al., 2010).',\n",
              "  'survey'),\n",
              " ('3. Methodology\\n3.1. Preliminary study\\nAcademic professors in the discipline of food hygiene and sanitation and foodservice management were asked to evaluate the 32 food hygiene items developed by Leach et al. (2001) for their applicability to the context of the current study. Four questions related to food temperature (hot and cold food temperature served and on display) were combined into “Food is served/displayed at the right temperature”. Staff coughing/sneezing and blowing nose were included in the statement “The work staff demonstrate high standard of personal hygiene.” Three questions (salad bars and cold meats are kept refrigerated, pre-packed food is within used-by and best-before date, and correct separation between food types on display) were omitted as they are not applicable to the operations in the local full service restaurants (FSRs). Finally, food contamination was eliminated as it was judged as an outcome of personal hygiene, flies being kept away, cleanliness of tableware and service area which were already taken into account in the study.\\nFifty-six sets of questionnaire containing the 24 items were distributed to staff and students of a university in central Malaysia. Subjects were asked to indicate if those items were relevant and to generate some other food hygiene aspects that they were concerned about when eating in FSRs. The purpose of this listing was to prompt the thought of other hygiene aspects that are unique to the Malaysian context. It is important to note that no item from the recommendation and advertisement aspect was included. This is because the FSRs of interest in Malaysia do not advertise. Furthermore, the restaurant businesses are only required to publish their business licenses from the state government. Display of certification from the MOH is not mandatory. Indeed, this thought listing procedure did not yield any factors related to recommendation and advertisement. Two additional items – location of establishment and no foreign object found in food or drink served – were, however, generated and included in the final foodservice hygiene measurement.\\n3.2. Selection of restaurant sites and subjects\\nAccording to Euromonitor International (2004), foodservice establishments in Malaysia have their own characteristics. The FSR sector can be classified into low, medium and high scale (Anon., 2004). The present study only focused on the low scale FSR by which the minimum menu price for one full meal is approximately RM 5 (USD 1.40). This meal price is consistent with the reported USD 400 per capital expenditure on food in Malaysia (Euromonitor International, 2007). Data were collected from December 2006 to April 2007 at 20 FSR sites in Klang Valley, a metropolitan area in Malaysia that has a rapid expansion of the foodservice industry (Euromonitor International, 2004).\\nIn Malaysia, the Malays account for 60% of the population, about 30% are Chinese and Indians form the remaining 10% of the population (Anon., 2004). As the Malaysians tend to dine in the foodservice establishments operated by their own ethnic groups, to reflect this consumer profile, the types of FSR selected for this study included the Malay, Chinese and Indian restaurants. Subjects who were 18 years or older and patronized the selected FSRs were recruited. At average, 15–25 subjects were selected from each of the FSR sites.\\n3.3. Survey procedures and instrument\\nQuestionnaires comprising the five foodservice hygiene factors (i.e., food and drink, staff working, immediate environment, interior of premise, and exterior of premise) were distributed to every third customer who walked into the selected FSR sites. They were asked to complete the questionnaire while they were dining in the restaurant and return it to the researcher before leaving the premise.\\nThe questionnaire consisted of three sections. The first section required subjects to rate the importance of various factors in their selection of a FSR. In the second section, subjects were asked to evaluate the hygiene level of the foodservice establishment they had just patronized. Subjects needed to indicate their agreement/disagreement (1 = strongly disagree, 7 = strongly agree) with the 26 statements describing the hygiene standard of the establishment pertaining to food and drink, staff working, immediate environment, interior if premise and exterior of premise. The foodservice items are shown in Table 3. Finally, subjects had to complete some socio-demographic questions. Subject received a token of appreciation upon completion.',\n",
              "  'survey'),\n",
              " ('Method\\nSample\\nThis study is based on reservations data for all public golf courses, 80 in total, at a popular U.S. golf destination over a 2-year period. Private country clubs were excluded from the study as their pricing is based on initiation fees and dues, not rounds of golf played. The reservations data set consisted of 5,175,790 rounds of booked golf for the 80 courses under investigation over the period 2013-2014.\\nReservations data were obtained from the destination’s shared tee time reservation system with the permission of the course owners, and in cooperation with the local golf course owners’ association. Because the focus of this study was daily gross revenue performance, we excluded complimentary rounds, and replay rounds of golf (i.e., playing the course again on the same day) for all courses. The individual reservation data included (1) the date a reservation was made, and cancelled, no-show, or played; (2) the reserved tee time; and (3) the total price paid by the golfer.\\nIn addition to reservation data, data relating to each golf course’s competitive set classification were collected. The competitive sets, known as tiers, were established by the golf course owners’ association in cooperation with all of the course owners in the market as well as experts in the golf industry. Golf course characteristics including the quality of the course, unique features and design of the course, and the slope and length of the course were used to segment the courses into four competitive tiers, from high-end Tier 4 courses to economy Tier 1 courses, with an approximately equal distribution of golf courses in each tier. This classification system is analogous to the classification system for hotels (i.e., luxury, upscale, midscale, and economy), and given that it was endorsed by all of the golf courses in the market, it was used to determine relative competitive price positioning in this study.\\nThe golf owners’ association also provided the research team with three weather-related indicator variables by date of play; frost, hot, and rain days.1\\nMeasures\\nDaily gross revenue for each golf course was calculated as the sum of the total fees paid by golfers for a round of golf at the course on a given date. The total fee included both greens and cart fees because these two elements of a round of golf were often packaged together making it difficult to examine the two fee types separately.\\nBooking window was measured by computing the proportion of bookings made at different points in booking horizon. We selected the booking window intervals, 7 in total, to enable us to hone in on the booking behavior of two key types of golf players, time-of-play–sensitive players and price-sensitive players, when probing the revenue–booking window relationship. First, to reflect the high volume of bookings from price-sensitive players near to the time of play, we identified 5 booking window intervals: 0 days before play (i.e., same day as play; 7% of bookings), 1 day before play (18% of bookings), 2 days before play (14% of bookings), 3 to 7 days before play (17% of bookings), and 8 to 14 days before play (5% of bookings). We then created the two remaining booking window intervals to reflect the booking behavior of more time-of-play–sensitive players: 15 to 90 days before play (17% of bookings), and 91+ days before play (22% of bookings).2\\nRelative price position was measured for both peak and off-peak times of each day, based on the price difference between a given course and the other courses in its tier. Demand trends in the market, based on the more than 5 million rounds of golf played in the golf destination for the 2013-2014 time period under investigation, were analyzed to identify within-day peak and off-peak tee times. Within-day peak demand periods were found to historically occur between the hours of 7.30 a.m. and 9.30 a.m. and between 12 p.m. and 2 p.m.; and off-peak hours represented all other times of the day. In a similar manner, day of week (Monday through Sunday) was distinguished, and seasons were classified as peak (March, April, May, and October) or off-peak (all other months). The seasonality of golf in this destination is well known by golf players. Golf course owners were consulted to assure that the within-day peak demand periods and seasons that were derived from the data were consistent with local industry leaders’ deep knowledge of historical demand.\\nRelative price position was then determined by time of day, day of week, and season as represented in the following equation:\\n%Pricedifferencefromcompetitors=\\n[\\nAveragepriceperround(i,d,h,s)\\n−Averagepriceperround(c,d,h,s)\\n]*100.00\\nAveragepriceperround(c,d,h,s)\\nwhere i represents the golf course, c represents the competitive tier that the golf course belongs to, d represents the day of the week (Sunday, Monday, Tuesday, etc.), h represents the time of the day (peak or off-peak hour), and s represents the season (peak or off-peak season).\\nFor example, to calculate the relative price position of a golf course for peak hours (time of day) on Mondays (day of week) during the peak season, the average price per round for the golf course and the other golf courses in its tier were calculated using data from 7.30 to 9.30 a.m. and 12.00 p.m. to 2.00 p.m. on Mondays in March, April, May, and October.\\nConversion rate captures the ability to convert reserved tee times to played rounds of golf. In this study, we distinguish conversion during peak times of the day and off-peak times of the day. The two measures of conversion rate were determined by calculating actualized reservations as a percentage of total reservations for the given peak and off-peak times of the day.\\nAnalysis\\nThe data sample consisted of both cross-sectional and time series data, suggesting the need to use a two-way fixed effects model in the analysis (Greene, 1990). The application of a two-way fixed effects methodology enabled us to capture numerous golf course attributes that are constant across time (e.g., quality of the course), in addition to time-related characteristics that are constant across courses and are not captured by the independent variables included in the model (e.g., economic conditions and the weather). Failure to capture these effects could lead to model misspecification and biased model coefficients resulting in errors in understanding course performance.\\nDaily gross revenue was entered as the dependent variable in our model, with the independent variables of booking window (91+ days before play as the reference group), two relative price position measures (one for peak and one for off-peak times of the day), and two conversion rate measures (one for peak and one for off-peak times of the day).',\n",
              "  'secondary data'),\n",
              " ('Methods\\nMeasures and survey questionnaire\\nThe measures of study constructs were adopted from existing environmental behavior and consumer behavior studies (Ajzen, 1991\\n; Bitner, 1992\\n; Gascon et al., 2017\\n; Han & Hwang, 2017\\n; Han et al., 2018\\n; Han et al., 2018\\n; Hennig-Thurau, 2004\\n; Kim et al., 2016\\n; Oliver, 1980\\n, 2010\\n; Pietilä et al., 2015\\n; Vujcic et al., 2017\\n). The study constructs were evaluated with multiple items using a 7-point scale from strongly disagree (1) to strongly agree (7). Specifically, eight items were used to measure NBS, which included two items for green spaces, two items for green surfaces, two items for green items, and two items for the natural environment. A total of seven items were utilized to evaluate mental health perception. Satisfaction was measured with three items. Two items for switching costs and two items for the lack of alternative attractiveness were used. In addition, revisit intention was evaluated with three items. The survey questionnaire containing these measures, a research description, and inquiries for demographic information was pre-tested. A slight improvement was then made based on the participants’, which included hospitality academics and practitioners, comments and suggestions. The questionnaire was further improved by three experts in hospitality academia. The measures used in this research are shown in the Appendix.\\nData collection and samples\\nAn online survey methodology was used, and an internet research firm’s survey system was utilized. The survey was conducted for approximately two weeks, which was from May 1 to May 13, 2018. A survey invitation with a research description was delivered to potential participants who are general hotel customers in South Korea by e-mail. These potential respondents were chosen from the database of the research company in a random manner. More specific and specialized results concerning a region’s culture and customer characteristics can be derived from a survey conducted in a certain region, which includes this survey. Because of our study objectives, hotel customers who had experienced an eco-friendly hotel and its services within the last 12 months were only requested to participate in the survey. These eligible participants were only used as the samples of this research. A total of 375 people completed the survey through this procedure. After removing unusable responses, our final sample size that was used for the data analysis was 367 cases.\\nAmong the respondents, a total of 199 participants were females (54.2%). In addition, 168 participants were males (45.8%). All participants’ average age was 35.7 years old. When the participants’ most recent eco-friendly hotel stay was asked, 79.8% reported within 4 months, 90.5% indicated within 8 months, and 100% reported within 12 months. Regarding the survey participants’ frequency of hotel stay, 49.3% indicated 3–5 times per year, followed by 2 times or less (26.7%), 6–9 times per year (14.2%), 10–15 times per year (6.0%), and 16 times or more (3.8%). The participants’ annual income was also asked. Approximately 36.7% indicated that their annual income is between $40,000 and $69,999, followed by less than $39,999 (32.7%), between $70,000 and $99,999 (20.7%), and over $100,000 (9.8%). Most participants’ education level was high. About 76.3% of the participants were college graduates and 20.4% had a graduate degree. Only 3.0% were high school graduates or less. Most participants were pleasure travelers (81.2%) whereas only 18.8% were business travelers or other travelers.',\n",
              "  'survey')]"
            ]
          },
          "metadata": {
            "tags": []
          },
          "execution_count": 31
        }
      ]
    },
    {
      "cell_type": "code",
      "metadata": {
        "colab": {
          "base_uri": "https://localhost:8080/"
        },
        "id": "z2TphkBwQOh7",
        "outputId": "798bc646-262a-47d9-f029-b15fc238279b"
      },
      "source": [
        "valid_data[:5]"
      ],
      "execution_count": null,
      "outputs": [
        {
          "output_type": "execute_result",
          "data": {
            "text/plain": [
              "[('Empirical setting\\nIn terms of relevant econometric modelling in tourism, including the hospitality industry, research has become precise since 2010 (Tables I and II). Several studies have considered macroeconomic data to determine causality between tourism prices and their drivers. The present research explores the impact of macroeconomic factors on hospitality industry prices, which have been ignored in previous research.\\nIn 2017, the Slovenian tourism sector contributes 5.3 per cent of total GDP and included four types of resorts: mountain; seaside; spas; and the capital (Ljubljana). The average duration of overnight stays for tourists in Slovenia was 2.5 nights, while the average length of overnight stays for tourists in spas was 3.5 nights, seaside resorts 3.2 nights, mountain space 2.4 nights and Ljubljana 1.6 night1.\\nMethods\\nWe introduce a VAR model to focus on the relative prices of short-stay accommodation and on tourist overnight stays using representative eurozone time-series data from Slovenia. Hotels are one of the most representative branches of tourism (Moriarty, 2010). Given the importance of the tourism economy, analysis of hospitality industry prices can contribute valuable empirical evidence and policy-relevant information by providing a better understanding of patterns in tourism price developments and determinants of their behaviour (Schamel, 2012), which is important for theory, empirical evidence, policy and practice.\\nSpurious regression problems are likely to occur when the adjustments determination coefficient under the impact of correlated trends is larger than the Durbin–Watson (D–W) regression statistic. This can result from non-stationary residuals. However, to assure that the mean, variance, and covariance values of a time-series are constant over time, conditional probability distributions of the time-series must be invariant with respect to that time (Juselius, 2015; Narayan, 2003; Reschenhofer, 2018).\\nThe methodological approaches adopted in the present study are based on the regression analysis and CVAR model for a long-run equilibrium. We check stationarity assumptions of time-series variables, or non-stationarity of the random walk type with co-movement. We built a two-lag model with a constant term for a p dimensional processs xt, taking into account the non-stationarity of the time-series variables:\\nHr≡Δxt=αβ′xt−1+ΓΔxt−1+μ+εt,\\nwhere εt is i.i.d. Np (0, Ω) , time t\\u2009=\\u20091, […], T(α , β) are p\\u2009×\\u2009r matrices and xt−1|xt0|xt+1\\n.\\nTime-series data used\\nThe macroeconomic tourism variables used are seasonally unadjusted monthly time-series data. We introduce an index of prices for short-stay accommodation (OPt) such as hotels, youth hostels, holiday accommodation and camping grounds, as well as long-stay accommodations for students and workers. Additionally, an index of domestic tourist overnight stays (DOSt) , an index of foreign tourist overnight stays (FOSt) and inflation measured by CPIt are isolated, where t is time t\\u2009=\\u20091, […], T, of a representative eurozone country. Data are obtained from SORS1 and the data vector is from December 1999 to November 2013. This period covers Slovenia’s joining with the EU in 2004, the adoption of the euro, and the economic crises in Slovenia in the 2009-2013 period.\\nGDP is usually found to be an exogenous variable (Bonham et al., 2009). We impose OPt which represents tourist spending on particular goods/services already observed by Wu et al. (2012) with an expected increase in OPt. Short stays were defined as an overnight stay of a registered tourist described by published data in a tourist accommodation establishment1.',\n",
              "  'secondary data'),\n",
              " (\"3. Research setting, design and methodology\\n3.1 Empirical setting\\nThis study is situated in the Russian hotel industry for a number of reasons. First, Russia features among the top ten destination countries regarding inbound international tourism flows (UNWTO, 2017), and it is therefore a major inbound market (Mariani et al., 2014b). Second, for historical reasons, Russia has been developing its services sector according to a market-oriented approach only starting from the early 1990s after the breakdown of the Soviet Union. Third, the cultural background of service providers in Russia is different as compared to that of providers in other countries, and for this reason, the context under analysis represents an ideal one to validate and extend findings stemming from other contexts such as the USA, where the impact and influence of cultural differences on the online hotel ratings have been examined (Gao et al., 2018).\\nThe development of a market economy in Russia since the early 90s brought about the emergence of new markets and the transformation of existing ones and led to a change in the hotel business (Sheresheva et al., 2012). Currently, the most developed hotel markets are Moscow, St. Petersburg and Sochi: they account for 70 per cent of all international hotels in Russia (Ernst and Young, 2018) (Figure 1).\\nThe capital of Russia, Moscow, is the country's leader both in the number of existing hotels and those under construction. More than 25 per cent of the total number of the foreign hotel chain operating in the Russian Federation are present in Moscow (Ernst and Young, 2018). Almost all Russian hotel chains are also represented in Moscow. Moreover, Moscow ranks first in Russia in terms of tourist arrivals and is the most sought after destination (www.jll.ru/russia/en-gb/news/670/2017-on-moscow-and-stpetersburg-hotel-markets).\\n3.2 Research design, data and methods\\nThis study adopts a mixed-method research design, more specifically an explanatory sequential design (Creswell, 2014; Creswell and Plano Clark, 2007). Explanatory sequential designs imply that:\\nThe researcher first conducts quantitative research, analyzes the results and then builds on the results to explain them in more detail with qualitative research. It is considered explanatory because the initial quantitative data results are explained further with the qualitative data. It is considered sequential because the initial quantitative phase is followed by the qualitative phase. (Creswell, 2014, pp. 15-16).\\nThis type of design is suitable when a more nuanced interpretation of quantitative findings is necessary, also in relation to the managers’ and relevant stakeholders’ viewpoints on the phenomenon under analysis.\\nWe deployed triangulation as recommended within a mixed-method approach, which implies the use of heterogeneous data sources and methodologies to validate the quantitative findings and enrich their interpretation, and it is compatible also with triangulation in qualitative research designs (Denzin, 1978; Lincoln and Guba, 2000).\\nIn the subsequent subparagraphs, we explicate the characteristics of the adopted methodology, describing in detail the first quantitative phase and the second qualitative phase.\\n3.2.1 Quantitative phase.\\n3.2.1.1 Data collection.\\nData were collected from two different sources: Booking.com and the “Hofstede Center”. The first source was deployed to gather OR data; the second to pull together data related to the cultural dimensions/variables.\\nOnline hotel reviews were retrieved leveraging a big data approach (Mariani et al., 2018) from the OTA Booking.com. The OTA was chosen because of its popularity worldwide (https://www.booking.com/content/about.en-gb.html) and also because of its high share of certified online hospitality reviews globally (Mariani and Borghi, 2018).\\nOur study is situated in the Russian capital Moscow, as it is a relevant business destination (Mariani et al., 2014b) and certainly under-researched in eWOM studies. Its fast transition to a market service economy and the distinctive features of the service providers make it an interesting setting to test the role played by consumers’ cultural differences in the online evaluation of hospitality services. By leveraging a Python developed script, Muscovite hotels’ ORs were retrieved over a 25-month period starting in February 2015. Two relational data sets were built: the former encompassing company-level data and the latter one containing review-level data.\\nAt the firm level, we retrieved information including the name of the hotel, its address, the hotel class and the overall rating. At the OR level, we scraped both metadata and data including the timestamp, stated name of the reviewer, her country of residence/origin, the number of reviews he/she wrote, the length of stay, the purpose of the trip (business or leisure), the experience in writing reviews of the reviewer and the travel companions (whether the travelers were travelling solo, in couple, in group, family, etc.). We gathered the aforesaid data over a 25-month window starting in February 2015. The data encompass the overall population of hotel firms (657 hospitality firms displaying at least one review), that were reviewed in 387,812 reviews over the period under analysis. However, in line with Gao et al. (2018), to avoid home country biases, we only retained the reviews written by non-domestic authors (i.e. guests resident in countries other than Russia) and we eliminated the reviews with too many missing values. As a result, a total of 74,284 reviews were retained.\\nLast but not the least, based on data from the Hofstede center, we obtained the measures of the four focal cultural dimensions (PD, IDV, MAS and UA). Based on country names available in both the data sets, we matched them to generate a final data set. In our sample, the 74,284 reviews for the 602 hotels spanned the period from February 2015 to February 2017 and were written by reviewers from 93 different countries.\\n3.2.1.2 Variables’ operationalization.\\nThis study’s dependent variable is the Booking.com overall rating of the hotel ranging from 2.5 to 10.0. We included a number of independent variables, such as the ensuing cultural indices: power distance (PD), individualism (IDV), masculinity (MAS), uncertainty avoidance (UA), that is, the basic cultural dimensions identified originally by Hofstede (1980) and discussed in our literature review. The indices are available for all of the countries examined and vary in a range from 1 to 100 almost in a continuous way. Across the sample of 93 countries of origin that were considered in the sample, PD ranges from 13 to 100, IDV from 6 to 91, MAS from 5 to 100 and UA from 8 to 100. The reliability and stability of these measures have been discussed widely in recent literature and we refer to Reisinger and Crotts (2010) and Huang and Crotts (2019) for more details.\\nIn addition, we also included control variables such as the length of stay (number of nights spent at the hotel) (LoS), the reviewer’s experience in reviewing online (i.e. the volume of reviews written by a reviewer) (RE), the reviewer’s knowledge of the destination (i.e. a badge indicating the extent to which the reviewer is an expert of the destination) (RK), the purpose of the trip (business or leisure), the type of travelling group (couple, family with children, solo, etc.) and hotel category.\\nTable I describes the variables of interest.\\nTable II summarizes the descriptive statistics.\\nReviewers’ experience (RE) is the only variable that does not display a normal distribution, and as such, it has been log-transformed. The variable correlation matrix also shows that all correlations are significant. The frequencies of the country of origin of the guests have been included in Appendix 1.\\n3.2.1.3 Data analysis\\nOur five hypotheses were validated using both multivariate ordinary least squares (OLS) regression and Tobit regression. OLS and Tobit regressions were preferred over ordinal logistic regressions, as the dependent variable (i.e. online ratings on Booking.com) varies from 2.5 to 10 in an almost continuous manner. The Tobit regression was used as a robustness techniques, as the dependent variable is censored both on the left (there are no ratings below 2.5) and on the right (there are no ratings above 10.0) as clarified in previous research (Mellinas et al., 2015).\\nTherefore, the study’s dependent variable, the overall rating of a review (Rating), was regressed (deploying both OLS and Tobit regressions for robustness check) against the main independent variables: individualism (IDV), masculinity (MAS), uncertainty avoidance (UA), power distance (PD) and reviewer’s experience (RE) in writing reviews. We controlled for reviewers’ knowledge of the destination (RK), observed average rating (Obs_Avg_Rat), length of stay (LoS), hotel class, travel type (weather business or leisure), whether the hotel was part of a chain and type of travelling group (solo, family, group, etc.).\\n3.2.2 Qualitative phase.\\nAfter collecting and analyzing the quantitative data, we conducted 16 semi-structured interviews with managers and practitioners working in the Muscovite hospitality sector, to interpret in a more nuanced way the findings of the quantitative analysis and to gain a thorough picture of the way managers use and make sense of online ratings and use (or not use) nationality and cultural segmentation. Interviewees were chosen based on convenience grounds, as one of the researchers has direct access to the Muscovite hospitality industry and the research team had previously collaborated with Muscovite hospitality managers in other research projects in the past. Respondents were chosen to cover evenly different types of hospitality firms (including different categories and geographical locations in Moscow). During this stage, at least two interviewers were present at each interview and, when possible, recorded the interviews (the hotel managers were mostly reluctant for us to do so). At the beginning of each interview meeting, we used two opening questions: “Do you analyze Booking.com reviews? If you analyze them, do you differentiate them based on the nationality of the reviewer?” Afterwards, we asked: “Have you ever heard of the Hofstede’s cultural dimensions?” If the answer was “yes”, then we moved on to illustrating the papers’ findings and asked the managers to comment on them; otherwise, we illustrated and explained to the managers in a very straightforward and simple way the meaning of cultural dimensions with the example of “power distance” and “individualism.” Later, we shared a hard copy of the paper and illustrated verbally the study’s findings and asked them to give comments, based on their practical experience. Related questions were asked such as: “Are these results interesting or not for your marketing and management activities? Could they be used for your (digital) marketing strategy and/or to improve your segmentation of your customers?”\\nThe material was subsequently coded independently by each researcher (manually) and then compared.\\n3.2.3 Data triangulation.\\nIn line with the explanatory sequential research design adopted (Creswell, 2014), we deployed triangulation in terms of use of heterogeneous data sources and methodologies to validate the quantitative findings and enrich their interpretation. As such, we used triangulation at a higher level than how triangulation is deployed in purely qualitative research designs (Denzin, 1978; Lincoln and Guba, 2000). The analysis of both the qualitative and quantitative data acquired in this way has generated a series of findings that are presented and discussed in Section 4.\",\n",
              "  'content analysis'),\n",
              " ('Research methodology\\nData collection and procedure\\nWe collected data from deluxe hotel employees in hotels in Seoul, South Korea. Deluxe hotels were defined as five-star hotels with more than 200 rooms. Based on the 2017 hotel rating data by the Korea Tourism Organization, a total of 22 five-star hotels were selected. Among them, 10 hotels authorized the survey. The subjects were female employees working in these hotels. As mentioned in the introduction, the subjects were limited to women because numerous studies (Arnold et al., 2011; Clarke et al., 2016; Worsfold and McCann, 2000) have observed that female employees were more exposed than male counterparts to SH committed by their superiors or colleagues. Also, the percentage of female frontline employees is relatively high compared to other job groups. Moreover, considering that the attitudes or behaviors of frontline employees who provide customer services at the closest encounter have a significant spillover influence on customer responses, it will be meaningful to examine the effect of banning employees’ pro-social behaviors (Bettencourt et al., 2005).\\nPrior to the survey, the researcher interviewed those in charge of human resource management in the deluxe hotels and explained the study purposes and procedures and the survey methods to them. The researcher acquainted the employees with the fact that the collected data would be used solely for this research and maintained as confidential. Because it was impossible to obtain consent from all employees, the researcher used convenience sampling. The researcher then conducted surveys on those who consented to voluntarily participate in them. The participants were instructed that they were able to cancel participation at any time after the survey was initiated and that there would be no disadvantage resulting from such cancellation. The surveys were conducted at two different time points to reduce respondents’ tendency to maintain consistency and to avoid asking similar questions at the same time. This approach was also taken to minimize common method bias that may occur when a survey is conducted at the same time point. This was accomplished by dividing the measurement variables into the first round (SH and burnout) and the second round (COBSB and PS) (Podsakoff et al., 2003).\\nThe following method was applied to collect response data from other time points from the same sample. An identification (ID) number was provided to match each respondent’s name. Then a survey was conducted at Timepoint 1, and the IDs of the samples with incomplete or careless responses among the collected questionnaires were deleted, and the rest were encoded. All the data were encoded and stored in the computer, and the encoded information was managed using codes so that only the researcher was able to look at it. The survey was initiated with an explanation of the study purposes, and all the respondents voluntarily participated in the survey. The respondents were repeatedly notified that the survey was being conducted anonymously. The survey at Timepoint 2 was carried out with questionnaires that matched the IDs at Timepoint 1. At Timepoint 1, a total of 452 samples were collected, and at the second time point, 416 samples were surveyed except for incomplete questionnaires. Completed surveys were received from 334 frontline employee participants, for a response rate of 66.8 per cent. In comparing the responses of the matched and the unmatched employees, no differences were found in any of the variables examined in this study. A total of 334 female frontline employees working in 10 deluxe hotels, were selected as subjects for this study. The median age was 25, and the majority of the subjects (65.2 per cent) reported “university” as their highest level of education. The median length of the subjects’ employment was 4.3\\u2009years.\\nInstrument development\\nThe questionnaires were prepared in the following way: to guarantee precision and conceptual homogeneity between the English and Korean versions, all the questionnaires were translated by a bilingual native speaker (Brislin, 1980) and then back-translated. According to a proposal by Adler (1983), back-translation may be appropriately conducted by one who knows the culture and language well. To check whether the content was valid, two research workers reviewed the translated items and identified and revised ambiguous expressions. Then, a preliminary survey of 50 frontline employees in a deluxe hotel was conducted; several questions were revised for clarity based on their feedback.\\nThe questionnaire consisted of five sections: SH (independent variable), burnout (mediator), COBSB (dependent variable), PS (moderator) and control variables (Appendix). A seven-point Likert scale was used with all of the questionnaire items. A scale developed by Fitzgerald et al. (1995) and modified by Li et al. (2016) was used to measure SH perceived by employees. As mentioned in the questions, this study confined SH to sexual seduction or verbal and physical behaviors corresponding to sexual seduction from superiors or colleagues in the workplace of the respondents. Burnout was measured with five questions, based on Maslach and Leither (2008) and Schaufeli et al. (1994). COBSB were measured with six questions, including questions on external representation, internal influence and service delivery behaviors based on research by Bettencourt et al. (2005). PS was evaluated with five questions based on research by Edmondson (1999). In addition, this study used age, education level and tenure as three control variables, and it controlled influence by each of the demographic variables. Because previous research verified that age (Inness et al., 2005) and tenure (Wayne, 2000) were closely related with workplace harassment, the researcher included such control variables in the final model, with the judgment that they may influence organizational behaviors.\\nData analyses\\nThe data were analyzed using the analysis of moment structures (AMOS) and statistical package for the social sciences programs. The two-step method (Anderson and Gerbing, 1988) was used to explore the reliability and validity of the measured constructs. Reliability and confirmatory factor analysis (CFA) were managed, and correlation analysis was used to confirm the directionality between the hypotheses. The hypotheses were analyzed using a structural equation model, and multi-group analysis was used to analyze the moderating effect. In addition, the bias-corrected bootstrapping method was used to verify the mediating effect (Hooker and Mentch, 2018).',\n",
              "  'survey'),\n",
              " ('3. Methodology\\n3.1 Research design and data collection\\nNetnography refers to the approach of ethnography applied to the study of online culture and community (Kozinets, 2010). In the present study, a netnographic approach is used through the examination of online customer reviews to assess customers’ hotel service experiences in a retrospective manner (Berezina et al., 2016). These narrative and user-generated online reviews provide rich descriptions of customers’ hotel journeys based on generally timely and trustworthy information (Yu et al., 2017). Customer emotions and co-creation behaviours are interpreted in a natural setting that can deliver powerful customer feedback for researchers and hotel managers (Kozinets, 2010).\\nThe study focuses on luxury hotels for two reasons. First, in upscale hotels, customers pay a significant premium and subsequently have higher expectations of service experiences. The consequences of these hotels failing to generate positive ECX can be more damaging than for mid-price and economy hotels (Barsky and Nash, 2002). Second, the wide variety of luxury hotel services has led to a dynamic environment that is particularly challenging for the co-creation of positive ECX across various service interactions. Luxury hotels in Dublin, the capital city of the Republic of Ireland, were sampled because the value of the tourism industry is forecast to rise from 5.4 billion euros in 2017 to 8.6 billion euros by 2028, which is estimated to be 2.3 per cent of the total GDP in the Irish economy (World Travel and Tourism Council, 2018). These figures highlight the need for an improved understanding of the increases in international and domestic customers in the Irish hotel industry.\\nThe TripAdvisor website was chosen for three reasons: It is one of the biggest and most vibrant online travel communities in the world (O’Connor, 2010); it is an online platform with “600 million reviews and opinions, a massive travel community of 455 million monthly unique users during our seasonal peak, and a diverse offering across a spectrum of travel products” (TripAdvisor Inc, 2017, p. 2); its customer reviews have also been widely used in other hospitality and tourism studies (Xie et al., 2016; Yu et al., 2017).\\nA total of ten five-star hotels in Dublin were identified according to the Irish hotel classification developed by the Irish National Tourism Development Authority. The number of customers staying in a given hotel and reviewing it does not show significant seasonal variations (Fitzpatrick Associates, 2016). To ensure the most up-to-date information was obtained, 1,472 customer reviews written in English and posted between October 2016 and January 2017 were downloaded from TripAdvisor. Each customer review contains four elements: posting date, the month of a hotel stay, trip type, and comments. Reviewers’ information in the TripAdvisor community was also collected, including username and the total number of reviews posted. All data were further verified, reformatted and anonymised. Three criteria were used to ensure the quality of the sampling. Firstly, hotel reviews that were not posted in the months following the visit to the hotel were excluded from the database, because the accuracy of any review decreases with increasing time between stay and review (Lee et al., 2011). This criterion is also in line with common industry practice such as that adopted by Booking.com. Secondly, reviews without any indication of trip type were also excluded from the database. Thirdly, any content of hotel reviews written without detailed description and without mentioning any service-related terms (e.g. hotel facilities, service staff and process) were excluded from the database. After all these constraints were applied, 72 per cent (1,063 cases) of the data remained for further analysis.\\n3.2 Data analysis\\nA thematic analysis was used to identify emerging themes of ECX and to capture a qualitative, detailed, and nuanced account of customer co-creation behaviours based on the appraisal theory (Braun and Clarke, 2006). Discrete emotions were identified based on the combined appraisal dimensions and emotion classification presented in Table I. The principle of thematic analysis is to capture external heterogeneity across themes and sub-themes, and internal homogeneity within themes and sub-themes. The study applied combined deductive and inductive approaches. All customer reviews were iteratively read and coded by the first author using NVivo 11. This process included three main phases: (1) Open coding: detailed observation of the review data and identification of initial codes; (2) Developing categories: organising various codes and themes by merging and discarding codes; and (3) Abstraction and comparison. Insights from the relevant literature, themes and codes emerged from the customer review data were used to form an analysis codebook, more holistic themes and patterns were drawn in further analysis.\\nAs suggested by Guest et al. (2012), the reliability of the research was ensured via three stages: inter-coder agreement check, intra-coder reliability, and inter-coder reliability. First, inter-coder agreement was checked by both authors at each stage of development of the codebook. Second, stratified random sampling was employed and deemed sufficiently rigorous for capturing diverse samples of reviews within the four months (Krippendorff, 2011). 31.2 per cent of the data were double-coded by the first author after two months following the first completion of the open coding. Intra-coder reliability reached 97.3 per cent agreement with a moderate Cohen’s Kappa coefficient (Viera and Garrett, 2005). Third, another stratified random sample (30 per cent) of the data was double-coded by another experienced scholar after the codebook had been refined, followed by both an inter-coder agreement check and an intra-coder reliability check. The inter-coder reliability achieved a 95.9 per cent agreement among the coders and a moderate Cohen’s Kappa coefficient (Viera and Garrett, 2005). The discrepancies in coding were discussed among the coders, and agreed revisions were inserted in the codebooks.',\n",
              "  'content analysis'),\n",
              " ('Methodology\\nThe paper adapts a qualitative research design involving multiple case studies. To select the participating organisations, this paper reviewed the Top 30 World Luxury Index of the most sought-after luxury hotel brands in 2014, which included both luxury and upper upscale brands (Digital Luxury Group and Laaroussi, 2014). These brands were managed by 18 firms. The study applied the following criteria to identify the case study organisations:\\na global presence (defined as operating multiple hotels across continents) to compare practices between headquarters and business units; and\\na portfolio of at least one luxury brand, as these hotels have the highest standards of service which requires skilled talent (Tungate, 2009; Walls et al., 2011).\\nThis resulted in a sampling frame of 14 firms. Three of these agreed to participate. Because of confidentiality, the names of the organisations and interviewees have been altered. A unique name followed by a corresponding code was given to each organisation based on its headquarters location: American Hotel Group (A), APAC Hotel Group (B) and EMEA Hotel Group (C). American Hotel Group is the largest and longest established organisation in the sample and operates in more than 50 countries across six continents. APAC Hotel Group operates in more than 20 countries across five continents. The smallest and youngest firm in the sample is EMEA Hotel Group operating in more than 10 countries across two continents. All three firms are rapidly expanding their footprint through either acquisitions or new hotel openings.\\nThe data collection phase involved 73 semi-structured interviews encompassing 18 (25 per cent) managers at a corporate level and 55 (75 per cent) managers at a business unit level. The interviewees were based in 15 countries: 35 (48 per cent) in EMEA, 20 (27 per cent) in APAC and 18 (25 per cent) in the Americas. An overview of all operations and human resource (HR) interviewees is presented in Table I. Each interviewee was assigned an individual code which provided information about his or her position, organisation and the order in which the interviews were conducted: for example, Head of HR A1 refers to the first participant at American Hotel Group. The Head of HR A1, Head of TM B3 and Head of TM C15 acted as gatekeepers by approving the research and assuring access to interviewees in the organisation. Provided with the levels as outlined above, these gatekeepers selected managers which they deemed appropriate based on their position, location and availability (referral sampling) (Marshall and Rossman, 2016). In addition to the interviews, we reviewed formal talent policies (documentation as outlined in Table II) that were provided by the main gatekeepers of the study.\\nWe followed the thematic analysis process proposed by Braun and Clarke (2006). Thematic analysis was applied because it allowed both a rich description of the entire data set and a more nuanced approach of a specific area of interest such as the conceptualisation of talent (Braun and Clarke, 2006). The first stage involved the familiarisation with the interview data by listening to and transcribing all recordings and writing down initial notes while repeatedly reading the transcripts. The second stage included the generation of initial open codes which the authors used as a start list for further analysis. To avoid potential bias in the coding process, the initial codes were discussed among two of the authors to establish inter-rater reliability (Bazeley and Jackson, 2013; Podsakoff et al., 2003). A total of 63 open codes relating to the conceptualisation of talent were developed. The codes were labelled using the keywords referred to by the interviewees. These included:\\nAccomplishments, age, appearance, aspiration to grow and learn, asset management skills, behaviour-personality-attitude, business and commercial acumen, capability, care, chemistry, communication skills, competencies set, completed projects or training, core hospitality skills, cultural fit, customer focus, decision-making skills, education, emotional intelligence, empathy, engagement or commitment, entrepreneurial skills, experience, financial skills, flexibility and agility, global mind-set, going the extra mile, gut feeling, happiness, higher or more complex role, humility, individual goals and objectives, initiative, innovation and creativity skills, integrity, intuition, key performance indicators, language skills, leadership skills, local knowledge, maturity, mobility and transferability, operational skills, organising skills, passion, people skills, performance, positive attitude, potential, proactive attitude, problem-solving skills, readiness, revenue contributor, selling and upselling skills, seniority, service quality and productivity, social skills, strategic thinking skills, strategic value, team fit, teamwork skills, technical skills, understanding of luxury.\\nAs part of the third stage, broader categories were developed to combine individual codes with similar meaning. These included:\\nAspirations, black box (subjective decision), cognitive competence (knowledge), education, experience, functional competence (skills), intellectual abilities (intelligence), performance, potential, and social competence (attitudes and behaviours).\\nThe fourth stage included an in-depth review of the data where further categorisation occurred, in addition to discarding codes that deemed less relevant to the conceptualisation of talent. The conceptualisations made across the three organisations included both subject and object approaches, elements of a competency framework (cognitive, functional and social competencies) and the two dimensions of performance and potential. The number of references made to each category provided a useful indication to the relative importance of the component, for example, very little reference was made to intellectual abilities, while most references were made to social competencies. The fifth stage included defining final themes and setting those into context in the entire case. We found alignment and misalignment across the three organisations and between the corporate and business unit levels which are presented in the findings section.',\n",
              "  'qualitative')]"
            ]
          },
          "metadata": {
            "tags": []
          },
          "execution_count": 32
        }
      ]
    },
    {
      "cell_type": "code",
      "metadata": {
        "id": "ss_YJFJWQOe0"
      },
      "source": [
        ""
      ],
      "execution_count": null,
      "outputs": []
    },
    {
      "cell_type": "code",
      "metadata": {
        "id": "tBAds4mrNVo-"
      },
      "source": [
        "def make_docs(data):\n",
        "    \"\"\"\n",
        "    this will take a list of texts and labels \n",
        "    and transform them in spacy documents\n",
        "    \n",
        "    data: list(tuple(text, label))\n",
        "    \n",
        "    returns: List(spacy.Doc.doc)\n",
        "    \"\"\"\n",
        "    \n",
        "    docs = []\n",
        "    # nlp.pipe([texts]) is way faster than running \n",
        "    # nlp(text) for each text\n",
        "    # as_tuples allows us to pass in a tuple, \n",
        "    # the first one is treated as text\n",
        "    # the second one will get returned as it is.\n",
        "    \n",
        "    for doc, label in tqdm(nlp.pipe(data, as_tuples=True), total = len(data)):\n",
        "\n",
        "      if label == 'survey':\n",
        "        doc.cats[\"survey\"] = 1\n",
        "        doc.cats[\"secondary data\"] = 0\n",
        "        doc.cats[\"experimental\"] = 0\n",
        "        doc.cats[\"qualitative\"] = 0\n",
        "        doc.cats[\"content analysis\"] = 0\n",
        "\n",
        "        \n",
        "      if label == 'secondary data':\n",
        "        doc.cats[\"survey\"] = 0\n",
        "        doc.cats[\"secondary data\"] = 1\n",
        "        doc.cats[\"experimental\"] = 0\n",
        "        doc.cats[\"qualitative\"] = 0\n",
        "        doc.cats[\"content analysis\"] = 0\n",
        "\n",
        "\n",
        "      if label == 'experimental':\n",
        "        doc.cats[\"survey\"] = 0\n",
        "        doc.cats[\"secondary data\"] = 0\n",
        "        doc.cats[\"experimental\"] = 1\n",
        "        doc.cats[\"qualitative\"] = 0\n",
        "        doc.cats[\"content analysis\"] = 0\n",
        "\n",
        "      if label == 'qualitative':\n",
        "        doc.cats[\"survey\"] = 0\n",
        "        doc.cats[\"secondary data\"] = 0\n",
        "        doc.cats[\"experimental\"] = 0\n",
        "        doc.cats[\"qualitative\"] = 1\n",
        "        doc.cats[\"content analysis\"] = 0\n",
        "\n",
        "      if label == 'content analysis':\n",
        "        doc.cats[\"survey\"] = 0\n",
        "        doc.cats[\"secondary data\"] = 0\n",
        "        doc.cats[\"experimental\"] = 0\n",
        "        doc.cats[\"qualitative\"] = 0\n",
        "        doc.cats[\"content analysis\"] = 1\n",
        "\n",
        "\n",
        "        # we need to set the (text)cat(egory) for each document\n",
        "        # doc.cats[\"positive\"] = label\n",
        "        \n",
        "      # put them into a nice list\n",
        "      docs.append(doc)\n",
        "    \n",
        "    return docs"
      ],
      "execution_count": null,
      "outputs": []
    },
    {
      "cell_type": "code",
      "metadata": {
        "colab": {
          "base_uri": "https://localhost:8080/",
          "height": 66,
          "referenced_widgets": [
            "1f6f3f153a8348c181dce4b9316863e6",
            "897aca3dc0c54ec6b95c82b6e7b6798e",
            "e7516351daab4fb0b9949163a0913eb7",
            "40fbab16cc7d41d1b2d7486a6d8b629b",
            "38efc455983641ab9d35ead30c4cff95",
            "4e64a556fef84628a0d05c8c1775a37f",
            "fb18b873c74043049114b5c92eaa915f",
            "abe3e30d67df45878d4321e4e796ac3c"
          ]
        },
        "id": "Cean4YdJNVjX",
        "outputId": "8e48525c-e671-4b3d-c4c0-5850084a5b39"
      },
      "source": [
        "# first we need to transform all the training data\n",
        "train_docs = make_docs(train_data)\n",
        "# then we save it in a binary file to disc\n",
        "doc_bin = DocBin(docs=train_docs)"
      ],
      "execution_count": null,
      "outputs": [
        {
          "output_type": "display_data",
          "data": {
            "application/vnd.jupyter.widget-view+json": {
              "model_id": "1f6f3f153a8348c181dce4b9316863e6",
              "version_minor": 0,
              "version_major": 2
            },
            "text/plain": [
              "HBox(children=(FloatProgress(value=0.0, max=2131.0), HTML(value='')))"
            ]
          },
          "metadata": {
            "tags": []
          }
        },
        {
          "output_type": "stream",
          "text": [
            "\n"
          ],
          "name": "stdout"
        }
      ]
    },
    {
      "cell_type": "code",
      "metadata": {
        "id": "62u9xcJeW7yY"
      },
      "source": [
        "doc_bin.to_disk(\"/content/drive/MyDrive/Colab Notebooks/TopicModeling/Methodology/data/train.spacy\")"
      ],
      "execution_count": null,
      "outputs": []
    },
    {
      "cell_type": "code",
      "metadata": {
        "colab": {
          "base_uri": "https://localhost:8080/",
          "height": 66,
          "referenced_widgets": [
            "ff8a9c93988e4dec916a475942c72589",
            "f6d13a73bea74db9859cd835398c015d",
            "d8643e1170254eae8e25bc150be23250",
            "20e7218c0e6b424f802265090e7093c3",
            "6a2352b9cd7a45fba2a0f5bb79f36809",
            "c1fd56e417e540ceb6ed3816a4a357a9",
            "1f5acf9041034c0788252dd550c81c71",
            "10c1bf8752cb48589aa9b39f0651a6a0"
          ]
        },
        "id": "-_1nwWn0XBdG",
        "outputId": "99d276ff-75ba-44df-a7fd-f85fd544d264"
      },
      "source": [
        "# repeat for validation data\n",
        "valid_docs = make_docs(valid_data)\n",
        "doc_bin = DocBin(docs=valid_docs)"
      ],
      "execution_count": null,
      "outputs": [
        {
          "output_type": "display_data",
          "data": {
            "application/vnd.jupyter.widget-view+json": {
              "model_id": "ff8a9c93988e4dec916a475942c72589",
              "version_minor": 0,
              "version_major": 2
            },
            "text/plain": [
              "HBox(children=(FloatProgress(value=0.0, max=532.0), HTML(value='')))"
            ]
          },
          "metadata": {
            "tags": []
          }
        },
        {
          "output_type": "stream",
          "text": [
            "\n"
          ],
          "name": "stdout"
        }
      ]
    },
    {
      "cell_type": "code",
      "metadata": {
        "id": "HCfOs5LxXCOu"
      },
      "source": [
        "doc_bin.to_disk(\"/content/drive/MyDrive/Colab Notebooks/TopicModeling/Methodology/data/valid.spacy\")"
      ],
      "execution_count": null,
      "outputs": []
    },
    {
      "cell_type": "code",
      "metadata": {
        "id": "1U9LYmMVJ3TN"
      },
      "source": [
        ""
      ],
      "execution_count": null,
      "outputs": []
    },
    {
      "cell_type": "code",
      "metadata": {
        "id": "d0qUQfk6wOPl",
        "colab": {
          "base_uri": "https://localhost:8080/"
        },
        "outputId": "18ddb637-63c6-4816-bb40-f24fc0109672"
      },
      "source": [
        "!python -m spacy init fill-config /content/drive/MyDrive/Colab\\ Notebooks/TopicModeling/Methodology/data/base_config.cfg /content/drive/MyDrive/Colab\\ Notebooks/TopicModeling/Methodology/data/config.cfg"
      ],
      "execution_count": null,
      "outputs": [
        {
          "output_type": "stream",
          "text": [
            "2021-06-13 19:34:05.288009: I tensorflow/stream_executor/platform/default/dso_loader.cc:53] Successfully opened dynamic library libcudart.so.11.0\n",
            "\u001b[38;5;2m✔ Auto-filled config with all values\u001b[0m\n",
            "\u001b[38;5;2m✔ Saved config\u001b[0m\n",
            "/content/drive/MyDrive/Colab Notebooks/TopicModeling/Methodology/data/config.cfg\n",
            "You can now add your data and train your pipeline:\n",
            "python -m spacy train config.cfg --paths.train ./train.spacy --paths.dev ./dev.spacy\n"
          ],
          "name": "stdout"
        }
      ]
    },
    {
      "cell_type": "code",
      "metadata": {
        "id": "BSuadYToZuZj"
      },
      "source": [
        ""
      ],
      "execution_count": null,
      "outputs": []
    },
    {
      "cell_type": "code",
      "metadata": {
        "colab": {
          "base_uri": "https://localhost:8080/"
        },
        "id": "2FY7usyTZuV6",
        "outputId": "89cf3996-c668-403d-d6cc-b936b49ed33f"
      },
      "source": [
        "!python -m spacy train --gpu-id 0 /content/drive/MyDrive/Colab\\ Notebooks/TopicModeling/Methodology/data/config.cfg --output /content/drive/MyDrive/Colab\\ Notebooks/TopicModeling/Methodology/data/output"
      ],
      "execution_count": null,
      "outputs": [
        {
          "output_type": "stream",
          "text": [
            "2021-06-13 19:34:14.399670: I tensorflow/stream_executor/platform/default/dso_loader.cc:53] Successfully opened dynamic library libcudart.so.11.0\n",
            "\u001b[38;5;2m✔ Created output directory: /content/drive/MyDrive/Colab\n",
            "Notebooks/TopicModeling/Methodology/data/output\u001b[0m\n",
            "\u001b[38;5;4mℹ Using GPU: 0\u001b[0m\n",
            "\u001b[1m\n",
            "=========================== Initializing pipeline ===========================\u001b[0m\n",
            "Set up nlp object from config\n",
            "Pipeline: ['transformer', 'textcat']\n",
            "Created vocabulary\n",
            "Finished initializing nlp object\n",
            "Downloading: 100% 481/481 [00:00<00:00, 703kB/s]\n",
            "Downloading: 100% 899k/899k [00:00<00:00, 48.7MB/s]\n",
            "Downloading: 100% 456k/456k [00:00<00:00, 43.7MB/s]\n",
            "Downloading: 100% 1.36M/1.36M [00:00<00:00, 50.8MB/s]\n",
            "Downloading: 100% 501M/501M [00:10<00:00, 48.9MB/s]\n",
            "Initialized pipeline components: ['transformer', 'textcat']\n",
            "\u001b[38;5;2m✔ Initialized pipeline\u001b[0m\n",
            "\u001b[1m\n",
            "============================= Training pipeline =============================\u001b[0m\n",
            "\u001b[38;5;4mℹ Pipeline: ['transformer', 'textcat']\u001b[0m\n",
            "\u001b[38;5;4mℹ Initial learn rate: 0.0\u001b[0m\n",
            "E    #       LOSS TRANS...  LOSS TEXTCAT  CATS_SCORE  SCORE \n",
            "---  ------  -------------  ------------  ----------  ------\n",
            "  0       0           0.00          0.80        0.00    0.00\n",
            "  0     200           0.00          8.52       11.25    0.11\n",
            "  0     400           0.00          6.53       12.15    0.12\n",
            "Token indices sequence length is longer than the specified maximum sequence length for this model (953 > 512). Running this sequence through the model will result in indexing errors\n",
            "  0     600           0.00          8.74       14.51    0.15\n",
            "  0     800           0.00          7.39       14.49    0.14\n",
            "  0    1000           0.00          3.75       14.52    0.15\n",
            "  0    1200           0.00          8.23       14.52    0.15\n",
            "  0    1400           0.00          6.02       15.30    0.15\n",
            "  0    1600           0.00          4.18       14.52    0.15\n",
            "  0    1800           0.00          5.77       16.09    0.16\n",
            "  0    2000           0.00          6.16       17.52    0.18\n",
            "  0    2200           0.00          2.74       16.09    0.16\n",
            "  1    2400           0.00          2.85       15.74    0.16\n",
            "  1    2600           0.00          3.96       19.62    0.20\n",
            "  1    2800           0.00          1.72       27.43    0.27\n",
            "  1    3000           0.00          2.49       31.92    0.32\n",
            "  1    3200           0.00          2.00       27.28    0.27\n",
            "  1    3400           0.00          3.69       34.73    0.35\n",
            "  1    3600           0.00          2.12       34.46    0.34\n",
            "  1    3800           0.00          2.70       31.59    0.32\n",
            "  1    4000           0.00          3.22       31.75    0.32\n",
            "  1    4200           0.00          0.29       34.05    0.34\n",
            "  1    4400           0.00          3.33       34.33    0.34\n",
            "  2    4600           0.00          1.11       33.99    0.34\n",
            "  2    4800           0.00          1.24       34.23    0.34\n",
            "  2    5000           0.00          2.04       34.55    0.35\n",
            "\u001b[38;5;2m✔ Saved pipeline to output directory\u001b[0m\n",
            "/content/drive/MyDrive/Colab\n",
            "Notebooks/TopicModeling/Methodology/data/output/model-last\n"
          ],
          "name": "stdout"
        }
      ]
    },
    {
      "cell_type": "code",
      "metadata": {
        "id": "0Lt3LBiq2XqB"
      },
      "source": [
        ""
      ],
      "execution_count": null,
      "outputs": []
    },
    {
      "cell_type": "code",
      "metadata": {
        "id": "xO0MMVtOZuSz"
      },
      "source": [
        "nlp = spacy.load(\"/content/drive/MyDrive/Colab Notebooks/TopicModeling/Methodology/data/output/model-best\")"
      ],
      "execution_count": null,
      "outputs": []
    },
    {
      "cell_type": "code",
      "metadata": {
        "colab": {
          "base_uri": "https://localhost:8080/",
          "height": 120
        },
        "id": "znlq2mbsaExj",
        "outputId": "c9dec8ce-335c-4e40-eada-72ef1b7d675b"
      },
      "source": [
        "text = df.methodology.iloc[0]\n",
        "text"
      ],
      "execution_count": null,
      "outputs": [
        {
          "output_type": "execute_result",
          "data": {
            "application/vnd.google.colaboratory.intrinsic+json": {
              "type": "string"
            },
            "text/plain": [
              "'Methodology\\nThe design is qualitative and exploratory, centred on understanding social phenomena through triangulation of direct observation, communication and textual analysis (Frey et al., 1999); contextual subjective accuracy is stressed over generality; and interpretative phenomenology attempts to unravel the social phenomena. The initial focus is on a literature search to fill the research gap identified by Roberts and Shea (2017) relating to the potential physical and psychological accommodation needs of a traveller. Aspects of the individual’s journey are deliberated including: travelling through one’s own room; virtual travels from the room via electronic media; the hotel room as a reconstruction of the intimate sphere; the return to, and transformation of, one’s own room; and the accumulation of souvenirs.\\nTrickling through the preliminary research, empirical information complements and extends this theoretical, philosophical perspective. The literature pertaining to hotel guests’ practical in-room needs was generally sparse and subtheme specific, so the data sources used are both objective, i.e. the pertinent literature and subjective, i.e. the author’s and others’ personal experiences. The latter include Hoisington (2015), who reported on the future of in-room technology in hotels based on a virtual roundtable of global industry leaders, and TripAdvisor, that is claimed to be visited by 456 million people per month to plan or assess a trip (Kinstler, 2018). The sample of TripAdvisor comments was retrieved using the codeword “room” then selected purposefully to illustrate contrasting perspectives. It is acknowledged that the reliability and validity of qualitative data might be questioned. Lincoln and Guba (1985) state that validity cannot exist without reliability, whilst Stenbacka, (2001) presumes that the concept of reliability may be misleading in qualitative research. Exploring these concepts in-depth, Golafshani (2003) concluded that they are conceptualised as trustworthiness, rigour and quality in the research paradigm and that bias may be eliminated and “truthfulness” increased using data triangulation (Creswell and Miller, 2000).\\nThe key themes emerging from the inductive coding are: safety, security and control; physical well-being: cleanliness, hygiene and comfort; communication/interaction; and personal and physical space. As stated, this research is exploratory. After examining and reflecting on, then coding and classifying, hotel guests’ psychological needs evidenced from the philosophical literature, Maslow’s (1943) theoretical model of motivational needs came to mind. However, although to some extent the themes and subthemes reflected various aspects of Maslow’s model, it was considered that the basic needs, which he claimed must be satisfied before others were met (physiological then safety), are reversed on first entering, and when occupying, a hotel room. However, Maslow does note that his theory is not rigid and there are exceptions. In the case of the hotel room, it is clear that safety, security and control are paramount.'"
            ]
          },
          "metadata": {
            "tags": []
          },
          "execution_count": 42
        }
      ]
    },
    {
      "cell_type": "code",
      "metadata": {
        "id": "cjwTOq55aHFe"
      },
      "source": [
        "doc = nlp(text)"
      ],
      "execution_count": null,
      "outputs": []
    },
    {
      "cell_type": "code",
      "metadata": {
        "id": "AB5YqlzfZuP7",
        "colab": {
          "base_uri": "https://localhost:8080/"
        },
        "outputId": "87fd7e4c-b4f9-4453-ea35-53f59775636c"
      },
      "source": [
        "doc.cats"
      ],
      "execution_count": null,
      "outputs": [
        {
          "output_type": "execute_result",
          "data": {
            "text/plain": [
              "{'content analysis': 0.03144058957695961,\n",
              " 'experimental': 0.11453770846128464,\n",
              " 'qualitative': 0.033218804746866226,\n",
              " 'secondary data': 0.4681662321090698,\n",
              " 'survey': 0.35263678431510925}"
            ]
          },
          "metadata": {
            "tags": []
          },
          "execution_count": 44
        }
      ]
    },
    {
      "cell_type": "code",
      "metadata": {
        "id": "KmPXSbZ5ZuMq"
      },
      "source": [
        ""
      ],
      "execution_count": null,
      "outputs": []
    },
    {
      "cell_type": "code",
      "metadata": {
        "colab": {
          "base_uri": "https://localhost:8080/",
          "height": 120
        },
        "id": "bMWerinXwHdP",
        "outputId": "ba5e1299-c2b1-4b7b-b4a3-6151c18f990d"
      },
      "source": [
        "text = df_merged.methodology.iloc[4]\n",
        "text"
      ],
      "execution_count": null,
      "outputs": [
        {
          "output_type": "execute_result",
          "data": {
            "application/vnd.google.colaboratory.intrinsic+json": {
              "type": "string"
            },
            "text/plain": [
              "'Method\\nDesign\\nParticipants made dining decisions for two restaurants, one of which was close to home (designated the “base” restaurant) and one of which was a specified distance from home (designated the “target” restaurant). A 2 (base review valence: negative, neutral) × 2 (target review valence: neutral, positive) × 2 (distance: 30\\u2009min, 60\\u2009min) between-subjects factorial design was used. The base restaurant is always 5\\u2009min (0.7 miles) from home and has negative or neutral reviews. The customer reviews for the target restaurant, which is located farther away, are neutral or positive. Applying the risk-reward distinction, outcomes that favor the target restaurant when base reviews are negative represent risk-avoidance. Outcomes that favor the target restaurant when target reviews are positive represent reward-seeking. Distance is defined as the distance that people must drive from home to dine at the target restaurant, which is either 30\\u2009min (12 miles) or 60\\u2009min (36 miles). Distance represents the effort that people will exert to avoid risk or seek reward. Table I shows an overview of the experimental design.\\nStimuli and pretesting\\nThe stimuli consisted of written materials adapted from an online restaurant review website (Yelp®). On the first screen of the online survey, each restaurant was displayed along with a map indicating the location of each restaurant and home. The second screen contained photos and descriptions of the two restaurants side-by-side. The base restaurant, which was 5\\u2009min from home, was always on the left. The target restaurant was on the right with the distance manipulation repeated. Each restaurant description was followed by five customer reviews with the appropriate valence.\\nPretesting was conducted to select reviews with the appropriate valence. The favorability of 40 restaurant reviews was rated on a seven-point Likert scale from 1 (extremely unfavorable) to 7 (extremely favorable) by two groups of 35 subjects, each of which evaluated 20 reviews. Five positive reviews and five negative reviews were selected with an average rating of 6.33 and 2.46, respectively. Ten neutral reviews were selected with an average rating of 4.31.\\nMeasures\\nThree types of measures were evaluated: pre-choice evaluations, choice, and post-choice evaluations. For pre-choice evaluations, participants provided three restaurant ratings on seven-point Likert scales from strongly disagree to strongly agree: “This restaurant is appealing to me”, “After reading the reviews, I expect the food will be good”, and “After reading the reviews, I expect the service will be good”. For choice, participants rated likelihood to choose each restaurant using seven-point numerical scales from extremely unlikely to extremely likely. Participants made a binary dining choice by choosing one of the two restaurants. For post-choice evaluations, willingness-to-pay per person was rated on a sliding scale from $0 to $100. Willingness to drive to each restaurant was rated in minutes and miles with open-ended questions.\\nSubjects and procedure\\nA sample of 209 participants was recruited through Qualtrics, a professional online research firm. Subjects were randomly assigned to one of the eight experimental conditions, with 26 to 27 subjects per condition. To be eligible, participants had to be at least 18\\u2009years old and they had to have read restaurant online reviews in the past two months. The sample was 82.3 per cent female and 17.7 per cent male. Approximately 52.9 per cent of the sample was married. Age ranges were 18-29 (32.1 per cent), 30-39 (32.5 per cent), 40-49 (16.3 per cent), 50-59 (9.1 per cent) and 60 or over (10.0 per cent). The majority of the sample (74.9 per cent) was Caucasian, followed by Hispanic (9.2 per cent) and Asian (8.2 per cent). More than half of the sample had a four-year college degree or graduate degree (57.2 per cent). The median annual income was approximately $60,000.'"
            ]
          },
          "metadata": {
            "tags": []
          },
          "execution_count": 45
        }
      ]
    },
    {
      "cell_type": "code",
      "metadata": {
        "id": "mvBx9YaUwHdV"
      },
      "source": [
        "doc = nlp(text)"
      ],
      "execution_count": null,
      "outputs": []
    },
    {
      "cell_type": "code",
      "metadata": {
        "colab": {
          "base_uri": "https://localhost:8080/"
        },
        "id": "w8-AQL_uwHdW",
        "outputId": "1f5169b3-c889-4359-8765-2ac0d975e044"
      },
      "source": [
        "doc.cats"
      ],
      "execution_count": null,
      "outputs": [
        {
          "output_type": "execute_result",
          "data": {
            "text/plain": [
              "{'content analysis': 0.0015635042218491435,\n",
              " 'experimental': 0.04885950684547424,\n",
              " 'qualitative': 0.001962245674803853,\n",
              " 'secondary data': 0.05379144102334976,\n",
              " 'survey': 0.8938232660293579}"
            ]
          },
          "metadata": {
            "tags": []
          },
          "execution_count": 47
        }
      ]
    },
    {
      "cell_type": "code",
      "metadata": {
        "colab": {
          "base_uri": "https://localhost:8080/",
          "height": 35
        },
        "id": "d9bJ7u4DwOjF",
        "outputId": "ee9bf057-512d-4683-9f23-d4ad0cdecaed"
      },
      "source": [
        "df_merged.Method.iloc[4]"
      ],
      "execution_count": null,
      "outputs": [
        {
          "output_type": "execute_result",
          "data": {
            "application/vnd.google.colaboratory.intrinsic+json": {
              "type": "string"
            },
            "text/plain": [
              "'experimental'"
            ]
          },
          "metadata": {
            "tags": []
          },
          "execution_count": 48
        }
      ]
    },
    {
      "cell_type": "code",
      "metadata": {
        "id": "fWXMsB99xPDS"
      },
      "source": [
        ""
      ],
      "execution_count": null,
      "outputs": []
    }
  ]
}