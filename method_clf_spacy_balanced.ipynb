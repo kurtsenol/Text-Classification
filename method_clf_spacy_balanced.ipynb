{
  "nbformat": 4,
  "nbformat_minor": 0,
  "metadata": {
    "colab": {
      "name": "method_clf_spacy_balanced.ipynb",
      "provenance": [],
      "collapsed_sections": [],
      "mount_file_id": "1ubxyMG8s9LsVDoWAT2onLNcVkaAcgyhX",
      "authorship_tag": "ABX9TyMSQ2UJajMiiw5lo1NpK+dw",
      "include_colab_link": true
    },
    "kernelspec": {
      "display_name": "Python 3",
      "name": "python3"
    },
    "widgets": {
      "application/vnd.jupyter.widget-state+json": {
        "f600ce37d09642d1a7652d6178c69cdd": {
          "model_module": "@jupyter-widgets/controls",
          "model_name": "HBoxModel",
          "state": {
            "_view_name": "HBoxView",
            "_dom_classes": [],
            "_model_name": "HBoxModel",
            "_view_module": "@jupyter-widgets/controls",
            "_model_module_version": "1.5.0",
            "_view_count": null,
            "_view_module_version": "1.5.0",
            "box_style": "",
            "layout": "IPY_MODEL_a0a3a415ed9f4a70951aec32e1dbc0c1",
            "_model_module": "@jupyter-widgets/controls",
            "children": [
              "IPY_MODEL_200b29c195f04d089a2474416a62a5c9",
              "IPY_MODEL_6b36c77e54194119866cdb8be992b1a9"
            ]
          }
        },
        "a0a3a415ed9f4a70951aec32e1dbc0c1": {
          "model_module": "@jupyter-widgets/base",
          "model_name": "LayoutModel",
          "state": {
            "_view_name": "LayoutView",
            "grid_template_rows": null,
            "right": null,
            "justify_content": null,
            "_view_module": "@jupyter-widgets/base",
            "overflow": null,
            "_model_module_version": "1.2.0",
            "_view_count": null,
            "flex_flow": null,
            "width": null,
            "min_width": null,
            "border": null,
            "align_items": null,
            "bottom": null,
            "_model_module": "@jupyter-widgets/base",
            "top": null,
            "grid_column": null,
            "overflow_y": null,
            "overflow_x": null,
            "grid_auto_flow": null,
            "grid_area": null,
            "grid_template_columns": null,
            "flex": null,
            "_model_name": "LayoutModel",
            "justify_items": null,
            "grid_row": null,
            "max_height": null,
            "align_content": null,
            "visibility": null,
            "align_self": null,
            "height": null,
            "min_height": null,
            "padding": null,
            "grid_auto_rows": null,
            "grid_gap": null,
            "max_width": null,
            "order": null,
            "_view_module_version": "1.2.0",
            "grid_template_areas": null,
            "object_position": null,
            "object_fit": null,
            "grid_auto_columns": null,
            "margin": null,
            "display": null,
            "left": null
          }
        },
        "200b29c195f04d089a2474416a62a5c9": {
          "model_module": "@jupyter-widgets/controls",
          "model_name": "FloatProgressModel",
          "state": {
            "_view_name": "ProgressView",
            "style": "IPY_MODEL_7fbbca7d1f2140ddb842e439dd26495c",
            "_dom_classes": [],
            "description": "100%",
            "_model_name": "FloatProgressModel",
            "bar_style": "success",
            "max": 400,
            "_view_module": "@jupyter-widgets/controls",
            "_model_module_version": "1.5.0",
            "value": 400,
            "_view_count": null,
            "_view_module_version": "1.5.0",
            "orientation": "horizontal",
            "min": 0,
            "description_tooltip": null,
            "_model_module": "@jupyter-widgets/controls",
            "layout": "IPY_MODEL_b73ec28897bf45c1b6340fc735f2da46"
          }
        },
        "6b36c77e54194119866cdb8be992b1a9": {
          "model_module": "@jupyter-widgets/controls",
          "model_name": "HTMLModel",
          "state": {
            "_view_name": "HTMLView",
            "style": "IPY_MODEL_b5bdde8a070143acaf8d142e5b59b2fa",
            "_dom_classes": [],
            "description": "",
            "_model_name": "HTMLModel",
            "placeholder": "​",
            "_view_module": "@jupyter-widgets/controls",
            "_model_module_version": "1.5.0",
            "value": " 400/400 [00:55&lt;00:00,  7.15it/s]",
            "_view_count": null,
            "_view_module_version": "1.5.0",
            "description_tooltip": null,
            "_model_module": "@jupyter-widgets/controls",
            "layout": "IPY_MODEL_a4e3716f2c9d4c5a896a92039ae5145d"
          }
        },
        "7fbbca7d1f2140ddb842e439dd26495c": {
          "model_module": "@jupyter-widgets/controls",
          "model_name": "ProgressStyleModel",
          "state": {
            "_view_name": "StyleView",
            "_model_name": "ProgressStyleModel",
            "description_width": "initial",
            "_view_module": "@jupyter-widgets/base",
            "_model_module_version": "1.5.0",
            "_view_count": null,
            "_view_module_version": "1.2.0",
            "bar_color": null,
            "_model_module": "@jupyter-widgets/controls"
          }
        },
        "b73ec28897bf45c1b6340fc735f2da46": {
          "model_module": "@jupyter-widgets/base",
          "model_name": "LayoutModel",
          "state": {
            "_view_name": "LayoutView",
            "grid_template_rows": null,
            "right": null,
            "justify_content": null,
            "_view_module": "@jupyter-widgets/base",
            "overflow": null,
            "_model_module_version": "1.2.0",
            "_view_count": null,
            "flex_flow": null,
            "width": null,
            "min_width": null,
            "border": null,
            "align_items": null,
            "bottom": null,
            "_model_module": "@jupyter-widgets/base",
            "top": null,
            "grid_column": null,
            "overflow_y": null,
            "overflow_x": null,
            "grid_auto_flow": null,
            "grid_area": null,
            "grid_template_columns": null,
            "flex": null,
            "_model_name": "LayoutModel",
            "justify_items": null,
            "grid_row": null,
            "max_height": null,
            "align_content": null,
            "visibility": null,
            "align_self": null,
            "height": null,
            "min_height": null,
            "padding": null,
            "grid_auto_rows": null,
            "grid_gap": null,
            "max_width": null,
            "order": null,
            "_view_module_version": "1.2.0",
            "grid_template_areas": null,
            "object_position": null,
            "object_fit": null,
            "grid_auto_columns": null,
            "margin": null,
            "display": null,
            "left": null
          }
        },
        "b5bdde8a070143acaf8d142e5b59b2fa": {
          "model_module": "@jupyter-widgets/controls",
          "model_name": "DescriptionStyleModel",
          "state": {
            "_view_name": "StyleView",
            "_model_name": "DescriptionStyleModel",
            "description_width": "",
            "_view_module": "@jupyter-widgets/base",
            "_model_module_version": "1.5.0",
            "_view_count": null,
            "_view_module_version": "1.2.0",
            "_model_module": "@jupyter-widgets/controls"
          }
        },
        "a4e3716f2c9d4c5a896a92039ae5145d": {
          "model_module": "@jupyter-widgets/base",
          "model_name": "LayoutModel",
          "state": {
            "_view_name": "LayoutView",
            "grid_template_rows": null,
            "right": null,
            "justify_content": null,
            "_view_module": "@jupyter-widgets/base",
            "overflow": null,
            "_model_module_version": "1.2.0",
            "_view_count": null,
            "flex_flow": null,
            "width": null,
            "min_width": null,
            "border": null,
            "align_items": null,
            "bottom": null,
            "_model_module": "@jupyter-widgets/base",
            "top": null,
            "grid_column": null,
            "overflow_y": null,
            "overflow_x": null,
            "grid_auto_flow": null,
            "grid_area": null,
            "grid_template_columns": null,
            "flex": null,
            "_model_name": "LayoutModel",
            "justify_items": null,
            "grid_row": null,
            "max_height": null,
            "align_content": null,
            "visibility": null,
            "align_self": null,
            "height": null,
            "min_height": null,
            "padding": null,
            "grid_auto_rows": null,
            "grid_gap": null,
            "max_width": null,
            "order": null,
            "_view_module_version": "1.2.0",
            "grid_template_areas": null,
            "object_position": null,
            "object_fit": null,
            "grid_auto_columns": null,
            "margin": null,
            "display": null,
            "left": null
          }
        },
        "e5e276cfba03413bb0123e1e9aa04f3e": {
          "model_module": "@jupyter-widgets/controls",
          "model_name": "HBoxModel",
          "state": {
            "_view_name": "HBoxView",
            "_dom_classes": [],
            "_model_name": "HBoxModel",
            "_view_module": "@jupyter-widgets/controls",
            "_model_module_version": "1.5.0",
            "_view_count": null,
            "_view_module_version": "1.5.0",
            "box_style": "",
            "layout": "IPY_MODEL_685ccf04b88b420b949583c38c6c2d94",
            "_model_module": "@jupyter-widgets/controls",
            "children": [
              "IPY_MODEL_71fe0005d2ee4d1392f9e4e007bb899d",
              "IPY_MODEL_836fd028020b4212a6da9534c3d0975a"
            ]
          }
        },
        "685ccf04b88b420b949583c38c6c2d94": {
          "model_module": "@jupyter-widgets/base",
          "model_name": "LayoutModel",
          "state": {
            "_view_name": "LayoutView",
            "grid_template_rows": null,
            "right": null,
            "justify_content": null,
            "_view_module": "@jupyter-widgets/base",
            "overflow": null,
            "_model_module_version": "1.2.0",
            "_view_count": null,
            "flex_flow": null,
            "width": null,
            "min_width": null,
            "border": null,
            "align_items": null,
            "bottom": null,
            "_model_module": "@jupyter-widgets/base",
            "top": null,
            "grid_column": null,
            "overflow_y": null,
            "overflow_x": null,
            "grid_auto_flow": null,
            "grid_area": null,
            "grid_template_columns": null,
            "flex": null,
            "_model_name": "LayoutModel",
            "justify_items": null,
            "grid_row": null,
            "max_height": null,
            "align_content": null,
            "visibility": null,
            "align_self": null,
            "height": null,
            "min_height": null,
            "padding": null,
            "grid_auto_rows": null,
            "grid_gap": null,
            "max_width": null,
            "order": null,
            "_view_module_version": "1.2.0",
            "grid_template_areas": null,
            "object_position": null,
            "object_fit": null,
            "grid_auto_columns": null,
            "margin": null,
            "display": null,
            "left": null
          }
        },
        "71fe0005d2ee4d1392f9e4e007bb899d": {
          "model_module": "@jupyter-widgets/controls",
          "model_name": "FloatProgressModel",
          "state": {
            "_view_name": "ProgressView",
            "style": "IPY_MODEL_963665e878724a3c89e1dbfa58c04c57",
            "_dom_classes": [],
            "description": "100%",
            "_model_name": "FloatProgressModel",
            "bar_style": "success",
            "max": 120,
            "_view_module": "@jupyter-widgets/controls",
            "_model_module_version": "1.5.0",
            "value": 120,
            "_view_count": null,
            "_view_module_version": "1.5.0",
            "orientation": "horizontal",
            "min": 0,
            "description_tooltip": null,
            "_model_module": "@jupyter-widgets/controls",
            "layout": "IPY_MODEL_a79736b2903b49c09d3f4fa9c5f858be"
          }
        },
        "836fd028020b4212a6da9534c3d0975a": {
          "model_module": "@jupyter-widgets/controls",
          "model_name": "HTMLModel",
          "state": {
            "_view_name": "HTMLView",
            "style": "IPY_MODEL_5c6ab501b4e240f0bc7465918d74fe31",
            "_dom_classes": [],
            "description": "",
            "_model_name": "HTMLModel",
            "placeholder": "​",
            "_view_module": "@jupyter-widgets/controls",
            "_model_module_version": "1.5.0",
            "value": " 120/120 [00:17&lt;00:00,  6.79it/s]",
            "_view_count": null,
            "_view_module_version": "1.5.0",
            "description_tooltip": null,
            "_model_module": "@jupyter-widgets/controls",
            "layout": "IPY_MODEL_e04c975982394e6e9389006293c45e5b"
          }
        },
        "963665e878724a3c89e1dbfa58c04c57": {
          "model_module": "@jupyter-widgets/controls",
          "model_name": "ProgressStyleModel",
          "state": {
            "_view_name": "StyleView",
            "_model_name": "ProgressStyleModel",
            "description_width": "initial",
            "_view_module": "@jupyter-widgets/base",
            "_model_module_version": "1.5.0",
            "_view_count": null,
            "_view_module_version": "1.2.0",
            "bar_color": null,
            "_model_module": "@jupyter-widgets/controls"
          }
        },
        "a79736b2903b49c09d3f4fa9c5f858be": {
          "model_module": "@jupyter-widgets/base",
          "model_name": "LayoutModel",
          "state": {
            "_view_name": "LayoutView",
            "grid_template_rows": null,
            "right": null,
            "justify_content": null,
            "_view_module": "@jupyter-widgets/base",
            "overflow": null,
            "_model_module_version": "1.2.0",
            "_view_count": null,
            "flex_flow": null,
            "width": null,
            "min_width": null,
            "border": null,
            "align_items": null,
            "bottom": null,
            "_model_module": "@jupyter-widgets/base",
            "top": null,
            "grid_column": null,
            "overflow_y": null,
            "overflow_x": null,
            "grid_auto_flow": null,
            "grid_area": null,
            "grid_template_columns": null,
            "flex": null,
            "_model_name": "LayoutModel",
            "justify_items": null,
            "grid_row": null,
            "max_height": null,
            "align_content": null,
            "visibility": null,
            "align_self": null,
            "height": null,
            "min_height": null,
            "padding": null,
            "grid_auto_rows": null,
            "grid_gap": null,
            "max_width": null,
            "order": null,
            "_view_module_version": "1.2.0",
            "grid_template_areas": null,
            "object_position": null,
            "object_fit": null,
            "grid_auto_columns": null,
            "margin": null,
            "display": null,
            "left": null
          }
        },
        "5c6ab501b4e240f0bc7465918d74fe31": {
          "model_module": "@jupyter-widgets/controls",
          "model_name": "DescriptionStyleModel",
          "state": {
            "_view_name": "StyleView",
            "_model_name": "DescriptionStyleModel",
            "description_width": "",
            "_view_module": "@jupyter-widgets/base",
            "_model_module_version": "1.5.0",
            "_view_count": null,
            "_view_module_version": "1.2.0",
            "_model_module": "@jupyter-widgets/controls"
          }
        },
        "e04c975982394e6e9389006293c45e5b": {
          "model_module": "@jupyter-widgets/base",
          "model_name": "LayoutModel",
          "state": {
            "_view_name": "LayoutView",
            "grid_template_rows": null,
            "right": null,
            "justify_content": null,
            "_view_module": "@jupyter-widgets/base",
            "overflow": null,
            "_model_module_version": "1.2.0",
            "_view_count": null,
            "flex_flow": null,
            "width": null,
            "min_width": null,
            "border": null,
            "align_items": null,
            "bottom": null,
            "_model_module": "@jupyter-widgets/base",
            "top": null,
            "grid_column": null,
            "overflow_y": null,
            "overflow_x": null,
            "grid_auto_flow": null,
            "grid_area": null,
            "grid_template_columns": null,
            "flex": null,
            "_model_name": "LayoutModel",
            "justify_items": null,
            "grid_row": null,
            "max_height": null,
            "align_content": null,
            "visibility": null,
            "align_self": null,
            "height": null,
            "min_height": null,
            "padding": null,
            "grid_auto_rows": null,
            "grid_gap": null,
            "max_width": null,
            "order": null,
            "_view_module_version": "1.2.0",
            "grid_template_areas": null,
            "object_position": null,
            "object_fit": null,
            "grid_auto_columns": null,
            "margin": null,
            "display": null,
            "left": null
          }
        }
      }
    },
    "accelerator": "GPU"
  },
  "cells": [
    {
      "cell_type": "markdown",
      "metadata": {
        "id": "view-in-github",
        "colab_type": "text"
      },
      "source": [
        "<a href=\"https://colab.research.google.com/github/kurtsenol/Text-Classification/blob/main/method_clf_spacy_balanced.ipynb\" target=\"_parent\"><img src=\"https://colab.research.google.com/assets/colab-badge.svg\" alt=\"Open In Colab\"/></a>"
      ]
    },
    {
      "cell_type": "code",
      "metadata": {
        "colab": {
          "base_uri": "https://localhost:8080/"
        },
        "id": "EtlVcAvoXgbs",
        "outputId": "3bcab25a-8b7c-4017-de3b-703feefa6fab"
      },
      "source": [
        "!python -m spacy download en_core_web_md"
      ],
      "execution_count": null,
      "outputs": [
        {
          "output_type": "stream",
          "text": [
            "2021-06-14 06:42:46.992145: I tensorflow/stream_executor/platform/default/dso_loader.cc:53] Successfully opened dynamic library libcudart.so.11.0\n",
            "Collecting en_core_web_md==3.0.0\n",
            "\u001b[?25l  Downloading https://github.com/explosion/spacy-models/releases/download/en_core_web_md-3.0.0/en_core_web_md-3.0.0.tar.gz (47.0MB)\n",
            "\u001b[K     |████████████████████████████████| 47.0MB 1.3MB/s \n",
            "\u001b[?25hRequirement already satisfied: spacy<3.1.0,>=3.0.0 in /usr/local/lib/python3.7/dist-packages (from en_core_web_md==3.0.0) (3.0.6)\n",
            "Requirement already satisfied: catalogue<2.1.0,>=2.0.3 in /usr/local/lib/python3.7/dist-packages (from spacy<3.1.0,>=3.0.0->en_core_web_md==3.0.0) (2.0.4)\n",
            "Requirement already satisfied: pathy>=0.3.5 in /usr/local/lib/python3.7/dist-packages (from spacy<3.1.0,>=3.0.0->en_core_web_md==3.0.0) (0.5.2)\n",
            "Requirement already satisfied: requests<3.0.0,>=2.13.0 in /usr/local/lib/python3.7/dist-packages (from spacy<3.1.0,>=3.0.0->en_core_web_md==3.0.0) (2.23.0)\n",
            "Requirement already satisfied: murmurhash<1.1.0,>=0.28.0 in /usr/local/lib/python3.7/dist-packages (from spacy<3.1.0,>=3.0.0->en_core_web_md==3.0.0) (1.0.5)\n",
            "Requirement already satisfied: typer<0.4.0,>=0.3.0 in /usr/local/lib/python3.7/dist-packages (from spacy<3.1.0,>=3.0.0->en_core_web_md==3.0.0) (0.3.2)\n",
            "Requirement already satisfied: thinc<8.1.0,>=8.0.3 in /usr/local/lib/python3.7/dist-packages (from spacy<3.1.0,>=3.0.0->en_core_web_md==3.0.0) (8.0.4)\n",
            "Requirement already satisfied: packaging>=20.0 in /usr/local/lib/python3.7/dist-packages (from spacy<3.1.0,>=3.0.0->en_core_web_md==3.0.0) (20.9)\n",
            "Requirement already satisfied: srsly<3.0.0,>=2.4.1 in /usr/local/lib/python3.7/dist-packages (from spacy<3.1.0,>=3.0.0->en_core_web_md==3.0.0) (2.4.1)\n",
            "Requirement already satisfied: jinja2 in /usr/local/lib/python3.7/dist-packages (from spacy<3.1.0,>=3.0.0->en_core_web_md==3.0.0) (2.11.3)\n",
            "Requirement already satisfied: blis<0.8.0,>=0.4.0 in /usr/local/lib/python3.7/dist-packages (from spacy<3.1.0,>=3.0.0->en_core_web_md==3.0.0) (0.4.1)\n",
            "Requirement already satisfied: pydantic<1.8.0,>=1.7.1 in /usr/local/lib/python3.7/dist-packages (from spacy<3.1.0,>=3.0.0->en_core_web_md==3.0.0) (1.7.4)\n",
            "Requirement already satisfied: preshed<3.1.0,>=3.0.2 in /usr/local/lib/python3.7/dist-packages (from spacy<3.1.0,>=3.0.0->en_core_web_md==3.0.0) (3.0.5)\n",
            "Requirement already satisfied: spacy-legacy<3.1.0,>=3.0.4 in /usr/local/lib/python3.7/dist-packages (from spacy<3.1.0,>=3.0.0->en_core_web_md==3.0.0) (3.0.5)\n",
            "Requirement already satisfied: setuptools in /usr/local/lib/python3.7/dist-packages (from spacy<3.1.0,>=3.0.0->en_core_web_md==3.0.0) (57.0.0)\n",
            "Requirement already satisfied: numpy>=1.15.0 in /usr/local/lib/python3.7/dist-packages (from spacy<3.1.0,>=3.0.0->en_core_web_md==3.0.0) (1.19.5)\n",
            "Requirement already satisfied: typing-extensions<4.0.0.0,>=3.7.4; python_version < \"3.8\" in /usr/local/lib/python3.7/dist-packages (from spacy<3.1.0,>=3.0.0->en_core_web_md==3.0.0) (3.7.4.3)\n",
            "Requirement already satisfied: wasabi<1.1.0,>=0.8.1 in /usr/local/lib/python3.7/dist-packages (from spacy<3.1.0,>=3.0.0->en_core_web_md==3.0.0) (0.8.2)\n",
            "Requirement already satisfied: cymem<2.1.0,>=2.0.2 in /usr/local/lib/python3.7/dist-packages (from spacy<3.1.0,>=3.0.0->en_core_web_md==3.0.0) (2.0.5)\n",
            "Requirement already satisfied: tqdm<5.0.0,>=4.38.0 in /usr/local/lib/python3.7/dist-packages (from spacy<3.1.0,>=3.0.0->en_core_web_md==3.0.0) (4.41.1)\n",
            "Requirement already satisfied: zipp>=0.5; python_version < \"3.8\" in /usr/local/lib/python3.7/dist-packages (from catalogue<2.1.0,>=2.0.3->spacy<3.1.0,>=3.0.0->en_core_web_md==3.0.0) (3.4.1)\n",
            "Requirement already satisfied: smart-open<4.0.0,>=2.2.0 in /usr/local/lib/python3.7/dist-packages (from pathy>=0.3.5->spacy<3.1.0,>=3.0.0->en_core_web_md==3.0.0) (3.0.0)\n",
            "Requirement already satisfied: idna<3,>=2.5 in /usr/local/lib/python3.7/dist-packages (from requests<3.0.0,>=2.13.0->spacy<3.1.0,>=3.0.0->en_core_web_md==3.0.0) (2.10)\n",
            "Requirement already satisfied: certifi>=2017.4.17 in /usr/local/lib/python3.7/dist-packages (from requests<3.0.0,>=2.13.0->spacy<3.1.0,>=3.0.0->en_core_web_md==3.0.0) (2020.12.5)\n",
            "Requirement already satisfied: urllib3!=1.25.0,!=1.25.1,<1.26,>=1.21.1 in /usr/local/lib/python3.7/dist-packages (from requests<3.0.0,>=2.13.0->spacy<3.1.0,>=3.0.0->en_core_web_md==3.0.0) (1.24.3)\n",
            "Requirement already satisfied: chardet<4,>=3.0.2 in /usr/local/lib/python3.7/dist-packages (from requests<3.0.0,>=2.13.0->spacy<3.1.0,>=3.0.0->en_core_web_md==3.0.0) (3.0.4)\n",
            "Requirement already satisfied: click<7.2.0,>=7.1.1 in /usr/local/lib/python3.7/dist-packages (from typer<0.4.0,>=0.3.0->spacy<3.1.0,>=3.0.0->en_core_web_md==3.0.0) (7.1.2)\n",
            "Requirement already satisfied: pyparsing>=2.0.2 in /usr/local/lib/python3.7/dist-packages (from packaging>=20.0->spacy<3.1.0,>=3.0.0->en_core_web_md==3.0.0) (2.4.7)\n",
            "Requirement already satisfied: MarkupSafe>=0.23 in /usr/local/lib/python3.7/dist-packages (from jinja2->spacy<3.1.0,>=3.0.0->en_core_web_md==3.0.0) (2.0.1)\n",
            "Building wheels for collected packages: en-core-web-md\n",
            "  Building wheel for en-core-web-md (setup.py) ... \u001b[?25l\u001b[?25hdone\n",
            "  Created wheel for en-core-web-md: filename=en_core_web_md-3.0.0-cp37-none-any.whl size=47053328 sha256=28869a8331abf9548282ca4c1a36bb3fa0f0945645b6fcf920fe9c19185ac251\n",
            "  Stored in directory: /tmp/pip-ephem-wheel-cache-lhsqddad/wheels/cb/6f/06/9906cf4354d5f0531970b1e8006212894afe8f551d673e6d87\n",
            "Successfully built en-core-web-md\n",
            "Installing collected packages: en-core-web-md\n",
            "  Found existing installation: en-core-web-md 2.2.5\n",
            "    Uninstalling en-core-web-md-2.2.5:\n",
            "      Successfully uninstalled en-core-web-md-2.2.5\n",
            "Successfully installed en-core-web-md-3.0.0\n",
            "\u001b[38;5;2m✔ Download and installation successful\u001b[0m\n",
            "You can now load the package via spacy.load('en_core_web_md')\n"
          ],
          "name": "stdout"
        }
      ]
    },
    {
      "cell_type": "code",
      "metadata": {
        "id": "Kbf5SBqJNVg2",
        "colab": {
          "base_uri": "https://localhost:8080/"
        },
        "outputId": "e12ffde1-1dfe-4d0c-c11b-2cd8860d19ba"
      },
      "source": [
        "pip install spacy-transformers"
      ],
      "execution_count": null,
      "outputs": [
        {
          "output_type": "stream",
          "text": [
            "Requirement already satisfied: spacy-transformers in /usr/local/lib/python3.7/dist-packages (1.0.2)\n",
            "Requirement already satisfied: spacy-alignments<1.0.0,>=0.7.2 in /usr/local/lib/python3.7/dist-packages (from spacy-transformers) (0.8.3)\n",
            "Requirement already satisfied: srsly<3.0.0,>=2.4.0 in /usr/local/lib/python3.7/dist-packages (from spacy-transformers) (2.4.1)\n",
            "Requirement already satisfied: torch>=1.5.0 in /usr/local/lib/python3.7/dist-packages (from spacy-transformers) (1.8.1+cu101)\n",
            "Requirement already satisfied: spacy<3.1.0,>=3.0.0 in /usr/local/lib/python3.7/dist-packages (from spacy-transformers) (3.0.6)\n",
            "Requirement already satisfied: transformers<4.6.0,>=3.4.0 in /usr/local/lib/python3.7/dist-packages (from spacy-transformers) (4.5.1)\n",
            "Requirement already satisfied: catalogue<2.1.0,>=2.0.1 in /usr/local/lib/python3.7/dist-packages (from srsly<3.0.0,>=2.4.0->spacy-transformers) (2.0.4)\n",
            "Requirement already satisfied: numpy in /usr/local/lib/python3.7/dist-packages (from torch>=1.5.0->spacy-transformers) (1.19.5)\n",
            "Requirement already satisfied: typing-extensions in /usr/local/lib/python3.7/dist-packages (from torch>=1.5.0->spacy-transformers) (3.7.4.3)\n",
            "Requirement already satisfied: tqdm<5.0.0,>=4.38.0 in /usr/local/lib/python3.7/dist-packages (from spacy<3.1.0,>=3.0.0->spacy-transformers) (4.41.1)\n",
            "Requirement already satisfied: wasabi<1.1.0,>=0.8.1 in /usr/local/lib/python3.7/dist-packages (from spacy<3.1.0,>=3.0.0->spacy-transformers) (0.8.2)\n",
            "Requirement already satisfied: spacy-legacy<3.1.0,>=3.0.4 in /usr/local/lib/python3.7/dist-packages (from spacy<3.1.0,>=3.0.0->spacy-transformers) (3.0.5)\n",
            "Requirement already satisfied: setuptools in /usr/local/lib/python3.7/dist-packages (from spacy<3.1.0,>=3.0.0->spacy-transformers) (57.0.0)\n",
            "Requirement already satisfied: cymem<2.1.0,>=2.0.2 in /usr/local/lib/python3.7/dist-packages (from spacy<3.1.0,>=3.0.0->spacy-transformers) (2.0.5)\n",
            "Requirement already satisfied: pathy>=0.3.5 in /usr/local/lib/python3.7/dist-packages (from spacy<3.1.0,>=3.0.0->spacy-transformers) (0.5.2)\n",
            "Requirement already satisfied: thinc<8.1.0,>=8.0.3 in /usr/local/lib/python3.7/dist-packages (from spacy<3.1.0,>=3.0.0->spacy-transformers) (8.0.4)\n",
            "Requirement already satisfied: packaging>=20.0 in /usr/local/lib/python3.7/dist-packages (from spacy<3.1.0,>=3.0.0->spacy-transformers) (20.9)\n",
            "Requirement already satisfied: preshed<3.1.0,>=3.0.2 in /usr/local/lib/python3.7/dist-packages (from spacy<3.1.0,>=3.0.0->spacy-transformers) (3.0.5)\n",
            "Requirement already satisfied: pydantic<1.8.0,>=1.7.1 in /usr/local/lib/python3.7/dist-packages (from spacy<3.1.0,>=3.0.0->spacy-transformers) (1.7.4)\n",
            "Requirement already satisfied: requests<3.0.0,>=2.13.0 in /usr/local/lib/python3.7/dist-packages (from spacy<3.1.0,>=3.0.0->spacy-transformers) (2.23.0)\n",
            "Requirement already satisfied: jinja2 in /usr/local/lib/python3.7/dist-packages (from spacy<3.1.0,>=3.0.0->spacy-transformers) (2.11.3)\n",
            "Requirement already satisfied: typer<0.4.0,>=0.3.0 in /usr/local/lib/python3.7/dist-packages (from spacy<3.1.0,>=3.0.0->spacy-transformers) (0.3.2)\n",
            "Requirement already satisfied: blis<0.8.0,>=0.4.0 in /usr/local/lib/python3.7/dist-packages (from spacy<3.1.0,>=3.0.0->spacy-transformers) (0.4.1)\n",
            "Requirement already satisfied: murmurhash<1.1.0,>=0.28.0 in /usr/local/lib/python3.7/dist-packages (from spacy<3.1.0,>=3.0.0->spacy-transformers) (1.0.5)\n",
            "Requirement already satisfied: tokenizers<0.11,>=0.10.1 in /usr/local/lib/python3.7/dist-packages (from transformers<4.6.0,>=3.4.0->spacy-transformers) (0.10.3)\n",
            "Requirement already satisfied: importlib-metadata; python_version < \"3.8\" in /usr/local/lib/python3.7/dist-packages (from transformers<4.6.0,>=3.4.0->spacy-transformers) (4.0.1)\n",
            "Requirement already satisfied: filelock in /usr/local/lib/python3.7/dist-packages (from transformers<4.6.0,>=3.4.0->spacy-transformers) (3.0.12)\n",
            "Requirement already satisfied: regex!=2019.12.17 in /usr/local/lib/python3.7/dist-packages (from transformers<4.6.0,>=3.4.0->spacy-transformers) (2019.12.20)\n",
            "Requirement already satisfied: sacremoses in /usr/local/lib/python3.7/dist-packages (from transformers<4.6.0,>=3.4.0->spacy-transformers) (0.0.45)\n",
            "Requirement already satisfied: zipp>=0.5; python_version < \"3.8\" in /usr/local/lib/python3.7/dist-packages (from catalogue<2.1.0,>=2.0.1->srsly<3.0.0,>=2.4.0->spacy-transformers) (3.4.1)\n",
            "Requirement already satisfied: smart-open<4.0.0,>=2.2.0 in /usr/local/lib/python3.7/dist-packages (from pathy>=0.3.5->spacy<3.1.0,>=3.0.0->spacy-transformers) (3.0.0)\n",
            "Requirement already satisfied: pyparsing>=2.0.2 in /usr/local/lib/python3.7/dist-packages (from packaging>=20.0->spacy<3.1.0,>=3.0.0->spacy-transformers) (2.4.7)\n",
            "Requirement already satisfied: idna<3,>=2.5 in /usr/local/lib/python3.7/dist-packages (from requests<3.0.0,>=2.13.0->spacy<3.1.0,>=3.0.0->spacy-transformers) (2.10)\n",
            "Requirement already satisfied: urllib3!=1.25.0,!=1.25.1,<1.26,>=1.21.1 in /usr/local/lib/python3.7/dist-packages (from requests<3.0.0,>=2.13.0->spacy<3.1.0,>=3.0.0->spacy-transformers) (1.24.3)\n",
            "Requirement already satisfied: certifi>=2017.4.17 in /usr/local/lib/python3.7/dist-packages (from requests<3.0.0,>=2.13.0->spacy<3.1.0,>=3.0.0->spacy-transformers) (2020.12.5)\n",
            "Requirement already satisfied: chardet<4,>=3.0.2 in /usr/local/lib/python3.7/dist-packages (from requests<3.0.0,>=2.13.0->spacy<3.1.0,>=3.0.0->spacy-transformers) (3.0.4)\n",
            "Requirement already satisfied: MarkupSafe>=0.23 in /usr/local/lib/python3.7/dist-packages (from jinja2->spacy<3.1.0,>=3.0.0->spacy-transformers) (2.0.1)\n",
            "Requirement already satisfied: click<7.2.0,>=7.1.1 in /usr/local/lib/python3.7/dist-packages (from typer<0.4.0,>=0.3.0->spacy<3.1.0,>=3.0.0->spacy-transformers) (7.1.2)\n",
            "Requirement already satisfied: joblib in /usr/local/lib/python3.7/dist-packages (from sacremoses->transformers<4.6.0,>=3.4.0->spacy-transformers) (1.0.1)\n",
            "Requirement already satisfied: six in /usr/local/lib/python3.7/dist-packages (from sacremoses->transformers<4.6.0,>=3.4.0->spacy-transformers) (1.15.0)\n"
          ],
          "name": "stdout"
        }
      ]
    },
    {
      "cell_type": "code",
      "metadata": {
        "colab": {
          "base_uri": "https://localhost:8080/"
        },
        "id": "BxbFjBsRXccs",
        "outputId": "8f9c5fa4-cebd-4843-c5a8-e901658ad261"
      },
      "source": [
        "pip install spacy-nightly"
      ],
      "execution_count": null,
      "outputs": [
        {
          "output_type": "stream",
          "text": [
            "Requirement already satisfied: spacy-nightly in /usr/local/lib/python3.7/dist-packages (3.0.0rc5)\n",
            "Requirement already satisfied: pathy in /usr/local/lib/python3.7/dist-packages (from spacy-nightly) (0.5.2)\n",
            "Requirement already satisfied: murmurhash<1.1.0,>=0.28.0 in /usr/local/lib/python3.7/dist-packages (from spacy-nightly) (1.0.5)\n",
            "Requirement already satisfied: wasabi<1.1.0,>=0.8.1 in /usr/local/lib/python3.7/dist-packages (from spacy-nightly) (0.8.2)\n",
            "Requirement already satisfied: importlib-metadata>=0.20; python_version < \"3.8\" in /usr/local/lib/python3.7/dist-packages (from spacy-nightly) (4.0.1)\n",
            "Requirement already satisfied: spacy-legacy<3.1.0,>=3.0.0.dev0 in /usr/local/lib/python3.7/dist-packages (from spacy-nightly) (3.0.5)\n",
            "Requirement already satisfied: numpy>=1.15.0 in /usr/local/lib/python3.7/dist-packages (from spacy-nightly) (1.19.5)\n",
            "Requirement already satisfied: catalogue<2.1.0,>=2.0.1 in /usr/local/lib/python3.7/dist-packages (from spacy-nightly) (2.0.4)\n",
            "Requirement already satisfied: blis<0.8.0,>=0.4.0 in /usr/local/lib/python3.7/dist-packages (from spacy-nightly) (0.4.1)\n",
            "Requirement already satisfied: setuptools in /usr/local/lib/python3.7/dist-packages (from spacy-nightly) (57.0.0)\n",
            "Requirement already satisfied: pydantic<1.8.0,>=1.7.1 in /usr/local/lib/python3.7/dist-packages (from spacy-nightly) (1.7.4)\n",
            "Requirement already satisfied: tqdm<5.0.0,>=4.38.0 in /usr/local/lib/python3.7/dist-packages (from spacy-nightly) (4.41.1)\n",
            "Requirement already satisfied: preshed<3.1.0,>=3.0.2 in /usr/local/lib/python3.7/dist-packages (from spacy-nightly) (3.0.5)\n",
            "Requirement already satisfied: requests<3.0.0,>=2.13.0 in /usr/local/lib/python3.7/dist-packages (from spacy-nightly) (2.23.0)\n",
            "Requirement already satisfied: cymem<2.1.0,>=2.0.2 in /usr/local/lib/python3.7/dist-packages (from spacy-nightly) (2.0.5)\n",
            "Requirement already satisfied: thinc<8.1.0,>=8.0.0 in /usr/local/lib/python3.7/dist-packages (from spacy-nightly) (8.0.4)\n",
            "Requirement already satisfied: typing-extensions>=3.7.4; python_version < \"3.8\" in /usr/local/lib/python3.7/dist-packages (from spacy-nightly) (3.7.4.3)\n",
            "Requirement already satisfied: jinja2 in /usr/local/lib/python3.7/dist-packages (from spacy-nightly) (2.11.3)\n",
            "Requirement already satisfied: packaging>=20.0 in /usr/local/lib/python3.7/dist-packages (from spacy-nightly) (20.9)\n",
            "Requirement already satisfied: typer<0.4.0,>=0.3.0 in /usr/local/lib/python3.7/dist-packages (from spacy-nightly) (0.3.2)\n",
            "Requirement already satisfied: srsly<3.0.0,>=2.3.0 in /usr/local/lib/python3.7/dist-packages (from spacy-nightly) (2.4.1)\n",
            "Requirement already satisfied: smart-open<4.0.0,>=2.2.0 in /usr/local/lib/python3.7/dist-packages (from pathy->spacy-nightly) (3.0.0)\n",
            "Requirement already satisfied: zipp>=0.5 in /usr/local/lib/python3.7/dist-packages (from importlib-metadata>=0.20; python_version < \"3.8\"->spacy-nightly) (3.4.1)\n",
            "Requirement already satisfied: chardet<4,>=3.0.2 in /usr/local/lib/python3.7/dist-packages (from requests<3.0.0,>=2.13.0->spacy-nightly) (3.0.4)\n",
            "Requirement already satisfied: urllib3!=1.25.0,!=1.25.1,<1.26,>=1.21.1 in /usr/local/lib/python3.7/dist-packages (from requests<3.0.0,>=2.13.0->spacy-nightly) (1.24.3)\n",
            "Requirement already satisfied: certifi>=2017.4.17 in /usr/local/lib/python3.7/dist-packages (from requests<3.0.0,>=2.13.0->spacy-nightly) (2020.12.5)\n",
            "Requirement already satisfied: idna<3,>=2.5 in /usr/local/lib/python3.7/dist-packages (from requests<3.0.0,>=2.13.0->spacy-nightly) (2.10)\n",
            "Requirement already satisfied: MarkupSafe>=0.23 in /usr/local/lib/python3.7/dist-packages (from jinja2->spacy-nightly) (2.0.1)\n",
            "Requirement already satisfied: pyparsing>=2.0.2 in /usr/local/lib/python3.7/dist-packages (from packaging>=20.0->spacy-nightly) (2.4.7)\n",
            "Requirement already satisfied: click<7.2.0,>=7.1.1 in /usr/local/lib/python3.7/dist-packages (from typer<0.4.0,>=0.3.0->spacy-nightly) (7.1.2)\n"
          ],
          "name": "stdout"
        }
      ]
    },
    {
      "cell_type": "code",
      "metadata": {
        "id": "6vE0dWdsDuZp"
      },
      "source": [
        ""
      ],
      "execution_count": null,
      "outputs": []
    },
    {
      "cell_type": "code",
      "metadata": {
        "id": "EMc8rSoMX-4A",
        "colab": {
          "base_uri": "https://localhost:8080/"
        },
        "outputId": "298636fd-08b4-4aeb-d86d-219857819039"
      },
      "source": [
        "# spaCy\n",
        "import spacy\n",
        "nlp = spacy.load('en_core_web_md')\n",
        "# nlp = spacy.load('en_core_web_sm')"
      ],
      "execution_count": null,
      "outputs": [
        {
          "output_type": "stream",
          "text": [
            "/usr/local/lib/python3.7/dist-packages/spacy/util.py:693: UserWarning: [W095] Model 'en_core_web_md' (3.0.0) requires spaCy >=3.0.0,<3.1.0 and is incompatible with the current version (3.0.0rc5). This may lead to unexpected results or runtime errors. To resolve this, download a newer compatible model or retrain your custom model with the current spaCy version. For more details and available updates, run: python -m spacy validate\n",
            "  warnings.warn(warn_msg)\n"
          ],
          "name": "stderr"
        }
      ]
    },
    {
      "cell_type": "code",
      "metadata": {
        "colab": {
          "base_uri": "https://localhost:8080/"
        },
        "id": "kszMxFkRQq9J",
        "outputId": "d715470a-8925-4bcc-91b5-9cc776752c82"
      },
      "source": [
        "!pip3 install pickle5"
      ],
      "execution_count": null,
      "outputs": [
        {
          "output_type": "stream",
          "text": [
            "Collecting pickle5\n",
            "\u001b[?25l  Downloading https://files.pythonhosted.org/packages/f7/4c/5c4dd0462c8d3a6bc4af500a6af240763c2ebd1efdc736fc2c946d44b70a/pickle5-0.0.11.tar.gz (132kB)\n",
            "\r\u001b[K     |██▌                             | 10kB 22.8MB/s eta 0:00:01\r\u001b[K     |█████                           | 20kB 29.6MB/s eta 0:00:01\r\u001b[K     |███████▍                        | 30kB 23.3MB/s eta 0:00:01\r\u001b[K     |██████████                      | 40kB 24.5MB/s eta 0:00:01\r\u001b[K     |████████████▍                   | 51kB 25.0MB/s eta 0:00:01\r\u001b[K     |██████████████▉                 | 61kB 23.0MB/s eta 0:00:01\r\u001b[K     |█████████████████▍              | 71kB 23.1MB/s eta 0:00:01\r\u001b[K     |███████████████████▉            | 81kB 23.8MB/s eta 0:00:01\r\u001b[K     |██████████████████████▎         | 92kB 25.2MB/s eta 0:00:01\r\u001b[K     |████████████████████████▉       | 102kB 24.1MB/s eta 0:00:01\r\u001b[K     |███████████████████████████▎    | 112kB 24.1MB/s eta 0:00:01\r\u001b[K     |█████████████████████████████▊  | 122kB 24.1MB/s eta 0:00:01\r\u001b[K     |████████████████████████████████| 133kB 24.1MB/s \n",
            "\u001b[?25hBuilding wheels for collected packages: pickle5\n",
            "  Building wheel for pickle5 (setup.py) ... \u001b[?25l\u001b[?25hdone\n",
            "  Created wheel for pickle5: filename=pickle5-0.0.11-cp37-cp37m-linux_x86_64.whl size=219279 sha256=84076da14d236bfa62dc12246351b061020a9fc071fc89c09c6e474dbdb3f32e\n",
            "  Stored in directory: /root/.cache/pip/wheels/a6/90/95/f889ca4aa8b0e0c7f21c8470b6f5d6032f0390a3a141a9a3bd\n",
            "Successfully built pickle5\n",
            "Installing collected packages: pickle5\n",
            "Successfully installed pickle5-0.0.11\n"
          ],
          "name": "stdout"
        }
      ]
    },
    {
      "cell_type": "code",
      "metadata": {
        "id": "jjTJvW85QuGy"
      },
      "source": [
        "import os\n",
        "import numpy as np\n",
        "import pandas as pd\n",
        "import pickle5 as pickle\n",
        "import re\n",
        "import random"
      ],
      "execution_count": null,
      "outputs": []
    },
    {
      "cell_type": "code",
      "metadata": {
        "colab": {
          "base_uri": "https://localhost:8080/",
          "height": 874
        },
        "id": "WA3pN0_TR1h9",
        "outputId": "8df3f459-6b01-41ed-a05a-9175be7eec3b"
      },
      "source": [
        "df_method =pd.read_pickle(\"/content/drive/MyDrive/Colab Notebooks/TopicModeling/Methodology/df_method.pkl\")\n",
        "df_method"
      ],
      "execution_count": null,
      "outputs": [
        {
          "output_type": "execute_result",
          "data": {
            "text/html": [
              "<div>\n",
              "<style scoped>\n",
              "    .dataframe tbody tr th:only-of-type {\n",
              "        vertical-align: middle;\n",
              "    }\n",
              "\n",
              "    .dataframe tbody tr th {\n",
              "        vertical-align: top;\n",
              "    }\n",
              "\n",
              "    .dataframe thead th {\n",
              "        text-align: right;\n",
              "    }\n",
              "</style>\n",
              "<table border=\"1\" class=\"dataframe\">\n",
              "  <thead>\n",
              "    <tr style=\"text-align: right;\">\n",
              "      <th></th>\n",
              "      <th>JO</th>\n",
              "      <th>AU</th>\n",
              "      <th>TI</th>\n",
              "      <th>PY</th>\n",
              "      <th>DI</th>\n",
              "      <th>QUANTITATIVE</th>\n",
              "      <th>Method</th>\n",
              "      <th>category</th>\n",
              "      <th>CMB</th>\n",
              "      <th>CMV</th>\n",
              "      <th>MB</th>\n",
              "      <th>MV</th>\n",
              "      <th>MSD</th>\n",
              "      <th>MR</th>\n",
              "      <th>SR</th>\n",
              "      <th>SED</th>\n",
              "      <th>MED</th>\n",
              "      <th>TSM</th>\n",
              "      <th>TLD</th>\n",
              "      <th>PSM</th>\n",
              "      <th>MSM</th>\n",
              "      <th>A</th>\n",
              "      <th>C</th>\n",
              "      <th>CBQO</th>\n",
              "      <th>DBQ</th>\n",
              "      <th>UEB</th>\n",
              "      <th>HSF</th>\n",
              "      <th>PSD</th>\n",
              "      <th>MV.1</th>\n",
              "      <th>GFS</th>\n",
              "      <th>DMLMF</th>\n",
              "      <th>SULMF</th>\n",
              "    </tr>\n",
              "  </thead>\n",
              "  <tbody>\n",
              "    <tr>\n",
              "      <th>0</th>\n",
              "      <td>IJCHM</td>\n",
              "      <td>Ineson, EM; Comic, D; Kalmic, L</td>\n",
              "      <td>Towards a hierarchy of hotel guests' in-room n...</td>\n",
              "      <td>2019.0</td>\n",
              "      <td>10.1108/IJCHM-01-2019-0061</td>\n",
              "      <td>0</td>\n",
              "      <td>phenomenology</td>\n",
              "      <td>CMB-free</td>\n",
              "      <td>0</td>\n",
              "      <td>0</td>\n",
              "      <td>0.0</td>\n",
              "      <td>0.0</td>\n",
              "      <td>0.0</td>\n",
              "      <td>0.0</td>\n",
              "      <td>0.0</td>\n",
              "      <td>0.0</td>\n",
              "      <td>0.0</td>\n",
              "      <td>0.0</td>\n",
              "      <td>0.0</td>\n",
              "      <td>0.0</td>\n",
              "      <td>0.0</td>\n",
              "      <td>0.0</td>\n",
              "      <td>0.0</td>\n",
              "      <td>0.0</td>\n",
              "      <td>0.0</td>\n",
              "      <td>0.0</td>\n",
              "      <td>0.0</td>\n",
              "      <td>0.0</td>\n",
              "      <td>0.0</td>\n",
              "      <td>0.0</td>\n",
              "      <td>0.0</td>\n",
              "      <td>0.0</td>\n",
              "    </tr>\n",
              "    <tr>\n",
              "      <th>1</th>\n",
              "      <td>IJCHM</td>\n",
              "      <td>Benitez-Aurioles, B</td>\n",
              "      <td>Barcelona's peer-to-peer tourist accommodation...</td>\n",
              "      <td>2019.0</td>\n",
              "      <td>10.1108/IJCHM-01-2019-0090</td>\n",
              "      <td>1</td>\n",
              "      <td>secondary data</td>\n",
              "      <td>CMB-free</td>\n",
              "      <td>1</td>\n",
              "      <td>0</td>\n",
              "      <td>0.0</td>\n",
              "      <td>0.0</td>\n",
              "      <td>1.0</td>\n",
              "      <td>0.0</td>\n",
              "      <td>0.0</td>\n",
              "      <td>0.0</td>\n",
              "      <td>0.0</td>\n",
              "      <td>0.0</td>\n",
              "      <td>0.0</td>\n",
              "      <td>0.0</td>\n",
              "      <td>0.0</td>\n",
              "      <td>1.0</td>\n",
              "      <td>0.0</td>\n",
              "      <td>0.0</td>\n",
              "      <td>0.0</td>\n",
              "      <td>0.0</td>\n",
              "      <td>0.0</td>\n",
              "      <td>0.0</td>\n",
              "      <td>0.0</td>\n",
              "      <td>0.0</td>\n",
              "      <td>0.0</td>\n",
              "      <td>0.0</td>\n",
              "    </tr>\n",
              "    <tr>\n",
              "      <th>2</th>\n",
              "      <td>IJCHM</td>\n",
              "      <td>Hu, XB; Yang, Y; Park, S</td>\n",
              "      <td>A meta-regression on the effect of online rati...</td>\n",
              "      <td>2019.0</td>\n",
              "      <td>10.1108/IJCHM-10-2018-0835</td>\n",
              "      <td>0</td>\n",
              "      <td>review</td>\n",
              "      <td>CMB-free</td>\n",
              "      <td>0</td>\n",
              "      <td>0</td>\n",
              "      <td>0.0</td>\n",
              "      <td>0.0</td>\n",
              "      <td>1.0</td>\n",
              "      <td>0.0</td>\n",
              "      <td>0.0</td>\n",
              "      <td>0.0</td>\n",
              "      <td>0.0</td>\n",
              "      <td>0.0</td>\n",
              "      <td>1.0</td>\n",
              "      <td>0.0</td>\n",
              "      <td>0.0</td>\n",
              "      <td>0.0</td>\n",
              "      <td>0.0</td>\n",
              "      <td>0.0</td>\n",
              "      <td>0.0</td>\n",
              "      <td>0.0</td>\n",
              "      <td>0.0</td>\n",
              "      <td>0.0</td>\n",
              "      <td>0.0</td>\n",
              "      <td>0.0</td>\n",
              "      <td>0.0</td>\n",
              "      <td>0.0</td>\n",
              "    </tr>\n",
              "    <tr>\n",
              "      <th>3</th>\n",
              "      <td>IJCHM</td>\n",
              "      <td>Ahmat, NHC; Arendt, SW; Russell, DW</td>\n",
              "      <td>Examining work factors after Malaysia's minimu...</td>\n",
              "      <td>2019.0</td>\n",
              "      <td>10.1108/IJCHM-10-2018-0827</td>\n",
              "      <td>1</td>\n",
              "      <td>survey</td>\n",
              "      <td>CMB-risk</td>\n",
              "      <td>0</td>\n",
              "      <td>0</td>\n",
              "      <td>0.0</td>\n",
              "      <td>0.0</td>\n",
              "      <td>0.0</td>\n",
              "      <td>0.0</td>\n",
              "      <td>0.0</td>\n",
              "      <td>0.0</td>\n",
              "      <td>0.0</td>\n",
              "      <td>0.0</td>\n",
              "      <td>0.0</td>\n",
              "      <td>0.0</td>\n",
              "      <td>0.0</td>\n",
              "      <td>0.0</td>\n",
              "      <td>0.0</td>\n",
              "      <td>0.0</td>\n",
              "      <td>0.0</td>\n",
              "      <td>0.0</td>\n",
              "      <td>0.0</td>\n",
              "      <td>0.0</td>\n",
              "      <td>0.0</td>\n",
              "      <td>0.0</td>\n",
              "      <td>1.0</td>\n",
              "      <td>0.0</td>\n",
              "    </tr>\n",
              "    <tr>\n",
              "      <th>4</th>\n",
              "      <td>IJCHM</td>\n",
              "      <td>Kim, EL; Tanford, S</td>\n",
              "      <td>Seeking reward or avoiding risk from restauran...</td>\n",
              "      <td>2019.0</td>\n",
              "      <td>10.1108/IJCHM-03-2018-0235</td>\n",
              "      <td>1</td>\n",
              "      <td>experimental</td>\n",
              "      <td>CMB-free</td>\n",
              "      <td>0</td>\n",
              "      <td>0</td>\n",
              "      <td>0.0</td>\n",
              "      <td>0.0</td>\n",
              "      <td>0.0</td>\n",
              "      <td>0.0</td>\n",
              "      <td>0.0</td>\n",
              "      <td>0.0</td>\n",
              "      <td>0.0</td>\n",
              "      <td>0.0</td>\n",
              "      <td>0.0</td>\n",
              "      <td>0.0</td>\n",
              "      <td>0.0</td>\n",
              "      <td>0.0</td>\n",
              "      <td>0.0</td>\n",
              "      <td>0.0</td>\n",
              "      <td>0.0</td>\n",
              "      <td>0.0</td>\n",
              "      <td>0.0</td>\n",
              "      <td>0.0</td>\n",
              "      <td>0.0</td>\n",
              "      <td>0.0</td>\n",
              "      <td>0.0</td>\n",
              "      <td>0.0</td>\n",
              "    </tr>\n",
              "    <tr>\n",
              "      <th>...</th>\n",
              "      <td>...</td>\n",
              "      <td>...</td>\n",
              "      <td>...</td>\n",
              "      <td>...</td>\n",
              "      <td>...</td>\n",
              "      <td>...</td>\n",
              "      <td>...</td>\n",
              "      <td>...</td>\n",
              "      <td>...</td>\n",
              "      <td>...</td>\n",
              "      <td>...</td>\n",
              "      <td>...</td>\n",
              "      <td>...</td>\n",
              "      <td>...</td>\n",
              "      <td>...</td>\n",
              "      <td>...</td>\n",
              "      <td>...</td>\n",
              "      <td>...</td>\n",
              "      <td>...</td>\n",
              "      <td>...</td>\n",
              "      <td>...</td>\n",
              "      <td>...</td>\n",
              "      <td>...</td>\n",
              "      <td>...</td>\n",
              "      <td>...</td>\n",
              "      <td>...</td>\n",
              "      <td>...</td>\n",
              "      <td>...</td>\n",
              "      <td>...</td>\n",
              "      <td>...</td>\n",
              "      <td>...</td>\n",
              "      <td>...</td>\n",
              "    </tr>\n",
              "    <tr>\n",
              "      <th>3264</th>\n",
              "      <td>JHMM</td>\n",
              "      <td>de Leaniz, PMG; Rodriguez, IRD</td>\n",
              "      <td>Exploring the Antecedents of Hotel Customer Lo...</td>\n",
              "      <td>2015.0</td>\n",
              "      <td>10.1080/19368623.2014.891961</td>\n",
              "      <td>1</td>\n",
              "      <td>survey</td>\n",
              "      <td>CMB-risk</td>\n",
              "      <td>0</td>\n",
              "      <td>0</td>\n",
              "      <td>0.0</td>\n",
              "      <td>0.0</td>\n",
              "      <td>0.0</td>\n",
              "      <td>0.0</td>\n",
              "      <td>0.0</td>\n",
              "      <td>0.0</td>\n",
              "      <td>0.0</td>\n",
              "      <td>0.0</td>\n",
              "      <td>0.0</td>\n",
              "      <td>0.0</td>\n",
              "      <td>0.0</td>\n",
              "      <td>0.0</td>\n",
              "      <td>0.0</td>\n",
              "      <td>0.0</td>\n",
              "      <td>0.0</td>\n",
              "      <td>0.0</td>\n",
              "      <td>0.0</td>\n",
              "      <td>0.0</td>\n",
              "      <td>0.0</td>\n",
              "      <td>0.0</td>\n",
              "      <td>0.0</td>\n",
              "      <td>0.0</td>\n",
              "    </tr>\n",
              "    <tr>\n",
              "      <th>3265</th>\n",
              "      <td>JHMM</td>\n",
              "      <td>Prayag, G; Khoo-Lattimore, C; Sitruk, J</td>\n",
              "      <td>Casual Dining on the French Riviera: Examining...</td>\n",
              "      <td>2015.0</td>\n",
              "      <td>10.1080/19368623.2014.859114</td>\n",
              "      <td>1</td>\n",
              "      <td>survey</td>\n",
              "      <td>CMB-risk</td>\n",
              "      <td>0</td>\n",
              "      <td>0</td>\n",
              "      <td>0.0</td>\n",
              "      <td>0.0</td>\n",
              "      <td>0.0</td>\n",
              "      <td>0.0</td>\n",
              "      <td>0.0</td>\n",
              "      <td>0.0</td>\n",
              "      <td>0.0</td>\n",
              "      <td>0.0</td>\n",
              "      <td>0.0</td>\n",
              "      <td>0.0</td>\n",
              "      <td>0.0</td>\n",
              "      <td>0.0</td>\n",
              "      <td>0.0</td>\n",
              "      <td>0.0</td>\n",
              "      <td>0.0</td>\n",
              "      <td>0.0</td>\n",
              "      <td>0.0</td>\n",
              "      <td>0.0</td>\n",
              "      <td>0.0</td>\n",
              "      <td>0.0</td>\n",
              "      <td>0.0</td>\n",
              "      <td>0.0</td>\n",
              "    </tr>\n",
              "    <tr>\n",
              "      <th>3266</th>\n",
              "      <td>JHMM</td>\n",
              "      <td>Morosan, C</td>\n",
              "      <td>The Influence of DMO Advertising on Specific D...</td>\n",
              "      <td>2015.0</td>\n",
              "      <td>10.1080/19368623.2014.891962</td>\n",
              "      <td>1</td>\n",
              "      <td>survey</td>\n",
              "      <td>CMB-risk</td>\n",
              "      <td>0</td>\n",
              "      <td>0</td>\n",
              "      <td>0.0</td>\n",
              "      <td>0.0</td>\n",
              "      <td>0.0</td>\n",
              "      <td>0.0</td>\n",
              "      <td>0.0</td>\n",
              "      <td>0.0</td>\n",
              "      <td>0.0</td>\n",
              "      <td>0.0</td>\n",
              "      <td>0.0</td>\n",
              "      <td>0.0</td>\n",
              "      <td>0.0</td>\n",
              "      <td>0.0</td>\n",
              "      <td>0.0</td>\n",
              "      <td>0.0</td>\n",
              "      <td>0.0</td>\n",
              "      <td>0.0</td>\n",
              "      <td>0.0</td>\n",
              "      <td>0.0</td>\n",
              "      <td>0.0</td>\n",
              "      <td>0.0</td>\n",
              "      <td>0.0</td>\n",
              "      <td>0.0</td>\n",
              "    </tr>\n",
              "    <tr>\n",
              "      <th>3267</th>\n",
              "      <td>JHMM</td>\n",
              "      <td>Memarzadeh, F; Chang, HJ</td>\n",
              "      <td>Online Consumer Complaints About Southeast Asi...</td>\n",
              "      <td>2015.0</td>\n",
              "      <td>10.1080/19368623.2014.893222</td>\n",
              "      <td>0</td>\n",
              "      <td>content analysis</td>\n",
              "      <td>CMB-free</td>\n",
              "      <td>NaN</td>\n",
              "      <td>NaN</td>\n",
              "      <td>NaN</td>\n",
              "      <td>NaN</td>\n",
              "      <td>NaN</td>\n",
              "      <td>NaN</td>\n",
              "      <td>NaN</td>\n",
              "      <td>NaN</td>\n",
              "      <td>NaN</td>\n",
              "      <td>NaN</td>\n",
              "      <td>NaN</td>\n",
              "      <td>NaN</td>\n",
              "      <td>NaN</td>\n",
              "      <td>NaN</td>\n",
              "      <td>NaN</td>\n",
              "      <td>NaN</td>\n",
              "      <td>NaN</td>\n",
              "      <td>NaN</td>\n",
              "      <td>NaN</td>\n",
              "      <td>NaN</td>\n",
              "      <td>NaN</td>\n",
              "      <td>NaN</td>\n",
              "      <td>NaN</td>\n",
              "      <td>NaN</td>\n",
              "    </tr>\n",
              "    <tr>\n",
              "      <th>3268</th>\n",
              "      <td>JHMM</td>\n",
              "      <td>Cao, Y; Kim, K</td>\n",
              "      <td>How Do Customers Perceive Service Quality in D...</td>\n",
              "      <td>2015.0</td>\n",
              "      <td>10.1080/19368623.2014.903817</td>\n",
              "      <td>1</td>\n",
              "      <td>survey</td>\n",
              "      <td>CMB-risk</td>\n",
              "      <td>0</td>\n",
              "      <td>0</td>\n",
              "      <td>0.0</td>\n",
              "      <td>0.0</td>\n",
              "      <td>0.0</td>\n",
              "      <td>0.0</td>\n",
              "      <td>0.0</td>\n",
              "      <td>0.0</td>\n",
              "      <td>0.0</td>\n",
              "      <td>0.0</td>\n",
              "      <td>0.0</td>\n",
              "      <td>0.0</td>\n",
              "      <td>0.0</td>\n",
              "      <td>0.0</td>\n",
              "      <td>0.0</td>\n",
              "      <td>0.0</td>\n",
              "      <td>0.0</td>\n",
              "      <td>0.0</td>\n",
              "      <td>0.0</td>\n",
              "      <td>0.0</td>\n",
              "      <td>0.0</td>\n",
              "      <td>0.0</td>\n",
              "      <td>0.0</td>\n",
              "      <td>0.0</td>\n",
              "    </tr>\n",
              "  </tbody>\n",
              "</table>\n",
              "<p>3269 rows × 32 columns</p>\n",
              "</div>"
            ],
            "text/plain": [
              "         JO                                       AU  ... DMLMF  SULMF\n",
              "0     IJCHM          Ineson, EM; Comic, D; Kalmic, L  ...   0.0    0.0\n",
              "1     IJCHM                      Benitez-Aurioles, B  ...   0.0    0.0\n",
              "2     IJCHM                 Hu, XB; Yang, Y; Park, S  ...   0.0    0.0\n",
              "3     IJCHM      Ahmat, NHC; Arendt, SW; Russell, DW  ...   1.0    0.0\n",
              "4     IJCHM                      Kim, EL; Tanford, S  ...   0.0    0.0\n",
              "...     ...                                      ...  ...   ...    ...\n",
              "3264   JHMM           de Leaniz, PMG; Rodriguez, IRD  ...   0.0    0.0\n",
              "3265   JHMM  Prayag, G; Khoo-Lattimore, C; Sitruk, J  ...   0.0    0.0\n",
              "3266   JHMM                               Morosan, C  ...   0.0    0.0\n",
              "3267   JHMM                 Memarzadeh, F; Chang, HJ  ...   NaN    NaN\n",
              "3268   JHMM                           Cao, Y; Kim, K  ...   0.0    0.0\n",
              "\n",
              "[3269 rows x 32 columns]"
            ]
          },
          "metadata": {
            "tags": []
          },
          "execution_count": 8
        }
      ]
    },
    {
      "cell_type": "code",
      "metadata": {
        "id": "ginSQBRq9epM"
      },
      "source": [
        "with open(\"/content/drive/MyDrive/Colab Notebooks/TopicModeling/Methodology/df_all_final.pkl\", \"rb\") as fh:\n",
        "  df = pickle.load(fh)"
      ],
      "execution_count": null,
      "outputs": []
    },
    {
      "cell_type": "code",
      "metadata": {
        "colab": {
          "base_uri": "https://localhost:8080/",
          "height": 602
        },
        "id": "HI4Q2gb79taN",
        "outputId": "59374134-f740-4ac8-9335-3e8418153fa2"
      },
      "source": [
        "df"
      ],
      "execution_count": null,
      "outputs": [
        {
          "output_type": "execute_result",
          "data": {
            "text/html": [
              "<div>\n",
              "<style scoped>\n",
              "    .dataframe tbody tr th:only-of-type {\n",
              "        vertical-align: middle;\n",
              "    }\n",
              "\n",
              "    .dataframe tbody tr th {\n",
              "        vertical-align: top;\n",
              "    }\n",
              "\n",
              "    .dataframe thead th {\n",
              "        text-align: right;\n",
              "    }\n",
              "</style>\n",
              "<table border=\"1\" class=\"dataframe\">\n",
              "  <thead>\n",
              "    <tr style=\"text-align: right;\">\n",
              "      <th></th>\n",
              "      <th>JO</th>\n",
              "      <th>AU</th>\n",
              "      <th>TI</th>\n",
              "      <th>PY</th>\n",
              "      <th>DI</th>\n",
              "      <th>urls</th>\n",
              "      <th>filename</th>\n",
              "      <th>methodology</th>\n",
              "    </tr>\n",
              "  </thead>\n",
              "  <tbody>\n",
              "    <tr>\n",
              "      <th>0</th>\n",
              "      <td>IJCHM</td>\n",
              "      <td>Ineson, EM; Comic, D; Kalmic, L</td>\n",
              "      <td>Towards a hierarchy of hotel guests' in-room n...</td>\n",
              "      <td>2019.0</td>\n",
              "      <td>10.1108/IJCHM-01-2019-0061</td>\n",
              "      <td>https://www.emerald.com/insight/content/doi/10...</td>\n",
              "      <td>IJCHM_0.txt</td>\n",
              "      <td>Methodology\\nThe design is qualitative and exp...</td>\n",
              "    </tr>\n",
              "    <tr>\n",
              "      <th>1</th>\n",
              "      <td>IJCHM</td>\n",
              "      <td>Benitez-Aurioles, B</td>\n",
              "      <td>Barcelona's peer-to-peer tourist accommodation...</td>\n",
              "      <td>2019.0</td>\n",
              "      <td>10.1108/IJCHM-01-2019-0090</td>\n",
              "      <td>https://www.emerald.com/insight/content/doi/10...</td>\n",
              "      <td>IJCHM_1.txt</td>\n",
              "      <td>Data\\nThere are no official statistics on the ...</td>\n",
              "    </tr>\n",
              "    <tr>\n",
              "      <th>2</th>\n",
              "      <td>IJCHM</td>\n",
              "      <td>Hu, XB; Yang, Y; Park, S</td>\n",
              "      <td>A meta-regression on the effect of online rati...</td>\n",
              "      <td>2019.0</td>\n",
              "      <td>10.1108/IJCHM-10-2018-0835</td>\n",
              "      <td>https://www.emerald.com/insight/content/doi/10...</td>\n",
              "      <td>IJCHM_2.txt</td>\n",
              "      <td>3. Research method\\nWe searched the empirical ...</td>\n",
              "    </tr>\n",
              "    <tr>\n",
              "      <th>3</th>\n",
              "      <td>IJCHM</td>\n",
              "      <td>Ahmat, NHC; Arendt, SW; Russell, DW</td>\n",
              "      <td>Examining work factors after Malaysia's minimu...</td>\n",
              "      <td>2019.0</td>\n",
              "      <td>10.1108/IJCHM-10-2018-0827</td>\n",
              "      <td>https://www.emerald.com/insight/content/doi/10...</td>\n",
              "      <td>IJCHM_3.txt</td>\n",
              "      <td>Methods\\nParticipants\\nEmployees from operatio...</td>\n",
              "    </tr>\n",
              "    <tr>\n",
              "      <th>4</th>\n",
              "      <td>IJCHM</td>\n",
              "      <td>Kim, EL; Tanford, S</td>\n",
              "      <td>Seeking reward or avoiding risk from restauran...</td>\n",
              "      <td>2019.0</td>\n",
              "      <td>10.1108/IJCHM-03-2018-0235</td>\n",
              "      <td>https://www.emerald.com/insight/content/doi/10...</td>\n",
              "      <td>IJCHM_4.txt</td>\n",
              "      <td>Method\\nDesign\\nParticipants made dining decis...</td>\n",
              "    </tr>\n",
              "    <tr>\n",
              "      <th>...</th>\n",
              "      <td>...</td>\n",
              "      <td>...</td>\n",
              "      <td>...</td>\n",
              "      <td>...</td>\n",
              "      <td>...</td>\n",
              "      <td>...</td>\n",
              "      <td>...</td>\n",
              "      <td>...</td>\n",
              "    </tr>\n",
              "    <tr>\n",
              "      <th>3264</th>\n",
              "      <td>JHTR</td>\n",
              "      <td>Kim, W; Ok, C</td>\n",
              "      <td>CUSTOMER ORIENTATION OF SERVICE EMPLOYEES AND ...</td>\n",
              "      <td>2010.0</td>\n",
              "      <td>10.1177/1096348009344234</td>\n",
              "      <td>NaN</td>\n",
              "      <td>NaN</td>\n",
              "      <td>\\nMETHOD\\nMeasures\\nSignificant discrepant res...</td>\n",
              "    </tr>\n",
              "    <tr>\n",
              "      <th>3265</th>\n",
              "      <td>JHTR</td>\n",
              "      <td>Gazzoli, G; Hancer, M; Park, Y</td>\n",
              "      <td>THE ROLE AND EFFECT OF JOB SATISFACTION AND EM...</td>\n",
              "      <td>2010.0</td>\n",
              "      <td>10.1177/1096348009344235</td>\n",
              "      <td>NaN</td>\n",
              "      <td>NaN</td>\n",
              "      <td>\\nMETHOD\\nSample and Data Collection\\nBecause ...</td>\n",
              "    </tr>\n",
              "    <tr>\n",
              "      <th>3266</th>\n",
              "      <td>JHTR</td>\n",
              "      <td>Young, CA; Corsun, DL</td>\n",
              "      <td>BURNED! THE IMPACT OF WORK ASPECTS, INJURY, AN...</td>\n",
              "      <td>2010.0</td>\n",
              "      <td>10.1177/1096348009349816</td>\n",
              "      <td>NaN</td>\n",
              "      <td>NaN</td>\n",
              "      <td>\\nMETHOD\\nData Collection\\nManagement from 13 ...</td>\n",
              "    </tr>\n",
              "    <tr>\n",
              "      <th>3267</th>\n",
              "      <td>JHTR</td>\n",
              "      <td>Kim, DY; Wen, L; Doh, K</td>\n",
              "      <td>DOES CULTURAL DIFFERENCE AFFECT CUSTOMER'S RES...</td>\n",
              "      <td>2010.0</td>\n",
              "      <td>10.1177/1096348009349817</td>\n",
              "      <td>NaN</td>\n",
              "      <td>NaN</td>\n",
              "      <td>\\nMETHOD\\nSample\\nAn experimental design was e...</td>\n",
              "    </tr>\n",
              "    <tr>\n",
              "      <th>3268</th>\n",
              "      <td>JHTR</td>\n",
              "      <td>Pike, S</td>\n",
              "      <td>DESTINATION BRANDING CASE STUDY: TRACKING BRAN...</td>\n",
              "      <td>2010.0</td>\n",
              "      <td>10.1177/1096348009349820</td>\n",
              "      <td>NaN</td>\n",
              "      <td>NaN</td>\n",
              "      <td>\\nMETHOD\\nThe 2003 longitudinal study took pla...</td>\n",
              "    </tr>\n",
              "  </tbody>\n",
              "</table>\n",
              "<p>3269 rows × 8 columns</p>\n",
              "</div>"
            ],
            "text/plain": [
              "         JO  ...                                        methodology\n",
              "0     IJCHM  ...  Methodology\\nThe design is qualitative and exp...\n",
              "1     IJCHM  ...  Data\\nThere are no official statistics on the ...\n",
              "2     IJCHM  ...  3. Research method\\nWe searched the empirical ...\n",
              "3     IJCHM  ...  Methods\\nParticipants\\nEmployees from operatio...\n",
              "4     IJCHM  ...  Method\\nDesign\\nParticipants made dining decis...\n",
              "...     ...  ...                                                ...\n",
              "3264   JHTR  ...  \\nMETHOD\\nMeasures\\nSignificant discrepant res...\n",
              "3265   JHTR  ...  \\nMETHOD\\nSample and Data Collection\\nBecause ...\n",
              "3266   JHTR  ...  \\nMETHOD\\nData Collection\\nManagement from 13 ...\n",
              "3267   JHTR  ...  \\nMETHOD\\nSample\\nAn experimental design was e...\n",
              "3268   JHTR  ...  \\nMETHOD\\nThe 2003 longitudinal study took pla...\n",
              "\n",
              "[3269 rows x 8 columns]"
            ]
          },
          "metadata": {
            "tags": []
          },
          "execution_count": 10
        }
      ]
    },
    {
      "cell_type": "code",
      "metadata": {
        "id": "nEgKSjdKG8i-"
      },
      "source": [
        "df.dropna(subset=[\"methodology\"], inplace=True)"
      ],
      "execution_count": null,
      "outputs": []
    },
    {
      "cell_type": "code",
      "metadata": {
        "colab": {
          "base_uri": "https://localhost:8080/",
          "height": 602
        },
        "id": "kh-AExFSHm16",
        "outputId": "fa377e5f-973b-4181-95b4-3376732c91ea"
      },
      "source": [
        "df"
      ],
      "execution_count": null,
      "outputs": [
        {
          "output_type": "execute_result",
          "data": {
            "text/html": [
              "<div>\n",
              "<style scoped>\n",
              "    .dataframe tbody tr th:only-of-type {\n",
              "        vertical-align: middle;\n",
              "    }\n",
              "\n",
              "    .dataframe tbody tr th {\n",
              "        vertical-align: top;\n",
              "    }\n",
              "\n",
              "    .dataframe thead th {\n",
              "        text-align: right;\n",
              "    }\n",
              "</style>\n",
              "<table border=\"1\" class=\"dataframe\">\n",
              "  <thead>\n",
              "    <tr style=\"text-align: right;\">\n",
              "      <th></th>\n",
              "      <th>JO</th>\n",
              "      <th>AU</th>\n",
              "      <th>TI</th>\n",
              "      <th>PY</th>\n",
              "      <th>DI</th>\n",
              "      <th>urls</th>\n",
              "      <th>filename</th>\n",
              "      <th>methodology</th>\n",
              "    </tr>\n",
              "  </thead>\n",
              "  <tbody>\n",
              "    <tr>\n",
              "      <th>0</th>\n",
              "      <td>IJCHM</td>\n",
              "      <td>Ineson, EM; Comic, D; Kalmic, L</td>\n",
              "      <td>Towards a hierarchy of hotel guests' in-room n...</td>\n",
              "      <td>2019.0</td>\n",
              "      <td>10.1108/IJCHM-01-2019-0061</td>\n",
              "      <td>https://www.emerald.com/insight/content/doi/10...</td>\n",
              "      <td>IJCHM_0.txt</td>\n",
              "      <td>Methodology\\nThe design is qualitative and exp...</td>\n",
              "    </tr>\n",
              "    <tr>\n",
              "      <th>1</th>\n",
              "      <td>IJCHM</td>\n",
              "      <td>Benitez-Aurioles, B</td>\n",
              "      <td>Barcelona's peer-to-peer tourist accommodation...</td>\n",
              "      <td>2019.0</td>\n",
              "      <td>10.1108/IJCHM-01-2019-0090</td>\n",
              "      <td>https://www.emerald.com/insight/content/doi/10...</td>\n",
              "      <td>IJCHM_1.txt</td>\n",
              "      <td>Data\\nThere are no official statistics on the ...</td>\n",
              "    </tr>\n",
              "    <tr>\n",
              "      <th>2</th>\n",
              "      <td>IJCHM</td>\n",
              "      <td>Hu, XB; Yang, Y; Park, S</td>\n",
              "      <td>A meta-regression on the effect of online rati...</td>\n",
              "      <td>2019.0</td>\n",
              "      <td>10.1108/IJCHM-10-2018-0835</td>\n",
              "      <td>https://www.emerald.com/insight/content/doi/10...</td>\n",
              "      <td>IJCHM_2.txt</td>\n",
              "      <td>3. Research method\\nWe searched the empirical ...</td>\n",
              "    </tr>\n",
              "    <tr>\n",
              "      <th>3</th>\n",
              "      <td>IJCHM</td>\n",
              "      <td>Ahmat, NHC; Arendt, SW; Russell, DW</td>\n",
              "      <td>Examining work factors after Malaysia's minimu...</td>\n",
              "      <td>2019.0</td>\n",
              "      <td>10.1108/IJCHM-10-2018-0827</td>\n",
              "      <td>https://www.emerald.com/insight/content/doi/10...</td>\n",
              "      <td>IJCHM_3.txt</td>\n",
              "      <td>Methods\\nParticipants\\nEmployees from operatio...</td>\n",
              "    </tr>\n",
              "    <tr>\n",
              "      <th>4</th>\n",
              "      <td>IJCHM</td>\n",
              "      <td>Kim, EL; Tanford, S</td>\n",
              "      <td>Seeking reward or avoiding risk from restauran...</td>\n",
              "      <td>2019.0</td>\n",
              "      <td>10.1108/IJCHM-03-2018-0235</td>\n",
              "      <td>https://www.emerald.com/insight/content/doi/10...</td>\n",
              "      <td>IJCHM_4.txt</td>\n",
              "      <td>Method\\nDesign\\nParticipants made dining decis...</td>\n",
              "    </tr>\n",
              "    <tr>\n",
              "      <th>...</th>\n",
              "      <td>...</td>\n",
              "      <td>...</td>\n",
              "      <td>...</td>\n",
              "      <td>...</td>\n",
              "      <td>...</td>\n",
              "      <td>...</td>\n",
              "      <td>...</td>\n",
              "      <td>...</td>\n",
              "    </tr>\n",
              "    <tr>\n",
              "      <th>3264</th>\n",
              "      <td>JHTR</td>\n",
              "      <td>Kim, W; Ok, C</td>\n",
              "      <td>CUSTOMER ORIENTATION OF SERVICE EMPLOYEES AND ...</td>\n",
              "      <td>2010.0</td>\n",
              "      <td>10.1177/1096348009344234</td>\n",
              "      <td>NaN</td>\n",
              "      <td>NaN</td>\n",
              "      <td>\\nMETHOD\\nMeasures\\nSignificant discrepant res...</td>\n",
              "    </tr>\n",
              "    <tr>\n",
              "      <th>3265</th>\n",
              "      <td>JHTR</td>\n",
              "      <td>Gazzoli, G; Hancer, M; Park, Y</td>\n",
              "      <td>THE ROLE AND EFFECT OF JOB SATISFACTION AND EM...</td>\n",
              "      <td>2010.0</td>\n",
              "      <td>10.1177/1096348009344235</td>\n",
              "      <td>NaN</td>\n",
              "      <td>NaN</td>\n",
              "      <td>\\nMETHOD\\nSample and Data Collection\\nBecause ...</td>\n",
              "    </tr>\n",
              "    <tr>\n",
              "      <th>3266</th>\n",
              "      <td>JHTR</td>\n",
              "      <td>Young, CA; Corsun, DL</td>\n",
              "      <td>BURNED! THE IMPACT OF WORK ASPECTS, INJURY, AN...</td>\n",
              "      <td>2010.0</td>\n",
              "      <td>10.1177/1096348009349816</td>\n",
              "      <td>NaN</td>\n",
              "      <td>NaN</td>\n",
              "      <td>\\nMETHOD\\nData Collection\\nManagement from 13 ...</td>\n",
              "    </tr>\n",
              "    <tr>\n",
              "      <th>3267</th>\n",
              "      <td>JHTR</td>\n",
              "      <td>Kim, DY; Wen, L; Doh, K</td>\n",
              "      <td>DOES CULTURAL DIFFERENCE AFFECT CUSTOMER'S RES...</td>\n",
              "      <td>2010.0</td>\n",
              "      <td>10.1177/1096348009349817</td>\n",
              "      <td>NaN</td>\n",
              "      <td>NaN</td>\n",
              "      <td>\\nMETHOD\\nSample\\nAn experimental design was e...</td>\n",
              "    </tr>\n",
              "    <tr>\n",
              "      <th>3268</th>\n",
              "      <td>JHTR</td>\n",
              "      <td>Pike, S</td>\n",
              "      <td>DESTINATION BRANDING CASE STUDY: TRACKING BRAN...</td>\n",
              "      <td>2010.0</td>\n",
              "      <td>10.1177/1096348009349820</td>\n",
              "      <td>NaN</td>\n",
              "      <td>NaN</td>\n",
              "      <td>\\nMETHOD\\nThe 2003 longitudinal study took pla...</td>\n",
              "    </tr>\n",
              "  </tbody>\n",
              "</table>\n",
              "<p>3076 rows × 8 columns</p>\n",
              "</div>"
            ],
            "text/plain": [
              "         JO  ...                                        methodology\n",
              "0     IJCHM  ...  Methodology\\nThe design is qualitative and exp...\n",
              "1     IJCHM  ...  Data\\nThere are no official statistics on the ...\n",
              "2     IJCHM  ...  3. Research method\\nWe searched the empirical ...\n",
              "3     IJCHM  ...  Methods\\nParticipants\\nEmployees from operatio...\n",
              "4     IJCHM  ...  Method\\nDesign\\nParticipants made dining decis...\n",
              "...     ...  ...                                                ...\n",
              "3264   JHTR  ...  \\nMETHOD\\nMeasures\\nSignificant discrepant res...\n",
              "3265   JHTR  ...  \\nMETHOD\\nSample and Data Collection\\nBecause ...\n",
              "3266   JHTR  ...  \\nMETHOD\\nData Collection\\nManagement from 13 ...\n",
              "3267   JHTR  ...  \\nMETHOD\\nSample\\nAn experimental design was e...\n",
              "3268   JHTR  ...  \\nMETHOD\\nThe 2003 longitudinal study took pla...\n",
              "\n",
              "[3076 rows x 8 columns]"
            ]
          },
          "metadata": {
            "tags": []
          },
          "execution_count": 12
        }
      ]
    },
    {
      "cell_type": "code",
      "metadata": {
        "id": "ulJaluBFQ7Og"
      },
      "source": [
        "df.reset_index(drop=True, inplace=True)"
      ],
      "execution_count": null,
      "outputs": []
    },
    {
      "cell_type": "code",
      "metadata": {
        "id": "560b49h-TaAl"
      },
      "source": [
        "df[\"PY\"].fillna(2010, inplace=True)"
      ],
      "execution_count": null,
      "outputs": []
    },
    {
      "cell_type": "code",
      "metadata": {
        "id": "adX2VjXTTS1P"
      },
      "source": [
        "df[\"PY\"] = df.PY.astype(\"int\")"
      ],
      "execution_count": null,
      "outputs": []
    },
    {
      "cell_type": "code",
      "metadata": {
        "colab": {
          "base_uri": "https://localhost:8080/"
        },
        "id": "SmAzzm0tTNR5",
        "outputId": "e15f67ff-6975-4218-eb67-ddc6b2f0c50f"
      },
      "source": [
        "df.isnull().sum()"
      ],
      "execution_count": null,
      "outputs": [
        {
          "output_type": "execute_result",
          "data": {
            "text/plain": [
              "JO              0\n",
              "AU              0\n",
              "TI              0\n",
              "PY              0\n",
              "DI              1\n",
              "urls           83\n",
              "filename       84\n",
              "methodology     0\n",
              "dtype: int64"
            ]
          },
          "metadata": {
            "tags": []
          },
          "execution_count": 16
        }
      ]
    },
    {
      "cell_type": "code",
      "metadata": {
        "colab": {
          "base_uri": "https://localhost:8080/",
          "height": 602
        },
        "id": "PcV95NYtYYgb",
        "outputId": "8717109b-491f-468b-f4df-c2f2b4a502a3"
      },
      "source": [
        "df.drop_duplicates(subset=\"TI\")"
      ],
      "execution_count": null,
      "outputs": [
        {
          "output_type": "execute_result",
          "data": {
            "text/html": [
              "<div>\n",
              "<style scoped>\n",
              "    .dataframe tbody tr th:only-of-type {\n",
              "        vertical-align: middle;\n",
              "    }\n",
              "\n",
              "    .dataframe tbody tr th {\n",
              "        vertical-align: top;\n",
              "    }\n",
              "\n",
              "    .dataframe thead th {\n",
              "        text-align: right;\n",
              "    }\n",
              "</style>\n",
              "<table border=\"1\" class=\"dataframe\">\n",
              "  <thead>\n",
              "    <tr style=\"text-align: right;\">\n",
              "      <th></th>\n",
              "      <th>JO</th>\n",
              "      <th>AU</th>\n",
              "      <th>TI</th>\n",
              "      <th>PY</th>\n",
              "      <th>DI</th>\n",
              "      <th>urls</th>\n",
              "      <th>filename</th>\n",
              "      <th>methodology</th>\n",
              "    </tr>\n",
              "  </thead>\n",
              "  <tbody>\n",
              "    <tr>\n",
              "      <th>0</th>\n",
              "      <td>IJCHM</td>\n",
              "      <td>Ineson, EM; Comic, D; Kalmic, L</td>\n",
              "      <td>Towards a hierarchy of hotel guests' in-room n...</td>\n",
              "      <td>2019</td>\n",
              "      <td>10.1108/IJCHM-01-2019-0061</td>\n",
              "      <td>https://www.emerald.com/insight/content/doi/10...</td>\n",
              "      <td>IJCHM_0.txt</td>\n",
              "      <td>Methodology\\nThe design is qualitative and exp...</td>\n",
              "    </tr>\n",
              "    <tr>\n",
              "      <th>1</th>\n",
              "      <td>IJCHM</td>\n",
              "      <td>Benitez-Aurioles, B</td>\n",
              "      <td>Barcelona's peer-to-peer tourist accommodation...</td>\n",
              "      <td>2019</td>\n",
              "      <td>10.1108/IJCHM-01-2019-0090</td>\n",
              "      <td>https://www.emerald.com/insight/content/doi/10...</td>\n",
              "      <td>IJCHM_1.txt</td>\n",
              "      <td>Data\\nThere are no official statistics on the ...</td>\n",
              "    </tr>\n",
              "    <tr>\n",
              "      <th>2</th>\n",
              "      <td>IJCHM</td>\n",
              "      <td>Hu, XB; Yang, Y; Park, S</td>\n",
              "      <td>A meta-regression on the effect of online rati...</td>\n",
              "      <td>2019</td>\n",
              "      <td>10.1108/IJCHM-10-2018-0835</td>\n",
              "      <td>https://www.emerald.com/insight/content/doi/10...</td>\n",
              "      <td>IJCHM_2.txt</td>\n",
              "      <td>3. Research method\\nWe searched the empirical ...</td>\n",
              "    </tr>\n",
              "    <tr>\n",
              "      <th>3</th>\n",
              "      <td>IJCHM</td>\n",
              "      <td>Ahmat, NHC; Arendt, SW; Russell, DW</td>\n",
              "      <td>Examining work factors after Malaysia's minimu...</td>\n",
              "      <td>2019</td>\n",
              "      <td>10.1108/IJCHM-10-2018-0827</td>\n",
              "      <td>https://www.emerald.com/insight/content/doi/10...</td>\n",
              "      <td>IJCHM_3.txt</td>\n",
              "      <td>Methods\\nParticipants\\nEmployees from operatio...</td>\n",
              "    </tr>\n",
              "    <tr>\n",
              "      <th>4</th>\n",
              "      <td>IJCHM</td>\n",
              "      <td>Kim, EL; Tanford, S</td>\n",
              "      <td>Seeking reward or avoiding risk from restauran...</td>\n",
              "      <td>2019</td>\n",
              "      <td>10.1108/IJCHM-03-2018-0235</td>\n",
              "      <td>https://www.emerald.com/insight/content/doi/10...</td>\n",
              "      <td>IJCHM_4.txt</td>\n",
              "      <td>Method\\nDesign\\nParticipants made dining decis...</td>\n",
              "    </tr>\n",
              "    <tr>\n",
              "      <th>...</th>\n",
              "      <td>...</td>\n",
              "      <td>...</td>\n",
              "      <td>...</td>\n",
              "      <td>...</td>\n",
              "      <td>...</td>\n",
              "      <td>...</td>\n",
              "      <td>...</td>\n",
              "      <td>...</td>\n",
              "    </tr>\n",
              "    <tr>\n",
              "      <th>3071</th>\n",
              "      <td>JHTR</td>\n",
              "      <td>Kim, W; Ok, C</td>\n",
              "      <td>CUSTOMER ORIENTATION OF SERVICE EMPLOYEES AND ...</td>\n",
              "      <td>2010</td>\n",
              "      <td>10.1177/1096348009344234</td>\n",
              "      <td>NaN</td>\n",
              "      <td>NaN</td>\n",
              "      <td>\\nMETHOD\\nMeasures\\nSignificant discrepant res...</td>\n",
              "    </tr>\n",
              "    <tr>\n",
              "      <th>3072</th>\n",
              "      <td>JHTR</td>\n",
              "      <td>Gazzoli, G; Hancer, M; Park, Y</td>\n",
              "      <td>THE ROLE AND EFFECT OF JOB SATISFACTION AND EM...</td>\n",
              "      <td>2010</td>\n",
              "      <td>10.1177/1096348009344235</td>\n",
              "      <td>NaN</td>\n",
              "      <td>NaN</td>\n",
              "      <td>\\nMETHOD\\nSample and Data Collection\\nBecause ...</td>\n",
              "    </tr>\n",
              "    <tr>\n",
              "      <th>3073</th>\n",
              "      <td>JHTR</td>\n",
              "      <td>Young, CA; Corsun, DL</td>\n",
              "      <td>BURNED! THE IMPACT OF WORK ASPECTS, INJURY, AN...</td>\n",
              "      <td>2010</td>\n",
              "      <td>10.1177/1096348009349816</td>\n",
              "      <td>NaN</td>\n",
              "      <td>NaN</td>\n",
              "      <td>\\nMETHOD\\nData Collection\\nManagement from 13 ...</td>\n",
              "    </tr>\n",
              "    <tr>\n",
              "      <th>3074</th>\n",
              "      <td>JHTR</td>\n",
              "      <td>Kim, DY; Wen, L; Doh, K</td>\n",
              "      <td>DOES CULTURAL DIFFERENCE AFFECT CUSTOMER'S RES...</td>\n",
              "      <td>2010</td>\n",
              "      <td>10.1177/1096348009349817</td>\n",
              "      <td>NaN</td>\n",
              "      <td>NaN</td>\n",
              "      <td>\\nMETHOD\\nSample\\nAn experimental design was e...</td>\n",
              "    </tr>\n",
              "    <tr>\n",
              "      <th>3075</th>\n",
              "      <td>JHTR</td>\n",
              "      <td>Pike, S</td>\n",
              "      <td>DESTINATION BRANDING CASE STUDY: TRACKING BRAN...</td>\n",
              "      <td>2010</td>\n",
              "      <td>10.1177/1096348009349820</td>\n",
              "      <td>NaN</td>\n",
              "      <td>NaN</td>\n",
              "      <td>\\nMETHOD\\nThe 2003 longitudinal study took pla...</td>\n",
              "    </tr>\n",
              "  </tbody>\n",
              "</table>\n",
              "<p>3076 rows × 8 columns</p>\n",
              "</div>"
            ],
            "text/plain": [
              "         JO  ...                                        methodology\n",
              "0     IJCHM  ...  Methodology\\nThe design is qualitative and exp...\n",
              "1     IJCHM  ...  Data\\nThere are no official statistics on the ...\n",
              "2     IJCHM  ...  3. Research method\\nWe searched the empirical ...\n",
              "3     IJCHM  ...  Methods\\nParticipants\\nEmployees from operatio...\n",
              "4     IJCHM  ...  Method\\nDesign\\nParticipants made dining decis...\n",
              "...     ...  ...                                                ...\n",
              "3071   JHTR  ...  \\nMETHOD\\nMeasures\\nSignificant discrepant res...\n",
              "3072   JHTR  ...  \\nMETHOD\\nSample and Data Collection\\nBecause ...\n",
              "3073   JHTR  ...  \\nMETHOD\\nData Collection\\nManagement from 13 ...\n",
              "3074   JHTR  ...  \\nMETHOD\\nSample\\nAn experimental design was e...\n",
              "3075   JHTR  ...  \\nMETHOD\\nThe 2003 longitudinal study took pla...\n",
              "\n",
              "[3076 rows x 8 columns]"
            ]
          },
          "metadata": {
            "tags": []
          },
          "execution_count": 17
        }
      ]
    },
    {
      "cell_type": "code",
      "metadata": {
        "colab": {
          "base_uri": "https://localhost:8080/",
          "height": 941
        },
        "id": "AARpH_MtSadM",
        "outputId": "a3433156-4cf7-49a6-ee51-9f0eff733789"
      },
      "source": [
        "df_merged = pd.merge(df_method[[\"TI\", \"QUANTITATIVE\", \"Method\"]], df, left_on=\"TI\", right_on=\"TI\")\n",
        "df_merged"
      ],
      "execution_count": null,
      "outputs": [
        {
          "output_type": "execute_result",
          "data": {
            "text/html": [
              "<div>\n",
              "<style scoped>\n",
              "    .dataframe tbody tr th:only-of-type {\n",
              "        vertical-align: middle;\n",
              "    }\n",
              "\n",
              "    .dataframe tbody tr th {\n",
              "        vertical-align: top;\n",
              "    }\n",
              "\n",
              "    .dataframe thead th {\n",
              "        text-align: right;\n",
              "    }\n",
              "</style>\n",
              "<table border=\"1\" class=\"dataframe\">\n",
              "  <thead>\n",
              "    <tr style=\"text-align: right;\">\n",
              "      <th></th>\n",
              "      <th>TI</th>\n",
              "      <th>QUANTITATIVE</th>\n",
              "      <th>Method</th>\n",
              "      <th>JO</th>\n",
              "      <th>AU</th>\n",
              "      <th>PY</th>\n",
              "      <th>DI</th>\n",
              "      <th>urls</th>\n",
              "      <th>filename</th>\n",
              "      <th>methodology</th>\n",
              "    </tr>\n",
              "  </thead>\n",
              "  <tbody>\n",
              "    <tr>\n",
              "      <th>0</th>\n",
              "      <td>Towards a hierarchy of hotel guests' in-room n...</td>\n",
              "      <td>0</td>\n",
              "      <td>phenomenology</td>\n",
              "      <td>IJCHM</td>\n",
              "      <td>Ineson, EM; Comic, D; Kalmic, L</td>\n",
              "      <td>2019</td>\n",
              "      <td>10.1108/IJCHM-01-2019-0061</td>\n",
              "      <td>https://www.emerald.com/insight/content/doi/10...</td>\n",
              "      <td>IJCHM_0.txt</td>\n",
              "      <td>Methodology\\nThe design is qualitative and exp...</td>\n",
              "    </tr>\n",
              "    <tr>\n",
              "      <th>1</th>\n",
              "      <td>Barcelona's peer-to-peer tourist accommodation...</td>\n",
              "      <td>1</td>\n",
              "      <td>secondary data</td>\n",
              "      <td>IJCHM</td>\n",
              "      <td>Benitez-Aurioles, B</td>\n",
              "      <td>2019</td>\n",
              "      <td>10.1108/IJCHM-01-2019-0090</td>\n",
              "      <td>https://www.emerald.com/insight/content/doi/10...</td>\n",
              "      <td>IJCHM_1.txt</td>\n",
              "      <td>Data\\nThere are no official statistics on the ...</td>\n",
              "    </tr>\n",
              "    <tr>\n",
              "      <th>2</th>\n",
              "      <td>A meta-regression on the effect of online rati...</td>\n",
              "      <td>0</td>\n",
              "      <td>review</td>\n",
              "      <td>IJCHM</td>\n",
              "      <td>Hu, XB; Yang, Y; Park, S</td>\n",
              "      <td>2019</td>\n",
              "      <td>10.1108/IJCHM-10-2018-0835</td>\n",
              "      <td>https://www.emerald.com/insight/content/doi/10...</td>\n",
              "      <td>IJCHM_2.txt</td>\n",
              "      <td>3. Research method\\nWe searched the empirical ...</td>\n",
              "    </tr>\n",
              "    <tr>\n",
              "      <th>3</th>\n",
              "      <td>Examining work factors after Malaysia's minimu...</td>\n",
              "      <td>1</td>\n",
              "      <td>survey</td>\n",
              "      <td>IJCHM</td>\n",
              "      <td>Ahmat, NHC; Arendt, SW; Russell, DW</td>\n",
              "      <td>2019</td>\n",
              "      <td>10.1108/IJCHM-10-2018-0827</td>\n",
              "      <td>https://www.emerald.com/insight/content/doi/10...</td>\n",
              "      <td>IJCHM_3.txt</td>\n",
              "      <td>Methods\\nParticipants\\nEmployees from operatio...</td>\n",
              "    </tr>\n",
              "    <tr>\n",
              "      <th>4</th>\n",
              "      <td>Seeking reward or avoiding risk from restauran...</td>\n",
              "      <td>1</td>\n",
              "      <td>experimental</td>\n",
              "      <td>IJCHM</td>\n",
              "      <td>Kim, EL; Tanford, S</td>\n",
              "      <td>2019</td>\n",
              "      <td>10.1108/IJCHM-03-2018-0235</td>\n",
              "      <td>https://www.emerald.com/insight/content/doi/10...</td>\n",
              "      <td>IJCHM_4.txt</td>\n",
              "      <td>Method\\nDesign\\nParticipants made dining decis...</td>\n",
              "    </tr>\n",
              "    <tr>\n",
              "      <th>...</th>\n",
              "      <td>...</td>\n",
              "      <td>...</td>\n",
              "      <td>...</td>\n",
              "      <td>...</td>\n",
              "      <td>...</td>\n",
              "      <td>...</td>\n",
              "      <td>...</td>\n",
              "      <td>...</td>\n",
              "      <td>...</td>\n",
              "      <td>...</td>\n",
              "    </tr>\n",
              "    <tr>\n",
              "      <th>3071</th>\n",
              "      <td>Attitudes, Perceptions, and Responses of Purch...</td>\n",
              "      <td>1</td>\n",
              "      <td>survey</td>\n",
              "      <td>JHMM</td>\n",
              "      <td>Ong, BS</td>\n",
              "      <td>2015</td>\n",
              "      <td>10.1080/19368623.2014.901201</td>\n",
              "      <td>https://www.tandfonline.com/doi/full/10.1080/1...</td>\n",
              "      <td>JHMM_223.txt</td>\n",
              "      <td>\\nMETHODOLOGY\\nGiven that daily deals are Inte...</td>\n",
              "    </tr>\n",
              "    <tr>\n",
              "      <th>3072</th>\n",
              "      <td>Exploring the Antecedents of Hotel Customer Lo...</td>\n",
              "      <td>1</td>\n",
              "      <td>survey</td>\n",
              "      <td>JHMM</td>\n",
              "      <td>de Leaniz, PMG; Rodriguez, IRD</td>\n",
              "      <td>2015</td>\n",
              "      <td>10.1080/19368623.2014.891961</td>\n",
              "      <td>https://www.tandfonline.com/doi/full/10.1080/1...</td>\n",
              "      <td>JHMM_224.txt</td>\n",
              "      <td>\\nMETHOD OF ANALYSIS\\nData Collection and Samp...</td>\n",
              "    </tr>\n",
              "    <tr>\n",
              "      <th>3073</th>\n",
              "      <td>Casual Dining on the French Riviera: Examining...</td>\n",
              "      <td>1</td>\n",
              "      <td>survey</td>\n",
              "      <td>JHMM</td>\n",
              "      <td>Prayag, G; Khoo-Lattimore, C; Sitruk, J</td>\n",
              "      <td>2015</td>\n",
              "      <td>10.1080/19368623.2014.859114</td>\n",
              "      <td>https://www.tandfonline.com/doi/full/10.1080/1...</td>\n",
              "      <td>JHMM_225.txt</td>\n",
              "      <td>\\nMETHODOLOGY\\nThe Study Site\\nThe French Rivi...</td>\n",
              "    </tr>\n",
              "    <tr>\n",
              "      <th>3074</th>\n",
              "      <td>The Influence of DMO Advertising on Specific D...</td>\n",
              "      <td>1</td>\n",
              "      <td>survey</td>\n",
              "      <td>JHMM</td>\n",
              "      <td>Morosan, C</td>\n",
              "      <td>2015</td>\n",
              "      <td>10.1080/19368623.2014.891962</td>\n",
              "      <td>https://www.tandfonline.com/doi/full/10.1080/1...</td>\n",
              "      <td>JHMM_226.txt</td>\n",
              "      <td>\\nMETHODOLOGY\\nInstrument Development\\nThe res...</td>\n",
              "    </tr>\n",
              "    <tr>\n",
              "      <th>3075</th>\n",
              "      <td>How Do Customers Perceive Service Quality in D...</td>\n",
              "      <td>1</td>\n",
              "      <td>survey</td>\n",
              "      <td>JHMM</td>\n",
              "      <td>Cao, Y; Kim, K</td>\n",
              "      <td>2015</td>\n",
              "      <td>10.1080/19368623.2014.903817</td>\n",
              "      <td>https://www.tandfonline.com/doi/full/10.1080/1...</td>\n",
              "      <td>JHMM_228.txt</td>\n",
              "      <td>\\nMETHOD\\nInstrument Development\\nThe survey q...</td>\n",
              "    </tr>\n",
              "  </tbody>\n",
              "</table>\n",
              "<p>3076 rows × 10 columns</p>\n",
              "</div>"
            ],
            "text/plain": [
              "                                                     TI  ...                                        methodology\n",
              "0     Towards a hierarchy of hotel guests' in-room n...  ...  Methodology\\nThe design is qualitative and exp...\n",
              "1     Barcelona's peer-to-peer tourist accommodation...  ...  Data\\nThere are no official statistics on the ...\n",
              "2     A meta-regression on the effect of online rati...  ...  3. Research method\\nWe searched the empirical ...\n",
              "3     Examining work factors after Malaysia's minimu...  ...  Methods\\nParticipants\\nEmployees from operatio...\n",
              "4     Seeking reward or avoiding risk from restauran...  ...  Method\\nDesign\\nParticipants made dining decis...\n",
              "...                                                 ...  ...                                                ...\n",
              "3071  Attitudes, Perceptions, and Responses of Purch...  ...  \\nMETHODOLOGY\\nGiven that daily deals are Inte...\n",
              "3072  Exploring the Antecedents of Hotel Customer Lo...  ...  \\nMETHOD OF ANALYSIS\\nData Collection and Samp...\n",
              "3073  Casual Dining on the French Riviera: Examining...  ...  \\nMETHODOLOGY\\nThe Study Site\\nThe French Rivi...\n",
              "3074  The Influence of DMO Advertising on Specific D...  ...  \\nMETHODOLOGY\\nInstrument Development\\nThe res...\n",
              "3075  How Do Customers Perceive Service Quality in D...  ...  \\nMETHOD\\nInstrument Development\\nThe survey q...\n",
              "\n",
              "[3076 rows x 10 columns]"
            ]
          },
          "metadata": {
            "tags": []
          },
          "execution_count": 18
        }
      ]
    },
    {
      "cell_type": "code",
      "metadata": {
        "colab": {
          "base_uri": "https://localhost:8080/"
        },
        "id": "mdH2moq8SaZi",
        "outputId": "3d545d73-ad21-42af-fd5d-8ecff5d75720"
      },
      "source": [
        "df_merged.isnull().sum()"
      ],
      "execution_count": null,
      "outputs": [
        {
          "output_type": "execute_result",
          "data": {
            "text/plain": [
              "TI               0\n",
              "QUANTITATIVE     0\n",
              "Method           0\n",
              "JO               0\n",
              "AU               0\n",
              "PY               0\n",
              "DI               1\n",
              "urls            83\n",
              "filename        84\n",
              "methodology      0\n",
              "dtype: int64"
            ]
          },
          "metadata": {
            "tags": []
          },
          "execution_count": 19
        }
      ]
    },
    {
      "cell_type": "code",
      "metadata": {
        "colab": {
          "base_uri": "https://localhost:8080/"
        },
        "id": "4OC6W2T3SaXM",
        "outputId": "f266dbd9-2253-4fa9-f922-7afe3abc327f"
      },
      "source": [
        "df_merged.Method.value_counts()"
      ],
      "execution_count": null,
      "outputs": [
        {
          "output_type": "execute_result",
          "data": {
            "text/plain": [
              "survey               1511\n",
              "secondary data        525\n",
              "experimental          346\n",
              "qualitative           177\n",
              "mixed                 112\n",
              "content analysis      104\n",
              "case study             99\n",
              "review                 76\n",
              "scale development      38\n",
              "bibliometric           18\n",
              "grounded theory        16\n",
              "phenomenology          15\n",
              "theoretical            11\n",
              "meta-analysis           7\n",
              "ethnography             6\n",
              "sna                     5\n",
              "textual analysis        4\n",
              "delphi                  3\n",
              "research note           1\n",
              "interview               1\n",
              "field study             1\n",
              "Name: Method, dtype: int64"
            ]
          },
          "metadata": {
            "tags": []
          },
          "execution_count": 20
        }
      ]
    },
    {
      "cell_type": "code",
      "metadata": {
        "colab": {
          "base_uri": "https://localhost:8080/",
          "height": 890
        },
        "id": "mh2hmLE6SaUB",
        "outputId": "db2a1c83-e495-4654-d239-3d35c8a08093"
      },
      "source": [
        "df_filtered = df_merged.groupby(\"Method\").filter(lambda x: len(x)>100)\n",
        "df_filtered"
      ],
      "execution_count": null,
      "outputs": [
        {
          "output_type": "execute_result",
          "data": {
            "text/html": [
              "<div>\n",
              "<style scoped>\n",
              "    .dataframe tbody tr th:only-of-type {\n",
              "        vertical-align: middle;\n",
              "    }\n",
              "\n",
              "    .dataframe tbody tr th {\n",
              "        vertical-align: top;\n",
              "    }\n",
              "\n",
              "    .dataframe thead th {\n",
              "        text-align: right;\n",
              "    }\n",
              "</style>\n",
              "<table border=\"1\" class=\"dataframe\">\n",
              "  <thead>\n",
              "    <tr style=\"text-align: right;\">\n",
              "      <th></th>\n",
              "      <th>TI</th>\n",
              "      <th>QUANTITATIVE</th>\n",
              "      <th>Method</th>\n",
              "      <th>JO</th>\n",
              "      <th>AU</th>\n",
              "      <th>PY</th>\n",
              "      <th>DI</th>\n",
              "      <th>urls</th>\n",
              "      <th>filename</th>\n",
              "      <th>methodology</th>\n",
              "    </tr>\n",
              "  </thead>\n",
              "  <tbody>\n",
              "    <tr>\n",
              "      <th>1</th>\n",
              "      <td>Barcelona's peer-to-peer tourist accommodation...</td>\n",
              "      <td>1</td>\n",
              "      <td>secondary data</td>\n",
              "      <td>IJCHM</td>\n",
              "      <td>Benitez-Aurioles, B</td>\n",
              "      <td>2019</td>\n",
              "      <td>10.1108/IJCHM-01-2019-0090</td>\n",
              "      <td>https://www.emerald.com/insight/content/doi/10...</td>\n",
              "      <td>IJCHM_1.txt</td>\n",
              "      <td>Data\\nThere are no official statistics on the ...</td>\n",
              "    </tr>\n",
              "    <tr>\n",
              "      <th>3</th>\n",
              "      <td>Examining work factors after Malaysia's minimu...</td>\n",
              "      <td>1</td>\n",
              "      <td>survey</td>\n",
              "      <td>IJCHM</td>\n",
              "      <td>Ahmat, NHC; Arendt, SW; Russell, DW</td>\n",
              "      <td>2019</td>\n",
              "      <td>10.1108/IJCHM-10-2018-0827</td>\n",
              "      <td>https://www.emerald.com/insight/content/doi/10...</td>\n",
              "      <td>IJCHM_3.txt</td>\n",
              "      <td>Methods\\nParticipants\\nEmployees from operatio...</td>\n",
              "    </tr>\n",
              "    <tr>\n",
              "      <th>4</th>\n",
              "      <td>Seeking reward or avoiding risk from restauran...</td>\n",
              "      <td>1</td>\n",
              "      <td>experimental</td>\n",
              "      <td>IJCHM</td>\n",
              "      <td>Kim, EL; Tanford, S</td>\n",
              "      <td>2019</td>\n",
              "      <td>10.1108/IJCHM-03-2018-0235</td>\n",
              "      <td>https://www.emerald.com/insight/content/doi/10...</td>\n",
              "      <td>IJCHM_4.txt</td>\n",
              "      <td>Method\\nDesign\\nParticipants made dining decis...</td>\n",
              "    </tr>\n",
              "    <tr>\n",
              "      <th>5</th>\n",
              "      <td>Prices of short-stay accommodation: time serie...</td>\n",
              "      <td>1</td>\n",
              "      <td>secondary data</td>\n",
              "      <td>IJCHM</td>\n",
              "      <td>Gricar, S; Bojnec, S</td>\n",
              "      <td>2019</td>\n",
              "      <td>10.1108/IJCHM-01-2019-0091</td>\n",
              "      <td>https://www.emerald.com/insight/content/doi/10...</td>\n",
              "      <td>IJCHM_5.txt</td>\n",
              "      <td>Empirical setting\\nIn terms of relevant econom...</td>\n",
              "    </tr>\n",
              "    <tr>\n",
              "      <th>6</th>\n",
              "      <td>How do online reviewers' cultural traits and p...</td>\n",
              "      <td>1</td>\n",
              "      <td>content analysis</td>\n",
              "      <td>IJCHM</td>\n",
              "      <td>Mariani, M; Predvoditeleva, M</td>\n",
              "      <td>2019</td>\n",
              "      <td>10.1108/IJCHM-11-2018-0927</td>\n",
              "      <td>https://www.emerald.com/insight/content/doi/10...</td>\n",
              "      <td>IJCHM_7.txt</td>\n",
              "      <td>3. Research setting, design and methodology\\n3...</td>\n",
              "    </tr>\n",
              "    <tr>\n",
              "      <th>...</th>\n",
              "      <td>...</td>\n",
              "      <td>...</td>\n",
              "      <td>...</td>\n",
              "      <td>...</td>\n",
              "      <td>...</td>\n",
              "      <td>...</td>\n",
              "      <td>...</td>\n",
              "      <td>...</td>\n",
              "      <td>...</td>\n",
              "      <td>...</td>\n",
              "    </tr>\n",
              "    <tr>\n",
              "      <th>3071</th>\n",
              "      <td>Attitudes, Perceptions, and Responses of Purch...</td>\n",
              "      <td>1</td>\n",
              "      <td>survey</td>\n",
              "      <td>JHMM</td>\n",
              "      <td>Ong, BS</td>\n",
              "      <td>2015</td>\n",
              "      <td>10.1080/19368623.2014.901201</td>\n",
              "      <td>https://www.tandfonline.com/doi/full/10.1080/1...</td>\n",
              "      <td>JHMM_223.txt</td>\n",
              "      <td>\\nMETHODOLOGY\\nGiven that daily deals are Inte...</td>\n",
              "    </tr>\n",
              "    <tr>\n",
              "      <th>3072</th>\n",
              "      <td>Exploring the Antecedents of Hotel Customer Lo...</td>\n",
              "      <td>1</td>\n",
              "      <td>survey</td>\n",
              "      <td>JHMM</td>\n",
              "      <td>de Leaniz, PMG; Rodriguez, IRD</td>\n",
              "      <td>2015</td>\n",
              "      <td>10.1080/19368623.2014.891961</td>\n",
              "      <td>https://www.tandfonline.com/doi/full/10.1080/1...</td>\n",
              "      <td>JHMM_224.txt</td>\n",
              "      <td>\\nMETHOD OF ANALYSIS\\nData Collection and Samp...</td>\n",
              "    </tr>\n",
              "    <tr>\n",
              "      <th>3073</th>\n",
              "      <td>Casual Dining on the French Riviera: Examining...</td>\n",
              "      <td>1</td>\n",
              "      <td>survey</td>\n",
              "      <td>JHMM</td>\n",
              "      <td>Prayag, G; Khoo-Lattimore, C; Sitruk, J</td>\n",
              "      <td>2015</td>\n",
              "      <td>10.1080/19368623.2014.859114</td>\n",
              "      <td>https://www.tandfonline.com/doi/full/10.1080/1...</td>\n",
              "      <td>JHMM_225.txt</td>\n",
              "      <td>\\nMETHODOLOGY\\nThe Study Site\\nThe French Rivi...</td>\n",
              "    </tr>\n",
              "    <tr>\n",
              "      <th>3074</th>\n",
              "      <td>The Influence of DMO Advertising on Specific D...</td>\n",
              "      <td>1</td>\n",
              "      <td>survey</td>\n",
              "      <td>JHMM</td>\n",
              "      <td>Morosan, C</td>\n",
              "      <td>2015</td>\n",
              "      <td>10.1080/19368623.2014.891962</td>\n",
              "      <td>https://www.tandfonline.com/doi/full/10.1080/1...</td>\n",
              "      <td>JHMM_226.txt</td>\n",
              "      <td>\\nMETHODOLOGY\\nInstrument Development\\nThe res...</td>\n",
              "    </tr>\n",
              "    <tr>\n",
              "      <th>3075</th>\n",
              "      <td>How Do Customers Perceive Service Quality in D...</td>\n",
              "      <td>1</td>\n",
              "      <td>survey</td>\n",
              "      <td>JHMM</td>\n",
              "      <td>Cao, Y; Kim, K</td>\n",
              "      <td>2015</td>\n",
              "      <td>10.1080/19368623.2014.903817</td>\n",
              "      <td>https://www.tandfonline.com/doi/full/10.1080/1...</td>\n",
              "      <td>JHMM_228.txt</td>\n",
              "      <td>\\nMETHOD\\nInstrument Development\\nThe survey q...</td>\n",
              "    </tr>\n",
              "  </tbody>\n",
              "</table>\n",
              "<p>2775 rows × 10 columns</p>\n",
              "</div>"
            ],
            "text/plain": [
              "                                                     TI  ...                                        methodology\n",
              "1     Barcelona's peer-to-peer tourist accommodation...  ...  Data\\nThere are no official statistics on the ...\n",
              "3     Examining work factors after Malaysia's minimu...  ...  Methods\\nParticipants\\nEmployees from operatio...\n",
              "4     Seeking reward or avoiding risk from restauran...  ...  Method\\nDesign\\nParticipants made dining decis...\n",
              "5     Prices of short-stay accommodation: time serie...  ...  Empirical setting\\nIn terms of relevant econom...\n",
              "6     How do online reviewers' cultural traits and p...  ...  3. Research setting, design and methodology\\n3...\n",
              "...                                                 ...  ...                                                ...\n",
              "3071  Attitudes, Perceptions, and Responses of Purch...  ...  \\nMETHODOLOGY\\nGiven that daily deals are Inte...\n",
              "3072  Exploring the Antecedents of Hotel Customer Lo...  ...  \\nMETHOD OF ANALYSIS\\nData Collection and Samp...\n",
              "3073  Casual Dining on the French Riviera: Examining...  ...  \\nMETHODOLOGY\\nThe Study Site\\nThe French Rivi...\n",
              "3074  The Influence of DMO Advertising on Specific D...  ...  \\nMETHODOLOGY\\nInstrument Development\\nThe res...\n",
              "3075  How Do Customers Perceive Service Quality in D...  ...  \\nMETHOD\\nInstrument Development\\nThe survey q...\n",
              "\n",
              "[2775 rows x 10 columns]"
            ]
          },
          "metadata": {
            "tags": []
          },
          "execution_count": 21
        }
      ]
    },
    {
      "cell_type": "code",
      "metadata": {
        "id": "eGwNj5CRVn59"
      },
      "source": [
        "df_filtered = df_filtered[df_filtered.Method!=\"mixed\"]"
      ],
      "execution_count": null,
      "outputs": []
    },
    {
      "cell_type": "code",
      "metadata": {
        "colab": {
          "base_uri": "https://localhost:8080/"
        },
        "id": "0HIMvGdyQAvl",
        "outputId": "8dc0f934-f5cc-42fb-ba43-8d26322e2eac"
      },
      "source": [
        "len(df_filtered)"
      ],
      "execution_count": null,
      "outputs": [
        {
          "output_type": "execute_result",
          "data": {
            "text/plain": [
              "2663"
            ]
          },
          "metadata": {
            "tags": []
          },
          "execution_count": 23
        }
      ]
    },
    {
      "cell_type": "code",
      "metadata": {
        "colab": {
          "base_uri": "https://localhost:8080/"
        },
        "id": "geMUgmQwSaQ-",
        "outputId": "2ed15bfd-0583-40f1-ff3f-755ecd920d41"
      },
      "source": [
        "df_filtered.Method.value_counts()"
      ],
      "execution_count": null,
      "outputs": [
        {
          "output_type": "execute_result",
          "data": {
            "text/plain": [
              "survey              1511\n",
              "secondary data       525\n",
              "experimental         346\n",
              "qualitative          177\n",
              "content analysis     104\n",
              "Name: Method, dtype: int64"
            ]
          },
          "metadata": {
            "tags": []
          },
          "execution_count": 24
        }
      ]
    },
    {
      "cell_type": "code",
      "metadata": {
        "colab": {
          "base_uri": "https://localhost:8080/"
        },
        "id": "uOZFuzraVnzO",
        "outputId": "0e993ed9-0c36-4314-8bdf-6f8ed96dace8"
      },
      "source": [
        "df_filtered.Method.value_counts(normalize=True)"
      ],
      "execution_count": null,
      "outputs": [
        {
          "output_type": "execute_result",
          "data": {
            "text/plain": [
              "survey              0.567405\n",
              "secondary data      0.197146\n",
              "experimental        0.129929\n",
              "qualitative         0.066466\n",
              "content analysis    0.039054\n",
              "Name: Method, dtype: float64"
            ]
          },
          "metadata": {
            "tags": []
          },
          "execution_count": 25
        }
      ]
    },
    {
      "cell_type": "code",
      "metadata": {
        "colab": {
          "base_uri": "https://localhost:8080/",
          "height": 786
        },
        "id": "4AZK0HZXQ1F8",
        "outputId": "3e9dd862-49da-4eaa-b2d1-af186a81b3ac"
      },
      "source": [
        "df_balanced = df_filtered.groupby('Method', group_keys=False).apply(lambda x: x.sample(104, random_state=21)).reset_index(drop=True)\n",
        "df_balanced"
      ],
      "execution_count": null,
      "outputs": [
        {
          "output_type": "execute_result",
          "data": {
            "text/html": [
              "<div>\n",
              "<style scoped>\n",
              "    .dataframe tbody tr th:only-of-type {\n",
              "        vertical-align: middle;\n",
              "    }\n",
              "\n",
              "    .dataframe tbody tr th {\n",
              "        vertical-align: top;\n",
              "    }\n",
              "\n",
              "    .dataframe thead th {\n",
              "        text-align: right;\n",
              "    }\n",
              "</style>\n",
              "<table border=\"1\" class=\"dataframe\">\n",
              "  <thead>\n",
              "    <tr style=\"text-align: right;\">\n",
              "      <th></th>\n",
              "      <th>TI</th>\n",
              "      <th>QUANTITATIVE</th>\n",
              "      <th>Method</th>\n",
              "      <th>JO</th>\n",
              "      <th>AU</th>\n",
              "      <th>PY</th>\n",
              "      <th>DI</th>\n",
              "      <th>urls</th>\n",
              "      <th>filename</th>\n",
              "      <th>methodology</th>\n",
              "    </tr>\n",
              "  </thead>\n",
              "  <tbody>\n",
              "    <tr>\n",
              "      <th>0</th>\n",
              "      <td>Online CSR communication in the hotel industry...</td>\n",
              "      <td>0</td>\n",
              "      <td>content analysis</td>\n",
              "      <td>IJHM</td>\n",
              "      <td>Ettinger, A; Grabner-Krauter, S; Terlutter, R</td>\n",
              "      <td>2018</td>\n",
              "      <td>10.1016/j.ijhm.2017.09.002</td>\n",
              "      <td>https://www.sciencedirect.com/science/article/...</td>\n",
              "      <td>IJHM_1125.txt</td>\n",
              "      <td>4. Study 1–website analysis of CSR-certified h...</td>\n",
              "    </tr>\n",
              "    <tr>\n",
              "      <th>1</th>\n",
              "      <td>Progress on information and communication tech...</td>\n",
              "      <td>0</td>\n",
              "      <td>content analysis</td>\n",
              "      <td>IJCHM</td>\n",
              "      <td>Law, R; Buhalis, D; Cobanoglu, C</td>\n",
              "      <td>2014</td>\n",
              "      <td>10.1108/IJCHM-08-2013-0367</td>\n",
              "      <td>https://www.emerald.com/insight/content/doi/10...</td>\n",
              "      <td>IJCHM_788.txt</td>\n",
              "      <td>2. Methodology\\nThe data collection was conduc...</td>\n",
              "    </tr>\n",
              "    <tr>\n",
              "      <th>2</th>\n",
              "      <td>Diversity management strategies of global hote...</td>\n",
              "      <td>0</td>\n",
              "      <td>content analysis</td>\n",
              "      <td>IJCHM</td>\n",
              "      <td>Groschl, S</td>\n",
              "      <td>2011</td>\n",
              "      <td>10.1108/09596111111119347</td>\n",
              "      <td>https://www.emerald.com/insight/content/doi/10...</td>\n",
              "      <td>IJCHM_936.txt</td>\n",
              "      <td>3. Methodology\\nIn line with a range of other ...</td>\n",
              "    </tr>\n",
              "    <tr>\n",
              "      <th>3</th>\n",
              "      <td>Image of China tourism and sustainability issu...</td>\n",
              "      <td>1</td>\n",
              "      <td>content analysis</td>\n",
              "      <td>IJCHM</td>\n",
              "      <td>Chen, Y; Huang, ZW; Cai, LPA</td>\n",
              "      <td>2014</td>\n",
              "      <td>10.1108/IJCHM-03-2013-0122</td>\n",
              "      <td>https://www.emerald.com/insight/content/doi/10...</td>\n",
              "      <td>IJCHM_744.txt</td>\n",
              "      <td>3. Methodology\\nData used in this study are ar...</td>\n",
              "    </tr>\n",
              "    <tr>\n",
              "      <th>4</th>\n",
              "      <td>Value co-creation and co-destruction in the Ai...</td>\n",
              "      <td>0</td>\n",
              "      <td>content analysis</td>\n",
              "      <td>IJCHM</td>\n",
              "      <td>Camilleri, J; Neuhofer, B</td>\n",
              "      <td>2017</td>\n",
              "      <td>10.1108/IJCHM-09-2016-0492</td>\n",
              "      <td>https://www.emerald.com/insight/content/doi/10...</td>\n",
              "      <td>IJCHM_424.txt</td>\n",
              "      <td>Methodology\\nThis study used an online content...</td>\n",
              "    </tr>\n",
              "    <tr>\n",
              "      <th>...</th>\n",
              "      <td>...</td>\n",
              "      <td>...</td>\n",
              "      <td>...</td>\n",
              "      <td>...</td>\n",
              "      <td>...</td>\n",
              "      <td>...</td>\n",
              "      <td>...</td>\n",
              "      <td>...</td>\n",
              "      <td>...</td>\n",
              "      <td>...</td>\n",
              "    </tr>\n",
              "    <tr>\n",
              "      <th>515</th>\n",
              "      <td>CELEBRITY INVOLVEMENT, PERCEIVED VALUE, AND BE...</td>\n",
              "      <td>1</td>\n",
              "      <td>survey</td>\n",
              "      <td>JHTR</td>\n",
              "      <td>Yen, CH; Teng, HY</td>\n",
              "      <td>2015</td>\n",
              "      <td>10.1177/1096348012471382</td>\n",
              "      <td>https://journals.sagepub.com/doi/full/10.1177/...</td>\n",
              "      <td>JHTR_89.txt</td>\n",
              "      <td>Research Method\\nSample and Data Collection\\nT...</td>\n",
              "    </tr>\n",
              "    <tr>\n",
              "      <th>516</th>\n",
              "      <td>How to influence hospitality employee percepti...</td>\n",
              "      <td>1</td>\n",
              "      <td>survey</td>\n",
              "      <td>IJCHM</td>\n",
              "      <td>Cheung, C; Kong, HY; Song, HY</td>\n",
              "      <td>2014</td>\n",
              "      <td>10.1108/IJCHM-02-2013-0090</td>\n",
              "      <td>https://www.emerald.com/insight/content/doi/10...</td>\n",
              "      <td>IJCHM_791.txt</td>\n",
              "      <td>Research methodology\\nResearch design\\nA quant...</td>\n",
              "    </tr>\n",
              "    <tr>\n",
              "      <th>517</th>\n",
              "      <td>Emotional comprehension of a name-brand coffee...</td>\n",
              "      <td>1</td>\n",
              "      <td>survey</td>\n",
              "      <td>IJCHM</td>\n",
              "      <td>Song, H; Bae, SY; Han, H</td>\n",
              "      <td>2019</td>\n",
              "      <td>10.1108/IJCHM-07-2017-0436</td>\n",
              "      <td>https://www.emerald.com/insight/content/doi/10...</td>\n",
              "      <td>IJCHM_174.txt</td>\n",
              "      <td>Method\\nA preliminary list of measurement item...</td>\n",
              "    </tr>\n",
              "    <tr>\n",
              "      <th>518</th>\n",
              "      <td>The Social Servicescape: A Multidimensional Op...</td>\n",
              "      <td>0</td>\n",
              "      <td>survey</td>\n",
              "      <td>JHTR</td>\n",
              "      <td>Line, ND; Hanks, L</td>\n",
              "      <td>2019</td>\n",
              "      <td>10.1177/1096348018767948</td>\n",
              "      <td>https://journals.sagepub.com/doi/full/10.1177/...</td>\n",
              "      <td>JHTR_245.txt</td>\n",
              "      <td>Method\\nData Collection\\nMeasurements of the p...</td>\n",
              "    </tr>\n",
              "    <tr>\n",
              "      <th>519</th>\n",
              "      <td>E-satisfaction and continuance intention: The ...</td>\n",
              "      <td>1</td>\n",
              "      <td>survey</td>\n",
              "      <td>IJHM</td>\n",
              "      <td>Tran, LTT; Pham, LMT; Le, LT</td>\n",
              "      <td>2019</td>\n",
              "      <td>10.1016/j.ijhm.2018.07.011</td>\n",
              "      <td>https://www.sciencedirect.com/science/article/...</td>\n",
              "      <td>IJHM_1296.txt</td>\n",
              "      <td>3. Method\\n3.1. Sample\\nThe sample consists of...</td>\n",
              "    </tr>\n",
              "  </tbody>\n",
              "</table>\n",
              "<p>520 rows × 10 columns</p>\n",
              "</div>"
            ],
            "text/plain": [
              "                                                    TI  ...                                        methodology\n",
              "0    Online CSR communication in the hotel industry...  ...  4. Study 1–website analysis of CSR-certified h...\n",
              "1    Progress on information and communication tech...  ...  2. Methodology\\nThe data collection was conduc...\n",
              "2    Diversity management strategies of global hote...  ...  3. Methodology\\nIn line with a range of other ...\n",
              "3    Image of China tourism and sustainability issu...  ...  3. Methodology\\nData used in this study are ar...\n",
              "4    Value co-creation and co-destruction in the Ai...  ...  Methodology\\nThis study used an online content...\n",
              "..                                                 ...  ...                                                ...\n",
              "515  CELEBRITY INVOLVEMENT, PERCEIVED VALUE, AND BE...  ...  Research Method\\nSample and Data Collection\\nT...\n",
              "516  How to influence hospitality employee percepti...  ...  Research methodology\\nResearch design\\nA quant...\n",
              "517  Emotional comprehension of a name-brand coffee...  ...  Method\\nA preliminary list of measurement item...\n",
              "518  The Social Servicescape: A Multidimensional Op...  ...  Method\\nData Collection\\nMeasurements of the p...\n",
              "519  E-satisfaction and continuance intention: The ...  ...  3. Method\\n3.1. Sample\\nThe sample consists of...\n",
              "\n",
              "[520 rows x 10 columns]"
            ]
          },
          "metadata": {
            "tags": []
          },
          "execution_count": 35
        }
      ]
    },
    {
      "cell_type": "code",
      "metadata": {
        "colab": {
          "base_uri": "https://localhost:8080/"
        },
        "id": "uXXXEuXRROyM",
        "outputId": "14703b42-5d0d-4ba5-b6f4-f646f2ea380c"
      },
      "source": [
        "df_balanced.Method.value_counts()"
      ],
      "execution_count": null,
      "outputs": [
        {
          "output_type": "execute_result",
          "data": {
            "text/plain": [
              "qualitative         104\n",
              "content analysis    104\n",
              "survey              104\n",
              "secondary data      104\n",
              "experimental        104\n",
              "Name: Method, dtype: int64"
            ]
          },
          "metadata": {
            "tags": []
          },
          "execution_count": 32
        }
      ]
    },
    {
      "cell_type": "code",
      "metadata": {
        "id": "qbjB3DrLY5nc"
      },
      "source": [
        "# tqdm is a great progress bar for python\n",
        "# tqdm.auto automatically selects a text based progress \n",
        "# for the console \n",
        "# and html based output in jupyter notebooks\n",
        "from tqdm.auto import tqdm\n",
        "\n",
        "# DocBin is spacys new way to store Docs in a \n",
        "# binary format for training later\n",
        "from spacy.tokens import DocBin\n"
      ],
      "execution_count": null,
      "outputs": []
    },
    {
      "cell_type": "code",
      "metadata": {
        "colab": {
          "base_uri": "https://localhost:8080/",
          "height": 837
        },
        "id": "7ppo_1OdODbw",
        "outputId": "af27cc7e-22ca-4ec1-d50b-a0bf5aac12d2"
      },
      "source": [
        "df_train = df_balanced.groupby('Method', group_keys=False).apply(lambda x: x.sample(80, random_state=21)).reset_index(drop=True)\n",
        "df_train"
      ],
      "execution_count": null,
      "outputs": [
        {
          "output_type": "execute_result",
          "data": {
            "text/html": [
              "<div>\n",
              "<style scoped>\n",
              "    .dataframe tbody tr th:only-of-type {\n",
              "        vertical-align: middle;\n",
              "    }\n",
              "\n",
              "    .dataframe tbody tr th {\n",
              "        vertical-align: top;\n",
              "    }\n",
              "\n",
              "    .dataframe thead th {\n",
              "        text-align: right;\n",
              "    }\n",
              "</style>\n",
              "<table border=\"1\" class=\"dataframe\">\n",
              "  <thead>\n",
              "    <tr style=\"text-align: right;\">\n",
              "      <th></th>\n",
              "      <th>TI</th>\n",
              "      <th>QUANTITATIVE</th>\n",
              "      <th>Method</th>\n",
              "      <th>JO</th>\n",
              "      <th>AU</th>\n",
              "      <th>PY</th>\n",
              "      <th>DI</th>\n",
              "      <th>urls</th>\n",
              "      <th>filename</th>\n",
              "      <th>methodology</th>\n",
              "    </tr>\n",
              "  </thead>\n",
              "  <tbody>\n",
              "    <tr>\n",
              "      <th>0</th>\n",
              "      <td>From customer satisfaction to customer delight...</td>\n",
              "      <td>0</td>\n",
              "      <td>content analysis</td>\n",
              "      <td>IJCHM</td>\n",
              "      <td>Torres, EN; Kline, S</td>\n",
              "      <td>2013</td>\n",
              "      <td>10.1108/IJCHM-Dec-2011-0228</td>\n",
              "      <td>https://www.emerald.com/insight/content/doi/10...</td>\n",
              "      <td>IJCHM_802.txt</td>\n",
              "      <td>Methodology\\nA qualitative study employing con...</td>\n",
              "    </tr>\n",
              "    <tr>\n",
              "      <th>1</th>\n",
              "      <td>Twitter sentiment analysis: Capturing sentimen...</td>\n",
              "      <td>1</td>\n",
              "      <td>content analysis</td>\n",
              "      <td>IJHM</td>\n",
              "      <td>Philander, K; Zhong, YY</td>\n",
              "      <td>2016</td>\n",
              "      <td>10.1016/j.ijhm.2016.02.001</td>\n",
              "      <td>https://www.sciencedirect.com/science/article/...</td>\n",
              "      <td>IJHM_924.txt</td>\n",
              "      <td>3. Methodology\\nThis study uses a dictionary-b...</td>\n",
              "    </tr>\n",
              "    <tr>\n",
              "      <th>2</th>\n",
              "      <td>Customer responses to integrity issues for tra...</td>\n",
              "      <td>0</td>\n",
              "      <td>content analysis</td>\n",
              "      <td>IJCHM</td>\n",
              "      <td>Gong, JH; Xie, LS; Peng, JM; Guan, XH</td>\n",
              "      <td>2015</td>\n",
              "      <td>10.1108/IJCHM-01-2013-0054</td>\n",
              "      <td>https://www.emerald.com/insight/content/doi/10...</td>\n",
              "      <td>IJCHM_700.txt</td>\n",
              "      <td>4. Research methods\\nContent analysis was used...</td>\n",
              "    </tr>\n",
              "    <tr>\n",
              "      <th>3</th>\n",
              "      <td>Exploring customer experiences with robotics i...</td>\n",
              "      <td>1</td>\n",
              "      <td>content analysis</td>\n",
              "      <td>IJCHM</td>\n",
              "      <td>Tung, VWS; Au, NM</td>\n",
              "      <td>2018</td>\n",
              "      <td>10.1108/IJCHM-06-2017-0322</td>\n",
              "      <td>https://www.emerald.com/insight/content/doi/10...</td>\n",
              "      <td>IJCHM_271.txt</td>\n",
              "      <td>3. Methodology\\nPurposive sampling was adopted...</td>\n",
              "    </tr>\n",
              "    <tr>\n",
              "      <th>4</th>\n",
              "      <td>What does cruise passengers' satisfaction depe...</td>\n",
              "      <td>0</td>\n",
              "      <td>content analysis</td>\n",
              "      <td>IJHM</td>\n",
              "      <td>Castillo-Manzano, JI; Lopez-Valpuesta, L</td>\n",
              "      <td>2018</td>\n",
              "      <td>10.1016/j.ijhm.2018.03.013</td>\n",
              "      <td>https://www.sciencedirect.com/science/article/...</td>\n",
              "      <td>IJHM_1262.txt</td>\n",
              "      <td>2. Data and results\\nThe database is composed ...</td>\n",
              "    </tr>\n",
              "    <tr>\n",
              "      <th>...</th>\n",
              "      <td>...</td>\n",
              "      <td>...</td>\n",
              "      <td>...</td>\n",
              "      <td>...</td>\n",
              "      <td>...</td>\n",
              "      <td>...</td>\n",
              "      <td>...</td>\n",
              "      <td>...</td>\n",
              "      <td>...</td>\n",
              "      <td>...</td>\n",
              "    </tr>\n",
              "    <tr>\n",
              "      <th>395</th>\n",
              "      <td>GUILTY PLEASURE OR PLEASURABLE GUILT? AFFECTIV...</td>\n",
              "      <td>1</td>\n",
              "      <td>survey</td>\n",
              "      <td>JHTR</td>\n",
              "      <td>Miao, L</td>\n",
              "      <td>2011</td>\n",
              "      <td>10.1177/1096348010384876</td>\n",
              "      <td>NaN</td>\n",
              "      <td>NaN</td>\n",
              "      <td>\\nMETHOD\\nExperimental Stimuli\\nA commonly use...</td>\n",
              "    </tr>\n",
              "    <tr>\n",
              "      <th>396</th>\n",
              "      <td>Differences in service quality perceptions of ...</td>\n",
              "      <td>1</td>\n",
              "      <td>survey</td>\n",
              "      <td>IJCHM</td>\n",
              "      <td>Dedeoglu, BB; Demirer, H</td>\n",
              "      <td>2015</td>\n",
              "      <td>10.1108/IJCHM-08-2013-0350</td>\n",
              "      <td>https://www.emerald.com/insight/content/doi/10...</td>\n",
              "      <td>IJCHM_695.txt</td>\n",
              "      <td>Methodology\\nInstrument\\nThe service quality p...</td>\n",
              "    </tr>\n",
              "    <tr>\n",
              "      <th>397</th>\n",
              "      <td>Senior consumers' dining-out behaviors: the ro...</td>\n",
              "      <td>1</td>\n",
              "      <td>survey</td>\n",
              "      <td>IJCHM</td>\n",
              "      <td>Kim, D; Jang, S</td>\n",
              "      <td>2019</td>\n",
              "      <td>10.1108/IJCHM-09-2018-0751</td>\n",
              "      <td>https://www.emerald.com/insight/content/doi/10...</td>\n",
              "      <td>IJCHM_135.txt</td>\n",
              "      <td>Methodology\\nSample\\nParticipants for this stu...</td>\n",
              "    </tr>\n",
              "    <tr>\n",
              "      <th>398</th>\n",
              "      <td>Adopting environmentally friendly mechanisms i...</td>\n",
              "      <td>1</td>\n",
              "      <td>survey</td>\n",
              "      <td>IJCHM</td>\n",
              "      <td>Novacka, L; Picha, K; Navratil, J; Topaloglu, ...</td>\n",
              "      <td>2019</td>\n",
              "      <td>10.1108/IJCHM-04-2018-0284</td>\n",
              "      <td>https://www.emerald.com/insight/content/doi/10...</td>\n",
              "      <td>IJCHM_105.txt</td>\n",
              "      <td>2. Methodological practice\\nData, necessary to...</td>\n",
              "    </tr>\n",
              "    <tr>\n",
              "      <th>399</th>\n",
              "      <td>Why do customers switch? More satiated or less...</td>\n",
              "      <td>1</td>\n",
              "      <td>survey</td>\n",
              "      <td>IJHM</td>\n",
              "      <td>Park, JY; Jang, S</td>\n",
              "      <td>2014</td>\n",
              "      <td>10.1016/j.ijhm.2013.11.007</td>\n",
              "      <td>https://www.sciencedirect.com/science/article/...</td>\n",
              "      <td>IJHM_603.txt</td>\n",
              "      <td>3. Methodology\\n3.1. Research instrument\\nThe ...</td>\n",
              "    </tr>\n",
              "  </tbody>\n",
              "</table>\n",
              "<p>400 rows × 10 columns</p>\n",
              "</div>"
            ],
            "text/plain": [
              "                                                    TI  ...                                        methodology\n",
              "0    From customer satisfaction to customer delight...  ...  Methodology\\nA qualitative study employing con...\n",
              "1    Twitter sentiment analysis: Capturing sentimen...  ...  3. Methodology\\nThis study uses a dictionary-b...\n",
              "2    Customer responses to integrity issues for tra...  ...  4. Research methods\\nContent analysis was used...\n",
              "3    Exploring customer experiences with robotics i...  ...  3. Methodology\\nPurposive sampling was adopted...\n",
              "4    What does cruise passengers' satisfaction depe...  ...  2. Data and results\\nThe database is composed ...\n",
              "..                                                 ...  ...                                                ...\n",
              "395  GUILTY PLEASURE OR PLEASURABLE GUILT? AFFECTIV...  ...  \\nMETHOD\\nExperimental Stimuli\\nA commonly use...\n",
              "396  Differences in service quality perceptions of ...  ...  Methodology\\nInstrument\\nThe service quality p...\n",
              "397  Senior consumers' dining-out behaviors: the ro...  ...  Methodology\\nSample\\nParticipants for this stu...\n",
              "398  Adopting environmentally friendly mechanisms i...  ...  2. Methodological practice\\nData, necessary to...\n",
              "399  Why do customers switch? More satiated or less...  ...  3. Methodology\\n3.1. Research instrument\\nThe ...\n",
              "\n",
              "[400 rows x 10 columns]"
            ]
          },
          "metadata": {
            "tags": []
          },
          "execution_count": 36
        }
      ]
    },
    {
      "cell_type": "code",
      "metadata": {
        "colab": {
          "base_uri": "https://localhost:8080/",
          "height": 837
        },
        "id": "yd7Pdh3UNVuv",
        "outputId": "78714ad4-d4eb-4d63-dffb-7ebf4fa33a70"
      },
      "source": [
        "df_valid = df_balanced[~df_balanced.TI.isin(df_train.TI)]\n",
        "df_valid"
      ],
      "execution_count": null,
      "outputs": [
        {
          "output_type": "execute_result",
          "data": {
            "text/html": [
              "<div>\n",
              "<style scoped>\n",
              "    .dataframe tbody tr th:only-of-type {\n",
              "        vertical-align: middle;\n",
              "    }\n",
              "\n",
              "    .dataframe tbody tr th {\n",
              "        vertical-align: top;\n",
              "    }\n",
              "\n",
              "    .dataframe thead th {\n",
              "        text-align: right;\n",
              "    }\n",
              "</style>\n",
              "<table border=\"1\" class=\"dataframe\">\n",
              "  <thead>\n",
              "    <tr style=\"text-align: right;\">\n",
              "      <th></th>\n",
              "      <th>TI</th>\n",
              "      <th>QUANTITATIVE</th>\n",
              "      <th>Method</th>\n",
              "      <th>JO</th>\n",
              "      <th>AU</th>\n",
              "      <th>PY</th>\n",
              "      <th>DI</th>\n",
              "      <th>urls</th>\n",
              "      <th>filename</th>\n",
              "      <th>methodology</th>\n",
              "    </tr>\n",
              "  </thead>\n",
              "  <tbody>\n",
              "    <tr>\n",
              "      <th>4</th>\n",
              "      <td>Value co-creation and co-destruction in the Ai...</td>\n",
              "      <td>0</td>\n",
              "      <td>content analysis</td>\n",
              "      <td>IJCHM</td>\n",
              "      <td>Camilleri, J; Neuhofer, B</td>\n",
              "      <td>2017</td>\n",
              "      <td>10.1108/IJCHM-09-2016-0492</td>\n",
              "      <td>https://www.emerald.com/insight/content/doi/10...</td>\n",
              "      <td>IJCHM_424.txt</td>\n",
              "      <td>Methodology\\nThis study used an online content...</td>\n",
              "    </tr>\n",
              "    <tr>\n",
              "      <th>5</th>\n",
              "      <td>Exploring the nonlinear impact of critical inc...</td>\n",
              "      <td>0</td>\n",
              "      <td>content analysis</td>\n",
              "      <td>IJHM</td>\n",
              "      <td>Tontini, G; Bento, GD; Milbratz, TC; Volles, B...</td>\n",
              "      <td>2017</td>\n",
              "      <td>10.1016/j.ijhm.2017.07.011</td>\n",
              "      <td>https://www.sciencedirect.com/science/article/...</td>\n",
              "      <td>IJHM_1091.txt</td>\n",
              "      <td>3. Research methodology\\nThe present research ...</td>\n",
              "    </tr>\n",
              "    <tr>\n",
              "      <th>18</th>\n",
              "      <td>Humanlike robots as employees in the hotel ind...</td>\n",
              "      <td>1</td>\n",
              "      <td>content analysis</td>\n",
              "      <td>JHMM</td>\n",
              "      <td>Yu, CE</td>\n",
              "      <td>2010</td>\n",
              "      <td>10.1080/19368623.2019.1592733</td>\n",
              "      <td>https://www.tandfonline.com/doi/full/10.1080/1...</td>\n",
              "      <td>JHMM_53.txt</td>\n",
              "      <td>Methodology\\nA nonprobability purposive sampli...</td>\n",
              "    </tr>\n",
              "    <tr>\n",
              "      <th>20</th>\n",
              "      <td>Effects of managerial response on consumer eWO...</td>\n",
              "      <td>1</td>\n",
              "      <td>content analysis</td>\n",
              "      <td>IJCHM</td>\n",
              "      <td>Xie, KL; Zhang, ZL; Zhang, ZQ; Singh, A; Lee, SK</td>\n",
              "      <td>2016</td>\n",
              "      <td>10.1108/IJCHM-06-2015-0290</td>\n",
              "      <td>https://www.emerald.com/insight/content/doi/10...</td>\n",
              "      <td>IJCHM_625.txt</td>\n",
              "      <td>3. Methodology\\n3.1 Sample and data\\nWe collec...</td>\n",
              "    </tr>\n",
              "    <tr>\n",
              "      <th>35</th>\n",
              "      <td>Evaluation of the persuasive features of hotel...</td>\n",
              "      <td>0</td>\n",
              "      <td>content analysis</td>\n",
              "      <td>IJHM</td>\n",
              "      <td>Diaz, E; Koutra, C</td>\n",
              "      <td>2013</td>\n",
              "      <td>10.1016/j.ijhm.2012.11.009</td>\n",
              "      <td>https://www.sciencedirect.com/science/article/...</td>\n",
              "      <td>IJHM_500.txt</td>\n",
              "      <td>3. Materials and methods\\nIn order to address ...</td>\n",
              "    </tr>\n",
              "    <tr>\n",
              "      <th>...</th>\n",
              "      <td>...</td>\n",
              "      <td>...</td>\n",
              "      <td>...</td>\n",
              "      <td>...</td>\n",
              "      <td>...</td>\n",
              "      <td>...</td>\n",
              "      <td>...</td>\n",
              "      <td>...</td>\n",
              "      <td>...</td>\n",
              "      <td>...</td>\n",
              "    </tr>\n",
              "    <tr>\n",
              "      <th>495</th>\n",
              "      <td>Measurement scale for eco-component of hotel s...</td>\n",
              "      <td>1</td>\n",
              "      <td>survey</td>\n",
              "      <td>IJHM</td>\n",
              "      <td>Bastic, M; Gojcic, S</td>\n",
              "      <td>2012</td>\n",
              "      <td>10.1016/j.ijhm.2011.12.007</td>\n",
              "      <td>https://www.sciencedirect.com/science/article/...</td>\n",
              "      <td>IJHM_333.txt</td>\n",
              "      <td>3. Methodology for the development of an eco-c...</td>\n",
              "    </tr>\n",
              "    <tr>\n",
              "      <th>500</th>\n",
              "      <td>Investigating Children's Role in Family Dining...</td>\n",
              "      <td>1</td>\n",
              "      <td>survey</td>\n",
              "      <td>JHMM</td>\n",
              "      <td>Chen, YS; Lehto, X; Behnke, C; Tang, CH</td>\n",
              "      <td>2016</td>\n",
              "      <td>10.1080/19368623.2016.1077368</td>\n",
              "      <td>https://www.tandfonline.com/doi/full/10.1080/1...</td>\n",
              "      <td>JHMM_174.txt</td>\n",
              "      <td>1\\nMETHODOLOGY\\nData were gathered at an Itali...</td>\n",
              "    </tr>\n",
              "    <tr>\n",
              "      <th>502</th>\n",
              "      <td>The relationship between workplace spiritualit...</td>\n",
              "      <td>1</td>\n",
              "      <td>survey</td>\n",
              "      <td>IJCHM</td>\n",
              "      <td>Gatling, A; Kim, J; Milliman, J</td>\n",
              "      <td>2016</td>\n",
              "      <td>10.1108/IJCHM-08-2014-0404</td>\n",
              "      <td>https://www.emerald.com/insight/content/doi/10...</td>\n",
              "      <td>IJCHM_564.txt</td>\n",
              "      <td>3. Methodology\\n3.1 Subjects and procedure\\nTh...</td>\n",
              "    </tr>\n",
              "    <tr>\n",
              "      <th>515</th>\n",
              "      <td>CELEBRITY INVOLVEMENT, PERCEIVED VALUE, AND BE...</td>\n",
              "      <td>1</td>\n",
              "      <td>survey</td>\n",
              "      <td>JHTR</td>\n",
              "      <td>Yen, CH; Teng, HY</td>\n",
              "      <td>2015</td>\n",
              "      <td>10.1177/1096348012471382</td>\n",
              "      <td>https://journals.sagepub.com/doi/full/10.1177/...</td>\n",
              "      <td>JHTR_89.txt</td>\n",
              "      <td>Research Method\\nSample and Data Collection\\nT...</td>\n",
              "    </tr>\n",
              "    <tr>\n",
              "      <th>517</th>\n",
              "      <td>Emotional comprehension of a name-brand coffee...</td>\n",
              "      <td>1</td>\n",
              "      <td>survey</td>\n",
              "      <td>IJCHM</td>\n",
              "      <td>Song, H; Bae, SY; Han, H</td>\n",
              "      <td>2019</td>\n",
              "      <td>10.1108/IJCHM-07-2017-0436</td>\n",
              "      <td>https://www.emerald.com/insight/content/doi/10...</td>\n",
              "      <td>IJCHM_174.txt</td>\n",
              "      <td>Method\\nA preliminary list of measurement item...</td>\n",
              "    </tr>\n",
              "  </tbody>\n",
              "</table>\n",
              "<p>120 rows × 10 columns</p>\n",
              "</div>"
            ],
            "text/plain": [
              "                                                    TI  ...                                        methodology\n",
              "4    Value co-creation and co-destruction in the Ai...  ...  Methodology\\nThis study used an online content...\n",
              "5    Exploring the nonlinear impact of critical inc...  ...  3. Research methodology\\nThe present research ...\n",
              "18   Humanlike robots as employees in the hotel ind...  ...  Methodology\\nA nonprobability purposive sampli...\n",
              "20   Effects of managerial response on consumer eWO...  ...  3. Methodology\\n3.1 Sample and data\\nWe collec...\n",
              "35   Evaluation of the persuasive features of hotel...  ...  3. Materials and methods\\nIn order to address ...\n",
              "..                                                 ...  ...                                                ...\n",
              "495  Measurement scale for eco-component of hotel s...  ...  3. Methodology for the development of an eco-c...\n",
              "500  Investigating Children's Role in Family Dining...  ...  1\\nMETHODOLOGY\\nData were gathered at an Itali...\n",
              "502  The relationship between workplace spiritualit...  ...  3. Methodology\\n3.1 Subjects and procedure\\nTh...\n",
              "515  CELEBRITY INVOLVEMENT, PERCEIVED VALUE, AND BE...  ...  Research Method\\nSample and Data Collection\\nT...\n",
              "517  Emotional comprehension of a name-brand coffee...  ...  Method\\nA preliminary list of measurement item...\n",
              "\n",
              "[120 rows x 10 columns]"
            ]
          },
          "metadata": {
            "tags": []
          },
          "execution_count": 37
        }
      ]
    },
    {
      "cell_type": "code",
      "metadata": {
        "colab": {
          "base_uri": "https://localhost:8080/"
        },
        "id": "asGPKhk7QG65",
        "outputId": "04180cde-88e9-438a-8e68-67b36a2793a5"
      },
      "source": [
        "df_valid.Method.value_counts()"
      ],
      "execution_count": null,
      "outputs": [
        {
          "output_type": "execute_result",
          "data": {
            "text/plain": [
              "secondary data      24\n",
              "qualitative         24\n",
              "survey              24\n",
              "content analysis    24\n",
              "experimental        24\n",
              "Name: Method, dtype: int64"
            ]
          },
          "metadata": {
            "tags": []
          },
          "execution_count": 39
        }
      ]
    },
    {
      "cell_type": "code",
      "metadata": {
        "id": "aSqiXr_mQOt6"
      },
      "source": [
        ""
      ],
      "execution_count": null,
      "outputs": []
    },
    {
      "cell_type": "code",
      "metadata": {
        "colab": {
          "base_uri": "https://localhost:8080/"
        },
        "id": "ykcUPRAtQOq0",
        "outputId": "e38b5365-7a96-4417-8909-744de8572e04"
      },
      "source": [
        "train_list = list(df_train.methodology + \"!!,!!\" + df_train.Method)\n",
        "valid_list = list(df_valid.methodology + \"!!,!!\" + df_valid.Method)\n",
        "\n",
        "train_list[:5]"
      ],
      "execution_count": null,
      "outputs": [
        {
          "output_type": "execute_result",
          "data": {
            "text/plain": [
              "[\"Methodology\\nA qualitative study employing content analysis was used to answer the research questions. General managers from seven hotels in two Midwestern cities were asked to share letters written by hotel guests that described a positive experience at the respective property. A total of 119 letters were collected from customers who wrote to the hotels expressing their delight with a recent hotel experience. These letters were either hand written or word-processed and were unsolicited by the properties or their managers. All hotels were four star/diamond hotels according to Mobile (now Forbes) or the American Automobile Association (AAA), respectively. Of these letters, 105 were considered usable responses for the purpose of the study. A total of 14 letters (the difference between the 119 letters received and the 105 letters analyzed) were not considered usable responses. Most of these letters were letters of complaint, which although interesting for determining customer outrage, were not the focus of this study. To analyze such letters, a codebook was developed based on an extensive literature review. There were several studies that helped craft the codebook. One such study was Schneider and Bowen's (1999) human needs model to customer delight, in which it was proposed that the needs for esteem, security and self-esteem are likely to generate customer delight. Kumar et al. (2001) proposed that delight was composed of joy, thrill or exuberance. These factors were also used in the codebook. Cook et al. (2002) identified human factors such as professionalism and friendliness that are relevant to service design. Patterson (1997) signaled that effective problem resolution could potentially lead to delight. Keinningham et al. (2001) suggested that when customers go beyond a zone of tolerance, they will experience delight. Finally, Torres and Kline (2006) proposed a model to customer delight in the hotel industry. All of these studies contributed to the development of a codebook for customer delight.\\nAfter the codebook (see Appendix) was developed, letters were formally coded using a process of content analysis. According to Iverson (2002), content analysis has several advantages:\\nFirst, it helps researchers analyze people's account of an event without taking away its power or eloquence. Content analysis consists of multiple steps, beginning with the development of categories, followed by coding of the material and ending with the statistical analysis of data. This method is suitable for increasing knowledge of subjects that have received little previous attention (Iverson, 2000).\\nThe letters were evaluated for the presence of each code and frequency counts were obtained. Letters were read at least three times by the primary researcher.\\nThe analysis followed both an inductive and a deductive process. The codebook was initially developed based on the review of the literature. However, as the coders read the letters; new themes emerged. Consequently, the codebook was modified to contain all of the relevant themes from the letters of feedback, as well as the information from the relevant literature. In light of this, the process both utilized information from the literature and also utilized the documents themselves to draw additional themes and patterns. The first rater coded all letters. After all the coding was completed, the frequencies of each code were counted.\\nA second rater evaluated and coded a stratified random sample (33 letters – 31.43 percent). Raters possessed expertise in the area of customer delight and used the same codebook for reviewing the letters. Stratified random sampling was deemed helpful, as the letters came from several hotels. In order to avoid having all letters from the same property, the researchers decided to adopt such sampling technique. The second rater evaluated the letters once and attained a satisfactory level of agreement (over 80 percent in the first round). Then both reviewers met and analyzed the areas of agreement and disagreement, ultimately making final coding decisions. Inter-rater reliability was calculated using the percentage of agreements and κ value. The assessment of reliability showed substantial agreement among the raters (92.93 percent agreement, 0.7192\\u2009κ). Consequently, the study attained an acceptable level of agreement and an acceptable κ value. As an additional step, once all the universal themes for customer delight were determined, the researchers evaluated the letters of each property to determine whether property-specific trends existed. In essence, the purpose of that particular step was to determine whether hotels differ in their service culture and whether some hotels are better at certain types of delight, as compared to others.!!,!!content analysis\",\n",
              " \"3. Methodology\\nThis study uses a dictionary-based method to analyze social media microblogging data from Twitter. Data for this study was acquired from the Twitter application programming interface (API). The Twitter API is a backend server that warehouses all individuals’ tweets and enables data collection by the public. The site allows roughly the past week of historical data to be extracted from its database (Twitter, 2015). While there are many methods that can be used to mine this data, we follow an approach adapted from Elder et al. (2012), and use the TwitteR package for the R programming language (Gentry, 2013). We also use the most recent version of Hu and Liu's (2004) sentiment lexicon to determine the sentiment orientation of the online text.\\nTwitteR provides a well-documented and accessible means to extract data into a commonly used data mining statistical program (KDnuggets, 2012). TwitteR is useful for many different data mining procedures, but one form that can be particularly useful to tourism firms is the searchTwitter function, which retrieves any tweet containing a specified text string. This can, for example, be used to identify any tweet mentioning a corporate Twitter account. A searchTwitter query for “@hotelxyz” will return any tweet, by any Twitter user, who mentioned that hotel's username.\\nThe data mining frame used in this study was to retrieve any tweet that included an active integrated-resort username from the Las Vegas metropolitan area. We define the scope of Las Vegas as the Las Vegas Valley metropolitan area, and include only Twitter verified accounts or non-verified accounts with at least 5000 followers. Las Vegas is a useful market for examining this data mining procedure since it contains a large cluster of different branded hospitality firms that face similar market-wide conditions, and many of these properties have a large number of Twitter followers. In total, 34 properties (and associated Twitter accounts) were used as part of this study. The list of accounts/properties is provided in Appendix A, along with their Twitter account parameters.\\nTo compare the social media satisfaction scores, a sentiment index was built using the data mined tweets. The sentiment score was constructed by scoring the tweet text for positive and negative words using Hu and Liu's (2004) sentiment lexicon. The sentiment score followed method used in Elder et al. (2012), where each positive word added a point to the total score and each negative word removed a point–there are no points added or subtracted for neutral words. The properties were then compared on two criteria: the average (mean) tweet sentiment score for any tweet that mentioned their corporate username (average score) and the ratio of positively scored tweets to negatively scored tweets for any tweet that mentioned their corporate username (ratio score). The average score is defined more formally as,\\nAverage\\u2009\\u200a\\u200aScoreRt=∑i=1nPosRit−∑i=1nNegRit/nRt\\nwhere the average score at time = t is the difference between the sum of positive (Pos) individual words appearing in tweet i of n total tweets, and negative (Neg) individual words appearing in tweets (also from i of n), divided by the total number of tweets, for any tweet that mentions resort R.\\nThe ratio score is defined more formally as,\\nRatio\\u2009\\u200a\\u200aScoreRt=∑ni=1PTRit∑ni=1NTRit\\nwhere,\\nPTRit=1\\u2003if\\u2003PosRit−NegRit>00Otherwise\\nNTRit=1\\u2003if\\u2003PosRit-NegRit<00Otherwise\\nThe ratio score is computed as the ratio of overall positive tweets (PT) i of n at time t, to overall negative tweets (NT) i of n at time t. More simply, in a given time period, the sum of all the positive tweets for a given operator are compared to the sum of all negative tweets, and any neutral tweets are discarded. We illustrate these two scoring methods with a short example of two hypothetical tweets: 1) “Had a great time @AriaLV. Liked the hotel despite the noise at night,” and 2) “The @AriaLV buffet was awful.” Both these examples would be linked to the @AriaLV corporate account. The first tweet had two positive words (underlined) and one negative word (italicized), and the second tweet has one negative word. The average score for @AriaLV would therefore be: 2+0−1+1/2=0, since there are two positive words in the first tweet and none in the second, along with one negative word in each tweet. The ratio score would be: 1/1 =1, since there is one overall positive tweet and one overall negative tweet.\\nThe average score provides a useful baseline to understand each firm's relative sentiment, while the ratio score provides a more meaningful overview of the most polarizing opinions, since it ignores tweets with sentiment scores of zero. The internal validity of the scores is compared using Cronbach's alpha, and concurrent validity is tested by comparing the measures to online rankings from travel review site, TripAdvisor, another source of EWOM. While we expect some levels of positive correlation between all of these metrics, we also expect a reasonable amount of variation that reflects different response time, demographics, and indirect measurement involved in a Twitter based interaction.\\nA pilot test of the data extraction and cleaning procedure was conducted on August 16, 2013, which led to some analysis modifications. Based on findings from the pilot test, tweets that were sent from certain source platforms were pre-screened, since there was a high percentage of fake accounts that could be identified on certain outgoing platforms (e.g. constant account activity over several 24 h periods). Twitter is similar to other online sites in terms of false reviews, such as Yelp or TripAdvisor, but the richness in data may yield a more effective means to screen some of these false accounts. If some valid accounts were eliminated as a result of this prescreening, we expect this bias to be consistent across all properties. We expect this outcome to be much less biased than the alternative, as the overly positive “shill” accounts all favored properties belonging to a single corporate entity. We also chose to remove retweeted messages—a single message that was retweeted from many accounts could bias the results toward a single user's opinion. In particular, this bias would lean toward celebrities and corporate accounts with large numbers of followers that can retweet messages. After examining the tweets’ scores in the pilot data, several words were then added to the lexicon to reflect commonly used positive/negative words that were absent from the lexicon. These were primarily short-hand abbreviations of full words (e.g. “thx”) or emoticons (e.g. “:-)”), which may be a reflection of the 140 character limit of Twitter comments.\\nCollection dates then continued on August 23, August 30, September 6, and September 13 in 2013 (referred to as period one) as the Twitter Search API allows for roughly the past week of data to be extracted at a given time. After analyzing the period one data, we chose to add an additional set of data collection points on October 25, November 1, November 8, and November 15 in 2013 (period two) for further tests of consistency. In total, 34,315 tweets were mined during this procedure. There were 1083 tweets with errors in decoding that were removed–this was primarily a result of non-standard character use, such as accented letters in foreign languages. A further 2765 duplicate tweets were removed, as the multiple mining points of the Twitter API created the possibility of redundancies. In total, 31,550 tweets were used in the ranking analysis.!!,!!content analysis\",\n",
              " '4. Research methods\\nContent analysis was used for this exploratory study. Content analysis is a research technique for “making replicable and valid inferences from texts (or other meaningful matter) to the contexts of their use” (Krippendorff, 2004, p. 18). Following Berg (2004), the content analysis in this study was undertaken in five steps.\\nAs the first step, as previously mentioned, this study developed a research framework based on the extended stress and coping model. This framework featured three interrelated areas, referent choices in customers’ perceived unfairness, responsibility attribution and negative emotions related to integrity issues.\\nIn the second stage, a complaint Web site for tourists (http://travel315.people.com.cn) was used for data collection. It is a specialized complaint platform mainly for outbound and domestic Chinese tourists, constructed by People’s Daily, China’s most widely circulated newspaper. Tourists can submit their complaints regarding travel agencies, tour guides, scenic spots and airlines to this Web site. A total of 336 complaints (January 2011-April 2013) against travel agencies and tour guides had accumulated on this Web site, among which 80 complaints were selected for analysis. These complaints that represent integrity issues in travel service were identified using two criteria:\\ncomplaints directed at traditional or online travel agencies; and\\nthe presence of keywords such as “integrity,” “(dis-)honesty/cheat,” and “(in-)consistency of words and deeds” in the complaints.\\nIn Step 3, following the framework designed earlier, the content of 80 complaints was analyzed and coded separately by two authors. The coders first reviewed the complaints and searched for related words such as “(un)fairness,” “responsibility” and “feeling” to identify the primary categories, then used an open coding process to identify the subcategories. In this process, not only the keywords, phrases and sentences were counted but also their meanings and implications were considered.\\nIn Step 4, the inter-rater reliability of content analysis was calculated using Cohen’s kappa. Kappa is a function of the ratio of agreements to disagreements in relation to expected frequencies. It is not a simple per cent agreement calculation but a measure accounting for chance agreements (Cohen, 1968). The inter-rater reliability values were 0.80 for perceived unfairness, 0.84 for responsibility attribution and 0.90 for specific emotions, which exceed the acceptable level of 0.70 (Downe-Wamboldt, 1992). The discrepancy in categorization was discussed to achieve consensus.\\nFinally, the frequency of the subcategories was calculated to analyze the prominent types of referents in perceived unfairness, types of responsibility attribution and negative emotions. Besides statistical analysis, some typical qualitative data were used to provide further information about customers’ cognitive and emotional responses. To achieve the first objective of the present study, the types of integrity issues were also classified and counted. Furthermore, a correspondence analysis was conducted to understand the relationships between types of integrity issues, referents in perceived fairness, responsibility attribution and negative emotions.!!,!!content analysis',\n",
              " '3. Methodology\\nPurposive sampling was adopted in this study to assess guest experiences with robots. In purposive sampling, samples deemed most appropriate for addressing a specific research question are selected (Buchmann, 2017). In this study, the selected samples are from four different hotels that have launched robotic service: Yotel in New York, Aloft Cupertino, Henn-na Hotel in Japan and Residence Inn Marriott LAX in Los Angeles. These four hotels were selected as they reflect different types of HRIs; at Henn-na Hotel, guests can interact with humanoid and zoomorphic robots at the front desk during check-in, while at Yotel New York, YOBOT, a functional robotic arm, helps guests store their luggage. At both Residence Inn Marriott LAX and Aloft Cupertino, guests can engage with robotic butlers, Wally and Boltr, respectively, for room service deliveries.\\nUser experiences with robots based on consumer reviews from these four hotels were collected from multiple social media websites to obtain a more comprehensive coverage. The websites include TripAdvisor, Agoda, Yelp and, Booking.com. Previous hospitality research has used these platforms to study consumer-generated reviews. For example, Yu et al. (2017) analyzed consumer reviews from TripAdvisor. Yang et al. (2017) collected customer reviews from Yelp; Viglia et al. (2016) included consumer reviews from Booking.com; and Wu et al. (2017) assessed customers’ experiences at hotels from Agoda.\\nConsumer-generated reviews are relevant because they can provide information, influence travel decisions (Inversini et al., 2009; Filieri et al., 2015) and shape perceptions about tourism products (Cox et al., 2009). In total, 329 online user-generated reviews were collected based on keywords such as “robot”, “robotic”, “Wally” (i.e. representing the specific name of the robots). The data gathering process involved the research team manually reading and re-reading each review. The reviews covered the period from September 2015 until April 2017.\\nThis study identified excerpts from the reviews and connected them to the five dimensions of user experiences in HRI using thematic analysis. Thematic analysis is a qualitative approach useful for identifying and analyzing a data set in rich detail (Braun and Clarke, 2006). For example, Tom Dieck et al. (2017) used thematic analysis according to external dimensions and relevant sub-themes to capture luxury hotel guests’ acceptance of social media networks. In line with this approach, this study captured informative excerpts from customer reviews to provide insights into how guests felt about HRI, how well they thought the robots served their purposes and how well the robots fitted their experiential context. The authors reviewed the extracts for each theme, and considered whether they formed a coherent pattern with identifiable distinction between themes. Next, the validity of the individual themes was considered in relation to the theoretical perspective of this study, which is based on the five dimensions for evaluating user experiences in HRIs. This refining and defining approach sought to convey the essence of what each theme (e.g. embodiment, emotions, human-oriented perceptions, feeling of security and co-experience) is about without trying to capture too much, or becoming too diverse and complex (Braun and Clarke, 2006).\\nTable I provides descriptions used for analysis across the five dimensions of user experiences in HRI. Words or phrases that suggested a similar context in each dimension were extracted. For example, “disappointment”, “disgust” and “anger” reflected negative emotions. Phrases that pertained to the dimension feeling of security included “[the robot] frightened my husband”; and “it scared me at first”. Both authors reviewed the excerpts presented in this study together to select those narratives that could bring out rich insights. In doing so, discrepancies were resolved through discussion.\\nThe present research recognizes that other studies in consumer-generated reviews have oftentimes presented quantitative results such as percentages of positive and negative responses per category in the findings. For example, Dickinger et al. (2017) summarized 3,094 customer reviews from TripAdvisor into percentages of positive reviews and negative reviews. In comparison to past studies on consumer-generated reviews, the number of reviews in this study is relatively small owing to the novel nature of robotics in hospitality. Consequently, extracting percentages and/or statistical tests highlighting robotics as generally “positive” (or “negative”) could be potentially misleading. Arriving at such a conclusion would be problematic as research in this area is still developing. Instead, the goal of this study is to connect relevant and interesting narratives that are insightful for understanding HRI based on the five dimensions for evaluating user experiences.!!,!!content analysis',\n",
              " '2. Data and results\\nThe database is composed of 105 thousand unique cruise reviews for 134 cruise vessels operated by 9 different cruise lines, for cruises between 1999 and 2016, posted on the major cruise-rating website (Cruise Critic: http://www.cruisecritic.com). To be specific, 5 mainstream (Carnival; Costa; MSC; NCL and Royal Caribbean) and 4 Premium cruise lines (Celebrity; Disney; Holland American and Princess) have been considered in our study.\\nThe use of online customer reviews published on a cruise guide website is a relatively well-established method in tourism studies (Zhang et al., 2013), as the number of surveys used could not be obtained with other traditional methods. Logically, one of the limitations is the risk of bias in the reviewer’s profile or the inflexibility of the attributes rated (Zhang et al., 2013). Specifically, in this case, the main limitation to working with ratings aggregated by vessel is that neither the time of year, nor the geographic location where the cruise took place can be included.\\nIt is, nonetheless, unlikely that any bias caused by these two variables would be significant. First, regarding the time of year, because the vast majority of cruises operate in a never-ending summer, always pursuing good temperatures. Thus, in October or November, when the temperatures start to fall, a ship that has spent the summer in the Eastern Mediterranean will transfer to the Caribbean, or to South America, or to the Arabian Peninsula, for example, to provide summer in winter. This continual geographic programming of vessels means that the vast majority of the ships considered in this study have been in a range of different geographic areas during the broad 1999–2016 period considered, and this will dilute any possible geographic bias. In addition, the rating system used on Cruisecritic.com aims to eliminate any such explicit geographic bias by requiring the passenger to rate the vessel and the ports of call/destinations separately.\\nTable 1 presents the definitions of the variables used in our model and their main descriptive statistics.\\nTable 1. Description of the Variables and their descriptive statistics.\\nVariable No. Obs. (dummies) Mean Median Std. dev.\\n1. Endogenous variable\\nReviewi: The mean rating given by cruise passengers in the reviews of the experience that they had on cruise ship i. – 68.925 72 11.808\\n\\n2. Explanatory variables\\nShip/Cruise Line Attributes\\nNormalCapi: Normal capacity (accommodation in double cabins) for cruise ship i (number of passengers). – 2719.388 2550 947.918\\nSizei: Size of cruise ship i expressed as a tonnage (GT). – 101612.3 92663.5 36018.33\\nSizei/NormalCapi: The ratio between the size of cruise ship i in GT and the normal capacity of cruise ship i as the number of passengers – 37.75174 37.74267 5.525193\\nAgei: Cruise ship i’s age as a number of months (as of December, 2016). – 154.605 158.5 77.792\\nCosti: Cost of cruise ship i expressed in millions of real 2016 USD. – 613.267 564.757 229.109\\nNorth_Europei: Dummy variable that takes a value of 1 if cruise ship i was built in a shipyard in the north of Europe, 0 otherwise. 55 0.410 0 0.494\\nJapani: Dummy variable that takes a value of 1 if cruise ship i was built in a shipyard in Japan, 0 otherwise. 2 0.015 0 0.122\\nPremiumi: Dummy variable that takes a value of 1 if cruise ship i is the property of a Premium cruise line, 0 otherwise. 45 0.336 0 0.474\\nCrewi/NormalCapi: Ratio between the number of crew members on cruise ship i and cruise ship i’s normal passenger capacity (number of passengers). – 0.403 0.409 0.073\\nExperiencei: Number of years that the cruise line for vessel i has been operating in the market. – 40.5 45 10.484\\nOnline Reviews\\nNo. reviewsi: Total number of reviews for cruise ship i. – 783.776 795.5 506.503\\nNewcomersi/No. reviewsi: number of reviews of cruise ship i made by first time cruise passengers and the total number of reviewers for cruise ship i. – 6.086 5.760 3.735\\nFamilyi/No. reviewsi: ratio between the number of reviews for cruise ship i that choose the “family trip” option as the main motivation for their cruise and the total number of reviews for cruise ship i. – 22.596 20.973 10.839\\nRevieweditori: The numeric value of the review made by a Cruisecritic editor of his/her experience on cruise ship i (for only 128 of the 134 vessels). – 4.063 4 0.435\\nTable 2 gives the results of the estimates, namely Ordinary Least Squares linear regressions. These estimates have taken into account the strong correlations expected among several of the explanatory variables used, for example, between Log(Sizei) and Log(NormalCapi), as both of these variables measure vessel size, the first in GT and the second by number of passengers. Notwithstanding, all the variance inflation factors of all the estimates are well below 5.\\nTable 2. Estimates for the dependent variable: Log(Reviewi).\\nIndependent Variables Model I Model II Model III Model IV Model V Model VI\\nShip/Cruise Line Attributes\\nLog(NormalCapi) – – −0.1330 (0.0515)** – – −0.1241 (0.0479)**\\nLog(Sizei) −0.0846 (0.0278)!!,!!content analysis']"
            ]
          },
          "metadata": {
            "tags": []
          },
          "execution_count": 40
        }
      ]
    },
    {
      "cell_type": "code",
      "metadata": {
        "colab": {
          "base_uri": "https://localhost:8080/"
        },
        "id": "bLLZJzywRLVr",
        "outputId": "f6301444-7fb5-42ba-e9ae-d4bf623a80aa"
      },
      "source": [
        "train_data = [tuple(t.split(\"!!,!!\")) for t in train_list]\n",
        "valid_data = [tuple(t.split(\"!!,!!\")) for t in valid_list]\n",
        "\n",
        "train_data[:5]"
      ],
      "execution_count": null,
      "outputs": [
        {
          "output_type": "execute_result",
          "data": {
            "text/plain": [
              "[(\"Methodology\\nA qualitative study employing content analysis was used to answer the research questions. General managers from seven hotels in two Midwestern cities were asked to share letters written by hotel guests that described a positive experience at the respective property. A total of 119 letters were collected from customers who wrote to the hotels expressing their delight with a recent hotel experience. These letters were either hand written or word-processed and were unsolicited by the properties or their managers. All hotels were four star/diamond hotels according to Mobile (now Forbes) or the American Automobile Association (AAA), respectively. Of these letters, 105 were considered usable responses for the purpose of the study. A total of 14 letters (the difference between the 119 letters received and the 105 letters analyzed) were not considered usable responses. Most of these letters were letters of complaint, which although interesting for determining customer outrage, were not the focus of this study. To analyze such letters, a codebook was developed based on an extensive literature review. There were several studies that helped craft the codebook. One such study was Schneider and Bowen's (1999) human needs model to customer delight, in which it was proposed that the needs for esteem, security and self-esteem are likely to generate customer delight. Kumar et al. (2001) proposed that delight was composed of joy, thrill or exuberance. These factors were also used in the codebook. Cook et al. (2002) identified human factors such as professionalism and friendliness that are relevant to service design. Patterson (1997) signaled that effective problem resolution could potentially lead to delight. Keinningham et al. (2001) suggested that when customers go beyond a zone of tolerance, they will experience delight. Finally, Torres and Kline (2006) proposed a model to customer delight in the hotel industry. All of these studies contributed to the development of a codebook for customer delight.\\nAfter the codebook (see Appendix) was developed, letters were formally coded using a process of content analysis. According to Iverson (2002), content analysis has several advantages:\\nFirst, it helps researchers analyze people's account of an event without taking away its power or eloquence. Content analysis consists of multiple steps, beginning with the development of categories, followed by coding of the material and ending with the statistical analysis of data. This method is suitable for increasing knowledge of subjects that have received little previous attention (Iverson, 2000).\\nThe letters were evaluated for the presence of each code and frequency counts were obtained. Letters were read at least three times by the primary researcher.\\nThe analysis followed both an inductive and a deductive process. The codebook was initially developed based on the review of the literature. However, as the coders read the letters; new themes emerged. Consequently, the codebook was modified to contain all of the relevant themes from the letters of feedback, as well as the information from the relevant literature. In light of this, the process both utilized information from the literature and also utilized the documents themselves to draw additional themes and patterns. The first rater coded all letters. After all the coding was completed, the frequencies of each code were counted.\\nA second rater evaluated and coded a stratified random sample (33 letters – 31.43 percent). Raters possessed expertise in the area of customer delight and used the same codebook for reviewing the letters. Stratified random sampling was deemed helpful, as the letters came from several hotels. In order to avoid having all letters from the same property, the researchers decided to adopt such sampling technique. The second rater evaluated the letters once and attained a satisfactory level of agreement (over 80 percent in the first round). Then both reviewers met and analyzed the areas of agreement and disagreement, ultimately making final coding decisions. Inter-rater reliability was calculated using the percentage of agreements and κ value. The assessment of reliability showed substantial agreement among the raters (92.93 percent agreement, 0.7192\\u2009κ). Consequently, the study attained an acceptable level of agreement and an acceptable κ value. As an additional step, once all the universal themes for customer delight were determined, the researchers evaluated the letters of each property to determine whether property-specific trends existed. In essence, the purpose of that particular step was to determine whether hotels differ in their service culture and whether some hotels are better at certain types of delight, as compared to others.\",\n",
              "  'content analysis'),\n",
              " (\"3. Methodology\\nThis study uses a dictionary-based method to analyze social media microblogging data from Twitter. Data for this study was acquired from the Twitter application programming interface (API). The Twitter API is a backend server that warehouses all individuals’ tweets and enables data collection by the public. The site allows roughly the past week of historical data to be extracted from its database (Twitter, 2015). While there are many methods that can be used to mine this data, we follow an approach adapted from Elder et al. (2012), and use the TwitteR package for the R programming language (Gentry, 2013). We also use the most recent version of Hu and Liu's (2004) sentiment lexicon to determine the sentiment orientation of the online text.\\nTwitteR provides a well-documented and accessible means to extract data into a commonly used data mining statistical program (KDnuggets, 2012). TwitteR is useful for many different data mining procedures, but one form that can be particularly useful to tourism firms is the searchTwitter function, which retrieves any tweet containing a specified text string. This can, for example, be used to identify any tweet mentioning a corporate Twitter account. A searchTwitter query for “@hotelxyz” will return any tweet, by any Twitter user, who mentioned that hotel's username.\\nThe data mining frame used in this study was to retrieve any tweet that included an active integrated-resort username from the Las Vegas metropolitan area. We define the scope of Las Vegas as the Las Vegas Valley metropolitan area, and include only Twitter verified accounts or non-verified accounts with at least 5000 followers. Las Vegas is a useful market for examining this data mining procedure since it contains a large cluster of different branded hospitality firms that face similar market-wide conditions, and many of these properties have a large number of Twitter followers. In total, 34 properties (and associated Twitter accounts) were used as part of this study. The list of accounts/properties is provided in Appendix A, along with their Twitter account parameters.\\nTo compare the social media satisfaction scores, a sentiment index was built using the data mined tweets. The sentiment score was constructed by scoring the tweet text for positive and negative words using Hu and Liu's (2004) sentiment lexicon. The sentiment score followed method used in Elder et al. (2012), where each positive word added a point to the total score and each negative word removed a point–there are no points added or subtracted for neutral words. The properties were then compared on two criteria: the average (mean) tweet sentiment score for any tweet that mentioned their corporate username (average score) and the ratio of positively scored tweets to negatively scored tweets for any tweet that mentioned their corporate username (ratio score). The average score is defined more formally as,\\nAverage\\u2009\\u200a\\u200aScoreRt=∑i=1nPosRit−∑i=1nNegRit/nRt\\nwhere the average score at time = t is the difference between the sum of positive (Pos) individual words appearing in tweet i of n total tweets, and negative (Neg) individual words appearing in tweets (also from i of n), divided by the total number of tweets, for any tweet that mentions resort R.\\nThe ratio score is defined more formally as,\\nRatio\\u2009\\u200a\\u200aScoreRt=∑ni=1PTRit∑ni=1NTRit\\nwhere,\\nPTRit=1\\u2003if\\u2003PosRit−NegRit>00Otherwise\\nNTRit=1\\u2003if\\u2003PosRit-NegRit<00Otherwise\\nThe ratio score is computed as the ratio of overall positive tweets (PT) i of n at time t, to overall negative tweets (NT) i of n at time t. More simply, in a given time period, the sum of all the positive tweets for a given operator are compared to the sum of all negative tweets, and any neutral tweets are discarded. We illustrate these two scoring methods with a short example of two hypothetical tweets: 1) “Had a great time @AriaLV. Liked the hotel despite the noise at night,” and 2) “The @AriaLV buffet was awful.” Both these examples would be linked to the @AriaLV corporate account. The first tweet had two positive words (underlined) and one negative word (italicized), and the second tweet has one negative word. The average score for @AriaLV would therefore be: 2+0−1+1/2=0, since there are two positive words in the first tweet and none in the second, along with one negative word in each tweet. The ratio score would be: 1/1 =1, since there is one overall positive tweet and one overall negative tweet.\\nThe average score provides a useful baseline to understand each firm's relative sentiment, while the ratio score provides a more meaningful overview of the most polarizing opinions, since it ignores tweets with sentiment scores of zero. The internal validity of the scores is compared using Cronbach's alpha, and concurrent validity is tested by comparing the measures to online rankings from travel review site, TripAdvisor, another source of EWOM. While we expect some levels of positive correlation between all of these metrics, we also expect a reasonable amount of variation that reflects different response time, demographics, and indirect measurement involved in a Twitter based interaction.\\nA pilot test of the data extraction and cleaning procedure was conducted on August 16, 2013, which led to some analysis modifications. Based on findings from the pilot test, tweets that were sent from certain source platforms were pre-screened, since there was a high percentage of fake accounts that could be identified on certain outgoing platforms (e.g. constant account activity over several 24 h periods). Twitter is similar to other online sites in terms of false reviews, such as Yelp or TripAdvisor, but the richness in data may yield a more effective means to screen some of these false accounts. If some valid accounts were eliminated as a result of this prescreening, we expect this bias to be consistent across all properties. We expect this outcome to be much less biased than the alternative, as the overly positive “shill” accounts all favored properties belonging to a single corporate entity. We also chose to remove retweeted messages—a single message that was retweeted from many accounts could bias the results toward a single user's opinion. In particular, this bias would lean toward celebrities and corporate accounts with large numbers of followers that can retweet messages. After examining the tweets’ scores in the pilot data, several words were then added to the lexicon to reflect commonly used positive/negative words that were absent from the lexicon. These were primarily short-hand abbreviations of full words (e.g. “thx”) or emoticons (e.g. “:-)”), which may be a reflection of the 140 character limit of Twitter comments.\\nCollection dates then continued on August 23, August 30, September 6, and September 13 in 2013 (referred to as period one) as the Twitter Search API allows for roughly the past week of data to be extracted at a given time. After analyzing the period one data, we chose to add an additional set of data collection points on October 25, November 1, November 8, and November 15 in 2013 (period two) for further tests of consistency. In total, 34,315 tweets were mined during this procedure. There were 1083 tweets with errors in decoding that were removed–this was primarily a result of non-standard character use, such as accented letters in foreign languages. A further 2765 duplicate tweets were removed, as the multiple mining points of the Twitter API created the possibility of redundancies. In total, 31,550 tweets were used in the ranking analysis.\",\n",
              "  'content analysis'),\n",
              " ('4. Research methods\\nContent analysis was used for this exploratory study. Content analysis is a research technique for “making replicable and valid inferences from texts (or other meaningful matter) to the contexts of their use” (Krippendorff, 2004, p. 18). Following Berg (2004), the content analysis in this study was undertaken in five steps.\\nAs the first step, as previously mentioned, this study developed a research framework based on the extended stress and coping model. This framework featured three interrelated areas, referent choices in customers’ perceived unfairness, responsibility attribution and negative emotions related to integrity issues.\\nIn the second stage, a complaint Web site for tourists (http://travel315.people.com.cn) was used for data collection. It is a specialized complaint platform mainly for outbound and domestic Chinese tourists, constructed by People’s Daily, China’s most widely circulated newspaper. Tourists can submit their complaints regarding travel agencies, tour guides, scenic spots and airlines to this Web site. A total of 336 complaints (January 2011-April 2013) against travel agencies and tour guides had accumulated on this Web site, among which 80 complaints were selected for analysis. These complaints that represent integrity issues in travel service were identified using two criteria:\\ncomplaints directed at traditional or online travel agencies; and\\nthe presence of keywords such as “integrity,” “(dis-)honesty/cheat,” and “(in-)consistency of words and deeds” in the complaints.\\nIn Step 3, following the framework designed earlier, the content of 80 complaints was analyzed and coded separately by two authors. The coders first reviewed the complaints and searched for related words such as “(un)fairness,” “responsibility” and “feeling” to identify the primary categories, then used an open coding process to identify the subcategories. In this process, not only the keywords, phrases and sentences were counted but also their meanings and implications were considered.\\nIn Step 4, the inter-rater reliability of content analysis was calculated using Cohen’s kappa. Kappa is a function of the ratio of agreements to disagreements in relation to expected frequencies. It is not a simple per cent agreement calculation but a measure accounting for chance agreements (Cohen, 1968). The inter-rater reliability values were 0.80 for perceived unfairness, 0.84 for responsibility attribution and 0.90 for specific emotions, which exceed the acceptable level of 0.70 (Downe-Wamboldt, 1992). The discrepancy in categorization was discussed to achieve consensus.\\nFinally, the frequency of the subcategories was calculated to analyze the prominent types of referents in perceived unfairness, types of responsibility attribution and negative emotions. Besides statistical analysis, some typical qualitative data were used to provide further information about customers’ cognitive and emotional responses. To achieve the first objective of the present study, the types of integrity issues were also classified and counted. Furthermore, a correspondence analysis was conducted to understand the relationships between types of integrity issues, referents in perceived fairness, responsibility attribution and negative emotions.',\n",
              "  'content analysis'),\n",
              " ('3. Methodology\\nPurposive sampling was adopted in this study to assess guest experiences with robots. In purposive sampling, samples deemed most appropriate for addressing a specific research question are selected (Buchmann, 2017). In this study, the selected samples are from four different hotels that have launched robotic service: Yotel in New York, Aloft Cupertino, Henn-na Hotel in Japan and Residence Inn Marriott LAX in Los Angeles. These four hotels were selected as they reflect different types of HRIs; at Henn-na Hotel, guests can interact with humanoid and zoomorphic robots at the front desk during check-in, while at Yotel New York, YOBOT, a functional robotic arm, helps guests store their luggage. At both Residence Inn Marriott LAX and Aloft Cupertino, guests can engage with robotic butlers, Wally and Boltr, respectively, for room service deliveries.\\nUser experiences with robots based on consumer reviews from these four hotels were collected from multiple social media websites to obtain a more comprehensive coverage. The websites include TripAdvisor, Agoda, Yelp and, Booking.com. Previous hospitality research has used these platforms to study consumer-generated reviews. For example, Yu et al. (2017) analyzed consumer reviews from TripAdvisor. Yang et al. (2017) collected customer reviews from Yelp; Viglia et al. (2016) included consumer reviews from Booking.com; and Wu et al. (2017) assessed customers’ experiences at hotels from Agoda.\\nConsumer-generated reviews are relevant because they can provide information, influence travel decisions (Inversini et al., 2009; Filieri et al., 2015) and shape perceptions about tourism products (Cox et al., 2009). In total, 329 online user-generated reviews were collected based on keywords such as “robot”, “robotic”, “Wally” (i.e. representing the specific name of the robots). The data gathering process involved the research team manually reading and re-reading each review. The reviews covered the period from September 2015 until April 2017.\\nThis study identified excerpts from the reviews and connected them to the five dimensions of user experiences in HRI using thematic analysis. Thematic analysis is a qualitative approach useful for identifying and analyzing a data set in rich detail (Braun and Clarke, 2006). For example, Tom Dieck et al. (2017) used thematic analysis according to external dimensions and relevant sub-themes to capture luxury hotel guests’ acceptance of social media networks. In line with this approach, this study captured informative excerpts from customer reviews to provide insights into how guests felt about HRI, how well they thought the robots served their purposes and how well the robots fitted their experiential context. The authors reviewed the extracts for each theme, and considered whether they formed a coherent pattern with identifiable distinction between themes. Next, the validity of the individual themes was considered in relation to the theoretical perspective of this study, which is based on the five dimensions for evaluating user experiences in HRIs. This refining and defining approach sought to convey the essence of what each theme (e.g. embodiment, emotions, human-oriented perceptions, feeling of security and co-experience) is about without trying to capture too much, or becoming too diverse and complex (Braun and Clarke, 2006).\\nTable I provides descriptions used for analysis across the five dimensions of user experiences in HRI. Words or phrases that suggested a similar context in each dimension were extracted. For example, “disappointment”, “disgust” and “anger” reflected negative emotions. Phrases that pertained to the dimension feeling of security included “[the robot] frightened my husband”; and “it scared me at first”. Both authors reviewed the excerpts presented in this study together to select those narratives that could bring out rich insights. In doing so, discrepancies were resolved through discussion.\\nThe present research recognizes that other studies in consumer-generated reviews have oftentimes presented quantitative results such as percentages of positive and negative responses per category in the findings. For example, Dickinger et al. (2017) summarized 3,094 customer reviews from TripAdvisor into percentages of positive reviews and negative reviews. In comparison to past studies on consumer-generated reviews, the number of reviews in this study is relatively small owing to the novel nature of robotics in hospitality. Consequently, extracting percentages and/or statistical tests highlighting robotics as generally “positive” (or “negative”) could be potentially misleading. Arriving at such a conclusion would be problematic as research in this area is still developing. Instead, the goal of this study is to connect relevant and interesting narratives that are insightful for understanding HRI based on the five dimensions for evaluating user experiences.',\n",
              "  'content analysis'),\n",
              " ('2. Data and results\\nThe database is composed of 105 thousand unique cruise reviews for 134 cruise vessels operated by 9 different cruise lines, for cruises between 1999 and 2016, posted on the major cruise-rating website (Cruise Critic: http://www.cruisecritic.com). To be specific, 5 mainstream (Carnival; Costa; MSC; NCL and Royal Caribbean) and 4 Premium cruise lines (Celebrity; Disney; Holland American and Princess) have been considered in our study.\\nThe use of online customer reviews published on a cruise guide website is a relatively well-established method in tourism studies (Zhang et al., 2013), as the number of surveys used could not be obtained with other traditional methods. Logically, one of the limitations is the risk of bias in the reviewer’s profile or the inflexibility of the attributes rated (Zhang et al., 2013). Specifically, in this case, the main limitation to working with ratings aggregated by vessel is that neither the time of year, nor the geographic location where the cruise took place can be included.\\nIt is, nonetheless, unlikely that any bias caused by these two variables would be significant. First, regarding the time of year, because the vast majority of cruises operate in a never-ending summer, always pursuing good temperatures. Thus, in October or November, when the temperatures start to fall, a ship that has spent the summer in the Eastern Mediterranean will transfer to the Caribbean, or to South America, or to the Arabian Peninsula, for example, to provide summer in winter. This continual geographic programming of vessels means that the vast majority of the ships considered in this study have been in a range of different geographic areas during the broad 1999–2016 period considered, and this will dilute any possible geographic bias. In addition, the rating system used on Cruisecritic.com aims to eliminate any such explicit geographic bias by requiring the passenger to rate the vessel and the ports of call/destinations separately.\\nTable 1 presents the definitions of the variables used in our model and their main descriptive statistics.\\nTable 1. Description of the Variables and their descriptive statistics.\\nVariable No. Obs. (dummies) Mean Median Std. dev.\\n1. Endogenous variable\\nReviewi: The mean rating given by cruise passengers in the reviews of the experience that they had on cruise ship i. – 68.925 72 11.808\\n\\n2. Explanatory variables\\nShip/Cruise Line Attributes\\nNormalCapi: Normal capacity (accommodation in double cabins) for cruise ship i (number of passengers). – 2719.388 2550 947.918\\nSizei: Size of cruise ship i expressed as a tonnage (GT). – 101612.3 92663.5 36018.33\\nSizei/NormalCapi: The ratio between the size of cruise ship i in GT and the normal capacity of cruise ship i as the number of passengers – 37.75174 37.74267 5.525193\\nAgei: Cruise ship i’s age as a number of months (as of December, 2016). – 154.605 158.5 77.792\\nCosti: Cost of cruise ship i expressed in millions of real 2016 USD. – 613.267 564.757 229.109\\nNorth_Europei: Dummy variable that takes a value of 1 if cruise ship i was built in a shipyard in the north of Europe, 0 otherwise. 55 0.410 0 0.494\\nJapani: Dummy variable that takes a value of 1 if cruise ship i was built in a shipyard in Japan, 0 otherwise. 2 0.015 0 0.122\\nPremiumi: Dummy variable that takes a value of 1 if cruise ship i is the property of a Premium cruise line, 0 otherwise. 45 0.336 0 0.474\\nCrewi/NormalCapi: Ratio between the number of crew members on cruise ship i and cruise ship i’s normal passenger capacity (number of passengers). – 0.403 0.409 0.073\\nExperiencei: Number of years that the cruise line for vessel i has been operating in the market. – 40.5 45 10.484\\nOnline Reviews\\nNo. reviewsi: Total number of reviews for cruise ship i. – 783.776 795.5 506.503\\nNewcomersi/No. reviewsi: number of reviews of cruise ship i made by first time cruise passengers and the total number of reviewers for cruise ship i. – 6.086 5.760 3.735\\nFamilyi/No. reviewsi: ratio between the number of reviews for cruise ship i that choose the “family trip” option as the main motivation for their cruise and the total number of reviews for cruise ship i. – 22.596 20.973 10.839\\nRevieweditori: The numeric value of the review made by a Cruisecritic editor of his/her experience on cruise ship i (for only 128 of the 134 vessels). – 4.063 4 0.435\\nTable 2 gives the results of the estimates, namely Ordinary Least Squares linear regressions. These estimates have taken into account the strong correlations expected among several of the explanatory variables used, for example, between Log(Sizei) and Log(NormalCapi), as both of these variables measure vessel size, the first in GT and the second by number of passengers. Notwithstanding, all the variance inflation factors of all the estimates are well below 5.\\nTable 2. Estimates for the dependent variable: Log(Reviewi).\\nIndependent Variables Model I Model II Model III Model IV Model V Model VI\\nShip/Cruise Line Attributes\\nLog(NormalCapi) – – −0.1330 (0.0515)** – – −0.1241 (0.0479)**\\nLog(Sizei) −0.0846 (0.0278)',\n",
              "  'content analysis')]"
            ]
          },
          "metadata": {
            "tags": []
          },
          "execution_count": 41
        }
      ]
    },
    {
      "cell_type": "code",
      "metadata": {
        "colab": {
          "base_uri": "https://localhost:8080/"
        },
        "id": "z2TphkBwQOh7",
        "outputId": "001c13e8-3c1a-4079-bf4e-5d8ef247d516"
      },
      "source": [
        "valid_data[:5]"
      ],
      "execution_count": null,
      "outputs": [
        {
          "output_type": "execute_result",
          "data": {
            "text/plain": [
              "[('Methodology\\nThis study used an online content analysis of Airbnb user-generated reviews in Malta. Malta was chosen as a tourist destination in which Airbnb is causing a considerable socio-economic impact, at a time when the sharing economy is thriving in an island, where the gross domestic product is affected and generated to a high degree by tourists. Analysing online reviews of prior occurred guest–host interactions was determined as a useful way to capture foregone practices and understand how value outcomes were eventually formed. A similar approach was adopted in recent studies, using online content analysis and online reviews in tourism (Holcomb et al., 2010; O’Connor, 2010), with Brejla and Gilbert (2014) using the method to explore value co-creation in cruise tourism, while Smaliukiene et al. (2015) used a netnographic approach to study value co-creation in online travel services.\\nFor data collection, Maltese Airbnb property reviews were manually identified and extracted in June 2016. A purposive, non-probability sampling was used, as not all the textual population was considered as equally informative (Neuendorf, 2002). To guarantee that only relevant reviews were extracted, a set of inclusion and exclusion criteria of textual units was developed, while carefully considering that any omissions would not impoverish the analysis (Krippendorff, 2013). Sampling criteria included:\\nposts on host profiles of property listings in Malta with ten or more reviews, with host responses to guest reviews counting as a separate post, while excluding;\\nposts associated with property listings in Gozo (to focus solely on the island of Malta);\\nautomated postings, including cancelled reservations before guests’ arrival; and\\nposts of personal references.\\nAfter a selection and cleaning process, a total of 850 review posts were manually extracted, ensuring that the underlying research purpose could be answered with sufficient confidence (Krippendorff, 2013). The data set was then imported and analysed by means of NVivo 11 Pro. Following the principles of a qualitative thematic analysis process (Miles and Huberman, 1994; Rishi and Gaur, 2012), a comprehensive six-phase coding strategy was used, which is visualised in Figure 1. In a preliminary familiarisation process, every review was read in its entirety, understood and then categorised by the authors to guarantee that the overall sentiment of the review was preserved in subsequent coding-on stages.\\nSecond, Echeverri and Skålén’s (2011) framework together with notes from the familiarisation stage were integrated in an a priori framework, which was used for an initial round of “broad brush coding”, while keeping an open mind to inductively identify emerging codes and patterns. This was followed by a detailed coding-on, distilling and sorting process towards the development of the final validated themes for the theoretical framework of this study. Figure 1 also represents an example of a coding extract, depicting several layers of corresponding codes assigned to a sample Airbnb review.\\nThis transparent multi-phase coding process by multiple authors, along with researcher reflexivity and prolonged data engagement was critical to strengthen the reliability and transferability of the findings (Altinay and Paraskevas, 2008; Morse et al., 2002). An inter-coder reliability test was performed, by selecting five pages of data randomly, which were coded independently by the researchers. For reviews with thematic disparities in the coding, the researchers adopted an iterative process and re-coded them together until consensus was reached (Camprubí and Coromina, 2016; Neuendorf, 2002).\\nAdditionally, language was used directly from Airbnb posts for labelling, known as “in-vivo-coding”, such as “good value for money” to preserve the authenticity of participant expressions in the final results. Emerging codes were compared with the existing literature to strengthen internal validity (Altinay and Paraskevas, 2008). The thematic analysis process resulted in the emergence of distinct themes of social practices, practice elements and value formations, which are presented in the findings section next.',\n",
              "  'content analysis'),\n",
              " ('3. Research methodology\\nThe present research aims to use CIT in conjunction with PRCA, and is thus exploratory, with a convenience sample of respondents. As explained in the literature review section, the current study uses CIT as a methodology for data collection and processing. However, it does not use the classic CIT interview procedure. Instead, we use the approach of Ee Kim and Lehto (2012), collecting data from the narrative experiences publicized on TripAdvisor. The critical incidents are classified into 25 dimensions, which are used as antecedents of customers’ general evaluations of hotels’ service quality. We analyze the influence of these incidents on the general evaluation of service quality using stepwise linear regression analysis, carried out by SPSS Version 8.\\nAs price influences expectations and, as a consequence, customer satisfaction (Voss et al., 1998, Kashyap and Bojanic, 2000), we use the hotels’ price as a control variable, in order to control for the impact of customer expectations regarding the hotel.\\n3.1. Researched dimensions of critical incidents\\nAccording to Flanagan (1954), the list of headings on a CIT checklist should be comprehensive and cover all important dimensions. In the present study, we use dimensions based on the hospitality industry model, taken mainly from the studies of Cadotte and Turgeon (1988), Pizam and Ellis (1999), Akbaba (2006), and Ramanathan and Ramanathan (2011) (see Table 2).\\nTable 2. Dimensions of hospitality service quality evaluated in the present research.\\nDimension Description\\nAvailability of parking Safety and comfort of the area in which the customer has to leave their vehicle\\nRoom noise level Silence inside the room\\nHours of operation Convenience of operating hours of the hotel and its facilities (restaurant, laundry, etc.)\\nCleanliness of establishment Cleanliness of the rooms, bathrooms and common areas\\nNeatness of establishment Condition of hotel’s equipment; modern-looking environment (furniture, air conditioner, elevator, communication devices, etc.)\\nComfort Comfort of hotel atmosphere and facilities (comfortable and clean beds, chairs, bedrooms, etc.)\\nEmployees’ appearance Neatness and tidiness of employees’ appearance (uniforms and personal grooming)\\nResponsiveness to complaints Speed in correcting eventual failures\\nQuality and variety of food and beverages Breakfast, restaurant options, and room service\\nPrice of food and beverages Price of food and beverages not included in the daily hotel services\\nAttitudes of employees Helpfulness, politeness, and kindness\\nManagers’ knowledge of the service Managers’ professional knowledge (professional skills, foreign languages, communication skills, etc.), and preparedness to provide information and assistance to customers regarding shops, museums, places of interest, etc.\\nUniformity of establishment appearance Visually appealing and modern buildings and facilities\\nQuality of advertising Provision of services as advertised\\nConvenience of location Close to points of interest\\nQuietness of the surroundings Noise; safe to walk on the streets\\nAccuracy of bill No errors found on the bill during check-out\\nReservations system Information about hotel’s facilities and services; ease of reservation process (information via phone, Internet, etc.; directional signs; etc.).\\nService flexibility Flexibility of hotel’s services in response to guest demands\\nAccess Ease of access to the hotel (transportation, loading and unloading area, parking lot, etc.)\\nAvailability of accommodation requested Rooms available when requested; no overbooking\\nAvailability of additional facilities Availability and quality of Internet, gym, pool, elevator, etc.\\nCheck-in/check-out time Efficiency and speed at check-in or check-out\\nHotel value Good service for the best possible price\\nWi-Fi/Internet connection Availability and quality of Internet connection in bedrooms\\nAfter defining the dimensions, the first step in the present research was to collect data from the TripAdvisor website. An attractive characteristic of TripAdvisor is the availability, variety, and reliability of user reviews (Banerjee and Chua, 2016). Besides making comments, guests are asked to rate the hotel’s performance on TripAdvisor using a five-point Likert scale. At the time of the present research, the rating encompassed seven different factors, namely: hotel value, location, sleep quality, rooms, cleaning, services, and general evaluation.\\n3.2. Dependent variable based on TripAdvisor dimensions\\nSome studies have argued that using multiple-item scales in questionnaires to measure respondents’ self-reports or self-evaluations of specific aspects offers no advantage over using a single-item scale (Gardner et al., 1998, Loo, 2002, Bergkvist and Rossiter, 2007). On the other hand, other authors have defended the use of multiple items in the scale (Kempen, 1992, Sarstedt and Wilczynski, 2009).\\nBergkvist and Rossiter (2007) showed that a single-item measure demonstrates equally high predictive validity compared to a multiple-item measure, yet cited several other researches who have suggested otherwise, commenting that multiple-item scales better explain the problem if they are measuring a subject with more than one component (multiple-item objects). As hotel services have several components (comfort, location, safety, etc.), it was considered better in this study to use an evaluation measuring different aspects.\\nIn this way, we first confirmed whether all the TripAdvisor dimensions available to be graded by customers (hotel value, location, sleep quality, rooms, cleanliness, service, and overall evaluation) were valid in order to compose a general dependent variable. All the factors presented significant correlations with one another. A confirmatory factor analysis revealed that these variables explained one general dimension, yielding only one factor with an eigenvalue of 4.48, and explaining 63.98% of the variance. The reliability of the factor measured by Cronbach’s alpha was 0.904, which is higher than the minimum value of 0.6 (Hair et al., 2006). Following confirmation of the reliability of the scale used by customers, we used the arithmetic mean of each hotel review as output to measure the magnitude of the impact of critical incidents on customers’ general evaluation of the hotel.\\n3.3. Data collection\\nData collection was carried out in June 2014. The sample comprised 93 three-star hotels located in Rio de Janeiro, Brazil, reported on the TripAdvisor website. We used only three-star hotels from a single city in order to reduce the variance of expectations with the hotels, and motives regarding the city and the trip itself. Of the 21,759 reviews of these hotels present on TripAdvisor during data collection, we randomly drew 400 comments, representing 18.4% of the total. The sample was drawn proportionally to the number of comments regarding each hotel, and the reviews were selected randomly from the comments on each hotel. For example, if a hotel had 200 reviews, this represented 0.9% of total evaluations. Thus, two reviews of this hotel were randomly extracted.\\nIn the next step, two independent researchers analyzed the comments in each review, identifying and classifying them as positive or negative, as shown in Table 3. The comments classifications were compared, and discrepancies between researchers discussed and overcome. If there were positive and negative comments in the same review, both comments were extracted and categorized. Each row in Table 3 contains the title of the reviews extracted from TripAdvisor (very good, wonderful, good location, terrible, and others) and the results of the categorization of customers’ comments; the columns contain the factors analyzed (based on the hospitality model). The table is divided into two parts—positive and negative events—depending on customers’ evaluations (Table 3).\\nTable 3. An example of the CIT checklist and data collected from TripAdvisor.\\nReview Title on TripAdvisor Hotel Name Reward Incident Penalty Incident TripAdvisor Evaluations\\nDim 1 Dim 2 Dim 3 Dim n Dim 1 Dim2 Dim 3 Dim n Value Location Sleep Rooms Cleaning Services General\\nVery good hotel Hotel 1 1 1 1 0 0 0 0 1 5 4 5 5 4 5 5\\nWonderful Hotel 2 0 1 1 1 0 0 0 0 5 5 5 5 5 5 5\\nGood location Hotel 3 0 1 1 0 0 0 0 1 4 5 4 5 5 4 4\\nTerrible Hotel 4 0 0 0 0 1 1 1 0 1 3 2 3 1 2 2',\n",
              "  'content analysis'),\n",
              " ('Methodology\\nA nonprobability purposive sampling technique was used in the present study to gain insights on the general public’s attitude and perceptions towards the application of robot employees in the hotel industry. This study took YouTube as a reference point and data was collected in October 2018 and compilation completed on the same date. First, keywords such as “hotel staffed by robots” and “robot hotel” were entered into the search engine. Next, all the listed videos on YouTube were sorted out according to the number of views. The current study selected two videos as the representative samples because of two main reasons (Table 1). First, both videos appeared in the search results and ranked as the top two at the time this study was conducted. Second, the contents of both videos present similar ideas about the humanlike robot staff in one of the hotels in Japan. Due to the extensive comments available online, data was scrapped using the text mining technique through DataMiner (https://data-miner.io/). First, commonly known as writing a recipe, a row container that surrounds the data was identified, and items within the selected rows were extracted into columns. Once the columns were defined, all the identified data was scrapped and saved automatically into a CSV file.\\nTable 1. Top two videos searched on YouTube.\\nCSVDisplay Table\\nWith the nature of YouTube, apart from adding a public comment, one can reply to a specific comment as well. Nonetheless, comment-on-comments (i.e., dialogues) were not considered in the scope of this study. First, due to the restriction of DataMiner, only data in the same format could be extracted at once. That is, the analysis on dialogues might be unfeasible. Second, one presumes that the sampling is reliable since YouTube viewers are not active in responding to other comments and rarely comment on comments (Walther et al., 2010\\n). In total, there were 1,163 comments for Video A and 458 for Video B. In comparison to past studies on the analysis of online comments, the sample size of this study is relatively small since the robotic concepts are still in its infancy (Tung & Au, 2018\\n). Nevertheless, earlier literature analyzed 1,001 customer-generated feedbacks on Yahoo’s review system to discover the factors related to the rating of online merchants (Qu, Zhang, & Li, 2008\\n). Bogicevic, Yang, Bilgihan, and Bujisic (2013\\n) extracted 1,095 online reviews to analyze what influences there are on tourists’ perceptions towards airport service standards. With regards to the video content, both videos are about Henn-na Hotel in Japan, the first robot-run hotel. The videos contained various types of robots, including humanoid robots and a velociraptor robot at the front desk, a baby robot without legs, a giant gundam, a doll robot as concierge, Tapia (an egg-shape robot) and a bedside robot in the room, a trash robot, a bellhop cart for luggage delivery, and a cloak room robot. More specifically, only the humanoid robots and the baby robot demonstrate anthropomorphism while the bellhop cart and the cloak room robot have industrial features, with the rest of the robots possessing animated characteristics.\\nThe researcher proceeded to the data cleansing first by reading and re-reading all the extracted data, and to uncover the emerging patterns and themes within the data. Comments that were not in English or irrelevant to the robot video were screened out. Some examples included the comments related to the host in the video (e.g. “The host on this video is pretty cool. I like his personality”), and comments related to the background music (e.g. “[I] love the music in the beginning”). As a result, there was a total of 1,569 comments proceeded to the data analysis. Thematic content analysis was conducted in NVivo 11. A pre-coding scheme was developed based on the Godspeed dimensions (Bartneck et al., 2009\\n); namely, anthropomorphism, animacy, likeability, perceived intelligence, and perceived safety. Detailed coding categories are provided in Table 2. Moreover, comments unrelated to the scope of Godspeed scale were not coded for analysis (e.g. intentions to visit or concerns related to the employment, economy, and society). To ensure consistency and reliability, the coding procedure was repeated three times, in which, the purpose of the first time was to discover sub-themes within the data. Following typical procedure, the third coding task was conducted one week after the completion of the second coding task to avoid fatigue caused by the continuous coding process. Inter-coding similarity was tested by Cohen’s Kappa for the second and the third coding task to evaluate whether the comments were assigned to the same themes. The result reached 0.88, suggesting an excellent reliability and consistency in the coding (McHugh, 2012\\n).\\nTable 2. Summary of key quotes from Godspeed dimensions.\\nCSVDisplay Table',\n",
              "  'content analysis'),\n",
              " ('3. Methodology\\n3.1 Sample and data\\nWe collected 56,284 daily consumer reviews, among which 10,793 managerial responses attached to these reviews, for 1,045 hotels in five major hotel markets in Texas, namely, Austin, Dallas, Fort Worth, Houston and San Antonio, together with 30,232 quarterly performance records of these hotels over 26 quarters starting from 2005 Quarter 1 to 2011 Quarter 2. Specifically, the consumer reviews and managerial responses were retrieved from a major hotel review website in the hospitality industry, TripAdvisor. TripAdvisor serves as an online forum for consumers to comment based on their experience with hotels and for hotel managers to respond on a daily basis. The consumer reviews and managerial responses for listed hotels are posted on a daily basis and will be permanently presented on TripAdvisor. We developed a web crawler to download consumer reviews, managerial response and hotel characteristics (e.g. hotel class, size, age and amenities) from TripAdvisor and then parse the web pages into a database. Enabled by the web crawler, we were able to retrieve all the above-mentioned information from TripAdvisor since the inception of the website.\\nIn addition, we obtained quarterly performance records of these hotels, including the total hotel revenue and the room revenue from 2005 Quarter 1 to 2011 Quarter 2, from two research firms well-known for the data services to the hospitality industry (Source Strategies, Inc. and Trepp, LLC). To control for size effect, we scaled the revenue data by the number of available rooms to compute total revenue per available room (TRevPAR) and revenue per available room (RevPAR). Both TRevPAR and RevPAR are two key hotel performance metrics that are widely used in the hospitality industry (Mauri, 2012). We first aggregated the daily consumer reviews and managerial responses to the quarterly level and then matched them with the quarterly hotel performance records at the individual hotel level. That is, we intersected the data from two sources in a panel structure of hotel × quarter.\\nTable I provides descriptive statistics of the sample. The sampled hotels distribute across five city markets in Texas, including, Austin (15.22 per cent), Dallas (15.31 per cent), Fort Worth (8.13 per cent), Houston (32.44 per cent) and San Antonio (28.90 per cent). Most of the hotels in our sample are mid-market economy hotels (44.11 per cent), followed by full service hotels (27.75 per cent), budget traveler hotels (19.71 per cent), above average hotels (7.66 per cent) and luxury hotels (0.48 per cent).\\nTable II and Figure 3 present the distribution of consumer reviews versus managerial response. It is intriguing that consumer reviews with extreme ratings (one star most negative and five star most positive) tend to draw attention from hotel managers. Specifically, consumer reviews with the highest rating (five star) have the highest chance of receiving managerial response (44 per cent), followed by consumer reviews with the lowest ratings (1 out of 5) have a 28 per cent probability to receive managerial response. This finding supports the practice in the hospitality industry that managers not only respond to negative reviews with a strategy to recover service failure (Lee and Cranage, 2012; Sparks and Bradley, forthcoming) but also respond to positive reviews to reinforce compliments and praises (Hennig-Thurau et al., 2010).\\n3.2 Measures\\nWe checked the normality of our variables of interest and log transformed some highly skewed variables to improve the normality of the data for analysis rigor. Table III presents the variable definition and summary statistics. The hotel performance variables include the logarithm of total revenue per available room (logTRevPAR) and the logarithm of revenue per available room (logRevPAR) in a given quarter. Our consumer review variables consist of average rating (Rating), the logarithm of number of consumer reviews (logReviews) and the ratio of the number of managerial response to that of consumer reviews in a given quarter (ResponseRatio). Unlike prior research focusing on the absolute value of managerial response (Ye et al., 2010), we use managerial response ratio to correct the potential measurement bias caused by the difference in the base number of consumer reviews because of hotel characteristics such as size and age. Finally, we include hotel characteristics such as Class, Amenity, Size and Age as control variables in the estimation.\\n3.3 Model specification\\nWe exploit a blend of econometric models to estimate the effect of managerial response on consumer eWOM and hotel performance. The analysis challenge is to control for the potential bias because of the intrinsic, time-invariant unobservable hotel heterogeneity that may distort the estimation. To address the heterogeneity issue, we use fixed effects estimations to tease out the constant heterogeneity from the data through differencing. Accordingly, we start with the following panel model with fixed effects estimation for the average rating of hotel i at quarter t:\\nRatingit=β0+β1ResponseRatioit−1+\\u2009η1:n1Xit+\\u2009φ1:n2∏i+μi+λt+εit\\nwhere ResponseRatioit–1 is the lagged ratio of the number of managerial response to the number of reviews in previous quarter. We use managerial response ratio at t–1 because subsequent consumers often refer to managerial response made in previous period when they browse hotel review webpages. Xit is an n1 × 1 vector of the potentially time-varying hotel-specific hotel characteristics (i.e. Size and Age), whereas Πi is an n2 × 1 vector of the time-invariant hotel characteristics (i.e. Class and Amenity) that may influence the average rating. μi and λt are the dummies created at each time period and hotel observations to de-trend the fixed effects. Robust standard errors in our models are clustered on hotels. εit is the error term.\\nSimilarly, we then propose the following panel model with fixed effects estimation to examine the effect of managerial response on the review volume for hotel i at quarter t:\\nlogReviewsit=\\u2009γ0+\\u2009γ1ResponseRatioit−1+\\u2009θ1:n1Xit+\\u2009π1:n2∏i+μi+λt+εit\\nFinally, we propose the hotel performance models by including the effects of the review rating, review volume, managerial response ratio and their interaction terms. In addition, we also include the moderation effect of hotel class on managerial response to examine whether the effect of managerial response varies. The resulting models of hotel performance for hotel i at time t are:\\nlogTRevPARit=\\u2009δ0+\\u2009δ1Ratingit−1+δ2logReviewsit−1+δ3ResponseRatioit−1+δ4Ratingit\\u2009−1×ResponseRatioit−1+\\u2009δ5logReviewsit\\u2009−1×ResponseRatioit−1+δ6ResponseRatioit−1×Classi+\\u2009υ1:n1Xit+\\u2009ψ1:n2∏i+μi+λt+εit\\nlogRevPARit=\\u2009δ0+\\u2009δ1Ratingit−1+δ2logReviewsit−1+δ3ResponseRatioit−1+δ4Ratingit\\u2009−1×ResponseRatioit−1+\\u2009δ5logReviewsit\\u2009−1×ResponseRatioit−1+δ6ResponseRatioit−1×Classi+\\u2009υ1:n1Xit+\\u2009ψ1:n2∏i+μi+λt+εit\\nwhere our interest focuses on δ4, δ5, and δ6. δ4 and δ5 capture the moderation effects of managerial response on subsequent review ratings and volume, and δ6 captures the moderation effect of hotel class on managerial response, respectively. Again, we control for hotel characteristics in the model while accounting for the regression toward the unobservable heterogeneity using fixed effects estimation.',\n",
              "  'content analysis'),\n",
              " (\"3. Materials and methods\\nIn order to address the objectives, a content analysis was conducted with a sample of 229 hotel websites. Each of the websites analyzed corresponds to one hotel chain. The hotel chains selected belong to different categories: luxury (36.68%), midscale (37.99%) and economy (25.32%). In addition, these hotel chains are located in different regions with 45.2% located globally, 15.5% in Europe, 16.7% in America, and 21.4% in Asia, the Pacific and Middle East. Finally, a small proportion of these hotel chains are in Africa, 1.2% of the sample. The sample was taken from the report 2011 STR Global Chain Scales (STR Global, 2011).\\nAs a first step, an Internet search engine was used to enter the websites in the list that appears in the STR Global report, starting with the first in the ranking and proceeding in alphabetical order. Once the hotel chain website had been identified, the website of one single hotel belonging to the chain was entered at random and analyzed using the variables proposed in this study. Some hotel chains were rejected because their websites could not be found or because they were independent, single hotels. Only the hotel chains whose hotels displayed identical websites were analyzed.\\n3.1. Coding procedure\\nThe unit of analysis was the hotel chain website. The coding scheme was developed based on the existing literature on website content analysis and persuasiveness. Two independent English speakers undertook the coding between December 2011 and January 2012. The analysis was restricted to the English version of each website. The coders were trained using systematic guidelines and operational definitions to determine whether the variable was present or absent in each sample item. In addition, several websites were coded that were not included in the sample in order to detect and resolve any potential problems in coding and to improve intercoder agreement. After training, the coders independently analyzed all hotel websites.\\nTaking account of the ongoing changes and updating of websites is one of the major challenges in website content analysis (Weare and Lin, 2000). Therefore, the coders analyzed the same websites on the same day. To further ensure all the websites were viewed under the same conditions, the coders used the same browser settings and the same type of computers.\\n3.2. Measures\\nMethodological recommendations based on previous studies (Krippendorf, 2004, Neuendorf, 2002) have been carefully reviewed in an attempt to increase the reliability and validity of the findings. The coding sheet included the following six measures to examine the degree of persuasiveness embodied in the hotel chain websites: (1) informativeness; (2) usability; (3) credibility; (4) inspiration; (5) involvement; and (6) reciprocity. Informativeness was measured as the quantity and quality of the information displayed in websites. Usability was defined as the ease of use website users perceived in the website. Credibility included the elements which improve website user perception. Inspiration refers to the website's visual features. Involvement was defined as the effort to improve website interactivity. Lastly, reciprocity comprises all the rewards users perceive in the website (see Table 1).\\nTable 1. Codebook and measures for informativeness.\\nConstruct Items\\nInformativeness General description\\nActivities\\nRestaurant\\nMeetings\\nBooking online\\nPrice\\nCancel/modify\\nMap\\nDirections\\nTerms of use\\nCareer\\nCorporate social responsibility\\nPress\\nHead location\\n\\nUsability Updated\\nWeb map\\nSearch tool\\nEasy of navigation\\nEasy of understanding\\n\\nCredibility About us\\nHistory\\nPrivacy policy\\n\\nInspiration Layout\\nVisual features\\n\\nInvolvement Feedback\\nForum\\nSocial network\\nShare the page\\n\\nReciprocity Promotion\\nNews\\nNewsletter\\nOnline brochure\\nThe coders made judgments independently of the websites for each of the six measures. All measures used a nominal scale (dichotomous) to define the presence of each category with values of 1 or 0 assigned depending on the presence or absence of the category in the website (Neuendorf, 2002). Prior to the analysis, differences in coding were individually discussed and resolved (Kassarjian, 1977). The discrepancies between the coders can be broadly classified in two categories: errors of omission and errors of interpretation.\\n3.3. Intercoder reliability testing\\nThe content analysis data were subjected to intercoder reliability testing to control for the impact of chance agreement using two metrics used in mass communication and social science research: Scott's pi and Cohen's Kappa (Neuendorf, 2002). Scott's pi and Cohen's Kappa coefficients were 0.88 for informativeness, 0.89 for usability, 0.75 for credibility, 0.77 for inspiration, 0.82 for involvement, and 0.85 for reciprocity. Although there is no standardized minimum level for different reliability coefficients, it is suggested that those exceeding 0.75–0.80 indicate excellent agreement and 0.40–0.75 fair to good agreement (Neuendorf, 2002). Based on this criterion, all six variables exhibited very high levels of reliability, ranging from 0.75 to 0.89 (p < .001), 95% confidence interval (see Table 2).\\nTable 2. Intercoder reliability Scott's pi and Cohen's Kappa.\\nVariable Intercoder reliability (%)\\nPrice 100\\nWeb map 99.8\\nSearch 99.7\\nUpdated 98.6\\nCareer 97.3\\nTerms of use 95.4\\nBooking online 95.2\\nRestaurant 93.5\\nNewsletter 92.3\\nPromotion 92.3\\nMeetings 92.1\\nGeneral description 92\\nSocial network 87.6\\nDirections 85.3\\nForum 84.8\\nNews 84.6\\nActivities 84.1\\nMap 82.2\\nCancel/modify 82.1\\nVisual features 80.8\\nCorporate social responsibility 79.3\\nShare page 79.0\\nPress 78.5\\nHead location 77.7\\nAbout us 77.6\\nFeedback 76.3\\nEasy navigation 75.2\\nPrivacy 75.1\\nBrochure 72.6\\nLayout 72.3\\nHistory 72.2\\nEasy understanding 72.2\\n3.4. Latent class segmentation\\nOne of the main objectives of this research is to identify the segments of hotel chains according to the persuasiveness of their websites. In order to identify the groups, a latent class segmentation technique is used. Latent class segmentation is a multi-variate model that distinguishes subgroups of cases from a number of variables and covariables or descriptive variables, such that the underlying segments from the general population can be identified. Following Picón et al. (2006), the general latent class segmentation model can be expressed\\nwhere S, number of latent classes, ΠS, probability of belonging to S latent class, Ynj, scores for a n group of subjects in j observed variables, f(Ynj|φS), conditional density distribution of Ynj and, φS, vector parameters (Π, φ).\\nThis assumes that all of the database cannot be explained with a single probability distribution, but requires a mixture. Thus, each cluster is formed by the cases that belong to a specific distribution. This method assumes that individual preferences constitute a population that is a mix of several segments of unknown size. It follows that it is impossible to know which individual belongs to a particular segment and it is necessary to separate the samples by identifying the number of segments and estimating the parameters that define each of them. This is considered an optimum segmentation because the number of market segments is not set ex ante, and provides the optimum number of clusters that divide the market. Cases within the same latent class are homogeneous on certain criteria, while those in different latent classes are dissimilar from each other in certain important ways.\\nThe estimation begins with a hierarchical cluster and continues with iterative algorithm Expectation-Maximization (EM), until the combination of model and number of clusters is found that enables the collection of more information. Then, the number of clusters in the sample is identified by looking at which alternative displays the smallest Bayesian Information Criterion (BIC). In addition, the identified model should have a lower classification error and smallest number of parameters. In order to verify the adjustment of the latent cluster model, L2 is examined, where a high value indicates a poor adjustment of the model to the data (Vermunt and Magidson, 2005). The quality of the classification is measured through Entropy statistic and R2, considering values close to 1 as a quality indicator.\\nThe last step is the description of the segments profile. The Wald statistic reports reveal whether the beta parameters vary within each attribute and across the segments. A significant p-value with this Wald statistic (p < 0.05), means that the indicator discriminates between the clusters in a statistically significant way (Vermunt and Magidson, 2005). Latent Gold 4.5. software is used to identify the hotel segments.\",\n",
              "  'content analysis')]"
            ]
          },
          "metadata": {
            "tags": []
          },
          "execution_count": 42
        }
      ]
    },
    {
      "cell_type": "code",
      "metadata": {
        "id": "ss_YJFJWQOe0"
      },
      "source": [
        ""
      ],
      "execution_count": null,
      "outputs": []
    },
    {
      "cell_type": "code",
      "metadata": {
        "id": "tBAds4mrNVo-"
      },
      "source": [
        "def make_docs(data):\n",
        "    \"\"\"\n",
        "    this will take a list of texts and labels \n",
        "    and transform them in spacy documents\n",
        "    \n",
        "    data: list(tuple(text, label))\n",
        "    \n",
        "    returns: List(spacy.Doc.doc)\n",
        "    \"\"\"\n",
        "    \n",
        "    docs = []\n",
        "    # nlp.pipe([texts]) is way faster than running \n",
        "    # nlp(text) for each text\n",
        "    # as_tuples allows us to pass in a tuple, \n",
        "    # the first one is treated as text\n",
        "    # the second one will get returned as it is.\n",
        "    \n",
        "    for doc, label in tqdm(nlp.pipe(data, as_tuples=True), total = len(data)):\n",
        "\n",
        "      if label == 'survey':\n",
        "        doc.cats[\"survey\"] = 1\n",
        "        doc.cats[\"secondary data\"] = 0\n",
        "        doc.cats[\"experimental\"] = 0\n",
        "        doc.cats[\"qualitative\"] = 0\n",
        "        doc.cats[\"content analysis\"] = 0\n",
        "\n",
        "        \n",
        "      if label == 'secondary data':\n",
        "        doc.cats[\"survey\"] = 0\n",
        "        doc.cats[\"secondary data\"] = 1\n",
        "        doc.cats[\"experimental\"] = 0\n",
        "        doc.cats[\"qualitative\"] = 0\n",
        "        doc.cats[\"content analysis\"] = 0\n",
        "\n",
        "\n",
        "      if label == 'experimental':\n",
        "        doc.cats[\"survey\"] = 0\n",
        "        doc.cats[\"secondary data\"] = 0\n",
        "        doc.cats[\"experimental\"] = 1\n",
        "        doc.cats[\"qualitative\"] = 0\n",
        "        doc.cats[\"content analysis\"] = 0\n",
        "\n",
        "      if label == 'qualitative':\n",
        "        doc.cats[\"survey\"] = 0\n",
        "        doc.cats[\"secondary data\"] = 0\n",
        "        doc.cats[\"experimental\"] = 0\n",
        "        doc.cats[\"qualitative\"] = 1\n",
        "        doc.cats[\"content analysis\"] = 0\n",
        "\n",
        "      if label == 'content analysis':\n",
        "        doc.cats[\"survey\"] = 0\n",
        "        doc.cats[\"secondary data\"] = 0\n",
        "        doc.cats[\"experimental\"] = 0\n",
        "        doc.cats[\"qualitative\"] = 0\n",
        "        doc.cats[\"content analysis\"] = 1\n",
        "\n",
        "\n",
        "        # we need to set the (text)cat(egory) for each document\n",
        "        # doc.cats[\"positive\"] = label\n",
        "        \n",
        "      # put them into a nice list\n",
        "      docs.append(doc)\n",
        "    \n",
        "    return docs"
      ],
      "execution_count": null,
      "outputs": []
    },
    {
      "cell_type": "code",
      "metadata": {
        "colab": {
          "base_uri": "https://localhost:8080/",
          "height": 66,
          "referenced_widgets": [
            "f600ce37d09642d1a7652d6178c69cdd",
            "a0a3a415ed9f4a70951aec32e1dbc0c1",
            "200b29c195f04d089a2474416a62a5c9",
            "6b36c77e54194119866cdb8be992b1a9",
            "7fbbca7d1f2140ddb842e439dd26495c",
            "b73ec28897bf45c1b6340fc735f2da46",
            "b5bdde8a070143acaf8d142e5b59b2fa",
            "a4e3716f2c9d4c5a896a92039ae5145d"
          ]
        },
        "id": "Cean4YdJNVjX",
        "outputId": "6061abcc-5e30-4bab-822f-5493618fcca0"
      },
      "source": [
        "# first we need to transform all the training data\n",
        "train_docs = make_docs(train_data)\n",
        "# then we save it in a binary file to disc\n",
        "doc_bin = DocBin(docs=train_docs)"
      ],
      "execution_count": null,
      "outputs": [
        {
          "output_type": "display_data",
          "data": {
            "application/vnd.jupyter.widget-view+json": {
              "model_id": "f600ce37d09642d1a7652d6178c69cdd",
              "version_minor": 0,
              "version_major": 2
            },
            "text/plain": [
              "HBox(children=(FloatProgress(value=0.0, max=400.0), HTML(value='')))"
            ]
          },
          "metadata": {
            "tags": []
          }
        },
        {
          "output_type": "stream",
          "text": [
            "\n"
          ],
          "name": "stdout"
        }
      ]
    },
    {
      "cell_type": "code",
      "metadata": {
        "id": "62u9xcJeW7yY"
      },
      "source": [
        "doc_bin.to_disk(\"/content/drive/MyDrive/Colab Notebooks/TopicModeling/Methodology/data_balanced/train.spacy\")"
      ],
      "execution_count": null,
      "outputs": []
    },
    {
      "cell_type": "code",
      "metadata": {
        "colab": {
          "base_uri": "https://localhost:8080/",
          "height": 66,
          "referenced_widgets": [
            "e5e276cfba03413bb0123e1e9aa04f3e",
            "685ccf04b88b420b949583c38c6c2d94",
            "71fe0005d2ee4d1392f9e4e007bb899d",
            "836fd028020b4212a6da9534c3d0975a",
            "963665e878724a3c89e1dbfa58c04c57",
            "a79736b2903b49c09d3f4fa9c5f858be",
            "5c6ab501b4e240f0bc7465918d74fe31",
            "e04c975982394e6e9389006293c45e5b"
          ]
        },
        "id": "-_1nwWn0XBdG",
        "outputId": "acb219d8-835f-444d-f87d-0d4f76d8ca45"
      },
      "source": [
        "# repeat for validation data\n",
        "valid_docs = make_docs(valid_data)\n",
        "doc_bin = DocBin(docs=valid_docs)"
      ],
      "execution_count": null,
      "outputs": [
        {
          "output_type": "display_data",
          "data": {
            "application/vnd.jupyter.widget-view+json": {
              "model_id": "e5e276cfba03413bb0123e1e9aa04f3e",
              "version_minor": 0,
              "version_major": 2
            },
            "text/plain": [
              "HBox(children=(FloatProgress(value=0.0, max=120.0), HTML(value='')))"
            ]
          },
          "metadata": {
            "tags": []
          }
        },
        {
          "output_type": "stream",
          "text": [
            "\n"
          ],
          "name": "stdout"
        }
      ]
    },
    {
      "cell_type": "code",
      "metadata": {
        "id": "HCfOs5LxXCOu"
      },
      "source": [
        "doc_bin.to_disk(\"/content/drive/MyDrive/Colab Notebooks/TopicModeling/Methodology/data_balanced/valid.spacy\")"
      ],
      "execution_count": null,
      "outputs": []
    },
    {
      "cell_type": "code",
      "metadata": {
        "id": "1U9LYmMVJ3TN"
      },
      "source": [
        ""
      ],
      "execution_count": null,
      "outputs": []
    },
    {
      "cell_type": "code",
      "metadata": {
        "id": "d0qUQfk6wOPl",
        "colab": {
          "base_uri": "https://localhost:8080/"
        },
        "outputId": "b86d3e76-8c15-445f-f465-bc50b6119fc2"
      },
      "source": [
        "!python -m spacy init fill-config /content/drive/MyDrive/Colab\\ Notebooks/TopicModeling/Methodology/data_balanced/base_config.cfg /content/drive/MyDrive/Colab\\ Notebooks/TopicModeling/Methodology/data_balanced/config.cfg"
      ],
      "execution_count": null,
      "outputs": [
        {
          "output_type": "stream",
          "text": [
            "2021-06-14 07:00:15.229510: I tensorflow/stream_executor/platform/default/dso_loader.cc:53] Successfully opened dynamic library libcudart.so.11.0\n",
            "\u001b[38;5;2m✔ Auto-filled config with all values\u001b[0m\n",
            "\u001b[38;5;2m✔ Saved config\u001b[0m\n",
            "/content/drive/MyDrive/Colab\n",
            "Notebooks/TopicModeling/Methodology/data_balanced/config.cfg\n",
            "You can now add your data and train your pipeline:\n",
            "python -m spacy train config.cfg --paths.train ./train.spacy --paths.dev ./dev.spacy\n"
          ],
          "name": "stdout"
        }
      ]
    },
    {
      "cell_type": "code",
      "metadata": {
        "id": "BSuadYToZuZj"
      },
      "source": [
        ""
      ],
      "execution_count": null,
      "outputs": []
    },
    {
      "cell_type": "code",
      "metadata": {
        "colab": {
          "base_uri": "https://localhost:8080/"
        },
        "id": "2FY7usyTZuV6",
        "outputId": "ecb2b747-4d60-4f69-9a16-20567700d56b"
      },
      "source": [
        "!python -m spacy train --gpu-id 0 /content/drive/MyDrive/Colab\\ Notebooks/TopicModeling/Methodology/data_balanced/config.cfg --output /content/drive/MyDrive/Colab\\ Notebooks/TopicModeling/Methodology/data_balanced/output"
      ],
      "execution_count": null,
      "outputs": [
        {
          "output_type": "stream",
          "text": [
            "2021-06-14 07:00:26.859570: I tensorflow/stream_executor/platform/default/dso_loader.cc:53] Successfully opened dynamic library libcudart.so.11.0\n",
            "\u001b[38;5;2m✔ Created output directory: /content/drive/MyDrive/Colab\n",
            "Notebooks/TopicModeling/Methodology/data_balanced/output\u001b[0m\n",
            "\u001b[38;5;4mℹ Using GPU: 0\u001b[0m\n",
            "\u001b[1m\n",
            "=========================== Initializing pipeline ===========================\u001b[0m\n",
            "Set up nlp object from config\n",
            "Pipeline: ['transformer', 'textcat']\n",
            "Created vocabulary\n",
            "Finished initializing nlp object\n",
            "Downloading: 100% 481/481 [00:00<00:00, 602kB/s]\n",
            "Downloading: 100% 899k/899k [00:00<00:00, 39.2MB/s]\n",
            "Downloading: 100% 456k/456k [00:00<00:00, 41.8MB/s]\n",
            "Downloading: 100% 1.36M/1.36M [00:00<00:00, 40.1MB/s]\n",
            "Downloading: 100% 501M/501M [00:10<00:00, 46.4MB/s]\n",
            "Initialized pipeline components: ['transformer', 'textcat']\n",
            "\u001b[38;5;2m✔ Initialized pipeline\u001b[0m\n",
            "\u001b[1m\n",
            "============================= Training pipeline =============================\u001b[0m\n",
            "\u001b[38;5;4mℹ Pipeline: ['transformer', 'textcat']\u001b[0m\n",
            "\u001b[38;5;4mℹ Initial learn rate: 0.0\u001b[0m\n",
            "E    #       LOSS TRANS...  LOSS TEXTCAT  CATS_SCORE  SCORE \n",
            "---  ------  -------------  ------------  ----------  ------\n",
            "  0       0           0.00          0.00        0.00    0.00\n",
            "  0     200           0.00          9.66        2.67    0.03\n",
            "  0     400           0.00          5.98        8.00    0.08\n",
            "  1     600           0.00          3.74        8.89    0.09\n",
            "  1     800           0.00          6.68       11.03    0.11\n",
            "  2    1000           0.00          4.25        7.19    0.07\n",
            "  2    1200           0.00          4.21       13.57    0.14\n",
            "  3    1400           0.00          2.69       23.13    0.23\n",
            "  3    1600           0.00          3.51       12.27    0.12\n",
            "  4    1800           0.00          0.62       21.59    0.22\n",
            "  4    2000           0.00          1.06       25.43    0.25\n",
            "  5    2200           0.00          0.83       27.93    0.28\n",
            "  5    2400           0.00          0.51       38.11    0.38\n",
            "  6    2600           0.00          0.20       32.31    0.32\n",
            "  6    2800           0.00          0.09       37.10    0.37\n",
            "  6    3000           0.00          0.38       33.47    0.33\n",
            "  7    3200           0.00          0.35       32.69    0.33\n",
            "  7    3400           0.00          0.03       32.81    0.33\n",
            "  8    3600           0.00          0.03       33.56    0.34\n",
            "  8    3800           0.00          0.23       36.18    0.36\n",
            "  9    4000           0.00          0.02       33.72    0.34\n",
            "\u001b[38;5;2m✔ Saved pipeline to output directory\u001b[0m\n",
            "/content/drive/MyDrive/Colab\n",
            "Notebooks/TopicModeling/Methodology/data_balanced/output/model-last\n"
          ],
          "name": "stdout"
        }
      ]
    },
    {
      "cell_type": "code",
      "metadata": {
        "id": "0Lt3LBiq2XqB"
      },
      "source": [
        ""
      ],
      "execution_count": null,
      "outputs": []
    },
    {
      "cell_type": "code",
      "metadata": {
        "id": "xO0MMVtOZuSz"
      },
      "source": [
        "nlp = spacy.load(\"/content/drive/MyDrive/Colab Notebooks/TopicModeling/Methodology/data_balanced/output/model-best\")"
      ],
      "execution_count": null,
      "outputs": []
    },
    {
      "cell_type": "code",
      "metadata": {
        "colab": {
          "base_uri": "https://localhost:8080/",
          "height": 120
        },
        "id": "znlq2mbsaExj",
        "outputId": "f0313e7a-e91f-4963-8a5e-1621e3131d89"
      },
      "source": [
        "text = df.methodology.iloc[1]\n",
        "text"
      ],
      "execution_count": null,
      "outputs": [
        {
          "output_type": "execute_result",
          "data": {
            "application/vnd.google.colaboratory.intrinsic+json": {
              "type": "string"
            },
            "text/plain": [
              "'Data\\nThere are no official statistics on the peer-to-peer tourist accommodation market. Outside of theoretical or speculative contributions, empirical studies have often been based on scraped data from websites that allow the trade of short-term accommodation. The website InsideAirbnb (http://insideairbnb.com) has been extracting since 2015 large volumes of publicly available information from Airbnb, with the goal of facilitating its study and research. This data source has been used by other studies on the matter and, actually, has been increasingly used as a viable resource (Dann et al., 2019).\\nThere are two problems that prevent knowing the exact level of demand. The first is that we do not know the duration of the stay of guests who leave a review on an accommodation. The second has to do with the possible selection bias in the amount of reviews received by the accommodations. Fradkin et al. (2015), through two field experiments, provide evidence that a system such as that of Airbnb, that does not compensate for leaving a review, can cause a selection bias, to the extent that some experiences (which are not the best) are under-represented.\\nRegardless, as it has been done for hotels and restaurants (Schuckert et al., 2015), the number of reviews is frequently used as a proxy variable for demand of peer-to-peer tourist accommodation (Benítez-Aurioles, 2018a; Lee et al., 2015). Consequently, when we compare the increase in the number of reviews between two consecutive dates, what we are getting in reality is a robust approximation of the minimum number of guests hosted between both periods.\\nPublic information on Airbnb listings is scraped by the website on a given date. We found it more convenient to use quarterly intervals, for which the data are regular. Thus, the cut dates are the dates where a quarter finishes and the next one starts. We have nine cut dates and thus, eight intervals corresponding to all four quarters of 2017 and those of 2018. This two-year timeframe allows to not just compare Barcelona to other cities, but also to itself in a different year. As they are not perfectly equal in terms of days, we adjust for this difference by dividing one of our variables of interest (the growth in the number of reviews) by the number of days during which the increase developed, and multiply it by 1,000 for more precision. Therefore, rather than the absolute growth in the number of reviews, we have the daily growth in the number of reviews per 1,000 listings. These averages are collected in the columns of Table II corresponding to the cities and quarter-years in which they take place and are plotted in Figure 1.\\nThe other cities considered, as a control group, are New York and Paris, not only because they are the other two geographical markets for which information is as frequent, but also they are fair comparison points: the three constitute urban centers with important tourism. In fact, McCarthy (2016) ranked them among the world’s top ten cities with most active ads – specifically, Barcelona was sixth, NY was third and Paris was first.\\nOur sample features every listing that was continuously present throughout the cut dates, that is, from early January 2017 to early/mid-January 2019 (see Table II for the specific dates to which these correspond in each city). The balanced panel structure is meant to avoid attrition and self-selection during the years 2017 and 2018. Listings that have been constantly available through the years seem a valid reference point to measure the effects of the shocks to the market, as they can be considered fixed supply.\\nWe have three variables of interest that we use in turns as dependent variables. The first of them is pit, or price, which is defined as the average during the period t (calculating the midpoint between the two extremes) of the nightly price of a single guest in a listing i in dollars, including the cleaning fee (which is a mandatory lump-sum payment). The second is rit or review growth, calculated as the number of reviews at the end of period t minus the number at the beginning, of a listing i, divided by the number of days in that period, and multiplied by 1,000 to get more intuitive coefficients. Finally, rnit, or revenues, is calculated as pit multiplied by rit divided by the number of days in the period t and multiplied by 30, to approximate the average monthly income that a listing i obtained during the quarter. Again, like reviews, this is a conservative lower bound, not only because reviews are an underestimate of visits, but also because a review can correspond to a visit of more than one guest that is not included in the price. However, we expect the variation in the number of non-reviewing visitors and of companions brought by the main guest to be uncorrelated to the demand shock.'"
            ]
          },
          "metadata": {
            "tags": []
          },
          "execution_count": 62
        }
      ]
    },
    {
      "cell_type": "code",
      "metadata": {
        "id": "cjwTOq55aHFe"
      },
      "source": [
        "doc = nlp(text)"
      ],
      "execution_count": null,
      "outputs": []
    },
    {
      "cell_type": "code",
      "metadata": {
        "id": "AB5YqlzfZuP7",
        "colab": {
          "base_uri": "https://localhost:8080/"
        },
        "outputId": "c7ac4234-a46e-4480-8fb5-736b872231c3"
      },
      "source": [
        "doc.cats"
      ],
      "execution_count": null,
      "outputs": [
        {
          "output_type": "execute_result",
          "data": {
            "text/plain": [
              "{'content analysis': 0.22214679419994354,\n",
              " 'experimental': 0.016661521047353745,\n",
              " 'qualitative': 0.013144291006028652,\n",
              " 'secondary data': 0.7044149041175842,\n",
              " 'survey': 0.04363250359892845}"
            ]
          },
          "metadata": {
            "tags": []
          },
          "execution_count": 64
        }
      ]
    },
    {
      "cell_type": "code",
      "metadata": {
        "id": "KmPXSbZ5ZuMq",
        "colab": {
          "base_uri": "https://localhost:8080/",
          "height": 35
        },
        "outputId": "c667c072-15f8-4766-e2b6-57e28797bdbf"
      },
      "source": [
        "df_merged.Method.iloc[1]"
      ],
      "execution_count": null,
      "outputs": [
        {
          "output_type": "execute_result",
          "data": {
            "application/vnd.google.colaboratory.intrinsic+json": {
              "type": "string"
            },
            "text/plain": [
              "'secondary data'"
            ]
          },
          "metadata": {
            "tags": []
          },
          "execution_count": 65
        }
      ]
    },
    {
      "cell_type": "code",
      "metadata": {
        "colab": {
          "base_uri": "https://localhost:8080/",
          "height": 120
        },
        "id": "bMWerinXwHdP",
        "outputId": "0755210c-4842-4e6d-ebe7-cdb4da38b879"
      },
      "source": [
        "text = df_merged.methodology.iloc[4]\n",
        "text"
      ],
      "execution_count": null,
      "outputs": [
        {
          "output_type": "execute_result",
          "data": {
            "application/vnd.google.colaboratory.intrinsic+json": {
              "type": "string"
            },
            "text/plain": [
              "'Method\\nDesign\\nParticipants made dining decisions for two restaurants, one of which was close to home (designated the “base” restaurant) and one of which was a specified distance from home (designated the “target” restaurant). A 2 (base review valence: negative, neutral) × 2 (target review valence: neutral, positive) × 2 (distance: 30\\u2009min, 60\\u2009min) between-subjects factorial design was used. The base restaurant is always 5\\u2009min (0.7 miles) from home and has negative or neutral reviews. The customer reviews for the target restaurant, which is located farther away, are neutral or positive. Applying the risk-reward distinction, outcomes that favor the target restaurant when base reviews are negative represent risk-avoidance. Outcomes that favor the target restaurant when target reviews are positive represent reward-seeking. Distance is defined as the distance that people must drive from home to dine at the target restaurant, which is either 30\\u2009min (12 miles) or 60\\u2009min (36 miles). Distance represents the effort that people will exert to avoid risk or seek reward. Table I shows an overview of the experimental design.\\nStimuli and pretesting\\nThe stimuli consisted of written materials adapted from an online restaurant review website (Yelp®). On the first screen of the online survey, each restaurant was displayed along with a map indicating the location of each restaurant and home. The second screen contained photos and descriptions of the two restaurants side-by-side. The base restaurant, which was 5\\u2009min from home, was always on the left. The target restaurant was on the right with the distance manipulation repeated. Each restaurant description was followed by five customer reviews with the appropriate valence.\\nPretesting was conducted to select reviews with the appropriate valence. The favorability of 40 restaurant reviews was rated on a seven-point Likert scale from 1 (extremely unfavorable) to 7 (extremely favorable) by two groups of 35 subjects, each of which evaluated 20 reviews. Five positive reviews and five negative reviews were selected with an average rating of 6.33 and 2.46, respectively. Ten neutral reviews were selected with an average rating of 4.31.\\nMeasures\\nThree types of measures were evaluated: pre-choice evaluations, choice, and post-choice evaluations. For pre-choice evaluations, participants provided three restaurant ratings on seven-point Likert scales from strongly disagree to strongly agree: “This restaurant is appealing to me”, “After reading the reviews, I expect the food will be good”, and “After reading the reviews, I expect the service will be good”. For choice, participants rated likelihood to choose each restaurant using seven-point numerical scales from extremely unlikely to extremely likely. Participants made a binary dining choice by choosing one of the two restaurants. For post-choice evaluations, willingness-to-pay per person was rated on a sliding scale from $0 to $100. Willingness to drive to each restaurant was rated in minutes and miles with open-ended questions.\\nSubjects and procedure\\nA sample of 209 participants was recruited through Qualtrics, a professional online research firm. Subjects were randomly assigned to one of the eight experimental conditions, with 26 to 27 subjects per condition. To be eligible, participants had to be at least 18\\u2009years old and they had to have read restaurant online reviews in the past two months. The sample was 82.3 per cent female and 17.7 per cent male. Approximately 52.9 per cent of the sample was married. Age ranges were 18-29 (32.1 per cent), 30-39 (32.5 per cent), 40-49 (16.3 per cent), 50-59 (9.1 per cent) and 60 or over (10.0 per cent). The majority of the sample (74.9 per cent) was Caucasian, followed by Hispanic (9.2 per cent) and Asian (8.2 per cent). More than half of the sample had a four-year college degree or graduate degree (57.2 per cent). The median annual income was approximately $60,000.'"
            ]
          },
          "metadata": {
            "tags": []
          },
          "execution_count": 66
        }
      ]
    },
    {
      "cell_type": "code",
      "metadata": {
        "id": "mvBx9YaUwHdV"
      },
      "source": [
        "doc = nlp(text)"
      ],
      "execution_count": null,
      "outputs": []
    },
    {
      "cell_type": "code",
      "metadata": {
        "colab": {
          "base_uri": "https://localhost:8080/"
        },
        "id": "w8-AQL_uwHdW",
        "outputId": "08d61da5-9949-49d1-c652-e6d5bd140472"
      },
      "source": [
        "doc.cats"
      ],
      "execution_count": null,
      "outputs": [
        {
          "output_type": "execute_result",
          "data": {
            "text/plain": [
              "{'content analysis': 0.08507373929023743,\n",
              " 'experimental': 0.29637572169303894,\n",
              " 'qualitative': 0.02034842036664486,\n",
              " 'secondary data': 0.1844150722026825,\n",
              " 'survey': 0.41378703713417053}"
            ]
          },
          "metadata": {
            "tags": []
          },
          "execution_count": 68
        }
      ]
    },
    {
      "cell_type": "code",
      "metadata": {
        "colab": {
          "base_uri": "https://localhost:8080/",
          "height": 35
        },
        "id": "d9bJ7u4DwOjF",
        "outputId": "0b8ce035-4598-4b0f-9940-fc5485fb1683"
      },
      "source": [
        "df_merged.Method.iloc[4]"
      ],
      "execution_count": null,
      "outputs": [
        {
          "output_type": "execute_result",
          "data": {
            "application/vnd.google.colaboratory.intrinsic+json": {
              "type": "string"
            },
            "text/plain": [
              "'experimental'"
            ]
          },
          "metadata": {
            "tags": []
          },
          "execution_count": 69
        }
      ]
    },
    {
      "cell_type": "code",
      "metadata": {
        "id": "fWXMsB99xPDS"
      },
      "source": [
        ""
      ],
      "execution_count": null,
      "outputs": []
    },
    {
      "cell_type": "code",
      "metadata": {
        "id": "lH3LfUpgby5Z"
      },
      "source": [
        ""
      ],
      "execution_count": null,
      "outputs": []
    },
    {
      "cell_type": "code",
      "metadata": {
        "colab": {
          "base_uri": "https://localhost:8080/",
          "height": 120
        },
        "id": "li1eBYvRbzJ6",
        "outputId": "d3a15bc6-0d8d-4d5a-b888-b609f60e5984"
      },
      "source": [
        "text = df_merged.methodology.iloc[10]\n",
        "text"
      ],
      "execution_count": null,
      "outputs": [
        {
          "output_type": "execute_result",
          "data": {
            "application/vnd.google.colaboratory.intrinsic+json": {
              "type": "string"
            },
            "text/plain": [
              "'3. Method\\n3.1 Participants and procedures\\nThe full-time front-line employees came from ten five-star hotels in China. We chose to focus on the Chinese hospitality industry because the subject of leadership and personality in the hotel industry, although understudied, is a critical area of research in China. According to the China Tourism Academy, China received more than 5 billion visitors (1.39 billion international), generating 2,084 billion Yuan in income through the hospitality industry in 2017. In addition, hotel organizations have become more dynamic, uncertain, competitive, and unpredictable more than ever before. The importance of frontline employees to superior hotel service cannot be overstated. In particular, transformational leadership and proactive personality are crucial in upscale hotels, which aim to provide high quality and upscale hospitality services. Therefore, it is critical to investigate the effects of transformational leadership and proactive personality on service performance by recruiting the frontline employees and their supervisors of five-star hotels in the Chinese hotel industry context as survey participants.\\nWe recruited survey participants by getting in touch with HR supervisors of ten Five-star hotels in China. Specifically, HR supervisors helped us to ask whether their frontline employees (e.g. food and beverage servers, security employees, bellboys, front desk agents, concierges, guest relations representatives and PA attendants) were willing to participate in the study and identified potential participants. We explained to all survey participants in detail the objectives, procedures, and rules of this study; in particular, we guaranteed them complete confidentiality for their voluntary participation by ensuring never to reveal any personal information. We coded each questionnaire with a researcher-assigned identification number to match an employee’s responses with his/her immediate leader’s evaluations. A questionnaire was translated from English to Chinese using back-translation techniques (Brislin, 1980). Participants were given questionnaires in three waves, with two-month interval. At Time-1, 359 questionnaires were distributed. Subordinates completed the measures of demographic information, transformational leadership and proactive personality. In all 322 valid questionnaires were collected (response rate 89.6 per cent). At Time-2, we collected the measurement of organizational embeddedness answered by the same subordinates who participated in the first wave. 274 were valid, with an effective return rate of 85.09 per cent. At Time-3, the measure of subordinates’ service performance was evaluated by their immediate leaders. 218 matched supervisor-subordinate surveys were returned (response rate of 79.56 per cent). The average age of front-line hotel employees was 28.59\\u2009years ranging from 22 to 50, with 65 per cent female. The mean organization tenure was 55.58\\u2009months, and 58.3 per cent of the employees had no more than three\\u2009years of organizational tenure. As for the education level, 64.68 per cent of the respondents had a bachelor degree or above, 6.4 per cent had vocational school diplomas, 22.5 per cent had junior college experience, 4.1 per cent had a high school education, and 2.3 per cent had completed junior high school. The demographic profile of the survey participants is presented in Table I.\\n3.2 Measure\\n3.2.1 Transformational leadership.\\nA 14-item scale developed and validated by Podsakoff et al. (1990) was used to measure transformational leadership. A sample item is “provides a good model for me to follow”. Participants responded to the item using a seven-point Likert scale (1 = “Strongly disagree,” 7 = “Strongly agree”).\\n3.2.2 Proactive personality.\\nA six-item scale by Bateman was used to measure proactive personality (Bateman and Crant, 1993). Participants responded to the item using a five-point Likert scale (1 = “disagree,” 5 = “agree”). A sample item is “If I see something I don’t like, I fix it”.\\n3.2.3 Organizational embeddedness.\\nThe seven-item scale by Crossley was used to measure organizational embeddedness (Crossley et al., 2007). Response options ranged from 1 (disagree) to 5 (agree). A sample item is “I feel attached to this organization”.\\n3.2.4 Task performance and contextual performance.\\nTask performance and contextual performance were each measured with 5 items from Bettencourt and Brown (Bettencourt and Brown, 1997). Participants responded to all items on a seven-point Likert scale (1 = strongly disagree to 7= strongly agree). A sample item of task performance reads “Meets formal performance requirements when serving customers”. A sample item of contextual performance is “Helps customers with problems beyond what is expected or required”.\\n3.2.5 Controls.\\nEmployees’ age, sex, education and seniority were included as control variables, given these variables may influence service performance (Lyu et al., 2016).'"
            ]
          },
          "metadata": {
            "tags": []
          },
          "execution_count": 74
        }
      ]
    },
    {
      "cell_type": "code",
      "metadata": {
        "id": "7NOjZCkVbzJ7"
      },
      "source": [
        "doc = nlp(text)"
      ],
      "execution_count": null,
      "outputs": []
    },
    {
      "cell_type": "code",
      "metadata": {
        "colab": {
          "base_uri": "https://localhost:8080/"
        },
        "id": "aaPcvS-9bzJ7",
        "outputId": "4ef210ec-2831-4750-a386-2e18e03f06da"
      },
      "source": [
        "doc.cats"
      ],
      "execution_count": null,
      "outputs": [
        {
          "output_type": "execute_result",
          "data": {
            "text/plain": [
              "{'content analysis': 0.026978986337780952,\n",
              " 'experimental': 0.0691315084695816,\n",
              " 'qualitative': 0.01300159189850092,\n",
              " 'secondary data': 0.0911157876253128,\n",
              " 'survey': 0.7997720837593079}"
            ]
          },
          "metadata": {
            "tags": []
          },
          "execution_count": 76
        }
      ]
    },
    {
      "cell_type": "code",
      "metadata": {
        "colab": {
          "base_uri": "https://localhost:8080/",
          "height": 35
        },
        "id": "ygQrJNtUbzJ7",
        "outputId": "b1eff03f-b8b1-4012-9a9e-6c93d21b81cc"
      },
      "source": [
        "df_merged.Method.iloc[10]"
      ],
      "execution_count": null,
      "outputs": [
        {
          "output_type": "execute_result",
          "data": {
            "application/vnd.google.colaboratory.intrinsic+json": {
              "type": "string"
            },
            "text/plain": [
              "'survey'"
            ]
          },
          "metadata": {
            "tags": []
          },
          "execution_count": 77
        }
      ]
    },
    {
      "cell_type": "code",
      "metadata": {
        "id": "uQ0KYiH2b1mg"
      },
      "source": [
        ""
      ],
      "execution_count": null,
      "outputs": []
    },
    {
      "cell_type": "code",
      "metadata": {
        "id": "nUmqcIsUcGZw"
      },
      "source": [
        ""
      ],
      "execution_count": null,
      "outputs": []
    },
    {
      "cell_type": "code",
      "metadata": {
        "colab": {
          "base_uri": "https://localhost:8080/",
          "height": 120
        },
        "id": "1nMVGVImcGp4",
        "outputId": "1cf90f66-0b5c-4e57-a60a-15bd9de96bf8"
      },
      "source": [
        "text = df_merged.methodology.iloc[6]\n",
        "text"
      ],
      "execution_count": null,
      "outputs": [
        {
          "output_type": "execute_result",
          "data": {
            "application/vnd.google.colaboratory.intrinsic+json": {
              "type": "string"
            },
            "text/plain": [
              "\"3. Research setting, design and methodology\\n3.1 Empirical setting\\nThis study is situated in the Russian hotel industry for a number of reasons. First, Russia features among the top ten destination countries regarding inbound international tourism flows (UNWTO, 2017), and it is therefore a major inbound market (Mariani et al., 2014b). Second, for historical reasons, Russia has been developing its services sector according to a market-oriented approach only starting from the early 1990s after the breakdown of the Soviet Union. Third, the cultural background of service providers in Russia is different as compared to that of providers in other countries, and for this reason, the context under analysis represents an ideal one to validate and extend findings stemming from other contexts such as the USA, where the impact and influence of cultural differences on the online hotel ratings have been examined (Gao et al., 2018).\\nThe development of a market economy in Russia since the early 90s brought about the emergence of new markets and the transformation of existing ones and led to a change in the hotel business (Sheresheva et al., 2012). Currently, the most developed hotel markets are Moscow, St. Petersburg and Sochi: they account for 70 per cent of all international hotels in Russia (Ernst and Young, 2018) (Figure 1).\\nThe capital of Russia, Moscow, is the country's leader both in the number of existing hotels and those under construction. More than 25 per cent of the total number of the foreign hotel chain operating in the Russian Federation are present in Moscow (Ernst and Young, 2018). Almost all Russian hotel chains are also represented in Moscow. Moreover, Moscow ranks first in Russia in terms of tourist arrivals and is the most sought after destination (www.jll.ru/russia/en-gb/news/670/2017-on-moscow-and-stpetersburg-hotel-markets).\\n3.2 Research design, data and methods\\nThis study adopts a mixed-method research design, more specifically an explanatory sequential design (Creswell, 2014; Creswell and Plano Clark, 2007). Explanatory sequential designs imply that:\\nThe researcher first conducts quantitative research, analyzes the results and then builds on the results to explain them in more detail with qualitative research. It is considered explanatory because the initial quantitative data results are explained further with the qualitative data. It is considered sequential because the initial quantitative phase is followed by the qualitative phase. (Creswell, 2014, pp. 15-16).\\nThis type of design is suitable when a more nuanced interpretation of quantitative findings is necessary, also in relation to the managers’ and relevant stakeholders’ viewpoints on the phenomenon under analysis.\\nWe deployed triangulation as recommended within a mixed-method approach, which implies the use of heterogeneous data sources and methodologies to validate the quantitative findings and enrich their interpretation, and it is compatible also with triangulation in qualitative research designs (Denzin, 1978; Lincoln and Guba, 2000).\\nIn the subsequent subparagraphs, we explicate the characteristics of the adopted methodology, describing in detail the first quantitative phase and the second qualitative phase.\\n3.2.1 Quantitative phase.\\n3.2.1.1 Data collection.\\nData were collected from two different sources: Booking.com and the “Hofstede Center”. The first source was deployed to gather OR data; the second to pull together data related to the cultural dimensions/variables.\\nOnline hotel reviews were retrieved leveraging a big data approach (Mariani et al., 2018) from the OTA Booking.com. The OTA was chosen because of its popularity worldwide (https://www.booking.com/content/about.en-gb.html) and also because of its high share of certified online hospitality reviews globally (Mariani and Borghi, 2018).\\nOur study is situated in the Russian capital Moscow, as it is a relevant business destination (Mariani et al., 2014b) and certainly under-researched in eWOM studies. Its fast transition to a market service economy and the distinctive features of the service providers make it an interesting setting to test the role played by consumers’ cultural differences in the online evaluation of hospitality services. By leveraging a Python developed script, Muscovite hotels’ ORs were retrieved over a 25-month period starting in February 2015. Two relational data sets were built: the former encompassing company-level data and the latter one containing review-level data.\\nAt the firm level, we retrieved information including the name of the hotel, its address, the hotel class and the overall rating. At the OR level, we scraped both metadata and data including the timestamp, stated name of the reviewer, her country of residence/origin, the number of reviews he/she wrote, the length of stay, the purpose of the trip (business or leisure), the experience in writing reviews of the reviewer and the travel companions (whether the travelers were travelling solo, in couple, in group, family, etc.). We gathered the aforesaid data over a 25-month window starting in February 2015. The data encompass the overall population of hotel firms (657 hospitality firms displaying at least one review), that were reviewed in 387,812 reviews over the period under analysis. However, in line with Gao et al. (2018), to avoid home country biases, we only retained the reviews written by non-domestic authors (i.e. guests resident in countries other than Russia) and we eliminated the reviews with too many missing values. As a result, a total of 74,284 reviews were retained.\\nLast but not the least, based on data from the Hofstede center, we obtained the measures of the four focal cultural dimensions (PD, IDV, MAS and UA). Based on country names available in both the data sets, we matched them to generate a final data set. In our sample, the 74,284 reviews for the 602 hotels spanned the period from February 2015 to February 2017 and were written by reviewers from 93 different countries.\\n3.2.1.2 Variables’ operationalization.\\nThis study’s dependent variable is the Booking.com overall rating of the hotel ranging from 2.5 to 10.0. We included a number of independent variables, such as the ensuing cultural indices: power distance (PD), individualism (IDV), masculinity (MAS), uncertainty avoidance (UA), that is, the basic cultural dimensions identified originally by Hofstede (1980) and discussed in our literature review. The indices are available for all of the countries examined and vary in a range from 1 to 100 almost in a continuous way. Across the sample of 93 countries of origin that were considered in the sample, PD ranges from 13 to 100, IDV from 6 to 91, MAS from 5 to 100 and UA from 8 to 100. The reliability and stability of these measures have been discussed widely in recent literature and we refer to Reisinger and Crotts (2010) and Huang and Crotts (2019) for more details.\\nIn addition, we also included control variables such as the length of stay (number of nights spent at the hotel) (LoS), the reviewer’s experience in reviewing online (i.e. the volume of reviews written by a reviewer) (RE), the reviewer’s knowledge of the destination (i.e. a badge indicating the extent to which the reviewer is an expert of the destination) (RK), the purpose of the trip (business or leisure), the type of travelling group (couple, family with children, solo, etc.) and hotel category.\\nTable I describes the variables of interest.\\nTable II summarizes the descriptive statistics.\\nReviewers’ experience (RE) is the only variable that does not display a normal distribution, and as such, it has been log-transformed. The variable correlation matrix also shows that all correlations are significant. The frequencies of the country of origin of the guests have been included in Appendix 1.\\n3.2.1.3 Data analysis\\nOur five hypotheses were validated using both multivariate ordinary least squares (OLS) regression and Tobit regression. OLS and Tobit regressions were preferred over ordinal logistic regressions, as the dependent variable (i.e. online ratings on Booking.com) varies from 2.5 to 10 in an almost continuous manner. The Tobit regression was used as a robustness techniques, as the dependent variable is censored both on the left (there are no ratings below 2.5) and on the right (there are no ratings above 10.0) as clarified in previous research (Mellinas et al., 2015).\\nTherefore, the study’s dependent variable, the overall rating of a review (Rating), was regressed (deploying both OLS and Tobit regressions for robustness check) against the main independent variables: individualism (IDV), masculinity (MAS), uncertainty avoidance (UA), power distance (PD) and reviewer’s experience (RE) in writing reviews. We controlled for reviewers’ knowledge of the destination (RK), observed average rating (Obs_Avg_Rat), length of stay (LoS), hotel class, travel type (weather business or leisure), whether the hotel was part of a chain and type of travelling group (solo, family, group, etc.).\\n3.2.2 Qualitative phase.\\nAfter collecting and analyzing the quantitative data, we conducted 16 semi-structured interviews with managers and practitioners working in the Muscovite hospitality sector, to interpret in a more nuanced way the findings of the quantitative analysis and to gain a thorough picture of the way managers use and make sense of online ratings and use (or not use) nationality and cultural segmentation. Interviewees were chosen based on convenience grounds, as one of the researchers has direct access to the Muscovite hospitality industry and the research team had previously collaborated with Muscovite hospitality managers in other research projects in the past. Respondents were chosen to cover evenly different types of hospitality firms (including different categories and geographical locations in Moscow). During this stage, at least two interviewers were present at each interview and, when possible, recorded the interviews (the hotel managers were mostly reluctant for us to do so). At the beginning of each interview meeting, we used two opening questions: “Do you analyze Booking.com reviews? If you analyze them, do you differentiate them based on the nationality of the reviewer?” Afterwards, we asked: “Have you ever heard of the Hofstede’s cultural dimensions?” If the answer was “yes”, then we moved on to illustrating the papers’ findings and asked the managers to comment on them; otherwise, we illustrated and explained to the managers in a very straightforward and simple way the meaning of cultural dimensions with the example of “power distance” and “individualism.” Later, we shared a hard copy of the paper and illustrated verbally the study’s findings and asked them to give comments, based on their practical experience. Related questions were asked such as: “Are these results interesting or not for your marketing and management activities? Could they be used for your (digital) marketing strategy and/or to improve your segmentation of your customers?”\\nThe material was subsequently coded independently by each researcher (manually) and then compared.\\n3.2.3 Data triangulation.\\nIn line with the explanatory sequential research design adopted (Creswell, 2014), we deployed triangulation in terms of use of heterogeneous data sources and methodologies to validate the quantitative findings and enrich their interpretation. As such, we used triangulation at a higher level than how triangulation is deployed in purely qualitative research designs (Denzin, 1978; Lincoln and Guba, 2000). The analysis of both the qualitative and quantitative data acquired in this way has generated a series of findings that are presented and discussed in Section 4.\""
            ]
          },
          "metadata": {
            "tags": []
          },
          "execution_count": 88
        }
      ]
    },
    {
      "cell_type": "code",
      "metadata": {
        "id": "8HMhxHUEcGp5"
      },
      "source": [
        "doc = nlp(text)"
      ],
      "execution_count": null,
      "outputs": []
    },
    {
      "cell_type": "code",
      "metadata": {
        "colab": {
          "base_uri": "https://localhost:8080/"
        },
        "id": "0qDHD0cdcGp5",
        "outputId": "689054b1-ff69-464d-8d51-ae5f597005c6"
      },
      "source": [
        "doc.cats"
      ],
      "execution_count": null,
      "outputs": [
        {
          "output_type": "execute_result",
          "data": {
            "text/plain": [
              "{'content analysis': 0.01135176606476307,\n",
              " 'experimental': 6.716926873195916e-05,\n",
              " 'qualitative': 6.585640221601352e-05,\n",
              " 'secondary data': 0.9843825697898865,\n",
              " 'survey': 0.004132777452468872}"
            ]
          },
          "metadata": {
            "tags": []
          },
          "execution_count": 90
        }
      ]
    },
    {
      "cell_type": "code",
      "metadata": {
        "colab": {
          "base_uri": "https://localhost:8080/",
          "height": 35
        },
        "id": "dcUYwdKOcGp6",
        "outputId": "5ea02a9a-9ee7-4604-a952-50cf60b8992a"
      },
      "source": [
        "df_merged.Method.iloc[6]"
      ],
      "execution_count": null,
      "outputs": [
        {
          "output_type": "execute_result",
          "data": {
            "application/vnd.google.colaboratory.intrinsic+json": {
              "type": "string"
            },
            "text/plain": [
              "'content analysis'"
            ]
          },
          "metadata": {
            "tags": []
          },
          "execution_count": 87
        }
      ]
    },
    {
      "cell_type": "code",
      "metadata": {
        "id": "pBVHfr2McIjO"
      },
      "source": [
        ""
      ],
      "execution_count": null,
      "outputs": []
    }
  ]
}