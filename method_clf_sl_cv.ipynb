{
  "nbformat": 4,
  "nbformat_minor": 0,
  "metadata": {
    "colab": {
      "name": "method_clf_sl_cv.ipynb",
      "provenance": [],
      "collapsed_sections": [],
      "mount_file_id": "1a5wukKcCy26ZkIftYzuBn-lt1eYibVP7",
      "authorship_tag": "ABX9TyP/JERv9R7c1m52KgYIfVsk",
      "include_colab_link": true
    },
    "kernelspec": {
      "display_name": "Python 3",
      "name": "python3"
    },
    "accelerator": "GPU"
  },
  "cells": [
    {
      "cell_type": "markdown",
      "metadata": {
        "id": "view-in-github",
        "colab_type": "text"
      },
      "source": [
        "<a href=\"https://colab.research.google.com/github/kurtsenol/Text-Classification/blob/main/method_clf_sl_cv.ipynb\" target=\"_parent\"><img src=\"https://colab.research.google.com/assets/colab-badge.svg\" alt=\"Open In Colab\"/></a>"
      ]
    },
    {
      "cell_type": "code",
      "metadata": {
        "colab": {
          "base_uri": "https://localhost:8080/"
        },
        "id": "kszMxFkRQq9J",
        "outputId": "8526dee0-3bca-4b31-f37c-719518c45323"
      },
      "source": [
        "!pip3 install pickle5"
      ],
      "execution_count": 2,
      "outputs": [
        {
          "output_type": "stream",
          "text": [
            "Collecting pickle5\n",
            "\u001b[?25l  Downloading https://files.pythonhosted.org/packages/f7/4c/5c4dd0462c8d3a6bc4af500a6af240763c2ebd1efdc736fc2c946d44b70a/pickle5-0.0.11.tar.gz (132kB)\n",
            "\r\u001b[K     |██▌                             | 10kB 16.0MB/s eta 0:00:01\r\u001b[K     |█████                           | 20kB 9.8MB/s eta 0:00:01\r\u001b[K     |███████▍                        | 30kB 5.8MB/s eta 0:00:01\r\u001b[K     |██████████                      | 40kB 5.3MB/s eta 0:00:01\r\u001b[K     |████████████▍                   | 51kB 2.9MB/s eta 0:00:01\r\u001b[K     |██████████████▉                 | 61kB 3.2MB/s eta 0:00:01\r\u001b[K     |█████████████████▍              | 71kB 3.5MB/s eta 0:00:01\r\u001b[K     |███████████████████▉            | 81kB 3.7MB/s eta 0:00:01\r\u001b[K     |██████████████████████▎         | 92kB 3.7MB/s eta 0:00:01\r\u001b[K     |████████████████████████▉       | 102kB 4.0MB/s eta 0:00:01\r\u001b[K     |███████████████████████████▎    | 112kB 4.0MB/s eta 0:00:01\r\u001b[K     |█████████████████████████████▊  | 122kB 4.0MB/s eta 0:00:01\r\u001b[K     |████████████████████████████████| 133kB 4.0MB/s \n",
            "\u001b[?25hBuilding wheels for collected packages: pickle5\n",
            "  Building wheel for pickle5 (setup.py) ... \u001b[?25l\u001b[?25hdone\n",
            "  Created wheel for pickle5: filename=pickle5-0.0.11-cp37-cp37m-linux_x86_64.whl size=219259 sha256=4a8f68784fa9a87cf0df69d70639de70cb49317a6f58d1e4ce561f1ff6a0463f\n",
            "  Stored in directory: /root/.cache/pip/wheels/a6/90/95/f889ca4aa8b0e0c7f21c8470b6f5d6032f0390a3a141a9a3bd\n",
            "Successfully built pickle5\n",
            "Installing collected packages: pickle5\n",
            "Successfully installed pickle5-0.0.11\n"
          ],
          "name": "stdout"
        }
      ]
    },
    {
      "cell_type": "code",
      "metadata": {
        "id": "jjTJvW85QuGy"
      },
      "source": [
        "import os\n",
        "import numpy as np\n",
        "import pandas as pd\n",
        "import pickle5 as pickle\n",
        "import re\n",
        "import random"
      ],
      "execution_count": 3,
      "outputs": []
    },
    {
      "cell_type": "code",
      "metadata": {
        "colab": {
          "base_uri": "https://localhost:8080/",
          "height": 874
        },
        "id": "WA3pN0_TR1h9",
        "outputId": "b4494c98-c0df-401d-ecbe-ca9a5539b329"
      },
      "source": [
        "df_method =pd.read_pickle(\"/content/drive/MyDrive/Colab Notebooks/TopicModeling/Methodology/df_method.pkl\")\n",
        "df_method"
      ],
      "execution_count": 4,
      "outputs": [
        {
          "output_type": "execute_result",
          "data": {
            "text/html": [
              "<div>\n",
              "<style scoped>\n",
              "    .dataframe tbody tr th:only-of-type {\n",
              "        vertical-align: middle;\n",
              "    }\n",
              "\n",
              "    .dataframe tbody tr th {\n",
              "        vertical-align: top;\n",
              "    }\n",
              "\n",
              "    .dataframe thead th {\n",
              "        text-align: right;\n",
              "    }\n",
              "</style>\n",
              "<table border=\"1\" class=\"dataframe\">\n",
              "  <thead>\n",
              "    <tr style=\"text-align: right;\">\n",
              "      <th></th>\n",
              "      <th>JO</th>\n",
              "      <th>AU</th>\n",
              "      <th>TI</th>\n",
              "      <th>PY</th>\n",
              "      <th>DI</th>\n",
              "      <th>QUANTITATIVE</th>\n",
              "      <th>Method</th>\n",
              "      <th>category</th>\n",
              "      <th>CMB</th>\n",
              "      <th>CMV</th>\n",
              "      <th>MB</th>\n",
              "      <th>MV</th>\n",
              "      <th>MSD</th>\n",
              "      <th>MR</th>\n",
              "      <th>SR</th>\n",
              "      <th>SED</th>\n",
              "      <th>MED</th>\n",
              "      <th>TSM</th>\n",
              "      <th>TLD</th>\n",
              "      <th>PSM</th>\n",
              "      <th>MSM</th>\n",
              "      <th>A</th>\n",
              "      <th>C</th>\n",
              "      <th>CBQO</th>\n",
              "      <th>DBQ</th>\n",
              "      <th>UEB</th>\n",
              "      <th>HSF</th>\n",
              "      <th>PSD</th>\n",
              "      <th>MV.1</th>\n",
              "      <th>GFS</th>\n",
              "      <th>DMLMF</th>\n",
              "      <th>SULMF</th>\n",
              "    </tr>\n",
              "  </thead>\n",
              "  <tbody>\n",
              "    <tr>\n",
              "      <th>0</th>\n",
              "      <td>IJCHM</td>\n",
              "      <td>Ineson, EM; Comic, D; Kalmic, L</td>\n",
              "      <td>Towards a hierarchy of hotel guests' in-room n...</td>\n",
              "      <td>2019.0</td>\n",
              "      <td>10.1108/IJCHM-01-2019-0061</td>\n",
              "      <td>0</td>\n",
              "      <td>phenomenology</td>\n",
              "      <td>CMB-free</td>\n",
              "      <td>0</td>\n",
              "      <td>0</td>\n",
              "      <td>0.0</td>\n",
              "      <td>0.0</td>\n",
              "      <td>0.0</td>\n",
              "      <td>0.0</td>\n",
              "      <td>0.0</td>\n",
              "      <td>0.0</td>\n",
              "      <td>0.0</td>\n",
              "      <td>0.0</td>\n",
              "      <td>0.0</td>\n",
              "      <td>0.0</td>\n",
              "      <td>0.0</td>\n",
              "      <td>0.0</td>\n",
              "      <td>0.0</td>\n",
              "      <td>0.0</td>\n",
              "      <td>0.0</td>\n",
              "      <td>0.0</td>\n",
              "      <td>0.0</td>\n",
              "      <td>0.0</td>\n",
              "      <td>0.0</td>\n",
              "      <td>0.0</td>\n",
              "      <td>0.0</td>\n",
              "      <td>0.0</td>\n",
              "    </tr>\n",
              "    <tr>\n",
              "      <th>1</th>\n",
              "      <td>IJCHM</td>\n",
              "      <td>Benitez-Aurioles, B</td>\n",
              "      <td>Barcelona's peer-to-peer tourist accommodation...</td>\n",
              "      <td>2019.0</td>\n",
              "      <td>10.1108/IJCHM-01-2019-0090</td>\n",
              "      <td>1</td>\n",
              "      <td>secondary data</td>\n",
              "      <td>CMB-free</td>\n",
              "      <td>1</td>\n",
              "      <td>0</td>\n",
              "      <td>0.0</td>\n",
              "      <td>0.0</td>\n",
              "      <td>1.0</td>\n",
              "      <td>0.0</td>\n",
              "      <td>0.0</td>\n",
              "      <td>0.0</td>\n",
              "      <td>0.0</td>\n",
              "      <td>0.0</td>\n",
              "      <td>0.0</td>\n",
              "      <td>0.0</td>\n",
              "      <td>0.0</td>\n",
              "      <td>1.0</td>\n",
              "      <td>0.0</td>\n",
              "      <td>0.0</td>\n",
              "      <td>0.0</td>\n",
              "      <td>0.0</td>\n",
              "      <td>0.0</td>\n",
              "      <td>0.0</td>\n",
              "      <td>0.0</td>\n",
              "      <td>0.0</td>\n",
              "      <td>0.0</td>\n",
              "      <td>0.0</td>\n",
              "    </tr>\n",
              "    <tr>\n",
              "      <th>2</th>\n",
              "      <td>IJCHM</td>\n",
              "      <td>Hu, XB; Yang, Y; Park, S</td>\n",
              "      <td>A meta-regression on the effect of online rati...</td>\n",
              "      <td>2019.0</td>\n",
              "      <td>10.1108/IJCHM-10-2018-0835</td>\n",
              "      <td>0</td>\n",
              "      <td>review</td>\n",
              "      <td>CMB-free</td>\n",
              "      <td>0</td>\n",
              "      <td>0</td>\n",
              "      <td>0.0</td>\n",
              "      <td>0.0</td>\n",
              "      <td>1.0</td>\n",
              "      <td>0.0</td>\n",
              "      <td>0.0</td>\n",
              "      <td>0.0</td>\n",
              "      <td>0.0</td>\n",
              "      <td>0.0</td>\n",
              "      <td>1.0</td>\n",
              "      <td>0.0</td>\n",
              "      <td>0.0</td>\n",
              "      <td>0.0</td>\n",
              "      <td>0.0</td>\n",
              "      <td>0.0</td>\n",
              "      <td>0.0</td>\n",
              "      <td>0.0</td>\n",
              "      <td>0.0</td>\n",
              "      <td>0.0</td>\n",
              "      <td>0.0</td>\n",
              "      <td>0.0</td>\n",
              "      <td>0.0</td>\n",
              "      <td>0.0</td>\n",
              "    </tr>\n",
              "    <tr>\n",
              "      <th>3</th>\n",
              "      <td>IJCHM</td>\n",
              "      <td>Ahmat, NHC; Arendt, SW; Russell, DW</td>\n",
              "      <td>Examining work factors after Malaysia's minimu...</td>\n",
              "      <td>2019.0</td>\n",
              "      <td>10.1108/IJCHM-10-2018-0827</td>\n",
              "      <td>1</td>\n",
              "      <td>survey</td>\n",
              "      <td>CMB-risk</td>\n",
              "      <td>0</td>\n",
              "      <td>0</td>\n",
              "      <td>0.0</td>\n",
              "      <td>0.0</td>\n",
              "      <td>0.0</td>\n",
              "      <td>0.0</td>\n",
              "      <td>0.0</td>\n",
              "      <td>0.0</td>\n",
              "      <td>0.0</td>\n",
              "      <td>0.0</td>\n",
              "      <td>0.0</td>\n",
              "      <td>0.0</td>\n",
              "      <td>0.0</td>\n",
              "      <td>0.0</td>\n",
              "      <td>0.0</td>\n",
              "      <td>0.0</td>\n",
              "      <td>0.0</td>\n",
              "      <td>0.0</td>\n",
              "      <td>0.0</td>\n",
              "      <td>0.0</td>\n",
              "      <td>0.0</td>\n",
              "      <td>0.0</td>\n",
              "      <td>1.0</td>\n",
              "      <td>0.0</td>\n",
              "    </tr>\n",
              "    <tr>\n",
              "      <th>4</th>\n",
              "      <td>IJCHM</td>\n",
              "      <td>Kim, EL; Tanford, S</td>\n",
              "      <td>Seeking reward or avoiding risk from restauran...</td>\n",
              "      <td>2019.0</td>\n",
              "      <td>10.1108/IJCHM-03-2018-0235</td>\n",
              "      <td>1</td>\n",
              "      <td>experimental</td>\n",
              "      <td>CMB-free</td>\n",
              "      <td>0</td>\n",
              "      <td>0</td>\n",
              "      <td>0.0</td>\n",
              "      <td>0.0</td>\n",
              "      <td>0.0</td>\n",
              "      <td>0.0</td>\n",
              "      <td>0.0</td>\n",
              "      <td>0.0</td>\n",
              "      <td>0.0</td>\n",
              "      <td>0.0</td>\n",
              "      <td>0.0</td>\n",
              "      <td>0.0</td>\n",
              "      <td>0.0</td>\n",
              "      <td>0.0</td>\n",
              "      <td>0.0</td>\n",
              "      <td>0.0</td>\n",
              "      <td>0.0</td>\n",
              "      <td>0.0</td>\n",
              "      <td>0.0</td>\n",
              "      <td>0.0</td>\n",
              "      <td>0.0</td>\n",
              "      <td>0.0</td>\n",
              "      <td>0.0</td>\n",
              "      <td>0.0</td>\n",
              "    </tr>\n",
              "    <tr>\n",
              "      <th>...</th>\n",
              "      <td>...</td>\n",
              "      <td>...</td>\n",
              "      <td>...</td>\n",
              "      <td>...</td>\n",
              "      <td>...</td>\n",
              "      <td>...</td>\n",
              "      <td>...</td>\n",
              "      <td>...</td>\n",
              "      <td>...</td>\n",
              "      <td>...</td>\n",
              "      <td>...</td>\n",
              "      <td>...</td>\n",
              "      <td>...</td>\n",
              "      <td>...</td>\n",
              "      <td>...</td>\n",
              "      <td>...</td>\n",
              "      <td>...</td>\n",
              "      <td>...</td>\n",
              "      <td>...</td>\n",
              "      <td>...</td>\n",
              "      <td>...</td>\n",
              "      <td>...</td>\n",
              "      <td>...</td>\n",
              "      <td>...</td>\n",
              "      <td>...</td>\n",
              "      <td>...</td>\n",
              "      <td>...</td>\n",
              "      <td>...</td>\n",
              "      <td>...</td>\n",
              "      <td>...</td>\n",
              "      <td>...</td>\n",
              "      <td>...</td>\n",
              "    </tr>\n",
              "    <tr>\n",
              "      <th>3264</th>\n",
              "      <td>JHMM</td>\n",
              "      <td>de Leaniz, PMG; Rodriguez, IRD</td>\n",
              "      <td>Exploring the Antecedents of Hotel Customer Lo...</td>\n",
              "      <td>2015.0</td>\n",
              "      <td>10.1080/19368623.2014.891961</td>\n",
              "      <td>1</td>\n",
              "      <td>survey</td>\n",
              "      <td>CMB-risk</td>\n",
              "      <td>0</td>\n",
              "      <td>0</td>\n",
              "      <td>0.0</td>\n",
              "      <td>0.0</td>\n",
              "      <td>0.0</td>\n",
              "      <td>0.0</td>\n",
              "      <td>0.0</td>\n",
              "      <td>0.0</td>\n",
              "      <td>0.0</td>\n",
              "      <td>0.0</td>\n",
              "      <td>0.0</td>\n",
              "      <td>0.0</td>\n",
              "      <td>0.0</td>\n",
              "      <td>0.0</td>\n",
              "      <td>0.0</td>\n",
              "      <td>0.0</td>\n",
              "      <td>0.0</td>\n",
              "      <td>0.0</td>\n",
              "      <td>0.0</td>\n",
              "      <td>0.0</td>\n",
              "      <td>0.0</td>\n",
              "      <td>0.0</td>\n",
              "      <td>0.0</td>\n",
              "      <td>0.0</td>\n",
              "    </tr>\n",
              "    <tr>\n",
              "      <th>3265</th>\n",
              "      <td>JHMM</td>\n",
              "      <td>Prayag, G; Khoo-Lattimore, C; Sitruk, J</td>\n",
              "      <td>Casual Dining on the French Riviera: Examining...</td>\n",
              "      <td>2015.0</td>\n",
              "      <td>10.1080/19368623.2014.859114</td>\n",
              "      <td>1</td>\n",
              "      <td>survey</td>\n",
              "      <td>CMB-risk</td>\n",
              "      <td>0</td>\n",
              "      <td>0</td>\n",
              "      <td>0.0</td>\n",
              "      <td>0.0</td>\n",
              "      <td>0.0</td>\n",
              "      <td>0.0</td>\n",
              "      <td>0.0</td>\n",
              "      <td>0.0</td>\n",
              "      <td>0.0</td>\n",
              "      <td>0.0</td>\n",
              "      <td>0.0</td>\n",
              "      <td>0.0</td>\n",
              "      <td>0.0</td>\n",
              "      <td>0.0</td>\n",
              "      <td>0.0</td>\n",
              "      <td>0.0</td>\n",
              "      <td>0.0</td>\n",
              "      <td>0.0</td>\n",
              "      <td>0.0</td>\n",
              "      <td>0.0</td>\n",
              "      <td>0.0</td>\n",
              "      <td>0.0</td>\n",
              "      <td>0.0</td>\n",
              "      <td>0.0</td>\n",
              "    </tr>\n",
              "    <tr>\n",
              "      <th>3266</th>\n",
              "      <td>JHMM</td>\n",
              "      <td>Morosan, C</td>\n",
              "      <td>The Influence of DMO Advertising on Specific D...</td>\n",
              "      <td>2015.0</td>\n",
              "      <td>10.1080/19368623.2014.891962</td>\n",
              "      <td>1</td>\n",
              "      <td>survey</td>\n",
              "      <td>CMB-risk</td>\n",
              "      <td>0</td>\n",
              "      <td>0</td>\n",
              "      <td>0.0</td>\n",
              "      <td>0.0</td>\n",
              "      <td>0.0</td>\n",
              "      <td>0.0</td>\n",
              "      <td>0.0</td>\n",
              "      <td>0.0</td>\n",
              "      <td>0.0</td>\n",
              "      <td>0.0</td>\n",
              "      <td>0.0</td>\n",
              "      <td>0.0</td>\n",
              "      <td>0.0</td>\n",
              "      <td>0.0</td>\n",
              "      <td>0.0</td>\n",
              "      <td>0.0</td>\n",
              "      <td>0.0</td>\n",
              "      <td>0.0</td>\n",
              "      <td>0.0</td>\n",
              "      <td>0.0</td>\n",
              "      <td>0.0</td>\n",
              "      <td>0.0</td>\n",
              "      <td>0.0</td>\n",
              "      <td>0.0</td>\n",
              "    </tr>\n",
              "    <tr>\n",
              "      <th>3267</th>\n",
              "      <td>JHMM</td>\n",
              "      <td>Memarzadeh, F; Chang, HJ</td>\n",
              "      <td>Online Consumer Complaints About Southeast Asi...</td>\n",
              "      <td>2015.0</td>\n",
              "      <td>10.1080/19368623.2014.893222</td>\n",
              "      <td>0</td>\n",
              "      <td>content analysis</td>\n",
              "      <td>CMB-free</td>\n",
              "      <td>NaN</td>\n",
              "      <td>NaN</td>\n",
              "      <td>NaN</td>\n",
              "      <td>NaN</td>\n",
              "      <td>NaN</td>\n",
              "      <td>NaN</td>\n",
              "      <td>NaN</td>\n",
              "      <td>NaN</td>\n",
              "      <td>NaN</td>\n",
              "      <td>NaN</td>\n",
              "      <td>NaN</td>\n",
              "      <td>NaN</td>\n",
              "      <td>NaN</td>\n",
              "      <td>NaN</td>\n",
              "      <td>NaN</td>\n",
              "      <td>NaN</td>\n",
              "      <td>NaN</td>\n",
              "      <td>NaN</td>\n",
              "      <td>NaN</td>\n",
              "      <td>NaN</td>\n",
              "      <td>NaN</td>\n",
              "      <td>NaN</td>\n",
              "      <td>NaN</td>\n",
              "      <td>NaN</td>\n",
              "    </tr>\n",
              "    <tr>\n",
              "      <th>3268</th>\n",
              "      <td>JHMM</td>\n",
              "      <td>Cao, Y; Kim, K</td>\n",
              "      <td>How Do Customers Perceive Service Quality in D...</td>\n",
              "      <td>2015.0</td>\n",
              "      <td>10.1080/19368623.2014.903817</td>\n",
              "      <td>1</td>\n",
              "      <td>survey</td>\n",
              "      <td>CMB-risk</td>\n",
              "      <td>0</td>\n",
              "      <td>0</td>\n",
              "      <td>0.0</td>\n",
              "      <td>0.0</td>\n",
              "      <td>0.0</td>\n",
              "      <td>0.0</td>\n",
              "      <td>0.0</td>\n",
              "      <td>0.0</td>\n",
              "      <td>0.0</td>\n",
              "      <td>0.0</td>\n",
              "      <td>0.0</td>\n",
              "      <td>0.0</td>\n",
              "      <td>0.0</td>\n",
              "      <td>0.0</td>\n",
              "      <td>0.0</td>\n",
              "      <td>0.0</td>\n",
              "      <td>0.0</td>\n",
              "      <td>0.0</td>\n",
              "      <td>0.0</td>\n",
              "      <td>0.0</td>\n",
              "      <td>0.0</td>\n",
              "      <td>0.0</td>\n",
              "      <td>0.0</td>\n",
              "      <td>0.0</td>\n",
              "    </tr>\n",
              "  </tbody>\n",
              "</table>\n",
              "<p>3269 rows × 32 columns</p>\n",
              "</div>"
            ],
            "text/plain": [
              "         JO                                       AU  ... DMLMF  SULMF\n",
              "0     IJCHM          Ineson, EM; Comic, D; Kalmic, L  ...   0.0    0.0\n",
              "1     IJCHM                      Benitez-Aurioles, B  ...   0.0    0.0\n",
              "2     IJCHM                 Hu, XB; Yang, Y; Park, S  ...   0.0    0.0\n",
              "3     IJCHM      Ahmat, NHC; Arendt, SW; Russell, DW  ...   1.0    0.0\n",
              "4     IJCHM                      Kim, EL; Tanford, S  ...   0.0    0.0\n",
              "...     ...                                      ...  ...   ...    ...\n",
              "3264   JHMM           de Leaniz, PMG; Rodriguez, IRD  ...   0.0    0.0\n",
              "3265   JHMM  Prayag, G; Khoo-Lattimore, C; Sitruk, J  ...   0.0    0.0\n",
              "3266   JHMM                               Morosan, C  ...   0.0    0.0\n",
              "3267   JHMM                 Memarzadeh, F; Chang, HJ  ...   NaN    NaN\n",
              "3268   JHMM                           Cao, Y; Kim, K  ...   0.0    0.0\n",
              "\n",
              "[3269 rows x 32 columns]"
            ]
          },
          "metadata": {
            "tags": []
          },
          "execution_count": 4
        }
      ]
    },
    {
      "cell_type": "code",
      "metadata": {
        "id": "ginSQBRq9epM"
      },
      "source": [
        "with open(\"/content/drive/MyDrive/Colab Notebooks/TopicModeling/Methodology/df_all_final.pkl\", \"rb\") as fh:\n",
        "  df = pickle.load(fh)"
      ],
      "execution_count": 5,
      "outputs": []
    },
    {
      "cell_type": "code",
      "metadata": {
        "colab": {
          "base_uri": "https://localhost:8080/",
          "height": 602
        },
        "id": "HI4Q2gb79taN",
        "outputId": "dc979b74-1a81-4c5d-ca6b-7ec82d0c8b77"
      },
      "source": [
        "df"
      ],
      "execution_count": 6,
      "outputs": [
        {
          "output_type": "execute_result",
          "data": {
            "text/html": [
              "<div>\n",
              "<style scoped>\n",
              "    .dataframe tbody tr th:only-of-type {\n",
              "        vertical-align: middle;\n",
              "    }\n",
              "\n",
              "    .dataframe tbody tr th {\n",
              "        vertical-align: top;\n",
              "    }\n",
              "\n",
              "    .dataframe thead th {\n",
              "        text-align: right;\n",
              "    }\n",
              "</style>\n",
              "<table border=\"1\" class=\"dataframe\">\n",
              "  <thead>\n",
              "    <tr style=\"text-align: right;\">\n",
              "      <th></th>\n",
              "      <th>JO</th>\n",
              "      <th>AU</th>\n",
              "      <th>TI</th>\n",
              "      <th>PY</th>\n",
              "      <th>DI</th>\n",
              "      <th>urls</th>\n",
              "      <th>filename</th>\n",
              "      <th>methodology</th>\n",
              "    </tr>\n",
              "  </thead>\n",
              "  <tbody>\n",
              "    <tr>\n",
              "      <th>0</th>\n",
              "      <td>IJCHM</td>\n",
              "      <td>Ineson, EM; Comic, D; Kalmic, L</td>\n",
              "      <td>Towards a hierarchy of hotel guests' in-room n...</td>\n",
              "      <td>2019.0</td>\n",
              "      <td>10.1108/IJCHM-01-2019-0061</td>\n",
              "      <td>https://www.emerald.com/insight/content/doi/10...</td>\n",
              "      <td>IJCHM_0.txt</td>\n",
              "      <td>Methodology\\nThe design is qualitative and exp...</td>\n",
              "    </tr>\n",
              "    <tr>\n",
              "      <th>1</th>\n",
              "      <td>IJCHM</td>\n",
              "      <td>Benitez-Aurioles, B</td>\n",
              "      <td>Barcelona's peer-to-peer tourist accommodation...</td>\n",
              "      <td>2019.0</td>\n",
              "      <td>10.1108/IJCHM-01-2019-0090</td>\n",
              "      <td>https://www.emerald.com/insight/content/doi/10...</td>\n",
              "      <td>IJCHM_1.txt</td>\n",
              "      <td>Data\\nThere are no official statistics on the ...</td>\n",
              "    </tr>\n",
              "    <tr>\n",
              "      <th>2</th>\n",
              "      <td>IJCHM</td>\n",
              "      <td>Hu, XB; Yang, Y; Park, S</td>\n",
              "      <td>A meta-regression on the effect of online rati...</td>\n",
              "      <td>2019.0</td>\n",
              "      <td>10.1108/IJCHM-10-2018-0835</td>\n",
              "      <td>https://www.emerald.com/insight/content/doi/10...</td>\n",
              "      <td>IJCHM_2.txt</td>\n",
              "      <td>3. Research method\\nWe searched the empirical ...</td>\n",
              "    </tr>\n",
              "    <tr>\n",
              "      <th>3</th>\n",
              "      <td>IJCHM</td>\n",
              "      <td>Ahmat, NHC; Arendt, SW; Russell, DW</td>\n",
              "      <td>Examining work factors after Malaysia's minimu...</td>\n",
              "      <td>2019.0</td>\n",
              "      <td>10.1108/IJCHM-10-2018-0827</td>\n",
              "      <td>https://www.emerald.com/insight/content/doi/10...</td>\n",
              "      <td>IJCHM_3.txt</td>\n",
              "      <td>Methods\\nParticipants\\nEmployees from operatio...</td>\n",
              "    </tr>\n",
              "    <tr>\n",
              "      <th>4</th>\n",
              "      <td>IJCHM</td>\n",
              "      <td>Kim, EL; Tanford, S</td>\n",
              "      <td>Seeking reward or avoiding risk from restauran...</td>\n",
              "      <td>2019.0</td>\n",
              "      <td>10.1108/IJCHM-03-2018-0235</td>\n",
              "      <td>https://www.emerald.com/insight/content/doi/10...</td>\n",
              "      <td>IJCHM_4.txt</td>\n",
              "      <td>Method\\nDesign\\nParticipants made dining decis...</td>\n",
              "    </tr>\n",
              "    <tr>\n",
              "      <th>...</th>\n",
              "      <td>...</td>\n",
              "      <td>...</td>\n",
              "      <td>...</td>\n",
              "      <td>...</td>\n",
              "      <td>...</td>\n",
              "      <td>...</td>\n",
              "      <td>...</td>\n",
              "      <td>...</td>\n",
              "    </tr>\n",
              "    <tr>\n",
              "      <th>3264</th>\n",
              "      <td>JHTR</td>\n",
              "      <td>Kim, W; Ok, C</td>\n",
              "      <td>CUSTOMER ORIENTATION OF SERVICE EMPLOYEES AND ...</td>\n",
              "      <td>2010.0</td>\n",
              "      <td>10.1177/1096348009344234</td>\n",
              "      <td>NaN</td>\n",
              "      <td>NaN</td>\n",
              "      <td>\\nMETHOD\\nMeasures\\nSignificant discrepant res...</td>\n",
              "    </tr>\n",
              "    <tr>\n",
              "      <th>3265</th>\n",
              "      <td>JHTR</td>\n",
              "      <td>Gazzoli, G; Hancer, M; Park, Y</td>\n",
              "      <td>THE ROLE AND EFFECT OF JOB SATISFACTION AND EM...</td>\n",
              "      <td>2010.0</td>\n",
              "      <td>10.1177/1096348009344235</td>\n",
              "      <td>NaN</td>\n",
              "      <td>NaN</td>\n",
              "      <td>\\nMETHOD\\nSample and Data Collection\\nBecause ...</td>\n",
              "    </tr>\n",
              "    <tr>\n",
              "      <th>3266</th>\n",
              "      <td>JHTR</td>\n",
              "      <td>Young, CA; Corsun, DL</td>\n",
              "      <td>BURNED! THE IMPACT OF WORK ASPECTS, INJURY, AN...</td>\n",
              "      <td>2010.0</td>\n",
              "      <td>10.1177/1096348009349816</td>\n",
              "      <td>NaN</td>\n",
              "      <td>NaN</td>\n",
              "      <td>\\nMETHOD\\nData Collection\\nManagement from 13 ...</td>\n",
              "    </tr>\n",
              "    <tr>\n",
              "      <th>3267</th>\n",
              "      <td>JHTR</td>\n",
              "      <td>Kim, DY; Wen, L; Doh, K</td>\n",
              "      <td>DOES CULTURAL DIFFERENCE AFFECT CUSTOMER'S RES...</td>\n",
              "      <td>2010.0</td>\n",
              "      <td>10.1177/1096348009349817</td>\n",
              "      <td>NaN</td>\n",
              "      <td>NaN</td>\n",
              "      <td>\\nMETHOD\\nSample\\nAn experimental design was e...</td>\n",
              "    </tr>\n",
              "    <tr>\n",
              "      <th>3268</th>\n",
              "      <td>JHTR</td>\n",
              "      <td>Pike, S</td>\n",
              "      <td>DESTINATION BRANDING CASE STUDY: TRACKING BRAN...</td>\n",
              "      <td>2010.0</td>\n",
              "      <td>10.1177/1096348009349820</td>\n",
              "      <td>NaN</td>\n",
              "      <td>NaN</td>\n",
              "      <td>\\nMETHOD\\nThe 2003 longitudinal study took pla...</td>\n",
              "    </tr>\n",
              "  </tbody>\n",
              "</table>\n",
              "<p>3269 rows × 8 columns</p>\n",
              "</div>"
            ],
            "text/plain": [
              "         JO  ...                                        methodology\n",
              "0     IJCHM  ...  Methodology\\nThe design is qualitative and exp...\n",
              "1     IJCHM  ...  Data\\nThere are no official statistics on the ...\n",
              "2     IJCHM  ...  3. Research method\\nWe searched the empirical ...\n",
              "3     IJCHM  ...  Methods\\nParticipants\\nEmployees from operatio...\n",
              "4     IJCHM  ...  Method\\nDesign\\nParticipants made dining decis...\n",
              "...     ...  ...                                                ...\n",
              "3264   JHTR  ...  \\nMETHOD\\nMeasures\\nSignificant discrepant res...\n",
              "3265   JHTR  ...  \\nMETHOD\\nSample and Data Collection\\nBecause ...\n",
              "3266   JHTR  ...  \\nMETHOD\\nData Collection\\nManagement from 13 ...\n",
              "3267   JHTR  ...  \\nMETHOD\\nSample\\nAn experimental design was e...\n",
              "3268   JHTR  ...  \\nMETHOD\\nThe 2003 longitudinal study took pla...\n",
              "\n",
              "[3269 rows x 8 columns]"
            ]
          },
          "metadata": {
            "tags": []
          },
          "execution_count": 6
        }
      ]
    },
    {
      "cell_type": "code",
      "metadata": {
        "id": "nEgKSjdKG8i-"
      },
      "source": [
        "df.dropna(subset=[\"methodology\"], inplace=True)"
      ],
      "execution_count": 7,
      "outputs": []
    },
    {
      "cell_type": "code",
      "metadata": {
        "colab": {
          "base_uri": "https://localhost:8080/",
          "height": 602
        },
        "id": "kh-AExFSHm16",
        "outputId": "d4657115-1d7a-4ddc-bef9-edc2c3d6d392"
      },
      "source": [
        "df"
      ],
      "execution_count": 8,
      "outputs": [
        {
          "output_type": "execute_result",
          "data": {
            "text/html": [
              "<div>\n",
              "<style scoped>\n",
              "    .dataframe tbody tr th:only-of-type {\n",
              "        vertical-align: middle;\n",
              "    }\n",
              "\n",
              "    .dataframe tbody tr th {\n",
              "        vertical-align: top;\n",
              "    }\n",
              "\n",
              "    .dataframe thead th {\n",
              "        text-align: right;\n",
              "    }\n",
              "</style>\n",
              "<table border=\"1\" class=\"dataframe\">\n",
              "  <thead>\n",
              "    <tr style=\"text-align: right;\">\n",
              "      <th></th>\n",
              "      <th>JO</th>\n",
              "      <th>AU</th>\n",
              "      <th>TI</th>\n",
              "      <th>PY</th>\n",
              "      <th>DI</th>\n",
              "      <th>urls</th>\n",
              "      <th>filename</th>\n",
              "      <th>methodology</th>\n",
              "    </tr>\n",
              "  </thead>\n",
              "  <tbody>\n",
              "    <tr>\n",
              "      <th>0</th>\n",
              "      <td>IJCHM</td>\n",
              "      <td>Ineson, EM; Comic, D; Kalmic, L</td>\n",
              "      <td>Towards a hierarchy of hotel guests' in-room n...</td>\n",
              "      <td>2019.0</td>\n",
              "      <td>10.1108/IJCHM-01-2019-0061</td>\n",
              "      <td>https://www.emerald.com/insight/content/doi/10...</td>\n",
              "      <td>IJCHM_0.txt</td>\n",
              "      <td>Methodology\\nThe design is qualitative and exp...</td>\n",
              "    </tr>\n",
              "    <tr>\n",
              "      <th>1</th>\n",
              "      <td>IJCHM</td>\n",
              "      <td>Benitez-Aurioles, B</td>\n",
              "      <td>Barcelona's peer-to-peer tourist accommodation...</td>\n",
              "      <td>2019.0</td>\n",
              "      <td>10.1108/IJCHM-01-2019-0090</td>\n",
              "      <td>https://www.emerald.com/insight/content/doi/10...</td>\n",
              "      <td>IJCHM_1.txt</td>\n",
              "      <td>Data\\nThere are no official statistics on the ...</td>\n",
              "    </tr>\n",
              "    <tr>\n",
              "      <th>2</th>\n",
              "      <td>IJCHM</td>\n",
              "      <td>Hu, XB; Yang, Y; Park, S</td>\n",
              "      <td>A meta-regression on the effect of online rati...</td>\n",
              "      <td>2019.0</td>\n",
              "      <td>10.1108/IJCHM-10-2018-0835</td>\n",
              "      <td>https://www.emerald.com/insight/content/doi/10...</td>\n",
              "      <td>IJCHM_2.txt</td>\n",
              "      <td>3. Research method\\nWe searched the empirical ...</td>\n",
              "    </tr>\n",
              "    <tr>\n",
              "      <th>3</th>\n",
              "      <td>IJCHM</td>\n",
              "      <td>Ahmat, NHC; Arendt, SW; Russell, DW</td>\n",
              "      <td>Examining work factors after Malaysia's minimu...</td>\n",
              "      <td>2019.0</td>\n",
              "      <td>10.1108/IJCHM-10-2018-0827</td>\n",
              "      <td>https://www.emerald.com/insight/content/doi/10...</td>\n",
              "      <td>IJCHM_3.txt</td>\n",
              "      <td>Methods\\nParticipants\\nEmployees from operatio...</td>\n",
              "    </tr>\n",
              "    <tr>\n",
              "      <th>4</th>\n",
              "      <td>IJCHM</td>\n",
              "      <td>Kim, EL; Tanford, S</td>\n",
              "      <td>Seeking reward or avoiding risk from restauran...</td>\n",
              "      <td>2019.0</td>\n",
              "      <td>10.1108/IJCHM-03-2018-0235</td>\n",
              "      <td>https://www.emerald.com/insight/content/doi/10...</td>\n",
              "      <td>IJCHM_4.txt</td>\n",
              "      <td>Method\\nDesign\\nParticipants made dining decis...</td>\n",
              "    </tr>\n",
              "    <tr>\n",
              "      <th>...</th>\n",
              "      <td>...</td>\n",
              "      <td>...</td>\n",
              "      <td>...</td>\n",
              "      <td>...</td>\n",
              "      <td>...</td>\n",
              "      <td>...</td>\n",
              "      <td>...</td>\n",
              "      <td>...</td>\n",
              "    </tr>\n",
              "    <tr>\n",
              "      <th>3264</th>\n",
              "      <td>JHTR</td>\n",
              "      <td>Kim, W; Ok, C</td>\n",
              "      <td>CUSTOMER ORIENTATION OF SERVICE EMPLOYEES AND ...</td>\n",
              "      <td>2010.0</td>\n",
              "      <td>10.1177/1096348009344234</td>\n",
              "      <td>NaN</td>\n",
              "      <td>NaN</td>\n",
              "      <td>\\nMETHOD\\nMeasures\\nSignificant discrepant res...</td>\n",
              "    </tr>\n",
              "    <tr>\n",
              "      <th>3265</th>\n",
              "      <td>JHTR</td>\n",
              "      <td>Gazzoli, G; Hancer, M; Park, Y</td>\n",
              "      <td>THE ROLE AND EFFECT OF JOB SATISFACTION AND EM...</td>\n",
              "      <td>2010.0</td>\n",
              "      <td>10.1177/1096348009344235</td>\n",
              "      <td>NaN</td>\n",
              "      <td>NaN</td>\n",
              "      <td>\\nMETHOD\\nSample and Data Collection\\nBecause ...</td>\n",
              "    </tr>\n",
              "    <tr>\n",
              "      <th>3266</th>\n",
              "      <td>JHTR</td>\n",
              "      <td>Young, CA; Corsun, DL</td>\n",
              "      <td>BURNED! THE IMPACT OF WORK ASPECTS, INJURY, AN...</td>\n",
              "      <td>2010.0</td>\n",
              "      <td>10.1177/1096348009349816</td>\n",
              "      <td>NaN</td>\n",
              "      <td>NaN</td>\n",
              "      <td>\\nMETHOD\\nData Collection\\nManagement from 13 ...</td>\n",
              "    </tr>\n",
              "    <tr>\n",
              "      <th>3267</th>\n",
              "      <td>JHTR</td>\n",
              "      <td>Kim, DY; Wen, L; Doh, K</td>\n",
              "      <td>DOES CULTURAL DIFFERENCE AFFECT CUSTOMER'S RES...</td>\n",
              "      <td>2010.0</td>\n",
              "      <td>10.1177/1096348009349817</td>\n",
              "      <td>NaN</td>\n",
              "      <td>NaN</td>\n",
              "      <td>\\nMETHOD\\nSample\\nAn experimental design was e...</td>\n",
              "    </tr>\n",
              "    <tr>\n",
              "      <th>3268</th>\n",
              "      <td>JHTR</td>\n",
              "      <td>Pike, S</td>\n",
              "      <td>DESTINATION BRANDING CASE STUDY: TRACKING BRAN...</td>\n",
              "      <td>2010.0</td>\n",
              "      <td>10.1177/1096348009349820</td>\n",
              "      <td>NaN</td>\n",
              "      <td>NaN</td>\n",
              "      <td>\\nMETHOD\\nThe 2003 longitudinal study took pla...</td>\n",
              "    </tr>\n",
              "  </tbody>\n",
              "</table>\n",
              "<p>3076 rows × 8 columns</p>\n",
              "</div>"
            ],
            "text/plain": [
              "         JO  ...                                        methodology\n",
              "0     IJCHM  ...  Methodology\\nThe design is qualitative and exp...\n",
              "1     IJCHM  ...  Data\\nThere are no official statistics on the ...\n",
              "2     IJCHM  ...  3. Research method\\nWe searched the empirical ...\n",
              "3     IJCHM  ...  Methods\\nParticipants\\nEmployees from operatio...\n",
              "4     IJCHM  ...  Method\\nDesign\\nParticipants made dining decis...\n",
              "...     ...  ...                                                ...\n",
              "3264   JHTR  ...  \\nMETHOD\\nMeasures\\nSignificant discrepant res...\n",
              "3265   JHTR  ...  \\nMETHOD\\nSample and Data Collection\\nBecause ...\n",
              "3266   JHTR  ...  \\nMETHOD\\nData Collection\\nManagement from 13 ...\n",
              "3267   JHTR  ...  \\nMETHOD\\nSample\\nAn experimental design was e...\n",
              "3268   JHTR  ...  \\nMETHOD\\nThe 2003 longitudinal study took pla...\n",
              "\n",
              "[3076 rows x 8 columns]"
            ]
          },
          "metadata": {
            "tags": []
          },
          "execution_count": 8
        }
      ]
    },
    {
      "cell_type": "code",
      "metadata": {
        "id": "ulJaluBFQ7Og"
      },
      "source": [
        "df.reset_index(drop=True, inplace=True)"
      ],
      "execution_count": 9,
      "outputs": []
    },
    {
      "cell_type": "code",
      "metadata": {
        "id": "560b49h-TaAl"
      },
      "source": [
        "df[\"PY\"].fillna(2010, inplace=True)"
      ],
      "execution_count": 10,
      "outputs": []
    },
    {
      "cell_type": "code",
      "metadata": {
        "id": "adX2VjXTTS1P"
      },
      "source": [
        "df[\"PY\"] = df.PY.astype(\"int\")"
      ],
      "execution_count": 11,
      "outputs": []
    },
    {
      "cell_type": "code",
      "metadata": {
        "colab": {
          "base_uri": "https://localhost:8080/"
        },
        "id": "SmAzzm0tTNR5",
        "outputId": "636bc5ca-4c7f-4ee1-efff-b00a21a966ff"
      },
      "source": [
        "df.isnull().sum()"
      ],
      "execution_count": 12,
      "outputs": [
        {
          "output_type": "execute_result",
          "data": {
            "text/plain": [
              "JO              0\n",
              "AU              0\n",
              "TI              0\n",
              "PY              0\n",
              "DI              1\n",
              "urls           83\n",
              "filename       84\n",
              "methodology     0\n",
              "dtype: int64"
            ]
          },
          "metadata": {
            "tags": []
          },
          "execution_count": 12
        }
      ]
    },
    {
      "cell_type": "code",
      "metadata": {
        "colab": {
          "base_uri": "https://localhost:8080/",
          "height": 602
        },
        "id": "PcV95NYtYYgb",
        "outputId": "072cad8d-2272-43e1-8f59-f81a3bdce614"
      },
      "source": [
        "df.drop_duplicates(subset=\"TI\")"
      ],
      "execution_count": 13,
      "outputs": [
        {
          "output_type": "execute_result",
          "data": {
            "text/html": [
              "<div>\n",
              "<style scoped>\n",
              "    .dataframe tbody tr th:only-of-type {\n",
              "        vertical-align: middle;\n",
              "    }\n",
              "\n",
              "    .dataframe tbody tr th {\n",
              "        vertical-align: top;\n",
              "    }\n",
              "\n",
              "    .dataframe thead th {\n",
              "        text-align: right;\n",
              "    }\n",
              "</style>\n",
              "<table border=\"1\" class=\"dataframe\">\n",
              "  <thead>\n",
              "    <tr style=\"text-align: right;\">\n",
              "      <th></th>\n",
              "      <th>JO</th>\n",
              "      <th>AU</th>\n",
              "      <th>TI</th>\n",
              "      <th>PY</th>\n",
              "      <th>DI</th>\n",
              "      <th>urls</th>\n",
              "      <th>filename</th>\n",
              "      <th>methodology</th>\n",
              "    </tr>\n",
              "  </thead>\n",
              "  <tbody>\n",
              "    <tr>\n",
              "      <th>0</th>\n",
              "      <td>IJCHM</td>\n",
              "      <td>Ineson, EM; Comic, D; Kalmic, L</td>\n",
              "      <td>Towards a hierarchy of hotel guests' in-room n...</td>\n",
              "      <td>2019</td>\n",
              "      <td>10.1108/IJCHM-01-2019-0061</td>\n",
              "      <td>https://www.emerald.com/insight/content/doi/10...</td>\n",
              "      <td>IJCHM_0.txt</td>\n",
              "      <td>Methodology\\nThe design is qualitative and exp...</td>\n",
              "    </tr>\n",
              "    <tr>\n",
              "      <th>1</th>\n",
              "      <td>IJCHM</td>\n",
              "      <td>Benitez-Aurioles, B</td>\n",
              "      <td>Barcelona's peer-to-peer tourist accommodation...</td>\n",
              "      <td>2019</td>\n",
              "      <td>10.1108/IJCHM-01-2019-0090</td>\n",
              "      <td>https://www.emerald.com/insight/content/doi/10...</td>\n",
              "      <td>IJCHM_1.txt</td>\n",
              "      <td>Data\\nThere are no official statistics on the ...</td>\n",
              "    </tr>\n",
              "    <tr>\n",
              "      <th>2</th>\n",
              "      <td>IJCHM</td>\n",
              "      <td>Hu, XB; Yang, Y; Park, S</td>\n",
              "      <td>A meta-regression on the effect of online rati...</td>\n",
              "      <td>2019</td>\n",
              "      <td>10.1108/IJCHM-10-2018-0835</td>\n",
              "      <td>https://www.emerald.com/insight/content/doi/10...</td>\n",
              "      <td>IJCHM_2.txt</td>\n",
              "      <td>3. Research method\\nWe searched the empirical ...</td>\n",
              "    </tr>\n",
              "    <tr>\n",
              "      <th>3</th>\n",
              "      <td>IJCHM</td>\n",
              "      <td>Ahmat, NHC; Arendt, SW; Russell, DW</td>\n",
              "      <td>Examining work factors after Malaysia's minimu...</td>\n",
              "      <td>2019</td>\n",
              "      <td>10.1108/IJCHM-10-2018-0827</td>\n",
              "      <td>https://www.emerald.com/insight/content/doi/10...</td>\n",
              "      <td>IJCHM_3.txt</td>\n",
              "      <td>Methods\\nParticipants\\nEmployees from operatio...</td>\n",
              "    </tr>\n",
              "    <tr>\n",
              "      <th>4</th>\n",
              "      <td>IJCHM</td>\n",
              "      <td>Kim, EL; Tanford, S</td>\n",
              "      <td>Seeking reward or avoiding risk from restauran...</td>\n",
              "      <td>2019</td>\n",
              "      <td>10.1108/IJCHM-03-2018-0235</td>\n",
              "      <td>https://www.emerald.com/insight/content/doi/10...</td>\n",
              "      <td>IJCHM_4.txt</td>\n",
              "      <td>Method\\nDesign\\nParticipants made dining decis...</td>\n",
              "    </tr>\n",
              "    <tr>\n",
              "      <th>...</th>\n",
              "      <td>...</td>\n",
              "      <td>...</td>\n",
              "      <td>...</td>\n",
              "      <td>...</td>\n",
              "      <td>...</td>\n",
              "      <td>...</td>\n",
              "      <td>...</td>\n",
              "      <td>...</td>\n",
              "    </tr>\n",
              "    <tr>\n",
              "      <th>3071</th>\n",
              "      <td>JHTR</td>\n",
              "      <td>Kim, W; Ok, C</td>\n",
              "      <td>CUSTOMER ORIENTATION OF SERVICE EMPLOYEES AND ...</td>\n",
              "      <td>2010</td>\n",
              "      <td>10.1177/1096348009344234</td>\n",
              "      <td>NaN</td>\n",
              "      <td>NaN</td>\n",
              "      <td>\\nMETHOD\\nMeasures\\nSignificant discrepant res...</td>\n",
              "    </tr>\n",
              "    <tr>\n",
              "      <th>3072</th>\n",
              "      <td>JHTR</td>\n",
              "      <td>Gazzoli, G; Hancer, M; Park, Y</td>\n",
              "      <td>THE ROLE AND EFFECT OF JOB SATISFACTION AND EM...</td>\n",
              "      <td>2010</td>\n",
              "      <td>10.1177/1096348009344235</td>\n",
              "      <td>NaN</td>\n",
              "      <td>NaN</td>\n",
              "      <td>\\nMETHOD\\nSample and Data Collection\\nBecause ...</td>\n",
              "    </tr>\n",
              "    <tr>\n",
              "      <th>3073</th>\n",
              "      <td>JHTR</td>\n",
              "      <td>Young, CA; Corsun, DL</td>\n",
              "      <td>BURNED! THE IMPACT OF WORK ASPECTS, INJURY, AN...</td>\n",
              "      <td>2010</td>\n",
              "      <td>10.1177/1096348009349816</td>\n",
              "      <td>NaN</td>\n",
              "      <td>NaN</td>\n",
              "      <td>\\nMETHOD\\nData Collection\\nManagement from 13 ...</td>\n",
              "    </tr>\n",
              "    <tr>\n",
              "      <th>3074</th>\n",
              "      <td>JHTR</td>\n",
              "      <td>Kim, DY; Wen, L; Doh, K</td>\n",
              "      <td>DOES CULTURAL DIFFERENCE AFFECT CUSTOMER'S RES...</td>\n",
              "      <td>2010</td>\n",
              "      <td>10.1177/1096348009349817</td>\n",
              "      <td>NaN</td>\n",
              "      <td>NaN</td>\n",
              "      <td>\\nMETHOD\\nSample\\nAn experimental design was e...</td>\n",
              "    </tr>\n",
              "    <tr>\n",
              "      <th>3075</th>\n",
              "      <td>JHTR</td>\n",
              "      <td>Pike, S</td>\n",
              "      <td>DESTINATION BRANDING CASE STUDY: TRACKING BRAN...</td>\n",
              "      <td>2010</td>\n",
              "      <td>10.1177/1096348009349820</td>\n",
              "      <td>NaN</td>\n",
              "      <td>NaN</td>\n",
              "      <td>\\nMETHOD\\nThe 2003 longitudinal study took pla...</td>\n",
              "    </tr>\n",
              "  </tbody>\n",
              "</table>\n",
              "<p>3076 rows × 8 columns</p>\n",
              "</div>"
            ],
            "text/plain": [
              "         JO  ...                                        methodology\n",
              "0     IJCHM  ...  Methodology\\nThe design is qualitative and exp...\n",
              "1     IJCHM  ...  Data\\nThere are no official statistics on the ...\n",
              "2     IJCHM  ...  3. Research method\\nWe searched the empirical ...\n",
              "3     IJCHM  ...  Methods\\nParticipants\\nEmployees from operatio...\n",
              "4     IJCHM  ...  Method\\nDesign\\nParticipants made dining decis...\n",
              "...     ...  ...                                                ...\n",
              "3071   JHTR  ...  \\nMETHOD\\nMeasures\\nSignificant discrepant res...\n",
              "3072   JHTR  ...  \\nMETHOD\\nSample and Data Collection\\nBecause ...\n",
              "3073   JHTR  ...  \\nMETHOD\\nData Collection\\nManagement from 13 ...\n",
              "3074   JHTR  ...  \\nMETHOD\\nSample\\nAn experimental design was e...\n",
              "3075   JHTR  ...  \\nMETHOD\\nThe 2003 longitudinal study took pla...\n",
              "\n",
              "[3076 rows x 8 columns]"
            ]
          },
          "metadata": {
            "tags": []
          },
          "execution_count": 13
        }
      ]
    },
    {
      "cell_type": "code",
      "metadata": {
        "colab": {
          "base_uri": "https://localhost:8080/",
          "height": 941
        },
        "id": "AARpH_MtSadM",
        "outputId": "83e84e3a-3e2b-46af-9006-c3be194ff962"
      },
      "source": [
        "df_merged = pd.merge(df_method[[\"TI\", \"QUANTITATIVE\", \"Method\"]], df, left_on=\"TI\", right_on=\"TI\")\n",
        "df_merged"
      ],
      "execution_count": 14,
      "outputs": [
        {
          "output_type": "execute_result",
          "data": {
            "text/html": [
              "<div>\n",
              "<style scoped>\n",
              "    .dataframe tbody tr th:only-of-type {\n",
              "        vertical-align: middle;\n",
              "    }\n",
              "\n",
              "    .dataframe tbody tr th {\n",
              "        vertical-align: top;\n",
              "    }\n",
              "\n",
              "    .dataframe thead th {\n",
              "        text-align: right;\n",
              "    }\n",
              "</style>\n",
              "<table border=\"1\" class=\"dataframe\">\n",
              "  <thead>\n",
              "    <tr style=\"text-align: right;\">\n",
              "      <th></th>\n",
              "      <th>TI</th>\n",
              "      <th>QUANTITATIVE</th>\n",
              "      <th>Method</th>\n",
              "      <th>JO</th>\n",
              "      <th>AU</th>\n",
              "      <th>PY</th>\n",
              "      <th>DI</th>\n",
              "      <th>urls</th>\n",
              "      <th>filename</th>\n",
              "      <th>methodology</th>\n",
              "    </tr>\n",
              "  </thead>\n",
              "  <tbody>\n",
              "    <tr>\n",
              "      <th>0</th>\n",
              "      <td>Towards a hierarchy of hotel guests' in-room n...</td>\n",
              "      <td>0</td>\n",
              "      <td>phenomenology</td>\n",
              "      <td>IJCHM</td>\n",
              "      <td>Ineson, EM; Comic, D; Kalmic, L</td>\n",
              "      <td>2019</td>\n",
              "      <td>10.1108/IJCHM-01-2019-0061</td>\n",
              "      <td>https://www.emerald.com/insight/content/doi/10...</td>\n",
              "      <td>IJCHM_0.txt</td>\n",
              "      <td>Methodology\\nThe design is qualitative and exp...</td>\n",
              "    </tr>\n",
              "    <tr>\n",
              "      <th>1</th>\n",
              "      <td>Barcelona's peer-to-peer tourist accommodation...</td>\n",
              "      <td>1</td>\n",
              "      <td>secondary data</td>\n",
              "      <td>IJCHM</td>\n",
              "      <td>Benitez-Aurioles, B</td>\n",
              "      <td>2019</td>\n",
              "      <td>10.1108/IJCHM-01-2019-0090</td>\n",
              "      <td>https://www.emerald.com/insight/content/doi/10...</td>\n",
              "      <td>IJCHM_1.txt</td>\n",
              "      <td>Data\\nThere are no official statistics on the ...</td>\n",
              "    </tr>\n",
              "    <tr>\n",
              "      <th>2</th>\n",
              "      <td>A meta-regression on the effect of online rati...</td>\n",
              "      <td>0</td>\n",
              "      <td>review</td>\n",
              "      <td>IJCHM</td>\n",
              "      <td>Hu, XB; Yang, Y; Park, S</td>\n",
              "      <td>2019</td>\n",
              "      <td>10.1108/IJCHM-10-2018-0835</td>\n",
              "      <td>https://www.emerald.com/insight/content/doi/10...</td>\n",
              "      <td>IJCHM_2.txt</td>\n",
              "      <td>3. Research method\\nWe searched the empirical ...</td>\n",
              "    </tr>\n",
              "    <tr>\n",
              "      <th>3</th>\n",
              "      <td>Examining work factors after Malaysia's minimu...</td>\n",
              "      <td>1</td>\n",
              "      <td>survey</td>\n",
              "      <td>IJCHM</td>\n",
              "      <td>Ahmat, NHC; Arendt, SW; Russell, DW</td>\n",
              "      <td>2019</td>\n",
              "      <td>10.1108/IJCHM-10-2018-0827</td>\n",
              "      <td>https://www.emerald.com/insight/content/doi/10...</td>\n",
              "      <td>IJCHM_3.txt</td>\n",
              "      <td>Methods\\nParticipants\\nEmployees from operatio...</td>\n",
              "    </tr>\n",
              "    <tr>\n",
              "      <th>4</th>\n",
              "      <td>Seeking reward or avoiding risk from restauran...</td>\n",
              "      <td>1</td>\n",
              "      <td>experimental</td>\n",
              "      <td>IJCHM</td>\n",
              "      <td>Kim, EL; Tanford, S</td>\n",
              "      <td>2019</td>\n",
              "      <td>10.1108/IJCHM-03-2018-0235</td>\n",
              "      <td>https://www.emerald.com/insight/content/doi/10...</td>\n",
              "      <td>IJCHM_4.txt</td>\n",
              "      <td>Method\\nDesign\\nParticipants made dining decis...</td>\n",
              "    </tr>\n",
              "    <tr>\n",
              "      <th>...</th>\n",
              "      <td>...</td>\n",
              "      <td>...</td>\n",
              "      <td>...</td>\n",
              "      <td>...</td>\n",
              "      <td>...</td>\n",
              "      <td>...</td>\n",
              "      <td>...</td>\n",
              "      <td>...</td>\n",
              "      <td>...</td>\n",
              "      <td>...</td>\n",
              "    </tr>\n",
              "    <tr>\n",
              "      <th>3071</th>\n",
              "      <td>Attitudes, Perceptions, and Responses of Purch...</td>\n",
              "      <td>1</td>\n",
              "      <td>survey</td>\n",
              "      <td>JHMM</td>\n",
              "      <td>Ong, BS</td>\n",
              "      <td>2015</td>\n",
              "      <td>10.1080/19368623.2014.901201</td>\n",
              "      <td>https://www.tandfonline.com/doi/full/10.1080/1...</td>\n",
              "      <td>JHMM_223.txt</td>\n",
              "      <td>\\nMETHODOLOGY\\nGiven that daily deals are Inte...</td>\n",
              "    </tr>\n",
              "    <tr>\n",
              "      <th>3072</th>\n",
              "      <td>Exploring the Antecedents of Hotel Customer Lo...</td>\n",
              "      <td>1</td>\n",
              "      <td>survey</td>\n",
              "      <td>JHMM</td>\n",
              "      <td>de Leaniz, PMG; Rodriguez, IRD</td>\n",
              "      <td>2015</td>\n",
              "      <td>10.1080/19368623.2014.891961</td>\n",
              "      <td>https://www.tandfonline.com/doi/full/10.1080/1...</td>\n",
              "      <td>JHMM_224.txt</td>\n",
              "      <td>\\nMETHOD OF ANALYSIS\\nData Collection and Samp...</td>\n",
              "    </tr>\n",
              "    <tr>\n",
              "      <th>3073</th>\n",
              "      <td>Casual Dining on the French Riviera: Examining...</td>\n",
              "      <td>1</td>\n",
              "      <td>survey</td>\n",
              "      <td>JHMM</td>\n",
              "      <td>Prayag, G; Khoo-Lattimore, C; Sitruk, J</td>\n",
              "      <td>2015</td>\n",
              "      <td>10.1080/19368623.2014.859114</td>\n",
              "      <td>https://www.tandfonline.com/doi/full/10.1080/1...</td>\n",
              "      <td>JHMM_225.txt</td>\n",
              "      <td>\\nMETHODOLOGY\\nThe Study Site\\nThe French Rivi...</td>\n",
              "    </tr>\n",
              "    <tr>\n",
              "      <th>3074</th>\n",
              "      <td>The Influence of DMO Advertising on Specific D...</td>\n",
              "      <td>1</td>\n",
              "      <td>survey</td>\n",
              "      <td>JHMM</td>\n",
              "      <td>Morosan, C</td>\n",
              "      <td>2015</td>\n",
              "      <td>10.1080/19368623.2014.891962</td>\n",
              "      <td>https://www.tandfonline.com/doi/full/10.1080/1...</td>\n",
              "      <td>JHMM_226.txt</td>\n",
              "      <td>\\nMETHODOLOGY\\nInstrument Development\\nThe res...</td>\n",
              "    </tr>\n",
              "    <tr>\n",
              "      <th>3075</th>\n",
              "      <td>How Do Customers Perceive Service Quality in D...</td>\n",
              "      <td>1</td>\n",
              "      <td>survey</td>\n",
              "      <td>JHMM</td>\n",
              "      <td>Cao, Y; Kim, K</td>\n",
              "      <td>2015</td>\n",
              "      <td>10.1080/19368623.2014.903817</td>\n",
              "      <td>https://www.tandfonline.com/doi/full/10.1080/1...</td>\n",
              "      <td>JHMM_228.txt</td>\n",
              "      <td>\\nMETHOD\\nInstrument Development\\nThe survey q...</td>\n",
              "    </tr>\n",
              "  </tbody>\n",
              "</table>\n",
              "<p>3076 rows × 10 columns</p>\n",
              "</div>"
            ],
            "text/plain": [
              "                                                     TI  ...                                        methodology\n",
              "0     Towards a hierarchy of hotel guests' in-room n...  ...  Methodology\\nThe design is qualitative and exp...\n",
              "1     Barcelona's peer-to-peer tourist accommodation...  ...  Data\\nThere are no official statistics on the ...\n",
              "2     A meta-regression on the effect of online rati...  ...  3. Research method\\nWe searched the empirical ...\n",
              "3     Examining work factors after Malaysia's minimu...  ...  Methods\\nParticipants\\nEmployees from operatio...\n",
              "4     Seeking reward or avoiding risk from restauran...  ...  Method\\nDesign\\nParticipants made dining decis...\n",
              "...                                                 ...  ...                                                ...\n",
              "3071  Attitudes, Perceptions, and Responses of Purch...  ...  \\nMETHODOLOGY\\nGiven that daily deals are Inte...\n",
              "3072  Exploring the Antecedents of Hotel Customer Lo...  ...  \\nMETHOD OF ANALYSIS\\nData Collection and Samp...\n",
              "3073  Casual Dining on the French Riviera: Examining...  ...  \\nMETHODOLOGY\\nThe Study Site\\nThe French Rivi...\n",
              "3074  The Influence of DMO Advertising on Specific D...  ...  \\nMETHODOLOGY\\nInstrument Development\\nThe res...\n",
              "3075  How Do Customers Perceive Service Quality in D...  ...  \\nMETHOD\\nInstrument Development\\nThe survey q...\n",
              "\n",
              "[3076 rows x 10 columns]"
            ]
          },
          "metadata": {
            "tags": []
          },
          "execution_count": 14
        }
      ]
    },
    {
      "cell_type": "code",
      "metadata": {
        "colab": {
          "base_uri": "https://localhost:8080/"
        },
        "id": "mdH2moq8SaZi",
        "outputId": "9f2be80c-ec09-4d11-aab5-d64d8e212c9f"
      },
      "source": [
        "df_merged.isnull().sum()"
      ],
      "execution_count": 15,
      "outputs": [
        {
          "output_type": "execute_result",
          "data": {
            "text/plain": [
              "TI               0\n",
              "QUANTITATIVE     0\n",
              "Method           0\n",
              "JO               0\n",
              "AU               0\n",
              "PY               0\n",
              "DI               1\n",
              "urls            83\n",
              "filename        84\n",
              "methodology      0\n",
              "dtype: int64"
            ]
          },
          "metadata": {
            "tags": []
          },
          "execution_count": 15
        }
      ]
    },
    {
      "cell_type": "code",
      "metadata": {
        "colab": {
          "base_uri": "https://localhost:8080/"
        },
        "id": "4OC6W2T3SaXM",
        "outputId": "83768cd5-3958-4381-d703-2a6914902d26"
      },
      "source": [
        "df_merged.Method.value_counts()"
      ],
      "execution_count": 16,
      "outputs": [
        {
          "output_type": "execute_result",
          "data": {
            "text/plain": [
              "survey               1511\n",
              "secondary data        525\n",
              "experimental          346\n",
              "qualitative           177\n",
              "mixed                 112\n",
              "content analysis      104\n",
              "case study             99\n",
              "review                 76\n",
              "scale development      38\n",
              "bibliometric           18\n",
              "grounded theory        16\n",
              "phenomenology          15\n",
              "theoretical            11\n",
              "meta-analysis           7\n",
              "ethnography             6\n",
              "sna                     5\n",
              "textual analysis        4\n",
              "delphi                  3\n",
              "field study             1\n",
              "research note           1\n",
              "interview               1\n",
              "Name: Method, dtype: int64"
            ]
          },
          "metadata": {
            "tags": []
          },
          "execution_count": 16
        }
      ]
    },
    {
      "cell_type": "code",
      "metadata": {
        "colab": {
          "base_uri": "https://localhost:8080/",
          "height": 890
        },
        "id": "mh2hmLE6SaUB",
        "outputId": "c09395e7-78f8-416e-a656-8c9de6f45d8a"
      },
      "source": [
        "df_filtered = df_merged.groupby(\"Method\").filter(lambda x: len(x)>100)\n",
        "df_filtered"
      ],
      "execution_count": 17,
      "outputs": [
        {
          "output_type": "execute_result",
          "data": {
            "text/html": [
              "<div>\n",
              "<style scoped>\n",
              "    .dataframe tbody tr th:only-of-type {\n",
              "        vertical-align: middle;\n",
              "    }\n",
              "\n",
              "    .dataframe tbody tr th {\n",
              "        vertical-align: top;\n",
              "    }\n",
              "\n",
              "    .dataframe thead th {\n",
              "        text-align: right;\n",
              "    }\n",
              "</style>\n",
              "<table border=\"1\" class=\"dataframe\">\n",
              "  <thead>\n",
              "    <tr style=\"text-align: right;\">\n",
              "      <th></th>\n",
              "      <th>TI</th>\n",
              "      <th>QUANTITATIVE</th>\n",
              "      <th>Method</th>\n",
              "      <th>JO</th>\n",
              "      <th>AU</th>\n",
              "      <th>PY</th>\n",
              "      <th>DI</th>\n",
              "      <th>urls</th>\n",
              "      <th>filename</th>\n",
              "      <th>methodology</th>\n",
              "    </tr>\n",
              "  </thead>\n",
              "  <tbody>\n",
              "    <tr>\n",
              "      <th>1</th>\n",
              "      <td>Barcelona's peer-to-peer tourist accommodation...</td>\n",
              "      <td>1</td>\n",
              "      <td>secondary data</td>\n",
              "      <td>IJCHM</td>\n",
              "      <td>Benitez-Aurioles, B</td>\n",
              "      <td>2019</td>\n",
              "      <td>10.1108/IJCHM-01-2019-0090</td>\n",
              "      <td>https://www.emerald.com/insight/content/doi/10...</td>\n",
              "      <td>IJCHM_1.txt</td>\n",
              "      <td>Data\\nThere are no official statistics on the ...</td>\n",
              "    </tr>\n",
              "    <tr>\n",
              "      <th>3</th>\n",
              "      <td>Examining work factors after Malaysia's minimu...</td>\n",
              "      <td>1</td>\n",
              "      <td>survey</td>\n",
              "      <td>IJCHM</td>\n",
              "      <td>Ahmat, NHC; Arendt, SW; Russell, DW</td>\n",
              "      <td>2019</td>\n",
              "      <td>10.1108/IJCHM-10-2018-0827</td>\n",
              "      <td>https://www.emerald.com/insight/content/doi/10...</td>\n",
              "      <td>IJCHM_3.txt</td>\n",
              "      <td>Methods\\nParticipants\\nEmployees from operatio...</td>\n",
              "    </tr>\n",
              "    <tr>\n",
              "      <th>4</th>\n",
              "      <td>Seeking reward or avoiding risk from restauran...</td>\n",
              "      <td>1</td>\n",
              "      <td>experimental</td>\n",
              "      <td>IJCHM</td>\n",
              "      <td>Kim, EL; Tanford, S</td>\n",
              "      <td>2019</td>\n",
              "      <td>10.1108/IJCHM-03-2018-0235</td>\n",
              "      <td>https://www.emerald.com/insight/content/doi/10...</td>\n",
              "      <td>IJCHM_4.txt</td>\n",
              "      <td>Method\\nDesign\\nParticipants made dining decis...</td>\n",
              "    </tr>\n",
              "    <tr>\n",
              "      <th>5</th>\n",
              "      <td>Prices of short-stay accommodation: time serie...</td>\n",
              "      <td>1</td>\n",
              "      <td>secondary data</td>\n",
              "      <td>IJCHM</td>\n",
              "      <td>Gricar, S; Bojnec, S</td>\n",
              "      <td>2019</td>\n",
              "      <td>10.1108/IJCHM-01-2019-0091</td>\n",
              "      <td>https://www.emerald.com/insight/content/doi/10...</td>\n",
              "      <td>IJCHM_5.txt</td>\n",
              "      <td>Empirical setting\\nIn terms of relevant econom...</td>\n",
              "    </tr>\n",
              "    <tr>\n",
              "      <th>6</th>\n",
              "      <td>How do online reviewers' cultural traits and p...</td>\n",
              "      <td>1</td>\n",
              "      <td>content analysis</td>\n",
              "      <td>IJCHM</td>\n",
              "      <td>Mariani, M; Predvoditeleva, M</td>\n",
              "      <td>2019</td>\n",
              "      <td>10.1108/IJCHM-11-2018-0927</td>\n",
              "      <td>https://www.emerald.com/insight/content/doi/10...</td>\n",
              "      <td>IJCHM_7.txt</td>\n",
              "      <td>3. Research setting, design and methodology\\n3...</td>\n",
              "    </tr>\n",
              "    <tr>\n",
              "      <th>...</th>\n",
              "      <td>...</td>\n",
              "      <td>...</td>\n",
              "      <td>...</td>\n",
              "      <td>...</td>\n",
              "      <td>...</td>\n",
              "      <td>...</td>\n",
              "      <td>...</td>\n",
              "      <td>...</td>\n",
              "      <td>...</td>\n",
              "      <td>...</td>\n",
              "    </tr>\n",
              "    <tr>\n",
              "      <th>3071</th>\n",
              "      <td>Attitudes, Perceptions, and Responses of Purch...</td>\n",
              "      <td>1</td>\n",
              "      <td>survey</td>\n",
              "      <td>JHMM</td>\n",
              "      <td>Ong, BS</td>\n",
              "      <td>2015</td>\n",
              "      <td>10.1080/19368623.2014.901201</td>\n",
              "      <td>https://www.tandfonline.com/doi/full/10.1080/1...</td>\n",
              "      <td>JHMM_223.txt</td>\n",
              "      <td>\\nMETHODOLOGY\\nGiven that daily deals are Inte...</td>\n",
              "    </tr>\n",
              "    <tr>\n",
              "      <th>3072</th>\n",
              "      <td>Exploring the Antecedents of Hotel Customer Lo...</td>\n",
              "      <td>1</td>\n",
              "      <td>survey</td>\n",
              "      <td>JHMM</td>\n",
              "      <td>de Leaniz, PMG; Rodriguez, IRD</td>\n",
              "      <td>2015</td>\n",
              "      <td>10.1080/19368623.2014.891961</td>\n",
              "      <td>https://www.tandfonline.com/doi/full/10.1080/1...</td>\n",
              "      <td>JHMM_224.txt</td>\n",
              "      <td>\\nMETHOD OF ANALYSIS\\nData Collection and Samp...</td>\n",
              "    </tr>\n",
              "    <tr>\n",
              "      <th>3073</th>\n",
              "      <td>Casual Dining on the French Riviera: Examining...</td>\n",
              "      <td>1</td>\n",
              "      <td>survey</td>\n",
              "      <td>JHMM</td>\n",
              "      <td>Prayag, G; Khoo-Lattimore, C; Sitruk, J</td>\n",
              "      <td>2015</td>\n",
              "      <td>10.1080/19368623.2014.859114</td>\n",
              "      <td>https://www.tandfonline.com/doi/full/10.1080/1...</td>\n",
              "      <td>JHMM_225.txt</td>\n",
              "      <td>\\nMETHODOLOGY\\nThe Study Site\\nThe French Rivi...</td>\n",
              "    </tr>\n",
              "    <tr>\n",
              "      <th>3074</th>\n",
              "      <td>The Influence of DMO Advertising on Specific D...</td>\n",
              "      <td>1</td>\n",
              "      <td>survey</td>\n",
              "      <td>JHMM</td>\n",
              "      <td>Morosan, C</td>\n",
              "      <td>2015</td>\n",
              "      <td>10.1080/19368623.2014.891962</td>\n",
              "      <td>https://www.tandfonline.com/doi/full/10.1080/1...</td>\n",
              "      <td>JHMM_226.txt</td>\n",
              "      <td>\\nMETHODOLOGY\\nInstrument Development\\nThe res...</td>\n",
              "    </tr>\n",
              "    <tr>\n",
              "      <th>3075</th>\n",
              "      <td>How Do Customers Perceive Service Quality in D...</td>\n",
              "      <td>1</td>\n",
              "      <td>survey</td>\n",
              "      <td>JHMM</td>\n",
              "      <td>Cao, Y; Kim, K</td>\n",
              "      <td>2015</td>\n",
              "      <td>10.1080/19368623.2014.903817</td>\n",
              "      <td>https://www.tandfonline.com/doi/full/10.1080/1...</td>\n",
              "      <td>JHMM_228.txt</td>\n",
              "      <td>\\nMETHOD\\nInstrument Development\\nThe survey q...</td>\n",
              "    </tr>\n",
              "  </tbody>\n",
              "</table>\n",
              "<p>2775 rows × 10 columns</p>\n",
              "</div>"
            ],
            "text/plain": [
              "                                                     TI  ...                                        methodology\n",
              "1     Barcelona's peer-to-peer tourist accommodation...  ...  Data\\nThere are no official statistics on the ...\n",
              "3     Examining work factors after Malaysia's minimu...  ...  Methods\\nParticipants\\nEmployees from operatio...\n",
              "4     Seeking reward or avoiding risk from restauran...  ...  Method\\nDesign\\nParticipants made dining decis...\n",
              "5     Prices of short-stay accommodation: time serie...  ...  Empirical setting\\nIn terms of relevant econom...\n",
              "6     How do online reviewers' cultural traits and p...  ...  3. Research setting, design and methodology\\n3...\n",
              "...                                                 ...  ...                                                ...\n",
              "3071  Attitudes, Perceptions, and Responses of Purch...  ...  \\nMETHODOLOGY\\nGiven that daily deals are Inte...\n",
              "3072  Exploring the Antecedents of Hotel Customer Lo...  ...  \\nMETHOD OF ANALYSIS\\nData Collection and Samp...\n",
              "3073  Casual Dining on the French Riviera: Examining...  ...  \\nMETHODOLOGY\\nThe Study Site\\nThe French Rivi...\n",
              "3074  The Influence of DMO Advertising on Specific D...  ...  \\nMETHODOLOGY\\nInstrument Development\\nThe res...\n",
              "3075  How Do Customers Perceive Service Quality in D...  ...  \\nMETHOD\\nInstrument Development\\nThe survey q...\n",
              "\n",
              "[2775 rows x 10 columns]"
            ]
          },
          "metadata": {
            "tags": []
          },
          "execution_count": 17
        }
      ]
    },
    {
      "cell_type": "code",
      "metadata": {
        "id": "eGwNj5CRVn59"
      },
      "source": [
        "df_filtered = df_filtered[df_filtered.Method!=\"mixed\"]"
      ],
      "execution_count": 18,
      "outputs": []
    },
    {
      "cell_type": "code",
      "metadata": {
        "colab": {
          "base_uri": "https://localhost:8080/"
        },
        "id": "0HIMvGdyQAvl",
        "outputId": "19c12da8-bf5d-4d30-c103-f30773a7e23f"
      },
      "source": [
        "len(df_filtered)"
      ],
      "execution_count": 19,
      "outputs": [
        {
          "output_type": "execute_result",
          "data": {
            "text/plain": [
              "2663"
            ]
          },
          "metadata": {
            "tags": []
          },
          "execution_count": 19
        }
      ]
    },
    {
      "cell_type": "code",
      "metadata": {
        "colab": {
          "base_uri": "https://localhost:8080/"
        },
        "id": "geMUgmQwSaQ-",
        "outputId": "1952dbd3-c84f-4434-b91e-7c2204992fa9"
      },
      "source": [
        "df_filtered.Method.value_counts()"
      ],
      "execution_count": 20,
      "outputs": [
        {
          "output_type": "execute_result",
          "data": {
            "text/plain": [
              "survey              1511\n",
              "secondary data       525\n",
              "experimental         346\n",
              "qualitative          177\n",
              "content analysis     104\n",
              "Name: Method, dtype: int64"
            ]
          },
          "metadata": {
            "tags": []
          },
          "execution_count": 20
        }
      ]
    },
    {
      "cell_type": "code",
      "metadata": {
        "colab": {
          "base_uri": "https://localhost:8080/"
        },
        "id": "uOZFuzraVnzO",
        "outputId": "30798495-dc74-49ed-ff97-4a00bbfc9cf2"
      },
      "source": [
        "df_filtered.Method.value_counts(normalize=True)"
      ],
      "execution_count": 21,
      "outputs": [
        {
          "output_type": "execute_result",
          "data": {
            "text/plain": [
              "survey              0.567405\n",
              "secondary data      0.197146\n",
              "experimental        0.129929\n",
              "qualitative         0.066466\n",
              "content analysis    0.039054\n",
              "Name: Method, dtype: float64"
            ]
          },
          "metadata": {
            "tags": []
          },
          "execution_count": 21
        }
      ]
    },
    {
      "cell_type": "code",
      "metadata": {
        "id": "hW7nYMwJNM5e"
      },
      "source": [
        ""
      ],
      "execution_count": 21,
      "outputs": []
    },
    {
      "cell_type": "code",
      "metadata": {
        "colab": {
          "base_uri": "https://localhost:8080/"
        },
        "id": "8fjQDXveNM1r",
        "outputId": "a0b03be8-f662-4f88-9b59-8ef01e977be0"
      },
      "source": [
        "df_filtered.loc[:,'method_id'] = df_filtered['Method'].factorize()[0]"
      ],
      "execution_count": 22,
      "outputs": [
        {
          "output_type": "stream",
          "text": [
            "/usr/local/lib/python3.7/dist-packages/pandas/core/indexing.py:1596: SettingWithCopyWarning: \n",
            "A value is trying to be set on a copy of a slice from a DataFrame.\n",
            "Try using .loc[row_indexer,col_indexer] = value instead\n",
            "\n",
            "See the caveats in the documentation: https://pandas.pydata.org/pandas-docs/stable/user_guide/indexing.html#returning-a-view-versus-a-copy\n",
            "  self.obj[key] = _infer_fill_value(value)\n",
            "/usr/local/lib/python3.7/dist-packages/pandas/core/indexing.py:1743: SettingWithCopyWarning: \n",
            "A value is trying to be set on a copy of a slice from a DataFrame.\n",
            "Try using .loc[row_indexer,col_indexer] = value instead\n",
            "\n",
            "See the caveats in the documentation: https://pandas.pydata.org/pandas-docs/stable/user_guide/indexing.html#returning-a-view-versus-a-copy\n",
            "  isetter(ilocs[0], value)\n"
          ],
          "name": "stderr"
        }
      ]
    },
    {
      "cell_type": "code",
      "metadata": {
        "colab": {
          "base_uri": "https://localhost:8080/",
          "height": 405
        },
        "id": "KEFh6PCqNMzG",
        "outputId": "97aa0561-26d6-4eb1-d311-a5c824d1d135"
      },
      "source": [
        "df_filtered.head()"
      ],
      "execution_count": 23,
      "outputs": [
        {
          "output_type": "execute_result",
          "data": {
            "text/html": [
              "<div>\n",
              "<style scoped>\n",
              "    .dataframe tbody tr th:only-of-type {\n",
              "        vertical-align: middle;\n",
              "    }\n",
              "\n",
              "    .dataframe tbody tr th {\n",
              "        vertical-align: top;\n",
              "    }\n",
              "\n",
              "    .dataframe thead th {\n",
              "        text-align: right;\n",
              "    }\n",
              "</style>\n",
              "<table border=\"1\" class=\"dataframe\">\n",
              "  <thead>\n",
              "    <tr style=\"text-align: right;\">\n",
              "      <th></th>\n",
              "      <th>TI</th>\n",
              "      <th>QUANTITATIVE</th>\n",
              "      <th>Method</th>\n",
              "      <th>JO</th>\n",
              "      <th>AU</th>\n",
              "      <th>PY</th>\n",
              "      <th>DI</th>\n",
              "      <th>urls</th>\n",
              "      <th>filename</th>\n",
              "      <th>methodology</th>\n",
              "      <th>method_id</th>\n",
              "    </tr>\n",
              "  </thead>\n",
              "  <tbody>\n",
              "    <tr>\n",
              "      <th>1</th>\n",
              "      <td>Barcelona's peer-to-peer tourist accommodation...</td>\n",
              "      <td>1</td>\n",
              "      <td>secondary data</td>\n",
              "      <td>IJCHM</td>\n",
              "      <td>Benitez-Aurioles, B</td>\n",
              "      <td>2019</td>\n",
              "      <td>10.1108/IJCHM-01-2019-0090</td>\n",
              "      <td>https://www.emerald.com/insight/content/doi/10...</td>\n",
              "      <td>IJCHM_1.txt</td>\n",
              "      <td>Data\\nThere are no official statistics on the ...</td>\n",
              "      <td>0</td>\n",
              "    </tr>\n",
              "    <tr>\n",
              "      <th>3</th>\n",
              "      <td>Examining work factors after Malaysia's minimu...</td>\n",
              "      <td>1</td>\n",
              "      <td>survey</td>\n",
              "      <td>IJCHM</td>\n",
              "      <td>Ahmat, NHC; Arendt, SW; Russell, DW</td>\n",
              "      <td>2019</td>\n",
              "      <td>10.1108/IJCHM-10-2018-0827</td>\n",
              "      <td>https://www.emerald.com/insight/content/doi/10...</td>\n",
              "      <td>IJCHM_3.txt</td>\n",
              "      <td>Methods\\nParticipants\\nEmployees from operatio...</td>\n",
              "      <td>1</td>\n",
              "    </tr>\n",
              "    <tr>\n",
              "      <th>4</th>\n",
              "      <td>Seeking reward or avoiding risk from restauran...</td>\n",
              "      <td>1</td>\n",
              "      <td>experimental</td>\n",
              "      <td>IJCHM</td>\n",
              "      <td>Kim, EL; Tanford, S</td>\n",
              "      <td>2019</td>\n",
              "      <td>10.1108/IJCHM-03-2018-0235</td>\n",
              "      <td>https://www.emerald.com/insight/content/doi/10...</td>\n",
              "      <td>IJCHM_4.txt</td>\n",
              "      <td>Method\\nDesign\\nParticipants made dining decis...</td>\n",
              "      <td>2</td>\n",
              "    </tr>\n",
              "    <tr>\n",
              "      <th>5</th>\n",
              "      <td>Prices of short-stay accommodation: time serie...</td>\n",
              "      <td>1</td>\n",
              "      <td>secondary data</td>\n",
              "      <td>IJCHM</td>\n",
              "      <td>Gricar, S; Bojnec, S</td>\n",
              "      <td>2019</td>\n",
              "      <td>10.1108/IJCHM-01-2019-0091</td>\n",
              "      <td>https://www.emerald.com/insight/content/doi/10...</td>\n",
              "      <td>IJCHM_5.txt</td>\n",
              "      <td>Empirical setting\\nIn terms of relevant econom...</td>\n",
              "      <td>0</td>\n",
              "    </tr>\n",
              "    <tr>\n",
              "      <th>6</th>\n",
              "      <td>How do online reviewers' cultural traits and p...</td>\n",
              "      <td>1</td>\n",
              "      <td>content analysis</td>\n",
              "      <td>IJCHM</td>\n",
              "      <td>Mariani, M; Predvoditeleva, M</td>\n",
              "      <td>2019</td>\n",
              "      <td>10.1108/IJCHM-11-2018-0927</td>\n",
              "      <td>https://www.emerald.com/insight/content/doi/10...</td>\n",
              "      <td>IJCHM_7.txt</td>\n",
              "      <td>3. Research setting, design and methodology\\n3...</td>\n",
              "      <td>3</td>\n",
              "    </tr>\n",
              "  </tbody>\n",
              "</table>\n",
              "</div>"
            ],
            "text/plain": [
              "                                                  TI  ... method_id\n",
              "1  Barcelona's peer-to-peer tourist accommodation...  ...         0\n",
              "3  Examining work factors after Malaysia's minimu...  ...         1\n",
              "4  Seeking reward or avoiding risk from restauran...  ...         2\n",
              "5  Prices of short-stay accommodation: time serie...  ...         0\n",
              "6  How do online reviewers' cultural traits and p...  ...         3\n",
              "\n",
              "[5 rows x 11 columns]"
            ]
          },
          "metadata": {
            "tags": []
          },
          "execution_count": 23
        }
      ]
    },
    {
      "cell_type": "code",
      "metadata": {
        "colab": {
          "base_uri": "https://localhost:8080/"
        },
        "id": "C3wfJIZwNMvr",
        "outputId": "46f61466-fc06-4563-ab4a-91fe0c5889df"
      },
      "source": [
        "method_id_df = df_filtered[['Method', 'method_id']].drop_duplicates().sort_values('method_id')\n",
        "method_to_id = dict(method_id_df.values)\n",
        "method_to_id"
      ],
      "execution_count": 24,
      "outputs": [
        {
          "output_type": "execute_result",
          "data": {
            "text/plain": [
              "{'content analysis': 3,\n",
              " 'experimental': 2,\n",
              " 'qualitative': 4,\n",
              " 'secondary data': 0,\n",
              " 'survey': 1}"
            ]
          },
          "metadata": {
            "tags": []
          },
          "execution_count": 24
        }
      ]
    },
    {
      "cell_type": "code",
      "metadata": {
        "id": "fwAWCuwCNLP6"
      },
      "source": [
        ""
      ],
      "execution_count": 24,
      "outputs": []
    },
    {
      "cell_type": "code",
      "metadata": {
        "colab": {
          "base_uri": "https://localhost:8080/"
        },
        "id": "13RaJV1uPepg",
        "outputId": "bbaab723-7839-421d-acbe-375403ddc08e"
      },
      "source": [
        "id_to_method = dict(method_id_df[['method_id', 'Method']].values)\n",
        "id_to_method"
      ],
      "execution_count": 25,
      "outputs": [
        {
          "output_type": "execute_result",
          "data": {
            "text/plain": [
              "{0: 'secondary data',\n",
              " 1: 'survey',\n",
              " 2: 'experimental',\n",
              " 3: 'content analysis',\n",
              " 4: 'qualitative'}"
            ]
          },
          "metadata": {
            "tags": []
          },
          "execution_count": 25
        }
      ]
    },
    {
      "cell_type": "markdown",
      "metadata": {
        "id": "7jR2yvNPMcEp"
      },
      "source": [
        "* sublinear_df is set to True to use a logarithmic form for frequency.\n",
        "* min_df is the minimum numbers of documents a word must be present in to be kept.\n",
        "* norm is set to l2, to ensure all our feature vectors have a euclidian norm of 1.\n",
        "* ngram_range is set to (1, 2) to indicate that we want to consider both unigrams and bigrams.\n",
        "* stop_words is set to \"english\" to remove all common pronouns (\"a\", \"the\", ...) to reduce the number of noisy features."
      ]
    },
    {
      "cell_type": "code",
      "metadata": {
        "colab": {
          "base_uri": "https://localhost:8080/"
        },
        "id": "kBC7D73lea5a",
        "outputId": "4c249d3f-d6d8-4128-b18c-5a2463003ae0"
      },
      "source": [
        "df_filtered.shape"
      ],
      "execution_count": 26,
      "outputs": [
        {
          "output_type": "execute_result",
          "data": {
            "text/plain": [
              "(2663, 11)"
            ]
          },
          "metadata": {
            "tags": []
          },
          "execution_count": 26
        }
      ]
    },
    {
      "cell_type": "code",
      "metadata": {
        "colab": {
          "base_uri": "https://localhost:8080/"
        },
        "id": "gaoDQtWb0dVc",
        "outputId": "89ffa63d-0381-4f4f-8c2c-710b78d18ba5"
      },
      "source": [
        "from sklearn.feature_extraction.text import CountVectorizer\n",
        "cv = CountVectorizer(min_df=5, encoding='latin-1', ngram_range=(1, 2), stop_words='english',)\n",
        "\n",
        "features = cv.fit_transform(df_filtered.methodology).toarray()\n",
        "labels = df_filtered.method_id\n",
        "features.shape"
      ],
      "execution_count": 27,
      "outputs": [
        {
          "output_type": "execute_result",
          "data": {
            "text/plain": [
              "(2663, 44705)"
            ]
          },
          "metadata": {
            "tags": []
          },
          "execution_count": 27
        }
      ]
    },
    {
      "cell_type": "markdown",
      "metadata": {
        "id": "ovECLmeBO3uw"
      },
      "source": [
        "Now, each of 2663 methodology sections is represented by 44705 features, representing the tf-idf score for different unigrams and bigrams."
      ]
    },
    {
      "cell_type": "code",
      "metadata": {
        "id": "f0z_SGkfLPMx"
      },
      "source": [
        "from sklearn.model_selection import train_test_split, cross_val_score, KFold, GridSearchCV, RandomizedSearchCV\n",
        "from sklearn.feature_extraction.text import CountVectorizer\n",
        "from sklearn.feature_extraction.text import TfidfTransformer\n",
        "\n",
        "from sklearn.naive_bayes import MultinomialNB\n",
        "from sklearn.linear_model import LogisticRegression, SGDClassifier\n",
        "from sklearn.ensemble import RandomForestClassifier, VotingClassifier, BaggingClassifier\n",
        "from sklearn.svm import LinearSVC\n",
        "from sklearn.tree import DecisionTreeClassifier\n",
        "from lightgbm import LGBMClassifier"
      ],
      "execution_count": 28,
      "outputs": []
    },
    {
      "cell_type": "code",
      "metadata": {
        "id": "tnuGhWaws6PJ"
      },
      "source": [
        "X = df_filtered['methodology'] # Collection of documents\n",
        "y = df_filtered['Method'] # Target or the labels we want to predict \n",
        "\n",
        "X_train, X_test, y_train, y_test = train_test_split(X, y, \n",
        "                                                    test_size=0.25,\n",
        "                                                    random_state = 0)"
      ],
      "execution_count": 29,
      "outputs": []
    },
    {
      "cell_type": "code",
      "metadata": {
        "id": "pHhtXSIvETkP"
      },
      "source": [
        "clf1 = LGBMClassifier()\n",
        "clf2 = LinearSVC(class_weight= 'balanced')\n",
        "clf3 = SGDClassifier(class_weight= 'balanced')"
      ],
      "execution_count": 30,
      "outputs": []
    },
    {
      "cell_type": "code",
      "metadata": {
        "id": "GUMRittxLPKD"
      },
      "source": [
        "models = [\n",
        "    RandomForestClassifier(n_estimators=100, max_depth=5, random_state=1),\n",
        "    LinearSVC(class_weight= 'balanced', random_state=1),\n",
        "    MultinomialNB(),\n",
        "    LogisticRegression(class_weight= 'balanced', max_iter=10000, random_state=1),\n",
        "    SGDClassifier(class_weight= 'balanced', random_state=1),\n",
        "    DecisionTreeClassifier(random_state=1),\n",
        "    LGBMClassifier(),\n",
        "    BaggingClassifier(base_estimator=clf2, n_estimators=10, random_state=0),\n",
        "    VotingClassifier(estimators=[('lgbm', clf1), ('lrsvc', clf2), ('sdg', clf3)], voting='hard'),\n",
        "]\n",
        "\n",
        "# 5 Cross-validation\n",
        "CV = 5\n",
        "cv_df = pd.DataFrame(index=range(CV * len(models)))\n",
        "\n",
        "entries = []\n",
        "for model in models:\n",
        "  model_name = model.__class__.__name__\n",
        "  accuracies = cross_val_score(model, features, labels, scoring='accuracy', cv=CV)\n",
        "  for fold_idx, accuracy in enumerate(accuracies):\n",
        "    entries.append((model_name, fold_idx, accuracy))\n",
        "    \n",
        "cv_df = pd.DataFrame(entries, columns=['model_name', 'fold_idx', 'accuracy'])\n"
      ],
      "execution_count": 31,
      "outputs": []
    },
    {
      "cell_type": "code",
      "metadata": {
        "id": "ioR9_iN4pL9p",
        "colab": {
          "base_uri": "https://localhost:8080/",
          "height": 357
        },
        "outputId": "75fdecf0-2105-4100-a72a-c1eb5c3c1334"
      },
      "source": [
        "mean_accuracy = cv_df.groupby('model_name').accuracy.mean()\n",
        "std_accuracy = cv_df.groupby('model_name').accuracy.std()\n",
        "\n",
        "acc = pd.concat([mean_accuracy, std_accuracy], axis= 1, \n",
        "          ignore_index=True)\n",
        "acc.columns = ['Mean Accuracy', 'Standard deviation']\n",
        "acc.sort_values(\"Mean Accuracy\")"
      ],
      "execution_count": 32,
      "outputs": [
        {
          "output_type": "execute_result",
          "data": {
            "text/html": [
              "<div>\n",
              "<style scoped>\n",
              "    .dataframe tbody tr th:only-of-type {\n",
              "        vertical-align: middle;\n",
              "    }\n",
              "\n",
              "    .dataframe tbody tr th {\n",
              "        vertical-align: top;\n",
              "    }\n",
              "\n",
              "    .dataframe thead th {\n",
              "        text-align: right;\n",
              "    }\n",
              "</style>\n",
              "<table border=\"1\" class=\"dataframe\">\n",
              "  <thead>\n",
              "    <tr style=\"text-align: right;\">\n",
              "      <th></th>\n",
              "      <th>Mean Accuracy</th>\n",
              "      <th>Standard deviation</th>\n",
              "    </tr>\n",
              "    <tr>\n",
              "      <th>model_name</th>\n",
              "      <th></th>\n",
              "      <th></th>\n",
              "    </tr>\n",
              "  </thead>\n",
              "  <tbody>\n",
              "    <tr>\n",
              "      <th>RandomForestClassifier</th>\n",
              "      <td>0.659410</td>\n",
              "      <td>0.010619</td>\n",
              "    </tr>\n",
              "    <tr>\n",
              "      <th>DecisionTreeClassifier</th>\n",
              "      <td>0.836647</td>\n",
              "      <td>0.012437</td>\n",
              "    </tr>\n",
              "    <tr>\n",
              "      <th>MultinomialNB</th>\n",
              "      <td>0.894088</td>\n",
              "      <td>0.021333</td>\n",
              "    </tr>\n",
              "    <tr>\n",
              "      <th>SGDClassifier</th>\n",
              "      <td>0.895967</td>\n",
              "      <td>0.020220</td>\n",
              "    </tr>\n",
              "    <tr>\n",
              "      <th>LogisticRegression</th>\n",
              "      <td>0.899356</td>\n",
              "      <td>0.013498</td>\n",
              "    </tr>\n",
              "    <tr>\n",
              "      <th>BaggingClassifier</th>\n",
              "      <td>0.899357</td>\n",
              "      <td>0.010886</td>\n",
              "    </tr>\n",
              "    <tr>\n",
              "      <th>LinearSVC</th>\n",
              "      <td>0.900486</td>\n",
              "      <td>0.013884</td>\n",
              "    </tr>\n",
              "    <tr>\n",
              "      <th>VotingClassifier</th>\n",
              "      <td>0.911368</td>\n",
              "      <td>0.017452</td>\n",
              "    </tr>\n",
              "    <tr>\n",
              "      <th>LGBMClassifier</th>\n",
              "      <td>0.913999</td>\n",
              "      <td>0.013949</td>\n",
              "    </tr>\n",
              "  </tbody>\n",
              "</table>\n",
              "</div>"
            ],
            "text/plain": [
              "                        Mean Accuracy  Standard deviation\n",
              "model_name                                               \n",
              "RandomForestClassifier       0.659410            0.010619\n",
              "DecisionTreeClassifier       0.836647            0.012437\n",
              "MultinomialNB                0.894088            0.021333\n",
              "SGDClassifier                0.895967            0.020220\n",
              "LogisticRegression           0.899356            0.013498\n",
              "BaggingClassifier            0.899357            0.010886\n",
              "LinearSVC                    0.900486            0.013884\n",
              "VotingClassifier             0.911368            0.017452\n",
              "LGBMClassifier               0.913999            0.013949"
            ]
          },
          "metadata": {
            "tags": []
          },
          "execution_count": 32
        }
      ]
    },
    {
      "cell_type": "code",
      "metadata": {
        "colab": {
          "base_uri": "https://localhost:8080/",
          "height": 368
        },
        "id": "8E_UBW3EtTLU",
        "outputId": "7276f53a-84e0-438a-fbca-a9af29ca0e72"
      },
      "source": [
        "import matplotlib.pyplot as plt\n",
        "import seaborn as sns\n",
        "\n",
        "plt.figure(figsize=(16,5))\n",
        "sns.boxplot(x='model_name', y='accuracy', \n",
        "            data=cv_df, \n",
        "            color='lightblue', \n",
        "            showmeans=True)\n",
        "plt.title(\"MEAN ACCURACY (cv = 5)\\n\", size=14);"
      ],
      "execution_count": 33,
      "outputs": [
        {
          "output_type": "display_data",
          "data": {
            "image/png": "[encoded data removed]",
            "text/plain": [
              "<Figure size 1152x360 with 1 Axes>"
            ]
          },
          "metadata": {
            "tags": [],
            "needs_background": "light"
          }
        }
      ]
    },
    {
      "cell_type": "code",
      "metadata": {
        "id": "s7pKVDDIud3b"
      },
      "source": [
        "X_train, X_test, y_train, y_test,indices_train,indices_test = train_test_split(features, \n",
        "                                                               labels, \n",
        "                                                               df_filtered.index, test_size=0.25, \n",
        "                                                               random_state=21)\n",
        "model = LinearSVC(C= 2, class_weight= 'balanced')\n",
        "model.fit(X_train, y_train)\n",
        "y_pred = model.predict(X_test)"
      ],
      "execution_count": 52,
      "outputs": []
    },
    {
      "cell_type": "code",
      "metadata": {
        "colab": {
          "base_uri": "https://localhost:8080/"
        },
        "id": "xApD5uyytTE-",
        "outputId": "add54cc1-455e-4213-9a1f-6748d57607a3"
      },
      "source": [
        "from sklearn.metrics import confusion_matrix, classification_report, accuracy_score\n",
        "\n",
        "# Classification report\n",
        "print('\\t\\t\\t\\tCLASSIFICATIION METRICS\\n')\n",
        "print(classification_report(y_test, y_pred, \n",
        "                                    target_names= df_filtered['Method'].unique()))\n",
        "print(\"accuracy score: \", accuracy_score(y_test, y_pred))"
      ],
      "execution_count": 53,
      "outputs": [
        {
          "output_type": "stream",
          "text": [
            "\t\t\t\tCLASSIFICATIION METRICS\n",
            "\n",
            "                  precision    recall  f1-score   support\n",
            "\n",
            "  secondary data       0.87      0.89      0.88       136\n",
            "          survey       0.93      0.96      0.94       378\n",
            "    experimental       0.85      0.84      0.84        74\n",
            "content analysis       0.86      0.61      0.72        31\n",
            "     qualitative       0.95      0.83      0.89        47\n",
            "\n",
            "        accuracy                           0.91       666\n",
            "       macro avg       0.89      0.83      0.85       666\n",
            "    weighted avg       0.91      0.91      0.91       666\n",
            "\n",
            "accuracy score:  0.9069069069069069\n"
          ],
          "name": "stdout"
        }
      ]
    },
    {
      "cell_type": "code",
      "metadata": {
        "colab": {
          "base_uri": "https://localhost:8080/",
          "height": 532
        },
        "id": "Y2V7NXgntTBs",
        "outputId": "7a7c4557-0bed-4a42-dbf6-abfd17bf3204"
      },
      "source": [
        "conf_mat = confusion_matrix(y_test, y_pred)\n",
        "fig, ax = plt.subplots(figsize=(10,8))\n",
        "sns.heatmap(conf_mat, annot=True, cmap=\"Blues\", fmt='d',\n",
        "            xticklabels=method_id_df.Method.values, \n",
        "            yticklabels=method_id_df.Method.values)\n",
        "plt.ylabel('Actual')\n",
        "plt.xlabel('Predicted')\n",
        "plt.title(\"CONFUSION MATRIX - LinearSVC\\n\", size=16);"
      ],
      "execution_count": 54,
      "outputs": [
        {
          "output_type": "display_data",
          "data": {
            "image/png": "[encoded data removed]",
            "text/plain": [
              "<Figure size 720x576 with 2 Axes>"
            ]
          },
          "metadata": {
            "tags": [],
            "needs_background": "light"
          }
        }
      ]
    },
    {
      "cell_type": "code",
      "metadata": {
        "colab": {
          "base_uri": "https://localhost:8080/",
          "height": 1000
        },
        "id": "A6rRx6DntS7e",
        "outputId": "8cb12232-76a3-46a2-f4c4-1eb036e9071b"
      },
      "source": [
        "from IPython.display import display\n",
        "for predicted in method_id_df.method_id:\n",
        "  for actual in method_id_df.method_id:\n",
        "    if predicted != actual and conf_mat[actual, predicted] >= 5:\n",
        "      print(\"'{}' predicted as '{}' : {} examples.\".format(id_to_method[actual], id_to_method[predicted], conf_mat[actual, predicted]))\n",
        "      display(df_filtered.loc[indices_test[(y_test == actual) & (y_pred == predicted)]][['Method', 'methodology']])\n",
        "      print('')"
      ],
      "execution_count": 55,
      "outputs": [
        {
          "output_type": "stream",
          "text": [
            "'survey' predicted as 'secondary data' : 7 examples.\n"
          ],
          "name": "stdout"
        },
        {
          "output_type": "display_data",
          "data": {
            "text/html": [
              "<div>\n",
              "<style scoped>\n",
              "    .dataframe tbody tr th:only-of-type {\n",
              "        vertical-align: middle;\n",
              "    }\n",
              "\n",
              "    .dataframe tbody tr th {\n",
              "        vertical-align: top;\n",
              "    }\n",
              "\n",
              "    .dataframe thead th {\n",
              "        text-align: right;\n",
              "    }\n",
              "</style>\n",
              "<table border=\"1\" class=\"dataframe\">\n",
              "  <thead>\n",
              "    <tr style=\"text-align: right;\">\n",
              "      <th></th>\n",
              "      <th>Method</th>\n",
              "      <th>methodology</th>\n",
              "    </tr>\n",
              "  </thead>\n",
              "  <tbody>\n",
              "    <tr>\n",
              "      <th>2206</th>\n",
              "      <td>survey</td>\n",
              "      <td>3. Methods\\n3.1. Expenditure models\\nAs previo...</td>\n",
              "    </tr>\n",
              "    <tr>\n",
              "      <th>1619</th>\n",
              "      <td>survey</td>\n",
              "      <td>2. Theoretical and empirical models\\n2.1. Theo...</td>\n",
              "    </tr>\n",
              "    <tr>\n",
              "      <th>2472</th>\n",
              "      <td>survey</td>\n",
              "      <td>Method\\nIn this section, we describe our empir...</td>\n",
              "    </tr>\n",
              "    <tr>\n",
              "      <th>962</th>\n",
              "      <td>survey</td>\n",
              "      <td>4. Research design\\n4.1. Sample\\nThe authors c...</td>\n",
              "    </tr>\n",
              "    <tr>\n",
              "      <th>657</th>\n",
              "      <td>survey</td>\n",
              "      <td>Method\\nPopulation and sample\\nThe target popu...</td>\n",
              "    </tr>\n",
              "    <tr>\n",
              "      <th>1951</th>\n",
              "      <td>survey</td>\n",
              "      <td>3. Materials and methods\\n3.1. Data sources\\nT...</td>\n",
              "    </tr>\n",
              "    <tr>\n",
              "      <th>960</th>\n",
              "      <td>survey</td>\n",
              "      <td>2. Methods\\n2.1. Data\\nA survey on overbooking...</td>\n",
              "    </tr>\n",
              "  </tbody>\n",
              "</table>\n",
              "</div>"
            ],
            "text/plain": [
              "      Method                                        methodology\n",
              "2206  survey  3. Methods\\n3.1. Expenditure models\\nAs previo...\n",
              "1619  survey  2. Theoretical and empirical models\\n2.1. Theo...\n",
              "2472  survey  Method\\nIn this section, we describe our empir...\n",
              "962   survey  4. Research design\\n4.1. Sample\\nThe authors c...\n",
              "657   survey  Method\\nPopulation and sample\\nThe target popu...\n",
              "1951  survey  3. Materials and methods\\n3.1. Data sources\\nT...\n",
              "960   survey  2. Methods\\n2.1. Data\\nA survey on overbooking..."
            ]
          },
          "metadata": {
            "tags": []
          }
        },
        {
          "output_type": "stream",
          "text": [
            "\n",
            "'content analysis' predicted as 'secondary data' : 8 examples.\n"
          ],
          "name": "stdout"
        },
        {
          "output_type": "display_data",
          "data": {
            "text/html": [
              "<div>\n",
              "<style scoped>\n",
              "    .dataframe tbody tr th:only-of-type {\n",
              "        vertical-align: middle;\n",
              "    }\n",
              "\n",
              "    .dataframe tbody tr th {\n",
              "        vertical-align: top;\n",
              "    }\n",
              "\n",
              "    .dataframe thead th {\n",
              "        text-align: right;\n",
              "    }\n",
              "</style>\n",
              "<table border=\"1\" class=\"dataframe\">\n",
              "  <thead>\n",
              "    <tr style=\"text-align: right;\">\n",
              "      <th></th>\n",
              "      <th>Method</th>\n",
              "      <th>methodology</th>\n",
              "    </tr>\n",
              "  </thead>\n",
              "  <tbody>\n",
              "    <tr>\n",
              "      <th>731</th>\n",
              "      <td>content analysis</td>\n",
              "      <td>2. Methodology\\nThe data collection was conduc...</td>\n",
              "    </tr>\n",
              "    <tr>\n",
              "      <th>1006</th>\n",
              "      <td>content analysis</td>\n",
              "      <td>5. Method\\n5.1. Data and sample\\nFig. 1 summar...</td>\n",
              "    </tr>\n",
              "    <tr>\n",
              "      <th>143</th>\n",
              "      <td>content analysis</td>\n",
              "      <td>3. Methodology\\nMonthly data from January 1996...</td>\n",
              "    </tr>\n",
              "    <tr>\n",
              "      <th>452</th>\n",
              "      <td>content analysis</td>\n",
              "      <td>3. Method\\n3.1 Research instrument\\nThe disclo...</td>\n",
              "    </tr>\n",
              "    <tr>\n",
              "      <th>1601</th>\n",
              "      <td>content analysis</td>\n",
              "      <td>3. Method\\n3.1. Sample and data collection\\nWi...</td>\n",
              "    </tr>\n",
              "    <tr>\n",
              "      <th>866</th>\n",
              "      <td>content analysis</td>\n",
              "      <td>3. Methodology\\nIn line with a range of other ...</td>\n",
              "    </tr>\n",
              "    <tr>\n",
              "      <th>870</th>\n",
              "      <td>content analysis</td>\n",
              "      <td>Methodology\\nICT-related publications in eight...</td>\n",
              "    </tr>\n",
              "    <tr>\n",
              "      <th>1177</th>\n",
              "      <td>content analysis</td>\n",
              "      <td>2. Data and results\\nThe database is composed ...</td>\n",
              "    </tr>\n",
              "  </tbody>\n",
              "</table>\n",
              "</div>"
            ],
            "text/plain": [
              "                Method                                        methodology\n",
              "731   content analysis  2. Methodology\\nThe data collection was conduc...\n",
              "1006  content analysis  5. Method\\n5.1. Data and sample\\nFig. 1 summar...\n",
              "143   content analysis  3. Methodology\\nMonthly data from January 1996...\n",
              "452   content analysis  3. Method\\n3.1 Research instrument\\nThe disclo...\n",
              "1601  content analysis  3. Method\\n3.1. Sample and data collection\\nWi...\n",
              "866   content analysis  3. Methodology\\nIn line with a range of other ...\n",
              "870   content analysis  Methodology\\nICT-related publications in eight...\n",
              "1177  content analysis  2. Data and results\\nThe database is composed ..."
            ]
          },
          "metadata": {
            "tags": []
          }
        },
        {
          "output_type": "stream",
          "text": [
            "\n",
            "'secondary data' predicted as 'survey' : 11 examples.\n"
          ],
          "name": "stdout"
        },
        {
          "output_type": "display_data",
          "data": {
            "text/html": [
              "<div>\n",
              "<style scoped>\n",
              "    .dataframe tbody tr th:only-of-type {\n",
              "        vertical-align: middle;\n",
              "    }\n",
              "\n",
              "    .dataframe tbody tr th {\n",
              "        vertical-align: top;\n",
              "    }\n",
              "\n",
              "    .dataframe thead th {\n",
              "        text-align: right;\n",
              "    }\n",
              "</style>\n",
              "<table border=\"1\" class=\"dataframe\">\n",
              "  <thead>\n",
              "    <tr style=\"text-align: right;\">\n",
              "      <th></th>\n",
              "      <th>Method</th>\n",
              "      <th>methodology</th>\n",
              "    </tr>\n",
              "  </thead>\n",
              "  <tbody>\n",
              "    <tr>\n",
              "      <th>425</th>\n",
              "      <td>secondary data</td>\n",
              "      <td>Methodology\\nData collection\\nCouchSurfing.org...</td>\n",
              "    </tr>\n",
              "    <tr>\n",
              "      <th>2381</th>\n",
              "      <td>secondary data</td>\n",
              "      <td>Method\\nData Source\\nThe analysis below utiliz...</td>\n",
              "    </tr>\n",
              "    <tr>\n",
              "      <th>2736</th>\n",
              "      <td>secondary data</td>\n",
              "      <td>Study Method\\nThis study is part of a multipha...</td>\n",
              "    </tr>\n",
              "    <tr>\n",
              "      <th>1648</th>\n",
              "      <td>secondary data</td>\n",
              "      <td>3. Method\\n3.1. Sample\\nThe database was creat...</td>\n",
              "    </tr>\n",
              "    <tr>\n",
              "      <th>1840</th>\n",
              "      <td>secondary data</td>\n",
              "      <td>3. Methodology\\nIn an effort to explore the ap...</td>\n",
              "    </tr>\n",
              "    <tr>\n",
              "      <th>777</th>\n",
              "      <td>secondary data</td>\n",
              "      <td>3. Data\\nTo address the questions raised by th...</td>\n",
              "    </tr>\n",
              "    <tr>\n",
              "      <th>729</th>\n",
              "      <td>secondary data</td>\n",
              "      <td>3. Methodology\\nThe survey of this study was c...</td>\n",
              "    </tr>\n",
              "    <tr>\n",
              "      <th>1688</th>\n",
              "      <td>secondary data</td>\n",
              "      <td>4. Methodology\\n4.1. Research design\\nIn the c...</td>\n",
              "    </tr>\n",
              "    <tr>\n",
              "      <th>196</th>\n",
              "      <td>secondary data</td>\n",
              "      <td>3. Methodology\\nTo test the hypotheses, an emp...</td>\n",
              "    </tr>\n",
              "    <tr>\n",
              "      <th>878</th>\n",
              "      <td>secondary data</td>\n",
              "      <td>3. Data\\nThe data for this study were obtained...</td>\n",
              "    </tr>\n",
              "    <tr>\n",
              "      <th>2955</th>\n",
              "      <td>secondary data</td>\n",
              "      <td>Method\\nThe research context\\nA B&amp;B is defined...</td>\n",
              "    </tr>\n",
              "  </tbody>\n",
              "</table>\n",
              "</div>"
            ],
            "text/plain": [
              "              Method                                        methodology\n",
              "425   secondary data  Methodology\\nData collection\\nCouchSurfing.org...\n",
              "2381  secondary data  Method\\nData Source\\nThe analysis below utiliz...\n",
              "2736  secondary data  Study Method\\nThis study is part of a multipha...\n",
              "1648  secondary data  3. Method\\n3.1. Sample\\nThe database was creat...\n",
              "1840  secondary data  3. Methodology\\nIn an effort to explore the ap...\n",
              "777   secondary data  3. Data\\nTo address the questions raised by th...\n",
              "729   secondary data  3. Methodology\\nThe survey of this study was c...\n",
              "1688  secondary data  4. Methodology\\n4.1. Research design\\nIn the c...\n",
              "196   secondary data  3. Methodology\\nTo test the hypotheses, an emp...\n",
              "878   secondary data  3. Data\\nThe data for this study were obtained...\n",
              "2955  secondary data  Method\\nThe research context\\nA B&B is defined..."
            ]
          },
          "metadata": {
            "tags": []
          }
        },
        {
          "output_type": "stream",
          "text": [
            "\n",
            "'experimental' predicted as 'survey' : 9 examples.\n"
          ],
          "name": "stdout"
        },
        {
          "output_type": "display_data",
          "data": {
            "text/html": [
              "<div>\n",
              "<style scoped>\n",
              "    .dataframe tbody tr th:only-of-type {\n",
              "        vertical-align: middle;\n",
              "    }\n",
              "\n",
              "    .dataframe tbody tr th {\n",
              "        vertical-align: top;\n",
              "    }\n",
              "\n",
              "    .dataframe thead th {\n",
              "        text-align: right;\n",
              "    }\n",
              "</style>\n",
              "<table border=\"1\" class=\"dataframe\">\n",
              "  <thead>\n",
              "    <tr style=\"text-align: right;\">\n",
              "      <th></th>\n",
              "      <th>Method</th>\n",
              "      <th>methodology</th>\n",
              "    </tr>\n",
              "  </thead>\n",
              "  <tbody>\n",
              "    <tr>\n",
              "      <th>2849</th>\n",
              "      <td>experimental</td>\n",
              "      <td>\\nMETHOD\\nBusiness students at a commuter coll...</td>\n",
              "    </tr>\n",
              "    <tr>\n",
              "      <th>1821</th>\n",
              "      <td>experimental</td>\n",
              "      <td>3. Data and methods\\nIn order to examine the r...</td>\n",
              "    </tr>\n",
              "    <tr>\n",
              "      <th>1374</th>\n",
              "      <td>experimental</td>\n",
              "      <td>2. Materials and methods\\n2.1. Description of ...</td>\n",
              "    </tr>\n",
              "    <tr>\n",
              "      <th>35</th>\n",
              "      <td>experimental</td>\n",
              "      <td>Method\\nSample\\nIn order to test our hypothese...</td>\n",
              "    </tr>\n",
              "    <tr>\n",
              "      <th>1571</th>\n",
              "      <td>experimental</td>\n",
              "      <td>3. Methodology\\n3.1. Procedure and measures\\nT...</td>\n",
              "    </tr>\n",
              "    <tr>\n",
              "      <th>1091</th>\n",
              "      <td>experimental</td>\n",
              "      <td>3. Methodology\\n3.1. Procedure and measure\\nTo...</td>\n",
              "    </tr>\n",
              "    <tr>\n",
              "      <th>398</th>\n",
              "      <td>experimental</td>\n",
              "      <td>3. Methodology\\n3.1 Pilot studies\\nThe pilot s...</td>\n",
              "    </tr>\n",
              "    <tr>\n",
              "      <th>1285</th>\n",
              "      <td>experimental</td>\n",
              "      <td>3. Methodology\\nThis study is designed to exam...</td>\n",
              "    </tr>\n",
              "    <tr>\n",
              "      <th>1368</th>\n",
              "      <td>experimental</td>\n",
              "      <td>3. Method\\n3.1. Event context\\nThis study seek...</td>\n",
              "    </tr>\n",
              "  </tbody>\n",
              "</table>\n",
              "</div>"
            ],
            "text/plain": [
              "            Method                                        methodology\n",
              "2849  experimental  \\nMETHOD\\nBusiness students at a commuter coll...\n",
              "1821  experimental  3. Data and methods\\nIn order to examine the r...\n",
              "1374  experimental  2. Materials and methods\\n2.1. Description of ...\n",
              "35    experimental  Method\\nSample\\nIn order to test our hypothese...\n",
              "1571  experimental  3. Methodology\\n3.1. Procedure and measures\\nT...\n",
              "1091  experimental  3. Methodology\\n3.1. Procedure and measure\\nTo...\n",
              "398   experimental  3. Methodology\\n3.1 Pilot studies\\nThe pilot s...\n",
              "1285  experimental  3. Methodology\\nThis study is designed to exam...\n",
              "1368  experimental  3. Method\\n3.1. Event context\\nThis study seek..."
            ]
          },
          "metadata": {
            "tags": []
          }
        },
        {
          "output_type": "stream",
          "text": [
            "\n",
            "'qualitative' predicted as 'survey' : 6 examples.\n"
          ],
          "name": "stdout"
        },
        {
          "output_type": "display_data",
          "data": {
            "text/html": [
              "<div>\n",
              "<style scoped>\n",
              "    .dataframe tbody tr th:only-of-type {\n",
              "        vertical-align: middle;\n",
              "    }\n",
              "\n",
              "    .dataframe tbody tr th {\n",
              "        vertical-align: top;\n",
              "    }\n",
              "\n",
              "    .dataframe thead th {\n",
              "        text-align: right;\n",
              "    }\n",
              "</style>\n",
              "<table border=\"1\" class=\"dataframe\">\n",
              "  <thead>\n",
              "    <tr style=\"text-align: right;\">\n",
              "      <th></th>\n",
              "      <th>Method</th>\n",
              "      <th>methodology</th>\n",
              "    </tr>\n",
              "  </thead>\n",
              "  <tbody>\n",
              "    <tr>\n",
              "      <th>2634</th>\n",
              "      <td>qualitative</td>\n",
              "      <td>Method\\nStudy Context\\nThe rural and agricultu...</td>\n",
              "    </tr>\n",
              "    <tr>\n",
              "      <th>1193</th>\n",
              "      <td>qualitative</td>\n",
              "      <td>2. Overview of past empirical research\\nAlthou...</td>\n",
              "    </tr>\n",
              "    <tr>\n",
              "      <th>892</th>\n",
              "      <td>qualitative</td>\n",
              "      <td>Methodology\\nThe purpose of this study is to u...</td>\n",
              "    </tr>\n",
              "    <tr>\n",
              "      <th>2365</th>\n",
              "      <td>qualitative</td>\n",
              "      <td>Method\\nSample and Procedures\\nBased on the be...</td>\n",
              "    </tr>\n",
              "    <tr>\n",
              "      <th>685</th>\n",
              "      <td>qualitative</td>\n",
              "      <td>Methods\\nResearch site\\nTo verify the applicab...</td>\n",
              "    </tr>\n",
              "    <tr>\n",
              "      <th>2407</th>\n",
              "      <td>qualitative</td>\n",
              "      <td>Research Approach\\nTo examine and quantify the...</td>\n",
              "    </tr>\n",
              "  </tbody>\n",
              "</table>\n",
              "</div>"
            ],
            "text/plain": [
              "           Method                                        methodology\n",
              "2634  qualitative  Method\\nStudy Context\\nThe rural and agricultu...\n",
              "1193  qualitative  2. Overview of past empirical research\\nAlthou...\n",
              "892   qualitative  Methodology\\nThe purpose of this study is to u...\n",
              "2365  qualitative  Method\\nSample and Procedures\\nBased on the be...\n",
              "685   qualitative  Methods\\nResearch site\\nTo verify the applicab...\n",
              "2407  qualitative  Research Approach\\nTo examine and quantify the..."
            ]
          },
          "metadata": {
            "tags": []
          }
        },
        {
          "output_type": "stream",
          "text": [
            "\n",
            "'survey' predicted as 'experimental' : 8 examples.\n"
          ],
          "name": "stdout"
        },
        {
          "output_type": "display_data",
          "data": {
            "text/html": [
              "<div>\n",
              "<style scoped>\n",
              "    .dataframe tbody tr th:only-of-type {\n",
              "        vertical-align: middle;\n",
              "    }\n",
              "\n",
              "    .dataframe tbody tr th {\n",
              "        vertical-align: top;\n",
              "    }\n",
              "\n",
              "    .dataframe thead th {\n",
              "        text-align: right;\n",
              "    }\n",
              "</style>\n",
              "<table border=\"1\" class=\"dataframe\">\n",
              "  <thead>\n",
              "    <tr style=\"text-align: right;\">\n",
              "      <th></th>\n",
              "      <th>Method</th>\n",
              "      <th>methodology</th>\n",
              "    </tr>\n",
              "  </thead>\n",
              "  <tbody>\n",
              "    <tr>\n",
              "      <th>2277</th>\n",
              "      <td>survey</td>\n",
              "      <td>Study\\nWe tested our hypotheses using data fro...</td>\n",
              "    </tr>\n",
              "    <tr>\n",
              "      <th>1931</th>\n",
              "      <td>survey</td>\n",
              "      <td>3. Methodology\\n3.1. Participants\\nThe partici...</td>\n",
              "    </tr>\n",
              "    <tr>\n",
              "      <th>664</th>\n",
              "      <td>survey</td>\n",
              "      <td>Empirical study\\nTo examine whether waiting li...</td>\n",
              "    </tr>\n",
              "    <tr>\n",
              "      <th>802</th>\n",
              "      <td>survey</td>\n",
              "      <td>2. Methodology\\nThe dynamics of the research i...</td>\n",
              "    </tr>\n",
              "    <tr>\n",
              "      <th>1970</th>\n",
              "      <td>survey</td>\n",
              "      <td>3. Methodology\\nThe study was conducted during...</td>\n",
              "    </tr>\n",
              "    <tr>\n",
              "      <th>2885</th>\n",
              "      <td>survey</td>\n",
              "      <td>Study 1\\nWe first conducted two pretests to ch...</td>\n",
              "    </tr>\n",
              "    <tr>\n",
              "      <th>134</th>\n",
              "      <td>survey</td>\n",
              "      <td>4. Methods\\n4.1 Single-event buyers of premium...</td>\n",
              "    </tr>\n",
              "    <tr>\n",
              "      <th>1841</th>\n",
              "      <td>survey</td>\n",
              "      <td>3. Methods\\n3.1. Conceptualization\\nThe model ...</td>\n",
              "    </tr>\n",
              "  </tbody>\n",
              "</table>\n",
              "</div>"
            ],
            "text/plain": [
              "      Method                                        methodology\n",
              "2277  survey  Study\\nWe tested our hypotheses using data fro...\n",
              "1931  survey  3. Methodology\\n3.1. Participants\\nThe partici...\n",
              "664   survey  Empirical study\\nTo examine whether waiting li...\n",
              "802   survey  2. Methodology\\nThe dynamics of the research i...\n",
              "1970  survey  3. Methodology\\nThe study was conducted during...\n",
              "2885  survey  Study 1\\nWe first conducted two pretests to ch...\n",
              "134   survey  4. Methods\\n4.1 Single-event buyers of premium...\n",
              "1841  survey  3. Methods\\n3.1. Conceptualization\\nThe model ..."
            ]
          },
          "metadata": {
            "tags": []
          }
        },
        {
          "output_type": "stream",
          "text": [
            "\n"
          ],
          "name": "stdout"
        }
      ]
    },
    {
      "cell_type": "code",
      "metadata": {
        "colab": {
          "base_uri": "https://localhost:8080/",
          "height": 120
        },
        "id": "nowJSq_DtS4M",
        "outputId": "41c462ad-f4aa-4007-b1c9-3ac5c91d1915"
      },
      "source": [
        "df_filtered.loc[2731][\"methodology\"]"
      ],
      "execution_count": 56,
      "outputs": [
        {
          "output_type": "execute_result",
          "data": {
            "application/vnd.google.colaboratory.intrinsic+json": {
              "type": "string"
            },
            "text/plain": [
              "'Method\\nSample and Procedure\\nData consisted of self-reports from members of the top hotel loyalty programs (Hilton Honors, Starwood Preferred Guest, Marriott Rewards, Hyatt Gold Passport, and Accor) posted on flyertalk.com from January to June 2011. This popular interactive website features discussions and chat boards that cover up-to-date travel information for all travelers—from leisure to business. Members of this website have posted nearly one million comments regarding hospitality loyalty programs. The sample included more than 30,000 lines of text and was taken from the most recent post to the oldest post within the time period for each program until saturation was reached. A theoretical sampling method (Glaser & Strauss, 1967) was used to develop an exhaustive set of categories. Theoretical sampling differs from statistical sampling, since the process is iterative and driven by the categories that emerge. It may require different sample sizes to exhaust each category. It is vital to note that this sample consists largely of program members who wish to discuss their experiences openly, and not those who prefer to remain silent. Unlike statistical sampling, the sample is not representative of the entire membership of hotel loyalty programs. Furthermore, the purpose of theoretical sampling is to maximize the potential for discovering or exploring new and emerging concepts (Taylor & Bogdan, 1998; Pace, 2004). Posts from members of all levels of hotel frequent-guest loyalty status were included, from entry level to the highest elite levels.\\nContent analysis was performed to discover emerging themes from the self-reported data. The use of content analysis is supported as “a search for general statements about relationships and underlying themes” (Strauss & Corbin, 1997). Content analysis is considered a useful technique for allowing researchers to discover the focus of individual, group, institutional, or social attention (Weber, 1990). Content analysis has been used successfully to analyze web-based content from travel-related websites (Choi, Lehto, & Morrison, 2007; Wan, 2002), customer reviews (Yang & Peterson, 2004), consumer comments (Qu, Zhang, & Li, 2008), and many other applications. Atlas.ti was used to conduct the analysis.\\nThe content analysis involved three phases: (a) identifying codes within categories, (b) relating codes to one another to identify emergent themes, and (c) constructing a paradigm model of member perspectives of hotel loyalty programs and detecting new constructs and patterns associated with program loyalty. The purpose of Phase 1, or open coding, is to identify salient topics worthy of closer study and explanation. Phase 1 data collection included posts from flyertalk.com specific to members of Hilton Honors, Starwood Preferred Guest, Marriott Rewards, Hyatt Gold Passport, and Accor loyalty programs. When coding the data, an inductive categorization method was used that identified recurring themes that emerged from the self-reports of each loyalty program group (Spiggle, 1994). A priori codes were not used. The initial analysis involved open coding, with one coder identifying and categorizing member opinions of different hotel loyalty programs using a constant comparative method. This phase resulted in an initial list of 230 codes and 1,519 quotations from the five hotel groups. Table 1 summarizes the number of quotes and lines of text analyzed for each brand. Theme, or the expression of an idea, was used as the coding unit (Minichiello, Aroni, Timewell, & Alexander, 1990). Each code represented a single theme or idea relevant to the study, no matter the length of the text. The optimal sample size was determined when the content analysis reached saturation during open coding, that is, no new categories were identified.\\nTable 1 Source of Reward Member Comments\\nTable 1 Source of Reward Member Comments\\nView larger version\\nInterrater reliability was achieved during secondary analysis, where two additional raters who were familiar with the loyalty literature analyzed and recoded the data. Care was taken to ensure that latent content was not disregarded, and the researchers came to a consensus on the emerging categories. The output consists of emerging codes and their categories along with frequency of mention, which is often considered to indicate the importance of each topic. It is important to note, however, that frequency of mention does not necessarily translate to importance or meaning. Relying solely on frequency of mention often ignores context, distinctive individual cases, latent structure of sense, and things not directly apparent in the text (Bernard & Ryan, 1998; Ritsert, 1972). “Researchers must be cautious not to take or claim magnitudes as findings in themselves” (Berg, 2001, p. 243). Furthermore, because many forum members post about the same topic multiple times, the researchers felt it was essential to go beyond automated coding and frequency in order to avoid any misinterpretation of importance.\\nIn Phase 2, axial coding resulted in emergent themes within the seven core categories. Core categories are themes that are composed of statements or ideas from related subcategories. A complete list of core categories and the subcategories within them is provided in Table 2. Frequencies are provided for discrete categories; however, counts are not meaningful for those categories that overlap multiple themes. For example, eWOM and consumer-to-consumer (C2C) communication encompass most of what is posted on the site. Axial coding is the process of relating codes (categories and properties) to each other, through a combination of inductive and deductive thinking. The purpose is to discover causal patterns in the data through examining consequences, conditions, interactions, and processes. Although it is not possible to draw causal conclusions, the analysis allows the researcher infer causal conditions, as well as intervening conditions, as categories around the core phenomenon (Strauss & Corbin, 1997). In Stage 3, the core categories and key subcategories were used to construct a paradigm model, which displays the relationships among them.\\nTable 2 Core Categories and Subcategories\\nTable 2 Core Categories and Subcategories\\nView larger version\\nSeveral measures were taken to ensure that the analysis met appropriate standards for qualitative research. The coding team consisted of four researchers—one with years of experience as a member of flyertalk.com and a member of numerous hotel loyalty programs at various tiers. This supports the need for qualitative research to involve persistent observation and prolonged engagement in the field (Lincoln & Guba, 1985). Verification strategies (Morse, Barrett, Mayan, Olson, & Spiers, 2002) were used to establish reliability and validity of the data. The study had methodological coherence, in that comments were sampled based on their applicability to reward member loyalty. The sample was appropriate, in that it was drawn from a pool of opinionated reward program members. The data were collected and analyzed concurrently using a constant comparative approach. Interpretation was iterative, leading to a theoretically grounded approach.'"
            ]
          },
          "metadata": {
            "tags": []
          },
          "execution_count": 56
        }
      ]
    },
    {
      "cell_type": "code",
      "metadata": {
        "colab": {
          "base_uri": "https://localhost:8080/"
        },
        "id": "LHzsUnmutS1l",
        "outputId": "1083688e-8f3d-4a3e-d286-144f088931cb"
      },
      "source": [
        "model.fit(features, labels)\n",
        "\n",
        "N = 5\n",
        "for Method, method_id in sorted(method_to_id.items()):\n",
        "  indices = np.argsort(model.coef_[method_id])\n",
        "  feature_names = np.array(cv.get_feature_names())[indices]\n",
        "  unigrams = [v for v in reversed(feature_names) if len(v.split(' ')) == 1][:N]\n",
        "  bigrams = [v for v in reversed(feature_names) if len(v.split(' ')) == 2][:N]\n",
        "  print(\"\\n==> '{}':\".format(Method))\n",
        "  print(\"  * Top unigrams: %s\" %(', '.join(unigrams)))\n",
        "  print(\"  * Top bigrams: %s\" %(', '.join(bigrams)))"
      ],
      "execution_count": 57,
      "outputs": [
        {
          "output_type": "stream",
          "text": [
            "\n",
            "==> 'content analysis':\n",
            "  * Top unigrams: content, comments, reviews, tripadvisor, reviewer\n",
            "  * Top bigrams: content analysis, hospitality marketing, marketing research, booking com, al 2006\n",
            "\n",
            "==> 'experimental':\n",
            "  * Top unigrams: experimental, experiment, scenario, vs, eye\n",
            "  * Top bigrams: experimental design, independent variables, trade offs, conjoint analysis, new service\n",
            "\n",
            "==> 'qualitative':\n",
            "  * Top unigrams: interviews, interview, approach, narrative, researchers\n",
            "  * Top bigrams: hotel sector, employees hotel, semi structured, interviews conducted, responses assessed\n",
            "\n",
            "==> 'secondary data':\n",
            "  * Top unigrams: periods, database, ethics, operating, use\n",
            "  * Top bigrams: used study, time series, al 2016, al 2010, new york\n",
            "\n",
            "==> 'survey':\n",
            "  * Top unigrams: survey, questionnaires, reported, surveys, questionnaire\n",
            "  * Top bigrams: data collected, research instrument, developed tested, errors associated, data collection\n"
          ],
          "name": "stdout"
        }
      ]
    },
    {
      "cell_type": "code",
      "metadata": {
        "id": "PCGmEVqutSvN"
      },
      "source": [
        ""
      ],
      "execution_count": 57,
      "outputs": []
    },
    {
      "cell_type": "code",
      "metadata": {
        "id": "4QgO7_SC2jxc"
      },
      "source": [
        "fitted_vectorizer = cv.fit(df_filtered.methodology)"
      ],
      "execution_count": 58,
      "outputs": []
    },
    {
      "cell_type": "code",
      "metadata": {
        "id": "HscyLVUp3f9V"
      },
      "source": [
        "n=-6"
      ],
      "execution_count": 59,
      "outputs": []
    },
    {
      "cell_type": "code",
      "metadata": {
        "colab": {
          "base_uri": "https://localhost:8080/",
          "height": 120
        },
        "id": "_YBGiyMT1_di",
        "outputId": "2735e0aa-c49f-406f-e046-750d61c4d7cb"
      },
      "source": [
        "txt =df_filtered.methodology.iloc[n]\n",
        "txt"
      ],
      "execution_count": 60,
      "outputs": [
        {
          "output_type": "execute_result",
          "data": {
            "application/vnd.google.colaboratory.intrinsic+json": {
              "type": "string"
            },
            "text/plain": [
              "'\\nMETHODOLOGY AND ANALYSIS\\nModel Specification and Data Source\\nThis study is based on the small island of Mauritius for the period 1979 to 2010. The economic model used pertains to an estimation of a demand function for international tourism, augmented in the present case by a proxy for tourism promotion and is consistent with the general literature (see Witt & Witt, 1995; Lim, 1997; Nordstom, 2002; Eilat & Eilav, 2004, Naude & Saayman, 2004) and particularly with that used by Khadaroo and Seetanah (2007) for the case of island economies. Thus, the function specified is as follows:\\n(1)\\n\\nThe dependent variable TR1 (tourist arrivals per annum) is the measure of the demand for tourism to Mauritius and was obtained from the national Central Statistical Office.\\n\\nBased on existing literature, total tourism expenditures and relative tourism prices are among the crucial factors in the tourism demand equation. Following the literature (see Nordstom, 2002 and Naude & Saayman, 2004, in particular), we used real gross domestic product (GDP) per capita in countries of origin (weighted average) as a proxy for total expenditures on tourism. It is undeniable that overseas recreational travel is expensive (often regarded as a luxury good) and the discretionary income of origin becomes particularly important. As it regards relative prices (RELATIVE), following Eilat and Einav (2004) and Naude and Saayman (2004), we used, as a proxy for relative tourism prices, the consumer price index (CPI) of the destination country adjusted for by the USD exchange rate. It is noteworthy that such a measure of relative prices captures not only changes in the real exchange rate over time, but also the cross-sectional variations in the cost of travel. It is expected that tourism demand in a particular destination is expected to be negatively linked with relative tourism prices based on the logic that a relatively higher cost of living in the recipient country would make most tourists less enthusiastic about such a potential destination.\\n\\nUrbanization and development level of a destination country is an important factor in tourists’ decisions, especially from developed countries. One can argue that tourists would expect a minimum level of comfort and degree of sophistication during their visit to the recipient country. The income of the destination country is used to proxy the above. The three variables discussed above were obtained from the Penn World Table 6.1 (http://www.rug.nl/research/ggdc/data/penn-world-table).\\n\\nAs regards tourism infrastructure, we follow the standard literature and use hotel rooms (ROOM) available in the country as a measure of the capacity of the tourism sector. A greater number of rooms would result in enhanced capacity and greater competitive level of the tourism sector. Moreover, Naude and Saayman (2004) posited that a critical number of hotels and rooms are needed for airlines to operate regular flights to a destination. Data on the number of rooms were again obtained from the Central Statistical Office of the country.\\n\\nOur model also includes air liberalization (AIRLIB) since it has been an important element in our tourism success given our remoteness from the major tourist markets. Theoretically, liberalization of air transport is likely to result in an expansion in a destination’s airline capacity and competition with increases in air services between the destination and its major markets. Market access is also enhanced and air access liberalization can potentially derestrict routes and bring more competition in some or all of the markets in addition to the abolishment or ease of price controls. Ultimately, enhanced competition and efficiency may be the result implying reduction in air fares. The benefits would translate into more tourist arrivals to the destination. It is noteworthy that Mauritius has embarked on a policy to liberalize its air access since the 1970s and has signed approximately 30 bilateral air service agreements since that date. To measure such liberalization, the only consistent measure available is the number of bilateral air service agreements (BASA) signed by the Mauritian government with other countries and such data was made available by the Ministry of External Communications.\\n\\nThe explanatory variable of interest to us in the present case is tourism promotion effort (PROMO) and this is usually measured by tourism promotional expenditure (see Clarke, 1981; Uysal & Crompton, 1984) allocated to the MTPA by the government. It is to be noted that the promotion and marketing of tourism in Mauritius is done almost exclusively by the country’s central government. The figures used in this study were provided by the Central Statistical Office, by the Tourism Department of the island and were also extracted from the Accountant General Annual Reports.\\n\\nEconometric Modeling\\nThe regression specification of Equation 1 can be written as:\\n(2)\\n\\nThe specification is a log linear one and the small letters denotes the natural logarithm of the variables. Such transformation allows us to readily compare the coefficient in terms of percentage change.\\n\\nTests of Stationarity\\nUsing the Augmented Dickey-Fuller (1979) and Phillips-Perron (Phillips & Perron, 1988) unit-roots tests, we could conclude that the data series were nonstationary in levels but stationary after differencing the data once, except for the case of PROMO and AIRLIB which were found to be stationary in Level I(0).\\n\\nAutoregressive Distributed Lag Model (ARDL)\\nIn the presence of both I(1) and I(0) variables, the testing and estimation procedure advanced in Pesaran, Shin, and Smith (1996) and Pesaran and Shin (1999), namely the ARDL approach, is preferred for the examination of the existence of a long-term relationship. The approach also allows us to incorporate some dynamics in the analysis.\\n\\nWith reference to our model specification, the error correction versions of the ARDL model in the variables TR, GDPH, GDPF, AIRLIB, ROOM, RELATIVE, and PROMO are given respectively by\\n(3)\\n\\nThe lag length was chosen using the final prediction error due to Schwartz Bayesian criterion. With reference to our specified model, the hypothesis that is being tested is the null hypothesis, which is the nonexistence of the long run relationship defined by:\\n\\n\\nAnd the alternative hypothesis is:\\n\\n\\nThe recommended statistic is the F statistics for the joint significance of δ1, δ2, δ3, δ4, δ5 δ6 and δ7. In fact, as per Pesaran et al. (1996) and Pesaran and Shin (1999), the computation of the F statistic requires running the following regression model,\\n(4)\\nand a variable addition test is subsequently made by including the following:\\n\\n\\nThe results demonstrate that the F-statistics F(tr/gdph, gdpf, airlib, room, relative, promo) is 6.21, exceeding the upper bound of the critical value band) as presented by Pesaran et al. (1996). The null hypothesis of a no long run relationship between the variables irrespective of their order is accordingly rejected and the test results confirm the existence of a long run relationship between the variable.\\n'"
            ]
          },
          "metadata": {
            "tags": []
          },
          "execution_count": 60
        }
      ]
    },
    {
      "cell_type": "code",
      "metadata": {
        "colab": {
          "base_uri": "https://localhost:8080/",
          "height": 35
        },
        "id": "twAl-_sd3jYY",
        "outputId": "6f0dd039-b90f-4ef8-df6c-79771b52e592"
      },
      "source": [
        "df_filtered.Method.iloc[n]"
      ],
      "execution_count": 61,
      "outputs": [
        {
          "output_type": "execute_result",
          "data": {
            "application/vnd.google.colaboratory.intrinsic+json": {
              "type": "string"
            },
            "text/plain": [
              "'secondary data'"
            ]
          },
          "metadata": {
            "tags": []
          },
          "execution_count": 61
        }
      ]
    },
    {
      "cell_type": "code",
      "metadata": {
        "colab": {
          "base_uri": "https://localhost:8080/"
        },
        "id": "nLf7nqNltSr8",
        "outputId": "6212ef25-da58-48fb-fa03-ba6b4063625b"
      },
      "source": [
        "print(model.predict(fitted_vectorizer.transform([txt])))"
      ],
      "execution_count": 62,
      "outputs": [
        {
          "output_type": "stream",
          "text": [
            "[0]\n"
          ],
          "name": "stdout"
        }
      ]
    },
    {
      "cell_type": "code",
      "metadata": {
        "colab": {
          "base_uri": "https://localhost:8080/"
        },
        "id": "9eI0LtiJy8QC",
        "outputId": "93f89e8f-60c6-4064-a130-1b1788a8c35d"
      },
      "source": [
        "id_to_method"
      ],
      "execution_count": 63,
      "outputs": [
        {
          "output_type": "execute_result",
          "data": {
            "text/plain": [
              "{0: 'secondary data',\n",
              " 1: 'survey',\n",
              " 2: 'experimental',\n",
              " 3: 'content analysis',\n",
              " 4: 'qualitative'}"
            ]
          },
          "metadata": {
            "tags": []
          },
          "execution_count": 63
        }
      ]
    },
    {
      "cell_type": "code",
      "metadata": {
        "id": "WMPlXlxNy8KT"
      },
      "source": [
        "text=\"\"\"\n",
        "RESEARCH METHOD\n",
        "Data Collection and Sample Description\n",
        "The data were provided by Außenwirtschaft Österreich,\n",
        "a branch of the Austrian Chamber of Commerce that\n",
        "supports export efforts, and consisted of 194 exporting\n",
        "firms that had completed an online questionnaire; the\n",
        "respondents were all senior executives (e.g., chief executive\n",
        "officers, export directors, export department heads)\n",
        "with direct responsibility for export decisions. We\n",
        "excluded 21 firms because of poorly completed questionnaires,\n",
        "resulting in 173 fully usable responses. Of\n",
        "the responding companies, 80% were independent companies\n",
        "(either privately owned or public limited companies),\n",
        "and 12% were part of a global company; the rest\n",
        "had other corporate structures. Half the companies were\n",
        "founded in the preceding 20 years, and their export\n",
        "experience ranged from 1 to 125 years, with a median\n",
        "of 12 (M = 20, SD = 21) years. On average, the firms\n",
        "had 191 full-time employees (range from 1 to 7,800).\n",
        "Almost all (95%) exported to the European Union, 64%\n",
        "to other European countries, 38% to Asia, 36% to\n",
        "Africa and/or the Middle East, 29% to North America,\n",
        "20% to South or Central America, and 19% to Australia\n",
        "and/or New Zealand. Half the companies\n",
        "exported to 10 countries or fewer (M = 20, SD = 25),\n",
        "and the average export dependence (i.e., export-to-total\n",
        "sales ratio) was 53% (SD = 33%).\n",
        "To judge the representativeness of our sample, we compared\n",
        "it with official statistical data on exporting.\n",
        "According to Statistik Austria, the national statistics\n",
        "office, 43% of all Austrian exporters sell to a single\n",
        "country only; however, the volume of exports accounted\n",
        "for by this group is only 2% (Hodel 2004, 2012). This\n",
        "group is of little relevance for the current study because\n",
        "firms with a single export destination are unlikely to\n",
        "engage in systematic segmentation activities (or to participate\n",
        "in a study on export segmentation). This is\n",
        "indeed reflected in the composition of our sample: only\n",
        "2% of the respondent firms export to a single country\n",
        "only. The majority of our respondents export to\n",
        "between 2 and 19 countries (66%) and the rest (32%)\n",
        "to 20+ countries. The corresponding groups in the\n",
        "population are 52% and 6% and account for 30% and\n",
        "68% of all exports, respectively (Hodel 2012). Thus,\n",
        "our sample seems well representative of the Austrian\n",
        "companies that are responsible for the bulk of the country’s\n",
        "export activity and for which export segmentation\n",
        "is likely to be important, considering the large number\n",
        "of export markets served.4\n",
        "Construct Measurement\n",
        "Table 2 lists the measurements of all constructs in our\n",
        "model, together with relevant psychometric information.\n",
        "We measured firm size by the log-transformed number of\n",
        "employees (Erramilli 1991), export experience by the\n",
        "years a firm has been exporting (Winklhofer and Diamantopoulos\n",
        "2002), export dependence as the exportto-\n",
        "total sales ratio (Diamantopoulos and Inglis 1988;\n",
        "Katsikeas 1994), export diversity by the number of\n",
        "countries to which a firm exports (Dhanaraj and\n",
        "Beamish 2003),5 and export market turbulence according\n",
        "to Jaworski and Kohli’s (1993) well-established\n",
        "scale.\n",
        "For export segmentation commitment, we developed\n",
        "our own five-item scale, which captured managers’ attitudes\n",
        "and behavior toward the market segmentation\n",
        "process. For export segmentation strategy, we itemized\n",
        "the three strategic options and asked respondents to\n",
        "specify their agreement with each option. This approach\n",
        "acknowledges that the fit of the strategy with its context\n",
        "is critical (Hultman, Robson, and Katsikeas 2009). We\n",
        "specified segmentation bases as the number of distinct\n",
        "segmentation variables the firm used (based on a checklist\n",
        "of 21 criteria for segmenting business-to-consumer\n",
        "markets and 14 criteria for segmenting business-tobusiness\n",
        "markets).\n",
        "For export segmentation effectiveness, we adapted the\n",
        "basic four-dimensional structure developed by Foedermayr\n",
        "and colleagues (Foedermayr and Diamantopoulos\n",
        "2008a; Foedermayr, Diamantopoulos, and Sichtmann\n",
        "2009), which consisted of targeting performance, positioning\n",
        "performance, adaptability to change, and cost\n",
        "reduction.6 Originally, the dimensions were operationalized\n",
        "with formative indicators; however, the majority of\n",
        "items under each dimension in the original model seem\n",
        "to share a common cause, which suggests that reflective\n",
        "measurement is more appropriate. The psychometric\n",
        "properties shown in Table 2 strongly support this measurement\n",
        "respecification.\n",
        "For strategic export performance and financial export\n",
        "performance, we adapted items from Zou and Cavusgil\n",
        "(2002) and Zou, Taylor, and Osland (1998). The indicators\n",
        "for strategic export performance are export market\n",
        "share and rate of new market entry, and export financial\n",
        "performance consists of export sales, export profits, and\n",
        "export growth. Customer satisfaction comprises three\n",
        "items about offerings, how consumers are treated, and\n",
        "how their complaints have been handled. Consistent\n",
        "with other investigations of export performance (e.g.,\n",
        "Hooley et al. 2005; Hultman, Robson, and Katsikeas\n",
        "2009; Morgan, Kaleka, and Katsikeas 2004), we relied\n",
        "on self-reported measures.\n",
        "\n",
        "\"\"\""
      ],
      "execution_count": 64,
      "outputs": []
    },
    {
      "cell_type": "code",
      "metadata": {
        "colab": {
          "base_uri": "https://localhost:8080/"
        },
        "id": "j4FHxlsaTSdl",
        "outputId": "ca1e8158-ebfa-4b5b-9556-832e5a91e54f"
      },
      "source": [
        "print(model.predict(fitted_vectorizer.transform([text])))"
      ],
      "execution_count": 65,
      "outputs": [
        {
          "output_type": "stream",
          "text": [
            "[0]\n"
          ],
          "name": "stdout"
        }
      ]
    },
    {
      "cell_type": "code",
      "metadata": {
        "id": "QvB2rFwpTW-j"
      },
      "source": [
        ""
      ],
      "execution_count": 65,
      "outputs": []
    }
  ]
}