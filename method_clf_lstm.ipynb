{
  "nbformat": 4,
  "nbformat_minor": 0,
  "metadata": {
    "colab": {
      "name": "method_clf_lstm.ipynb",
      "provenance": [],
      "collapsed_sections": [],
      "mount_file_id": "1ANqDr55VO_IGIkg_SRuXLLIUqYym3NpB",
      "authorship_tag": "ABX9TyOOSS8bwwgi6kCjNI15x7qX",
      "include_colab_link": true
    },
    "kernelspec": {
      "display_name": "Python 3",
      "name": "python3"
    },
    "accelerator": "GPU"
  },
  "cells": [
    {
      "cell_type": "markdown",
      "metadata": {
        "id": "view-in-github",
        "colab_type": "text"
      },
      "source": [
        "<a href=\"https://colab.research.google.com/github/kurtsenol/Text-Classification/blob/main/method_clf_lstm.ipynb\" target=\"_parent\"><img src=\"https://colab.research.google.com/assets/colab-badge.svg\" alt=\"Open In Colab\"/></a>"
      ]
    },
    {
      "cell_type": "code",
      "metadata": {
        "colab": {
          "base_uri": "https://localhost:8080/"
        },
        "id": "kszMxFkRQq9J",
        "outputId": "89b2ee76-4dc1-41c6-9ef3-01540d2ae1f8"
      },
      "source": [
        "!pip3 install pickle5"
      ],
      "execution_count": null,
      "outputs": [
        {
          "output_type": "stream",
          "text": [
            "Requirement already satisfied: pickle5 in /usr/local/lib/python3.7/dist-packages (0.0.11)\n"
          ],
          "name": "stdout"
        }
      ]
    },
    {
      "cell_type": "code",
      "metadata": {
        "id": "jjTJvW85QuGy"
      },
      "source": [
        "import os\n",
        "import numpy as np\n",
        "import pandas as pd\n",
        "import pickle5 as pickle\n",
        "import re\n",
        "import random"
      ],
      "execution_count": null,
      "outputs": []
    },
    {
      "cell_type": "code",
      "metadata": {
        "colab": {
          "base_uri": "https://localhost:8080/",
          "height": 874
        },
        "id": "WA3pN0_TR1h9",
        "outputId": "7ff92fff-14de-4e5c-b34b-303014c92811"
      },
      "source": [
        "df_method =pd.read_pickle(\"/content/drive/MyDrive/Colab Notebooks/TopicModeling/Methodology/df_method.pkl\")\n",
        "df_method"
      ],
      "execution_count": null,
      "outputs": [
        {
          "output_type": "execute_result",
          "data": {
            "text/html": [
              "<div>\n",
              "<style scoped>\n",
              "    .dataframe tbody tr th:only-of-type {\n",
              "        vertical-align: middle;\n",
              "    }\n",
              "\n",
              "    .dataframe tbody tr th {\n",
              "        vertical-align: top;\n",
              "    }\n",
              "\n",
              "    .dataframe thead th {\n",
              "        text-align: right;\n",
              "    }\n",
              "</style>\n",
              "<table border=\"1\" class=\"dataframe\">\n",
              "  <thead>\n",
              "    <tr style=\"text-align: right;\">\n",
              "      <th></th>\n",
              "      <th>JO</th>\n",
              "      <th>AU</th>\n",
              "      <th>TI</th>\n",
              "      <th>PY</th>\n",
              "      <th>DI</th>\n",
              "      <th>QUANTITATIVE</th>\n",
              "      <th>Method</th>\n",
              "      <th>category</th>\n",
              "      <th>CMB</th>\n",
              "      <th>CMV</th>\n",
              "      <th>MB</th>\n",
              "      <th>MV</th>\n",
              "      <th>MSD</th>\n",
              "      <th>MR</th>\n",
              "      <th>SR</th>\n",
              "      <th>SED</th>\n",
              "      <th>MED</th>\n",
              "      <th>TSM</th>\n",
              "      <th>TLD</th>\n",
              "      <th>PSM</th>\n",
              "      <th>MSM</th>\n",
              "      <th>A</th>\n",
              "      <th>C</th>\n",
              "      <th>CBQO</th>\n",
              "      <th>DBQ</th>\n",
              "      <th>UEB</th>\n",
              "      <th>HSF</th>\n",
              "      <th>PSD</th>\n",
              "      <th>MV.1</th>\n",
              "      <th>GFS</th>\n",
              "      <th>DMLMF</th>\n",
              "      <th>SULMF</th>\n",
              "    </tr>\n",
              "  </thead>\n",
              "  <tbody>\n",
              "    <tr>\n",
              "      <th>0</th>\n",
              "      <td>IJCHM</td>\n",
              "      <td>Ineson, EM; Comic, D; Kalmic, L</td>\n",
              "      <td>Towards a hierarchy of hotel guests' in-room n...</td>\n",
              "      <td>2019.0</td>\n",
              "      <td>10.1108/IJCHM-01-2019-0061</td>\n",
              "      <td>0</td>\n",
              "      <td>phenomenology</td>\n",
              "      <td>CMB-free</td>\n",
              "      <td>0</td>\n",
              "      <td>0</td>\n",
              "      <td>0.0</td>\n",
              "      <td>0.0</td>\n",
              "      <td>0.0</td>\n",
              "      <td>0.0</td>\n",
              "      <td>0.0</td>\n",
              "      <td>0.0</td>\n",
              "      <td>0.0</td>\n",
              "      <td>0.0</td>\n",
              "      <td>0.0</td>\n",
              "      <td>0.0</td>\n",
              "      <td>0.0</td>\n",
              "      <td>0.0</td>\n",
              "      <td>0.0</td>\n",
              "      <td>0.0</td>\n",
              "      <td>0.0</td>\n",
              "      <td>0.0</td>\n",
              "      <td>0.0</td>\n",
              "      <td>0.0</td>\n",
              "      <td>0.0</td>\n",
              "      <td>0.0</td>\n",
              "      <td>0.0</td>\n",
              "      <td>0.0</td>\n",
              "    </tr>\n",
              "    <tr>\n",
              "      <th>1</th>\n",
              "      <td>IJCHM</td>\n",
              "      <td>Benitez-Aurioles, B</td>\n",
              "      <td>Barcelona's peer-to-peer tourist accommodation...</td>\n",
              "      <td>2019.0</td>\n",
              "      <td>10.1108/IJCHM-01-2019-0090</td>\n",
              "      <td>1</td>\n",
              "      <td>secondary data</td>\n",
              "      <td>CMB-free</td>\n",
              "      <td>1</td>\n",
              "      <td>0</td>\n",
              "      <td>0.0</td>\n",
              "      <td>0.0</td>\n",
              "      <td>1.0</td>\n",
              "      <td>0.0</td>\n",
              "      <td>0.0</td>\n",
              "      <td>0.0</td>\n",
              "      <td>0.0</td>\n",
              "      <td>0.0</td>\n",
              "      <td>0.0</td>\n",
              "      <td>0.0</td>\n",
              "      <td>0.0</td>\n",
              "      <td>1.0</td>\n",
              "      <td>0.0</td>\n",
              "      <td>0.0</td>\n",
              "      <td>0.0</td>\n",
              "      <td>0.0</td>\n",
              "      <td>0.0</td>\n",
              "      <td>0.0</td>\n",
              "      <td>0.0</td>\n",
              "      <td>0.0</td>\n",
              "      <td>0.0</td>\n",
              "      <td>0.0</td>\n",
              "    </tr>\n",
              "    <tr>\n",
              "      <th>2</th>\n",
              "      <td>IJCHM</td>\n",
              "      <td>Hu, XB; Yang, Y; Park, S</td>\n",
              "      <td>A meta-regression on the effect of online rati...</td>\n",
              "      <td>2019.0</td>\n",
              "      <td>10.1108/IJCHM-10-2018-0835</td>\n",
              "      <td>0</td>\n",
              "      <td>review</td>\n",
              "      <td>CMB-free</td>\n",
              "      <td>0</td>\n",
              "      <td>0</td>\n",
              "      <td>0.0</td>\n",
              "      <td>0.0</td>\n",
              "      <td>1.0</td>\n",
              "      <td>0.0</td>\n",
              "      <td>0.0</td>\n",
              "      <td>0.0</td>\n",
              "      <td>0.0</td>\n",
              "      <td>0.0</td>\n",
              "      <td>1.0</td>\n",
              "      <td>0.0</td>\n",
              "      <td>0.0</td>\n",
              "      <td>0.0</td>\n",
              "      <td>0.0</td>\n",
              "      <td>0.0</td>\n",
              "      <td>0.0</td>\n",
              "      <td>0.0</td>\n",
              "      <td>0.0</td>\n",
              "      <td>0.0</td>\n",
              "      <td>0.0</td>\n",
              "      <td>0.0</td>\n",
              "      <td>0.0</td>\n",
              "      <td>0.0</td>\n",
              "    </tr>\n",
              "    <tr>\n",
              "      <th>3</th>\n",
              "      <td>IJCHM</td>\n",
              "      <td>Ahmat, NHC; Arendt, SW; Russell, DW</td>\n",
              "      <td>Examining work factors after Malaysia's minimu...</td>\n",
              "      <td>2019.0</td>\n",
              "      <td>10.1108/IJCHM-10-2018-0827</td>\n",
              "      <td>1</td>\n",
              "      <td>survey</td>\n",
              "      <td>CMB-risk</td>\n",
              "      <td>0</td>\n",
              "      <td>0</td>\n",
              "      <td>0.0</td>\n",
              "      <td>0.0</td>\n",
              "      <td>0.0</td>\n",
              "      <td>0.0</td>\n",
              "      <td>0.0</td>\n",
              "      <td>0.0</td>\n",
              "      <td>0.0</td>\n",
              "      <td>0.0</td>\n",
              "      <td>0.0</td>\n",
              "      <td>0.0</td>\n",
              "      <td>0.0</td>\n",
              "      <td>0.0</td>\n",
              "      <td>0.0</td>\n",
              "      <td>0.0</td>\n",
              "      <td>0.0</td>\n",
              "      <td>0.0</td>\n",
              "      <td>0.0</td>\n",
              "      <td>0.0</td>\n",
              "      <td>0.0</td>\n",
              "      <td>0.0</td>\n",
              "      <td>1.0</td>\n",
              "      <td>0.0</td>\n",
              "    </tr>\n",
              "    <tr>\n",
              "      <th>4</th>\n",
              "      <td>IJCHM</td>\n",
              "      <td>Kim, EL; Tanford, S</td>\n",
              "      <td>Seeking reward or avoiding risk from restauran...</td>\n",
              "      <td>2019.0</td>\n",
              "      <td>10.1108/IJCHM-03-2018-0235</td>\n",
              "      <td>1</td>\n",
              "      <td>experimental</td>\n",
              "      <td>CMB-free</td>\n",
              "      <td>0</td>\n",
              "      <td>0</td>\n",
              "      <td>0.0</td>\n",
              "      <td>0.0</td>\n",
              "      <td>0.0</td>\n",
              "      <td>0.0</td>\n",
              "      <td>0.0</td>\n",
              "      <td>0.0</td>\n",
              "      <td>0.0</td>\n",
              "      <td>0.0</td>\n",
              "      <td>0.0</td>\n",
              "      <td>0.0</td>\n",
              "      <td>0.0</td>\n",
              "      <td>0.0</td>\n",
              "      <td>0.0</td>\n",
              "      <td>0.0</td>\n",
              "      <td>0.0</td>\n",
              "      <td>0.0</td>\n",
              "      <td>0.0</td>\n",
              "      <td>0.0</td>\n",
              "      <td>0.0</td>\n",
              "      <td>0.0</td>\n",
              "      <td>0.0</td>\n",
              "      <td>0.0</td>\n",
              "    </tr>\n",
              "    <tr>\n",
              "      <th>...</th>\n",
              "      <td>...</td>\n",
              "      <td>...</td>\n",
              "      <td>...</td>\n",
              "      <td>...</td>\n",
              "      <td>...</td>\n",
              "      <td>...</td>\n",
              "      <td>...</td>\n",
              "      <td>...</td>\n",
              "      <td>...</td>\n",
              "      <td>...</td>\n",
              "      <td>...</td>\n",
              "      <td>...</td>\n",
              "      <td>...</td>\n",
              "      <td>...</td>\n",
              "      <td>...</td>\n",
              "      <td>...</td>\n",
              "      <td>...</td>\n",
              "      <td>...</td>\n",
              "      <td>...</td>\n",
              "      <td>...</td>\n",
              "      <td>...</td>\n",
              "      <td>...</td>\n",
              "      <td>...</td>\n",
              "      <td>...</td>\n",
              "      <td>...</td>\n",
              "      <td>...</td>\n",
              "      <td>...</td>\n",
              "      <td>...</td>\n",
              "      <td>...</td>\n",
              "      <td>...</td>\n",
              "      <td>...</td>\n",
              "      <td>...</td>\n",
              "    </tr>\n",
              "    <tr>\n",
              "      <th>3264</th>\n",
              "      <td>JHMM</td>\n",
              "      <td>de Leaniz, PMG; Rodriguez, IRD</td>\n",
              "      <td>Exploring the Antecedents of Hotel Customer Lo...</td>\n",
              "      <td>2015.0</td>\n",
              "      <td>10.1080/19368623.2014.891961</td>\n",
              "      <td>1</td>\n",
              "      <td>survey</td>\n",
              "      <td>CMB-risk</td>\n",
              "      <td>0</td>\n",
              "      <td>0</td>\n",
              "      <td>0.0</td>\n",
              "      <td>0.0</td>\n",
              "      <td>0.0</td>\n",
              "      <td>0.0</td>\n",
              "      <td>0.0</td>\n",
              "      <td>0.0</td>\n",
              "      <td>0.0</td>\n",
              "      <td>0.0</td>\n",
              "      <td>0.0</td>\n",
              "      <td>0.0</td>\n",
              "      <td>0.0</td>\n",
              "      <td>0.0</td>\n",
              "      <td>0.0</td>\n",
              "      <td>0.0</td>\n",
              "      <td>0.0</td>\n",
              "      <td>0.0</td>\n",
              "      <td>0.0</td>\n",
              "      <td>0.0</td>\n",
              "      <td>0.0</td>\n",
              "      <td>0.0</td>\n",
              "      <td>0.0</td>\n",
              "      <td>0.0</td>\n",
              "    </tr>\n",
              "    <tr>\n",
              "      <th>3265</th>\n",
              "      <td>JHMM</td>\n",
              "      <td>Prayag, G; Khoo-Lattimore, C; Sitruk, J</td>\n",
              "      <td>Casual Dining on the French Riviera: Examining...</td>\n",
              "      <td>2015.0</td>\n",
              "      <td>10.1080/19368623.2014.859114</td>\n",
              "      <td>1</td>\n",
              "      <td>survey</td>\n",
              "      <td>CMB-risk</td>\n",
              "      <td>0</td>\n",
              "      <td>0</td>\n",
              "      <td>0.0</td>\n",
              "      <td>0.0</td>\n",
              "      <td>0.0</td>\n",
              "      <td>0.0</td>\n",
              "      <td>0.0</td>\n",
              "      <td>0.0</td>\n",
              "      <td>0.0</td>\n",
              "      <td>0.0</td>\n",
              "      <td>0.0</td>\n",
              "      <td>0.0</td>\n",
              "      <td>0.0</td>\n",
              "      <td>0.0</td>\n",
              "      <td>0.0</td>\n",
              "      <td>0.0</td>\n",
              "      <td>0.0</td>\n",
              "      <td>0.0</td>\n",
              "      <td>0.0</td>\n",
              "      <td>0.0</td>\n",
              "      <td>0.0</td>\n",
              "      <td>0.0</td>\n",
              "      <td>0.0</td>\n",
              "      <td>0.0</td>\n",
              "    </tr>\n",
              "    <tr>\n",
              "      <th>3266</th>\n",
              "      <td>JHMM</td>\n",
              "      <td>Morosan, C</td>\n",
              "      <td>The Influence of DMO Advertising on Specific D...</td>\n",
              "      <td>2015.0</td>\n",
              "      <td>10.1080/19368623.2014.891962</td>\n",
              "      <td>1</td>\n",
              "      <td>survey</td>\n",
              "      <td>CMB-risk</td>\n",
              "      <td>0</td>\n",
              "      <td>0</td>\n",
              "      <td>0.0</td>\n",
              "      <td>0.0</td>\n",
              "      <td>0.0</td>\n",
              "      <td>0.0</td>\n",
              "      <td>0.0</td>\n",
              "      <td>0.0</td>\n",
              "      <td>0.0</td>\n",
              "      <td>0.0</td>\n",
              "      <td>0.0</td>\n",
              "      <td>0.0</td>\n",
              "      <td>0.0</td>\n",
              "      <td>0.0</td>\n",
              "      <td>0.0</td>\n",
              "      <td>0.0</td>\n",
              "      <td>0.0</td>\n",
              "      <td>0.0</td>\n",
              "      <td>0.0</td>\n",
              "      <td>0.0</td>\n",
              "      <td>0.0</td>\n",
              "      <td>0.0</td>\n",
              "      <td>0.0</td>\n",
              "      <td>0.0</td>\n",
              "    </tr>\n",
              "    <tr>\n",
              "      <th>3267</th>\n",
              "      <td>JHMM</td>\n",
              "      <td>Memarzadeh, F; Chang, HJ</td>\n",
              "      <td>Online Consumer Complaints About Southeast Asi...</td>\n",
              "      <td>2015.0</td>\n",
              "      <td>10.1080/19368623.2014.893222</td>\n",
              "      <td>0</td>\n",
              "      <td>content analysis</td>\n",
              "      <td>CMB-free</td>\n",
              "      <td>NaN</td>\n",
              "      <td>NaN</td>\n",
              "      <td>NaN</td>\n",
              "      <td>NaN</td>\n",
              "      <td>NaN</td>\n",
              "      <td>NaN</td>\n",
              "      <td>NaN</td>\n",
              "      <td>NaN</td>\n",
              "      <td>NaN</td>\n",
              "      <td>NaN</td>\n",
              "      <td>NaN</td>\n",
              "      <td>NaN</td>\n",
              "      <td>NaN</td>\n",
              "      <td>NaN</td>\n",
              "      <td>NaN</td>\n",
              "      <td>NaN</td>\n",
              "      <td>NaN</td>\n",
              "      <td>NaN</td>\n",
              "      <td>NaN</td>\n",
              "      <td>NaN</td>\n",
              "      <td>NaN</td>\n",
              "      <td>NaN</td>\n",
              "      <td>NaN</td>\n",
              "      <td>NaN</td>\n",
              "    </tr>\n",
              "    <tr>\n",
              "      <th>3268</th>\n",
              "      <td>JHMM</td>\n",
              "      <td>Cao, Y; Kim, K</td>\n",
              "      <td>How Do Customers Perceive Service Quality in D...</td>\n",
              "      <td>2015.0</td>\n",
              "      <td>10.1080/19368623.2014.903817</td>\n",
              "      <td>1</td>\n",
              "      <td>survey</td>\n",
              "      <td>CMB-risk</td>\n",
              "      <td>0</td>\n",
              "      <td>0</td>\n",
              "      <td>0.0</td>\n",
              "      <td>0.0</td>\n",
              "      <td>0.0</td>\n",
              "      <td>0.0</td>\n",
              "      <td>0.0</td>\n",
              "      <td>0.0</td>\n",
              "      <td>0.0</td>\n",
              "      <td>0.0</td>\n",
              "      <td>0.0</td>\n",
              "      <td>0.0</td>\n",
              "      <td>0.0</td>\n",
              "      <td>0.0</td>\n",
              "      <td>0.0</td>\n",
              "      <td>0.0</td>\n",
              "      <td>0.0</td>\n",
              "      <td>0.0</td>\n",
              "      <td>0.0</td>\n",
              "      <td>0.0</td>\n",
              "      <td>0.0</td>\n",
              "      <td>0.0</td>\n",
              "      <td>0.0</td>\n",
              "      <td>0.0</td>\n",
              "    </tr>\n",
              "  </tbody>\n",
              "</table>\n",
              "<p>3269 rows × 32 columns</p>\n",
              "</div>"
            ],
            "text/plain": [
              "         JO                                       AU  ... DMLMF  SULMF\n",
              "0     IJCHM          Ineson, EM; Comic, D; Kalmic, L  ...   0.0    0.0\n",
              "1     IJCHM                      Benitez-Aurioles, B  ...   0.0    0.0\n",
              "2     IJCHM                 Hu, XB; Yang, Y; Park, S  ...   0.0    0.0\n",
              "3     IJCHM      Ahmat, NHC; Arendt, SW; Russell, DW  ...   1.0    0.0\n",
              "4     IJCHM                      Kim, EL; Tanford, S  ...   0.0    0.0\n",
              "...     ...                                      ...  ...   ...    ...\n",
              "3264   JHMM           de Leaniz, PMG; Rodriguez, IRD  ...   0.0    0.0\n",
              "3265   JHMM  Prayag, G; Khoo-Lattimore, C; Sitruk, J  ...   0.0    0.0\n",
              "3266   JHMM                               Morosan, C  ...   0.0    0.0\n",
              "3267   JHMM                 Memarzadeh, F; Chang, HJ  ...   NaN    NaN\n",
              "3268   JHMM                           Cao, Y; Kim, K  ...   0.0    0.0\n",
              "\n",
              "[3269 rows x 32 columns]"
            ]
          },
          "metadata": {
            "tags": []
          },
          "execution_count": 3
        }
      ]
    },
    {
      "cell_type": "code",
      "metadata": {
        "id": "ginSQBRq9epM"
      },
      "source": [
        "with open(\"/content/drive/MyDrive/Colab Notebooks/TopicModeling/Methodology/df_all_final.pkl\", \"rb\") as fh:\n",
        "  df = pickle.load(fh)"
      ],
      "execution_count": null,
      "outputs": []
    },
    {
      "cell_type": "code",
      "metadata": {
        "colab": {
          "base_uri": "https://localhost:8080/",
          "height": 1000
        },
        "id": "HI4Q2gb79taN",
        "outputId": "164967e6-07be-4705-90b1-1041eb1306fa"
      },
      "source": [
        "df"
      ],
      "execution_count": null,
      "outputs": [
        {
          "output_type": "execute_result",
          "data": {
            "text/html": [
              "<div>\n",
              "<style scoped>\n",
              "    .dataframe tbody tr th:only-of-type {\n",
              "        vertical-align: middle;\n",
              "    }\n",
              "\n",
              "    .dataframe tbody tr th {\n",
              "        vertical-align: top;\n",
              "    }\n",
              "\n",
              "    .dataframe thead th {\n",
              "        text-align: right;\n",
              "    }\n",
              "</style>\n",
              "<table border=\"1\" class=\"dataframe\">\n",
              "  <thead>\n",
              "    <tr style=\"text-align: right;\">\n",
              "      <th></th>\n",
              "      <th>JO</th>\n",
              "      <th>AU</th>\n",
              "      <th>TI</th>\n",
              "      <th>PY</th>\n",
              "      <th>DI</th>\n",
              "      <th>urls</th>\n",
              "      <th>filename</th>\n",
              "      <th>methodology</th>\n",
              "    </tr>\n",
              "  </thead>\n",
              "  <tbody>\n",
              "    <tr>\n",
              "      <th>0</th>\n",
              "      <td>IJCHM</td>\n",
              "      <td>Ineson, EM; Comic, D; Kalmic, L</td>\n",
              "      <td>Towards a hierarchy of hotel guests' in-room n...</td>\n",
              "      <td>2019.0</td>\n",
              "      <td>10.1108/IJCHM-01-2019-0061</td>\n",
              "      <td>https://www.emerald.com/insight/content/doi/10...</td>\n",
              "      <td>IJCHM_0.txt</td>\n",
              "      <td>Methodology\\nThe design is qualitative and exp...</td>\n",
              "    </tr>\n",
              "    <tr>\n",
              "      <th>1</th>\n",
              "      <td>IJCHM</td>\n",
              "      <td>Benitez-Aurioles, B</td>\n",
              "      <td>Barcelona's peer-to-peer tourist accommodation...</td>\n",
              "      <td>2019.0</td>\n",
              "      <td>10.1108/IJCHM-01-2019-0090</td>\n",
              "      <td>https://www.emerald.com/insight/content/doi/10...</td>\n",
              "      <td>IJCHM_1.txt</td>\n",
              "      <td>Data\\nThere are no official statistics on the ...</td>\n",
              "    </tr>\n",
              "    <tr>\n",
              "      <th>2</th>\n",
              "      <td>IJCHM</td>\n",
              "      <td>Hu, XB; Yang, Y; Park, S</td>\n",
              "      <td>A meta-regression on the effect of online rati...</td>\n",
              "      <td>2019.0</td>\n",
              "      <td>10.1108/IJCHM-10-2018-0835</td>\n",
              "      <td>https://www.emerald.com/insight/content/doi/10...</td>\n",
              "      <td>IJCHM_2.txt</td>\n",
              "      <td>3. Research method\\nWe searched the empirical ...</td>\n",
              "    </tr>\n",
              "    <tr>\n",
              "      <th>3</th>\n",
              "      <td>IJCHM</td>\n",
              "      <td>Ahmat, NHC; Arendt, SW; Russell, DW</td>\n",
              "      <td>Examining work factors after Malaysia's minimu...</td>\n",
              "      <td>2019.0</td>\n",
              "      <td>10.1108/IJCHM-10-2018-0827</td>\n",
              "      <td>https://www.emerald.com/insight/content/doi/10...</td>\n",
              "      <td>IJCHM_3.txt</td>\n",
              "      <td>Methods\\nParticipants\\nEmployees from operatio...</td>\n",
              "    </tr>\n",
              "    <tr>\n",
              "      <th>4</th>\n",
              "      <td>IJCHM</td>\n",
              "      <td>Kim, EL; Tanford, S</td>\n",
              "      <td>Seeking reward or avoiding risk from restauran...</td>\n",
              "      <td>2019.0</td>\n",
              "      <td>10.1108/IJCHM-03-2018-0235</td>\n",
              "      <td>https://www.emerald.com/insight/content/doi/10...</td>\n",
              "      <td>IJCHM_4.txt</td>\n",
              "      <td>Method\\nDesign\\nParticipants made dining decis...</td>\n",
              "    </tr>\n",
              "    <tr>\n",
              "      <th>...</th>\n",
              "      <td>...</td>\n",
              "      <td>...</td>\n",
              "      <td>...</td>\n",
              "      <td>...</td>\n",
              "      <td>...</td>\n",
              "      <td>...</td>\n",
              "      <td>...</td>\n",
              "      <td>...</td>\n",
              "    </tr>\n",
              "    <tr>\n",
              "      <th>3264</th>\n",
              "      <td>JHTR</td>\n",
              "      <td>Kim, W; Ok, C</td>\n",
              "      <td>CUSTOMER ORIENTATION OF SERVICE EMPLOYEES AND ...</td>\n",
              "      <td>2010.0</td>\n",
              "      <td>10.1177/1096348009344234</td>\n",
              "      <td>NaN</td>\n",
              "      <td>NaN</td>\n",
              "      <td>\\nMETHOD\\nMeasures\\nSignificant discrepant res...</td>\n",
              "    </tr>\n",
              "    <tr>\n",
              "      <th>3265</th>\n",
              "      <td>JHTR</td>\n",
              "      <td>Gazzoli, G; Hancer, M; Park, Y</td>\n",
              "      <td>THE ROLE AND EFFECT OF JOB SATISFACTION AND EM...</td>\n",
              "      <td>2010.0</td>\n",
              "      <td>10.1177/1096348009344235</td>\n",
              "      <td>NaN</td>\n",
              "      <td>NaN</td>\n",
              "      <td>\\nMETHOD\\nSample and Data Collection\\nBecause ...</td>\n",
              "    </tr>\n",
              "    <tr>\n",
              "      <th>3266</th>\n",
              "      <td>JHTR</td>\n",
              "      <td>Young, CA; Corsun, DL</td>\n",
              "      <td>BURNED! THE IMPACT OF WORK ASPECTS, INJURY, AN...</td>\n",
              "      <td>2010.0</td>\n",
              "      <td>10.1177/1096348009349816</td>\n",
              "      <td>NaN</td>\n",
              "      <td>NaN</td>\n",
              "      <td>\\nMETHOD\\nData Collection\\nManagement from 13 ...</td>\n",
              "    </tr>\n",
              "    <tr>\n",
              "      <th>3267</th>\n",
              "      <td>JHTR</td>\n",
              "      <td>Kim, DY; Wen, L; Doh, K</td>\n",
              "      <td>DOES CULTURAL DIFFERENCE AFFECT CUSTOMER'S RES...</td>\n",
              "      <td>2010.0</td>\n",
              "      <td>10.1177/1096348009349817</td>\n",
              "      <td>NaN</td>\n",
              "      <td>NaN</td>\n",
              "      <td>\\nMETHOD\\nSample\\nAn experimental design was e...</td>\n",
              "    </tr>\n",
              "    <tr>\n",
              "      <th>3268</th>\n",
              "      <td>JHTR</td>\n",
              "      <td>Pike, S</td>\n",
              "      <td>DESTINATION BRANDING CASE STUDY: TRACKING BRAN...</td>\n",
              "      <td>2010.0</td>\n",
              "      <td>10.1177/1096348009349820</td>\n",
              "      <td>NaN</td>\n",
              "      <td>NaN</td>\n",
              "      <td>\\nMETHOD\\nThe 2003 longitudinal study took pla...</td>\n",
              "    </tr>\n",
              "  </tbody>\n",
              "</table>\n",
              "<p>3269 rows × 8 columns</p>\n",
              "</div>"
            ],
            "text/plain": [
              "         JO  ...                                        methodology\n",
              "0     IJCHM  ...  Methodology\\nThe design is qualitative and exp...\n",
              "1     IJCHM  ...  Data\\nThere are no official statistics on the ...\n",
              "2     IJCHM  ...  3. Research method\\nWe searched the empirical ...\n",
              "3     IJCHM  ...  Methods\\nParticipants\\nEmployees from operatio...\n",
              "4     IJCHM  ...  Method\\nDesign\\nParticipants made dining decis...\n",
              "...     ...  ...                                                ...\n",
              "3264   JHTR  ...  \\nMETHOD\\nMeasures\\nSignificant discrepant res...\n",
              "3265   JHTR  ...  \\nMETHOD\\nSample and Data Collection\\nBecause ...\n",
              "3266   JHTR  ...  \\nMETHOD\\nData Collection\\nManagement from 13 ...\n",
              "3267   JHTR  ...  \\nMETHOD\\nSample\\nAn experimental design was e...\n",
              "3268   JHTR  ...  \\nMETHOD\\nThe 2003 longitudinal study took pla...\n",
              "\n",
              "[3269 rows x 8 columns]"
            ]
          },
          "metadata": {
            "tags": []
          },
          "execution_count": 5
        }
      ]
    },
    {
      "cell_type": "code",
      "metadata": {
        "id": "nEgKSjdKG8i-"
      },
      "source": [
        "df.dropna(subset=[\"methodology\"], inplace=True)"
      ],
      "execution_count": null,
      "outputs": []
    },
    {
      "cell_type": "code",
      "metadata": {
        "colab": {
          "base_uri": "https://localhost:8080/",
          "height": 1000
        },
        "id": "kh-AExFSHm16",
        "outputId": "46322a57-a907-43fb-c4a6-b02eb81b5d9d"
      },
      "source": [
        "df"
      ],
      "execution_count": null,
      "outputs": [
        {
          "output_type": "execute_result",
          "data": {
            "text/html": [
              "<div>\n",
              "<style scoped>\n",
              "    .dataframe tbody tr th:only-of-type {\n",
              "        vertical-align: middle;\n",
              "    }\n",
              "\n",
              "    .dataframe tbody tr th {\n",
              "        vertical-align: top;\n",
              "    }\n",
              "\n",
              "    .dataframe thead th {\n",
              "        text-align: right;\n",
              "    }\n",
              "</style>\n",
              "<table border=\"1\" class=\"dataframe\">\n",
              "  <thead>\n",
              "    <tr style=\"text-align: right;\">\n",
              "      <th></th>\n",
              "      <th>JO</th>\n",
              "      <th>AU</th>\n",
              "      <th>TI</th>\n",
              "      <th>PY</th>\n",
              "      <th>DI</th>\n",
              "      <th>urls</th>\n",
              "      <th>filename</th>\n",
              "      <th>methodology</th>\n",
              "    </tr>\n",
              "  </thead>\n",
              "  <tbody>\n",
              "    <tr>\n",
              "      <th>0</th>\n",
              "      <td>IJCHM</td>\n",
              "      <td>Ineson, EM; Comic, D; Kalmic, L</td>\n",
              "      <td>Towards a hierarchy of hotel guests' in-room n...</td>\n",
              "      <td>2019.0</td>\n",
              "      <td>10.1108/IJCHM-01-2019-0061</td>\n",
              "      <td>https://www.emerald.com/insight/content/doi/10...</td>\n",
              "      <td>IJCHM_0.txt</td>\n",
              "      <td>Methodology\\nThe design is qualitative and exp...</td>\n",
              "    </tr>\n",
              "    <tr>\n",
              "      <th>1</th>\n",
              "      <td>IJCHM</td>\n",
              "      <td>Benitez-Aurioles, B</td>\n",
              "      <td>Barcelona's peer-to-peer tourist accommodation...</td>\n",
              "      <td>2019.0</td>\n",
              "      <td>10.1108/IJCHM-01-2019-0090</td>\n",
              "      <td>https://www.emerald.com/insight/content/doi/10...</td>\n",
              "      <td>IJCHM_1.txt</td>\n",
              "      <td>Data\\nThere are no official statistics on the ...</td>\n",
              "    </tr>\n",
              "    <tr>\n",
              "      <th>2</th>\n",
              "      <td>IJCHM</td>\n",
              "      <td>Hu, XB; Yang, Y; Park, S</td>\n",
              "      <td>A meta-regression on the effect of online rati...</td>\n",
              "      <td>2019.0</td>\n",
              "      <td>10.1108/IJCHM-10-2018-0835</td>\n",
              "      <td>https://www.emerald.com/insight/content/doi/10...</td>\n",
              "      <td>IJCHM_2.txt</td>\n",
              "      <td>3. Research method\\nWe searched the empirical ...</td>\n",
              "    </tr>\n",
              "    <tr>\n",
              "      <th>3</th>\n",
              "      <td>IJCHM</td>\n",
              "      <td>Ahmat, NHC; Arendt, SW; Russell, DW</td>\n",
              "      <td>Examining work factors after Malaysia's minimu...</td>\n",
              "      <td>2019.0</td>\n",
              "      <td>10.1108/IJCHM-10-2018-0827</td>\n",
              "      <td>https://www.emerald.com/insight/content/doi/10...</td>\n",
              "      <td>IJCHM_3.txt</td>\n",
              "      <td>Methods\\nParticipants\\nEmployees from operatio...</td>\n",
              "    </tr>\n",
              "    <tr>\n",
              "      <th>4</th>\n",
              "      <td>IJCHM</td>\n",
              "      <td>Kim, EL; Tanford, S</td>\n",
              "      <td>Seeking reward or avoiding risk from restauran...</td>\n",
              "      <td>2019.0</td>\n",
              "      <td>10.1108/IJCHM-03-2018-0235</td>\n",
              "      <td>https://www.emerald.com/insight/content/doi/10...</td>\n",
              "      <td>IJCHM_4.txt</td>\n",
              "      <td>Method\\nDesign\\nParticipants made dining decis...</td>\n",
              "    </tr>\n",
              "    <tr>\n",
              "      <th>...</th>\n",
              "      <td>...</td>\n",
              "      <td>...</td>\n",
              "      <td>...</td>\n",
              "      <td>...</td>\n",
              "      <td>...</td>\n",
              "      <td>...</td>\n",
              "      <td>...</td>\n",
              "      <td>...</td>\n",
              "    </tr>\n",
              "    <tr>\n",
              "      <th>3264</th>\n",
              "      <td>JHTR</td>\n",
              "      <td>Kim, W; Ok, C</td>\n",
              "      <td>CUSTOMER ORIENTATION OF SERVICE EMPLOYEES AND ...</td>\n",
              "      <td>2010.0</td>\n",
              "      <td>10.1177/1096348009344234</td>\n",
              "      <td>NaN</td>\n",
              "      <td>NaN</td>\n",
              "      <td>\\nMETHOD\\nMeasures\\nSignificant discrepant res...</td>\n",
              "    </tr>\n",
              "    <tr>\n",
              "      <th>3265</th>\n",
              "      <td>JHTR</td>\n",
              "      <td>Gazzoli, G; Hancer, M; Park, Y</td>\n",
              "      <td>THE ROLE AND EFFECT OF JOB SATISFACTION AND EM...</td>\n",
              "      <td>2010.0</td>\n",
              "      <td>10.1177/1096348009344235</td>\n",
              "      <td>NaN</td>\n",
              "      <td>NaN</td>\n",
              "      <td>\\nMETHOD\\nSample and Data Collection\\nBecause ...</td>\n",
              "    </tr>\n",
              "    <tr>\n",
              "      <th>3266</th>\n",
              "      <td>JHTR</td>\n",
              "      <td>Young, CA; Corsun, DL</td>\n",
              "      <td>BURNED! THE IMPACT OF WORK ASPECTS, INJURY, AN...</td>\n",
              "      <td>2010.0</td>\n",
              "      <td>10.1177/1096348009349816</td>\n",
              "      <td>NaN</td>\n",
              "      <td>NaN</td>\n",
              "      <td>\\nMETHOD\\nData Collection\\nManagement from 13 ...</td>\n",
              "    </tr>\n",
              "    <tr>\n",
              "      <th>3267</th>\n",
              "      <td>JHTR</td>\n",
              "      <td>Kim, DY; Wen, L; Doh, K</td>\n",
              "      <td>DOES CULTURAL DIFFERENCE AFFECT CUSTOMER'S RES...</td>\n",
              "      <td>2010.0</td>\n",
              "      <td>10.1177/1096348009349817</td>\n",
              "      <td>NaN</td>\n",
              "      <td>NaN</td>\n",
              "      <td>\\nMETHOD\\nSample\\nAn experimental design was e...</td>\n",
              "    </tr>\n",
              "    <tr>\n",
              "      <th>3268</th>\n",
              "      <td>JHTR</td>\n",
              "      <td>Pike, S</td>\n",
              "      <td>DESTINATION BRANDING CASE STUDY: TRACKING BRAN...</td>\n",
              "      <td>2010.0</td>\n",
              "      <td>10.1177/1096348009349820</td>\n",
              "      <td>NaN</td>\n",
              "      <td>NaN</td>\n",
              "      <td>\\nMETHOD\\nThe 2003 longitudinal study took pla...</td>\n",
              "    </tr>\n",
              "  </tbody>\n",
              "</table>\n",
              "<p>3076 rows × 8 columns</p>\n",
              "</div>"
            ],
            "text/plain": [
              "         JO  ...                                        methodology\n",
              "0     IJCHM  ...  Methodology\\nThe design is qualitative and exp...\n",
              "1     IJCHM  ...  Data\\nThere are no official statistics on the ...\n",
              "2     IJCHM  ...  3. Research method\\nWe searched the empirical ...\n",
              "3     IJCHM  ...  Methods\\nParticipants\\nEmployees from operatio...\n",
              "4     IJCHM  ...  Method\\nDesign\\nParticipants made dining decis...\n",
              "...     ...  ...                                                ...\n",
              "3264   JHTR  ...  \\nMETHOD\\nMeasures\\nSignificant discrepant res...\n",
              "3265   JHTR  ...  \\nMETHOD\\nSample and Data Collection\\nBecause ...\n",
              "3266   JHTR  ...  \\nMETHOD\\nData Collection\\nManagement from 13 ...\n",
              "3267   JHTR  ...  \\nMETHOD\\nSample\\nAn experimental design was e...\n",
              "3268   JHTR  ...  \\nMETHOD\\nThe 2003 longitudinal study took pla...\n",
              "\n",
              "[3076 rows x 8 columns]"
            ]
          },
          "metadata": {
            "tags": []
          },
          "execution_count": 7
        }
      ]
    },
    {
      "cell_type": "code",
      "metadata": {
        "id": "ulJaluBFQ7Og"
      },
      "source": [
        "df.reset_index(drop=True, inplace=True)"
      ],
      "execution_count": null,
      "outputs": []
    },
    {
      "cell_type": "code",
      "metadata": {
        "id": "560b49h-TaAl"
      },
      "source": [
        "df[\"PY\"].fillna(2010, inplace=True)"
      ],
      "execution_count": null,
      "outputs": []
    },
    {
      "cell_type": "code",
      "metadata": {
        "id": "adX2VjXTTS1P"
      },
      "source": [
        "df[\"PY\"] = df.PY.astype(\"int\")"
      ],
      "execution_count": null,
      "outputs": []
    },
    {
      "cell_type": "code",
      "metadata": {
        "colab": {
          "base_uri": "https://localhost:8080/"
        },
        "id": "SmAzzm0tTNR5",
        "outputId": "4903d5c6-7859-4841-ee83-7108fafbbed0"
      },
      "source": [
        "df.isnull().sum()"
      ],
      "execution_count": null,
      "outputs": [
        {
          "output_type": "execute_result",
          "data": {
            "text/plain": [
              "JO              0\n",
              "AU              0\n",
              "TI              0\n",
              "PY              0\n",
              "DI              1\n",
              "urls           83\n",
              "filename       84\n",
              "methodology     0\n",
              "dtype: int64"
            ]
          },
          "metadata": {
            "tags": []
          },
          "execution_count": 11
        }
      ]
    },
    {
      "cell_type": "code",
      "metadata": {
        "colab": {
          "base_uri": "https://localhost:8080/",
          "height": 1000
        },
        "id": "PcV95NYtYYgb",
        "outputId": "69700ef1-d3d2-4c05-d1d5-3a2570349b97"
      },
      "source": [
        "df.drop_duplicates(subset=\"TI\")"
      ],
      "execution_count": null,
      "outputs": [
        {
          "output_type": "execute_result",
          "data": {
            "text/html": [
              "<div>\n",
              "<style scoped>\n",
              "    .dataframe tbody tr th:only-of-type {\n",
              "        vertical-align: middle;\n",
              "    }\n",
              "\n",
              "    .dataframe tbody tr th {\n",
              "        vertical-align: top;\n",
              "    }\n",
              "\n",
              "    .dataframe thead th {\n",
              "        text-align: right;\n",
              "    }\n",
              "</style>\n",
              "<table border=\"1\" class=\"dataframe\">\n",
              "  <thead>\n",
              "    <tr style=\"text-align: right;\">\n",
              "      <th></th>\n",
              "      <th>JO</th>\n",
              "      <th>AU</th>\n",
              "      <th>TI</th>\n",
              "      <th>PY</th>\n",
              "      <th>DI</th>\n",
              "      <th>urls</th>\n",
              "      <th>filename</th>\n",
              "      <th>methodology</th>\n",
              "    </tr>\n",
              "  </thead>\n",
              "  <tbody>\n",
              "    <tr>\n",
              "      <th>0</th>\n",
              "      <td>IJCHM</td>\n",
              "      <td>Ineson, EM; Comic, D; Kalmic, L</td>\n",
              "      <td>Towards a hierarchy of hotel guests' in-room n...</td>\n",
              "      <td>2019</td>\n",
              "      <td>10.1108/IJCHM-01-2019-0061</td>\n",
              "      <td>https://www.emerald.com/insight/content/doi/10...</td>\n",
              "      <td>IJCHM_0.txt</td>\n",
              "      <td>Methodology\\nThe design is qualitative and exp...</td>\n",
              "    </tr>\n",
              "    <tr>\n",
              "      <th>1</th>\n",
              "      <td>IJCHM</td>\n",
              "      <td>Benitez-Aurioles, B</td>\n",
              "      <td>Barcelona's peer-to-peer tourist accommodation...</td>\n",
              "      <td>2019</td>\n",
              "      <td>10.1108/IJCHM-01-2019-0090</td>\n",
              "      <td>https://www.emerald.com/insight/content/doi/10...</td>\n",
              "      <td>IJCHM_1.txt</td>\n",
              "      <td>Data\\nThere are no official statistics on the ...</td>\n",
              "    </tr>\n",
              "    <tr>\n",
              "      <th>2</th>\n",
              "      <td>IJCHM</td>\n",
              "      <td>Hu, XB; Yang, Y; Park, S</td>\n",
              "      <td>A meta-regression on the effect of online rati...</td>\n",
              "      <td>2019</td>\n",
              "      <td>10.1108/IJCHM-10-2018-0835</td>\n",
              "      <td>https://www.emerald.com/insight/content/doi/10...</td>\n",
              "      <td>IJCHM_2.txt</td>\n",
              "      <td>3. Research method\\nWe searched the empirical ...</td>\n",
              "    </tr>\n",
              "    <tr>\n",
              "      <th>3</th>\n",
              "      <td>IJCHM</td>\n",
              "      <td>Ahmat, NHC; Arendt, SW; Russell, DW</td>\n",
              "      <td>Examining work factors after Malaysia's minimu...</td>\n",
              "      <td>2019</td>\n",
              "      <td>10.1108/IJCHM-10-2018-0827</td>\n",
              "      <td>https://www.emerald.com/insight/content/doi/10...</td>\n",
              "      <td>IJCHM_3.txt</td>\n",
              "      <td>Methods\\nParticipants\\nEmployees from operatio...</td>\n",
              "    </tr>\n",
              "    <tr>\n",
              "      <th>4</th>\n",
              "      <td>IJCHM</td>\n",
              "      <td>Kim, EL; Tanford, S</td>\n",
              "      <td>Seeking reward or avoiding risk from restauran...</td>\n",
              "      <td>2019</td>\n",
              "      <td>10.1108/IJCHM-03-2018-0235</td>\n",
              "      <td>https://www.emerald.com/insight/content/doi/10...</td>\n",
              "      <td>IJCHM_4.txt</td>\n",
              "      <td>Method\\nDesign\\nParticipants made dining decis...</td>\n",
              "    </tr>\n",
              "    <tr>\n",
              "      <th>...</th>\n",
              "      <td>...</td>\n",
              "      <td>...</td>\n",
              "      <td>...</td>\n",
              "      <td>...</td>\n",
              "      <td>...</td>\n",
              "      <td>...</td>\n",
              "      <td>...</td>\n",
              "      <td>...</td>\n",
              "    </tr>\n",
              "    <tr>\n",
              "      <th>3071</th>\n",
              "      <td>JHTR</td>\n",
              "      <td>Kim, W; Ok, C</td>\n",
              "      <td>CUSTOMER ORIENTATION OF SERVICE EMPLOYEES AND ...</td>\n",
              "      <td>2010</td>\n",
              "      <td>10.1177/1096348009344234</td>\n",
              "      <td>NaN</td>\n",
              "      <td>NaN</td>\n",
              "      <td>\\nMETHOD\\nMeasures\\nSignificant discrepant res...</td>\n",
              "    </tr>\n",
              "    <tr>\n",
              "      <th>3072</th>\n",
              "      <td>JHTR</td>\n",
              "      <td>Gazzoli, G; Hancer, M; Park, Y</td>\n",
              "      <td>THE ROLE AND EFFECT OF JOB SATISFACTION AND EM...</td>\n",
              "      <td>2010</td>\n",
              "      <td>10.1177/1096348009344235</td>\n",
              "      <td>NaN</td>\n",
              "      <td>NaN</td>\n",
              "      <td>\\nMETHOD\\nSample and Data Collection\\nBecause ...</td>\n",
              "    </tr>\n",
              "    <tr>\n",
              "      <th>3073</th>\n",
              "      <td>JHTR</td>\n",
              "      <td>Young, CA; Corsun, DL</td>\n",
              "      <td>BURNED! THE IMPACT OF WORK ASPECTS, INJURY, AN...</td>\n",
              "      <td>2010</td>\n",
              "      <td>10.1177/1096348009349816</td>\n",
              "      <td>NaN</td>\n",
              "      <td>NaN</td>\n",
              "      <td>\\nMETHOD\\nData Collection\\nManagement from 13 ...</td>\n",
              "    </tr>\n",
              "    <tr>\n",
              "      <th>3074</th>\n",
              "      <td>JHTR</td>\n",
              "      <td>Kim, DY; Wen, L; Doh, K</td>\n",
              "      <td>DOES CULTURAL DIFFERENCE AFFECT CUSTOMER'S RES...</td>\n",
              "      <td>2010</td>\n",
              "      <td>10.1177/1096348009349817</td>\n",
              "      <td>NaN</td>\n",
              "      <td>NaN</td>\n",
              "      <td>\\nMETHOD\\nSample\\nAn experimental design was e...</td>\n",
              "    </tr>\n",
              "    <tr>\n",
              "      <th>3075</th>\n",
              "      <td>JHTR</td>\n",
              "      <td>Pike, S</td>\n",
              "      <td>DESTINATION BRANDING CASE STUDY: TRACKING BRAN...</td>\n",
              "      <td>2010</td>\n",
              "      <td>10.1177/1096348009349820</td>\n",
              "      <td>NaN</td>\n",
              "      <td>NaN</td>\n",
              "      <td>\\nMETHOD\\nThe 2003 longitudinal study took pla...</td>\n",
              "    </tr>\n",
              "  </tbody>\n",
              "</table>\n",
              "<p>3076 rows × 8 columns</p>\n",
              "</div>"
            ],
            "text/plain": [
              "         JO  ...                                        methodology\n",
              "0     IJCHM  ...  Methodology\\nThe design is qualitative and exp...\n",
              "1     IJCHM  ...  Data\\nThere are no official statistics on the ...\n",
              "2     IJCHM  ...  3. Research method\\nWe searched the empirical ...\n",
              "3     IJCHM  ...  Methods\\nParticipants\\nEmployees from operatio...\n",
              "4     IJCHM  ...  Method\\nDesign\\nParticipants made dining decis...\n",
              "...     ...  ...                                                ...\n",
              "3071   JHTR  ...  \\nMETHOD\\nMeasures\\nSignificant discrepant res...\n",
              "3072   JHTR  ...  \\nMETHOD\\nSample and Data Collection\\nBecause ...\n",
              "3073   JHTR  ...  \\nMETHOD\\nData Collection\\nManagement from 13 ...\n",
              "3074   JHTR  ...  \\nMETHOD\\nSample\\nAn experimental design was e...\n",
              "3075   JHTR  ...  \\nMETHOD\\nThe 2003 longitudinal study took pla...\n",
              "\n",
              "[3076 rows x 8 columns]"
            ]
          },
          "metadata": {
            "tags": []
          },
          "execution_count": 12
        }
      ]
    },
    {
      "cell_type": "code",
      "metadata": {
        "colab": {
          "base_uri": "https://localhost:8080/",
          "height": 941
        },
        "id": "AARpH_MtSadM",
        "outputId": "9db88fae-3cfe-45fc-bb57-5015290cbb90"
      },
      "source": [
        "df_merged = pd.merge(df_method[[\"TI\", \"QUANTITATIVE\", \"Method\"]], df, left_on=\"TI\", right_on=\"TI\")\n",
        "df_merged"
      ],
      "execution_count": null,
      "outputs": [
        {
          "output_type": "execute_result",
          "data": {
            "text/html": [
              "<div>\n",
              "<style scoped>\n",
              "    .dataframe tbody tr th:only-of-type {\n",
              "        vertical-align: middle;\n",
              "    }\n",
              "\n",
              "    .dataframe tbody tr th {\n",
              "        vertical-align: top;\n",
              "    }\n",
              "\n",
              "    .dataframe thead th {\n",
              "        text-align: right;\n",
              "    }\n",
              "</style>\n",
              "<table border=\"1\" class=\"dataframe\">\n",
              "  <thead>\n",
              "    <tr style=\"text-align: right;\">\n",
              "      <th></th>\n",
              "      <th>TI</th>\n",
              "      <th>QUANTITATIVE</th>\n",
              "      <th>Method</th>\n",
              "      <th>JO</th>\n",
              "      <th>AU</th>\n",
              "      <th>PY</th>\n",
              "      <th>DI</th>\n",
              "      <th>urls</th>\n",
              "      <th>filename</th>\n",
              "      <th>methodology</th>\n",
              "    </tr>\n",
              "  </thead>\n",
              "  <tbody>\n",
              "    <tr>\n",
              "      <th>0</th>\n",
              "      <td>Towards a hierarchy of hotel guests' in-room n...</td>\n",
              "      <td>0</td>\n",
              "      <td>phenomenology</td>\n",
              "      <td>IJCHM</td>\n",
              "      <td>Ineson, EM; Comic, D; Kalmic, L</td>\n",
              "      <td>2019</td>\n",
              "      <td>10.1108/IJCHM-01-2019-0061</td>\n",
              "      <td>https://www.emerald.com/insight/content/doi/10...</td>\n",
              "      <td>IJCHM_0.txt</td>\n",
              "      <td>Methodology\\nThe design is qualitative and exp...</td>\n",
              "    </tr>\n",
              "    <tr>\n",
              "      <th>1</th>\n",
              "      <td>Barcelona's peer-to-peer tourist accommodation...</td>\n",
              "      <td>1</td>\n",
              "      <td>secondary data</td>\n",
              "      <td>IJCHM</td>\n",
              "      <td>Benitez-Aurioles, B</td>\n",
              "      <td>2019</td>\n",
              "      <td>10.1108/IJCHM-01-2019-0090</td>\n",
              "      <td>https://www.emerald.com/insight/content/doi/10...</td>\n",
              "      <td>IJCHM_1.txt</td>\n",
              "      <td>Data\\nThere are no official statistics on the ...</td>\n",
              "    </tr>\n",
              "    <tr>\n",
              "      <th>2</th>\n",
              "      <td>A meta-regression on the effect of online rati...</td>\n",
              "      <td>0</td>\n",
              "      <td>review</td>\n",
              "      <td>IJCHM</td>\n",
              "      <td>Hu, XB; Yang, Y; Park, S</td>\n",
              "      <td>2019</td>\n",
              "      <td>10.1108/IJCHM-10-2018-0835</td>\n",
              "      <td>https://www.emerald.com/insight/content/doi/10...</td>\n",
              "      <td>IJCHM_2.txt</td>\n",
              "      <td>3. Research method\\nWe searched the empirical ...</td>\n",
              "    </tr>\n",
              "    <tr>\n",
              "      <th>3</th>\n",
              "      <td>Examining work factors after Malaysia's minimu...</td>\n",
              "      <td>1</td>\n",
              "      <td>survey</td>\n",
              "      <td>IJCHM</td>\n",
              "      <td>Ahmat, NHC; Arendt, SW; Russell, DW</td>\n",
              "      <td>2019</td>\n",
              "      <td>10.1108/IJCHM-10-2018-0827</td>\n",
              "      <td>https://www.emerald.com/insight/content/doi/10...</td>\n",
              "      <td>IJCHM_3.txt</td>\n",
              "      <td>Methods\\nParticipants\\nEmployees from operatio...</td>\n",
              "    </tr>\n",
              "    <tr>\n",
              "      <th>4</th>\n",
              "      <td>Seeking reward or avoiding risk from restauran...</td>\n",
              "      <td>1</td>\n",
              "      <td>experimental</td>\n",
              "      <td>IJCHM</td>\n",
              "      <td>Kim, EL; Tanford, S</td>\n",
              "      <td>2019</td>\n",
              "      <td>10.1108/IJCHM-03-2018-0235</td>\n",
              "      <td>https://www.emerald.com/insight/content/doi/10...</td>\n",
              "      <td>IJCHM_4.txt</td>\n",
              "      <td>Method\\nDesign\\nParticipants made dining decis...</td>\n",
              "    </tr>\n",
              "    <tr>\n",
              "      <th>...</th>\n",
              "      <td>...</td>\n",
              "      <td>...</td>\n",
              "      <td>...</td>\n",
              "      <td>...</td>\n",
              "      <td>...</td>\n",
              "      <td>...</td>\n",
              "      <td>...</td>\n",
              "      <td>...</td>\n",
              "      <td>...</td>\n",
              "      <td>...</td>\n",
              "    </tr>\n",
              "    <tr>\n",
              "      <th>3071</th>\n",
              "      <td>Attitudes, Perceptions, and Responses of Purch...</td>\n",
              "      <td>1</td>\n",
              "      <td>survey</td>\n",
              "      <td>JHMM</td>\n",
              "      <td>Ong, BS</td>\n",
              "      <td>2015</td>\n",
              "      <td>10.1080/19368623.2014.901201</td>\n",
              "      <td>https://www.tandfonline.com/doi/full/10.1080/1...</td>\n",
              "      <td>JHMM_223.txt</td>\n",
              "      <td>\\nMETHODOLOGY\\nGiven that daily deals are Inte...</td>\n",
              "    </tr>\n",
              "    <tr>\n",
              "      <th>3072</th>\n",
              "      <td>Exploring the Antecedents of Hotel Customer Lo...</td>\n",
              "      <td>1</td>\n",
              "      <td>survey</td>\n",
              "      <td>JHMM</td>\n",
              "      <td>de Leaniz, PMG; Rodriguez, IRD</td>\n",
              "      <td>2015</td>\n",
              "      <td>10.1080/19368623.2014.891961</td>\n",
              "      <td>https://www.tandfonline.com/doi/full/10.1080/1...</td>\n",
              "      <td>JHMM_224.txt</td>\n",
              "      <td>\\nMETHOD OF ANALYSIS\\nData Collection and Samp...</td>\n",
              "    </tr>\n",
              "    <tr>\n",
              "      <th>3073</th>\n",
              "      <td>Casual Dining on the French Riviera: Examining...</td>\n",
              "      <td>1</td>\n",
              "      <td>survey</td>\n",
              "      <td>JHMM</td>\n",
              "      <td>Prayag, G; Khoo-Lattimore, C; Sitruk, J</td>\n",
              "      <td>2015</td>\n",
              "      <td>10.1080/19368623.2014.859114</td>\n",
              "      <td>https://www.tandfonline.com/doi/full/10.1080/1...</td>\n",
              "      <td>JHMM_225.txt</td>\n",
              "      <td>\\nMETHODOLOGY\\nThe Study Site\\nThe French Rivi...</td>\n",
              "    </tr>\n",
              "    <tr>\n",
              "      <th>3074</th>\n",
              "      <td>The Influence of DMO Advertising on Specific D...</td>\n",
              "      <td>1</td>\n",
              "      <td>survey</td>\n",
              "      <td>JHMM</td>\n",
              "      <td>Morosan, C</td>\n",
              "      <td>2015</td>\n",
              "      <td>10.1080/19368623.2014.891962</td>\n",
              "      <td>https://www.tandfonline.com/doi/full/10.1080/1...</td>\n",
              "      <td>JHMM_226.txt</td>\n",
              "      <td>\\nMETHODOLOGY\\nInstrument Development\\nThe res...</td>\n",
              "    </tr>\n",
              "    <tr>\n",
              "      <th>3075</th>\n",
              "      <td>How Do Customers Perceive Service Quality in D...</td>\n",
              "      <td>1</td>\n",
              "      <td>survey</td>\n",
              "      <td>JHMM</td>\n",
              "      <td>Cao, Y; Kim, K</td>\n",
              "      <td>2015</td>\n",
              "      <td>10.1080/19368623.2014.903817</td>\n",
              "      <td>https://www.tandfonline.com/doi/full/10.1080/1...</td>\n",
              "      <td>JHMM_228.txt</td>\n",
              "      <td>\\nMETHOD\\nInstrument Development\\nThe survey q...</td>\n",
              "    </tr>\n",
              "  </tbody>\n",
              "</table>\n",
              "<p>3076 rows × 10 columns</p>\n",
              "</div>"
            ],
            "text/plain": [
              "                                                     TI  ...                                        methodology\n",
              "0     Towards a hierarchy of hotel guests' in-room n...  ...  Methodology\\nThe design is qualitative and exp...\n",
              "1     Barcelona's peer-to-peer tourist accommodation...  ...  Data\\nThere are no official statistics on the ...\n",
              "2     A meta-regression on the effect of online rati...  ...  3. Research method\\nWe searched the empirical ...\n",
              "3     Examining work factors after Malaysia's minimu...  ...  Methods\\nParticipants\\nEmployees from operatio...\n",
              "4     Seeking reward or avoiding risk from restauran...  ...  Method\\nDesign\\nParticipants made dining decis...\n",
              "...                                                 ...  ...                                                ...\n",
              "3071  Attitudes, Perceptions, and Responses of Purch...  ...  \\nMETHODOLOGY\\nGiven that daily deals are Inte...\n",
              "3072  Exploring the Antecedents of Hotel Customer Lo...  ...  \\nMETHOD OF ANALYSIS\\nData Collection and Samp...\n",
              "3073  Casual Dining on the French Riviera: Examining...  ...  \\nMETHODOLOGY\\nThe Study Site\\nThe French Rivi...\n",
              "3074  The Influence of DMO Advertising on Specific D...  ...  \\nMETHODOLOGY\\nInstrument Development\\nThe res...\n",
              "3075  How Do Customers Perceive Service Quality in D...  ...  \\nMETHOD\\nInstrument Development\\nThe survey q...\n",
              "\n",
              "[3076 rows x 10 columns]"
            ]
          },
          "metadata": {
            "tags": []
          },
          "execution_count": 13
        }
      ]
    },
    {
      "cell_type": "code",
      "metadata": {
        "colab": {
          "base_uri": "https://localhost:8080/"
        },
        "id": "mdH2moq8SaZi",
        "outputId": "9aba03fd-f61f-4f73-9358-bc2f4129bdf8"
      },
      "source": [
        "df_merged.isnull().sum()"
      ],
      "execution_count": null,
      "outputs": [
        {
          "output_type": "execute_result",
          "data": {
            "text/plain": [
              "TI               0\n",
              "QUANTITATIVE     0\n",
              "Method           0\n",
              "JO               0\n",
              "AU               0\n",
              "PY               0\n",
              "DI               1\n",
              "urls            83\n",
              "filename        84\n",
              "methodology      0\n",
              "dtype: int64"
            ]
          },
          "metadata": {
            "tags": []
          },
          "execution_count": 14
        }
      ]
    },
    {
      "cell_type": "code",
      "metadata": {
        "colab": {
          "base_uri": "https://localhost:8080/"
        },
        "id": "4OC6W2T3SaXM",
        "outputId": "d9453226-d330-43ca-b5b9-041154e02126"
      },
      "source": [
        "df_merged.Method.value_counts()"
      ],
      "execution_count": null,
      "outputs": [
        {
          "output_type": "execute_result",
          "data": {
            "text/plain": [
              "survey               1511\n",
              "secondary data        525\n",
              "experimental          346\n",
              "qualitative           177\n",
              "mixed                 112\n",
              "content analysis      104\n",
              "case study             99\n",
              "review                 76\n",
              "scale development      38\n",
              "bibliometric           18\n",
              "grounded theory        16\n",
              "phenomenology          15\n",
              "theoretical            11\n",
              "meta-analysis           7\n",
              "ethnography             6\n",
              "sna                     5\n",
              "textual analysis        4\n",
              "delphi                  3\n",
              "field study             1\n",
              "research note           1\n",
              "interview               1\n",
              "Name: Method, dtype: int64"
            ]
          },
          "metadata": {
            "tags": []
          },
          "execution_count": 15
        }
      ]
    },
    {
      "cell_type": "code",
      "metadata": {
        "colab": {
          "base_uri": "https://localhost:8080/",
          "height": 890
        },
        "id": "mh2hmLE6SaUB",
        "outputId": "da62cb23-e713-49d7-e849-3643e4dc488a"
      },
      "source": [
        "df_filtered = df_merged.groupby(\"Method\").filter(lambda x: len(x)>100)\n",
        "df_filtered"
      ],
      "execution_count": null,
      "outputs": [
        {
          "output_type": "execute_result",
          "data": {
            "text/html": [
              "<div>\n",
              "<style scoped>\n",
              "    .dataframe tbody tr th:only-of-type {\n",
              "        vertical-align: middle;\n",
              "    }\n",
              "\n",
              "    .dataframe tbody tr th {\n",
              "        vertical-align: top;\n",
              "    }\n",
              "\n",
              "    .dataframe thead th {\n",
              "        text-align: right;\n",
              "    }\n",
              "</style>\n",
              "<table border=\"1\" class=\"dataframe\">\n",
              "  <thead>\n",
              "    <tr style=\"text-align: right;\">\n",
              "      <th></th>\n",
              "      <th>TI</th>\n",
              "      <th>QUANTITATIVE</th>\n",
              "      <th>Method</th>\n",
              "      <th>JO</th>\n",
              "      <th>AU</th>\n",
              "      <th>PY</th>\n",
              "      <th>DI</th>\n",
              "      <th>urls</th>\n",
              "      <th>filename</th>\n",
              "      <th>methodology</th>\n",
              "    </tr>\n",
              "  </thead>\n",
              "  <tbody>\n",
              "    <tr>\n",
              "      <th>1</th>\n",
              "      <td>Barcelona's peer-to-peer tourist accommodation...</td>\n",
              "      <td>1</td>\n",
              "      <td>secondary data</td>\n",
              "      <td>IJCHM</td>\n",
              "      <td>Benitez-Aurioles, B</td>\n",
              "      <td>2019</td>\n",
              "      <td>10.1108/IJCHM-01-2019-0090</td>\n",
              "      <td>https://www.emerald.com/insight/content/doi/10...</td>\n",
              "      <td>IJCHM_1.txt</td>\n",
              "      <td>Data\\nThere are no official statistics on the ...</td>\n",
              "    </tr>\n",
              "    <tr>\n",
              "      <th>3</th>\n",
              "      <td>Examining work factors after Malaysia's minimu...</td>\n",
              "      <td>1</td>\n",
              "      <td>survey</td>\n",
              "      <td>IJCHM</td>\n",
              "      <td>Ahmat, NHC; Arendt, SW; Russell, DW</td>\n",
              "      <td>2019</td>\n",
              "      <td>10.1108/IJCHM-10-2018-0827</td>\n",
              "      <td>https://www.emerald.com/insight/content/doi/10...</td>\n",
              "      <td>IJCHM_3.txt</td>\n",
              "      <td>Methods\\nParticipants\\nEmployees from operatio...</td>\n",
              "    </tr>\n",
              "    <tr>\n",
              "      <th>4</th>\n",
              "      <td>Seeking reward or avoiding risk from restauran...</td>\n",
              "      <td>1</td>\n",
              "      <td>experimental</td>\n",
              "      <td>IJCHM</td>\n",
              "      <td>Kim, EL; Tanford, S</td>\n",
              "      <td>2019</td>\n",
              "      <td>10.1108/IJCHM-03-2018-0235</td>\n",
              "      <td>https://www.emerald.com/insight/content/doi/10...</td>\n",
              "      <td>IJCHM_4.txt</td>\n",
              "      <td>Method\\nDesign\\nParticipants made dining decis...</td>\n",
              "    </tr>\n",
              "    <tr>\n",
              "      <th>5</th>\n",
              "      <td>Prices of short-stay accommodation: time serie...</td>\n",
              "      <td>1</td>\n",
              "      <td>secondary data</td>\n",
              "      <td>IJCHM</td>\n",
              "      <td>Gricar, S; Bojnec, S</td>\n",
              "      <td>2019</td>\n",
              "      <td>10.1108/IJCHM-01-2019-0091</td>\n",
              "      <td>https://www.emerald.com/insight/content/doi/10...</td>\n",
              "      <td>IJCHM_5.txt</td>\n",
              "      <td>Empirical setting\\nIn terms of relevant econom...</td>\n",
              "    </tr>\n",
              "    <tr>\n",
              "      <th>6</th>\n",
              "      <td>How do online reviewers' cultural traits and p...</td>\n",
              "      <td>1</td>\n",
              "      <td>content analysis</td>\n",
              "      <td>IJCHM</td>\n",
              "      <td>Mariani, M; Predvoditeleva, M</td>\n",
              "      <td>2019</td>\n",
              "      <td>10.1108/IJCHM-11-2018-0927</td>\n",
              "      <td>https://www.emerald.com/insight/content/doi/10...</td>\n",
              "      <td>IJCHM_7.txt</td>\n",
              "      <td>3. Research setting, design and methodology\\n3...</td>\n",
              "    </tr>\n",
              "    <tr>\n",
              "      <th>...</th>\n",
              "      <td>...</td>\n",
              "      <td>...</td>\n",
              "      <td>...</td>\n",
              "      <td>...</td>\n",
              "      <td>...</td>\n",
              "      <td>...</td>\n",
              "      <td>...</td>\n",
              "      <td>...</td>\n",
              "      <td>...</td>\n",
              "      <td>...</td>\n",
              "    </tr>\n",
              "    <tr>\n",
              "      <th>3071</th>\n",
              "      <td>Attitudes, Perceptions, and Responses of Purch...</td>\n",
              "      <td>1</td>\n",
              "      <td>survey</td>\n",
              "      <td>JHMM</td>\n",
              "      <td>Ong, BS</td>\n",
              "      <td>2015</td>\n",
              "      <td>10.1080/19368623.2014.901201</td>\n",
              "      <td>https://www.tandfonline.com/doi/full/10.1080/1...</td>\n",
              "      <td>JHMM_223.txt</td>\n",
              "      <td>\\nMETHODOLOGY\\nGiven that daily deals are Inte...</td>\n",
              "    </tr>\n",
              "    <tr>\n",
              "      <th>3072</th>\n",
              "      <td>Exploring the Antecedents of Hotel Customer Lo...</td>\n",
              "      <td>1</td>\n",
              "      <td>survey</td>\n",
              "      <td>JHMM</td>\n",
              "      <td>de Leaniz, PMG; Rodriguez, IRD</td>\n",
              "      <td>2015</td>\n",
              "      <td>10.1080/19368623.2014.891961</td>\n",
              "      <td>https://www.tandfonline.com/doi/full/10.1080/1...</td>\n",
              "      <td>JHMM_224.txt</td>\n",
              "      <td>\\nMETHOD OF ANALYSIS\\nData Collection and Samp...</td>\n",
              "    </tr>\n",
              "    <tr>\n",
              "      <th>3073</th>\n",
              "      <td>Casual Dining on the French Riviera: Examining...</td>\n",
              "      <td>1</td>\n",
              "      <td>survey</td>\n",
              "      <td>JHMM</td>\n",
              "      <td>Prayag, G; Khoo-Lattimore, C; Sitruk, J</td>\n",
              "      <td>2015</td>\n",
              "      <td>10.1080/19368623.2014.859114</td>\n",
              "      <td>https://www.tandfonline.com/doi/full/10.1080/1...</td>\n",
              "      <td>JHMM_225.txt</td>\n",
              "      <td>\\nMETHODOLOGY\\nThe Study Site\\nThe French Rivi...</td>\n",
              "    </tr>\n",
              "    <tr>\n",
              "      <th>3074</th>\n",
              "      <td>The Influence of DMO Advertising on Specific D...</td>\n",
              "      <td>1</td>\n",
              "      <td>survey</td>\n",
              "      <td>JHMM</td>\n",
              "      <td>Morosan, C</td>\n",
              "      <td>2015</td>\n",
              "      <td>10.1080/19368623.2014.891962</td>\n",
              "      <td>https://www.tandfonline.com/doi/full/10.1080/1...</td>\n",
              "      <td>JHMM_226.txt</td>\n",
              "      <td>\\nMETHODOLOGY\\nInstrument Development\\nThe res...</td>\n",
              "    </tr>\n",
              "    <tr>\n",
              "      <th>3075</th>\n",
              "      <td>How Do Customers Perceive Service Quality in D...</td>\n",
              "      <td>1</td>\n",
              "      <td>survey</td>\n",
              "      <td>JHMM</td>\n",
              "      <td>Cao, Y; Kim, K</td>\n",
              "      <td>2015</td>\n",
              "      <td>10.1080/19368623.2014.903817</td>\n",
              "      <td>https://www.tandfonline.com/doi/full/10.1080/1...</td>\n",
              "      <td>JHMM_228.txt</td>\n",
              "      <td>\\nMETHOD\\nInstrument Development\\nThe survey q...</td>\n",
              "    </tr>\n",
              "  </tbody>\n",
              "</table>\n",
              "<p>2775 rows × 10 columns</p>\n",
              "</div>"
            ],
            "text/plain": [
              "                                                     TI  ...                                        methodology\n",
              "1     Barcelona's peer-to-peer tourist accommodation...  ...  Data\\nThere are no official statistics on the ...\n",
              "3     Examining work factors after Malaysia's minimu...  ...  Methods\\nParticipants\\nEmployees from operatio...\n",
              "4     Seeking reward or avoiding risk from restauran...  ...  Method\\nDesign\\nParticipants made dining decis...\n",
              "5     Prices of short-stay accommodation: time serie...  ...  Empirical setting\\nIn terms of relevant econom...\n",
              "6     How do online reviewers' cultural traits and p...  ...  3. Research setting, design and methodology\\n3...\n",
              "...                                                 ...  ...                                                ...\n",
              "3071  Attitudes, Perceptions, and Responses of Purch...  ...  \\nMETHODOLOGY\\nGiven that daily deals are Inte...\n",
              "3072  Exploring the Antecedents of Hotel Customer Lo...  ...  \\nMETHOD OF ANALYSIS\\nData Collection and Samp...\n",
              "3073  Casual Dining on the French Riviera: Examining...  ...  \\nMETHODOLOGY\\nThe Study Site\\nThe French Rivi...\n",
              "3074  The Influence of DMO Advertising on Specific D...  ...  \\nMETHODOLOGY\\nInstrument Development\\nThe res...\n",
              "3075  How Do Customers Perceive Service Quality in D...  ...  \\nMETHOD\\nInstrument Development\\nThe survey q...\n",
              "\n",
              "[2775 rows x 10 columns]"
            ]
          },
          "metadata": {
            "tags": []
          },
          "execution_count": 16
        }
      ]
    },
    {
      "cell_type": "code",
      "metadata": {
        "id": "eGwNj5CRVn59"
      },
      "source": [
        "df_filtered = df_filtered[df_filtered.Method!=\"mixed\"]"
      ],
      "execution_count": null,
      "outputs": []
    },
    {
      "cell_type": "code",
      "metadata": {
        "colab": {
          "base_uri": "https://localhost:8080/"
        },
        "id": "0HIMvGdyQAvl",
        "outputId": "ef2b3f01-7619-4ebd-e0e1-a9b046b2f6dd"
      },
      "source": [
        "len(df_filtered)"
      ],
      "execution_count": null,
      "outputs": [
        {
          "output_type": "execute_result",
          "data": {
            "text/plain": [
              "2663"
            ]
          },
          "metadata": {
            "tags": []
          },
          "execution_count": 18
        }
      ]
    },
    {
      "cell_type": "code",
      "metadata": {
        "colab": {
          "base_uri": "https://localhost:8080/"
        },
        "id": "geMUgmQwSaQ-",
        "outputId": "b31baefa-8e70-4106-ce5f-ae04050e0ea5"
      },
      "source": [
        "df_filtered.Method.value_counts()"
      ],
      "execution_count": null,
      "outputs": [
        {
          "output_type": "execute_result",
          "data": {
            "text/plain": [
              "survey              1511\n",
              "secondary data       525\n",
              "experimental         346\n",
              "qualitative          177\n",
              "content analysis     104\n",
              "Name: Method, dtype: int64"
            ]
          },
          "metadata": {
            "tags": []
          },
          "execution_count": 19
        }
      ]
    },
    {
      "cell_type": "code",
      "metadata": {
        "colab": {
          "base_uri": "https://localhost:8080/"
        },
        "id": "uOZFuzraVnzO",
        "outputId": "03406c7a-c78f-42e6-e21b-79055d9a28ad"
      },
      "source": [
        "df_filtered.Method.value_counts(normalize=True)"
      ],
      "execution_count": null,
      "outputs": [
        {
          "output_type": "execute_result",
          "data": {
            "text/plain": [
              "survey              0.567405\n",
              "secondary data      0.197146\n",
              "experimental        0.129929\n",
              "qualitative         0.066466\n",
              "content analysis    0.039054\n",
              "Name: Method, dtype: float64"
            ]
          },
          "metadata": {
            "tags": []
          },
          "execution_count": 20
        }
      ]
    },
    {
      "cell_type": "code",
      "metadata": {
        "id": "hW7nYMwJNM5e"
      },
      "source": [
        ""
      ],
      "execution_count": null,
      "outputs": []
    },
    {
      "cell_type": "code",
      "metadata": {
        "colab": {
          "base_uri": "https://localhost:8080/"
        },
        "id": "8fjQDXveNM1r",
        "outputId": "1640b4ba-1941-4995-f47c-a956542192e2"
      },
      "source": [
        "df_filtered['method_id'] = df_filtered['Method'].factorize()[0]\n",
        "# category_id_df = df[['Product', 'category_id']].drop_duplicates().sort_values('category_id')\n",
        "# category_to_id = dict(category_id_df.values)\n",
        "# id_to_category = dict(category_id_df[['category_id', 'Product']].values)"
      ],
      "execution_count": null,
      "outputs": [
        {
          "output_type": "stream",
          "text": [
            "/usr/local/lib/python3.7/dist-packages/ipykernel_launcher.py:1: SettingWithCopyWarning: \n",
            "A value is trying to be set on a copy of a slice from a DataFrame.\n",
            "Try using .loc[row_indexer,col_indexer] = value instead\n",
            "\n",
            "See the caveats in the documentation: https://pandas.pydata.org/pandas-docs/stable/user_guide/indexing.html#returning-a-view-versus-a-copy\n",
            "  \"\"\"Entry point for launching an IPython kernel.\n"
          ],
          "name": "stderr"
        }
      ]
    },
    {
      "cell_type": "code",
      "metadata": {
        "id": "ddo03fHBDSGG"
      },
      "source": [
        "df_filtered = df_filtered.sample(frac=1).reset_index(drop=True)"
      ],
      "execution_count": null,
      "outputs": []
    },
    {
      "cell_type": "code",
      "metadata": {
        "id": "U9eLaPTJKuuj"
      },
      "source": [
        "df_filtered[\"Method\"] = df_filtered.Method.replace({'content analysis':\"content\", \"secondary data\":\"secondary\"})"
      ],
      "execution_count": null,
      "outputs": []
    },
    {
      "cell_type": "code",
      "metadata": {
        "colab": {
          "base_uri": "https://localhost:8080/",
          "height": 492
        },
        "id": "KEFh6PCqNMzG",
        "outputId": "e0d059f1-b9a3-4e9d-d54b-7a6bfbe66d91"
      },
      "source": [
        "df_filtered.head()"
      ],
      "execution_count": null,
      "outputs": [
        {
          "output_type": "execute_result",
          "data": {
            "text/html": [
              "<div>\n",
              "<style scoped>\n",
              "    .dataframe tbody tr th:only-of-type {\n",
              "        vertical-align: middle;\n",
              "    }\n",
              "\n",
              "    .dataframe tbody tr th {\n",
              "        vertical-align: top;\n",
              "    }\n",
              "\n",
              "    .dataframe thead th {\n",
              "        text-align: right;\n",
              "    }\n",
              "</style>\n",
              "<table border=\"1\" class=\"dataframe\">\n",
              "  <thead>\n",
              "    <tr style=\"text-align: right;\">\n",
              "      <th></th>\n",
              "      <th>TI</th>\n",
              "      <th>QUANTITATIVE</th>\n",
              "      <th>Method</th>\n",
              "      <th>JO</th>\n",
              "      <th>AU</th>\n",
              "      <th>PY</th>\n",
              "      <th>DI</th>\n",
              "      <th>urls</th>\n",
              "      <th>filename</th>\n",
              "      <th>methodology</th>\n",
              "      <th>method_id</th>\n",
              "    </tr>\n",
              "  </thead>\n",
              "  <tbody>\n",
              "    <tr>\n",
              "      <th>0</th>\n",
              "      <td>Justice perceptions and drives of hotel employ...</td>\n",
              "      <td>1</td>\n",
              "      <td>survey</td>\n",
              "      <td>IJHM</td>\n",
              "      <td>Luo, ZP; Qu, HL; Marnburg, E</td>\n",
              "      <td>2013</td>\n",
              "      <td>10.1016/j.ijhm.2012.11.005</td>\n",
              "      <td>https://www.sciencedirect.com/science/article/...</td>\n",
              "      <td>IJHM_457.txt</td>\n",
              "      <td>3. Methods\\n3.1. Sample and procedure\\nThe tar...</td>\n",
              "      <td>1</td>\n",
              "    </tr>\n",
              "    <tr>\n",
              "      <th>1</th>\n",
              "      <td>Are employees with higher organization-based s...</td>\n",
              "      <td>1</td>\n",
              "      <td>survey</td>\n",
              "      <td>IJHM</td>\n",
              "      <td>Lin, NQ; Jang, J; Roberts, KR</td>\n",
              "      <td>2018</td>\n",
              "      <td>10.1016/j.ijhm.2018.01.021</td>\n",
              "      <td>https://www.sciencedirect.com/science/article/...</td>\n",
              "      <td>IJHM_1211.txt</td>\n",
              "      <td>3. Methodology\\n3.1. Sample and data collectio...</td>\n",
              "      <td>1</td>\n",
              "    </tr>\n",
              "    <tr>\n",
              "      <th>2</th>\n",
              "      <td>Effect of diversification on firm performance:...</td>\n",
              "      <td>1</td>\n",
              "      <td>secondary</td>\n",
              "      <td>IJHM</td>\n",
              "      <td>Park, K; Jang, S</td>\n",
              "      <td>2012</td>\n",
              "      <td>10.1016/j.ijhm.2011.03.011</td>\n",
              "      <td>https://www.sciencedirect.com/science/article/...</td>\n",
              "      <td>IJHM_241.txt</td>\n",
              "      <td>3. Methodology\\n3.1. Data\\nThis study used div...</td>\n",
              "      <td>0</td>\n",
              "    </tr>\n",
              "    <tr>\n",
              "      <th>3</th>\n",
              "      <td>The negative synergistic effect of internation...</td>\n",
              "      <td>1</td>\n",
              "      <td>secondary</td>\n",
              "      <td>IJCHM</td>\n",
              "      <td>Jung, SY; Lee, S; Dalbor, M</td>\n",
              "      <td>2016</td>\n",
              "      <td>10.1108/IJCHM-07-2014-0361</td>\n",
              "      <td>https://www.emerald.com/insight/content/doi/10...</td>\n",
              "      <td>IJCHM_558.txt</td>\n",
              "      <td>3. Methodology\\n3.1 Data\\nThis study utilizes ...</td>\n",
              "      <td>0</td>\n",
              "    </tr>\n",
              "    <tr>\n",
              "      <th>4</th>\n",
              "      <td>Tourist Shoppers' Evaluation of Retail Service...</td>\n",
              "      <td>1</td>\n",
              "      <td>survey</td>\n",
              "      <td>JHTR</td>\n",
              "      <td>Sharma, P; Chen, ISN; Luk, STK</td>\n",
              "      <td>2018</td>\n",
              "      <td>10.1177/1096348015584439</td>\n",
              "      <td>https://journals.sagepub.com/doi/full/10.1177/...</td>\n",
              "      <td>JHTR_195.txt</td>\n",
              "      <td>Methodology\\nWe tested all our hypotheses (Fig...</td>\n",
              "      <td>1</td>\n",
              "    </tr>\n",
              "  </tbody>\n",
              "</table>\n",
              "</div>"
            ],
            "text/plain": [
              "                                                  TI  ... method_id\n",
              "0  Justice perceptions and drives of hotel employ...  ...         1\n",
              "1  Are employees with higher organization-based s...  ...         1\n",
              "2  Effect of diversification on firm performance:...  ...         0\n",
              "3  The negative synergistic effect of internation...  ...         0\n",
              "4  Tourist Shoppers' Evaluation of Retail Service...  ...         1\n",
              "\n",
              "[5 rows x 11 columns]"
            ]
          },
          "metadata": {
            "tags": []
          },
          "execution_count": 24
        }
      ]
    },
    {
      "cell_type": "code",
      "metadata": {
        "colab": {
          "base_uri": "https://localhost:8080/"
        },
        "id": "C3wfJIZwNMvr",
        "outputId": "5c0a032f-150d-4661-8804-cc7662373714"
      },
      "source": [
        "method_id_df = df_filtered[['Method', 'method_id']].drop_duplicates().sort_values('method_id')\n",
        "method_to_id = dict(method_id_df.values)\n",
        "method_to_id"
      ],
      "execution_count": null,
      "outputs": [
        {
          "output_type": "execute_result",
          "data": {
            "text/plain": [
              "{'content': 3,\n",
              " 'experimental': 2,\n",
              " 'qualitative': 4,\n",
              " 'secondary': 0,\n",
              " 'survey': 1}"
            ]
          },
          "metadata": {
            "tags": []
          },
          "execution_count": 25
        }
      ]
    },
    {
      "cell_type": "code",
      "metadata": {
        "id": "fwAWCuwCNLP6"
      },
      "source": [
        ""
      ],
      "execution_count": null,
      "outputs": []
    },
    {
      "cell_type": "code",
      "metadata": {
        "colab": {
          "base_uri": "https://localhost:8080/"
        },
        "id": "13RaJV1uPepg",
        "outputId": "191ecb0c-1d7b-4246-c150-fefd07664e6f"
      },
      "source": [
        "id_to_method = dict(method_id_df[['method_id', 'Method']].values)\n",
        "id_to_method"
      ],
      "execution_count": null,
      "outputs": [
        {
          "output_type": "execute_result",
          "data": {
            "text/plain": [
              "{0: 'secondary',\n",
              " 1: 'survey',\n",
              " 2: 'experimental',\n",
              " 3: 'content',\n",
              " 4: 'qualitative'}"
            ]
          },
          "metadata": {
            "tags": []
          },
          "execution_count": 26
        }
      ]
    },
    {
      "cell_type": "code",
      "metadata": {
        "id": "9Skw9-wH9liv"
      },
      "source": [
        ""
      ],
      "execution_count": null,
      "outputs": []
    },
    {
      "cell_type": "code",
      "metadata": {
        "id": "P_inFnE29lf8"
      },
      "source": [
        "import tensorflow as tf\n",
        "from tensorflow.keras.preprocessing.text import Tokenizer\n",
        "from tensorflow.keras.preprocessing.sequence import pad_sequences\n",
        "from tensorflow.keras.models import Sequential\n",
        "from tensorflow.keras.layers import Dense, Flatten, LSTM, Dropout, Activation, Embedding, Bidirectional, BatchNormalization"
      ],
      "execution_count": null,
      "outputs": []
    },
    {
      "cell_type": "code",
      "metadata": {
        "colab": {
          "base_uri": "https://localhost:8080/"
        },
        "id": "byNvJUyL9lc_",
        "outputId": "a4868ee9-da6f-4d40-ac0b-39bf97befede"
      },
      "source": [
        "import nltk\n",
        "nltk.download('stopwords')\n",
        "from nltk.corpus import stopwords\n",
        "STOPWORDS = set(stopwords.words('english'))"
      ],
      "execution_count": null,
      "outputs": [
        {
          "output_type": "stream",
          "text": [
            "[nltk_data] Downloading package stopwords to /root/nltk_data...\n",
            "[nltk_data]   Package stopwords is already up-to-date!\n"
          ],
          "name": "stdout"
        }
      ]
    },
    {
      "cell_type": "code",
      "metadata": {
        "id": "S22e8kkL9laZ"
      },
      "source": [
        "vocab_size = 500 # make the top list of words (common words)\n",
        "embedding_dim = 64\n",
        "max_length = 200\n",
        "trunc_type = 'post'\n",
        "padding_type = 'post'\n",
        "oov_tok = '<OOV>' # OOV = Out of Vocabulary\n",
        "training_portion = .8"
      ],
      "execution_count": null,
      "outputs": []
    },
    {
      "cell_type": "code",
      "metadata": {
        "id": "vorxG6y99lWz"
      },
      "source": [
        ""
      ],
      "execution_count": null,
      "outputs": []
    },
    {
      "cell_type": "code",
      "metadata": {
        "id": "1jTcLm0S9lGy"
      },
      "source": [
        "df_filtered[\"methodology\"] = df_filtered.methodology.apply(lambda x: ' '.join([word for word in x.split() if word not in (STOPWORDS) if len(word)>2 if word.isalpha()]))"
      ],
      "execution_count": null,
      "outputs": []
    },
    {
      "cell_type": "code",
      "metadata": {
        "colab": {
          "base_uri": "https://localhost:8080/",
          "height": 509
        },
        "id": "1tVKGbX39lD9",
        "outputId": "11e6f132-3360-411d-f811-666190bf36c1"
      },
      "source": [
        "df_filtered.head()"
      ],
      "execution_count": null,
      "outputs": [
        {
          "output_type": "execute_result",
          "data": {
            "text/html": [
              "<div>\n",
              "<style scoped>\n",
              "    .dataframe tbody tr th:only-of-type {\n",
              "        vertical-align: middle;\n",
              "    }\n",
              "\n",
              "    .dataframe tbody tr th {\n",
              "        vertical-align: top;\n",
              "    }\n",
              "\n",
              "    .dataframe thead th {\n",
              "        text-align: right;\n",
              "    }\n",
              "</style>\n",
              "<table border=\"1\" class=\"dataframe\">\n",
              "  <thead>\n",
              "    <tr style=\"text-align: right;\">\n",
              "      <th></th>\n",
              "      <th>TI</th>\n",
              "      <th>QUANTITATIVE</th>\n",
              "      <th>Method</th>\n",
              "      <th>JO</th>\n",
              "      <th>AU</th>\n",
              "      <th>PY</th>\n",
              "      <th>DI</th>\n",
              "      <th>urls</th>\n",
              "      <th>filename</th>\n",
              "      <th>methodology</th>\n",
              "      <th>method_id</th>\n",
              "    </tr>\n",
              "  </thead>\n",
              "  <tbody>\n",
              "    <tr>\n",
              "      <th>0</th>\n",
              "      <td>Justice perceptions and drives of hotel employ...</td>\n",
              "      <td>1</td>\n",
              "      <td>survey</td>\n",
              "      <td>IJHM</td>\n",
              "      <td>Luo, ZP; Qu, HL; Marnburg, E</td>\n",
              "      <td>2013</td>\n",
              "      <td>10.1016/j.ijhm.2012.11.005</td>\n",
              "      <td>https://www.sciencedirect.com/science/article/...</td>\n",
              "      <td>IJHM_457.txt</td>\n",
              "      <td>Methods Sample procedure The target population...</td>\n",
              "      <td>1</td>\n",
              "    </tr>\n",
              "    <tr>\n",
              "      <th>1</th>\n",
              "      <td>Are employees with higher organization-based s...</td>\n",
              "      <td>1</td>\n",
              "      <td>survey</td>\n",
              "      <td>IJHM</td>\n",
              "      <td>Lin, NQ; Jang, J; Roberts, KR</td>\n",
              "      <td>2018</td>\n",
              "      <td>10.1016/j.ijhm.2018.01.021</td>\n",
              "      <td>https://www.sciencedirect.com/science/article/...</td>\n",
              "      <td>IJHM_1211.txt</td>\n",
              "      <td>Methodology Sample data collection Before pilo...</td>\n",
              "      <td>1</td>\n",
              "    </tr>\n",
              "    <tr>\n",
              "      <th>2</th>\n",
              "      <td>Effect of diversification on firm performance:...</td>\n",
              "      <td>1</td>\n",
              "      <td>secondary</td>\n",
              "      <td>IJHM</td>\n",
              "      <td>Park, K; Jang, S</td>\n",
              "      <td>2012</td>\n",
              "      <td>10.1016/j.ijhm.2011.03.011</td>\n",
              "      <td>https://www.sciencedirect.com/science/article/...</td>\n",
              "      <td>IJHM_241.txt</td>\n",
              "      <td>Methodology Data This study used diversificati...</td>\n",
              "      <td>0</td>\n",
              "    </tr>\n",
              "    <tr>\n",
              "      <th>3</th>\n",
              "      <td>The negative synergistic effect of internation...</td>\n",
              "      <td>1</td>\n",
              "      <td>secondary</td>\n",
              "      <td>IJCHM</td>\n",
              "      <td>Jung, SY; Lee, S; Dalbor, M</td>\n",
              "      <td>2016</td>\n",
              "      <td>10.1108/IJCHM-07-2014-0361</td>\n",
              "      <td>https://www.emerald.com/insight/content/doi/10...</td>\n",
              "      <td>IJCHM_558.txt</td>\n",
              "      <td>Methodology Data This study utilizes four reso...</td>\n",
              "      <td>0</td>\n",
              "    </tr>\n",
              "    <tr>\n",
              "      <th>4</th>\n",
              "      <td>Tourist Shoppers' Evaluation of Retail Service...</td>\n",
              "      <td>1</td>\n",
              "      <td>survey</td>\n",
              "      <td>JHTR</td>\n",
              "      <td>Sharma, P; Chen, ISN; Luk, STK</td>\n",
              "      <td>2018</td>\n",
              "      <td>10.1177/1096348015584439</td>\n",
              "      <td>https://journals.sagepub.com/doi/full/10.1177/...</td>\n",
              "      <td>JHTR_195.txt</td>\n",
              "      <td>Methodology tested hypotheses survey Hong chos...</td>\n",
              "      <td>1</td>\n",
              "    </tr>\n",
              "  </tbody>\n",
              "</table>\n",
              "</div>"
            ],
            "text/plain": [
              "                                                  TI  ... method_id\n",
              "0  Justice perceptions and drives of hotel employ...  ...         1\n",
              "1  Are employees with higher organization-based s...  ...         1\n",
              "2  Effect of diversification on firm performance:...  ...         0\n",
              "3  The negative synergistic effect of internation...  ...         0\n",
              "4  Tourist Shoppers' Evaluation of Retail Service...  ...         1\n",
              "\n",
              "[5 rows x 11 columns]"
            ]
          },
          "metadata": {
            "tags": []
          },
          "execution_count": 31
        }
      ]
    },
    {
      "cell_type": "code",
      "metadata": {
        "id": "tQF7i-zo9lBM"
      },
      "source": [
        ""
      ],
      "execution_count": null,
      "outputs": []
    },
    {
      "cell_type": "code",
      "metadata": {
        "id": "YyLRjhKUFYJb"
      },
      "source": [
        "articles = list(df_filtered.methodology)\n",
        "labels = list(df_filtered.Method)"
      ],
      "execution_count": null,
      "outputs": []
    },
    {
      "cell_type": "code",
      "metadata": {
        "id": "nxhXXzTb9k9m"
      },
      "source": [
        "train_size = int(len(df_filtered) * training_portion)\n",
        "\n",
        "train_articles = articles[0: train_size]\n",
        "train_labels = labels[0: train_size]\n",
        "\n",
        "validation_articles = articles[train_size:]\n",
        "validation_labels = labels[train_size:]"
      ],
      "execution_count": null,
      "outputs": []
    },
    {
      "cell_type": "code",
      "metadata": {
        "id": "8wVspx2wEXP2"
      },
      "source": [
        ""
      ],
      "execution_count": null,
      "outputs": []
    },
    {
      "cell_type": "markdown",
      "metadata": {
        "id": "9S5sNGm3FwFa"
      },
      "source": [
        "#####Tokenization\n",
        "We set the tokenization with num_words is vocab_size (5000), and oov_token is ‘<OOV>’ . And we call the method fits_on_texts on train_articles. This method creates the vocabulary index based on word frequency.\n",
        "For example if we give the text “The cat sat on the mat.”, it will create a dictonary {‘<OOV>’: 1, ‘cat’: 3, ‘mat’: 6, ‘on’: 5, ‘sat’: 4, ‘the’: 2}.\n",
        "\n",
        "The oov_token is the value ‘<OOV>’ that we put if the word is not listed in the dictionary."
      ]
    },
    {
      "cell_type": "code",
      "metadata": {
        "id": "xqk2sZm9EXNV"
      },
      "source": [
        "tokenizer = Tokenizer(num_words = vocab_size, oov_token=oov_tok)\n",
        "tokenizer.fit_on_texts(train_articles)\n",
        "word_index = tokenizer.word_index"
      ],
      "execution_count": null,
      "outputs": []
    },
    {
      "cell_type": "markdown",
      "metadata": {
        "id": "GI196MaUF7aG"
      },
      "source": [
        "#####Convert to Sequences\n",
        "Machine learning works well with the numbers. After tokenization, we call the method text_to_sequences. It transforms each text in texts to a sequence of integers. Basically, it takes each word in the text and replaces it with its corresponding integer value from the dictionary tokenizer.word_index. If the word is not in the dictionary, it will put the value of 1.\n",
        "For example, if we give the text “the cat sat on my table”, we will get the sequence: [2, 3, 4, 5, 1, 1]. The last two [1,1] is for the word “my table” which is not in the dictionary."
      ]
    },
    {
      "cell_type": "code",
      "metadata": {
        "id": "fiUfs12PEXKC"
      },
      "source": [
        "train_sequences = tokenizer.texts_to_sequences(train_articles)"
      ],
      "execution_count": null,
      "outputs": []
    },
    {
      "cell_type": "markdown",
      "metadata": {
        "id": "dhE9BneWGCVw"
      },
      "source": [
        "#####Sequence Truncation and Padding\n",
        "Those sequences are not in the same size, we need to make them in same size (concrete shape) when we train them for NLP. We need to use padding and truncate them so all sequences will be in the same size. We use post for padding_type and truncate_type."
      ]
    },
    {
      "cell_type": "code",
      "metadata": {
        "id": "BD-V8kqpEXEZ"
      },
      "source": [
        "train_padded = pad_sequences(train_sequences, maxlen=max_length, padding=padding_type, truncating=trunc_type)"
      ],
      "execution_count": null,
      "outputs": []
    },
    {
      "cell_type": "code",
      "metadata": {
        "id": "ck03qnIzIPs1"
      },
      "source": [
        "validation_sequences = tokenizer.texts_to_sequences(validation_articles)\n",
        "validation_padded = pad_sequences(validation_sequences, maxlen=max_length, padding=padding_type, truncating=trunc_type)"
      ],
      "execution_count": null,
      "outputs": []
    },
    {
      "cell_type": "markdown",
      "metadata": {
        "id": "H-56W_ycJT6I"
      },
      "source": [
        "We need to do the same thing here as we did before when we deal with the features, articles. As the model doesn’t understand the words, we need to convert the label into numbers. We do tokenization and convert to sequence as before. When doing the tokenization, we don’t indicate the vocab size and oov_token."
      ]
    },
    {
      "cell_type": "code",
      "metadata": {
        "colab": {
          "base_uri": "https://localhost:8080/"
        },
        "id": "VqjK5NckEXBJ",
        "outputId": "ef1e1e38-9fe8-4060-e981-d1631e05f906"
      },
      "source": [
        "set(labels)"
      ],
      "execution_count": null,
      "outputs": [
        {
          "output_type": "execute_result",
          "data": {
            "text/plain": [
              "{'content', 'experimental', 'qualitative', 'secondary', 'survey'}"
            ]
          },
          "metadata": {
            "tags": []
          },
          "execution_count": 38
        }
      ]
    },
    {
      "cell_type": "code",
      "metadata": {
        "id": "o5kGz68t9k6z"
      },
      "source": [
        "label_tokenizer = Tokenizer()\n",
        "label_tokenizer.fit_on_texts(labels)\n",
        "\n",
        "training_label_seq = np.array(label_tokenizer.texts_to_sequences(train_labels))\n",
        "validation_label_seq = np.array(label_tokenizer.texts_to_sequences(validation_labels))"
      ],
      "execution_count": null,
      "outputs": []
    },
    {
      "cell_type": "code",
      "metadata": {
        "colab": {
          "base_uri": "https://localhost:8080/"
        },
        "id": "p-F9EwhL9k3j",
        "outputId": "27660c22-f10e-45df-9354-175242e72dad"
      },
      "source": [
        "training_label_seq"
      ],
      "execution_count": null,
      "outputs": [
        {
          "output_type": "execute_result",
          "data": {
            "text/plain": [
              "array([[1],\n",
              "       [1],\n",
              "       [2],\n",
              "       ...,\n",
              "       [1],\n",
              "       [3],\n",
              "       [1]])"
            ]
          },
          "metadata": {
            "tags": []
          },
          "execution_count": 40
        }
      ]
    },
    {
      "cell_type": "code",
      "metadata": {
        "colab": {
          "base_uri": "https://localhost:8080/"
        },
        "id": "p6iakNHK9k0j",
        "outputId": "96b49eaf-5ee6-4fd8-8fe4-8a92d1e5faf9"
      },
      "source": [
        "validation_label_seq[:10]"
      ],
      "execution_count": null,
      "outputs": [
        {
          "output_type": "execute_result",
          "data": {
            "text/plain": [
              "array([[3],\n",
              "       [1],\n",
              "       [3],\n",
              "       [1],\n",
              "       [1],\n",
              "       [4],\n",
              "       [2],\n",
              "       [3],\n",
              "       [2],\n",
              "       [3]])"
            ]
          },
          "metadata": {
            "tags": []
          },
          "execution_count": 41
        }
      ]
    },
    {
      "cell_type": "code",
      "metadata": {
        "colab": {
          "base_uri": "https://localhost:8080/"
        },
        "id": "ZF0pAA0R9kxT",
        "outputId": "fee493e1-2c9b-408d-cf09-1dfda8330eae"
      },
      "source": [
        "label_tokenizer.word_index"
      ],
      "execution_count": null,
      "outputs": [
        {
          "output_type": "execute_result",
          "data": {
            "text/plain": [
              "{'content': 5,\n",
              " 'experimental': 3,\n",
              " 'qualitative': 4,\n",
              " 'secondary': 2,\n",
              " 'survey': 1}"
            ]
          },
          "metadata": {
            "tags": []
          },
          "execution_count": 42
        }
      ]
    },
    {
      "cell_type": "markdown",
      "metadata": {
        "id": "r-_wdBOgJadn"
      },
      "source": [
        "####Create Model"
      ]
    },
    {
      "cell_type": "code",
      "metadata": {
        "colab": {
          "base_uri": "https://localhost:8080/"
        },
        "id": "NuLPuEyg9kuT",
        "outputId": "a2cddfd1-3b0a-40d8-8a43-0c090bbae5a9"
      },
      "source": [
        "model = Sequential()\n",
        "\n",
        "model.add(Embedding(vocab_size, embedding_dim))\n",
        "model.add(Dropout(0.5))\n",
        "# model.add(BatchNormalization())\n",
        "model.add(Bidirectional(LSTM(embedding_dim)))\n",
        "model.add(Dense(6,activation=\"softmax\"))\n",
        "\n",
        "model.summary()"
      ],
      "execution_count": null,
      "outputs": [
        {
          "output_type": "stream",
          "text": [
            "Model: \"sequential\"\n",
            "_________________________________________________________________\n",
            "Layer (type)                 Output Shape              Param #   \n",
            "=================================================================\n",
            "embedding (Embedding)        (None, None, 64)          32000     \n",
            "_________________________________________________________________\n",
            "dropout (Dropout)            (None, None, 64)          0         \n",
            "_________________________________________________________________\n",
            "bidirectional (Bidirectional (None, 128)               66048     \n",
            "_________________________________________________________________\n",
            "dense (Dense)                (None, 6)                 774       \n",
            "=================================================================\n",
            "Total params: 98,822\n",
            "Trainable params: 98,822\n",
            "Non-trainable params: 0\n",
            "_________________________________________________________________\n"
          ],
          "name": "stdout"
        }
      ]
    },
    {
      "cell_type": "code",
      "metadata": {
        "id": "zJzwDaWZJaKK"
      },
      "source": [
        "opt = tf.keras.optimizers.Adam(learning_rate=0.001, decay=1e-6)\n",
        "model.compile(\n",
        "    loss='sparse_categorical_crossentropy',\n",
        "    optimizer=opt,\n",
        "    metrics=['accuracy'],\n",
        ")"
      ],
      "execution_count": null,
      "outputs": []
    },
    {
      "cell_type": "code",
      "metadata": {
        "colab": {
          "base_uri": "https://localhost:8080/"
        },
        "id": "R44pDehYJaHH",
        "outputId": "18ebd5dc-22fa-4a83-fda3-9d4f9c3dc490"
      },
      "source": [
        "num_epochs = 30\n",
        "history = model.fit(train_padded, training_label_seq, epochs=num_epochs, validation_data=(validation_padded, validation_label_seq), verbose=2)"
      ],
      "execution_count": null,
      "outputs": [
        {
          "output_type": "stream",
          "text": [
            "Epoch 1/30\n",
            "67/67 - 6s - loss: 1.2941 - accuracy: 0.5620 - val_loss: 1.1596 - val_accuracy: 0.5516\n",
            "Epoch 2/30\n",
            "67/67 - 1s - loss: 0.9890 - accuracy: 0.6254 - val_loss: 1.0812 - val_accuracy: 0.7111\n",
            "Epoch 3/30\n",
            "67/67 - 1s - loss: 0.8299 - accuracy: 0.7347 - val_loss: 0.8004 - val_accuracy: 0.7505\n",
            "Epoch 4/30\n",
            "67/67 - 1s - loss: 0.6787 - accuracy: 0.7826 - val_loss: 0.7461 - val_accuracy: 0.7392\n",
            "Epoch 5/30\n",
            "67/67 - 1s - loss: 0.6322 - accuracy: 0.7953 - val_loss: 0.7299 - val_accuracy: 0.7674\n",
            "Epoch 6/30\n",
            "67/67 - 1s - loss: 0.5610 - accuracy: 0.8070 - val_loss: 0.6584 - val_accuracy: 0.7730\n",
            "Epoch 7/30\n",
            "67/67 - 1s - loss: 0.6011 - accuracy: 0.8047 - val_loss: 0.7187 - val_accuracy: 0.7448\n",
            "Epoch 8/30\n",
            "67/67 - 1s - loss: 0.6252 - accuracy: 0.8005 - val_loss: 0.6790 - val_accuracy: 0.7767\n",
            "Epoch 9/30\n",
            "67/67 - 1s - loss: 0.4775 - accuracy: 0.8404 - val_loss: 0.6483 - val_accuracy: 0.7955\n",
            "Epoch 10/30\n",
            "67/67 - 1s - loss: 0.4321 - accuracy: 0.8653 - val_loss: 0.6353 - val_accuracy: 0.8218\n",
            "Epoch 11/30\n",
            "67/67 - 1s - loss: 0.4225 - accuracy: 0.8643 - val_loss: 0.6177 - val_accuracy: 0.8011\n",
            "Epoch 12/30\n",
            "67/67 - 1s - loss: 0.4805 - accuracy: 0.8380 - val_loss: 0.6723 - val_accuracy: 0.7842\n",
            "Epoch 13/30\n",
            "67/67 - 1s - loss: 0.4362 - accuracy: 0.8531 - val_loss: 0.6260 - val_accuracy: 0.8293\n",
            "Epoch 14/30\n",
            "67/67 - 1s - loss: 0.3725 - accuracy: 0.8770 - val_loss: 0.5948 - val_accuracy: 0.8236\n",
            "Epoch 15/30\n",
            "67/67 - 1s - loss: 0.3656 - accuracy: 0.8878 - val_loss: 0.5987 - val_accuracy: 0.8349\n",
            "Epoch 16/30\n",
            "67/67 - 1s - loss: 0.3062 - accuracy: 0.8977 - val_loss: 0.5872 - val_accuracy: 0.8311\n",
            "Epoch 17/30\n",
            "67/67 - 1s - loss: 0.2711 - accuracy: 0.9127 - val_loss: 0.5822 - val_accuracy: 0.8293\n",
            "Epoch 18/30\n",
            "67/67 - 1s - loss: 0.3130 - accuracy: 0.9023 - val_loss: 0.5949 - val_accuracy: 0.8236\n",
            "Epoch 19/30\n",
            "67/67 - 1s - loss: 0.3190 - accuracy: 0.9033 - val_loss: 0.7326 - val_accuracy: 0.7861\n",
            "Epoch 20/30\n",
            "67/67 - 1s - loss: 0.2892 - accuracy: 0.9019 - val_loss: 0.5974 - val_accuracy: 0.8255\n",
            "Epoch 21/30\n",
            "67/67 - 1s - loss: 0.2595 - accuracy: 0.9169 - val_loss: 0.6107 - val_accuracy: 0.8255\n",
            "Epoch 22/30\n",
            "67/67 - 1s - loss: 0.2792 - accuracy: 0.9113 - val_loss: 0.6948 - val_accuracy: 0.7974\n",
            "Epoch 23/30\n",
            "67/67 - 1s - loss: 0.2673 - accuracy: 0.9160 - val_loss: 0.6299 - val_accuracy: 0.8143\n",
            "Epoch 24/30\n",
            "67/67 - 1s - loss: 0.2431 - accuracy: 0.9286 - val_loss: 0.6191 - val_accuracy: 0.8180\n",
            "Epoch 25/30\n",
            "67/67 - 1s - loss: 0.2360 - accuracy: 0.9277 - val_loss: 0.6667 - val_accuracy: 0.8236\n",
            "Epoch 26/30\n",
            "67/67 - 1s - loss: 0.2534 - accuracy: 0.9146 - val_loss: 0.6462 - val_accuracy: 0.8049\n",
            "Epoch 27/30\n",
            "67/67 - 1s - loss: 0.2173 - accuracy: 0.9315 - val_loss: 0.6313 - val_accuracy: 0.8068\n",
            "Epoch 28/30\n",
            "67/67 - 1s - loss: 0.2325 - accuracy: 0.9286 - val_loss: 0.6603 - val_accuracy: 0.8311\n",
            "Epoch 29/30\n",
            "67/67 - 1s - loss: 0.1815 - accuracy: 0.9413 - val_loss: 0.6573 - val_accuracy: 0.8161\n",
            "Epoch 30/30\n",
            "67/67 - 1s - loss: 0.1712 - accuracy: 0.9512 - val_loss: 0.6912 - val_accuracy: 0.8199\n"
          ],
          "name": "stdout"
        }
      ]
    },
    {
      "cell_type": "code",
      "metadata": {
        "colab": {
          "base_uri": "https://localhost:8080/",
          "height": 541
        },
        "id": "pth_HfqmJaD3",
        "outputId": "c0d9e60e-87b7-41a3-9bab-3a8898270003"
      },
      "source": [
        "import matplotlib.pyplot as plt\n",
        "\n",
        "def plot_graphs(history, string):\n",
        "  plt.plot(history.history[string])\n",
        "  plt.plot(history.history['val_'+string])\n",
        "  plt.xlabel(\"Epochs\")\n",
        "  plt.ylabel(string)\n",
        "  plt.legend([string, 'val_'+string])\n",
        "  plt.show()\n",
        "  \n",
        "plot_graphs(history, \"accuracy\")\n",
        "plot_graphs(history, \"loss\")"
      ],
      "execution_count": null,
      "outputs": [
        {
          "output_type": "display_data",
          "data": {
            "image/png": "[encoded data removed]",
            "text/plain": [
              "<Figure size 432x288 with 1 Axes>"
            ]
          },
          "metadata": {
            "tags": [],
            "needs_background": "light"
          }
        },
        {
          "output_type": "display_data",
          "data": {
            "image/png": "[encoded data removed]",
            "text/plain": [
              "<Figure size 432x288 with 1 Axes>"
            ]
          },
          "metadata": {
            "tags": [],
            "needs_background": "light"
          }
        }
      ]
    },
    {
      "cell_type": "code",
      "metadata": {
        "colab": {
          "base_uri": "https://localhost:8080/"
        },
        "id": "1SmjSloENY5d",
        "outputId": "3d276fa1-2d6e-415b-cc94-7deefa6c71fa"
      },
      "source": [
        "txt= [df_filtered.methodology.iloc[-145]]\n",
        "txt"
      ],
      "execution_count": null,
      "outputs": [
        {
          "output_type": "execute_result",
          "data": {
            "text/plain": [
              "['Conjoint Model Because people make choosing conjoint analysis appropriate methodology analyze examines joint effect two independent variables ordering dependent variable measure psychological judgments customer preferences Srinivasan Sohn Although respondents may able rank various rate fences order unlikely would capable assigning meaningful mathematical values Using conjoint find Chinese travelers sample among different levels rate fences']"
            ]
          },
          "metadata": {
            "tags": []
          },
          "execution_count": 88
        }
      ]
    },
    {
      "cell_type": "code",
      "metadata": {
        "colab": {
          "base_uri": "https://localhost:8080/"
        },
        "id": "JaVCiCsVTrrI",
        "outputId": "8b68a0c0-5c94-4b3e-8735-6b2a18f279a0"
      },
      "source": [
        "label_tokenizer.word_index"
      ],
      "execution_count": null,
      "outputs": [
        {
          "output_type": "execute_result",
          "data": {
            "text/plain": [
              "{'content': 5,\n",
              " 'experimental': 3,\n",
              " 'qualitative': 4,\n",
              " 'secondary': 2,\n",
              " 'survey': 1}"
            ]
          },
          "metadata": {
            "tags": []
          },
          "execution_count": 89
        }
      ]
    },
    {
      "cell_type": "code",
      "metadata": {
        "colab": {
          "base_uri": "https://localhost:8080/"
        },
        "id": "4Uf0aCuXTOFn",
        "outputId": "56fddcf8-f403-44a3-b452-8acbb753481c"
      },
      "source": [
        "seq = tokenizer.texts_to_sequences(txt)\n",
        "padded = pad_sequences(seq, maxlen=max_length)\n",
        "pred = model.predict(padded)\n",
        "\n",
        "print(pred)\n",
        "print(np.argmax(pred))"
      ],
      "execution_count": null,
      "outputs": [
        {
          "output_type": "stream",
          "text": [
            "[[0.00191054 0.01801953 0.96220666 0.00251743 0.00100898 0.01433688]]\n",
            "2\n"
          ],
          "name": "stdout"
        }
      ]
    },
    {
      "cell_type": "code",
      "metadata": {
        "colab": {
          "base_uri": "https://localhost:8080/",
          "height": 35
        },
        "id": "73nkoVanTR-U",
        "outputId": "b3f27655-1b89-4ba3-a5a1-694f103289bf"
      },
      "source": [
        "df_filtered.Method.iloc[-145]"
      ],
      "execution_count": null,
      "outputs": [
        {
          "output_type": "execute_result",
          "data": {
            "application/vnd.google.colaboratory.intrinsic+json": {
              "type": "string"
            },
            "text/plain": [
              "'experimental'"
            ]
          },
          "metadata": {
            "tags": []
          },
          "execution_count": 87
        }
      ]
    },
    {
      "cell_type": "code",
      "metadata": {
        "id": "EHlOHzd8Uo9E"
      },
      "source": [
        ""
      ],
      "execution_count": null,
      "outputs": []
    }
  ]
}