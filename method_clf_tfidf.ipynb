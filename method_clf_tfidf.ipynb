{
  "nbformat": 4,
  "nbformat_minor": 0,
  "metadata": {
    "accelerator": "GPU",
    "colab": {
      "name": "method_clf_tfidf.ipynb",
      "provenance": [],
      "collapsed_sections": [],
      "mount_file_id": "18B4asIAqKp9_N0M4_W-WsHIg3i7xngYj",
      "authorship_tag": "ABX9TyOa5RTzckrZebhtLanHCFrp",
      "include_colab_link": true
    },
    "kernelspec": {
      "display_name": "Python 3",
      "name": "python3"
    }
  },
  "cells": [
    {
      "cell_type": "markdown",
      "metadata": {
        "id": "view-in-github",
        "colab_type": "text"
      },
      "source": [
        "<a href=\"https://colab.research.google.com/github/kurtsenol/Text-Classification/blob/main/method_clf_tfidf.ipynb\" target=\"_parent\"><img src=\"https://colab.research.google.com/assets/colab-badge.svg\" alt=\"Open In Colab\"/></a>"
      ]
    },
    {
      "cell_type": "code",
      "metadata": {
        "colab": {
          "base_uri": "https://localhost:8080/"
        },
        "id": "kszMxFkRQq9J",
        "outputId": "4a40cdd6-a060-41f4-c387-b6f0749c00f8"
      },
      "source": [
        "!pip3 install pickle5"
      ],
      "execution_count": null,
      "outputs": [
        {
          "output_type": "stream",
          "text": [
            "Collecting pickle5\n",
            "\u001b[?25l  Downloading https://files.pythonhosted.org/packages/f7/4c/5c4dd0462c8d3a6bc4af500a6af240763c2ebd1efdc736fc2c946d44b70a/pickle5-0.0.11.tar.gz (132kB)\n",
            "\r\u001b[K     |██▌                             | 10kB 19.7MB/s eta 0:00:01\r\u001b[K     |█████                           | 20kB 26.4MB/s eta 0:00:01\r\u001b[K     |███████▍                        | 30kB 31.3MB/s eta 0:00:01\r\u001b[K     |██████████                      | 40kB 30.5MB/s eta 0:00:01\r\u001b[K     |████████████▍                   | 51kB 31.5MB/s eta 0:00:01\r\u001b[K     |██████████████▉                 | 61kB 33.4MB/s eta 0:00:01\r\u001b[K     |█████████████████▍              | 71kB 28.2MB/s eta 0:00:01\r\u001b[K     |███████████████████▉            | 81kB 28.8MB/s eta 0:00:01\r\u001b[K     |██████████████████████▎         | 92kB 26.6MB/s eta 0:00:01\r\u001b[K     |████████████████████████▉       | 102kB 27.6MB/s eta 0:00:01\r\u001b[K     |███████████████████████████▎    | 112kB 27.6MB/s eta 0:00:01\r\u001b[K     |█████████████████████████████▊  | 122kB 27.6MB/s eta 0:00:01\r\u001b[K     |████████████████████████████████| 133kB 27.6MB/s \n",
            "\u001b[?25hBuilding wheels for collected packages: pickle5\n",
            "  Building wheel for pickle5 (setup.py) ... \u001b[?25l\u001b[?25hdone\n",
            "  Created wheel for pickle5: filename=pickle5-0.0.11-cp37-cp37m-linux_x86_64.whl size=219280 sha256=58e3c3cc697a747bde0f2127cb481cd5b842d493c95825420aecc06378ca1249\n",
            "  Stored in directory: /root/.cache/pip/wheels/a6/90/95/f889ca4aa8b0e0c7f21c8470b6f5d6032f0390a3a141a9a3bd\n",
            "Successfully built pickle5\n",
            "Installing collected packages: pickle5\n",
            "Successfully installed pickle5-0.0.11\n"
          ],
          "name": "stdout"
        }
      ]
    },
    {
      "cell_type": "code",
      "metadata": {
        "id": "jjTJvW85QuGy"
      },
      "source": [
        "import os\n",
        "import numpy as np\n",
        "import pandas as pd\n",
        "import pickle5 as pickle\n",
        "import re\n",
        "import random"
      ],
      "execution_count": null,
      "outputs": []
    },
    {
      "cell_type": "code",
      "metadata": {
        "colab": {
          "base_uri": "https://localhost:8080/",
          "height": 874
        },
        "id": "WA3pN0_TR1h9",
        "outputId": "4391b9d2-b04a-45bd-d652-31de88b6718f"
      },
      "source": [
        "df_method =pd.read_pickle(\"/content/drive/MyDrive/Colab Notebooks/TopicModeling/Methodology/df_method.pkl\")\n",
        "df_method"
      ],
      "execution_count": null,
      "outputs": [
        {
          "output_type": "execute_result",
          "data": {
            "text/html": [
              "<div>\n",
              "<style scoped>\n",
              "    .dataframe tbody tr th:only-of-type {\n",
              "        vertical-align: middle;\n",
              "    }\n",
              "\n",
              "    .dataframe tbody tr th {\n",
              "        vertical-align: top;\n",
              "    }\n",
              "\n",
              "    .dataframe thead th {\n",
              "        text-align: right;\n",
              "    }\n",
              "</style>\n",
              "<table border=\"1\" class=\"dataframe\">\n",
              "  <thead>\n",
              "    <tr style=\"text-align: right;\">\n",
              "      <th></th>\n",
              "      <th>JO</th>\n",
              "      <th>AU</th>\n",
              "      <th>TI</th>\n",
              "      <th>PY</th>\n",
              "      <th>DI</th>\n",
              "      <th>QUANTITATIVE</th>\n",
              "      <th>Method</th>\n",
              "      <th>category</th>\n",
              "      <th>CMB</th>\n",
              "      <th>CMV</th>\n",
              "      <th>MB</th>\n",
              "      <th>MV</th>\n",
              "      <th>MSD</th>\n",
              "      <th>MR</th>\n",
              "      <th>SR</th>\n",
              "      <th>SED</th>\n",
              "      <th>MED</th>\n",
              "      <th>TSM</th>\n",
              "      <th>TLD</th>\n",
              "      <th>PSM</th>\n",
              "      <th>MSM</th>\n",
              "      <th>A</th>\n",
              "      <th>C</th>\n",
              "      <th>CBQO</th>\n",
              "      <th>DBQ</th>\n",
              "      <th>UEB</th>\n",
              "      <th>HSF</th>\n",
              "      <th>PSD</th>\n",
              "      <th>MV.1</th>\n",
              "      <th>GFS</th>\n",
              "      <th>DMLMF</th>\n",
              "      <th>SULMF</th>\n",
              "    </tr>\n",
              "  </thead>\n",
              "  <tbody>\n",
              "    <tr>\n",
              "      <th>0</th>\n",
              "      <td>IJCHM</td>\n",
              "      <td>Ineson, EM; Comic, D; Kalmic, L</td>\n",
              "      <td>Towards a hierarchy of hotel guests' in-room n...</td>\n",
              "      <td>2019.0</td>\n",
              "      <td>10.1108/IJCHM-01-2019-0061</td>\n",
              "      <td>0</td>\n",
              "      <td>phenomenology</td>\n",
              "      <td>CMB-free</td>\n",
              "      <td>0</td>\n",
              "      <td>0</td>\n",
              "      <td>0.0</td>\n",
              "      <td>0.0</td>\n",
              "      <td>0.0</td>\n",
              "      <td>0.0</td>\n",
              "      <td>0.0</td>\n",
              "      <td>0.0</td>\n",
              "      <td>0.0</td>\n",
              "      <td>0.0</td>\n",
              "      <td>0.0</td>\n",
              "      <td>0.0</td>\n",
              "      <td>0.0</td>\n",
              "      <td>0.0</td>\n",
              "      <td>0.0</td>\n",
              "      <td>0.0</td>\n",
              "      <td>0.0</td>\n",
              "      <td>0.0</td>\n",
              "      <td>0.0</td>\n",
              "      <td>0.0</td>\n",
              "      <td>0.0</td>\n",
              "      <td>0.0</td>\n",
              "      <td>0.0</td>\n",
              "      <td>0.0</td>\n",
              "    </tr>\n",
              "    <tr>\n",
              "      <th>1</th>\n",
              "      <td>IJCHM</td>\n",
              "      <td>Benitez-Aurioles, B</td>\n",
              "      <td>Barcelona's peer-to-peer tourist accommodation...</td>\n",
              "      <td>2019.0</td>\n",
              "      <td>10.1108/IJCHM-01-2019-0090</td>\n",
              "      <td>1</td>\n",
              "      <td>secondary data</td>\n",
              "      <td>CMB-free</td>\n",
              "      <td>1</td>\n",
              "      <td>0</td>\n",
              "      <td>0.0</td>\n",
              "      <td>0.0</td>\n",
              "      <td>1.0</td>\n",
              "      <td>0.0</td>\n",
              "      <td>0.0</td>\n",
              "      <td>0.0</td>\n",
              "      <td>0.0</td>\n",
              "      <td>0.0</td>\n",
              "      <td>0.0</td>\n",
              "      <td>0.0</td>\n",
              "      <td>0.0</td>\n",
              "      <td>1.0</td>\n",
              "      <td>0.0</td>\n",
              "      <td>0.0</td>\n",
              "      <td>0.0</td>\n",
              "      <td>0.0</td>\n",
              "      <td>0.0</td>\n",
              "      <td>0.0</td>\n",
              "      <td>0.0</td>\n",
              "      <td>0.0</td>\n",
              "      <td>0.0</td>\n",
              "      <td>0.0</td>\n",
              "    </tr>\n",
              "    <tr>\n",
              "      <th>2</th>\n",
              "      <td>IJCHM</td>\n",
              "      <td>Hu, XB; Yang, Y; Park, S</td>\n",
              "      <td>A meta-regression on the effect of online rati...</td>\n",
              "      <td>2019.0</td>\n",
              "      <td>10.1108/IJCHM-10-2018-0835</td>\n",
              "      <td>0</td>\n",
              "      <td>review</td>\n",
              "      <td>CMB-free</td>\n",
              "      <td>0</td>\n",
              "      <td>0</td>\n",
              "      <td>0.0</td>\n",
              "      <td>0.0</td>\n",
              "      <td>1.0</td>\n",
              "      <td>0.0</td>\n",
              "      <td>0.0</td>\n",
              "      <td>0.0</td>\n",
              "      <td>0.0</td>\n",
              "      <td>0.0</td>\n",
              "      <td>1.0</td>\n",
              "      <td>0.0</td>\n",
              "      <td>0.0</td>\n",
              "      <td>0.0</td>\n",
              "      <td>0.0</td>\n",
              "      <td>0.0</td>\n",
              "      <td>0.0</td>\n",
              "      <td>0.0</td>\n",
              "      <td>0.0</td>\n",
              "      <td>0.0</td>\n",
              "      <td>0.0</td>\n",
              "      <td>0.0</td>\n",
              "      <td>0.0</td>\n",
              "      <td>0.0</td>\n",
              "    </tr>\n",
              "    <tr>\n",
              "      <th>3</th>\n",
              "      <td>IJCHM</td>\n",
              "      <td>Ahmat, NHC; Arendt, SW; Russell, DW</td>\n",
              "      <td>Examining work factors after Malaysia's minimu...</td>\n",
              "      <td>2019.0</td>\n",
              "      <td>10.1108/IJCHM-10-2018-0827</td>\n",
              "      <td>1</td>\n",
              "      <td>survey</td>\n",
              "      <td>CMB-risk</td>\n",
              "      <td>0</td>\n",
              "      <td>0</td>\n",
              "      <td>0.0</td>\n",
              "      <td>0.0</td>\n",
              "      <td>0.0</td>\n",
              "      <td>0.0</td>\n",
              "      <td>0.0</td>\n",
              "      <td>0.0</td>\n",
              "      <td>0.0</td>\n",
              "      <td>0.0</td>\n",
              "      <td>0.0</td>\n",
              "      <td>0.0</td>\n",
              "      <td>0.0</td>\n",
              "      <td>0.0</td>\n",
              "      <td>0.0</td>\n",
              "      <td>0.0</td>\n",
              "      <td>0.0</td>\n",
              "      <td>0.0</td>\n",
              "      <td>0.0</td>\n",
              "      <td>0.0</td>\n",
              "      <td>0.0</td>\n",
              "      <td>0.0</td>\n",
              "      <td>1.0</td>\n",
              "      <td>0.0</td>\n",
              "    </tr>\n",
              "    <tr>\n",
              "      <th>4</th>\n",
              "      <td>IJCHM</td>\n",
              "      <td>Kim, EL; Tanford, S</td>\n",
              "      <td>Seeking reward or avoiding risk from restauran...</td>\n",
              "      <td>2019.0</td>\n",
              "      <td>10.1108/IJCHM-03-2018-0235</td>\n",
              "      <td>1</td>\n",
              "      <td>experimental</td>\n",
              "      <td>CMB-free</td>\n",
              "      <td>0</td>\n",
              "      <td>0</td>\n",
              "      <td>0.0</td>\n",
              "      <td>0.0</td>\n",
              "      <td>0.0</td>\n",
              "      <td>0.0</td>\n",
              "      <td>0.0</td>\n",
              "      <td>0.0</td>\n",
              "      <td>0.0</td>\n",
              "      <td>0.0</td>\n",
              "      <td>0.0</td>\n",
              "      <td>0.0</td>\n",
              "      <td>0.0</td>\n",
              "      <td>0.0</td>\n",
              "      <td>0.0</td>\n",
              "      <td>0.0</td>\n",
              "      <td>0.0</td>\n",
              "      <td>0.0</td>\n",
              "      <td>0.0</td>\n",
              "      <td>0.0</td>\n",
              "      <td>0.0</td>\n",
              "      <td>0.0</td>\n",
              "      <td>0.0</td>\n",
              "      <td>0.0</td>\n",
              "    </tr>\n",
              "    <tr>\n",
              "      <th>...</th>\n",
              "      <td>...</td>\n",
              "      <td>...</td>\n",
              "      <td>...</td>\n",
              "      <td>...</td>\n",
              "      <td>...</td>\n",
              "      <td>...</td>\n",
              "      <td>...</td>\n",
              "      <td>...</td>\n",
              "      <td>...</td>\n",
              "      <td>...</td>\n",
              "      <td>...</td>\n",
              "      <td>...</td>\n",
              "      <td>...</td>\n",
              "      <td>...</td>\n",
              "      <td>...</td>\n",
              "      <td>...</td>\n",
              "      <td>...</td>\n",
              "      <td>...</td>\n",
              "      <td>...</td>\n",
              "      <td>...</td>\n",
              "      <td>...</td>\n",
              "      <td>...</td>\n",
              "      <td>...</td>\n",
              "      <td>...</td>\n",
              "      <td>...</td>\n",
              "      <td>...</td>\n",
              "      <td>...</td>\n",
              "      <td>...</td>\n",
              "      <td>...</td>\n",
              "      <td>...</td>\n",
              "      <td>...</td>\n",
              "      <td>...</td>\n",
              "    </tr>\n",
              "    <tr>\n",
              "      <th>3264</th>\n",
              "      <td>JHMM</td>\n",
              "      <td>de Leaniz, PMG; Rodriguez, IRD</td>\n",
              "      <td>Exploring the Antecedents of Hotel Customer Lo...</td>\n",
              "      <td>2015.0</td>\n",
              "      <td>10.1080/19368623.2014.891961</td>\n",
              "      <td>1</td>\n",
              "      <td>survey</td>\n",
              "      <td>CMB-risk</td>\n",
              "      <td>0</td>\n",
              "      <td>0</td>\n",
              "      <td>0.0</td>\n",
              "      <td>0.0</td>\n",
              "      <td>0.0</td>\n",
              "      <td>0.0</td>\n",
              "      <td>0.0</td>\n",
              "      <td>0.0</td>\n",
              "      <td>0.0</td>\n",
              "      <td>0.0</td>\n",
              "      <td>0.0</td>\n",
              "      <td>0.0</td>\n",
              "      <td>0.0</td>\n",
              "      <td>0.0</td>\n",
              "      <td>0.0</td>\n",
              "      <td>0.0</td>\n",
              "      <td>0.0</td>\n",
              "      <td>0.0</td>\n",
              "      <td>0.0</td>\n",
              "      <td>0.0</td>\n",
              "      <td>0.0</td>\n",
              "      <td>0.0</td>\n",
              "      <td>0.0</td>\n",
              "      <td>0.0</td>\n",
              "    </tr>\n",
              "    <tr>\n",
              "      <th>3265</th>\n",
              "      <td>JHMM</td>\n",
              "      <td>Prayag, G; Khoo-Lattimore, C; Sitruk, J</td>\n",
              "      <td>Casual Dining on the French Riviera: Examining...</td>\n",
              "      <td>2015.0</td>\n",
              "      <td>10.1080/19368623.2014.859114</td>\n",
              "      <td>1</td>\n",
              "      <td>survey</td>\n",
              "      <td>CMB-risk</td>\n",
              "      <td>0</td>\n",
              "      <td>0</td>\n",
              "      <td>0.0</td>\n",
              "      <td>0.0</td>\n",
              "      <td>0.0</td>\n",
              "      <td>0.0</td>\n",
              "      <td>0.0</td>\n",
              "      <td>0.0</td>\n",
              "      <td>0.0</td>\n",
              "      <td>0.0</td>\n",
              "      <td>0.0</td>\n",
              "      <td>0.0</td>\n",
              "      <td>0.0</td>\n",
              "      <td>0.0</td>\n",
              "      <td>0.0</td>\n",
              "      <td>0.0</td>\n",
              "      <td>0.0</td>\n",
              "      <td>0.0</td>\n",
              "      <td>0.0</td>\n",
              "      <td>0.0</td>\n",
              "      <td>0.0</td>\n",
              "      <td>0.0</td>\n",
              "      <td>0.0</td>\n",
              "      <td>0.0</td>\n",
              "    </tr>\n",
              "    <tr>\n",
              "      <th>3266</th>\n",
              "      <td>JHMM</td>\n",
              "      <td>Morosan, C</td>\n",
              "      <td>The Influence of DMO Advertising on Specific D...</td>\n",
              "      <td>2015.0</td>\n",
              "      <td>10.1080/19368623.2014.891962</td>\n",
              "      <td>1</td>\n",
              "      <td>survey</td>\n",
              "      <td>CMB-risk</td>\n",
              "      <td>0</td>\n",
              "      <td>0</td>\n",
              "      <td>0.0</td>\n",
              "      <td>0.0</td>\n",
              "      <td>0.0</td>\n",
              "      <td>0.0</td>\n",
              "      <td>0.0</td>\n",
              "      <td>0.0</td>\n",
              "      <td>0.0</td>\n",
              "      <td>0.0</td>\n",
              "      <td>0.0</td>\n",
              "      <td>0.0</td>\n",
              "      <td>0.0</td>\n",
              "      <td>0.0</td>\n",
              "      <td>0.0</td>\n",
              "      <td>0.0</td>\n",
              "      <td>0.0</td>\n",
              "      <td>0.0</td>\n",
              "      <td>0.0</td>\n",
              "      <td>0.0</td>\n",
              "      <td>0.0</td>\n",
              "      <td>0.0</td>\n",
              "      <td>0.0</td>\n",
              "      <td>0.0</td>\n",
              "    </tr>\n",
              "    <tr>\n",
              "      <th>3267</th>\n",
              "      <td>JHMM</td>\n",
              "      <td>Memarzadeh, F; Chang, HJ</td>\n",
              "      <td>Online Consumer Complaints About Southeast Asi...</td>\n",
              "      <td>2015.0</td>\n",
              "      <td>10.1080/19368623.2014.893222</td>\n",
              "      <td>0</td>\n",
              "      <td>content analysis</td>\n",
              "      <td>CMB-free</td>\n",
              "      <td>NaN</td>\n",
              "      <td>NaN</td>\n",
              "      <td>NaN</td>\n",
              "      <td>NaN</td>\n",
              "      <td>NaN</td>\n",
              "      <td>NaN</td>\n",
              "      <td>NaN</td>\n",
              "      <td>NaN</td>\n",
              "      <td>NaN</td>\n",
              "      <td>NaN</td>\n",
              "      <td>NaN</td>\n",
              "      <td>NaN</td>\n",
              "      <td>NaN</td>\n",
              "      <td>NaN</td>\n",
              "      <td>NaN</td>\n",
              "      <td>NaN</td>\n",
              "      <td>NaN</td>\n",
              "      <td>NaN</td>\n",
              "      <td>NaN</td>\n",
              "      <td>NaN</td>\n",
              "      <td>NaN</td>\n",
              "      <td>NaN</td>\n",
              "      <td>NaN</td>\n",
              "      <td>NaN</td>\n",
              "    </tr>\n",
              "    <tr>\n",
              "      <th>3268</th>\n",
              "      <td>JHMM</td>\n",
              "      <td>Cao, Y; Kim, K</td>\n",
              "      <td>How Do Customers Perceive Service Quality in D...</td>\n",
              "      <td>2015.0</td>\n",
              "      <td>10.1080/19368623.2014.903817</td>\n",
              "      <td>1</td>\n",
              "      <td>survey</td>\n",
              "      <td>CMB-risk</td>\n",
              "      <td>0</td>\n",
              "      <td>0</td>\n",
              "      <td>0.0</td>\n",
              "      <td>0.0</td>\n",
              "      <td>0.0</td>\n",
              "      <td>0.0</td>\n",
              "      <td>0.0</td>\n",
              "      <td>0.0</td>\n",
              "      <td>0.0</td>\n",
              "      <td>0.0</td>\n",
              "      <td>0.0</td>\n",
              "      <td>0.0</td>\n",
              "      <td>0.0</td>\n",
              "      <td>0.0</td>\n",
              "      <td>0.0</td>\n",
              "      <td>0.0</td>\n",
              "      <td>0.0</td>\n",
              "      <td>0.0</td>\n",
              "      <td>0.0</td>\n",
              "      <td>0.0</td>\n",
              "      <td>0.0</td>\n",
              "      <td>0.0</td>\n",
              "      <td>0.0</td>\n",
              "      <td>0.0</td>\n",
              "    </tr>\n",
              "  </tbody>\n",
              "</table>\n",
              "<p>3269 rows × 32 columns</p>\n",
              "</div>"
            ],
            "text/plain": [
              "         JO                                       AU  ... DMLMF  SULMF\n",
              "0     IJCHM          Ineson, EM; Comic, D; Kalmic, L  ...   0.0    0.0\n",
              "1     IJCHM                      Benitez-Aurioles, B  ...   0.0    0.0\n",
              "2     IJCHM                 Hu, XB; Yang, Y; Park, S  ...   0.0    0.0\n",
              "3     IJCHM      Ahmat, NHC; Arendt, SW; Russell, DW  ...   1.0    0.0\n",
              "4     IJCHM                      Kim, EL; Tanford, S  ...   0.0    0.0\n",
              "...     ...                                      ...  ...   ...    ...\n",
              "3264   JHMM           de Leaniz, PMG; Rodriguez, IRD  ...   0.0    0.0\n",
              "3265   JHMM  Prayag, G; Khoo-Lattimore, C; Sitruk, J  ...   0.0    0.0\n",
              "3266   JHMM                               Morosan, C  ...   0.0    0.0\n",
              "3267   JHMM                 Memarzadeh, F; Chang, HJ  ...   NaN    NaN\n",
              "3268   JHMM                           Cao, Y; Kim, K  ...   0.0    0.0\n",
              "\n",
              "[3269 rows x 32 columns]"
            ]
          },
          "metadata": {
            "tags": []
          },
          "execution_count": 3
        }
      ]
    },
    {
      "cell_type": "code",
      "metadata": {
        "id": "ginSQBRq9epM"
      },
      "source": [
        "with open(\"/content/drive/MyDrive/Colab Notebooks/TopicModeling/Methodology/df_all_final.pkl\", \"rb\") as fh:\n",
        "  df = pickle.load(fh)"
      ],
      "execution_count": null,
      "outputs": []
    },
    {
      "cell_type": "code",
      "metadata": {
        "colab": {
          "base_uri": "https://localhost:8080/",
          "height": 602
        },
        "id": "HI4Q2gb79taN",
        "outputId": "0bb50f75-986c-45c5-87c4-7d22679e29c5"
      },
      "source": [
        "df"
      ],
      "execution_count": null,
      "outputs": [
        {
          "output_type": "execute_result",
          "data": {
            "text/html": [
              "<div>\n",
              "<style scoped>\n",
              "    .dataframe tbody tr th:only-of-type {\n",
              "        vertical-align: middle;\n",
              "    }\n",
              "\n",
              "    .dataframe tbody tr th {\n",
              "        vertical-align: top;\n",
              "    }\n",
              "\n",
              "    .dataframe thead th {\n",
              "        text-align: right;\n",
              "    }\n",
              "</style>\n",
              "<table border=\"1\" class=\"dataframe\">\n",
              "  <thead>\n",
              "    <tr style=\"text-align: right;\">\n",
              "      <th></th>\n",
              "      <th>JO</th>\n",
              "      <th>AU</th>\n",
              "      <th>TI</th>\n",
              "      <th>PY</th>\n",
              "      <th>DI</th>\n",
              "      <th>urls</th>\n",
              "      <th>filename</th>\n",
              "      <th>methodology</th>\n",
              "    </tr>\n",
              "  </thead>\n",
              "  <tbody>\n",
              "    <tr>\n",
              "      <th>0</th>\n",
              "      <td>IJCHM</td>\n",
              "      <td>Ineson, EM; Comic, D; Kalmic, L</td>\n",
              "      <td>Towards a hierarchy of hotel guests' in-room n...</td>\n",
              "      <td>2019.0</td>\n",
              "      <td>10.1108/IJCHM-01-2019-0061</td>\n",
              "      <td>https://www.emerald.com/insight/content/doi/10...</td>\n",
              "      <td>IJCHM_0.txt</td>\n",
              "      <td>Methodology\\nThe design is qualitative and exp...</td>\n",
              "    </tr>\n",
              "    <tr>\n",
              "      <th>1</th>\n",
              "      <td>IJCHM</td>\n",
              "      <td>Benitez-Aurioles, B</td>\n",
              "      <td>Barcelona's peer-to-peer tourist accommodation...</td>\n",
              "      <td>2019.0</td>\n",
              "      <td>10.1108/IJCHM-01-2019-0090</td>\n",
              "      <td>https://www.emerald.com/insight/content/doi/10...</td>\n",
              "      <td>IJCHM_1.txt</td>\n",
              "      <td>Data\\nThere are no official statistics on the ...</td>\n",
              "    </tr>\n",
              "    <tr>\n",
              "      <th>2</th>\n",
              "      <td>IJCHM</td>\n",
              "      <td>Hu, XB; Yang, Y; Park, S</td>\n",
              "      <td>A meta-regression on the effect of online rati...</td>\n",
              "      <td>2019.0</td>\n",
              "      <td>10.1108/IJCHM-10-2018-0835</td>\n",
              "      <td>https://www.emerald.com/insight/content/doi/10...</td>\n",
              "      <td>IJCHM_2.txt</td>\n",
              "      <td>3. Research method\\nWe searched the empirical ...</td>\n",
              "    </tr>\n",
              "    <tr>\n",
              "      <th>3</th>\n",
              "      <td>IJCHM</td>\n",
              "      <td>Ahmat, NHC; Arendt, SW; Russell, DW</td>\n",
              "      <td>Examining work factors after Malaysia's minimu...</td>\n",
              "      <td>2019.0</td>\n",
              "      <td>10.1108/IJCHM-10-2018-0827</td>\n",
              "      <td>https://www.emerald.com/insight/content/doi/10...</td>\n",
              "      <td>IJCHM_3.txt</td>\n",
              "      <td>Methods\\nParticipants\\nEmployees from operatio...</td>\n",
              "    </tr>\n",
              "    <tr>\n",
              "      <th>4</th>\n",
              "      <td>IJCHM</td>\n",
              "      <td>Kim, EL; Tanford, S</td>\n",
              "      <td>Seeking reward or avoiding risk from restauran...</td>\n",
              "      <td>2019.0</td>\n",
              "      <td>10.1108/IJCHM-03-2018-0235</td>\n",
              "      <td>https://www.emerald.com/insight/content/doi/10...</td>\n",
              "      <td>IJCHM_4.txt</td>\n",
              "      <td>Method\\nDesign\\nParticipants made dining decis...</td>\n",
              "    </tr>\n",
              "    <tr>\n",
              "      <th>...</th>\n",
              "      <td>...</td>\n",
              "      <td>...</td>\n",
              "      <td>...</td>\n",
              "      <td>...</td>\n",
              "      <td>...</td>\n",
              "      <td>...</td>\n",
              "      <td>...</td>\n",
              "      <td>...</td>\n",
              "    </tr>\n",
              "    <tr>\n",
              "      <th>3264</th>\n",
              "      <td>JHTR</td>\n",
              "      <td>Kim, W; Ok, C</td>\n",
              "      <td>CUSTOMER ORIENTATION OF SERVICE EMPLOYEES AND ...</td>\n",
              "      <td>2010.0</td>\n",
              "      <td>10.1177/1096348009344234</td>\n",
              "      <td>NaN</td>\n",
              "      <td>NaN</td>\n",
              "      <td>\\nMETHOD\\nMeasures\\nSignificant discrepant res...</td>\n",
              "    </tr>\n",
              "    <tr>\n",
              "      <th>3265</th>\n",
              "      <td>JHTR</td>\n",
              "      <td>Gazzoli, G; Hancer, M; Park, Y</td>\n",
              "      <td>THE ROLE AND EFFECT OF JOB SATISFACTION AND EM...</td>\n",
              "      <td>2010.0</td>\n",
              "      <td>10.1177/1096348009344235</td>\n",
              "      <td>NaN</td>\n",
              "      <td>NaN</td>\n",
              "      <td>\\nMETHOD\\nSample and Data Collection\\nBecause ...</td>\n",
              "    </tr>\n",
              "    <tr>\n",
              "      <th>3266</th>\n",
              "      <td>JHTR</td>\n",
              "      <td>Young, CA; Corsun, DL</td>\n",
              "      <td>BURNED! THE IMPACT OF WORK ASPECTS, INJURY, AN...</td>\n",
              "      <td>2010.0</td>\n",
              "      <td>10.1177/1096348009349816</td>\n",
              "      <td>NaN</td>\n",
              "      <td>NaN</td>\n",
              "      <td>\\nMETHOD\\nData Collection\\nManagement from 13 ...</td>\n",
              "    </tr>\n",
              "    <tr>\n",
              "      <th>3267</th>\n",
              "      <td>JHTR</td>\n",
              "      <td>Kim, DY; Wen, L; Doh, K</td>\n",
              "      <td>DOES CULTURAL DIFFERENCE AFFECT CUSTOMER'S RES...</td>\n",
              "      <td>2010.0</td>\n",
              "      <td>10.1177/1096348009349817</td>\n",
              "      <td>NaN</td>\n",
              "      <td>NaN</td>\n",
              "      <td>\\nMETHOD\\nSample\\nAn experimental design was e...</td>\n",
              "    </tr>\n",
              "    <tr>\n",
              "      <th>3268</th>\n",
              "      <td>JHTR</td>\n",
              "      <td>Pike, S</td>\n",
              "      <td>DESTINATION BRANDING CASE STUDY: TRACKING BRAN...</td>\n",
              "      <td>2010.0</td>\n",
              "      <td>10.1177/1096348009349820</td>\n",
              "      <td>NaN</td>\n",
              "      <td>NaN</td>\n",
              "      <td>\\nMETHOD\\nThe 2003 longitudinal study took pla...</td>\n",
              "    </tr>\n",
              "  </tbody>\n",
              "</table>\n",
              "<p>3269 rows × 8 columns</p>\n",
              "</div>"
            ],
            "text/plain": [
              "         JO  ...                                        methodology\n",
              "0     IJCHM  ...  Methodology\\nThe design is qualitative and exp...\n",
              "1     IJCHM  ...  Data\\nThere are no official statistics on the ...\n",
              "2     IJCHM  ...  3. Research method\\nWe searched the empirical ...\n",
              "3     IJCHM  ...  Methods\\nParticipants\\nEmployees from operatio...\n",
              "4     IJCHM  ...  Method\\nDesign\\nParticipants made dining decis...\n",
              "...     ...  ...                                                ...\n",
              "3264   JHTR  ...  \\nMETHOD\\nMeasures\\nSignificant discrepant res...\n",
              "3265   JHTR  ...  \\nMETHOD\\nSample and Data Collection\\nBecause ...\n",
              "3266   JHTR  ...  \\nMETHOD\\nData Collection\\nManagement from 13 ...\n",
              "3267   JHTR  ...  \\nMETHOD\\nSample\\nAn experimental design was e...\n",
              "3268   JHTR  ...  \\nMETHOD\\nThe 2003 longitudinal study took pla...\n",
              "\n",
              "[3269 rows x 8 columns]"
            ]
          },
          "metadata": {
            "tags": []
          },
          "execution_count": 5
        }
      ]
    },
    {
      "cell_type": "code",
      "metadata": {
        "id": "nEgKSjdKG8i-"
      },
      "source": [
        "df.dropna(subset=[\"methodology\"], inplace=True)"
      ],
      "execution_count": null,
      "outputs": []
    },
    {
      "cell_type": "code",
      "metadata": {
        "colab": {
          "base_uri": "https://localhost:8080/",
          "height": 602
        },
        "id": "kh-AExFSHm16",
        "outputId": "4ff0d9b9-f5de-4c17-9f97-ebec6889bdb9"
      },
      "source": [
        "df"
      ],
      "execution_count": null,
      "outputs": [
        {
          "output_type": "execute_result",
          "data": {
            "text/html": [
              "<div>\n",
              "<style scoped>\n",
              "    .dataframe tbody tr th:only-of-type {\n",
              "        vertical-align: middle;\n",
              "    }\n",
              "\n",
              "    .dataframe tbody tr th {\n",
              "        vertical-align: top;\n",
              "    }\n",
              "\n",
              "    .dataframe thead th {\n",
              "        text-align: right;\n",
              "    }\n",
              "</style>\n",
              "<table border=\"1\" class=\"dataframe\">\n",
              "  <thead>\n",
              "    <tr style=\"text-align: right;\">\n",
              "      <th></th>\n",
              "      <th>JO</th>\n",
              "      <th>AU</th>\n",
              "      <th>TI</th>\n",
              "      <th>PY</th>\n",
              "      <th>DI</th>\n",
              "      <th>urls</th>\n",
              "      <th>filename</th>\n",
              "      <th>methodology</th>\n",
              "    </tr>\n",
              "  </thead>\n",
              "  <tbody>\n",
              "    <tr>\n",
              "      <th>0</th>\n",
              "      <td>IJCHM</td>\n",
              "      <td>Ineson, EM; Comic, D; Kalmic, L</td>\n",
              "      <td>Towards a hierarchy of hotel guests' in-room n...</td>\n",
              "      <td>2019.0</td>\n",
              "      <td>10.1108/IJCHM-01-2019-0061</td>\n",
              "      <td>https://www.emerald.com/insight/content/doi/10...</td>\n",
              "      <td>IJCHM_0.txt</td>\n",
              "      <td>Methodology\\nThe design is qualitative and exp...</td>\n",
              "    </tr>\n",
              "    <tr>\n",
              "      <th>1</th>\n",
              "      <td>IJCHM</td>\n",
              "      <td>Benitez-Aurioles, B</td>\n",
              "      <td>Barcelona's peer-to-peer tourist accommodation...</td>\n",
              "      <td>2019.0</td>\n",
              "      <td>10.1108/IJCHM-01-2019-0090</td>\n",
              "      <td>https://www.emerald.com/insight/content/doi/10...</td>\n",
              "      <td>IJCHM_1.txt</td>\n",
              "      <td>Data\\nThere are no official statistics on the ...</td>\n",
              "    </tr>\n",
              "    <tr>\n",
              "      <th>2</th>\n",
              "      <td>IJCHM</td>\n",
              "      <td>Hu, XB; Yang, Y; Park, S</td>\n",
              "      <td>A meta-regression on the effect of online rati...</td>\n",
              "      <td>2019.0</td>\n",
              "      <td>10.1108/IJCHM-10-2018-0835</td>\n",
              "      <td>https://www.emerald.com/insight/content/doi/10...</td>\n",
              "      <td>IJCHM_2.txt</td>\n",
              "      <td>3. Research method\\nWe searched the empirical ...</td>\n",
              "    </tr>\n",
              "    <tr>\n",
              "      <th>3</th>\n",
              "      <td>IJCHM</td>\n",
              "      <td>Ahmat, NHC; Arendt, SW; Russell, DW</td>\n",
              "      <td>Examining work factors after Malaysia's minimu...</td>\n",
              "      <td>2019.0</td>\n",
              "      <td>10.1108/IJCHM-10-2018-0827</td>\n",
              "      <td>https://www.emerald.com/insight/content/doi/10...</td>\n",
              "      <td>IJCHM_3.txt</td>\n",
              "      <td>Methods\\nParticipants\\nEmployees from operatio...</td>\n",
              "    </tr>\n",
              "    <tr>\n",
              "      <th>4</th>\n",
              "      <td>IJCHM</td>\n",
              "      <td>Kim, EL; Tanford, S</td>\n",
              "      <td>Seeking reward or avoiding risk from restauran...</td>\n",
              "      <td>2019.0</td>\n",
              "      <td>10.1108/IJCHM-03-2018-0235</td>\n",
              "      <td>https://www.emerald.com/insight/content/doi/10...</td>\n",
              "      <td>IJCHM_4.txt</td>\n",
              "      <td>Method\\nDesign\\nParticipants made dining decis...</td>\n",
              "    </tr>\n",
              "    <tr>\n",
              "      <th>...</th>\n",
              "      <td>...</td>\n",
              "      <td>...</td>\n",
              "      <td>...</td>\n",
              "      <td>...</td>\n",
              "      <td>...</td>\n",
              "      <td>...</td>\n",
              "      <td>...</td>\n",
              "      <td>...</td>\n",
              "    </tr>\n",
              "    <tr>\n",
              "      <th>3264</th>\n",
              "      <td>JHTR</td>\n",
              "      <td>Kim, W; Ok, C</td>\n",
              "      <td>CUSTOMER ORIENTATION OF SERVICE EMPLOYEES AND ...</td>\n",
              "      <td>2010.0</td>\n",
              "      <td>10.1177/1096348009344234</td>\n",
              "      <td>NaN</td>\n",
              "      <td>NaN</td>\n",
              "      <td>\\nMETHOD\\nMeasures\\nSignificant discrepant res...</td>\n",
              "    </tr>\n",
              "    <tr>\n",
              "      <th>3265</th>\n",
              "      <td>JHTR</td>\n",
              "      <td>Gazzoli, G; Hancer, M; Park, Y</td>\n",
              "      <td>THE ROLE AND EFFECT OF JOB SATISFACTION AND EM...</td>\n",
              "      <td>2010.0</td>\n",
              "      <td>10.1177/1096348009344235</td>\n",
              "      <td>NaN</td>\n",
              "      <td>NaN</td>\n",
              "      <td>\\nMETHOD\\nSample and Data Collection\\nBecause ...</td>\n",
              "    </tr>\n",
              "    <tr>\n",
              "      <th>3266</th>\n",
              "      <td>JHTR</td>\n",
              "      <td>Young, CA; Corsun, DL</td>\n",
              "      <td>BURNED! THE IMPACT OF WORK ASPECTS, INJURY, AN...</td>\n",
              "      <td>2010.0</td>\n",
              "      <td>10.1177/1096348009349816</td>\n",
              "      <td>NaN</td>\n",
              "      <td>NaN</td>\n",
              "      <td>\\nMETHOD\\nData Collection\\nManagement from 13 ...</td>\n",
              "    </tr>\n",
              "    <tr>\n",
              "      <th>3267</th>\n",
              "      <td>JHTR</td>\n",
              "      <td>Kim, DY; Wen, L; Doh, K</td>\n",
              "      <td>DOES CULTURAL DIFFERENCE AFFECT CUSTOMER'S RES...</td>\n",
              "      <td>2010.0</td>\n",
              "      <td>10.1177/1096348009349817</td>\n",
              "      <td>NaN</td>\n",
              "      <td>NaN</td>\n",
              "      <td>\\nMETHOD\\nSample\\nAn experimental design was e...</td>\n",
              "    </tr>\n",
              "    <tr>\n",
              "      <th>3268</th>\n",
              "      <td>JHTR</td>\n",
              "      <td>Pike, S</td>\n",
              "      <td>DESTINATION BRANDING CASE STUDY: TRACKING BRAN...</td>\n",
              "      <td>2010.0</td>\n",
              "      <td>10.1177/1096348009349820</td>\n",
              "      <td>NaN</td>\n",
              "      <td>NaN</td>\n",
              "      <td>\\nMETHOD\\nThe 2003 longitudinal study took pla...</td>\n",
              "    </tr>\n",
              "  </tbody>\n",
              "</table>\n",
              "<p>3076 rows × 8 columns</p>\n",
              "</div>"
            ],
            "text/plain": [
              "         JO  ...                                        methodology\n",
              "0     IJCHM  ...  Methodology\\nThe design is qualitative and exp...\n",
              "1     IJCHM  ...  Data\\nThere are no official statistics on the ...\n",
              "2     IJCHM  ...  3. Research method\\nWe searched the empirical ...\n",
              "3     IJCHM  ...  Methods\\nParticipants\\nEmployees from operatio...\n",
              "4     IJCHM  ...  Method\\nDesign\\nParticipants made dining decis...\n",
              "...     ...  ...                                                ...\n",
              "3264   JHTR  ...  \\nMETHOD\\nMeasures\\nSignificant discrepant res...\n",
              "3265   JHTR  ...  \\nMETHOD\\nSample and Data Collection\\nBecause ...\n",
              "3266   JHTR  ...  \\nMETHOD\\nData Collection\\nManagement from 13 ...\n",
              "3267   JHTR  ...  \\nMETHOD\\nSample\\nAn experimental design was e...\n",
              "3268   JHTR  ...  \\nMETHOD\\nThe 2003 longitudinal study took pla...\n",
              "\n",
              "[3076 rows x 8 columns]"
            ]
          },
          "metadata": {
            "tags": []
          },
          "execution_count": 7
        }
      ]
    },
    {
      "cell_type": "code",
      "metadata": {
        "id": "ulJaluBFQ7Og"
      },
      "source": [
        "df.reset_index(drop=True, inplace=True)"
      ],
      "execution_count": null,
      "outputs": []
    },
    {
      "cell_type": "code",
      "metadata": {
        "id": "560b49h-TaAl"
      },
      "source": [
        "df[\"PY\"].fillna(2010, inplace=True)"
      ],
      "execution_count": null,
      "outputs": []
    },
    {
      "cell_type": "code",
      "metadata": {
        "id": "adX2VjXTTS1P"
      },
      "source": [
        "df[\"PY\"] = df.PY.astype(\"int\")"
      ],
      "execution_count": null,
      "outputs": []
    },
    {
      "cell_type": "code",
      "metadata": {
        "colab": {
          "base_uri": "https://localhost:8080/"
        },
        "id": "SmAzzm0tTNR5",
        "outputId": "2d716bf7-60e5-476a-f4fd-fd98bddb4783"
      },
      "source": [
        "df.isnull().sum()"
      ],
      "execution_count": null,
      "outputs": [
        {
          "output_type": "execute_result",
          "data": {
            "text/plain": [
              "JO              0\n",
              "AU              0\n",
              "TI              0\n",
              "PY              0\n",
              "DI              1\n",
              "urls           83\n",
              "filename       84\n",
              "methodology     0\n",
              "dtype: int64"
            ]
          },
          "metadata": {
            "tags": []
          },
          "execution_count": 11
        }
      ]
    },
    {
      "cell_type": "code",
      "metadata": {
        "colab": {
          "base_uri": "https://localhost:8080/",
          "height": 602
        },
        "id": "PcV95NYtYYgb",
        "outputId": "9814cd48-9baa-44bf-8c32-6bfe88ba0bc4"
      },
      "source": [
        "df.drop_duplicates(subset=\"TI\")"
      ],
      "execution_count": null,
      "outputs": [
        {
          "output_type": "execute_result",
          "data": {
            "text/html": [
              "<div>\n",
              "<style scoped>\n",
              "    .dataframe tbody tr th:only-of-type {\n",
              "        vertical-align: middle;\n",
              "    }\n",
              "\n",
              "    .dataframe tbody tr th {\n",
              "        vertical-align: top;\n",
              "    }\n",
              "\n",
              "    .dataframe thead th {\n",
              "        text-align: right;\n",
              "    }\n",
              "</style>\n",
              "<table border=\"1\" class=\"dataframe\">\n",
              "  <thead>\n",
              "    <tr style=\"text-align: right;\">\n",
              "      <th></th>\n",
              "      <th>JO</th>\n",
              "      <th>AU</th>\n",
              "      <th>TI</th>\n",
              "      <th>PY</th>\n",
              "      <th>DI</th>\n",
              "      <th>urls</th>\n",
              "      <th>filename</th>\n",
              "      <th>methodology</th>\n",
              "    </tr>\n",
              "  </thead>\n",
              "  <tbody>\n",
              "    <tr>\n",
              "      <th>0</th>\n",
              "      <td>IJCHM</td>\n",
              "      <td>Ineson, EM; Comic, D; Kalmic, L</td>\n",
              "      <td>Towards a hierarchy of hotel guests' in-room n...</td>\n",
              "      <td>2019</td>\n",
              "      <td>10.1108/IJCHM-01-2019-0061</td>\n",
              "      <td>https://www.emerald.com/insight/content/doi/10...</td>\n",
              "      <td>IJCHM_0.txt</td>\n",
              "      <td>Methodology\\nThe design is qualitative and exp...</td>\n",
              "    </tr>\n",
              "    <tr>\n",
              "      <th>1</th>\n",
              "      <td>IJCHM</td>\n",
              "      <td>Benitez-Aurioles, B</td>\n",
              "      <td>Barcelona's peer-to-peer tourist accommodation...</td>\n",
              "      <td>2019</td>\n",
              "      <td>10.1108/IJCHM-01-2019-0090</td>\n",
              "      <td>https://www.emerald.com/insight/content/doi/10...</td>\n",
              "      <td>IJCHM_1.txt</td>\n",
              "      <td>Data\\nThere are no official statistics on the ...</td>\n",
              "    </tr>\n",
              "    <tr>\n",
              "      <th>2</th>\n",
              "      <td>IJCHM</td>\n",
              "      <td>Hu, XB; Yang, Y; Park, S</td>\n",
              "      <td>A meta-regression on the effect of online rati...</td>\n",
              "      <td>2019</td>\n",
              "      <td>10.1108/IJCHM-10-2018-0835</td>\n",
              "      <td>https://www.emerald.com/insight/content/doi/10...</td>\n",
              "      <td>IJCHM_2.txt</td>\n",
              "      <td>3. Research method\\nWe searched the empirical ...</td>\n",
              "    </tr>\n",
              "    <tr>\n",
              "      <th>3</th>\n",
              "      <td>IJCHM</td>\n",
              "      <td>Ahmat, NHC; Arendt, SW; Russell, DW</td>\n",
              "      <td>Examining work factors after Malaysia's minimu...</td>\n",
              "      <td>2019</td>\n",
              "      <td>10.1108/IJCHM-10-2018-0827</td>\n",
              "      <td>https://www.emerald.com/insight/content/doi/10...</td>\n",
              "      <td>IJCHM_3.txt</td>\n",
              "      <td>Methods\\nParticipants\\nEmployees from operatio...</td>\n",
              "    </tr>\n",
              "    <tr>\n",
              "      <th>4</th>\n",
              "      <td>IJCHM</td>\n",
              "      <td>Kim, EL; Tanford, S</td>\n",
              "      <td>Seeking reward or avoiding risk from restauran...</td>\n",
              "      <td>2019</td>\n",
              "      <td>10.1108/IJCHM-03-2018-0235</td>\n",
              "      <td>https://www.emerald.com/insight/content/doi/10...</td>\n",
              "      <td>IJCHM_4.txt</td>\n",
              "      <td>Method\\nDesign\\nParticipants made dining decis...</td>\n",
              "    </tr>\n",
              "    <tr>\n",
              "      <th>...</th>\n",
              "      <td>...</td>\n",
              "      <td>...</td>\n",
              "      <td>...</td>\n",
              "      <td>...</td>\n",
              "      <td>...</td>\n",
              "      <td>...</td>\n",
              "      <td>...</td>\n",
              "      <td>...</td>\n",
              "    </tr>\n",
              "    <tr>\n",
              "      <th>3071</th>\n",
              "      <td>JHTR</td>\n",
              "      <td>Kim, W; Ok, C</td>\n",
              "      <td>CUSTOMER ORIENTATION OF SERVICE EMPLOYEES AND ...</td>\n",
              "      <td>2010</td>\n",
              "      <td>10.1177/1096348009344234</td>\n",
              "      <td>NaN</td>\n",
              "      <td>NaN</td>\n",
              "      <td>\\nMETHOD\\nMeasures\\nSignificant discrepant res...</td>\n",
              "    </tr>\n",
              "    <tr>\n",
              "      <th>3072</th>\n",
              "      <td>JHTR</td>\n",
              "      <td>Gazzoli, G; Hancer, M; Park, Y</td>\n",
              "      <td>THE ROLE AND EFFECT OF JOB SATISFACTION AND EM...</td>\n",
              "      <td>2010</td>\n",
              "      <td>10.1177/1096348009344235</td>\n",
              "      <td>NaN</td>\n",
              "      <td>NaN</td>\n",
              "      <td>\\nMETHOD\\nSample and Data Collection\\nBecause ...</td>\n",
              "    </tr>\n",
              "    <tr>\n",
              "      <th>3073</th>\n",
              "      <td>JHTR</td>\n",
              "      <td>Young, CA; Corsun, DL</td>\n",
              "      <td>BURNED! THE IMPACT OF WORK ASPECTS, INJURY, AN...</td>\n",
              "      <td>2010</td>\n",
              "      <td>10.1177/1096348009349816</td>\n",
              "      <td>NaN</td>\n",
              "      <td>NaN</td>\n",
              "      <td>\\nMETHOD\\nData Collection\\nManagement from 13 ...</td>\n",
              "    </tr>\n",
              "    <tr>\n",
              "      <th>3074</th>\n",
              "      <td>JHTR</td>\n",
              "      <td>Kim, DY; Wen, L; Doh, K</td>\n",
              "      <td>DOES CULTURAL DIFFERENCE AFFECT CUSTOMER'S RES...</td>\n",
              "      <td>2010</td>\n",
              "      <td>10.1177/1096348009349817</td>\n",
              "      <td>NaN</td>\n",
              "      <td>NaN</td>\n",
              "      <td>\\nMETHOD\\nSample\\nAn experimental design was e...</td>\n",
              "    </tr>\n",
              "    <tr>\n",
              "      <th>3075</th>\n",
              "      <td>JHTR</td>\n",
              "      <td>Pike, S</td>\n",
              "      <td>DESTINATION BRANDING CASE STUDY: TRACKING BRAN...</td>\n",
              "      <td>2010</td>\n",
              "      <td>10.1177/1096348009349820</td>\n",
              "      <td>NaN</td>\n",
              "      <td>NaN</td>\n",
              "      <td>\\nMETHOD\\nThe 2003 longitudinal study took pla...</td>\n",
              "    </tr>\n",
              "  </tbody>\n",
              "</table>\n",
              "<p>3076 rows × 8 columns</p>\n",
              "</div>"
            ],
            "text/plain": [
              "         JO  ...                                        methodology\n",
              "0     IJCHM  ...  Methodology\\nThe design is qualitative and exp...\n",
              "1     IJCHM  ...  Data\\nThere are no official statistics on the ...\n",
              "2     IJCHM  ...  3. Research method\\nWe searched the empirical ...\n",
              "3     IJCHM  ...  Methods\\nParticipants\\nEmployees from operatio...\n",
              "4     IJCHM  ...  Method\\nDesign\\nParticipants made dining decis...\n",
              "...     ...  ...                                                ...\n",
              "3071   JHTR  ...  \\nMETHOD\\nMeasures\\nSignificant discrepant res...\n",
              "3072   JHTR  ...  \\nMETHOD\\nSample and Data Collection\\nBecause ...\n",
              "3073   JHTR  ...  \\nMETHOD\\nData Collection\\nManagement from 13 ...\n",
              "3074   JHTR  ...  \\nMETHOD\\nSample\\nAn experimental design was e...\n",
              "3075   JHTR  ...  \\nMETHOD\\nThe 2003 longitudinal study took pla...\n",
              "\n",
              "[3076 rows x 8 columns]"
            ]
          },
          "metadata": {
            "tags": []
          },
          "execution_count": 12
        }
      ]
    },
    {
      "cell_type": "code",
      "metadata": {
        "colab": {
          "base_uri": "https://localhost:8080/",
          "height": 941
        },
        "id": "AARpH_MtSadM",
        "outputId": "e671491d-c430-4830-e958-e166c81026ca"
      },
      "source": [
        "df_merged = pd.merge(df_method[[\"TI\", \"QUANTITATIVE\", \"Method\"]], df, left_on=\"TI\", right_on=\"TI\")\n",
        "df_merged"
      ],
      "execution_count": null,
      "outputs": [
        {
          "output_type": "execute_result",
          "data": {
            "text/html": [
              "<div>\n",
              "<style scoped>\n",
              "    .dataframe tbody tr th:only-of-type {\n",
              "        vertical-align: middle;\n",
              "    }\n",
              "\n",
              "    .dataframe tbody tr th {\n",
              "        vertical-align: top;\n",
              "    }\n",
              "\n",
              "    .dataframe thead th {\n",
              "        text-align: right;\n",
              "    }\n",
              "</style>\n",
              "<table border=\"1\" class=\"dataframe\">\n",
              "  <thead>\n",
              "    <tr style=\"text-align: right;\">\n",
              "      <th></th>\n",
              "      <th>TI</th>\n",
              "      <th>QUANTITATIVE</th>\n",
              "      <th>Method</th>\n",
              "      <th>JO</th>\n",
              "      <th>AU</th>\n",
              "      <th>PY</th>\n",
              "      <th>DI</th>\n",
              "      <th>urls</th>\n",
              "      <th>filename</th>\n",
              "      <th>methodology</th>\n",
              "    </tr>\n",
              "  </thead>\n",
              "  <tbody>\n",
              "    <tr>\n",
              "      <th>0</th>\n",
              "      <td>Towards a hierarchy of hotel guests' in-room n...</td>\n",
              "      <td>0</td>\n",
              "      <td>phenomenology</td>\n",
              "      <td>IJCHM</td>\n",
              "      <td>Ineson, EM; Comic, D; Kalmic, L</td>\n",
              "      <td>2019</td>\n",
              "      <td>10.1108/IJCHM-01-2019-0061</td>\n",
              "      <td>https://www.emerald.com/insight/content/doi/10...</td>\n",
              "      <td>IJCHM_0.txt</td>\n",
              "      <td>Methodology\\nThe design is qualitative and exp...</td>\n",
              "    </tr>\n",
              "    <tr>\n",
              "      <th>1</th>\n",
              "      <td>Barcelona's peer-to-peer tourist accommodation...</td>\n",
              "      <td>1</td>\n",
              "      <td>secondary data</td>\n",
              "      <td>IJCHM</td>\n",
              "      <td>Benitez-Aurioles, B</td>\n",
              "      <td>2019</td>\n",
              "      <td>10.1108/IJCHM-01-2019-0090</td>\n",
              "      <td>https://www.emerald.com/insight/content/doi/10...</td>\n",
              "      <td>IJCHM_1.txt</td>\n",
              "      <td>Data\\nThere are no official statistics on the ...</td>\n",
              "    </tr>\n",
              "    <tr>\n",
              "      <th>2</th>\n",
              "      <td>A meta-regression on the effect of online rati...</td>\n",
              "      <td>0</td>\n",
              "      <td>review</td>\n",
              "      <td>IJCHM</td>\n",
              "      <td>Hu, XB; Yang, Y; Park, S</td>\n",
              "      <td>2019</td>\n",
              "      <td>10.1108/IJCHM-10-2018-0835</td>\n",
              "      <td>https://www.emerald.com/insight/content/doi/10...</td>\n",
              "      <td>IJCHM_2.txt</td>\n",
              "      <td>3. Research method\\nWe searched the empirical ...</td>\n",
              "    </tr>\n",
              "    <tr>\n",
              "      <th>3</th>\n",
              "      <td>Examining work factors after Malaysia's minimu...</td>\n",
              "      <td>1</td>\n",
              "      <td>survey</td>\n",
              "      <td>IJCHM</td>\n",
              "      <td>Ahmat, NHC; Arendt, SW; Russell, DW</td>\n",
              "      <td>2019</td>\n",
              "      <td>10.1108/IJCHM-10-2018-0827</td>\n",
              "      <td>https://www.emerald.com/insight/content/doi/10...</td>\n",
              "      <td>IJCHM_3.txt</td>\n",
              "      <td>Methods\\nParticipants\\nEmployees from operatio...</td>\n",
              "    </tr>\n",
              "    <tr>\n",
              "      <th>4</th>\n",
              "      <td>Seeking reward or avoiding risk from restauran...</td>\n",
              "      <td>1</td>\n",
              "      <td>experimental</td>\n",
              "      <td>IJCHM</td>\n",
              "      <td>Kim, EL; Tanford, S</td>\n",
              "      <td>2019</td>\n",
              "      <td>10.1108/IJCHM-03-2018-0235</td>\n",
              "      <td>https://www.emerald.com/insight/content/doi/10...</td>\n",
              "      <td>IJCHM_4.txt</td>\n",
              "      <td>Method\\nDesign\\nParticipants made dining decis...</td>\n",
              "    </tr>\n",
              "    <tr>\n",
              "      <th>...</th>\n",
              "      <td>...</td>\n",
              "      <td>...</td>\n",
              "      <td>...</td>\n",
              "      <td>...</td>\n",
              "      <td>...</td>\n",
              "      <td>...</td>\n",
              "      <td>...</td>\n",
              "      <td>...</td>\n",
              "      <td>...</td>\n",
              "      <td>...</td>\n",
              "    </tr>\n",
              "    <tr>\n",
              "      <th>3071</th>\n",
              "      <td>Attitudes, Perceptions, and Responses of Purch...</td>\n",
              "      <td>1</td>\n",
              "      <td>survey</td>\n",
              "      <td>JHMM</td>\n",
              "      <td>Ong, BS</td>\n",
              "      <td>2015</td>\n",
              "      <td>10.1080/19368623.2014.901201</td>\n",
              "      <td>https://www.tandfonline.com/doi/full/10.1080/1...</td>\n",
              "      <td>JHMM_223.txt</td>\n",
              "      <td>\\nMETHODOLOGY\\nGiven that daily deals are Inte...</td>\n",
              "    </tr>\n",
              "    <tr>\n",
              "      <th>3072</th>\n",
              "      <td>Exploring the Antecedents of Hotel Customer Lo...</td>\n",
              "      <td>1</td>\n",
              "      <td>survey</td>\n",
              "      <td>JHMM</td>\n",
              "      <td>de Leaniz, PMG; Rodriguez, IRD</td>\n",
              "      <td>2015</td>\n",
              "      <td>10.1080/19368623.2014.891961</td>\n",
              "      <td>https://www.tandfonline.com/doi/full/10.1080/1...</td>\n",
              "      <td>JHMM_224.txt</td>\n",
              "      <td>\\nMETHOD OF ANALYSIS\\nData Collection and Samp...</td>\n",
              "    </tr>\n",
              "    <tr>\n",
              "      <th>3073</th>\n",
              "      <td>Casual Dining on the French Riviera: Examining...</td>\n",
              "      <td>1</td>\n",
              "      <td>survey</td>\n",
              "      <td>JHMM</td>\n",
              "      <td>Prayag, G; Khoo-Lattimore, C; Sitruk, J</td>\n",
              "      <td>2015</td>\n",
              "      <td>10.1080/19368623.2014.859114</td>\n",
              "      <td>https://www.tandfonline.com/doi/full/10.1080/1...</td>\n",
              "      <td>JHMM_225.txt</td>\n",
              "      <td>\\nMETHODOLOGY\\nThe Study Site\\nThe French Rivi...</td>\n",
              "    </tr>\n",
              "    <tr>\n",
              "      <th>3074</th>\n",
              "      <td>The Influence of DMO Advertising on Specific D...</td>\n",
              "      <td>1</td>\n",
              "      <td>survey</td>\n",
              "      <td>JHMM</td>\n",
              "      <td>Morosan, C</td>\n",
              "      <td>2015</td>\n",
              "      <td>10.1080/19368623.2014.891962</td>\n",
              "      <td>https://www.tandfonline.com/doi/full/10.1080/1...</td>\n",
              "      <td>JHMM_226.txt</td>\n",
              "      <td>\\nMETHODOLOGY\\nInstrument Development\\nThe res...</td>\n",
              "    </tr>\n",
              "    <tr>\n",
              "      <th>3075</th>\n",
              "      <td>How Do Customers Perceive Service Quality in D...</td>\n",
              "      <td>1</td>\n",
              "      <td>survey</td>\n",
              "      <td>JHMM</td>\n",
              "      <td>Cao, Y; Kim, K</td>\n",
              "      <td>2015</td>\n",
              "      <td>10.1080/19368623.2014.903817</td>\n",
              "      <td>https://www.tandfonline.com/doi/full/10.1080/1...</td>\n",
              "      <td>JHMM_228.txt</td>\n",
              "      <td>\\nMETHOD\\nInstrument Development\\nThe survey q...</td>\n",
              "    </tr>\n",
              "  </tbody>\n",
              "</table>\n",
              "<p>3076 rows × 10 columns</p>\n",
              "</div>"
            ],
            "text/plain": [
              "                                                     TI  ...                                        methodology\n",
              "0     Towards a hierarchy of hotel guests' in-room n...  ...  Methodology\\nThe design is qualitative and exp...\n",
              "1     Barcelona's peer-to-peer tourist accommodation...  ...  Data\\nThere are no official statistics on the ...\n",
              "2     A meta-regression on the effect of online rati...  ...  3. Research method\\nWe searched the empirical ...\n",
              "3     Examining work factors after Malaysia's minimu...  ...  Methods\\nParticipants\\nEmployees from operatio...\n",
              "4     Seeking reward or avoiding risk from restauran...  ...  Method\\nDesign\\nParticipants made dining decis...\n",
              "...                                                 ...  ...                                                ...\n",
              "3071  Attitudes, Perceptions, and Responses of Purch...  ...  \\nMETHODOLOGY\\nGiven that daily deals are Inte...\n",
              "3072  Exploring the Antecedents of Hotel Customer Lo...  ...  \\nMETHOD OF ANALYSIS\\nData Collection and Samp...\n",
              "3073  Casual Dining on the French Riviera: Examining...  ...  \\nMETHODOLOGY\\nThe Study Site\\nThe French Rivi...\n",
              "3074  The Influence of DMO Advertising on Specific D...  ...  \\nMETHODOLOGY\\nInstrument Development\\nThe res...\n",
              "3075  How Do Customers Perceive Service Quality in D...  ...  \\nMETHOD\\nInstrument Development\\nThe survey q...\n",
              "\n",
              "[3076 rows x 10 columns]"
            ]
          },
          "metadata": {
            "tags": []
          },
          "execution_count": 13
        }
      ]
    },
    {
      "cell_type": "code",
      "metadata": {
        "colab": {
          "base_uri": "https://localhost:8080/"
        },
        "id": "mdH2moq8SaZi",
        "outputId": "57cb655e-b2ba-4f63-9003-812751e40fde"
      },
      "source": [
        "df_merged.isnull().sum()"
      ],
      "execution_count": null,
      "outputs": [
        {
          "output_type": "execute_result",
          "data": {
            "text/plain": [
              "TI               0\n",
              "QUANTITATIVE     0\n",
              "Method           0\n",
              "JO               0\n",
              "AU               0\n",
              "PY               0\n",
              "DI               1\n",
              "urls            83\n",
              "filename        84\n",
              "methodology      0\n",
              "dtype: int64"
            ]
          },
          "metadata": {
            "tags": []
          },
          "execution_count": 14
        }
      ]
    },
    {
      "cell_type": "code",
      "metadata": {
        "colab": {
          "base_uri": "https://localhost:8080/"
        },
        "id": "4OC6W2T3SaXM",
        "outputId": "f7810cf1-04c3-4018-bc15-5e1da104105a"
      },
      "source": [
        "df_merged.Method.value_counts()"
      ],
      "execution_count": null,
      "outputs": [
        {
          "output_type": "execute_result",
          "data": {
            "text/plain": [
              "survey               1511\n",
              "secondary data        525\n",
              "experimental          346\n",
              "qualitative           177\n",
              "mixed                 112\n",
              "content analysis      104\n",
              "case study             99\n",
              "review                 76\n",
              "scale development      38\n",
              "bibliometric           18\n",
              "grounded theory        16\n",
              "phenomenology          15\n",
              "theoretical            11\n",
              "meta-analysis           7\n",
              "ethnography             6\n",
              "sna                     5\n",
              "textual analysis        4\n",
              "delphi                  3\n",
              "field study             1\n",
              "interview               1\n",
              "research note           1\n",
              "Name: Method, dtype: int64"
            ]
          },
          "metadata": {
            "tags": []
          },
          "execution_count": 15
        }
      ]
    },
    {
      "cell_type": "code",
      "metadata": {
        "colab": {
          "base_uri": "https://localhost:8080/",
          "height": 890
        },
        "id": "mh2hmLE6SaUB",
        "outputId": "f67b9b9c-05f5-4acb-e293-0c9037c549ee"
      },
      "source": [
        "df_filtered = df_merged.groupby(\"Method\").filter(lambda x: len(x)>100)\n",
        "df_filtered"
      ],
      "execution_count": null,
      "outputs": [
        {
          "output_type": "execute_result",
          "data": {
            "text/html": [
              "<div>\n",
              "<style scoped>\n",
              "    .dataframe tbody tr th:only-of-type {\n",
              "        vertical-align: middle;\n",
              "    }\n",
              "\n",
              "    .dataframe tbody tr th {\n",
              "        vertical-align: top;\n",
              "    }\n",
              "\n",
              "    .dataframe thead th {\n",
              "        text-align: right;\n",
              "    }\n",
              "</style>\n",
              "<table border=\"1\" class=\"dataframe\">\n",
              "  <thead>\n",
              "    <tr style=\"text-align: right;\">\n",
              "      <th></th>\n",
              "      <th>TI</th>\n",
              "      <th>QUANTITATIVE</th>\n",
              "      <th>Method</th>\n",
              "      <th>JO</th>\n",
              "      <th>AU</th>\n",
              "      <th>PY</th>\n",
              "      <th>DI</th>\n",
              "      <th>urls</th>\n",
              "      <th>filename</th>\n",
              "      <th>methodology</th>\n",
              "    </tr>\n",
              "  </thead>\n",
              "  <tbody>\n",
              "    <tr>\n",
              "      <th>1</th>\n",
              "      <td>Barcelona's peer-to-peer tourist accommodation...</td>\n",
              "      <td>1</td>\n",
              "      <td>secondary data</td>\n",
              "      <td>IJCHM</td>\n",
              "      <td>Benitez-Aurioles, B</td>\n",
              "      <td>2019</td>\n",
              "      <td>10.1108/IJCHM-01-2019-0090</td>\n",
              "      <td>https://www.emerald.com/insight/content/doi/10...</td>\n",
              "      <td>IJCHM_1.txt</td>\n",
              "      <td>Data\\nThere are no official statistics on the ...</td>\n",
              "    </tr>\n",
              "    <tr>\n",
              "      <th>3</th>\n",
              "      <td>Examining work factors after Malaysia's minimu...</td>\n",
              "      <td>1</td>\n",
              "      <td>survey</td>\n",
              "      <td>IJCHM</td>\n",
              "      <td>Ahmat, NHC; Arendt, SW; Russell, DW</td>\n",
              "      <td>2019</td>\n",
              "      <td>10.1108/IJCHM-10-2018-0827</td>\n",
              "      <td>https://www.emerald.com/insight/content/doi/10...</td>\n",
              "      <td>IJCHM_3.txt</td>\n",
              "      <td>Methods\\nParticipants\\nEmployees from operatio...</td>\n",
              "    </tr>\n",
              "    <tr>\n",
              "      <th>4</th>\n",
              "      <td>Seeking reward or avoiding risk from restauran...</td>\n",
              "      <td>1</td>\n",
              "      <td>experimental</td>\n",
              "      <td>IJCHM</td>\n",
              "      <td>Kim, EL; Tanford, S</td>\n",
              "      <td>2019</td>\n",
              "      <td>10.1108/IJCHM-03-2018-0235</td>\n",
              "      <td>https://www.emerald.com/insight/content/doi/10...</td>\n",
              "      <td>IJCHM_4.txt</td>\n",
              "      <td>Method\\nDesign\\nParticipants made dining decis...</td>\n",
              "    </tr>\n",
              "    <tr>\n",
              "      <th>5</th>\n",
              "      <td>Prices of short-stay accommodation: time serie...</td>\n",
              "      <td>1</td>\n",
              "      <td>secondary data</td>\n",
              "      <td>IJCHM</td>\n",
              "      <td>Gricar, S; Bojnec, S</td>\n",
              "      <td>2019</td>\n",
              "      <td>10.1108/IJCHM-01-2019-0091</td>\n",
              "      <td>https://www.emerald.com/insight/content/doi/10...</td>\n",
              "      <td>IJCHM_5.txt</td>\n",
              "      <td>Empirical setting\\nIn terms of relevant econom...</td>\n",
              "    </tr>\n",
              "    <tr>\n",
              "      <th>6</th>\n",
              "      <td>How do online reviewers' cultural traits and p...</td>\n",
              "      <td>1</td>\n",
              "      <td>content analysis</td>\n",
              "      <td>IJCHM</td>\n",
              "      <td>Mariani, M; Predvoditeleva, M</td>\n",
              "      <td>2019</td>\n",
              "      <td>10.1108/IJCHM-11-2018-0927</td>\n",
              "      <td>https://www.emerald.com/insight/content/doi/10...</td>\n",
              "      <td>IJCHM_7.txt</td>\n",
              "      <td>3. Research setting, design and methodology\\n3...</td>\n",
              "    </tr>\n",
              "    <tr>\n",
              "      <th>...</th>\n",
              "      <td>...</td>\n",
              "      <td>...</td>\n",
              "      <td>...</td>\n",
              "      <td>...</td>\n",
              "      <td>...</td>\n",
              "      <td>...</td>\n",
              "      <td>...</td>\n",
              "      <td>...</td>\n",
              "      <td>...</td>\n",
              "      <td>...</td>\n",
              "    </tr>\n",
              "    <tr>\n",
              "      <th>3071</th>\n",
              "      <td>Attitudes, Perceptions, and Responses of Purch...</td>\n",
              "      <td>1</td>\n",
              "      <td>survey</td>\n",
              "      <td>JHMM</td>\n",
              "      <td>Ong, BS</td>\n",
              "      <td>2015</td>\n",
              "      <td>10.1080/19368623.2014.901201</td>\n",
              "      <td>https://www.tandfonline.com/doi/full/10.1080/1...</td>\n",
              "      <td>JHMM_223.txt</td>\n",
              "      <td>\\nMETHODOLOGY\\nGiven that daily deals are Inte...</td>\n",
              "    </tr>\n",
              "    <tr>\n",
              "      <th>3072</th>\n",
              "      <td>Exploring the Antecedents of Hotel Customer Lo...</td>\n",
              "      <td>1</td>\n",
              "      <td>survey</td>\n",
              "      <td>JHMM</td>\n",
              "      <td>de Leaniz, PMG; Rodriguez, IRD</td>\n",
              "      <td>2015</td>\n",
              "      <td>10.1080/19368623.2014.891961</td>\n",
              "      <td>https://www.tandfonline.com/doi/full/10.1080/1...</td>\n",
              "      <td>JHMM_224.txt</td>\n",
              "      <td>\\nMETHOD OF ANALYSIS\\nData Collection and Samp...</td>\n",
              "    </tr>\n",
              "    <tr>\n",
              "      <th>3073</th>\n",
              "      <td>Casual Dining on the French Riviera: Examining...</td>\n",
              "      <td>1</td>\n",
              "      <td>survey</td>\n",
              "      <td>JHMM</td>\n",
              "      <td>Prayag, G; Khoo-Lattimore, C; Sitruk, J</td>\n",
              "      <td>2015</td>\n",
              "      <td>10.1080/19368623.2014.859114</td>\n",
              "      <td>https://www.tandfonline.com/doi/full/10.1080/1...</td>\n",
              "      <td>JHMM_225.txt</td>\n",
              "      <td>\\nMETHODOLOGY\\nThe Study Site\\nThe French Rivi...</td>\n",
              "    </tr>\n",
              "    <tr>\n",
              "      <th>3074</th>\n",
              "      <td>The Influence of DMO Advertising on Specific D...</td>\n",
              "      <td>1</td>\n",
              "      <td>survey</td>\n",
              "      <td>JHMM</td>\n",
              "      <td>Morosan, C</td>\n",
              "      <td>2015</td>\n",
              "      <td>10.1080/19368623.2014.891962</td>\n",
              "      <td>https://www.tandfonline.com/doi/full/10.1080/1...</td>\n",
              "      <td>JHMM_226.txt</td>\n",
              "      <td>\\nMETHODOLOGY\\nInstrument Development\\nThe res...</td>\n",
              "    </tr>\n",
              "    <tr>\n",
              "      <th>3075</th>\n",
              "      <td>How Do Customers Perceive Service Quality in D...</td>\n",
              "      <td>1</td>\n",
              "      <td>survey</td>\n",
              "      <td>JHMM</td>\n",
              "      <td>Cao, Y; Kim, K</td>\n",
              "      <td>2015</td>\n",
              "      <td>10.1080/19368623.2014.903817</td>\n",
              "      <td>https://www.tandfonline.com/doi/full/10.1080/1...</td>\n",
              "      <td>JHMM_228.txt</td>\n",
              "      <td>\\nMETHOD\\nInstrument Development\\nThe survey q...</td>\n",
              "    </tr>\n",
              "  </tbody>\n",
              "</table>\n",
              "<p>2775 rows × 10 columns</p>\n",
              "</div>"
            ],
            "text/plain": [
              "                                                     TI  ...                                        methodology\n",
              "1     Barcelona's peer-to-peer tourist accommodation...  ...  Data\\nThere are no official statistics on the ...\n",
              "3     Examining work factors after Malaysia's minimu...  ...  Methods\\nParticipants\\nEmployees from operatio...\n",
              "4     Seeking reward or avoiding risk from restauran...  ...  Method\\nDesign\\nParticipants made dining decis...\n",
              "5     Prices of short-stay accommodation: time serie...  ...  Empirical setting\\nIn terms of relevant econom...\n",
              "6     How do online reviewers' cultural traits and p...  ...  3. Research setting, design and methodology\\n3...\n",
              "...                                                 ...  ...                                                ...\n",
              "3071  Attitudes, Perceptions, and Responses of Purch...  ...  \\nMETHODOLOGY\\nGiven that daily deals are Inte...\n",
              "3072  Exploring the Antecedents of Hotel Customer Lo...  ...  \\nMETHOD OF ANALYSIS\\nData Collection and Samp...\n",
              "3073  Casual Dining on the French Riviera: Examining...  ...  \\nMETHODOLOGY\\nThe Study Site\\nThe French Rivi...\n",
              "3074  The Influence of DMO Advertising on Specific D...  ...  \\nMETHODOLOGY\\nInstrument Development\\nThe res...\n",
              "3075  How Do Customers Perceive Service Quality in D...  ...  \\nMETHOD\\nInstrument Development\\nThe survey q...\n",
              "\n",
              "[2775 rows x 10 columns]"
            ]
          },
          "metadata": {
            "tags": []
          },
          "execution_count": 16
        }
      ]
    },
    {
      "cell_type": "code",
      "metadata": {
        "id": "eGwNj5CRVn59"
      },
      "source": [
        "df_filtered = df_filtered[df_filtered.Method!=\"mixed\"]"
      ],
      "execution_count": null,
      "outputs": []
    },
    {
      "cell_type": "code",
      "metadata": {
        "colab": {
          "base_uri": "https://localhost:8080/"
        },
        "id": "0HIMvGdyQAvl",
        "outputId": "c81ced77-1063-4148-df71-6a70bf553aed"
      },
      "source": [
        "len(df_filtered)"
      ],
      "execution_count": null,
      "outputs": [
        {
          "output_type": "execute_result",
          "data": {
            "text/plain": [
              "2663"
            ]
          },
          "metadata": {
            "tags": []
          },
          "execution_count": 18
        }
      ]
    },
    {
      "cell_type": "code",
      "metadata": {
        "colab": {
          "base_uri": "https://localhost:8080/"
        },
        "id": "geMUgmQwSaQ-",
        "outputId": "2441dba1-d5cb-4f79-f073-b4fdf2ff2a28"
      },
      "source": [
        "df_filtered.Method.value_counts()"
      ],
      "execution_count": null,
      "outputs": [
        {
          "output_type": "execute_result",
          "data": {
            "text/plain": [
              "survey              1511\n",
              "secondary data       525\n",
              "experimental         346\n",
              "qualitative          177\n",
              "content analysis     104\n",
              "Name: Method, dtype: int64"
            ]
          },
          "metadata": {
            "tags": []
          },
          "execution_count": 19
        }
      ]
    },
    {
      "cell_type": "code",
      "metadata": {
        "colab": {
          "base_uri": "https://localhost:8080/"
        },
        "id": "uOZFuzraVnzO",
        "outputId": "014663d0-6626-490e-a4c9-9308701db53d"
      },
      "source": [
        "df_filtered.Method.value_counts(normalize=True)"
      ],
      "execution_count": null,
      "outputs": [
        {
          "output_type": "execute_result",
          "data": {
            "text/plain": [
              "survey              0.567405\n",
              "secondary data      0.197146\n",
              "experimental        0.129929\n",
              "qualitative         0.066466\n",
              "content analysis    0.039054\n",
              "Name: Method, dtype: float64"
            ]
          },
          "metadata": {
            "tags": []
          },
          "execution_count": 20
        }
      ]
    },
    {
      "cell_type": "code",
      "metadata": {
        "id": "hW7nYMwJNM5e"
      },
      "source": [
        ""
      ],
      "execution_count": null,
      "outputs": []
    },
    {
      "cell_type": "code",
      "metadata": {
        "colab": {
          "base_uri": "https://localhost:8080/"
        },
        "id": "8fjQDXveNM1r",
        "outputId": "f4bb1b54-87d2-42bc-92bc-4ebb8db17f18"
      },
      "source": [
        "df_filtered.loc[:,'method_id'] = df_filtered['Method'].factorize()[0]"
      ],
      "execution_count": null,
      "outputs": [
        {
          "output_type": "stream",
          "text": [
            "/usr/local/lib/python3.7/dist-packages/pandas/core/indexing.py:1596: SettingWithCopyWarning: \n",
            "A value is trying to be set on a copy of a slice from a DataFrame.\n",
            "Try using .loc[row_indexer,col_indexer] = value instead\n",
            "\n",
            "See the caveats in the documentation: https://pandas.pydata.org/pandas-docs/stable/user_guide/indexing.html#returning-a-view-versus-a-copy\n",
            "  self.obj[key] = _infer_fill_value(value)\n",
            "/usr/local/lib/python3.7/dist-packages/pandas/core/indexing.py:1743: SettingWithCopyWarning: \n",
            "A value is trying to be set on a copy of a slice from a DataFrame.\n",
            "Try using .loc[row_indexer,col_indexer] = value instead\n",
            "\n",
            "See the caveats in the documentation: https://pandas.pydata.org/pandas-docs/stable/user_guide/indexing.html#returning-a-view-versus-a-copy\n",
            "  isetter(ilocs[0], value)\n"
          ],
          "name": "stderr"
        }
      ]
    },
    {
      "cell_type": "code",
      "metadata": {
        "colab": {
          "base_uri": "https://localhost:8080/",
          "height": 405
        },
        "id": "KEFh6PCqNMzG",
        "outputId": "93ab074c-b315-49bb-be16-9a20534fc193"
      },
      "source": [
        "df_filtered.head()"
      ],
      "execution_count": null,
      "outputs": [
        {
          "output_type": "execute_result",
          "data": {
            "text/html": [
              "<div>\n",
              "<style scoped>\n",
              "    .dataframe tbody tr th:only-of-type {\n",
              "        vertical-align: middle;\n",
              "    }\n",
              "\n",
              "    .dataframe tbody tr th {\n",
              "        vertical-align: top;\n",
              "    }\n",
              "\n",
              "    .dataframe thead th {\n",
              "        text-align: right;\n",
              "    }\n",
              "</style>\n",
              "<table border=\"1\" class=\"dataframe\">\n",
              "  <thead>\n",
              "    <tr style=\"text-align: right;\">\n",
              "      <th></th>\n",
              "      <th>TI</th>\n",
              "      <th>QUANTITATIVE</th>\n",
              "      <th>Method</th>\n",
              "      <th>JO</th>\n",
              "      <th>AU</th>\n",
              "      <th>PY</th>\n",
              "      <th>DI</th>\n",
              "      <th>urls</th>\n",
              "      <th>filename</th>\n",
              "      <th>methodology</th>\n",
              "      <th>method_id</th>\n",
              "    </tr>\n",
              "  </thead>\n",
              "  <tbody>\n",
              "    <tr>\n",
              "      <th>1</th>\n",
              "      <td>Barcelona's peer-to-peer tourist accommodation...</td>\n",
              "      <td>1</td>\n",
              "      <td>secondary data</td>\n",
              "      <td>IJCHM</td>\n",
              "      <td>Benitez-Aurioles, B</td>\n",
              "      <td>2019</td>\n",
              "      <td>10.1108/IJCHM-01-2019-0090</td>\n",
              "      <td>https://www.emerald.com/insight/content/doi/10...</td>\n",
              "      <td>IJCHM_1.txt</td>\n",
              "      <td>Data\\nThere are no official statistics on the ...</td>\n",
              "      <td>0</td>\n",
              "    </tr>\n",
              "    <tr>\n",
              "      <th>3</th>\n",
              "      <td>Examining work factors after Malaysia's minimu...</td>\n",
              "      <td>1</td>\n",
              "      <td>survey</td>\n",
              "      <td>IJCHM</td>\n",
              "      <td>Ahmat, NHC; Arendt, SW; Russell, DW</td>\n",
              "      <td>2019</td>\n",
              "      <td>10.1108/IJCHM-10-2018-0827</td>\n",
              "      <td>https://www.emerald.com/insight/content/doi/10...</td>\n",
              "      <td>IJCHM_3.txt</td>\n",
              "      <td>Methods\\nParticipants\\nEmployees from operatio...</td>\n",
              "      <td>1</td>\n",
              "    </tr>\n",
              "    <tr>\n",
              "      <th>4</th>\n",
              "      <td>Seeking reward or avoiding risk from restauran...</td>\n",
              "      <td>1</td>\n",
              "      <td>experimental</td>\n",
              "      <td>IJCHM</td>\n",
              "      <td>Kim, EL; Tanford, S</td>\n",
              "      <td>2019</td>\n",
              "      <td>10.1108/IJCHM-03-2018-0235</td>\n",
              "      <td>https://www.emerald.com/insight/content/doi/10...</td>\n",
              "      <td>IJCHM_4.txt</td>\n",
              "      <td>Method\\nDesign\\nParticipants made dining decis...</td>\n",
              "      <td>2</td>\n",
              "    </tr>\n",
              "    <tr>\n",
              "      <th>5</th>\n",
              "      <td>Prices of short-stay accommodation: time serie...</td>\n",
              "      <td>1</td>\n",
              "      <td>secondary data</td>\n",
              "      <td>IJCHM</td>\n",
              "      <td>Gricar, S; Bojnec, S</td>\n",
              "      <td>2019</td>\n",
              "      <td>10.1108/IJCHM-01-2019-0091</td>\n",
              "      <td>https://www.emerald.com/insight/content/doi/10...</td>\n",
              "      <td>IJCHM_5.txt</td>\n",
              "      <td>Empirical setting\\nIn terms of relevant econom...</td>\n",
              "      <td>0</td>\n",
              "    </tr>\n",
              "    <tr>\n",
              "      <th>6</th>\n",
              "      <td>How do online reviewers' cultural traits and p...</td>\n",
              "      <td>1</td>\n",
              "      <td>content analysis</td>\n",
              "      <td>IJCHM</td>\n",
              "      <td>Mariani, M; Predvoditeleva, M</td>\n",
              "      <td>2019</td>\n",
              "      <td>10.1108/IJCHM-11-2018-0927</td>\n",
              "      <td>https://www.emerald.com/insight/content/doi/10...</td>\n",
              "      <td>IJCHM_7.txt</td>\n",
              "      <td>3. Research setting, design and methodology\\n3...</td>\n",
              "      <td>3</td>\n",
              "    </tr>\n",
              "  </tbody>\n",
              "</table>\n",
              "</div>"
            ],
            "text/plain": [
              "                                                  TI  ... method_id\n",
              "1  Barcelona's peer-to-peer tourist accommodation...  ...         0\n",
              "3  Examining work factors after Malaysia's minimu...  ...         1\n",
              "4  Seeking reward or avoiding risk from restauran...  ...         2\n",
              "5  Prices of short-stay accommodation: time serie...  ...         0\n",
              "6  How do online reviewers' cultural traits and p...  ...         3\n",
              "\n",
              "[5 rows x 11 columns]"
            ]
          },
          "metadata": {
            "tags": []
          },
          "execution_count": 22
        }
      ]
    },
    {
      "cell_type": "code",
      "metadata": {
        "colab": {
          "base_uri": "https://localhost:8080/"
        },
        "id": "C3wfJIZwNMvr",
        "outputId": "88db66ac-b4d0-49c0-f435-64e31b1c388e"
      },
      "source": [
        "method_id_df = df_filtered[['Method', 'method_id']].drop_duplicates().sort_values('method_id')\n",
        "method_to_id = dict(method_id_df.values)\n",
        "method_to_id"
      ],
      "execution_count": null,
      "outputs": [
        {
          "output_type": "execute_result",
          "data": {
            "text/plain": [
              "{'content analysis': 3,\n",
              " 'experimental': 2,\n",
              " 'qualitative': 4,\n",
              " 'secondary data': 0,\n",
              " 'survey': 1}"
            ]
          },
          "metadata": {
            "tags": []
          },
          "execution_count": 23
        }
      ]
    },
    {
      "cell_type": "code",
      "metadata": {
        "id": "fwAWCuwCNLP6"
      },
      "source": [
        ""
      ],
      "execution_count": null,
      "outputs": []
    },
    {
      "cell_type": "code",
      "metadata": {
        "colab": {
          "base_uri": "https://localhost:8080/"
        },
        "id": "13RaJV1uPepg",
        "outputId": "62b68cd6-6663-41c6-c564-9d07adf52c83"
      },
      "source": [
        "id_to_method = dict(method_id_df[['method_id', 'Method']].values)\n",
        "id_to_method"
      ],
      "execution_count": null,
      "outputs": [
        {
          "output_type": "execute_result",
          "data": {
            "text/plain": [
              "{0: 'secondary data',\n",
              " 1: 'survey',\n",
              " 2: 'experimental',\n",
              " 3: 'content analysis',\n",
              " 4: 'qualitative'}"
            ]
          },
          "metadata": {
            "tags": []
          },
          "execution_count": 24
        }
      ]
    },
    {
      "cell_type": "markdown",
      "metadata": {
        "id": "7jR2yvNPMcEp"
      },
      "source": [
        "* sublinear_df is set to True to use a logarithmic form for frequency.\n",
        "* min_df is the minimum numbers of documents a word must be present in to be kept.\n",
        "* norm is set to l2, to ensure all our feature vectors have a euclidian norm of 1.\n",
        "* ngram_range is set to (1, 2) to indicate that we want to consider both unigrams and bigrams.\n",
        "* stop_words is set to \"english\" to remove all common pronouns (\"a\", \"the\", ...) to reduce the number of noisy features."
      ]
    },
    {
      "cell_type": "code",
      "metadata": {
        "colab": {
          "base_uri": "https://localhost:8080/"
        },
        "id": "kBC7D73lea5a",
        "outputId": "818ea0a2-0065-4511-b284-5d6cd2e7baff"
      },
      "source": [
        "df_filtered.shape"
      ],
      "execution_count": null,
      "outputs": [
        {
          "output_type": "execute_result",
          "data": {
            "text/plain": [
              "(2663, 11)"
            ]
          },
          "metadata": {
            "tags": []
          },
          "execution_count": 25
        }
      ]
    },
    {
      "cell_type": "code",
      "metadata": {
        "colab": {
          "base_uri": "https://localhost:8080/"
        },
        "id": "2F-53IjDMWUJ",
        "outputId": "c49f94b2-7b04-45fc-ae1a-fbd5e8d55bd1"
      },
      "source": [
        "from sklearn.feature_extraction.text import TfidfVectorizer\n",
        "\n",
        "tfidf = TfidfVectorizer(sublinear_tf=True, min_df=5, norm='l2', encoding='latin-1', ngram_range=(1, 2), stop_words='english',)\n",
        "\n",
        "features = tfidf.fit_transform(df_filtered.methodology).toarray()\n",
        "labels = df_filtered.method_id\n",
        "features.shape"
      ],
      "execution_count": null,
      "outputs": [
        {
          "output_type": "execute_result",
          "data": {
            "text/plain": [
              "(2663, 44705)"
            ]
          },
          "metadata": {
            "tags": []
          },
          "execution_count": 26
        }
      ]
    },
    {
      "cell_type": "markdown",
      "metadata": {
        "id": "ovECLmeBO3uw"
      },
      "source": [
        "Now, each of 2663 methodology sections is represented by 44705 features, representing the tf-idf score for different unigrams and bigrams."
      ]
    },
    {
      "cell_type": "code",
      "metadata": {
        "id": "f0z_SGkfLPMx"
      },
      "source": [
        "from sklearn.model_selection import train_test_split, cross_val_score, KFold, GridSearchCV, RandomizedSearchCV\n",
        "from sklearn.feature_extraction.text import CountVectorizer\n",
        "from sklearn.feature_extraction.text import TfidfTransformer\n",
        "\n",
        "from sklearn.naive_bayes import MultinomialNB\n",
        "from sklearn.linear_model import LogisticRegression, SGDClassifier\n",
        "from sklearn.ensemble import RandomForestClassifier, VotingClassifier, BaggingClassifier\n",
        "from sklearn.svm import LinearSVC\n",
        "from sklearn.tree import DecisionTreeClassifier\n",
        "from lightgbm import LGBMClassifier\n"
      ],
      "execution_count": null,
      "outputs": []
    },
    {
      "cell_type": "code",
      "metadata": {
        "id": "tnuGhWaws6PJ"
      },
      "source": [
        "X = df_filtered['methodology'] # Collection of documents\n",
        "y = df_filtered['Method'] # Target or the labels we want to predict \n",
        "\n",
        "X_train, X_test, y_train, y_test = train_test_split(X, y, \n",
        "                                                    test_size=0.25,\n",
        "                                                    random_state = 0)"
      ],
      "execution_count": null,
      "outputs": []
    },
    {
      "cell_type": "code",
      "metadata": {
        "id": "epDjFVKs4l5D"
      },
      "source": [
        "clf1 = LGBMClassifier()\n",
        "clf2 = LinearSVC(class_weight= 'balanced')\n",
        "clf3 = SGDClassifier(class_weight= 'balanced')"
      ],
      "execution_count": null,
      "outputs": []
    },
    {
      "cell_type": "code",
      "metadata": {
        "id": "GUMRittxLPKD"
      },
      "source": [
        "# models = [\n",
        "#     RandomForestClassifier(n_estimators=100, max_depth=5, random_state=1),\n",
        "#     LinearSVC(class_weight= 'balanced', random_state=1),\n",
        "#     MultinomialNB(),\n",
        "#     LogisticRegression(class_weight= 'balanced', random_state=1),\n",
        "#     SGDClassifier(class_weight= 'balanced', random_state=1),\n",
        "#     DecisionTreeClassifier(random_state=1),\n",
        "#     LGBMClassifier(),\n",
        "#     BaggingClassifier(base_estimator=clf2, n_estimators=10, random_state=0),\n",
        "#     VotingClassifier(estimators=[('lgbm', clf1), ('lrsvc', clf2), ('sdg', clf3)], voting='hard'),\n",
        "# ]\n",
        "\n",
        "# # 5 Cross-validation\n",
        "# CV = 5\n",
        "# cv_df = pd.DataFrame(index=range(CV * len(models)))\n",
        "\n",
        "# entries = []\n",
        "# for model in models:\n",
        "#   model_name = model.__class__.__name__\n",
        "#   accuracies = cross_val_score(model, features, labels, scoring='accuracy', cv=CV)\n",
        "#   for fold_idx, accuracy in enumerate(accuracies):\n",
        "#     entries.append((model_name, fold_idx, accuracy))\n",
        "    \n",
        "# cv_df = pd.DataFrame(entries, columns=['model_name', 'fold_idx', 'accuracy'])\n"
      ],
      "execution_count": null,
      "outputs": []
    },
    {
      "cell_type": "code",
      "metadata": {
        "colab": {
          "base_uri": "https://localhost:8080/"
        },
        "id": "Bm1P7RfqYdkX",
        "outputId": "05a6e833-140a-4f54-c572-c195a9194f4d"
      },
      "source": [
        "# eclf1 = VotingClassifier(estimators=[\n",
        "# ('lr', clf1), ('lrsvc', clf2), ('sdg', clf3)], voting='hard')\n",
        "# cross_val_score(eclf1, features, labels, scoring='accuracy', cv=CV)"
      ],
      "execution_count": null,
      "outputs": [
        {
          "output_type": "execute_result",
          "data": {
            "text/plain": [
              "array([0.91181989, 0.92307692, 0.92682927, 0.89285714, 0.91729323])"
            ]
          },
          "metadata": {
            "tags": []
          },
          "execution_count": 46
        }
      ]
    },
    {
      "cell_type": "code",
      "metadata": {
        "colab": {
          "base_uri": "https://localhost:8080/"
        },
        "id": "_UTegbOFbZtl",
        "outputId": "5ba49db4-a5df-456a-962f-58aea57f069a"
      },
      "source": [
        "# np.mean([0.91181989, 0.92307692, 0.92682927, 0.89285714, 0.91729323])"
      ],
      "execution_count": null,
      "outputs": [
        {
          "output_type": "execute_result",
          "data": {
            "text/plain": [
              "0.9143752900000001"
            ]
          },
          "metadata": {
            "tags": []
          },
          "execution_count": 47
        }
      ]
    },
    {
      "cell_type": "code",
      "metadata": {
        "id": "Y07D_bvbaArt"
      },
      "source": [
        "# bgclf = BaggingClassifier(base_estimator=clf2, n_estimators=10, random_state=0)\n",
        "# cross_val_score(bgclf, features, labels, scoring='accuracy', cv=CV)"
      ],
      "execution_count": null,
      "outputs": []
    },
    {
      "cell_type": "code",
      "metadata": {
        "colab": {
          "base_uri": "https://localhost:8080/"
        },
        "id": "WDOQE4cLbfZO",
        "outputId": "0efb9aae-38ea-424c-ccfc-9a6c76efc99e"
      },
      "source": [
        "# np.mean([0.91932458, 0.91744841, 0.92682927, 0.89661654, 0.91165414])"
      ],
      "execution_count": null,
      "outputs": [
        {
          "output_type": "execute_result",
          "data": {
            "text/plain": [
              "0.9136234139999999"
            ]
          },
          "metadata": {
            "tags": []
          },
          "execution_count": 52
        }
      ]
    },
    {
      "cell_type": "code",
      "metadata": {
        "colab": {
          "base_uri": "https://localhost:8080/"
        },
        "id": "F9h18Jq-e8nW",
        "outputId": "9f4a324b-a70a-45a6-9297-58538791db4c"
      },
      "source": [
        "# from xgboost import XGBClassifier\n",
        "# xgbclf = XGBClassifier()\n",
        "# cross_val_score(xgbclf, features, labels, scoring='accuracy', cv=CV)"
      ],
      "execution_count": null,
      "outputs": [
        {
          "output_type": "execute_result",
          "data": {
            "text/plain": [
              "array([0.93245779, 0.91557223, 0.91181989, 0.88909774, 0.91541353])"
            ]
          },
          "metadata": {
            "tags": []
          },
          "execution_count": 54
        }
      ]
    },
    {
      "cell_type": "code",
      "metadata": {
        "colab": {
          "base_uri": "https://localhost:8080/"
        },
        "id": "CkEOuGkP17Hj",
        "outputId": "c4793429-52d2-446e-f642-467978b4c1a1"
      },
      "source": [
        "# np.mean([0.93245779, 0.91557223, 0.91181989, 0.88909774, 0.91541353])"
      ],
      "execution_count": null,
      "outputs": [
        {
          "output_type": "execute_result",
          "data": {
            "text/plain": [
              "0.9128722359999999"
            ]
          },
          "metadata": {
            "tags": []
          },
          "execution_count": 56
        }
      ]
    },
    {
      "cell_type": "code",
      "metadata": {
        "id": "mhcf1oEYlLeW"
      },
      "source": [
        "# # build the lightgbm model\n",
        "# from lightgbm import LGBMClassifier\n",
        "# lgbclf = LGBMClassifier()\n",
        "# cross_val_score(lgbclf, features, labels, scoring='accuracy', cv=CV)"
      ],
      "execution_count": null,
      "outputs": []
    },
    {
      "cell_type": "code",
      "metadata": {
        "colab": {
          "base_uri": "https://localhost:8080/"
        },
        "id": "h3WF5UZifUbp",
        "outputId": "a0024420-1e4b-47c4-c048-057e7dea5cc4"
      },
      "source": [
        "# np.mean([0.93433396, 0.92870544, 0.90619137, 0.89097744, 0.90413534])"
      ],
      "execution_count": null,
      "outputs": [
        {
          "output_type": "execute_result",
          "data": {
            "text/plain": [
              "0.91286871"
            ]
          },
          "metadata": {
            "tags": []
          },
          "execution_count": 59
        }
      ]
    },
    {
      "cell_type": "code",
      "metadata": {
        "colab": {
          "base_uri": "https://localhost:8080/",
          "height": 357
        },
        "id": "ioR9_iN4pL9p",
        "outputId": "43fc5de4-363e-47e0-d6d3-fd8797715122"
      },
      "source": [
        "# mean_accuracy = cv_df.groupby('model_name').accuracy.mean()\n",
        "# std_accuracy = cv_df.groupby('model_name').accuracy.std()\n",
        "\n",
        "# acc = pd.concat([mean_accuracy, std_accuracy], axis= 1, \n",
        "#           ignore_index=True)\n",
        "# acc.columns = ['Mean Accuracy', 'Standard deviation']\n",
        "# acc.sort_values(\"Mean Accuracy\")"
      ],
      "execution_count": null,
      "outputs": [
        {
          "output_type": "execute_result",
          "data": {
            "text/html": [
              "<div>\n",
              "<style scoped>\n",
              "    .dataframe tbody tr th:only-of-type {\n",
              "        vertical-align: middle;\n",
              "    }\n",
              "\n",
              "    .dataframe tbody tr th {\n",
              "        vertical-align: top;\n",
              "    }\n",
              "\n",
              "    .dataframe thead th {\n",
              "        text-align: right;\n",
              "    }\n",
              "</style>\n",
              "<table border=\"1\" class=\"dataframe\">\n",
              "  <thead>\n",
              "    <tr style=\"text-align: right;\">\n",
              "      <th></th>\n",
              "      <th>Mean Accuracy</th>\n",
              "      <th>Standard deviation</th>\n",
              "    </tr>\n",
              "    <tr>\n",
              "      <th>model_name</th>\n",
              "      <th></th>\n",
              "      <th></th>\n",
              "    </tr>\n",
              "  </thead>\n",
              "  <tbody>\n",
              "    <tr>\n",
              "      <th>RandomForestClassifier</th>\n",
              "      <td>0.666548</td>\n",
              "      <td>0.012917</td>\n",
              "    </tr>\n",
              "    <tr>\n",
              "      <th>MultinomialNB</th>\n",
              "      <td>0.700718</td>\n",
              "      <td>0.010920</td>\n",
              "    </tr>\n",
              "    <tr>\n",
              "      <th>DecisionTreeClassifier</th>\n",
              "      <td>0.833258</td>\n",
              "      <td>0.021138</td>\n",
              "    </tr>\n",
              "    <tr>\n",
              "      <th>LGBMClassifier</th>\n",
              "      <td>0.912869</td>\n",
              "      <td>0.018108</td>\n",
              "    </tr>\n",
              "    <tr>\n",
              "      <th>SGDClassifier</th>\n",
              "      <td>0.913247</td>\n",
              "      <td>0.014996</td>\n",
              "    </tr>\n",
              "    <tr>\n",
              "      <th>BaggingClassifier</th>\n",
              "      <td>0.914375</td>\n",
              "      <td>0.011312</td>\n",
              "    </tr>\n",
              "    <tr>\n",
              "      <th>LinearSVC</th>\n",
              "      <td>0.915126</td>\n",
              "      <td>0.012191</td>\n",
              "    </tr>\n",
              "    <tr>\n",
              "      <th>VotingClassifier</th>\n",
              "      <td>0.915502</td>\n",
              "      <td>0.013407</td>\n",
              "    </tr>\n",
              "    <tr>\n",
              "      <th>LogisticRegression</th>\n",
              "      <td>0.918501</td>\n",
              "      <td>0.016851</td>\n",
              "    </tr>\n",
              "  </tbody>\n",
              "</table>\n",
              "</div>"
            ],
            "text/plain": [
              "                        Mean Accuracy  Standard deviation\n",
              "model_name                                               \n",
              "RandomForestClassifier       0.666548            0.012917\n",
              "MultinomialNB                0.700718            0.010920\n",
              "DecisionTreeClassifier       0.833258            0.021138\n",
              "LGBMClassifier               0.912869            0.018108\n",
              "SGDClassifier                0.913247            0.014996\n",
              "BaggingClassifier            0.914375            0.011312\n",
              "LinearSVC                    0.915126            0.012191\n",
              "VotingClassifier             0.915502            0.013407\n",
              "LogisticRegression           0.918501            0.016851"
            ]
          },
          "metadata": {
            "tags": []
          },
          "execution_count": 67
        }
      ]
    },
    {
      "cell_type": "code",
      "metadata": {
        "colab": {
          "base_uri": "https://localhost:8080/",
          "height": 368
        },
        "id": "8E_UBW3EtTLU",
        "outputId": "9959581f-82f9-40da-8c3b-31d5700afea9"
      },
      "source": [
        "import matplotlib.pyplot as plt\n",
        "import seaborn as sns\n",
        "\n",
        "plt.figure(figsize=(16,5))\n",
        "sns.boxplot(x='model_name', y='accuracy', \n",
        "            data=cv_df, \n",
        "            color='lightblue', \n",
        "            showmeans=True)\n",
        "plt.title(\"MEAN ACCURACY (cv = 5)\\n\", size=14);"
      ],
      "execution_count": null,
      "outputs": [
        {
          "output_type": "display_data",
          "data": {
            "image/png": "[encoded data removed]",
            "text/plain": [
              "<Figure size 1152x360 with 1 Axes>"
            ]
          },
          "metadata": {
            "tags": [],
            "needs_background": "light"
          }
        }
      ]
    },
    {
      "cell_type": "code",
      "metadata": {
        "id": "s7pKVDDIud3b"
      },
      "source": [
        "X_train, X_test, y_train, y_test,indices_train,indices_test = train_test_split(features, \n",
        "                                                               labels, \n",
        "                                                               df_filtered.index, test_size=0.25, \n",
        "                                                               random_state=21)\n",
        "model = LinearSVC(C= 1, class_weight= 'balanced')\n",
        "model.fit(X_train, y_train)\n",
        "y_pred = model.predict(X_test)"
      ],
      "execution_count": null,
      "outputs": []
    },
    {
      "cell_type": "code",
      "metadata": {
        "colab": {
          "base_uri": "https://localhost:8080/"
        },
        "id": "xApD5uyytTE-",
        "outputId": "3c3834da-5ada-4e64-a0fe-b64392e5e54c"
      },
      "source": [
        "from sklearn.metrics import confusion_matrix, classification_report, accuracy_score\n",
        "\n",
        "# Classification report\n",
        "print('\\t\\t\\t\\tCLASSIFICATIION METRICS\\n')\n",
        "print(classification_report(y_test, y_pred, \n",
        "                                    target_names= df_filtered['Method'].unique()))\n",
        "print(\"accuracy score: \", accuracy_score(y_test, y_pred))"
      ],
      "execution_count": null,
      "outputs": [
        {
          "output_type": "stream",
          "text": [
            "\t\t\t\tCLASSIFICATIION METRICS\n",
            "\n",
            "                  precision    recall  f1-score   support\n",
            "\n",
            "  secondary data       0.88      0.90      0.89       136\n",
            "          survey       0.95      0.96      0.96       378\n",
            "    experimental       0.88      0.89      0.89        74\n",
            "content analysis       0.80      0.65      0.71        31\n",
            "     qualitative       0.91      0.85      0.88        47\n",
            "\n",
            "        accuracy                           0.92       666\n",
            "       macro avg       0.88      0.85      0.87       666\n",
            "    weighted avg       0.92      0.92      0.92       666\n",
            "\n",
            "accuracy score:  0.918918918918919\n"
          ],
          "name": "stdout"
        }
      ]
    },
    {
      "cell_type": "code",
      "metadata": {
        "colab": {
          "base_uri": "https://localhost:8080/",
          "height": 532
        },
        "id": "Y2V7NXgntTBs",
        "outputId": "3e5ef6e2-c73a-4763-b75a-fcbd0e8c2454"
      },
      "source": [
        "conf_mat = confusion_matrix(y_test, y_pred)\n",
        "fig, ax = plt.subplots(figsize=(10,8))\n",
        "sns.heatmap(conf_mat, annot=True, cmap=\"Blues\", fmt='d',\n",
        "            xticklabels=method_id_df.Method.values, \n",
        "            yticklabels=method_id_df.Method.values)\n",
        "plt.ylabel('Actual')\n",
        "plt.xlabel('Predicted')\n",
        "plt.title(\"CONFUSION MATRIX - LinearSVC\\n\", size=16);"
      ],
      "execution_count": null,
      "outputs": [
        {
          "output_type": "display_data",
          "data": {
            "image/png": "[encoded data removed]",
            "text/plain": [
              "<Figure size 720x576 with 2 Axes>"
            ]
          },
          "metadata": {
            "tags": [],
            "needs_background": "light"
          }
        }
      ]
    },
    {
      "cell_type": "code",
      "metadata": {
        "colab": {
          "base_uri": "https://localhost:8080/",
          "height": 1000
        },
        "id": "A6rRx6DntS7e",
        "outputId": "690d06b4-c439-4370-eb75-42a2d179c936"
      },
      "source": [
        "from IPython.display import display\n",
        "for predicted in method_id_df.method_id:\n",
        "  for actual in method_id_df.method_id:\n",
        "    if predicted != actual and conf_mat[actual, predicted] >= 5:\n",
        "      print(\"'{}' predicted as '{}' : {} examples.\".format(id_to_method[actual], id_to_method[predicted], conf_mat[actual, predicted]))\n",
        "      display(df_filtered.loc[indices_test[(y_test == actual) & (y_pred == predicted)]][['Method', 'methodology']])\n",
        "      print('')"
      ],
      "execution_count": null,
      "outputs": [
        {
          "output_type": "stream",
          "text": [
            "'survey' predicted as 'secondary data' : 6 examples.\n"
          ],
          "name": "stdout"
        },
        {
          "output_type": "display_data",
          "data": {
            "text/html": [
              "<div>\n",
              "<style scoped>\n",
              "    .dataframe tbody tr th:only-of-type {\n",
              "        vertical-align: middle;\n",
              "    }\n",
              "\n",
              "    .dataframe tbody tr th {\n",
              "        vertical-align: top;\n",
              "    }\n",
              "\n",
              "    .dataframe thead th {\n",
              "        text-align: right;\n",
              "    }\n",
              "</style>\n",
              "<table border=\"1\" class=\"dataframe\">\n",
              "  <thead>\n",
              "    <tr style=\"text-align: right;\">\n",
              "      <th></th>\n",
              "      <th>Method</th>\n",
              "      <th>methodology</th>\n",
              "    </tr>\n",
              "  </thead>\n",
              "  <tbody>\n",
              "    <tr>\n",
              "      <th>2489</th>\n",
              "      <td>survey</td>\n",
              "      <td>Case Study 1\\nWhen Scott Robinson “did the mat...</td>\n",
              "    </tr>\n",
              "    <tr>\n",
              "      <th>2206</th>\n",
              "      <td>survey</td>\n",
              "      <td>3. Methods\\n3.1. Expenditure models\\nAs previo...</td>\n",
              "    </tr>\n",
              "    <tr>\n",
              "      <th>1619</th>\n",
              "      <td>survey</td>\n",
              "      <td>2. Theoretical and empirical models\\n2.1. Theo...</td>\n",
              "    </tr>\n",
              "    <tr>\n",
              "      <th>2472</th>\n",
              "      <td>survey</td>\n",
              "      <td>Method\\nIn this section, we describe our empir...</td>\n",
              "    </tr>\n",
              "    <tr>\n",
              "      <th>1951</th>\n",
              "      <td>survey</td>\n",
              "      <td>3. Materials and methods\\n3.1. Data sources\\nT...</td>\n",
              "    </tr>\n",
              "    <tr>\n",
              "      <th>960</th>\n",
              "      <td>survey</td>\n",
              "      <td>2. Methods\\n2.1. Data\\nA survey on overbooking...</td>\n",
              "    </tr>\n",
              "  </tbody>\n",
              "</table>\n",
              "</div>"
            ],
            "text/plain": [
              "      Method                                        methodology\n",
              "2489  survey  Case Study 1\\nWhen Scott Robinson “did the mat...\n",
              "2206  survey  3. Methods\\n3.1. Expenditure models\\nAs previo...\n",
              "1619  survey  2. Theoretical and empirical models\\n2.1. Theo...\n",
              "2472  survey  Method\\nIn this section, we describe our empir...\n",
              "1951  survey  3. Materials and methods\\n3.1. Data sources\\nT...\n",
              "960   survey  2. Methods\\n2.1. Data\\nA survey on overbooking..."
            ]
          },
          "metadata": {
            "tags": []
          }
        },
        {
          "output_type": "stream",
          "text": [
            "\n",
            "'content analysis' predicted as 'secondary data' : 6 examples.\n"
          ],
          "name": "stdout"
        },
        {
          "output_type": "display_data",
          "data": {
            "text/html": [
              "<div>\n",
              "<style scoped>\n",
              "    .dataframe tbody tr th:only-of-type {\n",
              "        vertical-align: middle;\n",
              "    }\n",
              "\n",
              "    .dataframe tbody tr th {\n",
              "        vertical-align: top;\n",
              "    }\n",
              "\n",
              "    .dataframe thead th {\n",
              "        text-align: right;\n",
              "    }\n",
              "</style>\n",
              "<table border=\"1\" class=\"dataframe\">\n",
              "  <thead>\n",
              "    <tr style=\"text-align: right;\">\n",
              "      <th></th>\n",
              "      <th>Method</th>\n",
              "      <th>methodology</th>\n",
              "    </tr>\n",
              "  </thead>\n",
              "  <tbody>\n",
              "    <tr>\n",
              "      <th>731</th>\n",
              "      <td>content analysis</td>\n",
              "      <td>2. Methodology\\nThe data collection was conduc...</td>\n",
              "    </tr>\n",
              "    <tr>\n",
              "      <th>1006</th>\n",
              "      <td>content analysis</td>\n",
              "      <td>5. Method\\n5.1. Data and sample\\nFig. 1 summar...</td>\n",
              "    </tr>\n",
              "    <tr>\n",
              "      <th>143</th>\n",
              "      <td>content analysis</td>\n",
              "      <td>3. Methodology\\nMonthly data from January 1996...</td>\n",
              "    </tr>\n",
              "    <tr>\n",
              "      <th>1601</th>\n",
              "      <td>content analysis</td>\n",
              "      <td>3. Method\\n3.1. Sample and data collection\\nWi...</td>\n",
              "    </tr>\n",
              "    <tr>\n",
              "      <th>870</th>\n",
              "      <td>content analysis</td>\n",
              "      <td>Methodology\\nICT-related publications in eight...</td>\n",
              "    </tr>\n",
              "    <tr>\n",
              "      <th>1177</th>\n",
              "      <td>content analysis</td>\n",
              "      <td>2. Data and results\\nThe database is composed ...</td>\n",
              "    </tr>\n",
              "  </tbody>\n",
              "</table>\n",
              "</div>"
            ],
            "text/plain": [
              "                Method                                        methodology\n",
              "731   content analysis  2. Methodology\\nThe data collection was conduc...\n",
              "1006  content analysis  5. Method\\n5.1. Data and sample\\nFig. 1 summar...\n",
              "143   content analysis  3. Methodology\\nMonthly data from January 1996...\n",
              "1601  content analysis  3. Method\\n3.1. Sample and data collection\\nWi...\n",
              "870   content analysis  Methodology\\nICT-related publications in eight...\n",
              "1177  content analysis  2. Data and results\\nThe database is composed ..."
            ]
          },
          "metadata": {
            "tags": []
          }
        },
        {
          "output_type": "stream",
          "text": [
            "\n",
            "'secondary data' predicted as 'survey' : 10 examples.\n"
          ],
          "name": "stdout"
        },
        {
          "output_type": "display_data",
          "data": {
            "text/html": [
              "<div>\n",
              "<style scoped>\n",
              "    .dataframe tbody tr th:only-of-type {\n",
              "        vertical-align: middle;\n",
              "    }\n",
              "\n",
              "    .dataframe tbody tr th {\n",
              "        vertical-align: top;\n",
              "    }\n",
              "\n",
              "    .dataframe thead th {\n",
              "        text-align: right;\n",
              "    }\n",
              "</style>\n",
              "<table border=\"1\" class=\"dataframe\">\n",
              "  <thead>\n",
              "    <tr style=\"text-align: right;\">\n",
              "      <th></th>\n",
              "      <th>Method</th>\n",
              "      <th>methodology</th>\n",
              "    </tr>\n",
              "  </thead>\n",
              "  <tbody>\n",
              "    <tr>\n",
              "      <th>425</th>\n",
              "      <td>secondary data</td>\n",
              "      <td>Methodology\\nData collection\\nCouchSurfing.org...</td>\n",
              "    </tr>\n",
              "    <tr>\n",
              "      <th>2381</th>\n",
              "      <td>secondary data</td>\n",
              "      <td>Method\\nData Source\\nThe analysis below utiliz...</td>\n",
              "    </tr>\n",
              "    <tr>\n",
              "      <th>2736</th>\n",
              "      <td>secondary data</td>\n",
              "      <td>Study Method\\nThis study is part of a multipha...</td>\n",
              "    </tr>\n",
              "    <tr>\n",
              "      <th>1648</th>\n",
              "      <td>secondary data</td>\n",
              "      <td>3. Method\\n3.1. Sample\\nThe database was creat...</td>\n",
              "    </tr>\n",
              "    <tr>\n",
              "      <th>1840</th>\n",
              "      <td>secondary data</td>\n",
              "      <td>3. Methodology\\nIn an effort to explore the ap...</td>\n",
              "    </tr>\n",
              "    <tr>\n",
              "      <th>777</th>\n",
              "      <td>secondary data</td>\n",
              "      <td>3. Data\\nTo address the questions raised by th...</td>\n",
              "    </tr>\n",
              "    <tr>\n",
              "      <th>729</th>\n",
              "      <td>secondary data</td>\n",
              "      <td>3. Methodology\\nThe survey of this study was c...</td>\n",
              "    </tr>\n",
              "    <tr>\n",
              "      <th>1688</th>\n",
              "      <td>secondary data</td>\n",
              "      <td>4. Methodology\\n4.1. Research design\\nIn the c...</td>\n",
              "    </tr>\n",
              "    <tr>\n",
              "      <th>196</th>\n",
              "      <td>secondary data</td>\n",
              "      <td>3. Methodology\\nTo test the hypotheses, an emp...</td>\n",
              "    </tr>\n",
              "    <tr>\n",
              "      <th>2955</th>\n",
              "      <td>secondary data</td>\n",
              "      <td>Method\\nThe research context\\nA B&amp;B is defined...</td>\n",
              "    </tr>\n",
              "  </tbody>\n",
              "</table>\n",
              "</div>"
            ],
            "text/plain": [
              "              Method                                        methodology\n",
              "425   secondary data  Methodology\\nData collection\\nCouchSurfing.org...\n",
              "2381  secondary data  Method\\nData Source\\nThe analysis below utiliz...\n",
              "2736  secondary data  Study Method\\nThis study is part of a multipha...\n",
              "1648  secondary data  3. Method\\n3.1. Sample\\nThe database was creat...\n",
              "1840  secondary data  3. Methodology\\nIn an effort to explore the ap...\n",
              "777   secondary data  3. Data\\nTo address the questions raised by th...\n",
              "729   secondary data  3. Methodology\\nThe survey of this study was c...\n",
              "1688  secondary data  4. Methodology\\n4.1. Research design\\nIn the c...\n",
              "196   secondary data  3. Methodology\\nTo test the hypotheses, an emp...\n",
              "2955  secondary data  Method\\nThe research context\\nA B&B is defined..."
            ]
          },
          "metadata": {
            "tags": []
          }
        },
        {
          "output_type": "stream",
          "text": [
            "\n",
            "'qualitative' predicted as 'survey' : 5 examples.\n"
          ],
          "name": "stdout"
        },
        {
          "output_type": "display_data",
          "data": {
            "text/html": [
              "<div>\n",
              "<style scoped>\n",
              "    .dataframe tbody tr th:only-of-type {\n",
              "        vertical-align: middle;\n",
              "    }\n",
              "\n",
              "    .dataframe tbody tr th {\n",
              "        vertical-align: top;\n",
              "    }\n",
              "\n",
              "    .dataframe thead th {\n",
              "        text-align: right;\n",
              "    }\n",
              "</style>\n",
              "<table border=\"1\" class=\"dataframe\">\n",
              "  <thead>\n",
              "    <tr style=\"text-align: right;\">\n",
              "      <th></th>\n",
              "      <th>Method</th>\n",
              "      <th>methodology</th>\n",
              "    </tr>\n",
              "  </thead>\n",
              "  <tbody>\n",
              "    <tr>\n",
              "      <th>2634</th>\n",
              "      <td>qualitative</td>\n",
              "      <td>Method\\nStudy Context\\nThe rural and agricultu...</td>\n",
              "    </tr>\n",
              "    <tr>\n",
              "      <th>1193</th>\n",
              "      <td>qualitative</td>\n",
              "      <td>2. Overview of past empirical research\\nAlthou...</td>\n",
              "    </tr>\n",
              "    <tr>\n",
              "      <th>2365</th>\n",
              "      <td>qualitative</td>\n",
              "      <td>Method\\nSample and Procedures\\nBased on the be...</td>\n",
              "    </tr>\n",
              "    <tr>\n",
              "      <th>685</th>\n",
              "      <td>qualitative</td>\n",
              "      <td>Methods\\nResearch site\\nTo verify the applicab...</td>\n",
              "    </tr>\n",
              "    <tr>\n",
              "      <th>2407</th>\n",
              "      <td>qualitative</td>\n",
              "      <td>Research Approach\\nTo examine and quantify the...</td>\n",
              "    </tr>\n",
              "  </tbody>\n",
              "</table>\n",
              "</div>"
            ],
            "text/plain": [
              "           Method                                        methodology\n",
              "2634  qualitative  Method\\nStudy Context\\nThe rural and agricultu...\n",
              "1193  qualitative  2. Overview of past empirical research\\nAlthou...\n",
              "2365  qualitative  Method\\nSample and Procedures\\nBased on the be...\n",
              "685   qualitative  Methods\\nResearch site\\nTo verify the applicab...\n",
              "2407  qualitative  Research Approach\\nTo examine and quantify the..."
            ]
          },
          "metadata": {
            "tags": []
          }
        },
        {
          "output_type": "stream",
          "text": [
            "\n",
            "'survey' predicted as 'experimental' : 8 examples.\n"
          ],
          "name": "stdout"
        },
        {
          "output_type": "display_data",
          "data": {
            "text/html": [
              "<div>\n",
              "<style scoped>\n",
              "    .dataframe tbody tr th:only-of-type {\n",
              "        vertical-align: middle;\n",
              "    }\n",
              "\n",
              "    .dataframe tbody tr th {\n",
              "        vertical-align: top;\n",
              "    }\n",
              "\n",
              "    .dataframe thead th {\n",
              "        text-align: right;\n",
              "    }\n",
              "</style>\n",
              "<table border=\"1\" class=\"dataframe\">\n",
              "  <thead>\n",
              "    <tr style=\"text-align: right;\">\n",
              "      <th></th>\n",
              "      <th>Method</th>\n",
              "      <th>methodology</th>\n",
              "    </tr>\n",
              "  </thead>\n",
              "  <tbody>\n",
              "    <tr>\n",
              "      <th>2277</th>\n",
              "      <td>survey</td>\n",
              "      <td>Study\\nWe tested our hypotheses using data fro...</td>\n",
              "    </tr>\n",
              "    <tr>\n",
              "      <th>1931</th>\n",
              "      <td>survey</td>\n",
              "      <td>3. Methodology\\n3.1. Participants\\nThe partici...</td>\n",
              "    </tr>\n",
              "    <tr>\n",
              "      <th>664</th>\n",
              "      <td>survey</td>\n",
              "      <td>Empirical study\\nTo examine whether waiting li...</td>\n",
              "    </tr>\n",
              "    <tr>\n",
              "      <th>802</th>\n",
              "      <td>survey</td>\n",
              "      <td>2. Methodology\\nThe dynamics of the research i...</td>\n",
              "    </tr>\n",
              "    <tr>\n",
              "      <th>1970</th>\n",
              "      <td>survey</td>\n",
              "      <td>3. Methodology\\nThe study was conducted during...</td>\n",
              "    </tr>\n",
              "    <tr>\n",
              "      <th>658</th>\n",
              "      <td>survey</td>\n",
              "      <td>Methodology\\nThe first two RQs are addressed u...</td>\n",
              "    </tr>\n",
              "    <tr>\n",
              "      <th>2885</th>\n",
              "      <td>survey</td>\n",
              "      <td>Study 1\\nWe first conducted two pretests to ch...</td>\n",
              "    </tr>\n",
              "    <tr>\n",
              "      <th>1841</th>\n",
              "      <td>survey</td>\n",
              "      <td>3. Methods\\n3.1. Conceptualization\\nThe model ...</td>\n",
              "    </tr>\n",
              "  </tbody>\n",
              "</table>\n",
              "</div>"
            ],
            "text/plain": [
              "      Method                                        methodology\n",
              "2277  survey  Study\\nWe tested our hypotheses using data fro...\n",
              "1931  survey  3. Methodology\\n3.1. Participants\\nThe partici...\n",
              "664   survey  Empirical study\\nTo examine whether waiting li...\n",
              "802   survey  2. Methodology\\nThe dynamics of the research i...\n",
              "1970  survey  3. Methodology\\nThe study was conducted during...\n",
              "658   survey  Methodology\\nThe first two RQs are addressed u...\n",
              "2885  survey  Study 1\\nWe first conducted two pretests to ch...\n",
              "1841  survey  3. Methods\\n3.1. Conceptualization\\nThe model ..."
            ]
          },
          "metadata": {
            "tags": []
          }
        },
        {
          "output_type": "stream",
          "text": [
            "\n"
          ],
          "name": "stdout"
        }
      ]
    },
    {
      "cell_type": "code",
      "metadata": {
        "colab": {
          "base_uri": "https://localhost:8080/",
          "height": 120
        },
        "id": "nowJSq_DtS4M",
        "outputId": "1ce85e3d-52f8-4d5e-e6e2-7ba7e0df49fe"
      },
      "source": [
        "df_filtered.loc[2731][\"methodology\"]"
      ],
      "execution_count": null,
      "outputs": [
        {
          "output_type": "execute_result",
          "data": {
            "application/vnd.google.colaboratory.intrinsic+json": {
              "type": "string"
            },
            "text/plain": [
              "'Method\\nSample and Procedure\\nData consisted of self-reports from members of the top hotel loyalty programs (Hilton Honors, Starwood Preferred Guest, Marriott Rewards, Hyatt Gold Passport, and Accor) posted on flyertalk.com from January to June 2011. This popular interactive website features discussions and chat boards that cover up-to-date travel information for all travelers—from leisure to business. Members of this website have posted nearly one million comments regarding hospitality loyalty programs. The sample included more than 30,000 lines of text and was taken from the most recent post to the oldest post within the time period for each program until saturation was reached. A theoretical sampling method (Glaser & Strauss, 1967) was used to develop an exhaustive set of categories. Theoretical sampling differs from statistical sampling, since the process is iterative and driven by the categories that emerge. It may require different sample sizes to exhaust each category. It is vital to note that this sample consists largely of program members who wish to discuss their experiences openly, and not those who prefer to remain silent. Unlike statistical sampling, the sample is not representative of the entire membership of hotel loyalty programs. Furthermore, the purpose of theoretical sampling is to maximize the potential for discovering or exploring new and emerging concepts (Taylor & Bogdan, 1998; Pace, 2004). Posts from members of all levels of hotel frequent-guest loyalty status were included, from entry level to the highest elite levels.\\nContent analysis was performed to discover emerging themes from the self-reported data. The use of content analysis is supported as “a search for general statements about relationships and underlying themes” (Strauss & Corbin, 1997). Content analysis is considered a useful technique for allowing researchers to discover the focus of individual, group, institutional, or social attention (Weber, 1990). Content analysis has been used successfully to analyze web-based content from travel-related websites (Choi, Lehto, & Morrison, 2007; Wan, 2002), customer reviews (Yang & Peterson, 2004), consumer comments (Qu, Zhang, & Li, 2008), and many other applications. Atlas.ti was used to conduct the analysis.\\nThe content analysis involved three phases: (a) identifying codes within categories, (b) relating codes to one another to identify emergent themes, and (c) constructing a paradigm model of member perspectives of hotel loyalty programs and detecting new constructs and patterns associated with program loyalty. The purpose of Phase 1, or open coding, is to identify salient topics worthy of closer study and explanation. Phase 1 data collection included posts from flyertalk.com specific to members of Hilton Honors, Starwood Preferred Guest, Marriott Rewards, Hyatt Gold Passport, and Accor loyalty programs. When coding the data, an inductive categorization method was used that identified recurring themes that emerged from the self-reports of each loyalty program group (Spiggle, 1994). A priori codes were not used. The initial analysis involved open coding, with one coder identifying and categorizing member opinions of different hotel loyalty programs using a constant comparative method. This phase resulted in an initial list of 230 codes and 1,519 quotations from the five hotel groups. Table 1 summarizes the number of quotes and lines of text analyzed for each brand. Theme, or the expression of an idea, was used as the coding unit (Minichiello, Aroni, Timewell, & Alexander, 1990). Each code represented a single theme or idea relevant to the study, no matter the length of the text. The optimal sample size was determined when the content analysis reached saturation during open coding, that is, no new categories were identified.\\nTable 1 Source of Reward Member Comments\\nTable 1 Source of Reward Member Comments\\nView larger version\\nInterrater reliability was achieved during secondary analysis, where two additional raters who were familiar with the loyalty literature analyzed and recoded the data. Care was taken to ensure that latent content was not disregarded, and the researchers came to a consensus on the emerging categories. The output consists of emerging codes and their categories along with frequency of mention, which is often considered to indicate the importance of each topic. It is important to note, however, that frequency of mention does not necessarily translate to importance or meaning. Relying solely on frequency of mention often ignores context, distinctive individual cases, latent structure of sense, and things not directly apparent in the text (Bernard & Ryan, 1998; Ritsert, 1972). “Researchers must be cautious not to take or claim magnitudes as findings in themselves” (Berg, 2001, p. 243). Furthermore, because many forum members post about the same topic multiple times, the researchers felt it was essential to go beyond automated coding and frequency in order to avoid any misinterpretation of importance.\\nIn Phase 2, axial coding resulted in emergent themes within the seven core categories. Core categories are themes that are composed of statements or ideas from related subcategories. A complete list of core categories and the subcategories within them is provided in Table 2. Frequencies are provided for discrete categories; however, counts are not meaningful for those categories that overlap multiple themes. For example, eWOM and consumer-to-consumer (C2C) communication encompass most of what is posted on the site. Axial coding is the process of relating codes (categories and properties) to each other, through a combination of inductive and deductive thinking. The purpose is to discover causal patterns in the data through examining consequences, conditions, interactions, and processes. Although it is not possible to draw causal conclusions, the analysis allows the researcher infer causal conditions, as well as intervening conditions, as categories around the core phenomenon (Strauss & Corbin, 1997). In Stage 3, the core categories and key subcategories were used to construct a paradigm model, which displays the relationships among them.\\nTable 2 Core Categories and Subcategories\\nTable 2 Core Categories and Subcategories\\nView larger version\\nSeveral measures were taken to ensure that the analysis met appropriate standards for qualitative research. The coding team consisted of four researchers—one with years of experience as a member of flyertalk.com and a member of numerous hotel loyalty programs at various tiers. This supports the need for qualitative research to involve persistent observation and prolonged engagement in the field (Lincoln & Guba, 1985). Verification strategies (Morse, Barrett, Mayan, Olson, & Spiers, 2002) were used to establish reliability and validity of the data. The study had methodological coherence, in that comments were sampled based on their applicability to reward member loyalty. The sample was appropriate, in that it was drawn from a pool of opinionated reward program members. The data were collected and analyzed concurrently using a constant comparative approach. Interpretation was iterative, leading to a theoretically grounded approach.'"
            ]
          },
          "metadata": {
            "tags": []
          },
          "execution_count": 77
        }
      ]
    },
    {
      "cell_type": "code",
      "metadata": {
        "colab": {
          "base_uri": "https://localhost:8080/"
        },
        "id": "LHzsUnmutS1l",
        "outputId": "2a6c8981-2ba9-404a-821a-b216c9214747"
      },
      "source": [
        "model.fit(features, labels)\n",
        "\n",
        "N = 5\n",
        "for Method, method_id in sorted(method_to_id.items()):\n",
        "  indices = np.argsort(model.coef_[method_id])\n",
        "  feature_names = np.array(tfidf.get_feature_names())[indices]\n",
        "  unigrams = [v for v in reversed(feature_names) if len(v.split(' ')) == 1][:N]\n",
        "  bigrams = [v for v in reversed(feature_names) if len(v.split(' ')) == 2][:N]\n",
        "  print(\"\\n==> '{}':\".format(Method))\n",
        "  print(\"  * Top unigrams: %s\" %(', '.join(unigrams)))\n",
        "  print(\"  * Top bigrams: %s\" %(', '.join(bigrams)))"
      ],
      "execution_count": null,
      "outputs": [
        {
          "output_type": "stream",
          "text": [
            "\n",
            "==> 'content analysis':\n",
            "  * Top unigrams: reviews, content, tripadvisor, comments, reviewer\n",
            "  * Top bigrams: content analysis, number reviews, hospitality marketing, text mining, sentiment score\n",
            "\n",
            "==> 'experimental':\n",
            "  * Top unigrams: experiment, experimental, scenario, scenarios, condition\n",
            "  * Top bigrams: experimental design, randomly assigned, study participants, scenario based, vs low\n",
            "\n",
            "==> 'qualitative':\n",
            "  * Top unigrams: interview, interviews, interviewees, qualitative, depth\n",
            "  * Top bigrams: interviews conducted, qualitative research, interview questions, semi structured, interviews recorded\n",
            "\n",
            "==> 'secondary data':\n",
            "  * Top unigrams: period, periods, available, model, function\n",
            "  * Top bigrams: data set, time series, total assets, star rating, dependent variable\n",
            "\n",
            "==> 'survey':\n",
            "  * Top unigrams: survey, items, questionnaire, questionnaires, scale\n",
            "  * Top bigrams: response rate, data collection, likert scale, factor analysis, respondents asked\n"
          ],
          "name": "stdout"
        }
      ]
    },
    {
      "cell_type": "code",
      "metadata": {
        "id": "PCGmEVqutSvN"
      },
      "source": [
        ""
      ],
      "execution_count": null,
      "outputs": []
    },
    {
      "cell_type": "code",
      "metadata": {
        "id": "4QgO7_SC2jxc"
      },
      "source": [
        "fitted_vectorizer = tfidf.fit(df_filtered.methodology)"
      ],
      "execution_count": null,
      "outputs": []
    },
    {
      "cell_type": "code",
      "metadata": {
        "id": "HscyLVUp3f9V"
      },
      "source": [
        "n=-6"
      ],
      "execution_count": null,
      "outputs": []
    },
    {
      "cell_type": "code",
      "metadata": {
        "colab": {
          "base_uri": "https://localhost:8080/",
          "height": 120
        },
        "id": "_YBGiyMT1_di",
        "outputId": "bdb91442-b262-4309-84d9-fb94f27c063e"
      },
      "source": [
        "txt =df_filtered.methodology.iloc[n]\n",
        "txt"
      ],
      "execution_count": null,
      "outputs": [
        {
          "output_type": "execute_result",
          "data": {
            "application/vnd.google.colaboratory.intrinsic+json": {
              "type": "string"
            },
            "text/plain": [
              "'\\nMETHODOLOGY AND ANALYSIS\\nModel Specification and Data Source\\nThis study is based on the small island of Mauritius for the period 1979 to 2010. The economic model used pertains to an estimation of a demand function for international tourism, augmented in the present case by a proxy for tourism promotion and is consistent with the general literature (see Witt & Witt, 1995; Lim, 1997; Nordstom, 2002; Eilat & Eilav, 2004, Naude & Saayman, 2004) and particularly with that used by Khadaroo and Seetanah (2007) for the case of island economies. Thus, the function specified is as follows:\\n(1)\\n\\nThe dependent variable TR1 (tourist arrivals per annum) is the measure of the demand for tourism to Mauritius and was obtained from the national Central Statistical Office.\\n\\nBased on existing literature, total tourism expenditures and relative tourism prices are among the crucial factors in the tourism demand equation. Following the literature (see Nordstom, 2002 and Naude & Saayman, 2004, in particular), we used real gross domestic product (GDP) per capita in countries of origin (weighted average) as a proxy for total expenditures on tourism. It is undeniable that overseas recreational travel is expensive (often regarded as a luxury good) and the discretionary income of origin becomes particularly important. As it regards relative prices (RELATIVE), following Eilat and Einav (2004) and Naude and Saayman (2004), we used, as a proxy for relative tourism prices, the consumer price index (CPI) of the destination country adjusted for by the USD exchange rate. It is noteworthy that such a measure of relative prices captures not only changes in the real exchange rate over time, but also the cross-sectional variations in the cost of travel. It is expected that tourism demand in a particular destination is expected to be negatively linked with relative tourism prices based on the logic that a relatively higher cost of living in the recipient country would make most tourists less enthusiastic about such a potential destination.\\n\\nUrbanization and development level of a destination country is an important factor in tourists’ decisions, especially from developed countries. One can argue that tourists would expect a minimum level of comfort and degree of sophistication during their visit to the recipient country. The income of the destination country is used to proxy the above. The three variables discussed above were obtained from the Penn World Table 6.1 (http://www.rug.nl/research/ggdc/data/penn-world-table).\\n\\nAs regards tourism infrastructure, we follow the standard literature and use hotel rooms (ROOM) available in the country as a measure of the capacity of the tourism sector. A greater number of rooms would result in enhanced capacity and greater competitive level of the tourism sector. Moreover, Naude and Saayman (2004) posited that a critical number of hotels and rooms are needed for airlines to operate regular flights to a destination. Data on the number of rooms were again obtained from the Central Statistical Office of the country.\\n\\nOur model also includes air liberalization (AIRLIB) since it has been an important element in our tourism success given our remoteness from the major tourist markets. Theoretically, liberalization of air transport is likely to result in an expansion in a destination’s airline capacity and competition with increases in air services between the destination and its major markets. Market access is also enhanced and air access liberalization can potentially derestrict routes and bring more competition in some or all of the markets in addition to the abolishment or ease of price controls. Ultimately, enhanced competition and efficiency may be the result implying reduction in air fares. The benefits would translate into more tourist arrivals to the destination. It is noteworthy that Mauritius has embarked on a policy to liberalize its air access since the 1970s and has signed approximately 30 bilateral air service agreements since that date. To measure such liberalization, the only consistent measure available is the number of bilateral air service agreements (BASA) signed by the Mauritian government with other countries and such data was made available by the Ministry of External Communications.\\n\\nThe explanatory variable of interest to us in the present case is tourism promotion effort (PROMO) and this is usually measured by tourism promotional expenditure (see Clarke, 1981; Uysal & Crompton, 1984) allocated to the MTPA by the government. It is to be noted that the promotion and marketing of tourism in Mauritius is done almost exclusively by the country’s central government. The figures used in this study were provided by the Central Statistical Office, by the Tourism Department of the island and were also extracted from the Accountant General Annual Reports.\\n\\nEconometric Modeling\\nThe regression specification of Equation 1 can be written as:\\n(2)\\n\\nThe specification is a log linear one and the small letters denotes the natural logarithm of the variables. Such transformation allows us to readily compare the coefficient in terms of percentage change.\\n\\nTests of Stationarity\\nUsing the Augmented Dickey-Fuller (1979) and Phillips-Perron (Phillips & Perron, 1988) unit-roots tests, we could conclude that the data series were nonstationary in levels but stationary after differencing the data once, except for the case of PROMO and AIRLIB which were found to be stationary in Level I(0).\\n\\nAutoregressive Distributed Lag Model (ARDL)\\nIn the presence of both I(1) and I(0) variables, the testing and estimation procedure advanced in Pesaran, Shin, and Smith (1996) and Pesaran and Shin (1999), namely the ARDL approach, is preferred for the examination of the existence of a long-term relationship. The approach also allows us to incorporate some dynamics in the analysis.\\n\\nWith reference to our model specification, the error correction versions of the ARDL model in the variables TR, GDPH, GDPF, AIRLIB, ROOM, RELATIVE, and PROMO are given respectively by\\n(3)\\n\\nThe lag length was chosen using the final prediction error due to Schwartz Bayesian criterion. With reference to our specified model, the hypothesis that is being tested is the null hypothesis, which is the nonexistence of the long run relationship defined by:\\n\\n\\nAnd the alternative hypothesis is:\\n\\n\\nThe recommended statistic is the F statistics for the joint significance of δ1, δ2, δ3, δ4, δ5 δ6 and δ7. In fact, as per Pesaran et al. (1996) and Pesaran and Shin (1999), the computation of the F statistic requires running the following regression model,\\n(4)\\nand a variable addition test is subsequently made by including the following:\\n\\n\\nThe results demonstrate that the F-statistics F(tr/gdph, gdpf, airlib, room, relative, promo) is 6.21, exceeding the upper bound of the critical value band) as presented by Pesaran et al. (1996). The null hypothesis of a no long run relationship between the variables irrespective of their order is accordingly rejected and the test results confirm the existence of a long run relationship between the variable.\\n'"
            ]
          },
          "metadata": {
            "tags": []
          },
          "execution_count": 81
        }
      ]
    },
    {
      "cell_type": "code",
      "metadata": {
        "colab": {
          "base_uri": "https://localhost:8080/",
          "height": 35
        },
        "id": "twAl-_sd3jYY",
        "outputId": "6cb566b4-5e65-4f31-f3ab-32e55fcf0b03"
      },
      "source": [
        "df_filtered.Method.iloc[n]"
      ],
      "execution_count": null,
      "outputs": [
        {
          "output_type": "execute_result",
          "data": {
            "application/vnd.google.colaboratory.intrinsic+json": {
              "type": "string"
            },
            "text/plain": [
              "'secondary data'"
            ]
          },
          "metadata": {
            "tags": []
          },
          "execution_count": 82
        }
      ]
    },
    {
      "cell_type": "code",
      "metadata": {
        "colab": {
          "base_uri": "https://localhost:8080/"
        },
        "id": "nLf7nqNltSr8",
        "outputId": "6e790f8d-10d2-4001-a4da-a7f4a97bcd6d"
      },
      "source": [
        "print(model.predict(fitted_vectorizer.transform([txt])))"
      ],
      "execution_count": null,
      "outputs": [
        {
          "output_type": "stream",
          "text": [
            "[0]\n"
          ],
          "name": "stdout"
        }
      ]
    },
    {
      "cell_type": "code",
      "metadata": {
        "colab": {
          "base_uri": "https://localhost:8080/"
        },
        "id": "9eI0LtiJy8QC",
        "outputId": "69512d9f-5131-4aab-e90c-c14250a5500b"
      },
      "source": [
        "id_to_method"
      ],
      "execution_count": null,
      "outputs": [
        {
          "output_type": "execute_result",
          "data": {
            "text/plain": [
              "{0: 'secondary data',\n",
              " 1: 'survey',\n",
              " 2: 'experimental',\n",
              " 3: 'content analysis',\n",
              " 4: 'qualitative'}"
            ]
          },
          "metadata": {
            "tags": []
          },
          "execution_count": 84
        }
      ]
    },
    {
      "cell_type": "code",
      "metadata": {
        "id": "WMPlXlxNy8KT"
      },
      "source": [
        "text=\"\"\"\n",
        "RESEARCH METHOD\n",
        "Data Collection and Sample Description\n",
        "The data were provided by Außenwirtschaft Österreich,\n",
        "a branch of the Austrian Chamber of Commerce that\n",
        "supports export efforts, and consisted of 194 exporting\n",
        "firms that had completed an online questionnaire; the\n",
        "respondents were all senior executives (e.g., chief executive\n",
        "officers, export directors, export department heads)\n",
        "with direct responsibility for export decisions. We\n",
        "excluded 21 firms because of poorly completed questionnaires,\n",
        "resulting in 173 fully usable responses. Of\n",
        "the responding companies, 80% were independent companies\n",
        "(either privately owned or public limited companies),\n",
        "and 12% were part of a global company; the rest\n",
        "had other corporate structures. Half the companies were\n",
        "founded in the preceding 20 years, and their export\n",
        "experience ranged from 1 to 125 years, with a median\n",
        "of 12 (M = 20, SD = 21) years. On average, the firms\n",
        "had 191 full-time employees (range from 1 to 7,800).\n",
        "Almost all (95%) exported to the European Union, 64%\n",
        "to other European countries, 38% to Asia, 36% to\n",
        "Africa and/or the Middle East, 29% to North America,\n",
        "20% to South or Central America, and 19% to Australia\n",
        "and/or New Zealand. Half the companies\n",
        "exported to 10 countries or fewer (M = 20, SD = 25),\n",
        "and the average export dependence (i.e., export-to-total\n",
        "sales ratio) was 53% (SD = 33%).\n",
        "To judge the representativeness of our sample, we compared\n",
        "it with official statistical data on exporting.\n",
        "According to Statistik Austria, the national statistics\n",
        "office, 43% of all Austrian exporters sell to a single\n",
        "country only; however, the volume of exports accounted\n",
        "for by this group is only 2% (Hodel 2004, 2012). This\n",
        "group is of little relevance for the current study because\n",
        "firms with a single export destination are unlikely to\n",
        "engage in systematic segmentation activities (or to participate\n",
        "in a study on export segmentation). This is\n",
        "indeed reflected in the composition of our sample: only\n",
        "2% of the respondent firms export to a single country\n",
        "only. The majority of our respondents export to\n",
        "between 2 and 19 countries (66%) and the rest (32%)\n",
        "to 20+ countries. The corresponding groups in the\n",
        "population are 52% and 6% and account for 30% and\n",
        "68% of all exports, respectively (Hodel 2012). Thus,\n",
        "our sample seems well representative of the Austrian\n",
        "companies that are responsible for the bulk of the country’s\n",
        "export activity and for which export segmentation\n",
        "is likely to be important, considering the large number\n",
        "of export markets served.4\n",
        "Construct Measurement\n",
        "Table 2 lists the measurements of all constructs in our\n",
        "model, together with relevant psychometric information.\n",
        "We measured firm size by the log-transformed number of\n",
        "employees (Erramilli 1991), export experience by the\n",
        "years a firm has been exporting (Winklhofer and Diamantopoulos\n",
        "2002), export dependence as the exportto-\n",
        "total sales ratio (Diamantopoulos and Inglis 1988;\n",
        "Katsikeas 1994), export diversity by the number of\n",
        "countries to which a firm exports (Dhanaraj and\n",
        "Beamish 2003),5 and export market turbulence according\n",
        "to Jaworski and Kohli’s (1993) well-established\n",
        "scale.\n",
        "For export segmentation commitment, we developed\n",
        "our own five-item scale, which captured managers’ attitudes\n",
        "and behavior toward the market segmentation\n",
        "process. For export segmentation strategy, we itemized\n",
        "the three strategic options and asked respondents to\n",
        "specify their agreement with each option. This approach\n",
        "acknowledges that the fit of the strategy with its context\n",
        "is critical (Hultman, Robson, and Katsikeas 2009). We\n",
        "specified segmentation bases as the number of distinct\n",
        "segmentation variables the firm used (based on a checklist\n",
        "of 21 criteria for segmenting business-to-consumer\n",
        "markets and 14 criteria for segmenting business-tobusiness\n",
        "markets).\n",
        "For export segmentation effectiveness, we adapted the\n",
        "basic four-dimensional structure developed by Foedermayr\n",
        "and colleagues (Foedermayr and Diamantopoulos\n",
        "2008a; Foedermayr, Diamantopoulos, and Sichtmann\n",
        "2009), which consisted of targeting performance, positioning\n",
        "performance, adaptability to change, and cost\n",
        "reduction.6 Originally, the dimensions were operationalized\n",
        "with formative indicators; however, the majority of\n",
        "items under each dimension in the original model seem\n",
        "to share a common cause, which suggests that reflective\n",
        "measurement is more appropriate. The psychometric\n",
        "properties shown in Table 2 strongly support this measurement\n",
        "respecification.\n",
        "For strategic export performance and financial export\n",
        "performance, we adapted items from Zou and Cavusgil\n",
        "(2002) and Zou, Taylor, and Osland (1998). The indicators\n",
        "for strategic export performance are export market\n",
        "share and rate of new market entry, and export financial\n",
        "performance consists of export sales, export profits, and\n",
        "export growth. Customer satisfaction comprises three\n",
        "items about offerings, how consumers are treated, and\n",
        "how their complaints have been handled. Consistent\n",
        "with other investigations of export performance (e.g.,\n",
        "Hooley et al. 2005; Hultman, Robson, and Katsikeas\n",
        "2009; Morgan, Kaleka, and Katsikeas 2004), we relied\n",
        "on self-reported measures.\n",
        "\n",
        "\"\"\""
      ],
      "execution_count": null,
      "outputs": []
    },
    {
      "cell_type": "code",
      "metadata": {
        "colab": {
          "base_uri": "https://localhost:8080/"
        },
        "id": "j4FHxlsaTSdl",
        "outputId": "f4d9ed35-3d22-4b22-c0cf-c39a469fc117"
      },
      "source": [
        "print(model.predict(fitted_vectorizer.transform([text])))"
      ],
      "execution_count": null,
      "outputs": [
        {
          "output_type": "stream",
          "text": [
            "[1]\n"
          ],
          "name": "stdout"
        }
      ]
    },
    {
      "cell_type": "code",
      "metadata": {
        "id": "QvB2rFwpTW-j"
      },
      "source": [
        ""
      ],
      "execution_count": null,
      "outputs": []
    }
  ]
}